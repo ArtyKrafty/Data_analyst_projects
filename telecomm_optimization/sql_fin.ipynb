{
  "cells": [
    {
      "cell_type": "markdown",
      "metadata": {
        "toc": true,
        "id": "tXEus6uhi-9X"
      },
      "source": [
        "<h1>Содержание<span class=\"tocSkip\"></span></h1>\n",
        "<div class=\"toc\"><ul class=\"toc-item\"><li><span><a href=\"#Контекст\" data-toc-modified-id=\"Контекст-1\"><span class=\"toc-item-num\">1&nbsp;&nbsp;</span>Контекст</a></span></li><li><span><a href=\"#Импорт-библиотек\" data-toc-modified-id=\"Импорт-библиотек-2\"><span class=\"toc-item-num\">2&nbsp;&nbsp;</span>Импорт библиотек</a></span></li><li><span><a href=\"#Загрузка-данных-и-осмотр\" data-toc-modified-id=\"Загрузка-данных-и-осмотр-3\"><span class=\"toc-item-num\">3&nbsp;&nbsp;</span>Загрузка данных и осмотр</a></span></li><li><span><a href=\"#Анализ-данных\" data-toc-modified-id=\"Анализ-данных-4\"><span class=\"toc-item-num\">4&nbsp;&nbsp;</span>Анализ данных</a></span></li><li><span><a href=\"#Выводы\" data-toc-modified-id=\"Выводы-5\"><span class=\"toc-item-num\">5&nbsp;&nbsp;</span>Выводы</a></span></li></ul></div>"
      ]
    },
    {
      "cell_type": "markdown",
      "metadata": {
        "id": "ItbiRKmlM9EE"
      },
      "source": [
        "<footer id=\"footer\"></footer>"
      ]
    },
    {
      "cell_type": "markdown",
      "metadata": {
        "id": "uKoTUFAnMwx1"
      },
      "source": [
        "<h1 align='center'>SQL</h1>\n",
        "<p align=\"center\"><img src=\"https://i.ibb.co/c8Chgrz/SQL-Structured-Query-Language.jpg\"></p>\n"
      ]
    },
    {
      "cell_type": "markdown",
      "metadata": {
        "id": "aR65qk5aKj9S"
      },
      "source": [
        "## Контекст"
      ]
    },
    {
      "cell_type": "markdown",
      "metadata": {
        "id": "1gm5L_KUJhcd"
      },
      "source": [
        "Коронавирус застал мир врасплох, изменив привычный порядок вещей. В свободное время жители городов больше не выходят на улицу, не посещают кафе и торговые центры. Зато стало больше времени для книг. Это заметили стартаперы — и бросились создавать приложения для тех, кто любит читать.\n",
        "\n",
        "Наша задача как аналитика — проанализировать базу данных.\n",
        "В ней — информация о книгах, издательствах, авторах, а также пользовательские обзоры книг. Эти данные помогут сформулировать ценностное предложение для нового продукта."
      ]
    },
    {
      "cell_type": "markdown",
      "metadata": {
        "id": "yCXw2a1_OCmV"
      },
      "source": [
        "<div style=\"float:left;margin:0 10px 10px 0\" markdown=\"1\">\n",
        "    <a href=\"#footer\"><img src='https://img.shields.io/badge/К содержанию-&#x21A9-blue'></a>\n",
        "</div>\n",
        "\n",
        "___\n"
      ]
    },
    {
      "cell_type": "markdown",
      "metadata": {
        "id": "car2Kk6uPMrr"
      },
      "source": [
        "## Импорт библиотек"
      ]
    },
    {
      "cell_type": "code",
      "execution_count": null,
      "metadata": {
        "id": "00N8v1-fO-HY"
      },
      "outputs": [],
      "source": [
        "import pandas as pd\n",
        "import seaborn as sns\n",
        "import warnings\n",
        "import numpy as np\n",
        "from sqlalchemy import create_engine \n",
        "\n",
        "sns.set_style('darkgrid')\n",
        "warnings.filterwarnings(\"ignore\")\n",
        "pd.set_option('chained_assignment', None)\n",
        "np.random.seed(42)"
      ]
    },
    {
      "cell_type": "markdown",
      "metadata": {
        "id": "zejUmoZxi-9b"
      },
      "source": [
        "Создадим подключение к `БД`:"
      ]
    },
    {
      "cell_type": "code",
      "execution_count": null,
      "metadata": {
        "id": "CF6rv-T3i-9b"
      },
      "outputs": [],
      "source": [
        "db_config = {'user': 'praktikum_student', \n",
        "            'pwd': 'Sdf4$2;d-d30pp', \n",
        "            'host': 'rc1b-wcoijxj3yxfsf3fs.mdb.yandexcloud.net',\n",
        "            'port': 6432, \n",
        "            'db': 'data-analyst-final-project-db'} \n",
        "\n",
        "\n",
        "connection_string = 'postgresql://{}:{}@{}:{}/{}'.format(db_config['user'],\n",
        "                                                db_config['pwd'],\n",
        "                                                db_config['host'],\n",
        "                                                db_config['port'],\n",
        "                                                db_config['db'])\n",
        "\n",
        "engine = create_engine(connection_string) "
      ]
    },
    {
      "cell_type": "code",
      "execution_count": null,
      "metadata": {
        "id": "qm8Neqv-i-9c"
      },
      "outputs": [],
      "source": [
        "def select_sql(sql):\n",
        "    \"\"\"вспомогательная функция для запросов\"\"\"\n",
        "    return pd.io.sql.read_sql(sql, con = engine)"
      ]
    },
    {
      "cell_type": "markdown",
      "metadata": {
        "id": "sZhVjZ3hi-9c"
      },
      "source": [
        "<div style=\"float:left;margin:0 10px 10px 0\" markdown=\"1\">\n",
        "    <a href=\"#footer\"><img src='https://img.shields.io/badge/К содержанию-&#x21A9-blue'></a>\n",
        "</div>\n",
        "\n",
        "___\n"
      ]
    },
    {
      "cell_type": "markdown",
      "metadata": {
        "id": "zLFT7K-si-9d"
      },
      "source": [
        "## Загрузка данных и осмотр"
      ]
    },
    {
      "cell_type": "markdown",
      "metadata": {
        "id": "SsY1Pq3Ni-9d"
      },
      "source": [
        "Посмотрим данные и ознакомимся с атрибутивным составом"
      ]
    },
    {
      "cell_type": "code",
      "execution_count": null,
      "metadata": {
        "id": "OmaO2EF1i-9d"
      },
      "outputs": [],
      "source": [
        "sql = '''SELECT *\n",
        "FROM   books t\n",
        "LIMIT  5 '''"
      ]
    },
    {
      "cell_type": "code",
      "execution_count": null,
      "metadata": {
        "id": "EkzxIbMyi-9e",
        "outputId": "c7f1c7c6-2749-4f5b-fbed-b502720a7f2d"
      },
      "outputs": [
        {
          "data": {
            "text/html": [
              "<div>\n",
              "<style scoped>\n",
              "    .dataframe tbody tr th:only-of-type {\n",
              "        vertical-align: middle;\n",
              "    }\n",
              "\n",
              "    .dataframe tbody tr th {\n",
              "        vertical-align: top;\n",
              "    }\n",
              "\n",
              "    .dataframe thead th {\n",
              "        text-align: right;\n",
              "    }\n",
              "</style>\n",
              "<table border=\"1\" class=\"dataframe\">\n",
              "  <thead>\n",
              "    <tr style=\"text-align: right;\">\n",
              "      <th></th>\n",
              "      <th>book_id</th>\n",
              "      <th>author_id</th>\n",
              "      <th>title</th>\n",
              "      <th>num_pages</th>\n",
              "      <th>publication_date</th>\n",
              "      <th>publisher_id</th>\n",
              "    </tr>\n",
              "  </thead>\n",
              "  <tbody>\n",
              "    <tr>\n",
              "      <td>0</td>\n",
              "      <td>1</td>\n",
              "      <td>546</td>\n",
              "      <td>'Salem's Lot</td>\n",
              "      <td>594</td>\n",
              "      <td>2005-11-01</td>\n",
              "      <td>93</td>\n",
              "    </tr>\n",
              "    <tr>\n",
              "      <td>1</td>\n",
              "      <td>2</td>\n",
              "      <td>465</td>\n",
              "      <td>1 000 Places to See Before You Die</td>\n",
              "      <td>992</td>\n",
              "      <td>2003-05-22</td>\n",
              "      <td>336</td>\n",
              "    </tr>\n",
              "    <tr>\n",
              "      <td>2</td>\n",
              "      <td>3</td>\n",
              "      <td>407</td>\n",
              "      <td>13 Little Blue Envelopes (Little Blue Envelope...</td>\n",
              "      <td>322</td>\n",
              "      <td>2010-12-21</td>\n",
              "      <td>135</td>\n",
              "    </tr>\n",
              "    <tr>\n",
              "      <td>3</td>\n",
              "      <td>4</td>\n",
              "      <td>82</td>\n",
              "      <td>1491: New Revelations of the Americas Before C...</td>\n",
              "      <td>541</td>\n",
              "      <td>2006-10-10</td>\n",
              "      <td>309</td>\n",
              "    </tr>\n",
              "    <tr>\n",
              "      <td>4</td>\n",
              "      <td>5</td>\n",
              "      <td>125</td>\n",
              "      <td>1776</td>\n",
              "      <td>386</td>\n",
              "      <td>2006-07-04</td>\n",
              "      <td>268</td>\n",
              "    </tr>\n",
              "  </tbody>\n",
              "</table>\n",
              "</div>"
            ],
            "text/plain": [
              "   book_id  author_id                                              title  \\\n",
              "0        1        546                                       'Salem's Lot   \n",
              "1        2        465                 1 000 Places to See Before You Die   \n",
              "2        3        407  13 Little Blue Envelopes (Little Blue Envelope...   \n",
              "3        4         82  1491: New Revelations of the Americas Before C...   \n",
              "4        5        125                                               1776   \n",
              "\n",
              "   num_pages publication_date  publisher_id  \n",
              "0        594       2005-11-01            93  \n",
              "1        992       2003-05-22           336  \n",
              "2        322       2010-12-21           135  \n",
              "3        541       2006-10-10           309  \n",
              "4        386       2006-07-04           268  "
            ]
          },
          "execution_count": 5,
          "metadata": {},
          "output_type": "execute_result"
        }
      ],
      "source": [
        "select_sql(sql)"
      ]
    },
    {
      "cell_type": "code",
      "execution_count": null,
      "metadata": {
        "id": "fERwKH53i-9e"
      },
      "outputs": [],
      "source": [
        "sql = '''SELECT *\n",
        "FROM   authors t\n",
        "LIMIT  5 '''"
      ]
    },
    {
      "cell_type": "code",
      "execution_count": null,
      "metadata": {
        "id": "LNp1027ji-9f",
        "outputId": "ca409fcc-d76b-489e-fe1a-e458c8eaf93f"
      },
      "outputs": [
        {
          "data": {
            "text/html": [
              "<div>\n",
              "<style scoped>\n",
              "    .dataframe tbody tr th:only-of-type {\n",
              "        vertical-align: middle;\n",
              "    }\n",
              "\n",
              "    .dataframe tbody tr th {\n",
              "        vertical-align: top;\n",
              "    }\n",
              "\n",
              "    .dataframe thead th {\n",
              "        text-align: right;\n",
              "    }\n",
              "</style>\n",
              "<table border=\"1\" class=\"dataframe\">\n",
              "  <thead>\n",
              "    <tr style=\"text-align: right;\">\n",
              "      <th></th>\n",
              "      <th>author_id</th>\n",
              "      <th>author</th>\n",
              "    </tr>\n",
              "  </thead>\n",
              "  <tbody>\n",
              "    <tr>\n",
              "      <td>0</td>\n",
              "      <td>1</td>\n",
              "      <td>A.S. Byatt</td>\n",
              "    </tr>\n",
              "    <tr>\n",
              "      <td>1</td>\n",
              "      <td>2</td>\n",
              "      <td>Aesop/Laura Harris/Laura Gibbs</td>\n",
              "    </tr>\n",
              "    <tr>\n",
              "      <td>2</td>\n",
              "      <td>3</td>\n",
              "      <td>Agatha Christie</td>\n",
              "    </tr>\n",
              "    <tr>\n",
              "      <td>3</td>\n",
              "      <td>4</td>\n",
              "      <td>Alan Brennert</td>\n",
              "    </tr>\n",
              "    <tr>\n",
              "      <td>4</td>\n",
              "      <td>5</td>\n",
              "      <td>Alan Moore/David   Lloyd</td>\n",
              "    </tr>\n",
              "  </tbody>\n",
              "</table>\n",
              "</div>"
            ],
            "text/plain": [
              "   author_id                          author\n",
              "0          1                      A.S. Byatt\n",
              "1          2  Aesop/Laura Harris/Laura Gibbs\n",
              "2          3                 Agatha Christie\n",
              "3          4                   Alan Brennert\n",
              "4          5        Alan Moore/David   Lloyd"
            ]
          },
          "execution_count": 7,
          "metadata": {},
          "output_type": "execute_result"
        }
      ],
      "source": [
        "select_sql(sql)"
      ]
    },
    {
      "cell_type": "code",
      "execution_count": null,
      "metadata": {
        "id": "vT5ay-bdi-9f"
      },
      "outputs": [],
      "source": [
        "sql = '''SELECT *\n",
        "FROM   publishers t\n",
        "LIMIT  5 '''"
      ]
    },
    {
      "cell_type": "code",
      "execution_count": null,
      "metadata": {
        "id": "egkJxeVei-9f",
        "outputId": "9b983eb7-741e-4ef0-ac47-819788755aa8"
      },
      "outputs": [
        {
          "data": {
            "text/html": [
              "<div>\n",
              "<style scoped>\n",
              "    .dataframe tbody tr th:only-of-type {\n",
              "        vertical-align: middle;\n",
              "    }\n",
              "\n",
              "    .dataframe tbody tr th {\n",
              "        vertical-align: top;\n",
              "    }\n",
              "\n",
              "    .dataframe thead th {\n",
              "        text-align: right;\n",
              "    }\n",
              "</style>\n",
              "<table border=\"1\" class=\"dataframe\">\n",
              "  <thead>\n",
              "    <tr style=\"text-align: right;\">\n",
              "      <th></th>\n",
              "      <th>publisher_id</th>\n",
              "      <th>publisher</th>\n",
              "    </tr>\n",
              "  </thead>\n",
              "  <tbody>\n",
              "    <tr>\n",
              "      <td>0</td>\n",
              "      <td>1</td>\n",
              "      <td>Ace</td>\n",
              "    </tr>\n",
              "    <tr>\n",
              "      <td>1</td>\n",
              "      <td>2</td>\n",
              "      <td>Ace Book</td>\n",
              "    </tr>\n",
              "    <tr>\n",
              "      <td>2</td>\n",
              "      <td>3</td>\n",
              "      <td>Ace Books</td>\n",
              "    </tr>\n",
              "    <tr>\n",
              "      <td>3</td>\n",
              "      <td>4</td>\n",
              "      <td>Ace Hardcover</td>\n",
              "    </tr>\n",
              "    <tr>\n",
              "      <td>4</td>\n",
              "      <td>5</td>\n",
              "      <td>Addison Wesley Publishing Company</td>\n",
              "    </tr>\n",
              "  </tbody>\n",
              "</table>\n",
              "</div>"
            ],
            "text/plain": [
              "   publisher_id                          publisher\n",
              "0             1                                Ace\n",
              "1             2                           Ace Book\n",
              "2             3                          Ace Books\n",
              "3             4                      Ace Hardcover\n",
              "4             5  Addison Wesley Publishing Company"
            ]
          },
          "execution_count": 9,
          "metadata": {},
          "output_type": "execute_result"
        }
      ],
      "source": [
        "select_sql(sql)"
      ]
    },
    {
      "cell_type": "code",
      "execution_count": null,
      "metadata": {
        "id": "eTEFdPoPi-9f"
      },
      "outputs": [],
      "source": [
        "sql = '''SELECT *\n",
        "FROM   ratings t\n",
        "LIMIT  5 '''"
      ]
    },
    {
      "cell_type": "code",
      "execution_count": null,
      "metadata": {
        "id": "P9tuPgyji-9g",
        "outputId": "a6ae2fa8-4080-42b3-e424-aa28a31a238d"
      },
      "outputs": [
        {
          "data": {
            "text/html": [
              "<div>\n",
              "<style scoped>\n",
              "    .dataframe tbody tr th:only-of-type {\n",
              "        vertical-align: middle;\n",
              "    }\n",
              "\n",
              "    .dataframe tbody tr th {\n",
              "        vertical-align: top;\n",
              "    }\n",
              "\n",
              "    .dataframe thead th {\n",
              "        text-align: right;\n",
              "    }\n",
              "</style>\n",
              "<table border=\"1\" class=\"dataframe\">\n",
              "  <thead>\n",
              "    <tr style=\"text-align: right;\">\n",
              "      <th></th>\n",
              "      <th>rating_id</th>\n",
              "      <th>book_id</th>\n",
              "      <th>username</th>\n",
              "      <th>rating</th>\n",
              "    </tr>\n",
              "  </thead>\n",
              "  <tbody>\n",
              "    <tr>\n",
              "      <td>0</td>\n",
              "      <td>1</td>\n",
              "      <td>1</td>\n",
              "      <td>ryanfranco</td>\n",
              "      <td>4</td>\n",
              "    </tr>\n",
              "    <tr>\n",
              "      <td>1</td>\n",
              "      <td>2</td>\n",
              "      <td>1</td>\n",
              "      <td>grantpatricia</td>\n",
              "      <td>2</td>\n",
              "    </tr>\n",
              "    <tr>\n",
              "      <td>2</td>\n",
              "      <td>3</td>\n",
              "      <td>1</td>\n",
              "      <td>brandtandrea</td>\n",
              "      <td>5</td>\n",
              "    </tr>\n",
              "    <tr>\n",
              "      <td>3</td>\n",
              "      <td>4</td>\n",
              "      <td>2</td>\n",
              "      <td>lorichen</td>\n",
              "      <td>3</td>\n",
              "    </tr>\n",
              "    <tr>\n",
              "      <td>4</td>\n",
              "      <td>5</td>\n",
              "      <td>2</td>\n",
              "      <td>mariokeller</td>\n",
              "      <td>2</td>\n",
              "    </tr>\n",
              "  </tbody>\n",
              "</table>\n",
              "</div>"
            ],
            "text/plain": [
              "   rating_id  book_id       username  rating\n",
              "0          1        1     ryanfranco       4\n",
              "1          2        1  grantpatricia       2\n",
              "2          3        1   brandtandrea       5\n",
              "3          4        2       lorichen       3\n",
              "4          5        2    mariokeller       2"
            ]
          },
          "execution_count": 11,
          "metadata": {},
          "output_type": "execute_result"
        }
      ],
      "source": [
        "select_sql(sql)"
      ]
    },
    {
      "cell_type": "code",
      "execution_count": null,
      "metadata": {
        "id": "J8N-TEHFi-9g"
      },
      "outputs": [],
      "source": [
        "sql = '''SELECT *\n",
        "FROM   reviews t\n",
        "LIMIT  5 '''"
      ]
    },
    {
      "cell_type": "code",
      "execution_count": null,
      "metadata": {
        "id": "yE2aBzApi-9g",
        "outputId": "25845b32-1b25-4684-e3a1-2666f608d8f9"
      },
      "outputs": [
        {
          "data": {
            "text/html": [
              "<div>\n",
              "<style scoped>\n",
              "    .dataframe tbody tr th:only-of-type {\n",
              "        vertical-align: middle;\n",
              "    }\n",
              "\n",
              "    .dataframe tbody tr th {\n",
              "        vertical-align: top;\n",
              "    }\n",
              "\n",
              "    .dataframe thead th {\n",
              "        text-align: right;\n",
              "    }\n",
              "</style>\n",
              "<table border=\"1\" class=\"dataframe\">\n",
              "  <thead>\n",
              "    <tr style=\"text-align: right;\">\n",
              "      <th></th>\n",
              "      <th>review_id</th>\n",
              "      <th>book_id</th>\n",
              "      <th>username</th>\n",
              "      <th>text</th>\n",
              "    </tr>\n",
              "  </thead>\n",
              "  <tbody>\n",
              "    <tr>\n",
              "      <td>0</td>\n",
              "      <td>1</td>\n",
              "      <td>1</td>\n",
              "      <td>brandtandrea</td>\n",
              "      <td>Mention society tell send professor analysis. ...</td>\n",
              "    </tr>\n",
              "    <tr>\n",
              "      <td>1</td>\n",
              "      <td>2</td>\n",
              "      <td>1</td>\n",
              "      <td>ryanfranco</td>\n",
              "      <td>Foot glass pretty audience hit themselves. Amo...</td>\n",
              "    </tr>\n",
              "    <tr>\n",
              "      <td>2</td>\n",
              "      <td>3</td>\n",
              "      <td>2</td>\n",
              "      <td>lorichen</td>\n",
              "      <td>Listen treat keep worry. Miss husband tax but ...</td>\n",
              "    </tr>\n",
              "    <tr>\n",
              "      <td>3</td>\n",
              "      <td>4</td>\n",
              "      <td>3</td>\n",
              "      <td>johnsonamanda</td>\n",
              "      <td>Finally month interesting blue could nature cu...</td>\n",
              "    </tr>\n",
              "    <tr>\n",
              "      <td>4</td>\n",
              "      <td>5</td>\n",
              "      <td>3</td>\n",
              "      <td>scotttamara</td>\n",
              "      <td>Nation purpose heavy give wait song will. List...</td>\n",
              "    </tr>\n",
              "  </tbody>\n",
              "</table>\n",
              "</div>"
            ],
            "text/plain": [
              "   review_id  book_id       username  \\\n",
              "0          1        1   brandtandrea   \n",
              "1          2        1     ryanfranco   \n",
              "2          3        2       lorichen   \n",
              "3          4        3  johnsonamanda   \n",
              "4          5        3    scotttamara   \n",
              "\n",
              "                                                text  \n",
              "0  Mention society tell send professor analysis. ...  \n",
              "1  Foot glass pretty audience hit themselves. Amo...  \n",
              "2  Listen treat keep worry. Miss husband tax but ...  \n",
              "3  Finally month interesting blue could nature cu...  \n",
              "4  Nation purpose heavy give wait song will. List...  "
            ]
          },
          "execution_count": 13,
          "metadata": {},
          "output_type": "execute_result"
        }
      ],
      "source": [
        "select_sql(sql)"
      ]
    },
    {
      "cell_type": "markdown",
      "metadata": {
        "id": "suPoUPCei-9g"
      },
      "source": [
        "\n",
        "Нам предоставлена информация о книгах. Ниже представлен атрибутивный состав данных и взаимосвязь сущностей\n",
        "\n",
        "**Таблица `books`**\n",
        "\n",
        "Содержит данные о книгах:\n",
        "\n",
        "- `book_id` — идентификатор книги;\n",
        "- `author_id` — идентификатор автора;\n",
        "- `title` — название книги;\n",
        "- `num_pages` — количество страниц;\n",
        "- `publication_date` — дата публикации книги;\n",
        "- `publisher_id` — идентификатор издателя.\n",
        "\n",
        "**Таблица `authors`**\n",
        "\n",
        "Содержит данные об авторах:\n",
        "\n",
        "- `author_id` — идентификатор автора;\n",
        "- `author` — имя автора.\n",
        "\n",
        "**Таблица `publishers`**\n",
        "\n",
        "Содержит данные об издательствах:\n",
        "\n",
        "- `publisher_id` — идентификатор издательства;\n",
        "- `publisher` — название издательства;\n",
        "\n",
        "**Таблица `ratings`**\n",
        "\n",
        "Содержит данные о пользовательских оценках книг:\n",
        "\n",
        "- `rating_id` — идентификатор оценки;\n",
        "- `book_id` — идентификатор книги;\n",
        "- `username` — имя пользователя, оставившего оценку;\n",
        "- `rating` — оценка книги.\n",
        "\n",
        "**Таблица `reviews`**\n",
        "\n",
        "Содержит данные о пользовательских обзорах на книги:\n",
        "\n",
        "- `review_id` — идентификатор обзора;\n",
        "- `book_id` — идентификатор книги;\n",
        "- `username` — имя пользователя, написавшего обзор;\n",
        "- `text` — текст обзора.\n",
        "\n",
        "<img src=\"https://i.ibb.co/ZgK9RmD/Untitled-33.png\" alt=\"Untitled-33\" border=\"0\">\n",
        "\n",
        "\n",
        "Нам необходимо произвести анализ базы данных и ответить на следующие вопросы:  \n",
        "\n",
        "- Сколько книг вышло после 1 января 2000 года;  \n",
        "- Для каждой книги посчитать количество обзоров и среднюю оценку;  \n",
        "- Определить издательство, которое выпустило наибольшее число книг толще 50 страниц — так вы исключите из анализа брошюры;  \n",
        "- Определить автора с самой высокой средней оценкой книг — учитывайте только книги с 50 и более оценками;  \n",
        "- Посчитайть среднее количество обзоров от пользователей, которые поставили больше 50 оценок.  "
      ]
    },
    {
      "cell_type": "markdown",
      "metadata": {
        "id": "p3gtWGZ4i-9h"
      },
      "source": [
        "<div style=\"float:left;margin:0 10px 10px 0\" markdown=\"1\">\n",
        "    <a href=\"#footer\"><img src='https://img.shields.io/badge/К содержанию-&#x21A9-blue'></a>\n",
        "</div>\n",
        "\n",
        "___\n"
      ]
    },
    {
      "cell_type": "markdown",
      "metadata": {
        "id": "tp17RTtni-9h"
      },
      "source": [
        "## Анализ данных"
      ]
    },
    {
      "cell_type": "code",
      "execution_count": null,
      "metadata": {
        "id": "XAV5OwbIi-9h"
      },
      "outputs": [],
      "source": [
        "sql = '''SELECT *\n",
        "FROM   books t\n",
        "LIMIT  5 '''"
      ]
    },
    {
      "cell_type": "code",
      "execution_count": null,
      "metadata": {
        "id": "M8HoAfGhi-9h",
        "outputId": "2fd9be44-4234-42e5-caa6-685c9a2301f0"
      },
      "outputs": [
        {
          "data": {
            "text/html": [
              "<div>\n",
              "<style scoped>\n",
              "    .dataframe tbody tr th:only-of-type {\n",
              "        vertical-align: middle;\n",
              "    }\n",
              "\n",
              "    .dataframe tbody tr th {\n",
              "        vertical-align: top;\n",
              "    }\n",
              "\n",
              "    .dataframe thead th {\n",
              "        text-align: right;\n",
              "    }\n",
              "</style>\n",
              "<table border=\"1\" class=\"dataframe\">\n",
              "  <thead>\n",
              "    <tr style=\"text-align: right;\">\n",
              "      <th></th>\n",
              "      <th>book_id</th>\n",
              "      <th>author_id</th>\n",
              "      <th>title</th>\n",
              "      <th>num_pages</th>\n",
              "      <th>publication_date</th>\n",
              "      <th>publisher_id</th>\n",
              "    </tr>\n",
              "  </thead>\n",
              "  <tbody>\n",
              "    <tr>\n",
              "      <td>0</td>\n",
              "      <td>1</td>\n",
              "      <td>546</td>\n",
              "      <td>'Salem's Lot</td>\n",
              "      <td>594</td>\n",
              "      <td>2005-11-01</td>\n",
              "      <td>93</td>\n",
              "    </tr>\n",
              "    <tr>\n",
              "      <td>1</td>\n",
              "      <td>2</td>\n",
              "      <td>465</td>\n",
              "      <td>1 000 Places to See Before You Die</td>\n",
              "      <td>992</td>\n",
              "      <td>2003-05-22</td>\n",
              "      <td>336</td>\n",
              "    </tr>\n",
              "    <tr>\n",
              "      <td>2</td>\n",
              "      <td>3</td>\n",
              "      <td>407</td>\n",
              "      <td>13 Little Blue Envelopes (Little Blue Envelope...</td>\n",
              "      <td>322</td>\n",
              "      <td>2010-12-21</td>\n",
              "      <td>135</td>\n",
              "    </tr>\n",
              "    <tr>\n",
              "      <td>3</td>\n",
              "      <td>4</td>\n",
              "      <td>82</td>\n",
              "      <td>1491: New Revelations of the Americas Before C...</td>\n",
              "      <td>541</td>\n",
              "      <td>2006-10-10</td>\n",
              "      <td>309</td>\n",
              "    </tr>\n",
              "    <tr>\n",
              "      <td>4</td>\n",
              "      <td>5</td>\n",
              "      <td>125</td>\n",
              "      <td>1776</td>\n",
              "      <td>386</td>\n",
              "      <td>2006-07-04</td>\n",
              "      <td>268</td>\n",
              "    </tr>\n",
              "  </tbody>\n",
              "</table>\n",
              "</div>"
            ],
            "text/plain": [
              "   book_id  author_id                                              title  \\\n",
              "0        1        546                                       'Salem's Lot   \n",
              "1        2        465                 1 000 Places to See Before You Die   \n",
              "2        3        407  13 Little Blue Envelopes (Little Blue Envelope...   \n",
              "3        4         82  1491: New Revelations of the Americas Before C...   \n",
              "4        5        125                                               1776   \n",
              "\n",
              "   num_pages publication_date  publisher_id  \n",
              "0        594       2005-11-01            93  \n",
              "1        992       2003-05-22           336  \n",
              "2        322       2010-12-21           135  \n",
              "3        541       2006-10-10           309  \n",
              "4        386       2006-07-04           268  "
            ]
          },
          "execution_count": 15,
          "metadata": {},
          "output_type": "execute_result"
        }
      ],
      "source": [
        "select_sql(sql)"
      ]
    },
    {
      "cell_type": "markdown",
      "metadata": {
        "id": "m9_aT8vUi-9h"
      },
      "source": [
        "Посмотрим сколько книг вышло, после 1 января 2000 года"
      ]
    },
    {
      "cell_type": "code",
      "execution_count": null,
      "metadata": {
        "id": "ztjCo-Fji-9h"
      },
      "outputs": [],
      "source": [
        "sql = '''\n",
        "SELECT \n",
        "    COUNT(DISTINCT(book_id)) as quantity\n",
        "FROM \n",
        "    books t\n",
        "WHERE \n",
        "    t.publication_date > '2000-01-01'\n",
        "'''"
      ]
    },
    {
      "cell_type": "code",
      "execution_count": null,
      "metadata": {
        "id": "guK37hhpi-9h",
        "outputId": "1baa8ac8-654c-4710-80dd-f8d4e6ef7cda"
      },
      "outputs": [
        {
          "data": {
            "text/html": [
              "<div>\n",
              "<style scoped>\n",
              "    .dataframe tbody tr th:only-of-type {\n",
              "        vertical-align: middle;\n",
              "    }\n",
              "\n",
              "    .dataframe tbody tr th {\n",
              "        vertical-align: top;\n",
              "    }\n",
              "\n",
              "    .dataframe thead th {\n",
              "        text-align: right;\n",
              "    }\n",
              "</style>\n",
              "<table border=\"1\" class=\"dataframe\">\n",
              "  <thead>\n",
              "    <tr style=\"text-align: right;\">\n",
              "      <th></th>\n",
              "      <th>quantity</th>\n",
              "    </tr>\n",
              "  </thead>\n",
              "  <tbody>\n",
              "    <tr>\n",
              "      <td>0</td>\n",
              "      <td>821</td>\n",
              "    </tr>\n",
              "  </tbody>\n",
              "</table>\n",
              "</div>"
            ],
            "text/plain": [
              "   quantity\n",
              "0       821"
            ]
          },
          "execution_count": 17,
          "metadata": {},
          "output_type": "execute_result"
        }
      ],
      "source": [
        "select_sql(sql)"
      ]
    },
    {
      "cell_type": "markdown",
      "metadata": {
        "id": "bGHaQ302i-9i"
      },
      "source": [
        "После 1 января 2020 года было выпущено 821 уникальных книг. Посмотрим среднюю оценку и количетсво отзывов"
      ]
    },
    {
      "cell_type": "code",
      "execution_count": null,
      "metadata": {
        "id": "Or7RXFO1i-9i"
      },
      "outputs": [],
      "source": [
        "sql = '''\n",
        "WITH review AS\n",
        "(\n",
        "         SELECT   Count (DISTINCT(review_id)) AS review_cnt,\n",
        "                  book_id\n",
        "         FROM     reviews\n",
        "         GROUP BY book_id), rating AS\n",
        "(\n",
        "         SELECT   Avg(rating :: real) AS avg_rating,\n",
        "                  book_id\n",
        "         FROM     ratings\n",
        "         GROUP BY book_id)\n",
        "SELECT    t.book_id,\n",
        "          t.title,\n",
        "          CASE\n",
        "                    WHEN r.review_cnt IS NULL THEN 0\n",
        "                    ELSE r.review_cnt\n",
        "          END AS cnt,\n",
        "          CASE\n",
        "                    WHEN ra.avg_rating::real IS NULL THEN 0\n",
        "                    ELSE ra.avg_rating::real\n",
        "          END AS rating\n",
        "FROM      books t\n",
        "LEFT JOIN review r\n",
        "ON        t.book_id = r.book_id\n",
        "LEFT JOIN rating ra\n",
        "ON        r.book_id = ra.book_id\n",
        "ORDER BY  cnt DESC limit 15'''"
      ]
    },
    {
      "cell_type": "code",
      "execution_count": null,
      "metadata": {
        "id": "y4KEZs7oi-9i",
        "outputId": "d255e578-a914-4ef0-805f-a2f0147e3e4b"
      },
      "outputs": [
        {
          "data": {
            "text/html": [
              "<div>\n",
              "<style scoped>\n",
              "    .dataframe tbody tr th:only-of-type {\n",
              "        vertical-align: middle;\n",
              "    }\n",
              "\n",
              "    .dataframe tbody tr th {\n",
              "        vertical-align: top;\n",
              "    }\n",
              "\n",
              "    .dataframe thead th {\n",
              "        text-align: right;\n",
              "    }\n",
              "</style>\n",
              "<table border=\"1\" class=\"dataframe\">\n",
              "  <thead>\n",
              "    <tr style=\"text-align: right;\">\n",
              "      <th></th>\n",
              "      <th>book_id</th>\n",
              "      <th>title</th>\n",
              "      <th>cnt</th>\n",
              "      <th>rating</th>\n",
              "    </tr>\n",
              "  </thead>\n",
              "  <tbody>\n",
              "    <tr>\n",
              "      <td>0</td>\n",
              "      <td>948</td>\n",
              "      <td>Twilight (Twilight  #1)</td>\n",
              "      <td>7</td>\n",
              "      <td>3.66250</td>\n",
              "    </tr>\n",
              "    <tr>\n",
              "      <td>1</td>\n",
              "      <td>854</td>\n",
              "      <td>The Road</td>\n",
              "      <td>6</td>\n",
              "      <td>3.77273</td>\n",
              "    </tr>\n",
              "    <tr>\n",
              "      <td>2</td>\n",
              "      <td>207</td>\n",
              "      <td>Eat  Pray  Love</td>\n",
              "      <td>6</td>\n",
              "      <td>3.39583</td>\n",
              "    </tr>\n",
              "    <tr>\n",
              "      <td>3</td>\n",
              "      <td>656</td>\n",
              "      <td>The Book Thief</td>\n",
              "      <td>6</td>\n",
              "      <td>4.26415</td>\n",
              "    </tr>\n",
              "    <tr>\n",
              "      <td>4</td>\n",
              "      <td>733</td>\n",
              "      <td>The Giver (The Giver  #1)</td>\n",
              "      <td>6</td>\n",
              "      <td>3.75000</td>\n",
              "    </tr>\n",
              "    <tr>\n",
              "      <td>5</td>\n",
              "      <td>779</td>\n",
              "      <td>The Lightning Thief (Percy Jackson and the Oly...</td>\n",
              "      <td>6</td>\n",
              "      <td>4.08065</td>\n",
              "    </tr>\n",
              "    <tr>\n",
              "      <td>6</td>\n",
              "      <td>302</td>\n",
              "      <td>Harry Potter and the Prisoner of Azkaban (Harr...</td>\n",
              "      <td>6</td>\n",
              "      <td>4.41463</td>\n",
              "    </tr>\n",
              "    <tr>\n",
              "      <td>7</td>\n",
              "      <td>299</td>\n",
              "      <td>Harry Potter and the Chamber of Secrets (Harry...</td>\n",
              "      <td>6</td>\n",
              "      <td>4.28750</td>\n",
              "    </tr>\n",
              "    <tr>\n",
              "      <td>8</td>\n",
              "      <td>497</td>\n",
              "      <td>Outlander (Outlander  #1)</td>\n",
              "      <td>6</td>\n",
              "      <td>4.12500</td>\n",
              "    </tr>\n",
              "    <tr>\n",
              "      <td>9</td>\n",
              "      <td>627</td>\n",
              "      <td>The Alchemist</td>\n",
              "      <td>6</td>\n",
              "      <td>3.78947</td>\n",
              "    </tr>\n",
              "    <tr>\n",
              "      <td>10</td>\n",
              "      <td>695</td>\n",
              "      <td>The Curious Incident of the Dog in the Night-Time</td>\n",
              "      <td>6</td>\n",
              "      <td>4.08108</td>\n",
              "    </tr>\n",
              "    <tr>\n",
              "      <td>11</td>\n",
              "      <td>696</td>\n",
              "      <td>The Da Vinci Code (Robert Langdon  #2)</td>\n",
              "      <td>6</td>\n",
              "      <td>3.83051</td>\n",
              "    </tr>\n",
              "    <tr>\n",
              "      <td>12</td>\n",
              "      <td>734</td>\n",
              "      <td>The Glass Castle</td>\n",
              "      <td>6</td>\n",
              "      <td>4.20690</td>\n",
              "    </tr>\n",
              "    <tr>\n",
              "      <td>13</td>\n",
              "      <td>750</td>\n",
              "      <td>The Hobbit  or There and Back Again</td>\n",
              "      <td>6</td>\n",
              "      <td>4.12500</td>\n",
              "    </tr>\n",
              "    <tr>\n",
              "      <td>14</td>\n",
              "      <td>673</td>\n",
              "      <td>The Catcher in the Rye</td>\n",
              "      <td>6</td>\n",
              "      <td>3.82558</td>\n",
              "    </tr>\n",
              "  </tbody>\n",
              "</table>\n",
              "</div>"
            ],
            "text/plain": [
              "    book_id                                              title  cnt   rating\n",
              "0       948                            Twilight (Twilight  #1)    7  3.66250\n",
              "1       854                                           The Road    6  3.77273\n",
              "2       207                                    Eat  Pray  Love    6  3.39583\n",
              "3       656                                     The Book Thief    6  4.26415\n",
              "4       733                          The Giver (The Giver  #1)    6  3.75000\n",
              "5       779  The Lightning Thief (Percy Jackson and the Oly...    6  4.08065\n",
              "6       302  Harry Potter and the Prisoner of Azkaban (Harr...    6  4.41463\n",
              "7       299  Harry Potter and the Chamber of Secrets (Harry...    6  4.28750\n",
              "8       497                          Outlander (Outlander  #1)    6  4.12500\n",
              "9       627                                      The Alchemist    6  3.78947\n",
              "10      695  The Curious Incident of the Dog in the Night-Time    6  4.08108\n",
              "11      696             The Da Vinci Code (Robert Langdon  #2)    6  3.83051\n",
              "12      734                                   The Glass Castle    6  4.20690\n",
              "13      750                The Hobbit  or There and Back Again    6  4.12500\n",
              "14      673                             The Catcher in the Rye    6  3.82558"
            ]
          },
          "execution_count": 37,
          "metadata": {},
          "output_type": "execute_result"
        }
      ],
      "source": [
        "select_sql(sql)"
      ]
    },
    {
      "cell_type": "markdown",
      "metadata": {
        "id": "fYC5ZO1si-9i"
      },
      "source": [
        "По количеству отзывов лидируют `Сумерки`. Но рейтинг не самый большой. Посмотрим, кто лидирует по оценкам. Также в топ-15 присутствуют книги из серии о `Гарри Поттере`, `Хоббит`"
      ]
    },
    {
      "cell_type": "code",
      "execution_count": null,
      "metadata": {
        "id": "Lqyje4Pii-9i"
      },
      "outputs": [],
      "source": [
        "sql = '''\n",
        "WITH review AS\n",
        "(\n",
        "         SELECT   Count (DISTINCT(review_id)) AS review_cnt,\n",
        "                  book_id\n",
        "         FROM     reviews\n",
        "         GROUP BY book_id), rating AS\n",
        "(\n",
        "         SELECT   Avg(rating :: real) AS avg_rating,\n",
        "                  book_id\n",
        "         FROM     ratings\n",
        "         GROUP BY book_id)\n",
        "SELECT    t.book_id,\n",
        "          t.title,\n",
        "          CASE\n",
        "                    WHEN r.review_cnt IS NULL THEN 0\n",
        "                    ELSE r.review_cnt\n",
        "          END AS cnt,\n",
        "          CASE\n",
        "                    WHEN ra.avg_rating::real IS NULL THEN 0\n",
        "                    ELSE ra.avg_rating::real\n",
        "          END AS rating\n",
        "FROM      books t\n",
        "LEFT JOIN review r\n",
        "ON        t.book_id = r.book_id\n",
        "LEFT JOIN rating ra\n",
        "ON        r.book_id = ra.book_id\n",
        "ORDER BY  rating DESC  limit 15'''"
      ]
    },
    {
      "cell_type": "code",
      "execution_count": null,
      "metadata": {
        "id": "wPIJTezKi-9j",
        "outputId": "eb140c97-b0ea-45e9-d0b3-6b03e66aaadf"
      },
      "outputs": [
        {
          "data": {
            "text/html": [
              "<div>\n",
              "<style scoped>\n",
              "    .dataframe tbody tr th:only-of-type {\n",
              "        vertical-align: middle;\n",
              "    }\n",
              "\n",
              "    .dataframe tbody tr th {\n",
              "        vertical-align: top;\n",
              "    }\n",
              "\n",
              "    .dataframe thead th {\n",
              "        text-align: right;\n",
              "    }\n",
              "</style>\n",
              "<table border=\"1\" class=\"dataframe\">\n",
              "  <thead>\n",
              "    <tr style=\"text-align: right;\">\n",
              "      <th></th>\n",
              "      <th>book_id</th>\n",
              "      <th>title</th>\n",
              "      <th>cnt</th>\n",
              "      <th>rating</th>\n",
              "    </tr>\n",
              "  </thead>\n",
              "  <tbody>\n",
              "    <tr>\n",
              "      <td>0</td>\n",
              "      <td>182</td>\n",
              "      <td>Dead Souls</td>\n",
              "      <td>2</td>\n",
              "      <td>5.0</td>\n",
              "    </tr>\n",
              "    <tr>\n",
              "      <td>1</td>\n",
              "      <td>275</td>\n",
              "      <td>Geek Love</td>\n",
              "      <td>2</td>\n",
              "      <td>5.0</td>\n",
              "    </tr>\n",
              "    <tr>\n",
              "      <td>2</td>\n",
              "      <td>169</td>\n",
              "      <td>Crucial Conversations: Tools for Talking When ...</td>\n",
              "      <td>2</td>\n",
              "      <td>5.0</td>\n",
              "    </tr>\n",
              "    <tr>\n",
              "      <td>3</td>\n",
              "      <td>86</td>\n",
              "      <td>Arrows of the Queen (Heralds of Valdemar  #1)</td>\n",
              "      <td>2</td>\n",
              "      <td>5.0</td>\n",
              "    </tr>\n",
              "    <tr>\n",
              "      <td>4</td>\n",
              "      <td>229</td>\n",
              "      <td>Evil Under the Sun (Hercule Poirot  #24)</td>\n",
              "      <td>2</td>\n",
              "      <td>5.0</td>\n",
              "    </tr>\n",
              "    <tr>\n",
              "      <td>5</td>\n",
              "      <td>224</td>\n",
              "      <td>Evening Class</td>\n",
              "      <td>2</td>\n",
              "      <td>5.0</td>\n",
              "    </tr>\n",
              "    <tr>\n",
              "      <td>6</td>\n",
              "      <td>57</td>\n",
              "      <td>Act of Treason (Mitch Rapp  #9)</td>\n",
              "      <td>2</td>\n",
              "      <td>5.0</td>\n",
              "    </tr>\n",
              "    <tr>\n",
              "      <td>7</td>\n",
              "      <td>20</td>\n",
              "      <td>A Fistful of Charms (The Hollows  #4)</td>\n",
              "      <td>2</td>\n",
              "      <td>5.0</td>\n",
              "    </tr>\n",
              "    <tr>\n",
              "      <td>8</td>\n",
              "      <td>55</td>\n",
              "      <td>A Woman of Substance (Emma Harte Saga #1)</td>\n",
              "      <td>2</td>\n",
              "      <td>5.0</td>\n",
              "    </tr>\n",
              "    <tr>\n",
              "      <td>9</td>\n",
              "      <td>76</td>\n",
              "      <td>Angels Fall</td>\n",
              "      <td>2</td>\n",
              "      <td>5.0</td>\n",
              "    </tr>\n",
              "    <tr>\n",
              "      <td>10</td>\n",
              "      <td>62</td>\n",
              "      <td>Alas  Babylon</td>\n",
              "      <td>2</td>\n",
              "      <td>5.0</td>\n",
              "    </tr>\n",
              "    <tr>\n",
              "      <td>11</td>\n",
              "      <td>213</td>\n",
              "      <td>Emily of New Moon (Emily  #1)</td>\n",
              "      <td>2</td>\n",
              "      <td>5.0</td>\n",
              "    </tr>\n",
              "    <tr>\n",
              "      <td>12</td>\n",
              "      <td>136</td>\n",
              "      <td>Captivating: Unveiling the Mystery of a Woman'...</td>\n",
              "      <td>2</td>\n",
              "      <td>5.0</td>\n",
              "    </tr>\n",
              "    <tr>\n",
              "      <td>13</td>\n",
              "      <td>17</td>\n",
              "      <td>A Dirty Job (Grim Reaper  #1)</td>\n",
              "      <td>4</td>\n",
              "      <td>5.0</td>\n",
              "    </tr>\n",
              "    <tr>\n",
              "      <td>14</td>\n",
              "      <td>297</td>\n",
              "      <td>Hard Times</td>\n",
              "      <td>2</td>\n",
              "      <td>5.0</td>\n",
              "    </tr>\n",
              "  </tbody>\n",
              "</table>\n",
              "</div>"
            ],
            "text/plain": [
              "    book_id                                              title  cnt  rating\n",
              "0       182                                         Dead Souls    2     5.0\n",
              "1       275                                          Geek Love    2     5.0\n",
              "2       169  Crucial Conversations: Tools for Talking When ...    2     5.0\n",
              "3        86      Arrows of the Queen (Heralds of Valdemar  #1)    2     5.0\n",
              "4       229           Evil Under the Sun (Hercule Poirot  #24)    2     5.0\n",
              "5       224                                      Evening Class    2     5.0\n",
              "6        57                    Act of Treason (Mitch Rapp  #9)    2     5.0\n",
              "7        20              A Fistful of Charms (The Hollows  #4)    2     5.0\n",
              "8        55          A Woman of Substance (Emma Harte Saga #1)    2     5.0\n",
              "9        76                                        Angels Fall    2     5.0\n",
              "10       62                                      Alas  Babylon    2     5.0\n",
              "11      213                      Emily of New Moon (Emily  #1)    2     5.0\n",
              "12      136  Captivating: Unveiling the Mystery of a Woman'...    2     5.0\n",
              "13       17                      A Dirty Job (Grim Reaper  #1)    4     5.0\n",
              "14      297                                         Hard Times    2     5.0"
            ]
          },
          "execution_count": 21,
          "metadata": {},
          "output_type": "execute_result"
        }
      ],
      "source": [
        "select_sql (sql)"
      ]
    },
    {
      "cell_type": "markdown",
      "metadata": {
        "id": "ChCAbLdRi-9j"
      },
      "source": [
        "По оценкам, лидирует классика - `Мертвые души`, но при этом - у книги мало отзывов. Чаще всего читают более легкие книги. Посмотрим на издательство, которое выпустило наибольшее количество книг толще 50 страниц"
      ]
    },
    {
      "cell_type": "code",
      "execution_count": null,
      "metadata": {
        "id": "vw9syKrUi-9j"
      },
      "outputs": [],
      "source": [
        "sql = '''\n",
        "WITH books_50 AS\n",
        "(\n",
        "         SELECT   Count(DISTINCT(book_id)) AS book_cnt,\n",
        "                  t.publisher_id\n",
        "         FROM     books t\n",
        "         WHERE    t.num_pages > 50\n",
        "         GROUP BY publisher_id)\n",
        "SELECT    p.publisher as best_publisher,\n",
        "          CASE\n",
        "                    WHEN b.book_cnt IS NULL THEN 0\n",
        "                    ELSE b.book_cnt\n",
        "          END AS books_cnt\n",
        "FROM      publishers p\n",
        "LEFT JOIN books_50 b\n",
        "ON        p.publisher_id = b.publisher_id\n",
        "ORDER BY  books_cnt DESC limit 1\n",
        "'''"
      ]
    },
    {
      "cell_type": "code",
      "execution_count": null,
      "metadata": {
        "id": "ieQ2B_EQi-9j",
        "outputId": "a4abcc98-3105-43cb-da74-d27a93c05fc3"
      },
      "outputs": [
        {
          "data": {
            "text/html": [
              "<div>\n",
              "<style scoped>\n",
              "    .dataframe tbody tr th:only-of-type {\n",
              "        vertical-align: middle;\n",
              "    }\n",
              "\n",
              "    .dataframe tbody tr th {\n",
              "        vertical-align: top;\n",
              "    }\n",
              "\n",
              "    .dataframe thead th {\n",
              "        text-align: right;\n",
              "    }\n",
              "</style>\n",
              "<table border=\"1\" class=\"dataframe\">\n",
              "  <thead>\n",
              "    <tr style=\"text-align: right;\">\n",
              "      <th></th>\n",
              "      <th>best_publisher</th>\n",
              "      <th>books_cnt</th>\n",
              "    </tr>\n",
              "  </thead>\n",
              "  <tbody>\n",
              "    <tr>\n",
              "      <td>0</td>\n",
              "      <td>Penguin Books</td>\n",
              "      <td>42</td>\n",
              "    </tr>\n",
              "  </tbody>\n",
              "</table>\n",
              "</div>"
            ],
            "text/plain": [
              "  best_publisher  books_cnt\n",
              "0  Penguin Books         42"
            ]
          },
          "execution_count": 23,
          "metadata": {},
          "output_type": "execute_result"
        }
      ],
      "source": [
        "select_sql(sql)"
      ]
    },
    {
      "cell_type": "markdown",
      "metadata": {
        "id": "v-bt27EWi-9j"
      },
      "source": [
        "`Penguin Books` выпустило наибольшее количество книг. Количество книг - `42`. Посмотрим, кто пишет самые обсуждаемые книги и найдем среднюю оценку автора"
      ]
    },
    {
      "cell_type": "code",
      "execution_count": null,
      "metadata": {
        "id": "W5BNGC-Li-9k"
      },
      "outputs": [],
      "source": [
        "sql = '''\n",
        "WITH rating_50 AS\n",
        "(\n",
        "         SELECT   Count(rating_id)     AS cnt,\n",
        "                  Avg(rating::real) AS avg_rating,\n",
        "                  book_id\n",
        "         FROM     ratings\n",
        "         GROUP BY book_id\n",
        "         HAVING   Count(rating_id) >= 50)\n",
        "SELECT    a.author,\n",
        "          AVG(r.avg_rating::real) as rating\n",
        "FROM      books t\n",
        "INNER JOIN rating_50 r\n",
        "ON        r.book_id = t.book_id\n",
        "INNER JOIN authors a\n",
        "ON        a.author_id = t.author_id\n",
        "\n",
        "GROUP BY\n",
        "    a.author_id,\n",
        "    a.author\n",
        "ORDER BY rating DESC\n",
        "LIMIT 1\n",
        "'''"
      ]
    },
    {
      "cell_type": "code",
      "execution_count": null,
      "metadata": {
        "id": "OT5P2sn2i-9k",
        "outputId": "d61cd1b5-f03f-489d-b62e-c453b176a9d4"
      },
      "outputs": [
        {
          "data": {
            "text/html": [
              "<div>\n",
              "<style scoped>\n",
              "    .dataframe tbody tr th:only-of-type {\n",
              "        vertical-align: middle;\n",
              "    }\n",
              "\n",
              "    .dataframe tbody tr th {\n",
              "        vertical-align: top;\n",
              "    }\n",
              "\n",
              "    .dataframe thead th {\n",
              "        text-align: right;\n",
              "    }\n",
              "</style>\n",
              "<table border=\"1\" class=\"dataframe\">\n",
              "  <thead>\n",
              "    <tr style=\"text-align: right;\">\n",
              "      <th></th>\n",
              "      <th>author</th>\n",
              "      <th>rating</th>\n",
              "    </tr>\n",
              "  </thead>\n",
              "  <tbody>\n",
              "    <tr>\n",
              "      <td>0</td>\n",
              "      <td>J.K. Rowling/Mary GrandPré</td>\n",
              "      <td>4.283844</td>\n",
              "    </tr>\n",
              "  </tbody>\n",
              "</table>\n",
              "</div>"
            ],
            "text/plain": [
              "                       author    rating\n",
              "0  J.K. Rowling/Mary GrandPré  4.283844"
            ]
          },
          "execution_count": 41,
          "metadata": {},
          "output_type": "execute_result"
        }
      ],
      "source": [
        "select_sql(sql)"
      ]
    },
    {
      "cell_type": "markdown",
      "metadata": {
        "id": "D6FAz9G5i-9k"
      },
      "source": [
        "Самый популярный и обсуждаемый автор - `J.K. Rowling` - автор книг о Гарри Поттере. Посмотрим среднее количество обзоров от пользователей, которые поставили больше 50 оценок"
      ]
    },
    {
      "cell_type": "code",
      "execution_count": null,
      "metadata": {
        "id": "fjS12jnpi-9k"
      },
      "outputs": [],
      "source": [
        "sql ='''\n",
        "WITH selected_50\n",
        "     AS (SELECT username,\n",
        "                Count(*) AS reviews_num\n",
        "         FROM   reviews\n",
        "         WHERE  username IN (SELECT username\n",
        "                             FROM   ratings\n",
        "                             GROUP  BY username\n",
        "                             HAVING Count(rating_id) > 50)\n",
        "         GROUP  BY username)\n",
        "SELECT Avg(reviews_num)\n",
        "FROM   selected_50 \n",
        "\n",
        "'''"
      ]
    },
    {
      "cell_type": "code",
      "execution_count": null,
      "metadata": {
        "id": "bvOHCcLNi-9k",
        "outputId": "b2ce2d2d-f06c-4e60-c7d3-706a0530e19a"
      },
      "outputs": [
        {
          "data": {
            "text/html": [
              "<div>\n",
              "<style scoped>\n",
              "    .dataframe tbody tr th:only-of-type {\n",
              "        vertical-align: middle;\n",
              "    }\n",
              "\n",
              "    .dataframe tbody tr th {\n",
              "        vertical-align: top;\n",
              "    }\n",
              "\n",
              "    .dataframe thead th {\n",
              "        text-align: right;\n",
              "    }\n",
              "</style>\n",
              "<table border=\"1\" class=\"dataframe\">\n",
              "  <thead>\n",
              "    <tr style=\"text-align: right;\">\n",
              "      <th></th>\n",
              "      <th>avg</th>\n",
              "    </tr>\n",
              "  </thead>\n",
              "  <tbody>\n",
              "    <tr>\n",
              "      <td>0</td>\n",
              "      <td>24.333333</td>\n",
              "    </tr>\n",
              "  </tbody>\n",
              "</table>\n",
              "</div>"
            ],
            "text/plain": [
              "         avg\n",
              "0  24.333333"
            ]
          },
          "execution_count": 27,
          "metadata": {},
          "output_type": "execute_result"
        }
      ],
      "source": [
        "select_sql(sql)"
      ]
    },
    {
      "cell_type": "markdown",
      "metadata": {
        "id": "h27_4y_Ti-9k"
      },
      "source": [
        "Пользователи, поставившие больше `50` оценок - в среднем написали `24` обзора"
      ]
    },
    {
      "cell_type": "markdown",
      "metadata": {
        "id": "dkGqjmNvi-9l"
      },
      "source": [
        "<div style=\"float:left;margin:0 10px 10px 0\" markdown=\"1\">\n",
        "    <a href=\"#footer\"><img src='https://img.shields.io/badge/К содержанию-&#x21A9-blue'></a>\n",
        "</div>\n",
        "\n",
        "___\n"
      ]
    },
    {
      "cell_type": "markdown",
      "metadata": {
        "id": "ykKJA1kYi-9l"
      },
      "source": [
        "## Выводы"
      ]
    },
    {
      "cell_type": "markdown",
      "metadata": {
        "id": "QC2yGlZWi-9l"
      },
      "source": [
        "Мы проанализировали предоставленную базу данных и ответили на поставленные вопросы. Резюмируя:\n",
        "    \n",
        "    1. После 1 января 2020 года было выпущено 821 уникальных книг. \n",
        "    2. По количеству отзывов лидируют Сумерки, в рейтинге присутствует серия книг о Гарри Поттере\n",
        "    3. По оценкам, лидирует классика - Мертвые души.\n",
        "    4. Penguin Books выпустило наибольшее количество книг. Количество книг - 42.\n",
        "    5. Самый популярный и обсуждаемый автор - J.K. Rowling - автор книг о Гарри Поттере.\n",
        "    6. Пользователи, поставившие больше `50` оценок - в среднем написали `24` обзора\n",
        "    \n",
        "Таким образом, на момент исследования, стоит обратить внимание на многосерийные книги, приключенческого характера"
      ]
    },
    {
      "cell_type": "markdown",
      "metadata": {
        "id": "frdZCp9Ti-9l"
      },
      "source": [
        "<div style=\"float:left;margin:0 10px 10px 0\" markdown=\"1\">\n",
        "    <a href=\"#footer\"><img src='https://img.shields.io/badge/К содержанию-&#x21A9-blue'></a>\n",
        "</div>\n",
        "\n",
        "___\n"
      ]
    }
  ],
  "metadata": {
    "ExecuteTimeLog": [
      {
        "duration": 1193,
        "start_time": "2022-01-25T17:58:51.104Z"
      },
      {
        "duration": 58,
        "start_time": "2022-01-25T17:58:52.298Z"
      },
      {
        "duration": 2,
        "start_time": "2022-01-25T17:58:52.358Z"
      },
      {
        "duration": 8,
        "start_time": "2022-01-25T17:58:52.362Z"
      },
      {
        "duration": 238,
        "start_time": "2022-01-25T17:58:52.372Z"
      },
      {
        "duration": 3,
        "start_time": "2022-01-25T17:58:52.611Z"
      },
      {
        "duration": 72,
        "start_time": "2022-01-25T17:58:52.616Z"
      },
      {
        "duration": 3,
        "start_time": "2022-01-25T17:58:52.690Z"
      },
      {
        "duration": 69,
        "start_time": "2022-01-25T17:58:52.695Z"
      },
      {
        "duration": 3,
        "start_time": "2022-01-25T17:58:52.766Z"
      },
      {
        "duration": 71,
        "start_time": "2022-01-25T17:58:52.770Z"
      },
      {
        "duration": 3,
        "start_time": "2022-01-25T17:58:52.843Z"
      },
      {
        "duration": 71,
        "start_time": "2022-01-25T17:58:52.847Z"
      },
      {
        "duration": 2,
        "start_time": "2022-01-25T17:58:52.920Z"
      },
      {
        "duration": 71,
        "start_time": "2022-01-25T17:58:52.924Z"
      },
      {
        "duration": 2,
        "start_time": "2022-01-25T17:58:52.997Z"
      },
      {
        "duration": 70,
        "start_time": "2022-01-25T17:58:53.000Z"
      },
      {
        "duration": 2,
        "start_time": "2022-01-25T17:58:53.071Z"
      },
      {
        "duration": 81,
        "start_time": "2022-01-25T17:58:53.075Z"
      },
      {
        "duration": 3,
        "start_time": "2022-01-25T17:58:53.157Z"
      },
      {
        "duration": 77,
        "start_time": "2022-01-25T17:58:53.161Z"
      },
      {
        "duration": 3,
        "start_time": "2022-01-25T17:58:53.240Z"
      },
      {
        "duration": 77,
        "start_time": "2022-01-25T17:58:53.244Z"
      },
      {
        "duration": 3,
        "start_time": "2022-01-25T17:58:53.324Z"
      },
      {
        "duration": 78,
        "start_time": "2022-01-25T17:58:53.329Z"
      },
      {
        "duration": 3,
        "start_time": "2022-01-25T17:58:53.410Z"
      },
      {
        "duration": 74,
        "start_time": "2022-01-25T17:58:53.417Z"
      },
      {
        "duration": 68,
        "start_time": "2022-01-25T18:07:05.329Z"
      },
      {
        "duration": 70,
        "start_time": "2022-01-25T18:07:11.096Z"
      },
      {
        "duration": 4,
        "start_time": "2022-01-25T18:07:30.886Z"
      },
      {
        "duration": 76,
        "start_time": "2022-01-25T18:07:31.423Z"
      },
      {
        "duration": 70,
        "start_time": "2022-01-25T18:07:41.718Z"
      },
      {
        "duration": 3,
        "start_time": "2022-01-25T18:07:50.118Z"
      },
      {
        "duration": 92,
        "start_time": "2022-01-25T18:07:50.566Z"
      },
      {
        "duration": 91,
        "start_time": "2022-01-25T18:07:56.662Z"
      },
      {
        "duration": 3,
        "start_time": "2022-01-25T18:08:04.242Z"
      },
      {
        "duration": 74,
        "start_time": "2022-01-25T18:08:04.453Z"
      },
      {
        "duration": 3,
        "start_time": "2022-01-25T18:12:29.309Z"
      },
      {
        "duration": 73,
        "start_time": "2022-01-25T18:12:31.581Z"
      },
      {
        "duration": 3,
        "start_time": "2022-01-25T18:16:17.487Z"
      },
      {
        "duration": 69,
        "start_time": "2022-01-25T18:16:18.255Z"
      }
    ],
    "colab": {
      "collapsed_sections": [],
      "name": "edf32055-0a64-4c23-8065-e200edf0c7b9.ipynb",
      "provenance": [],
      "toc_visible": true
    },
    "kernelspec": {
      "display_name": "Python 3",
      "language": "python",
      "name": "python3"
    },
    "language_info": {
      "codemirror_mode": {
        "name": "ipython",
        "version": 3
      },
      "file_extension": ".py",
      "mimetype": "text/x-python",
      "name": "python",
      "nbconvert_exporter": "python",
      "pygments_lexer": "ipython3",
      "version": "3.7.8"
    },
    "toc": {
      "base_numbering": 1,
      "nav_menu": {},
      "number_sections": true,
      "sideBar": false,
      "skip_h1_title": true,
      "title_cell": "Содержание",
      "title_sidebar": "Содержание",
      "toc_cell": true,
      "toc_position": {},
      "toc_section_display": true,
      "toc_window_display": false
    }
  },
  "nbformat": 4,
  "nbformat_minor": 0
}