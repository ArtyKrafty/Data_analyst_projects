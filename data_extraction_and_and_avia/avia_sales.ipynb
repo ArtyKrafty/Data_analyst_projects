{
  "nbformat": 4,
  "nbformat_minor": 0,
  "metadata": {
    "ExecuteTimeLog": [
      {
        "duration": 15662,
        "start_time": "2021-09-30T18:21:53.198Z"
      },
      {
        "duration": 5283,
        "start_time": "2021-09-30T18:22:08.863Z"
      },
      {
        "duration": 5581,
        "start_time": "2021-09-30T18:22:14.150Z"
      },
      {
        "duration": 7589,
        "start_time": "2021-09-30T18:22:19.734Z"
      },
      {
        "duration": 1655,
        "start_time": "2021-09-30T18:24:13.787Z"
      },
      {
        "duration": 561,
        "start_time": "2021-09-30T18:24:15.445Z"
      },
      {
        "duration": 39,
        "start_time": "2021-09-30T18:24:23.530Z"
      },
      {
        "duration": 36,
        "start_time": "2021-09-30T18:24:35.822Z"
      },
      {
        "duration": 35,
        "start_time": "2021-09-30T18:24:46.574Z"
      },
      {
        "duration": 5,
        "start_time": "2021-09-30T18:24:51.526Z"
      },
      {
        "duration": 82,
        "start_time": "2021-09-30T18:24:55.867Z"
      },
      {
        "duration": 32,
        "start_time": "2021-09-30T18:25:18.373Z"
      },
      {
        "duration": 23,
        "start_time": "2021-09-30T18:26:26.008Z"
      },
      {
        "duration": 22,
        "start_time": "2021-09-30T18:26:31.503Z"
      },
      {
        "duration": 22,
        "start_time": "2021-09-30T18:26:37.697Z"
      },
      {
        "duration": 11,
        "start_time": "2021-09-30T18:26:56.983Z"
      },
      {
        "duration": 458,
        "start_time": "2021-09-30T18:27:10.684Z"
      },
      {
        "duration": 10,
        "start_time": "2021-09-30T18:30:04.721Z"
      },
      {
        "duration": 22,
        "start_time": "2021-09-30T18:30:22.069Z"
      },
      {
        "duration": 22,
        "start_time": "2021-09-30T18:30:29.101Z"
      },
      {
        "duration": 22,
        "start_time": "2021-09-30T18:30:34.094Z"
      },
      {
        "duration": 23,
        "start_time": "2021-09-30T18:30:37.900Z"
      },
      {
        "duration": 22,
        "start_time": "2021-09-30T18:30:45.146Z"
      },
      {
        "duration": 22,
        "start_time": "2021-09-30T18:30:51.243Z"
      },
      {
        "duration": 22,
        "start_time": "2021-09-30T18:30:55.923Z"
      },
      {
        "duration": 510,
        "start_time": "2021-09-30T18:31:18.286Z"
      },
      {
        "duration": 5,
        "start_time": "2021-09-30T18:31:55.795Z"
      },
      {
        "duration": 10,
        "start_time": "2021-09-30T18:32:18.335Z"
      },
      {
        "duration": 5,
        "start_time": "2021-09-30T18:32:33.510Z"
      },
      {
        "duration": 51617,
        "start_time": "2021-09-30T18:32:37.434Z"
      },
      {
        "duration": 14,
        "start_time": "2021-09-30T18:33:29.054Z"
      },
      {
        "duration": 6,
        "start_time": "2021-09-30T18:33:29.071Z"
      },
      {
        "duration": 20,
        "start_time": "2021-09-30T18:33:29.079Z"
      },
      {
        "duration": 17,
        "start_time": "2021-09-30T18:33:29.101Z"
      },
      {
        "duration": 25,
        "start_time": "2021-09-30T18:33:38.468Z"
      },
      {
        "duration": 4468,
        "start_time": "2021-09-30T18:35:41.867Z"
      },
      {
        "duration": 3866,
        "start_time": "2021-09-30T18:35:46.338Z"
      },
      {
        "duration": 4141,
        "start_time": "2021-09-30T18:35:50.212Z"
      },
      {
        "duration": 7967,
        "start_time": "2021-09-30T18:35:54.357Z"
      },
      {
        "duration": 1773,
        "start_time": "2021-09-30T18:36:02.326Z"
      },
      {
        "duration": 37,
        "start_time": "2021-09-30T18:36:04.102Z"
      },
      {
        "duration": 12,
        "start_time": "2021-09-30T18:36:04.142Z"
      },
      {
        "duration": 86,
        "start_time": "2021-09-30T18:36:04.159Z"
      },
      {
        "duration": 35,
        "start_time": "2021-09-30T18:36:04.248Z"
      },
      {
        "duration": 52,
        "start_time": "2021-09-30T18:36:04.285Z"
      },
      {
        "duration": 11,
        "start_time": "2021-09-30T18:36:04.340Z"
      },
      {
        "duration": 566,
        "start_time": "2021-09-30T18:36:04.353Z"
      },
      {
        "duration": 11,
        "start_time": "2021-09-30T18:36:04.922Z"
      },
      {
        "duration": 26,
        "start_time": "2021-09-30T18:36:04.935Z"
      },
      {
        "duration": 530,
        "start_time": "2021-09-30T18:36:04.964Z"
      },
      {
        "duration": 5,
        "start_time": "2021-09-30T18:36:05.496Z"
      },
      {
        "duration": 19,
        "start_time": "2021-09-30T18:36:05.504Z"
      },
      {
        "duration": 10,
        "start_time": "2021-09-30T18:36:05.526Z"
      },
      {
        "duration": 50764,
        "start_time": "2021-09-30T18:36:05.538Z"
      },
      {
        "duration": 13,
        "start_time": "2021-09-30T18:36:56.305Z"
      },
      {
        "duration": 6,
        "start_time": "2021-09-30T18:36:56.321Z"
      },
      {
        "duration": 21,
        "start_time": "2021-09-30T18:36:56.329Z"
      },
      {
        "duration": 6,
        "start_time": "2021-09-30T18:36:56.353Z"
      },
      {
        "duration": 43,
        "start_time": "2021-09-30T18:36:56.361Z"
      },
      {
        "duration": 207,
        "start_time": "2021-09-30T18:36:56.419Z"
      },
      {
        "duration": 17,
        "start_time": "2021-09-30T18:40:18.975Z"
      },
      {
        "duration": 10,
        "start_time": "2021-09-30T18:41:13.682Z"
      },
      {
        "duration": 8,
        "start_time": "2021-09-30T18:41:28.475Z"
      },
      {
        "duration": 16,
        "start_time": "2021-09-30T18:41:40.417Z"
      },
      {
        "duration": 7,
        "start_time": "2021-09-30T18:41:53.216Z"
      },
      {
        "duration": 16,
        "start_time": "2021-09-30T18:41:54.131Z"
      },
      {
        "duration": 10,
        "start_time": "2021-09-30T18:42:18.028Z"
      },
      {
        "duration": 17,
        "start_time": "2021-09-30T18:42:19.305Z"
      },
      {
        "duration": 135,
        "start_time": "2021-09-30T18:42:53.994Z"
      },
      {
        "duration": 17,
        "start_time": "2021-09-30T18:42:54.349Z"
      },
      {
        "duration": 577,
        "start_time": "2021-09-30T18:43:04.169Z"
      },
      {
        "duration": 17,
        "start_time": "2021-09-30T18:43:04.754Z"
      },
      {
        "duration": 50734,
        "start_time": "2021-09-30T18:44:27.234Z"
      },
      {
        "duration": 19,
        "start_time": "2021-09-30T18:45:34.726Z"
      },
      {
        "duration": 8,
        "start_time": "2021-09-30T18:45:51.046Z"
      },
      {
        "duration": 8,
        "start_time": "2021-09-30T18:45:59.522Z"
      },
      {
        "duration": 52164,
        "start_time": "2021-09-30T18:47:04.117Z"
      },
      {
        "duration": 13,
        "start_time": "2021-09-30T18:47:56.284Z"
      },
      {
        "duration": 7,
        "start_time": "2021-09-30T18:47:56.300Z"
      },
      {
        "duration": 3435,
        "start_time": "2021-09-30T18:48:11.203Z"
      },
      {
        "duration": 3436,
        "start_time": "2021-09-30T18:48:14.642Z"
      },
      {
        "duration": 3417,
        "start_time": "2021-09-30T18:48:18.084Z"
      },
      {
        "duration": 7392,
        "start_time": "2021-09-30T18:48:21.504Z"
      },
      {
        "duration": 1732,
        "start_time": "2021-09-30T18:48:28.899Z"
      },
      {
        "duration": 38,
        "start_time": "2021-09-30T18:48:30.634Z"
      },
      {
        "duration": 17,
        "start_time": "2021-09-30T18:48:30.675Z"
      },
      {
        "duration": 107,
        "start_time": "2021-09-30T18:48:30.696Z"
      },
      {
        "duration": 47,
        "start_time": "2021-09-30T18:48:30.806Z"
      },
      {
        "duration": 72,
        "start_time": "2021-09-30T18:48:30.856Z"
      },
      {
        "duration": 13,
        "start_time": "2021-09-30T18:48:30.930Z"
      },
      {
        "duration": 489,
        "start_time": "2021-09-30T18:48:30.945Z"
      },
      {
        "duration": 10,
        "start_time": "2021-09-30T18:48:31.436Z"
      },
      {
        "duration": 25,
        "start_time": "2021-09-30T18:48:31.449Z"
      },
      {
        "duration": 569,
        "start_time": "2021-09-30T18:48:31.476Z"
      },
      {
        "duration": 5,
        "start_time": "2021-09-30T18:48:32.047Z"
      },
      {
        "duration": 20,
        "start_time": "2021-09-30T18:48:32.055Z"
      },
      {
        "duration": 9,
        "start_time": "2021-09-30T18:48:32.077Z"
      },
      {
        "duration": 51507,
        "start_time": "2021-09-30T18:48:32.088Z"
      },
      {
        "duration": 113,
        "start_time": "2021-09-30T18:49:23.485Z"
      },
      {
        "duration": 112,
        "start_time": "2021-09-30T18:49:23.487Z"
      },
      {
        "duration": 111,
        "start_time": "2021-09-30T18:49:23.489Z"
      },
      {
        "duration": 112,
        "start_time": "2021-09-30T18:49:23.490Z"
      },
      {
        "duration": 112,
        "start_time": "2021-09-30T18:49:23.491Z"
      },
      {
        "duration": 113,
        "start_time": "2021-09-30T18:49:23.492Z"
      },
      {
        "duration": 5,
        "start_time": "2021-09-30T18:50:25.781Z"
      },
      {
        "duration": 8,
        "start_time": "2021-09-30T18:50:26.077Z"
      },
      {
        "duration": 403,
        "start_time": "2021-09-30T18:52:05.530Z"
      },
      {
        "duration": 4,
        "start_time": "2021-09-30T18:52:15.045Z"
      },
      {
        "duration": 10,
        "start_time": "2021-09-30T18:52:29.940Z"
      },
      {
        "duration": 51139,
        "start_time": "2021-09-30T18:54:02.330Z"
      },
      {
        "duration": 114,
        "start_time": "2021-09-30T18:54:53.358Z"
      },
      {
        "duration": 111,
        "start_time": "2021-09-30T18:54:53.362Z"
      },
      {
        "duration": 111,
        "start_time": "2021-09-30T18:54:53.364Z"
      },
      {
        "duration": 110,
        "start_time": "2021-09-30T18:54:53.366Z"
      },
      {
        "duration": 110,
        "start_time": "2021-09-30T18:54:53.367Z"
      },
      {
        "duration": 105,
        "start_time": "2021-09-30T18:54:53.373Z"
      },
      {
        "duration": 3416,
        "start_time": "2021-09-30T18:55:08.821Z"
      },
      {
        "duration": 3378,
        "start_time": "2021-09-30T18:55:12.241Z"
      },
      {
        "duration": 3509,
        "start_time": "2021-09-30T18:55:15.623Z"
      },
      {
        "duration": 8023,
        "start_time": "2021-09-30T18:55:19.135Z"
      },
      {
        "duration": 1766,
        "start_time": "2021-09-30T18:55:27.161Z"
      },
      {
        "duration": 37,
        "start_time": "2021-09-30T18:55:28.930Z"
      },
      {
        "duration": 5,
        "start_time": "2021-09-30T18:55:28.970Z"
      },
      {
        "duration": 81,
        "start_time": "2021-09-30T18:55:28.979Z"
      },
      {
        "duration": 5,
        "start_time": "2021-09-30T18:55:29.064Z"
      },
      {
        "duration": 45,
        "start_time": "2021-09-30T18:55:29.072Z"
      },
      {
        "duration": 35,
        "start_time": "2021-09-30T18:55:29.119Z"
      },
      {
        "duration": 59,
        "start_time": "2021-09-30T18:55:29.157Z"
      },
      {
        "duration": 11,
        "start_time": "2021-09-30T18:55:29.219Z"
      },
      {
        "duration": 494,
        "start_time": "2021-09-30T18:55:29.233Z"
      },
      {
        "duration": 10,
        "start_time": "2021-09-30T18:55:29.730Z"
      },
      {
        "duration": 23,
        "start_time": "2021-09-30T18:55:29.743Z"
      },
      {
        "duration": 514,
        "start_time": "2021-09-30T18:55:29.769Z"
      },
      {
        "duration": 5,
        "start_time": "2021-09-30T18:55:30.286Z"
      },
      {
        "duration": 36,
        "start_time": "2021-09-30T18:55:30.294Z"
      },
      {
        "duration": 23,
        "start_time": "2021-09-30T18:55:30.332Z"
      },
      {
        "duration": 50774,
        "start_time": "2021-09-30T18:55:30.358Z"
      },
      {
        "duration": 13,
        "start_time": "2021-09-30T18:56:21.135Z"
      },
      {
        "duration": 10,
        "start_time": "2021-09-30T18:56:21.152Z"
      },
      {
        "duration": 16,
        "start_time": "2021-09-30T18:56:21.164Z"
      },
      {
        "duration": 10,
        "start_time": "2021-09-30T18:56:21.182Z"
      },
      {
        "duration": 603,
        "start_time": "2021-09-30T18:56:21.195Z"
      },
      {
        "duration": 127,
        "start_time": "2021-09-30T18:56:21.674Z"
      },
      {
        "duration": 21,
        "start_time": "2021-09-30T18:56:59.722Z"
      },
      {
        "duration": 5,
        "start_time": "2021-09-30T18:57:48.115Z"
      },
      {
        "duration": 8,
        "start_time": "2021-09-30T18:57:48.415Z"
      },
      {
        "duration": 42,
        "start_time": "2021-09-30T18:57:54.208Z"
      },
      {
        "duration": 20,
        "start_time": "2021-09-30T18:57:58.776Z"
      },
      {
        "duration": 36,
        "start_time": "2021-09-30T18:58:08.231Z"
      },
      {
        "duration": 23,
        "start_time": "2021-09-30T18:58:12.749Z"
      },
      {
        "duration": 12,
        "start_time": "2021-09-30T19:00:11.547Z"
      },
      {
        "duration": 8,
        "start_time": "2021-09-30T19:00:16.771Z"
      },
      {
        "duration": 5,
        "start_time": "2021-09-30T19:00:22.225Z"
      },
      {
        "duration": 8,
        "start_time": "2021-09-30T19:00:23.348Z"
      },
      {
        "duration": 24,
        "start_time": "2021-09-30T19:00:29.101Z"
      },
      {
        "duration": 6,
        "start_time": "2021-09-30T19:00:39.433Z"
      },
      {
        "duration": 8,
        "start_time": "2021-09-30T19:00:40.000Z"
      },
      {
        "duration": 21,
        "start_time": "2021-09-30T19:00:45.131Z"
      },
      {
        "duration": 6,
        "start_time": "2021-09-30T19:00:51.425Z"
      },
      {
        "duration": 8,
        "start_time": "2021-09-30T19:00:51.712Z"
      },
      {
        "duration": 35,
        "start_time": "2021-09-30T19:00:53.212Z"
      },
      {
        "duration": 23,
        "start_time": "2021-09-30T19:00:55.660Z"
      },
      {
        "duration": 36,
        "start_time": "2021-09-30T19:01:00.387Z"
      },
      {
        "duration": 6,
        "start_time": "2021-09-30T19:01:03.452Z"
      },
      {
        "duration": 8,
        "start_time": "2021-09-30T19:01:03.756Z"
      },
      {
        "duration": 22,
        "start_time": "2021-09-30T19:01:07.534Z"
      },
      {
        "duration": 11,
        "start_time": "2021-09-30T19:01:27.195Z"
      },
      {
        "duration": 3437,
        "start_time": "2021-09-30T19:01:39.491Z"
      },
      {
        "duration": 3380,
        "start_time": "2021-09-30T19:01:42.931Z"
      },
      {
        "duration": 3387,
        "start_time": "2021-09-30T19:01:46.314Z"
      },
      {
        "duration": 7082,
        "start_time": "2021-09-30T19:01:49.704Z"
      },
      {
        "duration": 1651,
        "start_time": "2021-09-30T19:01:56.788Z"
      },
      {
        "duration": 38,
        "start_time": "2021-09-30T19:01:58.442Z"
      },
      {
        "duration": 10,
        "start_time": "2021-09-30T19:01:58.483Z"
      },
      {
        "duration": 85,
        "start_time": "2021-09-30T19:01:58.497Z"
      },
      {
        "duration": 6,
        "start_time": "2021-09-30T19:01:58.585Z"
      },
      {
        "duration": 27,
        "start_time": "2021-09-30T19:01:58.594Z"
      },
      {
        "duration": 36,
        "start_time": "2021-09-30T19:01:58.624Z"
      },
      {
        "duration": 59,
        "start_time": "2021-09-30T19:01:58.662Z"
      },
      {
        "duration": 13,
        "start_time": "2021-09-30T19:01:58.723Z"
      },
      {
        "duration": 486,
        "start_time": "2021-09-30T19:01:58.738Z"
      },
      {
        "duration": 11,
        "start_time": "2021-09-30T19:01:59.226Z"
      },
      {
        "duration": 23,
        "start_time": "2021-09-30T19:01:59.240Z"
      },
      {
        "duration": 560,
        "start_time": "2021-09-30T19:01:59.266Z"
      },
      {
        "duration": 5,
        "start_time": "2021-09-30T19:01:59.828Z"
      },
      {
        "duration": 12,
        "start_time": "2021-09-30T19:01:59.836Z"
      },
      {
        "duration": 5,
        "start_time": "2021-09-30T19:01:59.851Z"
      },
      {
        "duration": 50805,
        "start_time": "2021-09-30T19:01:59.858Z"
      },
      {
        "duration": 15,
        "start_time": "2021-09-30T19:02:50.666Z"
      },
      {
        "duration": 6,
        "start_time": "2021-09-30T19:02:50.687Z"
      },
      {
        "duration": 29,
        "start_time": "2021-09-30T19:02:50.697Z"
      },
      {
        "duration": 13,
        "start_time": "2021-09-30T19:02:50.729Z"
      },
      {
        "duration": 581,
        "start_time": "2021-09-30T19:02:50.745Z"
      },
      {
        "duration": 121,
        "start_time": "2021-09-30T19:02:51.209Z"
      },
      {
        "duration": 145,
        "start_time": "2021-09-30T19:05:35.718Z"
      },
      {
        "duration": 8,
        "start_time": "2021-09-30T19:05:45.491Z"
      },
      {
        "duration": 22,
        "start_time": "2021-09-30T19:05:57.594Z"
      },
      {
        "duration": 7,
        "start_time": "2021-09-30T19:06:04.216Z"
      },
      {
        "duration": 8,
        "start_time": "2021-09-30T19:06:12.136Z"
      },
      {
        "duration": 8,
        "start_time": "2021-09-30T19:06:33.238Z"
      },
      {
        "duration": 14,
        "start_time": "2021-09-30T19:06:38.393Z"
      },
      {
        "duration": 14,
        "start_time": "2021-09-30T19:08:34.117Z"
      },
      {
        "duration": 13,
        "start_time": "2021-09-30T19:08:47.247Z"
      },
      {
        "duration": 22,
        "start_time": "2021-09-30T19:09:55.780Z"
      },
      {
        "duration": 14,
        "start_time": "2021-09-30T19:10:04.656Z"
      },
      {
        "duration": 6,
        "start_time": "2021-09-30T19:10:45.980Z"
      },
      {
        "duration": 11,
        "start_time": "2021-09-30T19:10:49.720Z"
      },
      {
        "duration": 10,
        "start_time": "2021-09-30T19:10:53.153Z"
      },
      {
        "duration": 14,
        "start_time": "2021-09-30T19:10:56.493Z"
      },
      {
        "duration": 5,
        "start_time": "2021-09-30T19:10:58.738Z"
      },
      {
        "duration": 10,
        "start_time": "2021-09-30T19:11:03.960Z"
      },
      {
        "duration": 5,
        "start_time": "2021-09-30T19:11:06.936Z"
      },
      {
        "duration": 4040,
        "start_time": "2021-09-30T19:11:20.576Z"
      },
      {
        "duration": 3454,
        "start_time": "2021-09-30T19:11:24.619Z"
      },
      {
        "duration": 3350,
        "start_time": "2021-09-30T19:11:28.076Z"
      },
      {
        "duration": 7688,
        "start_time": "2021-09-30T19:11:31.429Z"
      },
      {
        "duration": 1677,
        "start_time": "2021-09-30T19:11:39.120Z"
      },
      {
        "duration": 37,
        "start_time": "2021-09-30T19:11:40.800Z"
      },
      {
        "duration": 8,
        "start_time": "2021-09-30T19:11:40.840Z"
      },
      {
        "duration": 110,
        "start_time": "2021-09-30T19:11:40.854Z"
      },
      {
        "duration": 7,
        "start_time": "2021-09-30T19:11:40.968Z"
      },
      {
        "duration": 44,
        "start_time": "2021-09-30T19:11:40.977Z"
      },
      {
        "duration": 45,
        "start_time": "2021-09-30T19:11:41.023Z"
      },
      {
        "duration": 48,
        "start_time": "2021-09-30T19:11:41.070Z"
      },
      {
        "duration": 18,
        "start_time": "2021-09-30T19:11:41.121Z"
      },
      {
        "duration": 491,
        "start_time": "2021-09-30T19:11:41.141Z"
      },
      {
        "duration": 10,
        "start_time": "2021-09-30T19:11:41.635Z"
      },
      {
        "duration": 22,
        "start_time": "2021-09-30T19:11:41.648Z"
      },
      {
        "duration": 551,
        "start_time": "2021-09-30T19:11:41.672Z"
      },
      {
        "duration": 6,
        "start_time": "2021-09-30T19:11:42.225Z"
      },
      {
        "duration": 12,
        "start_time": "2021-09-30T19:11:42.234Z"
      },
      {
        "duration": 5,
        "start_time": "2021-09-30T19:11:42.248Z"
      },
      {
        "duration": 50802,
        "start_time": "2021-09-30T19:11:42.255Z"
      },
      {
        "duration": 6,
        "start_time": "2021-09-30T19:12:33.060Z"
      },
      {
        "duration": 14,
        "start_time": "2021-09-30T19:12:33.071Z"
      },
      {
        "duration": 5,
        "start_time": "2021-09-30T19:12:33.088Z"
      },
      {
        "duration": 12,
        "start_time": "2021-09-30T19:12:33.096Z"
      },
      {
        "duration": 11,
        "start_time": "2021-09-30T19:12:33.111Z"
      },
      {
        "duration": 27,
        "start_time": "2021-09-30T19:12:33.124Z"
      },
      {
        "duration": 199,
        "start_time": "2021-09-30T19:12:33.153Z"
      },
      {
        "duration": 1551,
        "start_time": "2021-10-01T06:30:37.503Z"
      },
      {
        "duration": 15529,
        "start_time": "2021-10-01T06:30:55.977Z"
      },
      {
        "duration": 4089,
        "start_time": "2021-10-01T06:31:11.508Z"
      },
      {
        "duration": 4037,
        "start_time": "2021-10-01T06:31:15.599Z"
      },
      {
        "duration": 5039,
        "start_time": "2021-10-01T06:31:19.638Z"
      },
      {
        "duration": 1240,
        "start_time": "2021-10-01T06:31:24.679Z"
      },
      {
        "duration": 35,
        "start_time": "2021-10-01T06:31:25.922Z"
      },
      {
        "duration": 5,
        "start_time": "2021-10-01T06:31:25.958Z"
      },
      {
        "duration": 64,
        "start_time": "2021-10-01T06:31:25.965Z"
      },
      {
        "duration": 18,
        "start_time": "2021-10-01T06:31:26.032Z"
      },
      {
        "duration": 9,
        "start_time": "2021-10-01T06:31:26.052Z"
      },
      {
        "duration": 27,
        "start_time": "2021-10-01T06:31:26.064Z"
      },
      {
        "duration": 17,
        "start_time": "2021-10-01T06:31:26.093Z"
      },
      {
        "duration": 7,
        "start_time": "2021-10-01T06:31:26.112Z"
      },
      {
        "duration": 303,
        "start_time": "2021-10-01T06:31:26.150Z"
      },
      {
        "duration": 7,
        "start_time": "2021-10-01T06:31:26.455Z"
      },
      {
        "duration": 16,
        "start_time": "2021-10-01T06:31:26.464Z"
      },
      {
        "duration": 326,
        "start_time": "2021-10-01T06:31:26.481Z"
      },
      {
        "duration": 4,
        "start_time": "2021-10-01T06:31:26.808Z"
      },
      {
        "duration": 10,
        "start_time": "2021-10-01T06:31:26.814Z"
      },
      {
        "duration": 6,
        "start_time": "2021-10-01T06:31:26.825Z"
      },
      {
        "duration": 50743,
        "start_time": "2021-10-01T06:31:26.833Z"
      },
      {
        "duration": 5,
        "start_time": "2021-10-01T06:32:17.578Z"
      },
      {
        "duration": 17,
        "start_time": "2021-10-01T06:32:17.586Z"
      },
      {
        "duration": 6,
        "start_time": "2021-10-01T06:32:17.605Z"
      },
      {
        "duration": 15,
        "start_time": "2021-10-01T06:32:17.613Z"
      },
      {
        "duration": 5,
        "start_time": "2021-10-01T06:32:17.630Z"
      },
      {
        "duration": 21,
        "start_time": "2021-10-01T06:32:17.638Z"
      },
      {
        "duration": 125,
        "start_time": "2021-10-01T06:32:17.661Z"
      }
    ],
    "kernelspec": {
      "display_name": "Python 3",
      "language": "python",
      "name": "python3"
    },
    "language_info": {
      "codemirror_mode": {
        "name": "ipython",
        "version": 3
      },
      "file_extension": ".py",
      "mimetype": "text/x-python",
      "name": "python",
      "nbconvert_exporter": "python",
      "pygments_lexer": "ipython3",
      "version": "3.7.8"
    },
    "toc": {
      "base_numbering": 1,
      "nav_menu": {},
      "number_sections": true,
      "sideBar": true,
      "skip_h1_title": true,
      "title_cell": "Содержание",
      "title_sidebar": "Contents",
      "toc_cell": false,
      "toc_position": {
        "height": "calc(100% - 180px)",
        "left": "10px",
        "top": "150px",
        "width": "366.391px"
      },
      "toc_section_display": true,
      "toc_window_display": false
    },
    "colab": {
      "name": "avia_sales.ipynb",
      "provenance": []
    }
  },
  "cells": [
    {
      "cell_type": "markdown",
      "metadata": {
        "id": "fde5WJlbr6qE"
      },
      "source": [
        "<footer id=\"footer\"></footer>"
      ]
    },
    {
      "cell_type": "markdown",
      "metadata": {
        "id": "9l_5ZzjPr6qE"
      },
      "source": [
        "# <center> Спрос на рейсы авиакомпании </center>\n",
        "\n",
        "<p align=\"center\"><img src='https://i.ibb.co/VS9n8nH/shutterstock-1017473134.jpg'></p>"
      ]
    },
    {
      "cell_type": "markdown",
      "metadata": {
        "id": "_C9uD2NTr6qE"
      },
      "source": [
        "Для российской авиакомпании **F9**, выполняющей внутренние пассажирские перевозки необходимо понять предпочтения пользователей, покупающих билеты на разные направления.\n",
        "\n",
        "Нам предстоит изучить базу данных и проанализировать спрос пассажиров на рейсы в города, где проходят крупнейшие культурные фестивали.  \n",
        "\n",
        "\n",
        "---\n",
        "<font size=\"1\">\n",
        "Примечание\n",
        "\n",
        "*Мы уже достали данные из базы данных, анализировать будем csv файлы-результаты* [*запросов*](https://colab.research.google.com/drive/1osBgCMLtOMNYpirrVkX_hSZhVLjdsAuJ#scrollTo=OU5rZlUzXR6f)\n",
        "</font>     "
      ]
    },
    {
      "cell_type": "markdown",
      "metadata": {
        "id": "KyoARiONr6qF"
      },
      "source": [
        "<a href=\"#footer\">К содержанию</a>\n",
        "<footer id=\"footer\"></footer>\n",
        "\n",
        "---"
      ]
    },
    {
      "cell_type": "code",
      "metadata": {
        "id": "huIxKCtNr6qF"
      },
      "source": [
        "%%capture\n",
        "!pip install geopandas"
      ],
      "execution_count": null,
      "outputs": []
    },
    {
      "cell_type": "code",
      "metadata": {
        "id": "7y_BCH3mr6qG"
      },
      "source": [
        "%%capture\n",
        "!pip install folium"
      ],
      "execution_count": null,
      "outputs": []
    },
    {
      "cell_type": "code",
      "metadata": {
        "id": "wAfHehb1r6qG"
      },
      "source": [
        "%%capture\n",
        "!pip install geopy==1.22.0"
      ],
      "execution_count": null,
      "outputs": []
    },
    {
      "cell_type": "code",
      "metadata": {
        "id": "XTlf5ISar6qG"
      },
      "source": [
        "import pandas as pd\n",
        "import numpy as np\n",
        "import matplotlib.pyplot as plt\n",
        "import seaborn as sns\n",
        "import geopandas as gpd\n",
        "import math\n",
        "import folium\n",
        "import warnings\n",
        "\n",
        "\n",
        "from folium import Marker\n",
        "from folium.plugins import MarkerCluster\n",
        "from geopandas.tools import geocode\n",
        "\n",
        "\n",
        "warnings.filterwarnings(\"ignore\")\n",
        "sns.set_style ('darkgrid')\n",
        "%matplotlib inline\n",
        "np.random.seed(42)"
      ],
      "execution_count": null,
      "outputs": []
    },
    {
      "cell_type": "markdown",
      "metadata": {
        "id": "WrXJau1er6qH"
      },
      "source": [
        "<a href=\"#footer\">К содержанию</a>\n",
        "<footer id=\"footer\"></footer>\n",
        "\n",
        "---"
      ]
    },
    {
      "cell_type": "markdown",
      "metadata": {
        "id": "zonrfTydr6qH"
      },
      "source": [
        "## Импорт данных"
      ]
    },
    {
      "cell_type": "code",
      "metadata": {
        "id": "GeGEw54gr6qH"
      },
      "source": [
        "%%capture\n",
        "!gdown --id 1nI8fREutjBidCPIJIdRPDUrLTpUXBwa8\n",
        "!gdown --id 1Y40Rzb36hMlpWJ2FtKdPanf1pR7s-PaU"
      ],
      "execution_count": null,
      "outputs": []
    },
    {
      "cell_type": "code",
      "metadata": {
        "id": "KMmJ39jGr6qI"
      },
      "source": [
        "try:\n",
        "    df_q1 = pd.read_csv('/content/query_1.csv')\n",
        "    df_q3 = pd.read_csv('/content/query_3.csv')\n",
        "except:\n",
        "    df_q1 = pd.read_csv('/datasets/query_1.csv')\n",
        "    df_q3 = pd.read_csv('/datasets/query_3.csv')"
      ],
      "execution_count": null,
      "outputs": []
    },
    {
      "cell_type": "code",
      "metadata": {
        "id": "IPjsPlaTr6qI"
      },
      "source": [
        "def get_info(data):\n",
        "    display(data.head().style.set_caption('Общая информация по датасету'))\n",
        "    display(data.describe().T)\n",
        "    print('----')\n",
        "    print('Информация о пропусках и типах данных')\n",
        "    print('----')\n",
        "    print()\n",
        "    display(data.info())\n",
        "    print('----')\n",
        "    print()"
      ],
      "execution_count": null,
      "outputs": []
    },
    {
      "cell_type": "code",
      "metadata": {
        "id": "ol0zfmg6r6qJ",
        "outputId": "0e8a626d-4a24-48bf-b0db-e00cdab9f765"
      },
      "source": [
        "get_info(df_q1)"
      ],
      "execution_count": null,
      "outputs": [
        {
          "data": {
            "text/html": [
              "<style  type=\"text/css\" >\n",
              "</style><table id=\"T_33fd973c_2281_11ec_85cc_02420a391026\" ><caption>Общая информация по датасету</caption><thead>    <tr>        <th class=\"blank level0\" ></th>        <th class=\"col_heading level0 col0\" >model</th>        <th class=\"col_heading level0 col1\" >flights_amount</th>    </tr></thead><tbody>\n",
              "                <tr>\n",
              "                        <th id=\"T_33fd973c_2281_11ec_85cc_02420a391026level0_row0\" class=\"row_heading level0 row0\" >0</th>\n",
              "                        <td id=\"T_33fd973c_2281_11ec_85cc_02420a391026row0_col0\" class=\"data row0 col0\" >Airbus A319-100</td>\n",
              "                        <td id=\"T_33fd973c_2281_11ec_85cc_02420a391026row0_col1\" class=\"data row0 col1\" >607</td>\n",
              "            </tr>\n",
              "            <tr>\n",
              "                        <th id=\"T_33fd973c_2281_11ec_85cc_02420a391026level0_row1\" class=\"row_heading level0 row1\" >1</th>\n",
              "                        <td id=\"T_33fd973c_2281_11ec_85cc_02420a391026row1_col0\" class=\"data row1 col0\" >Airbus A321-200</td>\n",
              "                        <td id=\"T_33fd973c_2281_11ec_85cc_02420a391026row1_col1\" class=\"data row1 col1\" >960</td>\n",
              "            </tr>\n",
              "            <tr>\n",
              "                        <th id=\"T_33fd973c_2281_11ec_85cc_02420a391026level0_row2\" class=\"row_heading level0 row2\" >2</th>\n",
              "                        <td id=\"T_33fd973c_2281_11ec_85cc_02420a391026row2_col0\" class=\"data row2 col0\" >Boeing 737-300</td>\n",
              "                        <td id=\"T_33fd973c_2281_11ec_85cc_02420a391026row2_col1\" class=\"data row2 col1\" >630</td>\n",
              "            </tr>\n",
              "            <tr>\n",
              "                        <th id=\"T_33fd973c_2281_11ec_85cc_02420a391026level0_row3\" class=\"row_heading level0 row3\" >3</th>\n",
              "                        <td id=\"T_33fd973c_2281_11ec_85cc_02420a391026row3_col0\" class=\"data row3 col0\" >Boeing 767-300</td>\n",
              "                        <td id=\"T_33fd973c_2281_11ec_85cc_02420a391026row3_col1\" class=\"data row3 col1\" >600</td>\n",
              "            </tr>\n",
              "            <tr>\n",
              "                        <th id=\"T_33fd973c_2281_11ec_85cc_02420a391026level0_row4\" class=\"row_heading level0 row4\" >4</th>\n",
              "                        <td id=\"T_33fd973c_2281_11ec_85cc_02420a391026row4_col0\" class=\"data row4 col0\" >Boeing 777-300</td>\n",
              "                        <td id=\"T_33fd973c_2281_11ec_85cc_02420a391026row4_col1\" class=\"data row4 col1\" >300</td>\n",
              "            </tr>\n",
              "    </tbody></table>"
            ],
            "text/plain": [
              "<pandas.io.formats.style.Styler at 0x7fc7e8d3b4d0>"
            ]
          },
          "metadata": {},
          "output_type": "display_data"
        },
        {
          "data": {
            "text/html": [
              "<div>\n",
              "<style scoped>\n",
              "    .dataframe tbody tr th:only-of-type {\n",
              "        vertical-align: middle;\n",
              "    }\n",
              "\n",
              "    .dataframe tbody tr th {\n",
              "        vertical-align: top;\n",
              "    }\n",
              "\n",
              "    .dataframe thead th {\n",
              "        text-align: right;\n",
              "    }\n",
              "</style>\n",
              "<table border=\"1\" class=\"dataframe\">\n",
              "  <thead>\n",
              "    <tr style=\"text-align: right;\">\n",
              "      <th></th>\n",
              "      <th>count</th>\n",
              "      <th>mean</th>\n",
              "      <th>std</th>\n",
              "      <th>min</th>\n",
              "      <th>25%</th>\n",
              "      <th>50%</th>\n",
              "      <th>75%</th>\n",
              "      <th>max</th>\n",
              "    </tr>\n",
              "  </thead>\n",
              "  <tbody>\n",
              "    <tr>\n",
              "      <td>flights_amount</td>\n",
              "      <td>8.0</td>\n",
              "      <td>2035.625</td>\n",
              "      <td>1965.203947</td>\n",
              "      <td>300.0</td>\n",
              "      <td>605.25</td>\n",
              "      <td>795.0</td>\n",
              "      <td>4250.25</td>\n",
              "      <td>4557.0</td>\n",
              "    </tr>\n",
              "  </tbody>\n",
              "</table>\n",
              "</div>"
            ],
            "text/plain": [
              "                count      mean          std    min     25%    50%      75%  \\\n",
              "flights_amount    8.0  2035.625  1965.203947  300.0  605.25  795.0  4250.25   \n",
              "\n",
              "                   max  \n",
              "flights_amount  4557.0  "
            ]
          },
          "metadata": {},
          "output_type": "display_data"
        },
        {
          "name": "stdout",
          "output_type": "stream",
          "text": [
            "----\n",
            "Информация о пропусках и типах данных\n",
            "----\n",
            "\n",
            "<class 'pandas.core.frame.DataFrame'>\n",
            "RangeIndex: 8 entries, 0 to 7\n",
            "Data columns (total 2 columns):\n",
            "model             8 non-null object\n",
            "flights_amount    8 non-null int64\n",
            "dtypes: int64(1), object(1)\n",
            "memory usage: 256.0+ bytes\n"
          ]
        },
        {
          "data": {
            "text/plain": [
              "None"
            ]
          },
          "metadata": {},
          "output_type": "display_data"
        },
        {
          "name": "stdout",
          "output_type": "stream",
          "text": [
            "----\n",
            "\n"
          ]
        }
      ]
    },
    {
      "cell_type": "markdown",
      "metadata": {
        "id": "v2rsbXjnr6qJ"
      },
      "source": [
        "\n",
        "**df_q1 - query_1.csv** — результат первого запроса. В нём содержится следующая информация:\n",
        "\n",
        "- *model* — модель самолета;\n",
        "- *flights_amount* — количество рейсов для каждой модели самолетов *model* в сентябре 2018 года.\n",
        "\n",
        "Пропусков не наблюдается, преобразовать типы данных нет необходимости: для названий нас устраивает `object`,  \n",
        "\n",
        "для количества устраивает `int64` - целые числа. Можно немного уменьшить занимаему память, понизив тип до `int16`\n"
      ]
    },
    {
      "cell_type": "code",
      "metadata": {
        "id": "KqR5AxZ7r6qK"
      },
      "source": [
        "df_q1 = df_q1.astype({'flights_amount': 'int16'})"
      ],
      "execution_count": null,
      "outputs": []
    },
    {
      "cell_type": "code",
      "metadata": {
        "id": "M5YQgkCDr6qK",
        "outputId": "5a693a47-ed1b-4d43-ebc9-c97ed6d924b4"
      },
      "source": [
        "df_q1.info()"
      ],
      "execution_count": null,
      "outputs": [
        {
          "name": "stdout",
          "output_type": "stream",
          "text": [
            "<class 'pandas.core.frame.DataFrame'>\n",
            "RangeIndex: 8 entries, 0 to 7\n",
            "Data columns (total 2 columns):\n",
            "model             8 non-null object\n",
            "flights_amount    8 non-null int16\n",
            "dtypes: int16(1), object(1)\n",
            "memory usage: 208.0+ bytes\n"
          ]
        }
      ]
    },
    {
      "cell_type": "markdown",
      "metadata": {
        "id": "baFRz-4fr6qK"
      },
      "source": [
        "Незначительно, сэкономили занимаемую память. Посмотрим второй сет"
      ]
    },
    {
      "cell_type": "code",
      "metadata": {
        "id": "colPlyu4r6qK",
        "outputId": "9a667963-37c9-42c9-cbc1-4a1980e7a609"
      },
      "source": [
        "get_info(df_q3)"
      ],
      "execution_count": null,
      "outputs": [
        {
          "data": {
            "text/html": [
              "<style  type=\"text/css\" >\n",
              "</style><table id=\"T_34081aea_2281_11ec_85cc_02420a391026\" ><caption>Общая информация по датасету</caption><thead>    <tr>        <th class=\"blank level0\" ></th>        <th class=\"col_heading level0 col0\" >city</th>        <th class=\"col_heading level0 col1\" >average_flights</th>    </tr></thead><tbody>\n",
              "                <tr>\n",
              "                        <th id=\"T_34081aea_2281_11ec_85cc_02420a391026level0_row0\" class=\"row_heading level0 row0\" >0</th>\n",
              "                        <td id=\"T_34081aea_2281_11ec_85cc_02420a391026row0_col0\" class=\"data row0 col0\" >Абакан</td>\n",
              "                        <td id=\"T_34081aea_2281_11ec_85cc_02420a391026row0_col1\" class=\"data row0 col1\" >3.87097</td>\n",
              "            </tr>\n",
              "            <tr>\n",
              "                        <th id=\"T_34081aea_2281_11ec_85cc_02420a391026level0_row1\" class=\"row_heading level0 row1\" >1</th>\n",
              "                        <td id=\"T_34081aea_2281_11ec_85cc_02420a391026row1_col0\" class=\"data row1 col0\" >Анадырь</td>\n",
              "                        <td id=\"T_34081aea_2281_11ec_85cc_02420a391026row1_col1\" class=\"data row1 col1\" >1</td>\n",
              "            </tr>\n",
              "            <tr>\n",
              "                        <th id=\"T_34081aea_2281_11ec_85cc_02420a391026level0_row2\" class=\"row_heading level0 row2\" >2</th>\n",
              "                        <td id=\"T_34081aea_2281_11ec_85cc_02420a391026row2_col0\" class=\"data row2 col0\" >Анапа</td>\n",
              "                        <td id=\"T_34081aea_2281_11ec_85cc_02420a391026row2_col1\" class=\"data row2 col1\" >2.16129</td>\n",
              "            </tr>\n",
              "            <tr>\n",
              "                        <th id=\"T_34081aea_2281_11ec_85cc_02420a391026level0_row3\" class=\"row_heading level0 row3\" >3</th>\n",
              "                        <td id=\"T_34081aea_2281_11ec_85cc_02420a391026row3_col0\" class=\"data row3 col0\" >Архангельск</td>\n",
              "                        <td id=\"T_34081aea_2281_11ec_85cc_02420a391026row3_col1\" class=\"data row3 col1\" >5.35484</td>\n",
              "            </tr>\n",
              "            <tr>\n",
              "                        <th id=\"T_34081aea_2281_11ec_85cc_02420a391026level0_row4\" class=\"row_heading level0 row4\" >4</th>\n",
              "                        <td id=\"T_34081aea_2281_11ec_85cc_02420a391026row4_col0\" class=\"data row4 col0\" >Астрахань</td>\n",
              "                        <td id=\"T_34081aea_2281_11ec_85cc_02420a391026row4_col1\" class=\"data row4 col1\" >2.45161</td>\n",
              "            </tr>\n",
              "    </tbody></table>"
            ],
            "text/plain": [
              "<pandas.io.formats.style.Styler at 0x7fc7e8ce1c10>"
            ]
          },
          "metadata": {},
          "output_type": "display_data"
        },
        {
          "data": {
            "text/html": [
              "<div>\n",
              "<style scoped>\n",
              "    .dataframe tbody tr th:only-of-type {\n",
              "        vertical-align: middle;\n",
              "    }\n",
              "\n",
              "    .dataframe tbody tr th {\n",
              "        vertical-align: top;\n",
              "    }\n",
              "\n",
              "    .dataframe thead th {\n",
              "        text-align: right;\n",
              "    }\n",
              "</style>\n",
              "<table border=\"1\" class=\"dataframe\">\n",
              "  <thead>\n",
              "    <tr style=\"text-align: right;\">\n",
              "      <th></th>\n",
              "      <th>count</th>\n",
              "      <th>mean</th>\n",
              "      <th>std</th>\n",
              "      <th>min</th>\n",
              "      <th>25%</th>\n",
              "      <th>50%</th>\n",
              "      <th>75%</th>\n",
              "      <th>max</th>\n",
              "    </tr>\n",
              "  </thead>\n",
              "  <tbody>\n",
              "    <tr>\n",
              "      <td>average_flights</td>\n",
              "      <td>101.0</td>\n",
              "      <td>5.494189</td>\n",
              "      <td>13.11979</td>\n",
              "      <td>1.0</td>\n",
              "      <td>2.0</td>\n",
              "      <td>3.0</td>\n",
              "      <td>5.870968</td>\n",
              "      <td>129.774194</td>\n",
              "    </tr>\n",
              "  </tbody>\n",
              "</table>\n",
              "</div>"
            ],
            "text/plain": [
              "                 count      mean       std  min  25%  50%       75%  \\\n",
              "average_flights  101.0  5.494189  13.11979  1.0  2.0  3.0  5.870968   \n",
              "\n",
              "                        max  \n",
              "average_flights  129.774194  "
            ]
          },
          "metadata": {},
          "output_type": "display_data"
        },
        {
          "name": "stdout",
          "output_type": "stream",
          "text": [
            "----\n",
            "Информация о пропусках и типах данных\n",
            "----\n",
            "\n",
            "<class 'pandas.core.frame.DataFrame'>\n",
            "RangeIndex: 101 entries, 0 to 100\n",
            "Data columns (total 2 columns):\n",
            "city               101 non-null object\n",
            "average_flights    101 non-null float64\n",
            "dtypes: float64(1), object(1)\n",
            "memory usage: 1.7+ KB\n"
          ]
        },
        {
          "data": {
            "text/plain": [
              "None"
            ]
          },
          "metadata": {},
          "output_type": "display_data"
        },
        {
          "name": "stdout",
          "output_type": "stream",
          "text": [
            "----\n",
            "\n"
          ]
        }
      ]
    },
    {
      "cell_type": "markdown",
      "metadata": {
        "id": "_pA_CfEzr6qL"
      },
      "source": [
        "**query_3.csv** — результат третьего запроса. В нём содержится такая информация:\n",
        "\n",
        "- *city* — город;\n",
        "- *average_flights* — среднее количество рейсов, прибывающих в город (*city*) за день в сентябре 2018 года.\n",
        "\n",
        "Пропусков не наблюдается, преобразовать типы данных нет необходимости: для названий нас устраивает `object`, для среднего количества перелетов устраивает `float64` - дробные числа. Здесь менять тип данных не будем - занимаемоме место - незначительно"
      ]
    },
    {
      "cell_type": "markdown",
      "metadata": {
        "id": "i54WLdg2r6qL"
      },
      "source": [
        "<a href=\"#footer\">К содержанию</a>\n",
        "<footer id=\"footer\"></footer>\n",
        "\n",
        "---"
      ]
    },
    {
      "cell_type": "markdown",
      "metadata": {
        "id": "A2QULPdKr6qL"
      },
      "source": [
        "## Модели самолётов и количество рейсов"
      ]
    },
    {
      "cell_type": "code",
      "metadata": {
        "id": "KtjInAkQr6qL",
        "outputId": "0d104fd8-35b0-485f-b6ed-63b154932eb0"
      },
      "source": [
        "(df_q1.sort_values(by='flights_amount', ascending=False)\n",
        " .reset_index(drop=True).style.set_caption('Данные по количеству совершенных '\n",
        "                                            'полетов каждой модели самолета')\n",
        " .set_precision(2).background_gradient(low=0.42)).hide_index()"
      ],
      "execution_count": null,
      "outputs": [
        {
          "data": {
            "text/html": [
              "<style  type=\"text/css\" >\n",
              "    #T_340d8a2a_2281_11ec_85cc_02420a391026row0_col1 {\n",
              "            background-color:  #023858;\n",
              "            color:  #f1f1f1;\n",
              "        }    #T_340d8a2a_2281_11ec_85cc_02420a391026row1_col1 {\n",
              "            background-color:  #023c5f;\n",
              "            color:  #f1f1f1;\n",
              "        }    #T_340d8a2a_2281_11ec_85cc_02420a391026row2_col1 {\n",
              "            background-color:  #034871;\n",
              "            color:  #f1f1f1;\n",
              "        }    #T_340d8a2a_2281_11ec_85cc_02420a391026row3_col1 {\n",
              "            background-color:  #9ab8d8;\n",
              "            color:  #000000;\n",
              "        }    #T_340d8a2a_2281_11ec_85cc_02420a391026row4_col1 {\n",
              "            background-color:  #afc1dd;\n",
              "            color:  #000000;\n",
              "        }    #T_340d8a2a_2281_11ec_85cc_02420a391026row5_col1 {\n",
              "            background-color:  #b0c2de;\n",
              "            color:  #000000;\n",
              "        }    #T_340d8a2a_2281_11ec_85cc_02420a391026row6_col1 {\n",
              "            background-color:  #b0c2de;\n",
              "            color:  #000000;\n",
              "        }    #T_340d8a2a_2281_11ec_85cc_02420a391026row7_col1 {\n",
              "            background-color:  #c1cae2;\n",
              "            color:  #000000;\n",
              "        }</style><table id=\"T_340d8a2a_2281_11ec_85cc_02420a391026\" ><caption>Данные по количеству совершенных полетов каждой модели самолета</caption><thead>    <tr>        <th class=\"col_heading level0 col0\" >model</th>        <th class=\"col_heading level0 col1\" >flights_amount</th>    </tr></thead><tbody>\n",
              "                <tr>\n",
              "                                <td id=\"T_340d8a2a_2281_11ec_85cc_02420a391026row0_col0\" class=\"data row0 col0\" >Cessna 208 Caravan</td>\n",
              "                        <td id=\"T_340d8a2a_2281_11ec_85cc_02420a391026row0_col1\" class=\"data row0 col1\" >4557</td>\n",
              "            </tr>\n",
              "            <tr>\n",
              "                                <td id=\"T_340d8a2a_2281_11ec_85cc_02420a391026row1_col0\" class=\"data row1 col0\" >Bombardier CRJ-200</td>\n",
              "                        <td id=\"T_340d8a2a_2281_11ec_85cc_02420a391026row1_col1\" class=\"data row1 col1\" >4446</td>\n",
              "            </tr>\n",
              "            <tr>\n",
              "                                <td id=\"T_340d8a2a_2281_11ec_85cc_02420a391026row2_col0\" class=\"data row2 col0\" >Sukhoi SuperJet-100</td>\n",
              "                        <td id=\"T_340d8a2a_2281_11ec_85cc_02420a391026row2_col1\" class=\"data row2 col1\" >4185</td>\n",
              "            </tr>\n",
              "            <tr>\n",
              "                                <td id=\"T_340d8a2a_2281_11ec_85cc_02420a391026row3_col0\" class=\"data row3 col0\" >Airbus A321-200</td>\n",
              "                        <td id=\"T_340d8a2a_2281_11ec_85cc_02420a391026row3_col1\" class=\"data row3 col1\" >960</td>\n",
              "            </tr>\n",
              "            <tr>\n",
              "                                <td id=\"T_340d8a2a_2281_11ec_85cc_02420a391026row4_col0\" class=\"data row4 col0\" >Boeing 737-300</td>\n",
              "                        <td id=\"T_340d8a2a_2281_11ec_85cc_02420a391026row4_col1\" class=\"data row4 col1\" >630</td>\n",
              "            </tr>\n",
              "            <tr>\n",
              "                                <td id=\"T_340d8a2a_2281_11ec_85cc_02420a391026row5_col0\" class=\"data row5 col0\" >Airbus A319-100</td>\n",
              "                        <td id=\"T_340d8a2a_2281_11ec_85cc_02420a391026row5_col1\" class=\"data row5 col1\" >607</td>\n",
              "            </tr>\n",
              "            <tr>\n",
              "                                <td id=\"T_340d8a2a_2281_11ec_85cc_02420a391026row6_col0\" class=\"data row6 col0\" >Boeing 767-300</td>\n",
              "                        <td id=\"T_340d8a2a_2281_11ec_85cc_02420a391026row6_col1\" class=\"data row6 col1\" >600</td>\n",
              "            </tr>\n",
              "            <tr>\n",
              "                                <td id=\"T_340d8a2a_2281_11ec_85cc_02420a391026row7_col0\" class=\"data row7 col0\" >Boeing 777-300</td>\n",
              "                        <td id=\"T_340d8a2a_2281_11ec_85cc_02420a391026row7_col1\" class=\"data row7 col1\" >300</td>\n",
              "            </tr>\n",
              "    </tbody></table>"
            ],
            "text/plain": [
              "<pandas.io.formats.style.Styler at 0x7fc7e8ccf910>"
            ]
          },
          "execution_count": 12,
          "metadata": {},
          "output_type": "execute_result"
        }
      ]
    },
    {
      "cell_type": "markdown",
      "metadata": {
        "id": "mCo2xjfDr6qL"
      },
      "source": [
        "Лидирующие позиции занимают самолеты [Cessna 208 Caravan](https://ru.wikipedia.org/wiki/Cessna_208), [Bombardier CRJ-200](https://ru.wikipedia.org/wiki/Bombardier_CRJ200), [Sukhoi SuperJet-100](https://ru.wikipedia.org/wiki/Sukhoi_Superjet_100). Стоит отметить, что для своих более вместительных соседей по рейтингу - Cessna может перевозить только до 13 пассажиров, вероятнее всего, чаще будет использовать в регионах. В будущем можно провести анализ по распределению самолетов по регионам"
      ]
    },
    {
      "cell_type": "code",
      "metadata": {
        "id": "DpYjxvwrr6qM",
        "outputId": "b4726752-5af1-4b67-d7b8-f5f504cc4558"
      },
      "source": [
        "top_planes = (df_q1.sort_values(by='flights_amount', ascending=False)\n",
        "             .reset_index(drop=True))\n",
        "top_planes"
      ],
      "execution_count": null,
      "outputs": [
        {
          "data": {
            "text/html": [
              "<div>\n",
              "<style scoped>\n",
              "    .dataframe tbody tr th:only-of-type {\n",
              "        vertical-align: middle;\n",
              "    }\n",
              "\n",
              "    .dataframe tbody tr th {\n",
              "        vertical-align: top;\n",
              "    }\n",
              "\n",
              "    .dataframe thead th {\n",
              "        text-align: right;\n",
              "    }\n",
              "</style>\n",
              "<table border=\"1\" class=\"dataframe\">\n",
              "  <thead>\n",
              "    <tr style=\"text-align: right;\">\n",
              "      <th></th>\n",
              "      <th>model</th>\n",
              "      <th>flights_amount</th>\n",
              "    </tr>\n",
              "  </thead>\n",
              "  <tbody>\n",
              "    <tr>\n",
              "      <td>0</td>\n",
              "      <td>Cessna 208 Caravan</td>\n",
              "      <td>4557</td>\n",
              "    </tr>\n",
              "    <tr>\n",
              "      <td>1</td>\n",
              "      <td>Bombardier CRJ-200</td>\n",
              "      <td>4446</td>\n",
              "    </tr>\n",
              "    <tr>\n",
              "      <td>2</td>\n",
              "      <td>Sukhoi SuperJet-100</td>\n",
              "      <td>4185</td>\n",
              "    </tr>\n",
              "    <tr>\n",
              "      <td>3</td>\n",
              "      <td>Airbus A321-200</td>\n",
              "      <td>960</td>\n",
              "    </tr>\n",
              "    <tr>\n",
              "      <td>4</td>\n",
              "      <td>Boeing 737-300</td>\n",
              "      <td>630</td>\n",
              "    </tr>\n",
              "    <tr>\n",
              "      <td>5</td>\n",
              "      <td>Airbus A319-100</td>\n",
              "      <td>607</td>\n",
              "    </tr>\n",
              "    <tr>\n",
              "      <td>6</td>\n",
              "      <td>Boeing 767-300</td>\n",
              "      <td>600</td>\n",
              "    </tr>\n",
              "    <tr>\n",
              "      <td>7</td>\n",
              "      <td>Boeing 777-300</td>\n",
              "      <td>300</td>\n",
              "    </tr>\n",
              "  </tbody>\n",
              "</table>\n",
              "</div>"
            ],
            "text/plain": [
              "                 model  flights_amount\n",
              "0   Cessna 208 Caravan            4557\n",
              "1   Bombardier CRJ-200            4446\n",
              "2  Sukhoi SuperJet-100            4185\n",
              "3      Airbus A321-200             960\n",
              "4       Boeing 737-300             630\n",
              "5      Airbus A319-100             607\n",
              "6       Boeing 767-300             600\n",
              "7       Boeing 777-300             300"
            ]
          },
          "execution_count": 13,
          "metadata": {},
          "output_type": "execute_result"
        }
      ]
    },
    {
      "cell_type": "markdown",
      "metadata": {
        "id": "aY-shvnvr6qM"
      },
      "source": [
        "Визуализируем получившийся лидерборд самолетов"
      ]
    },
    {
      "cell_type": "code",
      "metadata": {
        "id": "8qTo9iExr6qM",
        "outputId": "529f2c51-efb6-4f53-b433-d42b2173ee1c"
      },
      "source": [
        "plt.figure(figsize=(12,6))\n",
        "plt.xticks(rotation=42)\n",
        "plt.title(\"Модели самолетов и количество рейсов\")\n",
        "ax_1 = sns.barplot(x=top_planes['model'], y=top_planes['flights_amount'], \n",
        "            alpha=.72, data=top_planes, dodge=True)\n",
        "\n",
        "for patch in ax_1.patches:\n",
        "    patch.set_edgecolor('black')\n",
        "\n",
        "plt.ylabel(\"Количество рейсов\")\n",
        "plt.xlabel(\"Модель самолета\")\n",
        "plt.show()"
      ],
      "execution_count": null,
      "outputs": [
        {
          "data": {
            "image/png": "[encoded data removed]",
            "text/plain": [
              "<Figure size 864x432 with 1 Axes>"
            ]
          },
          "metadata": {
            "needs_background": "light"
          },
          "output_type": "display_data"
        }
      ]
    },
    {
      "cell_type": "markdown",
      "metadata": {
        "id": "CU9punV_r6qM"
      },
      "source": [
        "Таким образом в авиапарке РФ лидирующие позиции занимают три самолета - [Cessna 208 Caravan](https://ru.wikipedia.org/wiki/Cessna_208), [Bombardier CRJ-200](https://ru.wikipedia.org/wiki/Bombardier_CRJ200), [Sukhoi SuperJet-100](https://ru.wikipedia.org/wiki/Sukhoi_Superjet_100)"
      ]
    },
    {
      "cell_type": "markdown",
      "metadata": {
        "id": "fhGm6QKnr6qM"
      },
      "source": [
        "<a href=\"#footer\">К содержанию</a>\n",
        "<footer id=\"footer\"></footer>\n",
        "\n",
        "---"
      ]
    },
    {
      "cell_type": "markdown",
      "metadata": {
        "id": "M0vJNI4Xr6qM"
      },
      "source": [
        "## Топ-10 городов по количеству рейсов"
      ]
    },
    {
      "cell_type": "code",
      "metadata": {
        "id": "xsbKDyS5r6qN",
        "outputId": "b46ba9d8-ce01-414a-babc-9be139f3ccb3"
      },
      "source": [
        "top_10_cities = df_q3.sort_values(by='average_flights', ascending=False).head(10)\n",
        "top_10_cities.style.hide_index()"
      ],
      "execution_count": null,
      "outputs": [
        {
          "data": {
            "text/html": [
              "<style  type=\"text/css\" >\n",
              "</style><table id=\"T_34432b12_2281_11ec_85cc_02420a391026\" ><thead>    <tr>        <th class=\"col_heading level0 col0\" >city</th>        <th class=\"col_heading level0 col1\" >average_flights</th>    </tr></thead><tbody>\n",
              "                <tr>\n",
              "                                <td id=\"T_34432b12_2281_11ec_85cc_02420a391026row0_col0\" class=\"data row0 col0\" >Москва</td>\n",
              "                        <td id=\"T_34432b12_2281_11ec_85cc_02420a391026row0_col1\" class=\"data row0 col1\" >129.774</td>\n",
              "            </tr>\n",
              "            <tr>\n",
              "                                <td id=\"T_34432b12_2281_11ec_85cc_02420a391026row1_col0\" class=\"data row1 col0\" >Санкт-Петербург</td>\n",
              "                        <td id=\"T_34432b12_2281_11ec_85cc_02420a391026row1_col1\" class=\"data row1 col1\" >31.1613</td>\n",
              "            </tr>\n",
              "            <tr>\n",
              "                                <td id=\"T_34432b12_2281_11ec_85cc_02420a391026row2_col0\" class=\"data row2 col0\" >Новосибирск</td>\n",
              "                        <td id=\"T_34432b12_2281_11ec_85cc_02420a391026row2_col1\" class=\"data row2 col1\" >17.3226</td>\n",
              "            </tr>\n",
              "            <tr>\n",
              "                                <td id=\"T_34432b12_2281_11ec_85cc_02420a391026row3_col0\" class=\"data row3 col0\" >Красноярск</td>\n",
              "                        <td id=\"T_34432b12_2281_11ec_85cc_02420a391026row3_col1\" class=\"data row3 col1\" >11.5806</td>\n",
              "            </tr>\n",
              "            <tr>\n",
              "                                <td id=\"T_34432b12_2281_11ec_85cc_02420a391026row4_col0\" class=\"data row4 col0\" >Екатеринбург</td>\n",
              "                        <td id=\"T_34432b12_2281_11ec_85cc_02420a391026row4_col1\" class=\"data row4 col1\" >11.3226</td>\n",
              "            </tr>\n",
              "            <tr>\n",
              "                                <td id=\"T_34432b12_2281_11ec_85cc_02420a391026row5_col0\" class=\"data row5 col0\" >Ростов-на-Дону</td>\n",
              "                        <td id=\"T_34432b12_2281_11ec_85cc_02420a391026row5_col1\" class=\"data row5 col1\" >10.1935</td>\n",
              "            </tr>\n",
              "            <tr>\n",
              "                                <td id=\"T_34432b12_2281_11ec_85cc_02420a391026row6_col0\" class=\"data row6 col0\" >Пермь</td>\n",
              "                        <td id=\"T_34432b12_2281_11ec_85cc_02420a391026row6_col1\" class=\"data row6 col1\" >10.129</td>\n",
              "            </tr>\n",
              "            <tr>\n",
              "                                <td id=\"T_34432b12_2281_11ec_85cc_02420a391026row7_col0\" class=\"data row7 col0\" >Брянск</td>\n",
              "                        <td id=\"T_34432b12_2281_11ec_85cc_02420a391026row7_col1\" class=\"data row7 col1\" >10</td>\n",
              "            </tr>\n",
              "            <tr>\n",
              "                                <td id=\"T_34432b12_2281_11ec_85cc_02420a391026row8_col0\" class=\"data row8 col0\" >Сочи</td>\n",
              "                        <td id=\"T_34432b12_2281_11ec_85cc_02420a391026row8_col1\" class=\"data row8 col1\" >9.6129</td>\n",
              "            </tr>\n",
              "            <tr>\n",
              "                                <td id=\"T_34432b12_2281_11ec_85cc_02420a391026row9_col0\" class=\"data row9 col0\" >Ульяновск</td>\n",
              "                        <td id=\"T_34432b12_2281_11ec_85cc_02420a391026row9_col1\" class=\"data row9 col1\" >9.58065</td>\n",
              "            </tr>\n",
              "    </tbody></table>"
            ],
            "text/plain": [
              "<pandas.io.formats.style.Styler at 0x7fc7e8b8d990>"
            ]
          },
          "execution_count": 15,
          "metadata": {},
          "output_type": "execute_result"
        }
      ]
    },
    {
      "cell_type": "code",
      "metadata": {
        "id": "K5ogK1kWr6qN",
        "outputId": "50f1f8ee-9c61-453f-a47a-544c93448bcc"
      },
      "source": [
        "(top_10_cities.style.set_caption('Данные по среднему количеству принятых '\n",
        "                                            'авиарейсов')\n",
        " .set_precision(4).background_gradient(low=0.08)).hide_index()"
      ],
      "execution_count": null,
      "outputs": [
        {
          "data": {
            "text/html": [
              "<style  type=\"text/css\" >\n",
              "    #T_3445e3c0_2281_11ec_85cc_02420a391026row0_col1 {\n",
              "            background-color:  #023858;\n",
              "            color:  #f1f1f1;\n",
              "        }    #T_3445e3c0_2281_11ec_85cc_02420a391026row1_col1 {\n",
              "            background-color:  #d2d3e7;\n",
              "            color:  #000000;\n",
              "        }    #T_3445e3c0_2281_11ec_85cc_02420a391026row2_col1 {\n",
              "            background-color:  #eae6f1;\n",
              "            color:  #000000;\n",
              "        }    #T_3445e3c0_2281_11ec_85cc_02420a391026row3_col1 {\n",
              "            background-color:  #f2ecf5;\n",
              "            color:  #000000;\n",
              "        }    #T_3445e3c0_2281_11ec_85cc_02420a391026row4_col1 {\n",
              "            background-color:  #f2ecf5;\n",
              "            color:  #000000;\n",
              "        }    #T_3445e3c0_2281_11ec_85cc_02420a391026row5_col1 {\n",
              "            background-color:  #f3edf5;\n",
              "            color:  #000000;\n",
              "        }    #T_3445e3c0_2281_11ec_85cc_02420a391026row6_col1 {\n",
              "            background-color:  #f3edf5;\n",
              "            color:  #000000;\n",
              "        }    #T_3445e3c0_2281_11ec_85cc_02420a391026row7_col1 {\n",
              "            background-color:  #f4edf6;\n",
              "            color:  #000000;\n",
              "        }    #T_3445e3c0_2281_11ec_85cc_02420a391026row8_col1 {\n",
              "            background-color:  #f4edf6;\n",
              "            color:  #000000;\n",
              "        }    #T_3445e3c0_2281_11ec_85cc_02420a391026row9_col1 {\n",
              "            background-color:  #f4eef6;\n",
              "            color:  #000000;\n",
              "        }</style><table id=\"T_3445e3c0_2281_11ec_85cc_02420a391026\" ><caption>Данные по среднему количеству принятых авиарейсов</caption><thead>    <tr>        <th class=\"col_heading level0 col0\" >city</th>        <th class=\"col_heading level0 col1\" >average_flights</th>    </tr></thead><tbody>\n",
              "                <tr>\n",
              "                                <td id=\"T_3445e3c0_2281_11ec_85cc_02420a391026row0_col0\" class=\"data row0 col0\" >Москва</td>\n",
              "                        <td id=\"T_3445e3c0_2281_11ec_85cc_02420a391026row0_col1\" class=\"data row0 col1\" >129.8</td>\n",
              "            </tr>\n",
              "            <tr>\n",
              "                                <td id=\"T_3445e3c0_2281_11ec_85cc_02420a391026row1_col0\" class=\"data row1 col0\" >Санкт-Петербург</td>\n",
              "                        <td id=\"T_3445e3c0_2281_11ec_85cc_02420a391026row1_col1\" class=\"data row1 col1\" >31.16</td>\n",
              "            </tr>\n",
              "            <tr>\n",
              "                                <td id=\"T_3445e3c0_2281_11ec_85cc_02420a391026row2_col0\" class=\"data row2 col0\" >Новосибирск</td>\n",
              "                        <td id=\"T_3445e3c0_2281_11ec_85cc_02420a391026row2_col1\" class=\"data row2 col1\" >17.32</td>\n",
              "            </tr>\n",
              "            <tr>\n",
              "                                <td id=\"T_3445e3c0_2281_11ec_85cc_02420a391026row3_col0\" class=\"data row3 col0\" >Красноярск</td>\n",
              "                        <td id=\"T_3445e3c0_2281_11ec_85cc_02420a391026row3_col1\" class=\"data row3 col1\" >11.58</td>\n",
              "            </tr>\n",
              "            <tr>\n",
              "                                <td id=\"T_3445e3c0_2281_11ec_85cc_02420a391026row4_col0\" class=\"data row4 col0\" >Екатеринбург</td>\n",
              "                        <td id=\"T_3445e3c0_2281_11ec_85cc_02420a391026row4_col1\" class=\"data row4 col1\" >11.32</td>\n",
              "            </tr>\n",
              "            <tr>\n",
              "                                <td id=\"T_3445e3c0_2281_11ec_85cc_02420a391026row5_col0\" class=\"data row5 col0\" >Ростов-на-Дону</td>\n",
              "                        <td id=\"T_3445e3c0_2281_11ec_85cc_02420a391026row5_col1\" class=\"data row5 col1\" >10.19</td>\n",
              "            </tr>\n",
              "            <tr>\n",
              "                                <td id=\"T_3445e3c0_2281_11ec_85cc_02420a391026row6_col0\" class=\"data row6 col0\" >Пермь</td>\n",
              "                        <td id=\"T_3445e3c0_2281_11ec_85cc_02420a391026row6_col1\" class=\"data row6 col1\" >10.13</td>\n",
              "            </tr>\n",
              "            <tr>\n",
              "                                <td id=\"T_3445e3c0_2281_11ec_85cc_02420a391026row7_col0\" class=\"data row7 col0\" >Брянск</td>\n",
              "                        <td id=\"T_3445e3c0_2281_11ec_85cc_02420a391026row7_col1\" class=\"data row7 col1\" >10</td>\n",
              "            </tr>\n",
              "            <tr>\n",
              "                                <td id=\"T_3445e3c0_2281_11ec_85cc_02420a391026row8_col0\" class=\"data row8 col0\" >Сочи</td>\n",
              "                        <td id=\"T_3445e3c0_2281_11ec_85cc_02420a391026row8_col1\" class=\"data row8 col1\" >9.613</td>\n",
              "            </tr>\n",
              "            <tr>\n",
              "                                <td id=\"T_3445e3c0_2281_11ec_85cc_02420a391026row9_col0\" class=\"data row9 col0\" >Ульяновск</td>\n",
              "                        <td id=\"T_3445e3c0_2281_11ec_85cc_02420a391026row9_col1\" class=\"data row9 col1\" >9.581</td>\n",
              "            </tr>\n",
              "    </tbody></table>"
            ],
            "text/plain": [
              "<pandas.io.formats.style.Styler at 0x7fc7e8c1d110>"
            ]
          },
          "execution_count": 16,
          "metadata": {},
          "output_type": "execute_result"
        }
      ]
    },
    {
      "cell_type": "markdown",
      "metadata": {
        "id": "8MWeffUfr6qN"
      },
      "source": [
        "Абсолютный лидер - Москва"
      ]
    },
    {
      "cell_type": "code",
      "metadata": {
        "id": "QVZfOgJWr6qN",
        "outputId": "958cf6ac-a99e-4996-cf09-972a2b456d83"
      },
      "source": [
        "plt.figure(figsize=(12,6))\n",
        "plt.xticks(rotation=42)\n",
        "plt.title(\"Топ-10 городов по количеству рейсов\")\n",
        "ax_2 = sns.barplot(x=top_10_cities['city'], y=top_10_cities['average_flights'], \n",
        "            alpha=.72, data=top_10_cities)\n",
        "for patch in ax_2.patches:\n",
        "    patch.set_edgecolor('black')\n",
        "    \n",
        "median_top = top_10_cities['average_flights'].median()\n",
        "mean_top = top_10_cities['average_flights'].mean()\n",
        "plt.hlines(y=median_top, xmin=-1, xmax=10, linestyle='--')\n",
        "plt.text(-1.5, 15, 'Медиана', ha='left', va='center')\n",
        "plt.hlines(y=mean_top, xmin=-1, xmax=10, linestyle='dashdot', label='Mean')\n",
        "plt.text(-1.5, 30, 'Среднее', ha='left', va='center')\n",
        "plt.ylabel(\"Количество рейсов\")\n",
        "plt.xlabel(\"Название населенного пункта\")\n",
        "plt.show()"
      ],
      "execution_count": null,
      "outputs": [
        {
          "data": {
            "image/png": "[encoded data removed]",
            "text/plain": [
              "<Figure size 864x432 with 1 Axes>"
            ]
          },
          "metadata": {
            "needs_background": "light"
          },
          "output_type": "display_data"
        }
      ]
    },
    {
      "cell_type": "markdown",
      "metadata": {
        "id": "rJ02AsK8r6qN"
      },
      "source": [
        "Лидерство принадлежит Москвае, затем следует Санкт-Петербург, остальные 8 городов имеют более менее близкие друг к другу и медиане значения загруженности по прилетам в день, при этом значения Москвы по своей сути являются выбросом по отношению к остальным значениям выборки\n"
      ]
    },
    {
      "cell_type": "markdown",
      "metadata": {
        "id": "c0Zyg_XYr6qO"
      },
      "source": [
        "<a href=\"#footer\">К содержанию</a>\n",
        "<footer id=\"footer\"></footer>\n",
        "\n",
        "---"
      ]
    },
    {
      "cell_type": "markdown",
      "metadata": {
        "id": "ZRCe72Mnr6qO"
      },
      "source": [
        "## Города и количество рейсов"
      ]
    },
    {
      "cell_type": "code",
      "metadata": {
        "id": "fsKFjkAEr6qO",
        "outputId": "b6ca5b27-be2d-45f5-f331-5e02e092e2b7"
      },
      "source": [
        "unique = df_q3['city'].nunique()\n",
        "print(f'Количество уникальных городов: {unique}')"
      ],
      "execution_count": null,
      "outputs": [
        {
          "name": "stdout",
          "output_type": "stream",
          "text": [
            "Количество уникальных городов: 101\n"
          ]
        }
      ]
    },
    {
      "cell_type": "markdown",
      "metadata": {
        "id": "-sYMB_gXr6qO"
      },
      "source": [
        "Строить гистограмму для такого количества городов будет громоздко - реализуем визуализацию через библиотеку `folium`"
      ]
    },
    {
      "cell_type": "code",
      "metadata": {
        "id": "VRpKFrvjr6qO",
        "outputId": "bb3743b9-e5cf-4290-c608-870748a6e724"
      },
      "source": [
        "df_q3.head()"
      ],
      "execution_count": null,
      "outputs": [
        {
          "data": {
            "text/html": [
              "<div>\n",
              "<style scoped>\n",
              "    .dataframe tbody tr th:only-of-type {\n",
              "        vertical-align: middle;\n",
              "    }\n",
              "\n",
              "    .dataframe tbody tr th {\n",
              "        vertical-align: top;\n",
              "    }\n",
              "\n",
              "    .dataframe thead th {\n",
              "        text-align: right;\n",
              "    }\n",
              "</style>\n",
              "<table border=\"1\" class=\"dataframe\">\n",
              "  <thead>\n",
              "    <tr style=\"text-align: right;\">\n",
              "      <th></th>\n",
              "      <th>city</th>\n",
              "      <th>average_flights</th>\n",
              "    </tr>\n",
              "  </thead>\n",
              "  <tbody>\n",
              "    <tr>\n",
              "      <td>0</td>\n",
              "      <td>Абакан</td>\n",
              "      <td>3.870968</td>\n",
              "    </tr>\n",
              "    <tr>\n",
              "      <td>1</td>\n",
              "      <td>Анадырь</td>\n",
              "      <td>1.000000</td>\n",
              "    </tr>\n",
              "    <tr>\n",
              "      <td>2</td>\n",
              "      <td>Анапа</td>\n",
              "      <td>2.161290</td>\n",
              "    </tr>\n",
              "    <tr>\n",
              "      <td>3</td>\n",
              "      <td>Архангельск</td>\n",
              "      <td>5.354839</td>\n",
              "    </tr>\n",
              "    <tr>\n",
              "      <td>4</td>\n",
              "      <td>Астрахань</td>\n",
              "      <td>2.451613</td>\n",
              "    </tr>\n",
              "  </tbody>\n",
              "</table>\n",
              "</div>"
            ],
            "text/plain": [
              "          city  average_flights\n",
              "0       Абакан         3.870968\n",
              "1      Анадырь         1.000000\n",
              "2        Анапа         2.161290\n",
              "3  Архангельск         5.354839\n",
              "4    Астрахань         2.451613"
            ]
          },
          "execution_count": 19,
          "metadata": {},
          "output_type": "execute_result"
        }
      ]
    },
    {
      "cell_type": "markdown",
      "metadata": {
        "id": "moprGOrKr6qO"
      },
      "source": [
        "Для начала нам необходимо провести геокодинг и для названия городов получить координаты. Воспользуемся geocode и [Nominatim](https://nominatim.openstreetmap.org/ui/search.html) как провайдер координат"
      ]
    },
    {
      "cell_type": "code",
      "metadata": {
        "id": "AISjfe76r6qO"
      },
      "source": [
        "def geocoder(row):\n",
        "    try:\n",
        "        point = geocode(row, provider='nominatim').geometry.iloc[0]\n",
        "        return pd.Series({'Latitude': point.y, 'Longitude': point.x, 'geometry': point})\n",
        "    except:\n",
        "        return None"
      ],
      "execution_count": null,
      "outputs": []
    },
    {
      "cell_type": "code",
      "metadata": {
        "id": "8vqbXANnr6qO"
      },
      "source": [
        "df_q3[['Latitude', 'Longitude', 'geometry']] = df_q3.apply(lambda x: geocoder(x['city']), axis=1)"
      ],
      "execution_count": null,
      "outputs": []
    },
    {
      "cell_type": "code",
      "metadata": {
        "id": "SsjYdlW6r6qO"
      },
      "source": [
        "df_q3.drop([62, 89], axis=0, inplace=True)"
      ],
      "execution_count": null,
      "outputs": []
    },
    {
      "cell_type": "code",
      "metadata": {
        "id": "D3YM89Hqr6qP",
        "outputId": "8cc3287a-4e3f-4667-d0f1-6a2b76521d80"
      },
      "source": [
        "df_q3.head()"
      ],
      "execution_count": null,
      "outputs": [
        {
          "data": {
            "text/html": [
              "<div>\n",
              "<style scoped>\n",
              "    .dataframe tbody tr th:only-of-type {\n",
              "        vertical-align: middle;\n",
              "    }\n",
              "\n",
              "    .dataframe tbody tr th {\n",
              "        vertical-align: top;\n",
              "    }\n",
              "\n",
              "    .dataframe thead th {\n",
              "        text-align: right;\n",
              "    }\n",
              "</style>\n",
              "<table border=\"1\" class=\"dataframe\">\n",
              "  <thead>\n",
              "    <tr style=\"text-align: right;\">\n",
              "      <th></th>\n",
              "      <th>city</th>\n",
              "      <th>average_flights</th>\n",
              "      <th>Latitude</th>\n",
              "      <th>Longitude</th>\n",
              "      <th>geometry</th>\n",
              "    </tr>\n",
              "  </thead>\n",
              "  <tbody>\n",
              "    <tr>\n",
              "      <td>0</td>\n",
              "      <td>Абакан</td>\n",
              "      <td>3.870968</td>\n",
              "      <td>53.720650</td>\n",
              "      <td>91.440355</td>\n",
              "      <td>POINT (91.44035529999999 53.7206497)</td>\n",
              "    </tr>\n",
              "    <tr>\n",
              "      <td>1</td>\n",
              "      <td>Анадырь</td>\n",
              "      <td>1.000000</td>\n",
              "      <td>64.731688</td>\n",
              "      <td>177.506092</td>\n",
              "      <td>POINT (177.5060925 64.73168750000001)</td>\n",
              "    </tr>\n",
              "    <tr>\n",
              "      <td>2</td>\n",
              "      <td>Анапа</td>\n",
              "      <td>2.161290</td>\n",
              "      <td>44.894272</td>\n",
              "      <td>37.316887</td>\n",
              "      <td>POINT (37.316887 44.894272)</td>\n",
              "    </tr>\n",
              "    <tr>\n",
              "      <td>3</td>\n",
              "      <td>Архангельск</td>\n",
              "      <td>5.354839</td>\n",
              "      <td>64.585487</td>\n",
              "      <td>40.532142</td>\n",
              "      <td>POINT (40.53214165232831 64.58548709999999)</td>\n",
              "    </tr>\n",
              "    <tr>\n",
              "      <td>4</td>\n",
              "      <td>Астрахань</td>\n",
              "      <td>2.451613</td>\n",
              "      <td>46.349831</td>\n",
              "      <td>48.032620</td>\n",
              "      <td>POINT (48.0326203 46.3498308)</td>\n",
              "    </tr>\n",
              "  </tbody>\n",
              "</table>\n",
              "</div>"
            ],
            "text/plain": [
              "          city  average_flights   Latitude   Longitude  \\\n",
              "0       Абакан         3.870968  53.720650   91.440355   \n",
              "1      Анадырь         1.000000  64.731688  177.506092   \n",
              "2        Анапа         2.161290  44.894272   37.316887   \n",
              "3  Архангельск         5.354839  64.585487   40.532142   \n",
              "4    Астрахань         2.451613  46.349831   48.032620   \n",
              "\n",
              "                                      geometry  \n",
              "0         POINT (91.44035529999999 53.7206497)  \n",
              "1        POINT (177.5060925 64.73168750000001)  \n",
              "2                  POINT (37.316887 44.894272)  \n",
              "3  POINT (40.53214165232831 64.58548709999999)  \n",
              "4                POINT (48.0326203 46.3498308)  "
            ]
          },
          "execution_count": 23,
          "metadata": {},
          "output_type": "execute_result"
        }
      ]
    },
    {
      "cell_type": "markdown",
      "metadata": {
        "id": "M9fHZTnCr6qP"
      },
      "source": [
        "Проверим, все ли города получили свой геокод"
      ]
    },
    {
      "cell_type": "code",
      "metadata": {
        "id": "89eJbMQar6qP",
        "outputId": "293f99cd-7ea6-4886-964d-81f98075b85c"
      },
      "source": [
        "print(\"{}% городов были геокодированы!\".format(\n",
        "    (1 - sum(np.isnan(df_q3[\"Latitude\"])) / len(df_q3)) * 100))"
      ],
      "execution_count": null,
      "outputs": [
        {
          "name": "stdout",
          "output_type": "stream",
          "text": [
            "100.0% городов были геокодированы!\n"
          ]
        }
      ]
    },
    {
      "cell_type": "markdown",
      "metadata": {
        "id": "6yLfNWy0r6qP"
      },
      "source": [
        "Поставим заглушку, на случай, если при перезапуске блокнота будет сбой в получении координат"
      ]
    },
    {
      "cell_type": "code",
      "metadata": {
        "id": "cUfmJA_0r6qP",
        "outputId": "1be49304-b99f-4194-f720-61f28bc5ebb0"
      },
      "source": [
        "df_q3.loc[np.isnan(df_q3[\"Latitude\"])]"
      ],
      "execution_count": null,
      "outputs": [
        {
          "data": {
            "text/html": [
              "<div>\n",
              "<style scoped>\n",
              "    .dataframe tbody tr th:only-of-type {\n",
              "        vertical-align: middle;\n",
              "    }\n",
              "\n",
              "    .dataframe tbody tr th {\n",
              "        vertical-align: top;\n",
              "    }\n",
              "\n",
              "    .dataframe thead th {\n",
              "        text-align: right;\n",
              "    }\n",
              "</style>\n",
              "<table border=\"1\" class=\"dataframe\">\n",
              "  <thead>\n",
              "    <tr style=\"text-align: right;\">\n",
              "      <th></th>\n",
              "      <th>city</th>\n",
              "      <th>average_flights</th>\n",
              "      <th>Latitude</th>\n",
              "      <th>Longitude</th>\n",
              "      <th>geometry</th>\n",
              "    </tr>\n",
              "  </thead>\n",
              "  <tbody>\n",
              "  </tbody>\n",
              "</table>\n",
              "</div>"
            ],
            "text/plain": [
              "Empty DataFrame\n",
              "Columns: [city, average_flights, Latitude, Longitude, geometry]\n",
              "Index: []"
            ]
          },
          "execution_count": 25,
          "metadata": {},
          "output_type": "execute_result"
        }
      ]
    },
    {
      "cell_type": "code",
      "metadata": {
        "id": "IA_yHTrAr6qP"
      },
      "source": [
        "df_q3 = df_q3.loc[~np.isnan(df_q3[\"Latitude\"])]"
      ],
      "execution_count": null,
      "outputs": []
    },
    {
      "cell_type": "markdown",
      "metadata": {
        "id": "7MlgbqIGr6qP"
      },
      "source": [
        "Создадим геопандас датафрейм и отобразим наши города с количеством перелетов на карте"
      ]
    },
    {
      "cell_type": "code",
      "metadata": {
        "id": "kmJpM0cYr6qP",
        "outputId": "1a3d4196-f326-4999-d077-f62db871925a"
      },
      "source": [
        "cities = gpd.GeoDataFrame(df_q3, geometry=df_q3.geometry)\n",
        "cities.crs = {'init': 'epsg:4326'}\n",
        "cities.head()"
      ],
      "execution_count": null,
      "outputs": [
        {
          "data": {
            "text/html": [
              "<div>\n",
              "<style scoped>\n",
              "    .dataframe tbody tr th:only-of-type {\n",
              "        vertical-align: middle;\n",
              "    }\n",
              "\n",
              "    .dataframe tbody tr th {\n",
              "        vertical-align: top;\n",
              "    }\n",
              "\n",
              "    .dataframe thead th {\n",
              "        text-align: right;\n",
              "    }\n",
              "</style>\n",
              "<table border=\"1\" class=\"dataframe\">\n",
              "  <thead>\n",
              "    <tr style=\"text-align: right;\">\n",
              "      <th></th>\n",
              "      <th>city</th>\n",
              "      <th>average_flights</th>\n",
              "      <th>Latitude</th>\n",
              "      <th>Longitude</th>\n",
              "      <th>geometry</th>\n",
              "    </tr>\n",
              "  </thead>\n",
              "  <tbody>\n",
              "    <tr>\n",
              "      <td>0</td>\n",
              "      <td>Абакан</td>\n",
              "      <td>3.870968</td>\n",
              "      <td>53.720650</td>\n",
              "      <td>91.440355</td>\n",
              "      <td>POINT (91.44036 53.72065)</td>\n",
              "    </tr>\n",
              "    <tr>\n",
              "      <td>1</td>\n",
              "      <td>Анадырь</td>\n",
              "      <td>1.000000</td>\n",
              "      <td>64.731688</td>\n",
              "      <td>177.506092</td>\n",
              "      <td>POINT (177.50609 64.73169)</td>\n",
              "    </tr>\n",
              "    <tr>\n",
              "      <td>2</td>\n",
              "      <td>Анапа</td>\n",
              "      <td>2.161290</td>\n",
              "      <td>44.894272</td>\n",
              "      <td>37.316887</td>\n",
              "      <td>POINT (37.31689 44.89427)</td>\n",
              "    </tr>\n",
              "    <tr>\n",
              "      <td>3</td>\n",
              "      <td>Архангельск</td>\n",
              "      <td>5.354839</td>\n",
              "      <td>64.585487</td>\n",
              "      <td>40.532142</td>\n",
              "      <td>POINT (40.53214 64.58549)</td>\n",
              "    </tr>\n",
              "    <tr>\n",
              "      <td>4</td>\n",
              "      <td>Астрахань</td>\n",
              "      <td>2.451613</td>\n",
              "      <td>46.349831</td>\n",
              "      <td>48.032620</td>\n",
              "      <td>POINT (48.03262 46.34983)</td>\n",
              "    </tr>\n",
              "  </tbody>\n",
              "</table>\n",
              "</div>"
            ],
            "text/plain": [
              "          city  average_flights   Latitude   Longitude  \\\n",
              "0       Абакан         3.870968  53.720650   91.440355   \n",
              "1      Анадырь         1.000000  64.731688  177.506092   \n",
              "2        Анапа         2.161290  44.894272   37.316887   \n",
              "3  Архангельск         5.354839  64.585487   40.532142   \n",
              "4    Астрахань         2.451613  46.349831   48.032620   \n",
              "\n",
              "                     geometry  \n",
              "0   POINT (91.44036 53.72065)  \n",
              "1  POINT (177.50609 64.73169)  \n",
              "2   POINT (37.31689 44.89427)  \n",
              "3   POINT (40.53214 64.58549)  \n",
              "4   POINT (48.03262 46.34983)  "
            ]
          },
          "execution_count": 27,
          "metadata": {},
          "output_type": "execute_result"
        }
      ]
    },
    {
      "cell_type": "code",
      "metadata": {
        "id": "XX2JAWAor6qP",
        "outputId": "26b064d4-168d-4782-fc7e-a20f1e717db2"
      },
      "source": [
        "m = folium.Map(location=[54, 85], tiles='openstreetmap', zoom_start=2)\n",
        "\n",
        "mc = MarkerCluster()\n",
        "for idx, row in cities.iterrows(): \n",
        "    if not math.isnan(row['Longitude']) and not math.isnan(row['Latitude']):\n",
        "        mc.add_child(Marker(location=[row['Latitude'], row['Longitude']],\n",
        "                            tooltip=[round(row['average_flights'], 2), row['city']]))\n",
        "    \n",
        "m.add_child(mc)    \n",
        "m"
      ],
      "execution_count": null,
      "outputs": [
        {
          "data": {
            "text/html": [
              "<div style=\"width:100%;\"><div style=\"position:relative;width:100%;height:0;padding-bottom:60%;\"><span style=\"color:#565656\">Make this Notebook Trusted to load map: File -> Trust Notebook</span><iframe src=\"about:blank\" style=\"position:absolute;width:100%;height:100%;left:0;top:0;border:none !important;\" data-html=%3C%21DOCTYPE%20html%3E%0A%3Chead%3E%20%20%20%20%0A%20%20%20%20%3Cmeta%20http-equiv%3D%22content-type%22%20content%3D%22text/html%3B%20charset%3DUTF-8%22%20/%3E%0A%20%20%20%20%0A%20%20%20%20%20%20%20%20%3Cscript%3E%0A%20%20%20%20%20%20%20%20%20%20%20%20L_NO_TOUCH%20%3D%20false%3B%0A%20%20%20%20%20%20%20%20%20%20%20%20L_DISABLE_3D%20%3D%20false%3B%0A%20%20%20%20%20%20%20%20%3C/script%3E%0A%20%20%20%20%0A%20%20%20%20%3Cstyle%3Ehtml%2C%20body%20%7Bwidth%3A%20100%25%3Bheight%3A%20100%25%3Bmargin%3A%200%3Bpadding%3A%200%3B%7D%3C/style%3E%0A%20%20%20%20%3Cstyle%3E%23map%20%7Bposition%3Aabsolute%3Btop%3A0%3Bbottom%3A0%3Bright%3A0%3Bleft%3A0%3B%7D%3C/style%3E%0A%20%20%20%20%3Cscript%20src%3D%22https%3A//cdn.jsdelivr.net/npm/leaflet%401.6.0/dist/leaflet.js%22%3E%3C/script%3E%0A%20%20%20%20%3Cscript%20src%3D%22https%3A//code.jquery.com/jquery-1.12.4.min.js%22%3E%3C/script%3E%0A%20%20%20%20%3Cscript%20src%3D%22https%3A//maxcdn.bootstrapcdn.com/bootstrap/3.2.0/js/bootstrap.min.js%22%3E%3C/script%3E%0A%20%20%20%20%3Cscript%20src%3D%22https%3A//cdnjs.cloudflare.com/ajax/libs/Leaflet.awesome-markers/2.0.2/leaflet.awesome-markers.js%22%3E%3C/script%3E%0A%20%20%20%20%3Clink%20rel%3D%22stylesheet%22%20href%3D%22https%3A//cdn.jsdelivr.net/npm/leaflet%401.6.0/dist/leaflet.css%22/%3E%0A%20%20%20%20%3Clink%20rel%3D%22stylesheet%22%20href%3D%22https%3A//maxcdn.bootstrapcdn.com/bootstrap/3.2.0/css/bootstrap.min.css%22/%3E%0A%20%20%20%20%3Clink%20rel%3D%22stylesheet%22%20href%3D%22https%3A//maxcdn.bootstrapcdn.com/bootstrap/3.2.0/css/bootstrap-theme.min.css%22/%3E%0A%20%20%20%20%3Clink%20rel%3D%22stylesheet%22%20href%3D%22https%3A//maxcdn.bootstrapcdn.com/font-awesome/4.6.3/css/font-awesome.min.css%22/%3E%0A%20%20%20%20%3Clink%20rel%3D%22stylesheet%22%20href%3D%22https%3A//cdnjs.cloudflare.com/ajax/libs/Leaflet.awesome-markers/2.0.2/leaflet.awesome-markers.css%22/%3E%0A%20%20%20%20%3Clink%20rel%3D%22stylesheet%22%20href%3D%22https%3A//cdn.jsdelivr.net/gh/python-visualization/folium/folium/templates/leaflet.awesome.rotate.min.css%22/%3E%0A%20%20%20%20%0A%20%20%20%20%20%20%20%20%20%20%20%20%3Cmeta%20name%3D%22viewport%22%20content%3D%22width%3Ddevice-width%2C%0A%20%20%20%20%20%20%20%20%20%20%20%20%20%20%20%20initial-scale%3D1.0%2C%20maximum-scale%3D1.0%2C%20user-scalable%3Dno%22%20/%3E%0A%20%20%20%20%20%20%20%20%20%20%20%20%3Cstyle%3E%0A%20%20%20%20%20%20%20%20%20%20%20%20%20%20%20%20%23map_9335ecc652a14d2ea44ddfdb630cc570%20%7B%0A%20%20%20%20%20%20%20%20%20%20%20%20%20%20%20%20%20%20%20%20position%3A%20relative%3B%0A%20%20%20%20%20%20%20%20%20%20%20%20%20%20%20%20%20%20%20%20width%3A%20100.0%25%3B%0A%20%20%20%20%20%20%20%20%20%20%20%20%20%20%20%20%20%20%20%20height%3A%20100.0%25%3B%0A%20%20%20%20%20%20%20%20%20%20%20%20%20%20%20%20%20%20%20%20left%3A%200.0%25%3B%0A%20%20%20%20%20%20%20%20%20%20%20%20%20%20%20%20%20%20%20%20top%3A%200.0%25%3B%0A%20%20%20%20%20%20%20%20%20%20%20%20%20%20%20%20%7D%0A%20%20%20%20%20%20%20%20%20%20%20%20%3C/style%3E%0A%20%20%20%20%20%20%20%20%0A%20%20%20%20%3Cscript%20src%3D%22https%3A//cdnjs.cloudflare.com/ajax/libs/leaflet.markercluster/1.1.0/leaflet.markercluster.js%22%3E%3C/script%3E%0A%20%20%20%20%3Clink%20rel%3D%22stylesheet%22%20href%3D%22https%3A//cdnjs.cloudflare.com/ajax/libs/leaflet.markercluster/1.1.0/MarkerCluster.css%22/%3E%0A%20%20%20%20%3Clink%20rel%3D%22stylesheet%22%20href%3D%22https%3A//cdnjs.cloudflare.com/ajax/libs/leaflet.markercluster/1.1.0/MarkerCluster.Default.css%22/%3E%0A%3C/head%3E%0A%3Cbody%3E%20%20%20%20%0A%20%20%20%20%0A%20%20%20%20%20%20%20%20%20%20%20%20%3Cdiv%20class%3D%22folium-map%22%20id%3D%22map_9335ecc652a14d2ea44ddfdb630cc570%22%20%3E%3C/div%3E%0A%20%20%20%20%20%20%20%20%0A%3C/body%3E%0A%3Cscript%3E%20%20%20%20%0A%20%20%20%20%0A%20%20%20%20%20%20%20%20%20%20%20%20var%20map_9335ecc652a14d2ea44ddfdb630cc570%20%3D%20L.map%28%0A%20%20%20%20%20%20%20%20%20%20%20%20%20%20%20%20%22map_9335ecc652a14d2ea44ddfdb630cc570%22%2C%0A%20%20%20%20%20%20%20%20%20%20%20%20%20%20%20%20%7B%0A%20%20%20%20%20%20%20%20%20%20%20%20%20%20%20%20%20%20%20%20center%3A%20%5B54.0%2C%2085.0%5D%2C%0A%20%20%20%20%20%20%20%20%20%20%20%20%20%20%20%20%20%20%20%20crs%3A%20L.CRS.EPSG3857%2C%0A%20%20%20%20%20%20%20%20%20%20%20%20%20%20%20%20%20%20%20%20zoom%3A%202%2C%0A%20%20%20%20%20%20%20%20%20%20%20%20%20%20%20%20%20%20%20%20zoomControl%3A%20true%2C%0A%20%20%20%20%20%20%20%20%20%20%20%20%20%20%20%20%20%20%20%20preferCanvas%3A%20false%2C%0A%20%20%20%20%20%20%20%20%20%20%20%20%20%20%20%20%7D%0A%20%20%20%20%20%20%20%20%20%20%20%20%29%3B%0A%0A%20%20%20%20%20%20%20%20%20%20%20%20%0A%0A%20%20%20%20%20%20%20%20%0A%20%20%20%20%0A%20%20%20%20%20%20%20%20%20%20%20%20var%20tile_layer_62fadda36c574750929f14b083261513%20%3D%20L.tileLayer%28%0A%20%20%20%20%20%20%20%20%20%20%20%20%20%20%20%20%22https%3A//%7Bs%7D.tile.openstreetmap.org/%7Bz%7D/%7Bx%7D/%7By%7D.png%22%2C%0A%20%20%20%20%20%20%20%20%20%20%20%20%20%20%20%20%7B%22attribution%22%3A%20%22Data%20by%20%5Cu0026copy%3B%20%5Cu003ca%20href%3D%5C%22http%3A//openstreetmap.org%5C%22%5Cu003eOpenStreetMap%5Cu003c/a%5Cu003e%2C%20under%20%5Cu003ca%20href%3D%5C%22http%3A//www.openstreetmap.org/copyright%5C%22%5Cu003eODbL%5Cu003c/a%5Cu003e.%22%2C%20%22detectRetina%22%3A%20false%2C%20%22maxNativeZoom%22%3A%2018%2C%20%22maxZoom%22%3A%2018%2C%20%22minZoom%22%3A%200%2C%20%22noWrap%22%3A%20false%2C%20%22opacity%22%3A%201%2C%20%22subdomains%22%3A%20%22abc%22%2C%20%22tms%22%3A%20false%7D%0A%20%20%20%20%20%20%20%20%20%20%20%20%29.addTo%28map_9335ecc652a14d2ea44ddfdb630cc570%29%3B%0A%20%20%20%20%20%20%20%20%0A%20%20%20%20%0A%20%20%20%20%20%20%20%20%20%20%20%20var%20marker_cluster_b2ca28b7d69345e788ae876337201d94%20%3D%20L.markerClusterGroup%28%0A%20%20%20%20%20%20%20%20%20%20%20%20%20%20%20%20%7B%7D%0A%20%20%20%20%20%20%20%20%20%20%20%20%29%3B%0A%20%20%20%20%20%20%20%20%20%20%20%20map_9335ecc652a14d2ea44ddfdb630cc570.addLayer%28marker_cluster_b2ca28b7d69345e788ae876337201d94%29%3B%0A%20%20%20%20%20%20%20%20%0A%20%20%20%20%0A%20%20%20%20%20%20%20%20%20%20%20%20var%20marker_ccbfda92dc2c4c7fbcd5e63813e48e74%20%3D%20L.marker%28%0A%20%20%20%20%20%20%20%20%20%20%20%20%20%20%20%20%5B53.7206497%2C%2091.4403553%5D%2C%0A%20%20%20%20%20%20%20%20%20%20%20%20%20%20%20%20%7B%7D%0A%20%20%20%20%20%20%20%20%20%20%20%20%29.addTo%28marker_cluster_b2ca28b7d69345e788ae876337201d94%29%3B%0A%20%20%20%20%20%20%20%20%0A%20%20%20%20%0A%20%20%20%20%20%20%20%20%20%20%20%20marker_ccbfda92dc2c4c7fbcd5e63813e48e74.bindTooltip%28%0A%20%20%20%20%20%20%20%20%20%20%20%20%20%20%20%20%60%3Cdiv%3E%0A%20%20%20%20%20%20%20%20%20%20%20%20%20%20%20%20%20%20%20%20%20%5B3.87%2C%20%27%D0%90%D0%B1%D0%B0%D0%BA%D0%B0%D0%BD%27%5D%0A%20%20%20%20%20%20%20%20%20%20%20%20%20%20%20%20%20%3C/div%3E%60%2C%0A%20%20%20%20%20%20%20%20%20%20%20%20%20%20%20%20%7B%22sticky%22%3A%20true%7D%0A%20%20%20%20%20%20%20%20%20%20%20%20%29%3B%0A%20%20%20%20%20%20%20%20%0A%20%20%20%20%0A%20%20%20%20%20%20%20%20%20%20%20%20var%20marker_12ff56040d4040c793020d8aa0fe5b48%20%3D%20L.marker%28%0A%20%20%20%20%20%20%20%20%20%20%20%20%20%20%20%20%5B64.7316875%2C%20177.5060925%5D%2C%0A%20%20%20%20%20%20%20%20%20%20%20%20%20%20%20%20%7B%7D%0A%20%20%20%20%20%20%20%20%20%20%20%20%29.addTo%28marker_cluster_b2ca28b7d69345e788ae876337201d94%29%3B%0A%20%20%20%20%20%20%20%20%0A%20%20%20%20%0A%20%20%20%20%20%20%20%20%20%20%20%20marker_12ff56040d4040c793020d8aa0fe5b48.bindTooltip%28%0A%20%20%20%20%20%20%20%20%20%20%20%20%20%20%20%20%60%3Cdiv%3E%0A%20%20%20%20%20%20%20%20%20%20%20%20%20%20%20%20%20%20%20%20%20%5B1.0%2C%20%27%D0%90%D0%BD%D0%B0%D0%B4%D1%8B%D1%80%D1%8C%27%5D%0A%20%20%20%20%20%20%20%20%20%20%20%20%20%20%20%20%20%3C/div%3E%60%2C%0A%20%20%20%20%20%20%20%20%20%20%20%20%20%20%20%20%7B%22sticky%22%3A%20true%7D%0A%20%20%20%20%20%20%20%20%20%20%20%20%29%3B%0A%20%20%20%20%20%20%20%20%0A%20%20%20%20%0A%20%20%20%20%20%20%20%20%20%20%20%20var%20marker_823b3fcff08f42609a5cf5a3f1df1235%20%3D%20L.marker%28%0A%20%20%20%20%20%20%20%20%20%20%20%20%20%20%20%20%5B44.894272%2C%2037.316887%5D%2C%0A%20%20%20%20%20%20%20%20%20%20%20%20%20%20%20%20%7B%7D%0A%20%20%20%20%20%20%20%20%20%20%20%20%29.addTo%28marker_cluster_b2ca28b7d69345e788ae876337201d94%29%3B%0A%20%20%20%20%20%20%20%20%0A%20%20%20%20%0A%20%20%20%20%20%20%20%20%20%20%20%20marker_823b3fcff08f42609a5cf5a3f1df1235.bindTooltip%28%0A%20%20%20%20%20%20%20%20%20%20%20%20%20%20%20%20%60%3Cdiv%3E%0A%20%20%20%20%20%20%20%20%20%20%20%20%20%20%20%20%20%20%20%20%20%5B2.16%2C%20%27%D0%90%D0%BD%D0%B0%D0%BF%D0%B0%27%5D%0A%20%20%20%20%20%20%20%20%20%20%20%20%20%20%20%20%20%3C/div%3E%60%2C%0A%20%20%20%20%20%20%20%20%20%20%20%20%20%20%20%20%7B%22sticky%22%3A%20true%7D%0A%20%20%20%20%20%20%20%20%20%20%20%20%29%3B%0A%20%20%20%20%20%20%20%20%0A%20%20%20%20%0A%20%20%20%20%20%20%20%20%20%20%20%20var%20marker_15ed31361bb0493bbdf56a5dbcde11c0%20%3D%20L.marker%28%0A%20%20%20%20%20%20%20%20%20%20%20%20%20%20%20%20%5B64.5854871%2C%2040.532141652328306%5D%2C%0A%20%20%20%20%20%20%20%20%20%20%20%20%20%20%20%20%7B%7D%0A%20%20%20%20%20%20%20%20%20%20%20%20%29.addTo%28marker_cluster_b2ca28b7d69345e788ae876337201d94%29%3B%0A%20%20%20%20%20%20%20%20%0A%20%20%20%20%0A%20%20%20%20%20%20%20%20%20%20%20%20marker_15ed31361bb0493bbdf56a5dbcde11c0.bindTooltip%28%0A%20%20%20%20%20%20%20%20%20%20%20%20%20%20%20%20%60%3Cdiv%3E%0A%20%20%20%20%20%20%20%20%20%20%20%20%20%20%20%20%20%20%20%20%20%5B5.35%2C%20%27%D0%90%D1%80%D1%85%D0%B0%D0%BD%D0%B3%D0%B5%D0%BB%D1%8C%D1%81%D0%BA%27%5D%0A%20%20%20%20%20%20%20%20%20%20%20%20%20%20%20%20%20%3C/div%3E%60%2C%0A%20%20%20%20%20%20%20%20%20%20%20%20%20%20%20%20%7B%22sticky%22%3A%20true%7D%0A%20%20%20%20%20%20%20%20%20%20%20%20%29%3B%0A%20%20%20%20%20%20%20%20%0A%20%20%20%20%0A%20%20%20%20%20%20%20%20%20%20%20%20var%20marker_59ba0baaed464c6bad8ea66c54456932%20%3D%20L.marker%28%0A%20%20%20%20%20%20%20%20%20%20%20%20%20%20%20%20%5B46.3498308%2C%2048.0326203%5D%2C%0A%20%20%20%20%20%20%20%20%20%20%20%20%20%20%20%20%7B%7D%0A%20%20%20%20%20%20%20%20%20%20%20%20%29.addTo%28marker_cluster_b2ca28b7d69345e788ae876337201d94%29%3B%0A%20%20%20%20%20%20%20%20%0A%20%20%20%20%0A%20%20%20%20%20%20%20%20%20%20%20%20marker_59ba0baaed464c6bad8ea66c54456932.bindTooltip%28%0A%20%20%20%20%20%20%20%20%20%20%20%20%20%20%20%20%60%3Cdiv%3E%0A%20%20%20%20%20%20%20%20%20%20%20%20%20%20%20%20%20%20%20%20%20%5B2.45%2C%20%27%D0%90%D1%81%D1%82%D1%80%D0%B0%D1%85%D0%B0%D0%BD%D1%8C%27%5D%0A%20%20%20%20%20%20%20%20%20%20%20%20%20%20%20%20%20%3C/div%3E%60%2C%0A%20%20%20%20%20%20%20%20%20%20%20%20%20%20%20%20%7B%22sticky%22%3A%20true%7D%0A%20%20%20%20%20%20%20%20%20%20%20%20%29%3B%0A%20%20%20%20%20%20%20%20%0A%20%20%20%20%0A%20%20%20%20%20%20%20%20%20%20%20%20var%20marker_d2066da4ee6f4318ba1d082184054f27%20%3D%20L.marker%28%0A%20%20%20%20%20%20%20%20%20%20%20%20%20%20%20%20%5B53.334752699999996%2C%2083.72283893620776%5D%2C%0A%20%20%20%20%20%20%20%20%20%20%20%20%20%20%20%20%7B%7D%0A%20%20%20%20%20%20%20%20%20%20%20%20%29.addTo%28marker_cluster_b2ca28b7d69345e788ae876337201d94%29%3B%0A%20%20%20%20%20%20%20%20%0A%20%20%20%20%0A%20%20%20%20%20%20%20%20%20%20%20%20marker_d2066da4ee6f4318ba1d082184054f27.bindTooltip%28%0A%20%20%20%20%20%20%20%20%20%20%20%20%20%20%20%20%60%3Cdiv%3E%0A%20%20%20%20%20%20%20%20%20%20%20%20%20%20%20%20%20%20%20%20%20%5B2.61%2C%20%27%D0%91%D0%B0%D1%80%D0%BD%D0%B0%D1%83%D0%BB%27%5D%0A%20%20%20%20%20%20%20%20%20%20%20%20%20%20%20%20%20%3C/div%3E%60%2C%0A%20%20%20%20%20%20%20%20%20%20%20%20%20%20%20%20%7B%22sticky%22%3A%20true%7D%0A%20%20%20%20%20%20%20%20%20%20%20%20%29%3B%0A%20%20%20%20%20%20%20%20%0A%20%20%20%20%0A%20%20%20%20%20%20%20%20%20%20%20%20var%20marker_48b000d9722b40ecbb11258a25ab7949%20%3D%20L.marker%28%0A%20%20%20%20%20%20%20%20%20%20%20%20%20%20%20%20%5B50.5955595%2C%2036.5873394%5D%2C%0A%20%20%20%20%20%20%20%20%20%20%20%20%20%20%20%20%7B%7D%0A%20%20%20%20%20%20%20%20%20%20%20%20%29.addTo%28marker_cluster_b2ca28b7d69345e788ae876337201d94%29%3B%0A%20%20%20%20%20%20%20%20%0A%20%20%20%20%0A%20%20%20%20%20%20%20%20%20%20%20%20marker_48b000d9722b40ecbb11258a25ab7949.bindTooltip%28%0A%20%20%20%20%20%20%20%20%20%20%20%20%20%20%20%20%60%3Cdiv%3E%0A%20%20%20%20%20%20%20%20%20%20%20%20%20%20%20%20%20%20%20%20%20%5B6.0%2C%20%27%D0%91%D0%B5%D0%BB%D0%B3%D0%BE%D1%80%D0%BE%D0%B4%27%5D%0A%20%20%20%20%20%20%20%20%20%20%20%20%20%20%20%20%20%3C/div%3E%60%2C%0A%20%20%20%20%20%20%20%20%20%20%20%20%20%20%20%20%7B%22sticky%22%3A%20true%7D%0A%20%20%20%20%20%20%20%20%20%20%20%20%29%3B%0A%20%20%20%20%20%20%20%20%0A%20%20%20%20%0A%20%20%20%20%20%20%20%20%20%20%20%20var%20marker_6024a0ac9b78409e88c11288ce1a47a7%20%3D%20L.marker%28%0A%20%20%20%20%20%20%20%20%20%20%20%20%20%20%20%20%5B63.7156353%2C%2066.6667691%5D%2C%0A%20%20%20%20%20%20%20%20%20%20%20%20%20%20%20%20%7B%7D%0A%20%20%20%20%20%20%20%20%20%20%20%20%29.addTo%28marker_cluster_b2ca28b7d69345e788ae876337201d94%29%3B%0A%20%20%20%20%20%20%20%20%0A%20%20%20%20%0A%20%20%20%20%20%20%20%20%20%20%20%20marker_6024a0ac9b78409e88c11288ce1a47a7.bindTooltip%28%0A%20%20%20%20%20%20%20%20%20%20%20%20%20%20%20%20%60%3Cdiv%3E%0A%20%20%20%20%20%20%20%20%20%20%20%20%20%20%20%20%20%20%20%20%20%5B2.0%2C%20%27%D0%91%D0%B5%D0%BB%D0%BE%D1%8F%D1%80%D1%81%D0%BA%D0%B8%D0%B9%27%5D%0A%20%20%20%20%20%20%20%20%20%20%20%20%20%20%20%20%20%3C/div%3E%60%2C%0A%20%20%20%20%20%20%20%20%20%20%20%20%20%20%20%20%7B%22sticky%22%3A%20true%7D%0A%20%20%20%20%20%20%20%20%20%20%20%20%29%3B%0A%20%20%20%20%20%20%20%20%0A%20%20%20%20%0A%20%20%20%20%20%20%20%20%20%20%20%20var%20marker_c3b213c8077a4cc88f7b1d48d25eb716%20%3D%20L.marker%28%0A%20%20%20%20%20%20%20%20%20%20%20%20%20%20%20%20%5B50.290527%2C%20127.527161%5D%2C%0A%20%20%20%20%20%20%20%20%20%20%20%20%20%20%20%20%7B%7D%0A%20%20%20%20%20%20%20%20%20%20%20%20%29.addTo%28marker_cluster_b2ca28b7d69345e788ae876337201d94%29%3B%0A%20%20%20%20%20%20%20%20%0A%20%20%20%20%0A%20%20%20%20%20%20%20%20%20%20%20%20marker_c3b213c8077a4cc88f7b1d48d25eb716.bindTooltip%28%0A%20%20%20%20%20%20%20%20%20%20%20%20%20%20%20%20%60%3Cdiv%3E%0A%20%20%20%20%20%20%20%20%20%20%20%20%20%20%20%20%20%20%20%20%20%5B1.0%2C%20%27%D0%91%D0%BB%D0%B0%D0%B3%D0%BE%D0%B2%D0%B5%D1%89%D0%B5%D0%BD%D1%81%D0%BA%27%5D%0A%20%20%20%20%20%20%20%20%20%20%20%20%20%20%20%20%20%3C/div%3E%60%2C%0A%20%20%20%20%20%20%20%20%20%20%20%20%20%20%20%20%7B%22sticky%22%3A%20true%7D%0A%20%20%20%20%20%20%20%20%20%20%20%20%29%3B%0A%20%20%20%20%20%20%20%20%0A%20%20%20%20%0A%20%20%20%20%20%20%20%20%20%20%20%20var%20marker_615be3505dbb4bfe82536f6c4ad608b4%20%3D%20L.marker%28%0A%20%20%20%20%20%20%20%20%20%20%20%20%20%20%20%20%5B56.1517085%2C%20101.6334907%5D%2C%0A%20%20%20%20%20%20%20%20%20%20%20%20%20%20%20%20%7B%7D%0A%20%20%20%20%20%20%20%20%20%20%20%20%29.addTo%28marker_cluster_b2ca28b7d69345e788ae876337201d94%29%3B%0A%20%20%20%20%20%20%20%20%0A%20%20%20%20%0A%20%20%20%20%20%20%20%20%20%20%20%20marker_615be3505dbb4bfe82536f6c4ad608b4.bindTooltip%28%0A%20%20%20%20%20%20%20%20%20%20%20%20%20%20%20%20%60%3Cdiv%3E%0A%20%20%20%20%20%20%20%20%20%20%20%20%20%20%20%20%20%20%20%20%20%5B1.0%2C%20%27%D0%91%D1%80%D0%B0%D1%82%D1%81%D0%BA%27%5D%0A%20%20%20%20%20%20%20%20%20%20%20%20%20%20%20%20%20%3C/div%3E%60%2C%0A%20%20%20%20%20%20%20%20%20%20%20%20%20%20%20%20%7B%22sticky%22%3A%20true%7D%0A%20%20%20%20%20%20%20%20%20%20%20%20%29%3B%0A%20%20%20%20%20%20%20%20%0A%20%20%20%20%0A%20%20%20%20%20%20%20%20%20%20%20%20var%20marker_a79f760e79bf4fd4ba637cd1dbdc153e%20%3D%20L.marker%28%0A%20%20%20%20%20%20%20%20%20%20%20%20%20%20%20%20%5B53.2423778%2C%2034.3668288%5D%2C%0A%20%20%20%20%20%20%20%20%20%20%20%20%20%20%20%20%7B%7D%0A%20%20%20%20%20%20%20%20%20%20%20%20%29.addTo%28marker_cluster_b2ca28b7d69345e788ae876337201d94%29%3B%0A%20%20%20%20%20%20%20%20%0A%20%20%20%20%0A%20%20%20%20%20%20%20%20%20%20%20%20marker_a79f760e79bf4fd4ba637cd1dbdc153e.bindTooltip%28%0A%20%20%20%20%20%20%20%20%20%20%20%20%20%20%20%20%60%3Cdiv%3E%0A%20%20%20%20%20%20%20%20%20%20%20%20%20%20%20%20%20%20%20%20%20%5B10.0%2C%20%27%D0%91%D1%80%D1%8F%D0%BD%D1%81%D0%BA%27%5D%0A%20%20%20%20%20%20%20%20%20%20%20%20%20%20%20%20%20%3C/div%3E%60%2C%0A%20%20%20%20%20%20%20%20%20%20%20%20%20%20%20%20%7B%22sticky%22%3A%20true%7D%0A%20%20%20%20%20%20%20%20%20%20%20%20%29%3B%0A%20%20%20%20%20%20%20%20%0A%20%20%20%20%0A%20%20%20%20%20%20%20%20%20%20%20%20var%20marker_f41ce1e092a2479cb1d1bac45625df76%20%3D%20L.marker%28%0A%20%20%20%20%20%20%20%20%20%20%20%20%20%20%20%20%5B54.5384152%2C%2052.7955953%5D%2C%0A%20%20%20%20%20%20%20%20%20%20%20%20%20%20%20%20%7B%7D%0A%20%20%20%20%20%20%20%20%20%20%20%20%29.addTo%28marker_cluster_b2ca28b7d69345e788ae876337201d94%29%3B%0A%20%20%20%20%20%20%20%20%0A%20%20%20%20%0A%20%20%20%20%20%20%20%20%20%20%20%20marker_f41ce1e092a2479cb1d1bac45625df76.bindTooltip%28%0A%20%20%20%20%20%20%20%20%20%20%20%20%20%20%20%20%60%3Cdiv%3E%0A%20%20%20%20%20%20%20%20%20%20%20%20%20%20%20%20%20%20%20%20%20%5B3.0%2C%20%27%D0%91%D1%83%D0%B3%D1%83%D0%BB%D1%8C%D0%BC%D0%B0%27%5D%0A%20%20%20%20%20%20%20%20%20%20%20%20%20%20%20%20%20%3C/div%3E%60%2C%0A%20%20%20%20%20%20%20%20%20%20%20%20%20%20%20%20%7B%22sticky%22%3A%20true%7D%0A%20%20%20%20%20%20%20%20%20%20%20%20%29%3B%0A%20%20%20%20%20%20%20%20%0A%20%20%20%20%0A%20%20%20%20%20%20%20%20%20%20%20%20var%20marker_c603d5934f184c368cd74a8a6687122d%20%3D%20L.marker%28%0A%20%20%20%20%20%20%20%20%20%20%20%20%20%20%20%20%5B43.1150678%2C%20131.8855768%5D%2C%0A%20%20%20%20%20%20%20%20%20%20%20%20%20%20%20%20%7B%7D%0A%20%20%20%20%20%20%20%20%20%20%20%20%29.addTo%28marker_cluster_b2ca28b7d69345e788ae876337201d94%29%3B%0A%20%20%20%20%20%20%20%20%0A%20%20%20%20%0A%20%20%20%20%20%20%20%20%20%20%20%20marker_c603d5934f184c368cd74a8a6687122d.bindTooltip%28%0A%20%20%20%20%20%20%20%20%20%20%20%20%20%20%20%20%60%3Cdiv%3E%0A%20%20%20%20%20%20%20%20%20%20%20%20%20%20%20%20%20%20%20%20%20%5B3.0%2C%20%27%D0%92%D0%BB%D0%B0%D0%B4%D0%B8%D0%B2%D0%BE%D1%81%D1%82%D0%BE%D0%BA%27%5D%0A%20%20%20%20%20%20%20%20%20%20%20%20%20%20%20%20%20%3C/div%3E%60%2C%0A%20%20%20%20%20%20%20%20%20%20%20%20%20%20%20%20%7B%22sticky%22%3A%20true%7D%0A%20%20%20%20%20%20%20%20%20%20%20%20%29%3B%0A%20%20%20%20%20%20%20%20%0A%20%20%20%20%0A%20%20%20%20%20%20%20%20%20%20%20%20var%20marker_45a31d2c6b444e23b545e92aa0793adb%20%3D%20L.marker%28%0A%20%20%20%20%20%20%20%20%20%20%20%20%20%20%20%20%5B43.024593%2C%2044.68211%5D%2C%0A%20%20%20%20%20%20%20%20%20%20%20%20%20%20%20%20%7B%7D%0A%20%20%20%20%20%20%20%20%20%20%20%20%29.addTo%28marker_cluster_b2ca28b7d69345e788ae876337201d94%29%3B%0A%20%20%20%20%20%20%20%20%0A%20%20%20%20%0A%20%20%20%20%20%20%20%20%20%20%20%20marker_45a31d2c6b444e23b545e92aa0793adb.bindTooltip%28%0A%20%20%20%20%20%20%20%20%20%20%20%20%20%20%20%20%60%3Cdiv%3E%0A%20%20%20%20%20%20%20%20%20%20%20%20%20%20%20%20%20%20%20%20%20%5B2.0%2C%20%27%D0%92%D0%BB%D0%B0%D0%B4%D0%B8%D0%BA%D0%B0%D0%B2%D0%BA%D0%B0%D0%B7%27%5D%0A%20%20%20%20%20%20%20%20%20%20%20%20%20%20%20%20%20%3C/div%3E%60%2C%0A%20%20%20%20%20%20%20%20%20%20%20%20%20%20%20%20%7B%22sticky%22%3A%20true%7D%0A%20%20%20%20%20%20%20%20%20%20%20%20%29%3B%0A%20%20%20%20%20%20%20%20%0A%20%20%20%20%0A%20%20%20%20%20%20%20%20%20%20%20%20var%20marker_d095ea366a6e42ac837f642296e42805%20%3D%20L.marker%28%0A%20%20%20%20%20%20%20%20%20%20%20%20%20%20%20%20%5B48.7081906%2C%2044.5153353%5D%2C%0A%20%20%20%20%20%20%20%20%20%20%20%20%20%20%20%20%7B%7D%0A%20%20%20%20%20%20%20%20%20%20%20%20%29.addTo%28marker_cluster_b2ca28b7d69345e788ae876337201d94%29%3B%0A%20%20%20%20%20%20%20%20%0A%20%20%20%20%0A%20%20%20%20%20%20%20%20%20%20%20%20marker_d095ea366a6e42ac837f642296e42805.bindTooltip%28%0A%20%20%20%20%20%20%20%20%20%20%20%20%20%20%20%20%60%3Cdiv%3E%0A%20%20%20%20%20%20%20%20%20%20%20%20%20%20%20%20%20%20%20%20%20%5B5.13%2C%20%27%D0%92%D0%BE%D0%BB%D0%B3%D0%BE%D0%B3%D1%80%D0%B0%D0%B4%27%5D%0A%20%20%20%20%20%20%20%20%20%20%20%20%20%20%20%20%20%3C/div%3E%60%2C%0A%20%20%20%20%20%20%20%20%20%20%20%20%20%20%20%20%7B%22sticky%22%3A%20true%7D%0A%20%20%20%20%20%20%20%20%20%20%20%20%29%3B%0A%20%20%20%20%20%20%20%20%0A%20%20%20%20%0A%20%20%20%20%20%20%20%20%20%20%20%20var%20marker_cc0254df5e414231b9f9290bdde8c813%20%3D%20L.marker%28%0A%20%20%20%20%20%20%20%20%20%20%20%20%20%20%20%20%5B67.4948535%2C%2064.0399469%5D%2C%0A%20%20%20%20%20%20%20%20%20%20%20%20%20%20%20%20%7B%7D%0A%20%20%20%20%20%20%20%20%20%20%20%20%29.addTo%28marker_cluster_b2ca28b7d69345e788ae876337201d94%29%3B%0A%20%20%20%20%20%20%20%20%0A%20%20%20%20%0A%20%20%20%20%20%20%20%20%20%20%20%20marker_cc0254df5e414231b9f9290bdde8c813.bindTooltip%28%0A%20%20%20%20%20%20%20%20%20%20%20%20%20%20%20%20%60%3Cdiv%3E%0A%20%20%20%20%20%20%20%20%20%20%20%20%20%20%20%20%20%20%20%20%20%5B4.58%2C%20%27%D0%92%D0%BE%D1%80%D0%BA%D1%83%D1%82%D0%B0%27%5D%0A%20%20%20%20%20%20%20%20%20%20%20%20%20%20%20%20%20%3C/div%3E%60%2C%0A%20%20%20%20%20%20%20%20%20%20%20%20%20%20%20%20%7B%22sticky%22%3A%20true%7D%0A%20%20%20%20%20%20%20%20%20%20%20%20%29%3B%0A%20%20%20%20%20%20%20%20%0A%20%20%20%20%0A%20%20%20%20%20%20%20%20%20%20%20%20var%20marker_d8c5b15ae39a4a7b9bc1c7bce2d13e1e%20%3D%20L.marker%28%0A%20%20%20%20%20%20%20%20%20%20%20%20%20%20%20%20%5B51.6605982%2C%2039.2005858%5D%2C%0A%20%20%20%20%20%20%20%20%20%20%20%20%20%20%20%20%7B%7D%0A%20%20%20%20%20%20%20%20%20%20%20%20%29.addTo%28marker_cluster_b2ca28b7d69345e788ae876337201d94%29%3B%0A%20%20%20%20%20%20%20%20%0A%20%20%20%20%0A%20%20%20%20%20%20%20%20%20%20%20%20marker_d8c5b15ae39a4a7b9bc1c7bce2d13e1e.bindTooltip%28%0A%20%20%20%20%20%20%20%20%20%20%20%20%20%20%20%20%60%3Cdiv%3E%0A%20%20%20%20%20%20%20%20%20%20%20%20%20%20%20%20%20%20%20%20%20%5B2.0%2C%20%27%D0%92%D0%BE%D1%80%D0%BE%D0%BD%D0%B5%D0%B6%27%5D%0A%20%20%20%20%20%20%20%20%20%20%20%20%20%20%20%20%20%3C/div%3E%60%2C%0A%20%20%20%20%20%20%20%20%20%20%20%20%20%20%20%20%7B%22sticky%22%3A%20true%7D%0A%20%20%20%20%20%20%20%20%20%20%20%20%29%3B%0A%20%20%20%20%20%20%20%20%0A%20%20%20%20%0A%20%20%20%20%20%20%20%20%20%20%20%20var%20marker_adcc64a4de314a5d9ce838b865e0df99%20%3D%20L.marker%28%0A%20%20%20%20%20%20%20%20%20%20%20%20%20%20%20%20%5B44.5609447%2C%2038.0766832%5D%2C%0A%20%20%20%20%20%20%20%20%20%20%20%20%20%20%20%20%7B%7D%0A%20%20%20%20%20%20%20%20%20%20%20%20%29.addTo%28marker_cluster_b2ca28b7d69345e788ae876337201d94%29%3B%0A%20%20%20%20%20%20%20%20%0A%20%20%20%20%0A%20%20%20%20%20%20%20%20%20%20%20%20marker_adcc64a4de314a5d9ce838b865e0df99.bindTooltip%28%0A%20%20%20%20%20%20%20%20%20%20%20%20%20%20%20%20%60%3Cdiv%3E%0A%20%20%20%20%20%20%20%20%20%20%20%20%20%20%20%20%20%20%20%20%20%5B2.59%2C%20%27%D0%93%D0%B5%D0%BB%D0%B5%D0%BD%D0%B4%D0%B6%D0%B8%D0%BA%27%5D%0A%20%20%20%20%20%20%20%20%20%20%20%20%20%20%20%20%20%3C/div%3E%60%2C%0A%20%20%20%20%20%20%20%20%20%20%20%20%20%20%20%20%7B%22sticky%22%3A%20true%7D%0A%20%20%20%20%20%20%20%20%20%20%20%20%29%3B%0A%20%20%20%20%20%20%20%20%0A%20%20%20%20%0A%20%20%20%20%20%20%20%20%20%20%20%20var%20marker_3b786f136d3a4c2e99a387d2dd728539%20%3D%20L.marker%28%0A%20%20%20%20%20%20%20%20%20%20%20%20%20%20%20%20%5B51.957775%2C%2085.963653%5D%2C%0A%20%20%20%20%20%20%20%20%20%20%20%20%20%20%20%20%7B%7D%0A%20%20%20%20%20%20%20%20%20%20%20%20%29.addTo%28marker_cluster_b2ca28b7d69345e788ae876337201d94%29%3B%0A%20%20%20%20%20%20%20%20%0A%20%20%20%20%0A%20%20%20%20%20%20%20%20%20%20%20%20marker_3b786f136d3a4c2e99a387d2dd728539.bindTooltip%28%0A%20%20%20%20%20%20%20%20%20%20%20%20%20%20%20%20%60%3Cdiv%3E%0A%20%20%20%20%20%20%20%20%20%20%20%20%20%20%20%20%20%20%20%20%20%5B1.39%2C%20%27%D0%93%D0%BE%D1%80%D0%BD%D0%BE-%D0%90%D0%BB%D1%82%D0%B0%D0%B9%D1%81%D0%BA%27%5D%0A%20%20%20%20%20%20%20%20%20%20%20%20%20%20%20%20%20%3C/div%3E%60%2C%0A%20%20%20%20%20%20%20%20%20%20%20%20%20%20%20%20%7B%22sticky%22%3A%20true%7D%0A%20%20%20%20%20%20%20%20%20%20%20%20%29%3B%0A%20%20%20%20%20%20%20%20%0A%20%20%20%20%0A%20%20%20%20%20%20%20%20%20%20%20%20var%20marker_3a50f4e03ea541b187b2d13e43852abe%20%3D%20L.marker%28%0A%20%20%20%20%20%20%20%20%20%20%20%20%20%20%20%20%5B43.29200475%2C%2045.6977949903832%5D%2C%0A%20%20%20%20%20%20%20%20%20%20%20%20%20%20%20%20%7B%7D%0A%20%20%20%20%20%20%20%20%20%20%20%20%29.addTo%28marker_cluster_b2ca28b7d69345e788ae876337201d94%29%3B%0A%20%20%20%20%20%20%20%20%0A%20%20%20%20%0A%20%20%20%20%20%20%20%20%20%20%20%20marker_3a50f4e03ea541b187b2d13e43852abe.bindTooltip%28%0A%20%20%20%20%20%20%20%20%20%20%20%20%20%20%20%20%60%3Cdiv%3E%0A%20%20%20%20%20%20%20%20%20%20%20%20%20%20%20%20%20%20%20%20%20%5B1.13%2C%20%27%D0%93%D1%80%D0%BE%D0%B7%D0%BD%D1%8B%D0%B9%27%5D%0A%20%20%20%20%20%20%20%20%20%20%20%20%20%20%20%20%20%3C/div%3E%60%2C%0A%20%20%20%20%20%20%20%20%20%20%20%20%20%20%20%20%7B%22sticky%22%3A%20true%7D%0A%20%20%20%20%20%20%20%20%20%20%20%20%29%3B%0A%20%20%20%20%20%20%20%20%0A%20%20%20%20%0A%20%20%20%20%20%20%20%20%20%20%20%20var%20marker_2bf84867759b47d3ae3b2a443f613c31%20%3D%20L.marker%28%0A%20%20%20%20%20%20%20%20%20%20%20%20%20%20%20%20%5B56.7881462%2C%2060.66895779116639%5D%2C%0A%20%20%20%20%20%20%20%20%20%20%20%20%20%20%20%20%7B%7D%0A%20%20%20%20%20%20%20%20%20%20%20%20%29.addTo%28marker_cluster_b2ca28b7d69345e788ae876337201d94%29%3B%0A%20%20%20%20%20%20%20%20%0A%20%20%20%20%0A%20%20%20%20%20%20%20%20%20%20%20%20marker_2bf84867759b47d3ae3b2a443f613c31.bindTooltip%28%0A%20%20%20%20%20%20%20%20%20%20%20%20%20%20%20%20%60%3Cdiv%3E%0A%20%20%20%20%20%20%20%20%20%20%20%20%20%20%20%20%20%20%20%20%20%5B11.32%2C%20%27%D0%95%D0%BA%D0%B0%D1%82%D0%B5%D1%80%D0%B8%D0%BD%D0%B1%D1%83%D1%80%D0%B3%27%5D%0A%20%20%20%20%20%20%20%20%20%20%20%20%20%20%20%20%20%3C/div%3E%60%2C%0A%20%20%20%20%20%20%20%20%20%20%20%20%20%20%20%20%7B%22sticky%22%3A%20true%7D%0A%20%20%20%20%20%20%20%20%20%20%20%20%29%3B%0A%20%20%20%20%20%20%20%20%0A%20%20%20%20%0A%20%20%20%20%20%20%20%20%20%20%20%20var%20marker_58911709bf764a6f80e7e8ef535e8d3a%20%3D%20L.marker%28%0A%20%20%20%20%20%20%20%20%20%20%20%20%20%20%20%20%5B57.0088004%2C%2040.96306331898382%5D%2C%0A%20%20%20%20%20%20%20%20%20%20%20%20%20%20%20%20%7B%7D%0A%20%20%20%20%20%20%20%20%20%20%20%20%29.addTo%28marker_cluster_b2ca28b7d69345e788ae876337201d94%29%3B%0A%20%20%20%20%20%20%20%20%0A%20%20%20%20%0A%20%20%20%20%20%20%20%20%20%20%20%20marker_58911709bf764a6f80e7e8ef535e8d3a.bindTooltip%28%0A%20%20%20%20%20%20%20%20%20%20%20%20%20%20%20%20%60%3Cdiv%3E%0A%20%20%20%20%20%20%20%20%20%20%20%20%20%20%20%20%20%20%20%20%20%5B1.0%2C%20%27%D0%98%D0%B2%D0%B0%D0%BD%D0%BE%D0%B2%D0%BE%27%5D%0A%20%20%20%20%20%20%20%20%20%20%20%20%20%20%20%20%20%3C/div%3E%60%2C%0A%20%20%20%20%20%20%20%20%20%20%20%20%20%20%20%20%7B%22sticky%22%3A%20true%7D%0A%20%20%20%20%20%20%20%20%20%20%20%20%29%3B%0A%20%20%20%20%20%20%20%20%0A%20%20%20%20%0A%20%20%20%20%20%20%20%20%20%20%20%20var%20marker_24879c78695f415eba85544dcb66f506%20%3D%20L.marker%28%0A%20%20%20%20%20%20%20%20%20%20%20%20%20%20%20%20%5B56.866557%2C%2053.2094166%5D%2C%0A%20%20%20%20%20%20%20%20%20%20%20%20%20%20%20%20%7B%7D%0A%20%20%20%20%20%20%20%20%20%20%20%20%29.addTo%28marker_cluster_b2ca28b7d69345e788ae876337201d94%29%3B%0A%20%20%20%20%20%20%20%20%0A%20%20%20%20%0A%20%20%20%20%20%20%20%20%20%20%20%20marker_24879c78695f415eba85544dcb66f506.bindTooltip%28%0A%20%20%20%20%20%20%20%20%20%20%20%20%20%20%20%20%60%3Cdiv%3E%0A%20%20%20%20%20%20%20%20%20%20%20%20%20%20%20%20%20%20%20%20%20%5B1.0%2C%20%27%D0%98%D0%B6%D0%B5%D0%B2%D1%81%D0%BA%27%5D%0A%20%20%20%20%20%20%20%20%20%20%20%20%20%20%20%20%20%3C/div%3E%60%2C%0A%20%20%20%20%20%20%20%20%20%20%20%20%20%20%20%20%7B%22sticky%22%3A%20true%7D%0A%20%20%20%20%20%20%20%20%20%20%20%20%29%3B%0A%20%20%20%20%20%20%20%20%0A%20%20%20%20%0A%20%20%20%20%20%20%20%20%20%20%20%20var%20marker_92041192a4f24976a6debf2763013c58%20%3D%20L.marker%28%0A%20%20%20%20%20%20%20%20%20%20%20%20%20%20%20%20%5B52.289597%2C%20104.280586%5D%2C%0A%20%20%20%20%20%20%20%20%20%20%20%20%20%20%20%20%7B%7D%0A%20%20%20%20%20%20%20%20%20%20%20%20%29.addTo%28marker_cluster_b2ca28b7d69345e788ae876337201d94%29%3B%0A%20%20%20%20%20%20%20%20%0A%20%20%20%20%0A%20%20%20%20%20%20%20%20%20%20%20%20marker_92041192a4f24976a6debf2763013c58.bindTooltip%28%0A%20%20%20%20%20%20%20%20%20%20%20%20%20%20%20%20%60%3Cdiv%3E%0A%20%20%20%20%20%20%20%20%20%20%20%20%20%20%20%20%20%20%20%20%20%5B6.03%2C%20%27%D0%98%D1%80%D0%BA%D1%83%D1%82%D1%81%D0%BA%27%5D%0A%20%20%20%20%20%20%20%20%20%20%20%20%20%20%20%20%20%3C/div%3E%60%2C%0A%20%20%20%20%20%20%20%20%20%20%20%20%20%20%20%20%7B%22sticky%22%3A%20true%7D%0A%20%20%20%20%20%20%20%20%20%20%20%20%29%3B%0A%20%20%20%20%20%20%20%20%0A%20%20%20%20%0A%20%20%20%20%20%20%20%20%20%20%20%20var%20marker_ca885736277e4a80ac6071fab0f251c2%20%3D%20L.marker%28%0A%20%20%20%20%20%20%20%20%20%20%20%20%20%20%20%20%5B56.6328248%2C%2047.8972462%5D%2C%0A%20%20%20%20%20%20%20%20%20%20%20%20%20%20%20%20%7B%7D%0A%20%20%20%20%20%20%20%20%20%20%20%20%29.addTo%28marker_cluster_b2ca28b7d69345e788ae876337201d94%29%3B%0A%20%20%20%20%20%20%20%20%0A%20%20%20%20%0A%20%20%20%20%20%20%20%20%20%20%20%20marker_ca885736277e4a80ac6071fab0f251c2.bindTooltip%28%0A%20%20%20%20%20%20%20%20%20%20%20%20%20%20%20%20%60%3Cdiv%3E%0A%20%20%20%20%20%20%20%20%20%20%20%20%20%20%20%20%20%20%20%20%20%5B4.29%2C%20%27%D0%99%D0%BE%D1%88%D0%BA%D0%B0%D1%80-%D0%9E%D0%BB%D0%B0%27%5D%0A%20%20%20%20%20%20%20%20%20%20%20%20%20%20%20%20%20%3C/div%3E%60%2C%0A%20%20%20%20%20%20%20%20%20%20%20%20%20%20%20%20%7B%22sticky%22%3A%20true%7D%0A%20%20%20%20%20%20%20%20%20%20%20%20%29%3B%0A%20%20%20%20%20%20%20%20%0A%20%20%20%20%0A%20%20%20%20%20%20%20%20%20%20%20%20var%20marker_39ec5d0a222946d9b2f60e38532dc5cf%20%3D%20L.marker%28%0A%20%20%20%20%20%20%20%20%20%20%20%20%20%20%20%20%5B55.7823547%2C%2049.1242266%5D%2C%0A%20%20%20%20%20%20%20%20%20%20%20%20%20%20%20%20%7B%7D%0A%20%20%20%20%20%20%20%20%20%20%20%20%29.addTo%28marker_cluster_b2ca28b7d69345e788ae876337201d94%29%3B%0A%20%20%20%20%20%20%20%20%0A%20%20%20%20%0A%20%20%20%20%20%20%20%20%20%20%20%20marker_39ec5d0a222946d9b2f60e38532dc5cf.bindTooltip%28%0A%20%20%20%20%20%20%20%20%20%20%20%20%20%20%20%20%60%3Cdiv%3E%0A%20%20%20%20%20%20%20%20%20%20%20%20%20%20%20%20%20%20%20%20%20%5B7.74%2C%20%27%D0%9A%D0%B0%D0%B7%D0%B0%D0%BD%D1%8C%27%5D%0A%20%20%20%20%20%20%20%20%20%20%20%20%20%20%20%20%20%3C/div%3E%60%2C%0A%20%20%20%20%20%20%20%20%20%20%20%20%20%20%20%20%7B%22sticky%22%3A%20true%7D%0A%20%20%20%20%20%20%20%20%20%20%20%20%29%3B%0A%20%20%20%20%20%20%20%20%0A%20%20%20%20%0A%20%20%20%20%20%20%20%20%20%20%20%20var%20marker_8b019c228ed64a9594247f94e3711e2c%20%3D%20L.marker%28%0A%20%20%20%20%20%20%20%20%20%20%20%20%20%20%20%20%5B54.710128%2C%2020.5105838%5D%2C%0A%20%20%20%20%20%20%20%20%20%20%20%20%20%20%20%20%7B%7D%0A%20%20%20%20%20%20%20%20%20%20%20%20%29.addTo%28marker_cluster_b2ca28b7d69345e788ae876337201d94%29%3B%0A%20%20%20%20%20%20%20%20%0A%20%20%20%20%0A%20%20%20%20%20%20%20%20%20%20%20%20marker_8b019c228ed64a9594247f94e3711e2c.bindTooltip%28%0A%20%20%20%20%20%20%20%20%20%20%20%20%20%20%20%20%60%3Cdiv%3E%0A%20%20%20%20%20%20%20%20%20%20%20%20%20%20%20%20%20%20%20%20%20%5B2.58%2C%20%27%D0%9A%D0%B0%D0%BB%D0%B8%D0%BD%D0%B8%D0%BD%D0%B3%D1%80%D0%B0%D0%B4%27%5D%0A%20%20%20%20%20%20%20%20%20%20%20%20%20%20%20%20%20%3C/div%3E%60%2C%0A%20%20%20%20%20%20%20%20%20%20%20%20%20%20%20%20%7B%22sticky%22%3A%20true%7D%0A%20%20%20%20%20%20%20%20%20%20%20%20%29%3B%0A%20%20%20%20%20%20%20%20%0A%20%20%20%20%0A%20%20%20%20%20%20%20%20%20%20%20%20var%20marker_5153e28c7dd7411d96a5bd5338663846%20%3D%20L.marker%28%0A%20%20%20%20%20%20%20%20%20%20%20%20%20%20%20%20%5B54.5101087%2C%2036.2598115%5D%2C%0A%20%20%20%20%20%20%20%20%20%20%20%20%20%20%20%20%7B%7D%0A%20%20%20%20%20%20%20%20%20%20%20%20%29.addTo%28marker_cluster_b2ca28b7d69345e788ae876337201d94%29%3B%0A%20%20%20%20%20%20%20%20%0A%20%20%20%20%0A%20%20%20%20%20%20%20%20%20%20%20%20marker_5153e28c7dd7411d96a5bd5338663846.bindTooltip%28%0A%20%20%20%20%20%20%20%20%20%20%20%20%20%20%20%20%60%3Cdiv%3E%0A%20%20%20%20%20%20%20%20%20%20%20%20%20%20%20%20%20%20%20%20%20%5B2.03%2C%20%27%D0%9A%D0%B0%D0%BB%D1%83%D0%B3%D0%B0%27%5D%0A%20%20%20%20%20%20%20%20%20%20%20%20%20%20%20%20%20%3C/div%3E%60%2C%0A%20%20%20%20%20%20%20%20%20%20%20%20%20%20%20%20%7B%22sticky%22%3A%20true%7D%0A%20%20%20%20%20%20%20%20%20%20%20%20%29%3B%0A%20%20%20%20%20%20%20%20%0A%20%20%20%20%0A%20%20%20%20%20%20%20%20%20%20%20%20var%20marker_3fbc8dd033714aa3a712cee500b0c193%20%3D%20L.marker%28%0A%20%20%20%20%20%20%20%20%20%20%20%20%20%20%20%20%5B55.3550907%2C%2086.0871213%5D%2C%0A%20%20%20%20%20%20%20%20%20%20%20%20%20%20%20%20%7B%7D%0A%20%20%20%20%20%20%20%20%20%20%20%20%29.addTo%28marker_cluster_b2ca28b7d69345e788ae876337201d94%29%3B%0A%20%20%20%20%20%20%20%20%0A%20%20%20%20%0A%20%20%20%20%20%20%20%20%20%20%20%20marker_3fbc8dd033714aa3a712cee500b0c193.bindTooltip%28%0A%20%20%20%20%20%20%20%20%20%20%20%20%20%20%20%20%60%3Cdiv%3E%0A%20%20%20%20%20%20%20%20%20%20%20%20%20%20%20%20%20%20%20%20%20%5B2.0%2C%20%27%D0%9A%D0%B5%D0%BC%D0%B5%D1%80%D0%BE%D0%B2%D0%BE%27%5D%0A%20%20%20%20%20%20%20%20%20%20%20%20%20%20%20%20%20%3C/div%3E%60%2C%0A%20%20%20%20%20%20%20%20%20%20%20%20%20%20%20%20%7B%22sticky%22%3A%20true%7D%0A%20%20%20%20%20%20%20%20%20%20%20%20%29%3B%0A%20%20%20%20%20%20%20%20%0A%20%20%20%20%0A%20%20%20%20%20%20%20%20%20%20%20%20var%20marker_d1c7abc4edab429eb70588eb5b563ba6%20%3D%20L.marker%28%0A%20%20%20%20%20%20%20%20%20%20%20%20%20%20%20%20%5B58.6035257%2C%2049.6639029%5D%2C%0A%20%20%20%20%20%20%20%20%20%20%20%20%20%20%20%20%7B%7D%0A%20%20%20%20%20%20%20%20%20%20%20%20%29.addTo%28marker_cluster_b2ca28b7d69345e788ae876337201d94%29%3B%0A%20%20%20%20%20%20%20%20%0A%20%20%20%20%0A%20%20%20%20%20%20%20%20%20%20%20%20marker_d1c7abc4edab429eb70588eb5b563ba6.bindTooltip%28%0A%20%20%20%20%20%20%20%20%20%20%20%20%20%20%20%20%60%3Cdiv%3E%0A%20%20%20%20%20%20%20%20%20%20%20%20%20%20%20%20%20%20%20%20%20%5B6.0%2C%20%27%D0%9A%D0%B8%D1%80%D0%BE%D0%B2%27%5D%0A%20%20%20%20%20%20%20%20%20%20%20%20%20%20%20%20%20%3C/div%3E%60%2C%0A%20%20%20%20%20%20%20%20%20%20%20%20%20%20%20%20%7B%22sticky%22%3A%20true%7D%0A%20%20%20%20%20%20%20%20%20%20%20%20%29%3B%0A%20%20%20%20%20%20%20%20%0A%20%20%20%20%0A%20%20%20%20%20%20%20%20%20%20%20%20var%20marker_e20e721988f34b37af467cbda3e7572c%20%3D%20L.marker%28%0A%20%20%20%20%20%20%20%20%20%20%20%20%20%20%20%20%5B62.26798%2C%2074.4889068%5D%2C%0A%20%20%20%20%20%20%20%20%20%20%20%20%20%20%20%20%7B%7D%0A%20%20%20%20%20%20%20%20%20%20%20%20%29.addTo%28marker_cluster_b2ca28b7d69345e788ae876337201d94%29%3B%0A%20%20%20%20%20%20%20%20%0A%20%20%20%20%0A%20%20%20%20%20%20%20%20%20%20%20%20marker_e20e721988f34b37af467cbda3e7572c.bindTooltip%28%0A%20%20%20%20%20%20%20%20%20%20%20%20%20%20%20%20%60%3Cdiv%3E%0A%20%20%20%20%20%20%20%20%20%20%20%20%20%20%20%20%20%20%20%20%20%5B3.16%2C%20%27%D0%9A%D0%BE%D0%B3%D0%B0%D0%BB%D1%8B%D0%BC%27%5D%0A%20%20%20%20%20%20%20%20%20%20%20%20%20%20%20%20%20%3C/div%3E%60%2C%0A%20%20%20%20%20%20%20%20%20%20%20%20%20%20%20%20%7B%22sticky%22%3A%20true%7D%0A%20%20%20%20%20%20%20%20%20%20%20%20%29%3B%0A%20%20%20%20%20%20%20%20%0A%20%20%20%20%0A%20%20%20%20%20%20%20%20%20%20%20%20var%20marker_7fd6bcd9087846598759b11daaa728e2%20%3D%20L.marker%28%0A%20%20%20%20%20%20%20%20%20%20%20%20%20%20%20%20%5B50.550877%2C%20137.020782%5D%2C%0A%20%20%20%20%20%20%20%20%20%20%20%20%20%20%20%20%7B%7D%0A%20%20%20%20%20%20%20%20%20%20%20%20%29.addTo%28marker_cluster_b2ca28b7d69345e788ae876337201d94%29%3B%0A%20%20%20%20%20%20%20%20%0A%20%20%20%20%0A%20%20%20%20%20%20%20%20%20%20%20%20marker_7fd6bcd9087846598759b11daaa728e2.bindTooltip%28%0A%20%20%20%20%20%20%20%20%20%20%20%20%20%20%20%20%60%3Cdiv%3E%0A%20%20%20%20%20%20%20%20%20%20%20%20%20%20%20%20%20%20%20%20%20%5B1.0%2C%20%27%D0%9A%D0%BE%D0%BC%D1%81%D0%BE%D0%BC%D0%BE%D0%BB%D1%8C%D1%81%D0%BA-%D0%BD%D0%B0-%D0%90%D0%BC%D1%83%D1%80%D0%B5%27%5D%0A%20%20%20%20%20%20%20%20%20%20%20%20%20%20%20%20%20%3C/div%3E%60%2C%0A%20%20%20%20%20%20%20%20%20%20%20%20%20%20%20%20%7B%22sticky%22%3A%20true%7D%0A%20%20%20%20%20%20%20%20%20%20%20%20%29%3B%0A%20%20%20%20%20%20%20%20%0A%20%20%20%20%0A%20%20%20%20%20%20%20%20%20%20%20%20var%20marker_d0ae88bc5b6143b991458e04ee4a01f8%20%3D%20L.marker%28%0A%20%20%20%20%20%20%20%20%20%20%20%20%20%20%20%20%5B45.059546499999996%2C%2038.96633886889775%5D%2C%0A%20%20%20%20%20%20%20%20%20%20%20%20%20%20%20%20%7B%7D%0A%20%20%20%20%20%20%20%20%20%20%20%20%29.addTo%28marker_cluster_b2ca28b7d69345e788ae876337201d94%29%3B%0A%20%20%20%20%20%20%20%20%0A%20%20%20%20%0A%20%20%20%20%20%20%20%20%20%20%20%20marker_d0ae88bc5b6143b991458e04ee4a01f8.bindTooltip%28%0A%20%20%20%20%20%20%20%20%20%20%20%20%20%20%20%20%60%3Cdiv%3E%0A%20%20%20%20%20%20%20%20%20%20%20%20%20%20%20%20%20%20%20%20%20%5B3.9%2C%20%27%D0%9A%D1%80%D0%B0%D1%81%D0%BD%D0%BE%D0%B4%D0%B0%D1%80%27%5D%0A%20%20%20%20%20%20%20%20%20%20%20%20%20%20%20%20%20%3C/div%3E%60%2C%0A%20%20%20%20%20%20%20%20%20%20%20%20%20%20%20%20%7B%22sticky%22%3A%20true%7D%0A%20%20%20%20%20%20%20%20%20%20%20%20%29%3B%0A%20%20%20%20%20%20%20%20%0A%20%20%20%20%0A%20%20%20%20%20%20%20%20%20%20%20%20var%20marker_762ad68bb8a14b63b14b6bf680c3410c%20%3D%20L.marker%28%0A%20%20%20%20%20%20%20%20%20%20%20%20%20%20%20%20%5B56.0090968%2C%2092.8725147%5D%2C%0A%20%20%20%20%20%20%20%20%20%20%20%20%20%20%20%20%7B%7D%0A%20%20%20%20%20%20%20%20%20%20%20%20%29.addTo%28marker_cluster_b2ca28b7d69345e788ae876337201d94%29%3B%0A%20%20%20%20%20%20%20%20%0A%20%20%20%20%0A%20%20%20%20%20%20%20%20%20%20%20%20marker_762ad68bb8a14b63b14b6bf680c3410c.bindTooltip%28%0A%20%20%20%20%20%20%20%20%20%20%20%20%20%20%20%20%60%3Cdiv%3E%0A%20%20%20%20%20%20%20%20%20%20%20%20%20%20%20%20%20%20%20%20%20%5B11.58%2C%20%27%D0%9A%D1%80%D0%B0%D1%81%D0%BD%D0%BE%D1%8F%D1%80%D1%81%D0%BA%27%5D%0A%20%20%20%20%20%20%20%20%20%20%20%20%20%20%20%20%20%3C/div%3E%60%2C%0A%20%20%20%20%20%20%20%20%20%20%20%20%20%20%20%20%7B%22sticky%22%3A%20true%7D%0A%20%20%20%20%20%20%20%20%20%20%20%20%29%3B%0A%20%20%20%20%20%20%20%20%0A%20%20%20%20%0A%20%20%20%20%20%20%20%20%20%20%20%20var%20marker_3c44c2b624b44907895dec49ec7ceb61%20%3D%20L.marker%28%0A%20%20%20%20%20%20%20%20%20%20%20%20%20%20%20%20%5B55.51707765%2C%2065.45906580229595%5D%2C%0A%20%20%20%20%20%20%20%20%20%20%20%20%20%20%20%20%7B%7D%0A%20%20%20%20%20%20%20%20%20%20%20%20%29.addTo%28marker_cluster_b2ca28b7d69345e788ae876337201d94%29%3B%0A%20%20%20%20%20%20%20%20%0A%20%20%20%20%0A%20%20%20%20%20%20%20%20%20%20%20%20marker_3c44c2b624b44907895dec49ec7ceb61.bindTooltip%28%0A%20%20%20%20%20%20%20%20%20%20%20%20%20%20%20%20%60%3Cdiv%3E%0A%20%20%20%20%20%20%20%20%20%20%20%20%20%20%20%20%20%20%20%20%20%5B3.42%2C%20%27%D0%9A%D1%83%D1%80%D0%B3%D0%B0%D0%BD%27%5D%0A%20%20%20%20%20%20%20%20%20%20%20%20%20%20%20%20%20%3C/div%3E%60%2C%0A%20%20%20%20%20%20%20%20%20%20%20%20%20%20%20%20%7B%22sticky%22%3A%20true%7D%0A%20%20%20%20%20%20%20%20%20%20%20%20%29%3B%0A%20%20%20%20%20%20%20%20%0A%20%20%20%20%0A%20%20%20%20%20%20%20%20%20%20%20%20var%20marker_08a0430a11a74333a4b7cf8656cc71e5%20%3D%20L.marker%28%0A%20%20%20%20%20%20%20%20%20%20%20%20%20%20%20%20%5B51.739433%2C%2036.179604%5D%2C%0A%20%20%20%20%20%20%20%20%20%20%20%20%20%20%20%20%7B%7D%0A%20%20%20%20%20%20%20%20%20%20%20%20%29.addTo%28marker_cluster_b2ca28b7d69345e788ae876337201d94%29%3B%0A%20%20%20%20%20%20%20%20%0A%20%20%20%20%0A%20%20%20%20%20%20%20%20%20%20%20%20marker_08a0430a11a74333a4b7cf8656cc71e5.bindTooltip%28%0A%20%20%20%20%20%20%20%20%20%20%20%20%20%20%20%20%60%3Cdiv%3E%0A%20%20%20%20%20%20%20%20%20%20%20%20%20%20%20%20%20%20%20%20%20%5B2.29%2C%20%27%D0%9A%D1%83%D1%80%D1%81%D0%BA%27%5D%0A%20%20%20%20%20%20%20%20%20%20%20%20%20%20%20%20%20%3C/div%3E%60%2C%0A%20%20%20%20%20%20%20%20%20%20%20%20%20%20%20%20%7B%22sticky%22%3A%20true%7D%0A%20%20%20%20%20%20%20%20%20%20%20%20%29%3B%0A%20%20%20%20%20%20%20%20%0A%20%20%20%20%0A%20%20%20%20%20%20%20%20%20%20%20%20var%20marker_84b823d5914f4da1ae2534c95bc246f1%20%3D%20L.marker%28%0A%20%20%20%20%20%20%20%20%20%20%20%20%20%20%20%20%5B51.719079%2C%2094.4300679%5D%2C%0A%20%20%20%20%20%20%20%20%20%20%20%20%20%20%20%20%7B%7D%0A%20%20%20%20%20%20%20%20%20%20%20%20%29.addTo%28marker_cluster_b2ca28b7d69345e788ae876337201d94%29%3B%0A%20%20%20%20%20%20%20%20%0A%20%20%20%20%0A%20%20%20%20%20%20%20%20%20%20%20%20marker_84b823d5914f4da1ae2534c95bc246f1.bindTooltip%28%0A%20%20%20%20%20%20%20%20%20%20%20%20%20%20%20%20%60%3Cdiv%3E%0A%20%20%20%20%20%20%20%20%20%20%20%20%20%20%20%20%20%20%20%20%20%5B1.28%2C%20%27%D0%9A%D1%8B%D0%B7%D1%8B%D0%BB%27%5D%0A%20%20%20%20%20%20%20%20%20%20%20%20%20%20%20%20%20%3C/div%3E%60%2C%0A%20%20%20%20%20%20%20%20%20%20%20%20%20%20%20%20%7B%22sticky%22%3A%20true%7D%0A%20%20%20%20%20%20%20%20%20%20%20%20%29%3B%0A%20%20%20%20%20%20%20%20%0A%20%20%20%20%0A%20%20%20%20%20%20%20%20%20%20%20%20var%20marker_49d8fa2d8c0e409faf51ad0277189e6d%20%3D%20L.marker%28%0A%20%20%20%20%20%20%20%20%20%20%20%20%20%20%20%20%5B52.6041877%2C%2039.5936899%5D%2C%0A%20%20%20%20%20%20%20%20%20%20%20%20%20%20%20%20%7B%7D%0A%20%20%20%20%20%20%20%20%20%20%20%20%29.addTo%28marker_cluster_b2ca28b7d69345e788ae876337201d94%29%3B%0A%20%20%20%20%20%20%20%20%0A%20%20%20%20%0A%20%20%20%20%20%20%20%20%20%20%20%20marker_49d8fa2d8c0e409faf51ad0277189e6d.bindTooltip%28%0A%20%20%20%20%20%20%20%20%20%20%20%20%20%20%20%20%60%3Cdiv%3E%0A%20%20%20%20%20%20%20%20%20%20%20%20%20%20%20%20%20%20%20%20%20%5B1.29%2C%20%27%D0%9B%D0%B8%D0%BF%D0%B5%D1%86%D0%BA%27%5D%0A%20%20%20%20%20%20%20%20%20%20%20%20%20%20%20%20%20%3C/div%3E%60%2C%0A%20%20%20%20%20%20%20%20%20%20%20%20%20%20%20%20%7B%22sticky%22%3A%20true%7D%0A%20%20%20%20%20%20%20%20%20%20%20%20%29%3B%0A%20%20%20%20%20%20%20%20%0A%20%20%20%20%0A%20%20%20%20%20%20%20%20%20%20%20%20var%20marker_7fc84f8bd2cb47bcaccbd5a5c155145e%20%3D%20L.marker%28%0A%20%20%20%20%20%20%20%20%20%20%20%20%20%20%20%20%5B59.5604768%2C%20150.7988617%5D%2C%0A%20%20%20%20%20%20%20%20%20%20%20%20%20%20%20%20%7B%7D%0A%20%20%20%20%20%20%20%20%20%20%20%20%29.addTo%28marker_cluster_b2ca28b7d69345e788ae876337201d94%29%3B%0A%20%20%20%20%20%20%20%20%0A%20%20%20%20%0A%20%20%20%20%20%20%20%20%20%20%20%20marker_7fc84f8bd2cb47bcaccbd5a5c155145e.bindTooltip%28%0A%20%20%20%20%20%20%20%20%20%20%20%20%20%20%20%20%60%3Cdiv%3E%0A%20%20%20%20%20%20%20%20%20%20%20%20%20%20%20%20%20%20%20%20%20%5B1.36%2C%20%27%D0%9C%D0%B0%D0%B3%D0%B0%D0%B4%D0%B0%D0%BD%27%5D%0A%20%20%20%20%20%20%20%20%20%20%20%20%20%20%20%20%20%3C/div%3E%60%2C%0A%20%20%20%20%20%20%20%20%20%20%20%20%20%20%20%20%7B%22sticky%22%3A%20true%7D%0A%20%20%20%20%20%20%20%20%20%20%20%20%29%3B%0A%20%20%20%20%20%20%20%20%0A%20%20%20%20%0A%20%20%20%20%20%20%20%20%20%20%20%20var%20marker_3f416feddb37471b9a18169882e57d0e%20%3D%20L.marker%28%0A%20%20%20%20%20%20%20%20%20%20%20%20%20%20%20%20%5B53.4242184%2C%2058.983136%5D%2C%0A%20%20%20%20%20%20%20%20%20%20%20%20%20%20%20%20%7B%7D%0A%20%20%20%20%20%20%20%20%20%20%20%20%29.addTo%28marker_cluster_b2ca28b7d69345e788ae876337201d94%29%3B%0A%20%20%20%20%20%20%20%20%0A%20%20%20%20%0A%20%20%20%20%20%20%20%20%20%20%20%20marker_3f416feddb37471b9a18169882e57d0e.bindTooltip%28%0A%20%20%20%20%20%20%20%20%20%20%20%20%20%20%20%20%60%3Cdiv%3E%0A%20%20%20%20%20%20%20%20%20%20%20%20%20%20%20%20%20%20%20%20%20%5B4.0%2C%20%27%D0%9C%D0%B0%D0%B3%D0%BD%D0%B8%D1%82%D0%BE%D0%B3%D0%BE%D1%80%D1%81%D0%BA%27%5D%0A%20%20%20%20%20%20%20%20%20%20%20%20%20%20%20%20%20%3C/div%3E%60%2C%0A%20%20%20%20%20%20%20%20%20%20%20%20%20%20%20%20%7B%22sticky%22%3A%20true%7D%0A%20%20%20%20%20%20%20%20%20%20%20%20%29%3B%0A%20%20%20%20%20%20%20%20%0A%20%20%20%20%0A%20%20%20%20%20%20%20%20%20%20%20%20var%20marker_7cf6be9a261e4cadb74a1f2b6e5d44ab%20%3D%20L.marker%28%0A%20%20%20%20%20%20%20%20%20%20%20%20%20%20%20%20%5B42.9830241%2C%2047.5048717%5D%2C%0A%20%20%20%20%20%20%20%20%20%20%20%20%20%20%20%20%7B%7D%0A%20%20%20%20%20%20%20%20%20%20%20%20%29.addTo%28marker_cluster_b2ca28b7d69345e788ae876337201d94%29%3B%0A%20%20%20%20%20%20%20%20%0A%20%20%20%20%0A%20%20%20%20%20%20%20%20%20%20%20%20marker_7cf6be9a261e4cadb74a1f2b6e5d44ab.bindTooltip%28%0A%20%20%20%20%20%20%20%20%20%20%20%20%20%20%20%20%60%3Cdiv%3E%0A%20%20%20%20%20%20%20%20%20%20%20%20%20%20%20%20%20%20%20%20%20%5B3.29%2C%20%27%D0%9C%D0%B0%D1%85%D0%B0%D1%87%D0%BA%D0%B0%D0%BB%D0%B0%27%5D%0A%20%20%20%20%20%20%20%20%20%20%20%20%20%20%20%20%20%3C/div%3E%60%2C%0A%20%20%20%20%20%20%20%20%20%20%20%20%20%20%20%20%7B%22sticky%22%3A%20true%7D%0A%20%20%20%20%20%20%20%20%20%20%20%20%29%3B%0A%20%20%20%20%20%20%20%20%0A%20%20%20%20%0A%20%20%20%20%20%20%20%20%20%20%20%20var%20marker_11ec9df61ed14939bae09fb8030e2b3f%20%3D%20L.marker%28%0A%20%20%20%20%20%20%20%20%20%20%20%20%20%20%20%20%5B44.2107377%2C%2043.134969%5D%2C%0A%20%20%20%20%20%20%20%20%20%20%20%20%20%20%20%20%7B%7D%0A%20%20%20%20%20%20%20%20%20%20%20%20%29.addTo%28marker_cluster_b2ca28b7d69345e788ae876337201d94%29%3B%0A%20%20%20%20%20%20%20%20%0A%20%20%20%20%0A%20%20%20%20%20%20%20%20%20%20%20%20marker_11ec9df61ed14939bae09fb8030e2b3f.bindTooltip%28%0A%20%20%20%20%20%20%20%20%20%20%20%20%20%20%20%20%60%3Cdiv%3E%0A%20%20%20%20%20%20%20%20%20%20%20%20%20%20%20%20%20%20%20%20%20%5B3.42%2C%20%27%D0%9C%D0%B8%D0%BD%D0%B5%D1%80%D0%B0%D0%BB%D1%8C%D0%BD%D1%8B%D0%B5%20%D0%92%D0%BE%D0%B4%D1%8B%27%5D%0A%20%20%20%20%20%20%20%20%20%20%20%20%20%20%20%20%20%3C/div%3E%60%2C%0A%20%20%20%20%20%20%20%20%20%20%20%20%20%20%20%20%7B%22sticky%22%3A%20true%7D%0A%20%20%20%20%20%20%20%20%20%20%20%20%29%3B%0A%20%20%20%20%20%20%20%20%0A%20%20%20%20%0A%20%20%20%20%20%20%20%20%20%20%20%20var%20marker_b3e351ed40a54ca19698996805bedb81%20%3D%20L.marker%28%0A%20%20%20%20%20%20%20%20%20%20%20%20%20%20%20%20%5B62.541077%2C%20113.978584%5D%2C%0A%20%20%20%20%20%20%20%20%20%20%20%20%20%20%20%20%7B%7D%0A%20%20%20%20%20%20%20%20%20%20%20%20%29.addTo%28marker_cluster_b2ca28b7d69345e788ae876337201d94%29%3B%0A%20%20%20%20%20%20%20%20%0A%20%20%20%20%0A%20%20%20%20%20%20%20%20%20%20%20%20marker_b3e351ed40a54ca19698996805bedb81.bindTooltip%28%0A%20%20%20%20%20%20%20%20%20%20%20%20%20%20%20%20%60%3Cdiv%3E%0A%20%20%20%20%20%20%20%20%20%20%20%20%20%20%20%20%20%20%20%20%20%5B6.29%2C%20%27%D0%9C%D0%B8%D1%80%D0%BD%D1%8B%D0%B9%27%5D%0A%20%20%20%20%20%20%20%20%20%20%20%20%20%20%20%20%20%3C/div%3E%60%2C%0A%20%20%20%20%20%20%20%20%20%20%20%20%20%20%20%20%7B%22sticky%22%3A%20true%7D%0A%20%20%20%20%20%20%20%20%20%20%20%20%29%3B%0A%20%20%20%20%20%20%20%20%0A%20%20%20%20%0A%20%20%20%20%20%20%20%20%20%20%20%20var%20marker_032bdf7ac5ea4261b3d6677a13490933%20%3D%20L.marker%28%0A%20%20%20%20%20%20%20%20%20%20%20%20%20%20%20%20%5B55.7504461%2C%2037.6174943%5D%2C%0A%20%20%20%20%20%20%20%20%20%20%20%20%20%20%20%20%7B%7D%0A%20%20%20%20%20%20%20%20%20%20%20%20%29.addTo%28marker_cluster_b2ca28b7d69345e788ae876337201d94%29%3B%0A%20%20%20%20%20%20%20%20%0A%20%20%20%20%0A%20%20%20%20%20%20%20%20%20%20%20%20marker_032bdf7ac5ea4261b3d6677a13490933.bindTooltip%28%0A%20%20%20%20%20%20%20%20%20%20%20%20%20%20%20%20%60%3Cdiv%3E%0A%20%20%20%20%20%20%20%20%20%20%20%20%20%20%20%20%20%20%20%20%20%5B129.77%2C%20%27%D0%9C%D0%BE%D1%81%D0%BA%D0%B2%D0%B0%27%5D%0A%20%20%20%20%20%20%20%20%20%20%20%20%20%20%20%20%20%3C/div%3E%60%2C%0A%20%20%20%20%20%20%20%20%20%20%20%20%20%20%20%20%7B%22sticky%22%3A%20true%7D%0A%20%20%20%20%20%20%20%20%20%20%20%20%29%3B%0A%20%20%20%20%20%20%20%20%0A%20%20%20%20%0A%20%20%20%20%20%20%20%20%20%20%20%20var%20marker_ce28409476f042d294177fa9becec94d%20%3D%20L.marker%28%0A%20%20%20%20%20%20%20%20%20%20%20%20%20%20%20%20%5B68.970665%2C%2033.07497%5D%2C%0A%20%20%20%20%20%20%20%20%20%20%20%20%20%20%20%20%7B%7D%0A%20%20%20%20%20%20%20%20%20%20%20%20%29.addTo%28marker_cluster_b2ca28b7d69345e788ae876337201d94%29%3B%0A%20%20%20%20%20%20%20%20%0A%20%20%20%20%0A%20%20%20%20%20%20%20%20%20%20%20%20marker_ce28409476f042d294177fa9becec94d.bindTooltip%28%0A%20%20%20%20%20%20%20%20%20%20%20%20%20%20%20%20%60%3Cdiv%3E%0A%20%20%20%20%20%20%20%20%20%20%20%20%20%20%20%20%20%20%20%20%20%5B2.0%2C%20%27%D0%9C%D1%83%D1%80%D0%BC%D0%B0%D0%BD%D1%81%D0%BA%27%5D%0A%20%20%20%20%20%20%20%20%20%20%20%20%20%20%20%20%20%3C/div%3E%60%2C%0A%20%20%20%20%20%20%20%20%20%20%20%20%20%20%20%20%7B%22sticky%22%3A%20true%7D%0A%20%20%20%20%20%20%20%20%20%20%20%20%29%3B%0A%20%20%20%20%20%20%20%20%0A%20%20%20%20%0A%20%20%20%20%20%20%20%20%20%20%20%20var%20marker_a0fe86bc4b6943de9abcc7c6ec7a1b18%20%3D%20L.marker%28%0A%20%20%20%20%20%20%20%20%20%20%20%20%20%20%20%20%5B65.5336238%2C%2072.5113955%5D%2C%0A%20%20%20%20%20%20%20%20%20%20%20%20%20%20%20%20%7B%7D%0A%20%20%20%20%20%20%20%20%20%20%20%20%29.addTo%28marker_cluster_b2ca28b7d69345e788ae876337201d94%29%3B%0A%20%20%20%20%20%20%20%20%0A%20%20%20%20%0A%20%20%20%20%20%20%20%20%20%20%20%20marker_a0fe86bc4b6943de9abcc7c6ec7a1b18.bindTooltip%28%0A%20%20%20%20%20%20%20%20%20%20%20%20%20%20%20%20%60%3Cdiv%3E%0A%20%20%20%20%20%20%20%20%20%20%20%20%20%20%20%20%20%20%20%20%20%5B2.29%2C%20%27%D0%9D%D0%B0%D0%B4%D1%8B%D0%BC%27%5D%0A%20%20%20%20%20%20%20%20%20%20%20%20%20%20%20%20%20%3C/div%3E%60%2C%0A%20%20%20%20%20%20%20%20%20%20%20%20%20%20%20%20%7B%22sticky%22%3A%20true%7D%0A%20%20%20%20%20%20%20%20%20%20%20%20%29%3B%0A%20%20%20%20%20%20%20%20%0A%20%20%20%20%0A%20%20%20%20%20%20%20%20%20%20%20%20var%20marker_8301b09330b34ad2a84d84a3585b54ea%20%3D%20L.marker%28%0A%20%20%20%20%20%20%20%20%20%20%20%20%20%20%20%20%5B43.4769604%2C%2043.5966578%5D%2C%0A%20%20%20%20%20%20%20%20%20%20%20%20%20%20%20%20%7B%7D%0A%20%20%20%20%20%20%20%20%20%20%20%20%29.addTo%28marker_cluster_b2ca28b7d69345e788ae876337201d94%29%3B%0A%20%20%20%20%20%20%20%20%0A%20%20%20%20%0A%20%20%20%20%20%20%20%20%20%20%20%20marker_8301b09330b34ad2a84d84a3585b54ea.bindTooltip%28%0A%20%20%20%20%20%20%20%20%20%20%20%20%20%20%20%20%60%3Cdiv%3E%0A%20%20%20%20%20%20%20%20%20%20%20%20%20%20%20%20%20%20%20%20%20%5B3.0%2C%20%27%D0%9D%D0%B0%D0%BB%D1%8C%D1%87%D0%B8%D0%BA%27%5D%0A%20%20%20%20%20%20%20%20%20%20%20%20%20%20%20%20%20%3C/div%3E%60%2C%0A%20%20%20%20%20%20%20%20%20%20%20%20%20%20%20%20%7B%22sticky%22%3A%20true%7D%0A%20%20%20%20%20%20%20%20%20%20%20%20%29%3B%0A%20%20%20%20%20%20%20%20%0A%20%20%20%20%0A%20%20%20%20%20%20%20%20%20%20%20%20var%20marker_622be40ad41243ddb0380c5621319501%20%3D%20L.marker%28%0A%20%20%20%20%20%20%20%20%20%20%20%20%20%20%20%20%5B67.6380175%2C%2053.0071044%5D%2C%0A%20%20%20%20%20%20%20%20%20%20%20%20%20%20%20%20%7B%7D%0A%20%20%20%20%20%20%20%20%20%20%20%20%29.addTo%28marker_cluster_b2ca28b7d69345e788ae876337201d94%29%3B%0A%20%20%20%20%20%20%20%20%0A%20%20%20%20%0A%20%20%20%20%20%20%20%20%20%20%20%20marker_622be40ad41243ddb0380c5621319501.bindTooltip%28%0A%20%20%20%20%20%20%20%20%20%20%20%20%20%20%20%20%60%3Cdiv%3E%0A%20%20%20%20%20%20%20%20%20%20%20%20%20%20%20%20%20%20%20%20%20%5B2.61%2C%20%27%D0%9D%D0%B0%D1%80%D1%8C%D1%8F%D0%BD-%D0%9C%D0%B0%D1%80%27%5D%0A%20%20%20%20%20%20%20%20%20%20%20%20%20%20%20%20%20%3C/div%3E%60%2C%0A%20%20%20%20%20%20%20%20%20%20%20%20%20%20%20%20%7B%22sticky%22%3A%20true%7D%0A%20%20%20%20%20%20%20%20%20%20%20%20%29%3B%0A%20%20%20%20%20%20%20%20%0A%20%20%20%20%0A%20%20%20%20%20%20%20%20%20%20%20%20var%20marker_3ab00dfdd5ea4a158f3521b3f2151455%20%3D%20L.marker%28%0A%20%20%20%20%20%20%20%20%20%20%20%20%20%20%20%20%5B56.6579435%2C%20124.7123042%5D%2C%0A%20%20%20%20%20%20%20%20%20%20%20%20%20%20%20%20%7B%7D%0A%20%20%20%20%20%20%20%20%20%20%20%20%29.addTo%28marker_cluster_b2ca28b7d69345e788ae876337201d94%29%3B%0A%20%20%20%20%20%20%20%20%0A%20%20%20%20%0A%20%20%20%20%20%20%20%20%20%20%20%20marker_3ab00dfdd5ea4a158f3521b3f2151455.bindTooltip%28%0A%20%20%20%20%20%20%20%20%20%20%20%20%20%20%20%20%60%3Cdiv%3E%0A%20%20%20%20%20%20%20%20%20%20%20%20%20%20%20%20%20%20%20%20%20%5B2.58%2C%20%27%D0%9D%D0%B5%D1%80%D1%8E%D0%BD%D0%B3%D1%80%D0%B8%27%5D%0A%20%20%20%20%20%20%20%20%20%20%20%20%20%20%20%20%20%3C/div%3E%60%2C%0A%20%20%20%20%20%20%20%20%20%20%20%20%20%20%20%20%7B%22sticky%22%3A%20true%7D%0A%20%20%20%20%20%20%20%20%20%20%20%20%29%3B%0A%20%20%20%20%20%20%20%20%0A%20%20%20%20%0A%20%20%20%20%20%20%20%20%20%20%20%20var%20marker_7643b0f1f4db490cae6ab8b9a165e8ed%20%3D%20L.marker%28%0A%20%20%20%20%20%20%20%20%20%20%20%20%20%20%20%20%5B61.090309%2C%2072.6101%5D%2C%0A%20%20%20%20%20%20%20%20%20%20%20%20%20%20%20%20%7B%7D%0A%20%20%20%20%20%20%20%20%20%20%20%20%29.addTo%28marker_cluster_b2ca28b7d69345e788ae876337201d94%29%3B%0A%20%20%20%20%20%20%20%20%0A%20%20%20%20%0A%20%20%20%20%20%20%20%20%20%20%20%20marker_7643b0f1f4db490cae6ab8b9a165e8ed.bindTooltip%28%0A%20%20%20%20%20%20%20%20%20%20%20%20%20%20%20%20%60%3Cdiv%3E%0A%20%20%20%20%20%20%20%20%20%20%20%20%20%20%20%20%20%20%20%20%20%5B1.0%2C%20%27%D0%9D%D0%B5%D1%84%D1%82%D0%B5%D1%8E%D0%B3%D0%B0%D0%BD%D1%81%D0%BA%27%5D%0A%20%20%20%20%20%20%20%20%20%20%20%20%20%20%20%20%20%3C/div%3E%60%2C%0A%20%20%20%20%20%20%20%20%20%20%20%20%20%20%20%20%7B%22sticky%22%3A%20true%7D%0A%20%20%20%20%20%20%20%20%20%20%20%20%29%3B%0A%20%20%20%20%20%20%20%20%0A%20%20%20%20%0A%20%20%20%20%20%20%20%20%20%20%20%20var%20marker_dbaf6cb2d6df46538c1b7d8b213d51b4%20%3D%20L.marker%28%0A%20%20%20%20%20%20%20%20%20%20%20%20%20%20%20%20%5B60.9391866%2C%2076.55117870683605%5D%2C%0A%20%20%20%20%20%20%20%20%20%20%20%20%20%20%20%20%7B%7D%0A%20%20%20%20%20%20%20%20%20%20%20%20%29.addTo%28marker_cluster_b2ca28b7d69345e788ae876337201d94%29%3B%0A%20%20%20%20%20%20%20%20%0A%20%20%20%20%0A%20%20%20%20%20%20%20%20%20%20%20%20marker_dbaf6cb2d6df46538c1b7d8b213d51b4.bindTooltip%28%0A%20%20%20%20%20%20%20%20%20%20%20%20%20%20%20%20%60%3Cdiv%3E%0A%20%20%20%20%20%20%20%20%20%20%20%20%20%20%20%20%20%20%20%20%20%5B3.13%2C%20%27%D0%9D%D0%B8%D0%B6%D0%BD%D0%B5%D0%B2%D0%B0%D1%80%D1%82%D0%BE%D0%B2%D1%81%D0%BA%27%5D%0A%20%20%20%20%20%20%20%20%20%20%20%20%20%20%20%20%20%3C/div%3E%60%2C%0A%20%20%20%20%20%20%20%20%20%20%20%20%20%20%20%20%7B%22sticky%22%3A%20true%7D%0A%20%20%20%20%20%20%20%20%20%20%20%20%29%3B%0A%20%20%20%20%20%20%20%20%0A%20%20%20%20%0A%20%20%20%20%20%20%20%20%20%20%20%20var%20marker_16140af63b814de48830ebb58fe38c77%20%3D%20L.marker%28%0A%20%20%20%20%20%20%20%20%20%20%20%20%20%20%20%20%5B55.6197642%2C%2051.81941423128012%5D%2C%0A%20%20%20%20%20%20%20%20%20%20%20%20%20%20%20%20%7B%7D%0A%20%20%20%20%20%20%20%20%20%20%20%20%29.addTo%28marker_cluster_b2ca28b7d69345e788ae876337201d94%29%3B%0A%20%20%20%20%20%20%20%20%0A%20%20%20%20%0A%20%20%20%20%20%20%20%20%20%20%20%20marker_16140af63b814de48830ebb58fe38c77.bindTooltip%28%0A%20%20%20%20%20%20%20%20%20%20%20%20%20%20%20%20%60%3Cdiv%3E%0A%20%20%20%20%20%20%20%20%20%20%20%20%20%20%20%20%20%20%20%20%20%5B3.74%2C%20%27%D0%9D%D0%B8%D0%B6%D0%BD%D0%B5%D0%BA%D0%B0%D0%BC%D1%81%D0%BA%27%5D%0A%20%20%20%20%20%20%20%20%20%20%20%20%20%20%20%20%20%3C/div%3E%60%2C%0A%20%20%20%20%20%20%20%20%20%20%20%20%20%20%20%20%7B%22sticky%22%3A%20true%7D%0A%20%20%20%20%20%20%20%20%20%20%20%20%29%3B%0A%20%20%20%20%20%20%20%20%0A%20%20%20%20%0A%20%20%20%20%20%20%20%20%20%20%20%20var%20marker_14c23573281f43ce8c1a97ec4caba419%20%3D%20L.marker%28%0A%20%20%20%20%20%20%20%20%20%20%20%20%20%20%20%20%5B56.2947846%2C%2043.861545752411196%5D%2C%0A%20%20%20%20%20%20%20%20%20%20%20%20%20%20%20%20%7B%7D%0A%20%20%20%20%20%20%20%20%20%20%20%20%29.addTo%28marker_cluster_b2ca28b7d69345e788ae876337201d94%29%3B%0A%20%20%20%20%20%20%20%20%0A%20%20%20%20%0A%20%20%20%20%20%20%20%20%20%20%20%20marker_14c23573281f43ce8c1a97ec4caba419.bindTooltip%28%0A%20%20%20%20%20%20%20%20%20%20%20%20%20%20%20%20%60%3Cdiv%3E%0A%20%20%20%20%20%20%20%20%20%20%20%20%20%20%20%20%20%20%20%20%20%5B5.87%2C%20%27%D0%9D%D0%B8%D0%B6%D0%BD%D0%B8%D0%B9%20%D0%9D%D0%BE%D0%B2%D0%B3%D0%BE%D1%80%D0%BE%D0%B4%27%5D%0A%20%20%20%20%20%20%20%20%20%20%20%20%20%20%20%20%20%3C/div%3E%60%2C%0A%20%20%20%20%20%20%20%20%20%20%20%20%20%20%20%20%7B%22sticky%22%3A%20true%7D%0A%20%20%20%20%20%20%20%20%20%20%20%20%29%3B%0A%20%20%20%20%20%20%20%20%0A%20%20%20%20%0A%20%20%20%20%20%20%20%20%20%20%20%20var%20marker_38ba4763c98a4c9185543308eb59d7c3%20%3D%20L.marker%28%0A%20%20%20%20%20%20%20%20%20%20%20%20%20%20%20%20%5B53.757607%2C%2087.136101%5D%2C%0A%20%20%20%20%20%20%20%20%20%20%20%20%20%20%20%20%7B%7D%0A%20%20%20%20%20%20%20%20%20%20%20%20%29.addTo%28marker_cluster_b2ca28b7d69345e788ae876337201d94%29%3B%0A%20%20%20%20%20%20%20%20%0A%20%20%20%20%0A%20%20%20%20%20%20%20%20%20%20%20%20marker_38ba4763c98a4c9185543308eb59d7c3.bindTooltip%28%0A%20%20%20%20%20%20%20%20%20%20%20%20%20%20%20%20%60%3Cdiv%3E%0A%20%20%20%20%20%20%20%20%20%20%20%20%20%20%20%20%20%20%20%20%20%5B6.03%2C%20%27%D0%9D%D0%BE%D0%B2%D0%BE%D0%BA%D1%83%D0%B7%D0%BD%D0%B5%D1%86%D0%BA%27%5D%0A%20%20%20%20%20%20%20%20%20%20%20%20%20%20%20%20%20%3C/div%3E%60%2C%0A%20%20%20%20%20%20%20%20%20%20%20%20%20%20%20%20%7B%22sticky%22%3A%20true%7D%0A%20%20%20%20%20%20%20%20%20%20%20%20%29%3B%0A%20%20%20%20%20%20%20%20%0A%20%20%20%20%0A%20%20%20%20%20%20%20%20%20%20%20%20var%20marker_d874ab3ed45b4555b5e04bc37514b2f1%20%3D%20L.marker%28%0A%20%20%20%20%20%20%20%20%20%20%20%20%20%20%20%20%5B55.0282171%2C%2082.9234509%5D%2C%0A%20%20%20%20%20%20%20%20%20%20%20%20%20%20%20%20%7B%7D%0A%20%20%20%20%20%20%20%20%20%20%20%20%29.addTo%28marker_cluster_b2ca28b7d69345e788ae876337201d94%29%3B%0A%20%20%20%20%20%20%20%20%0A%20%20%20%20%0A%20%20%20%20%20%20%20%20%20%20%20%20marker_d874ab3ed45b4555b5e04bc37514b2f1.bindTooltip%28%0A%20%20%20%20%20%20%20%20%20%20%20%20%20%20%20%20%60%3Cdiv%3E%0A%20%20%20%20%20%20%20%20%20%20%20%20%20%20%20%20%20%20%20%20%20%5B17.32%2C%20%27%D0%9D%D0%BE%D0%B2%D0%BE%D1%81%D0%B8%D0%B1%D0%B8%D1%80%D1%81%D0%BA%27%5D%0A%20%20%20%20%20%20%20%20%20%20%20%20%20%20%20%20%20%3C/div%3E%60%2C%0A%20%20%20%20%20%20%20%20%20%20%20%20%20%20%20%20%7B%22sticky%22%3A%20true%7D%0A%20%20%20%20%20%20%20%20%20%20%20%20%29%3B%0A%20%20%20%20%20%20%20%20%0A%20%20%20%20%0A%20%20%20%20%20%20%20%20%20%20%20%20var%20marker_998687d4762a40c793a002eab15822b8%20%3D%20L.marker%28%0A%20%20%20%20%20%20%20%20%20%20%20%20%20%20%20%20%5B66.085196%2C%2076.6799167%5D%2C%0A%20%20%20%20%20%20%20%20%20%20%20%20%20%20%20%20%7B%7D%0A%20%20%20%20%20%20%20%20%20%20%20%20%29.addTo%28marker_cluster_b2ca28b7d69345e788ae876337201d94%29%3B%0A%20%20%20%20%20%20%20%20%0A%20%20%20%20%0A%20%20%20%20%20%20%20%20%20%20%20%20marker_998687d4762a40c793a002eab15822b8.bindTooltip%28%0A%20%20%20%20%20%20%20%20%20%20%20%20%20%20%20%20%60%3Cdiv%3E%0A%20%20%20%20%20%20%20%20%20%20%20%20%20%20%20%20%20%20%20%20%20%5B8.29%2C%20%27%D0%9D%D0%BE%D0%B2%D1%8B%D0%B9%20%D0%A3%D1%80%D0%B5%D0%BD%D0%B3%D0%BE%D0%B9%27%5D%0A%20%20%20%20%20%20%20%20%20%20%20%20%20%20%20%20%20%3C/div%3E%60%2C%0A%20%20%20%20%20%20%20%20%20%20%20%20%20%20%20%20%7B%22sticky%22%3A%20true%7D%0A%20%20%20%20%20%20%20%20%20%20%20%20%29%3B%0A%20%20%20%20%20%20%20%20%0A%20%20%20%20%0A%20%20%20%20%20%20%20%20%20%20%20%20var%20marker_df13a00203d24ab5a7fc81af27856041%20%3D%20L.marker%28%0A%20%20%20%20%20%20%20%20%20%20%20%20%20%20%20%20%5B69.3498394%2C%2088.200517%5D%2C%0A%20%20%20%20%20%20%20%20%20%20%20%20%20%20%20%20%7B%7D%0A%20%20%20%20%20%20%20%20%20%20%20%20%29.addTo%28marker_cluster_b2ca28b7d69345e788ae876337201d94%29%3B%0A%20%20%20%20%20%20%20%20%0A%20%20%20%20%0A%20%20%20%20%20%20%20%20%20%20%20%20marker_df13a00203d24ab5a7fc81af27856041.bindTooltip%28%0A%20%20%20%20%20%20%20%20%20%20%20%20%20%20%20%20%60%3Cdiv%3E%0A%20%20%20%20%20%20%20%20%20%20%20%20%20%20%20%20%20%20%20%20%20%5B2.29%2C%20%27%D0%9D%D0%BE%D1%80%D0%B8%D0%BB%D1%8C%D1%81%D0%BA%27%5D%0A%20%20%20%20%20%20%20%20%20%20%20%20%20%20%20%20%20%3C/div%3E%60%2C%0A%20%20%20%20%20%20%20%20%20%20%20%20%20%20%20%20%7B%22sticky%22%3A%20true%7D%0A%20%20%20%20%20%20%20%20%20%20%20%20%29%3B%0A%20%20%20%20%20%20%20%20%0A%20%20%20%20%0A%20%20%20%20%20%20%20%20%20%20%20%20var%20marker_2f7b590b31ea4618a9c55458550e8e7a%20%3D%20L.marker%28%0A%20%20%20%20%20%20%20%20%20%20%20%20%20%20%20%20%5B63.2002917%2C%2075.4475807%5D%2C%0A%20%20%20%20%20%20%20%20%20%20%20%20%20%20%20%20%7B%7D%0A%20%20%20%20%20%20%20%20%20%20%20%20%29.addTo%28marker_cluster_b2ca28b7d69345e788ae876337201d94%29%3B%0A%20%20%20%20%20%20%20%20%0A%20%20%20%20%0A%20%20%20%20%20%20%20%20%20%20%20%20marker_2f7b590b31ea4618a9c55458550e8e7a.bindTooltip%28%0A%20%20%20%20%20%20%20%20%20%20%20%20%20%20%20%20%60%3Cdiv%3E%0A%20%20%20%20%20%20%20%20%20%20%20%20%20%20%20%20%20%20%20%20%20%5B3.0%2C%20%27%D0%9D%D0%BE%D1%8F%D0%B1%D1%80%D1%8C%D1%81%D0%BA%27%5D%0A%20%20%20%20%20%20%20%20%20%20%20%20%20%20%20%20%20%3C/div%3E%60%2C%0A%20%20%20%20%20%20%20%20%20%20%20%20%20%20%20%20%7B%22sticky%22%3A%20true%7D%0A%20%20%20%20%20%20%20%20%20%20%20%20%29%3B%0A%20%20%20%20%20%20%20%20%0A%20%20%20%20%0A%20%20%20%20%20%20%20%20%20%20%20%20var%20marker_eaade7e01e2b41589147cfc4e3799129%20%3D%20L.marker%28%0A%20%20%20%20%20%20%20%20%20%20%20%20%20%20%20%20%5B62.1445646%2C%2065.4349289%5D%2C%0A%20%20%20%20%20%20%20%20%20%20%20%20%20%20%20%20%7B%7D%0A%20%20%20%20%20%20%20%20%20%20%20%20%29.addTo%28marker_cluster_b2ca28b7d69345e788ae876337201d94%29%3B%0A%20%20%20%20%20%20%20%20%0A%20%20%20%20%0A%20%20%20%20%20%20%20%20%20%20%20%20marker_eaade7e01e2b41589147cfc4e3799129.bindTooltip%28%0A%20%20%20%20%20%20%20%20%20%20%20%20%20%20%20%20%60%3Cdiv%3E%0A%20%20%20%20%20%20%20%20%20%20%20%20%20%20%20%20%20%20%20%20%20%5B1.0%2C%20%27%D0%9D%D1%8F%D0%B3%D0%B0%D0%BD%D1%8C%27%5D%0A%20%20%20%20%20%20%20%20%20%20%20%20%20%20%20%20%20%3C/div%3E%60%2C%0A%20%20%20%20%20%20%20%20%20%20%20%20%20%20%20%20%7B%22sticky%22%3A%20true%7D%0A%20%20%20%20%20%20%20%20%20%20%20%20%29%3B%0A%20%20%20%20%20%20%20%20%0A%20%20%20%20%0A%20%20%20%20%20%20%20%20%20%20%20%20var%20marker_76318a40a5a94a3ab805b0e103c92324%20%3D%20L.marker%28%0A%20%20%20%20%20%20%20%20%20%20%20%20%20%20%20%20%5B54.991375%2C%2073.371529%5D%2C%0A%20%20%20%20%20%20%20%20%20%20%20%20%20%20%20%20%7B%7D%0A%20%20%20%20%20%20%20%20%20%20%20%20%29.addTo%28marker_cluster_b2ca28b7d69345e788ae876337201d94%29%3B%0A%20%20%20%20%20%20%20%20%0A%20%20%20%20%0A%20%20%20%20%20%20%20%20%20%20%20%20marker_76318a40a5a94a3ab805b0e103c92324.bindTooltip%28%0A%20%20%20%20%20%20%20%20%20%20%20%20%20%20%20%20%60%3Cdiv%3E%0A%20%20%20%20%20%20%20%20%20%20%20%20%20%20%20%20%20%20%20%20%20%5B3.29%2C%20%27%D0%9E%D0%BC%D1%81%D0%BA%27%5D%0A%20%20%20%20%20%20%20%20%20%20%20%20%20%20%20%20%20%3C/div%3E%60%2C%0A%20%20%20%20%20%20%20%20%20%20%20%20%20%20%20%20%7B%22sticky%22%3A%20true%7D%0A%20%20%20%20%20%20%20%20%20%20%20%20%29%3B%0A%20%20%20%20%20%20%20%20%0A%20%20%20%20%0A%20%20%20%20%20%20%20%20%20%20%20%20var%20marker_72b571f153f2447e9013010e2a0c63ab%20%3D%20L.marker%28%0A%20%20%20%20%20%20%20%20%20%20%20%20%20%20%20%20%5B51.767452%2C%2055.097118%5D%2C%0A%20%20%20%20%20%20%20%20%20%20%20%20%20%20%20%20%7B%7D%0A%20%20%20%20%20%20%20%20%20%20%20%20%29.addTo%28marker_cluster_b2ca28b7d69345e788ae876337201d94%29%3B%0A%20%20%20%20%20%20%20%20%0A%20%20%20%20%0A%20%20%20%20%20%20%20%20%20%20%20%20marker_72b571f153f2447e9013010e2a0c63ab.bindTooltip%28%0A%20%20%20%20%20%20%20%20%20%20%20%20%20%20%20%20%60%3Cdiv%3E%0A%20%20%20%20%20%20%20%20%20%20%20%20%20%20%20%20%20%20%20%20%20%5B5.0%2C%20%27%D0%9E%D1%80%D0%B5%D0%BD%D0%B1%D1%83%D1%80%D0%B3%27%5D%0A%20%20%20%20%20%20%20%20%20%20%20%20%20%20%20%20%20%3C/div%3E%60%2C%0A%20%20%20%20%20%20%20%20%20%20%20%20%20%20%20%20%7B%22sticky%22%3A%20true%7D%0A%20%20%20%20%20%20%20%20%20%20%20%20%29%3B%0A%20%20%20%20%20%20%20%20%0A%20%20%20%20%0A%20%20%20%20%20%20%20%20%20%20%20%20var%20marker_e020e217474c47299a6019c5e97d6bd4%20%3D%20L.marker%28%0A%20%20%20%20%20%20%20%20%20%20%20%20%20%20%20%20%5B51.2305015%2C%2058.4738015%5D%2C%0A%20%20%20%20%20%20%20%20%20%20%20%20%20%20%20%20%7B%7D%0A%20%20%20%20%20%20%20%20%20%20%20%20%29.addTo%28marker_cluster_b2ca28b7d69345e788ae876337201d94%29%3B%0A%20%20%20%20%20%20%20%20%0A%20%20%20%20%0A%20%20%20%20%20%20%20%20%20%20%20%20marker_e020e217474c47299a6019c5e97d6bd4.bindTooltip%28%0A%20%20%20%20%20%20%20%20%20%20%20%20%20%20%20%20%60%3Cdiv%3E%0A%20%20%20%20%20%20%20%20%20%20%20%20%20%20%20%20%20%20%20%20%20%5B1.59%2C%20%27%D0%9E%D1%80%D1%81%D0%BA%27%5D%0A%20%20%20%20%20%20%20%20%20%20%20%20%20%20%20%20%20%3C/div%3E%60%2C%0A%20%20%20%20%20%20%20%20%20%20%20%20%20%20%20%20%7B%22sticky%22%3A%20true%7D%0A%20%20%20%20%20%20%20%20%20%20%20%20%29%3B%0A%20%20%20%20%20%20%20%20%0A%20%20%20%20%0A%20%20%20%20%20%20%20%20%20%20%20%20var%20marker_6f5022826e86405ea9fad4525163392a%20%3D%20L.marker%28%0A%20%20%20%20%20%20%20%20%20%20%20%20%20%20%20%20%5B58.0230679%2C%2056.232803119037456%5D%2C%0A%20%20%20%20%20%20%20%20%20%20%20%20%20%20%20%20%7B%7D%0A%20%20%20%20%20%20%20%20%20%20%20%20%29.addTo%28marker_cluster_b2ca28b7d69345e788ae876337201d94%29%3B%0A%20%20%20%20%20%20%20%20%0A%20%20%20%20%0A%20%20%20%20%20%20%20%20%20%20%20%20marker_6f5022826e86405ea9fad4525163392a.bindTooltip%28%0A%20%20%20%20%20%20%20%20%20%20%20%20%20%20%20%20%60%3Cdiv%3E%0A%20%20%20%20%20%20%20%20%20%20%20%20%20%20%20%20%20%20%20%20%20%5B10.13%2C%20%27%D0%9F%D0%B5%D1%80%D0%BC%D1%8C%27%5D%0A%20%20%20%20%20%20%20%20%20%20%20%20%20%20%20%20%20%3C/div%3E%60%2C%0A%20%20%20%20%20%20%20%20%20%20%20%20%20%20%20%20%7B%22sticky%22%3A%20true%7D%0A%20%20%20%20%20%20%20%20%20%20%20%20%29%3B%0A%20%20%20%20%20%20%20%20%0A%20%20%20%20%0A%20%20%20%20%20%20%20%20%20%20%20%20var%20marker_4522bdbba71a41c2b6b6b8b9f1c0e95e%20%3D%20L.marker%28%0A%20%20%20%20%20%20%20%20%20%20%20%20%20%20%20%20%5B61.790039%2C%2034.390007%5D%2C%0A%20%20%20%20%20%20%20%20%20%20%20%20%20%20%20%20%7B%7D%0A%20%20%20%20%20%20%20%20%20%20%20%20%29.addTo%28marker_cluster_b2ca28b7d69345e788ae876337201d94%29%3B%0A%20%20%20%20%20%20%20%20%0A%20%20%20%20%0A%20%20%20%20%20%20%20%20%20%20%20%20marker_4522bdbba71a41c2b6b6b8b9f1c0e95e.bindTooltip%28%0A%20%20%20%20%20%20%20%20%20%20%20%20%20%20%20%20%60%3Cdiv%3E%0A%20%20%20%20%20%20%20%20%20%20%20%20%20%20%20%20%20%20%20%20%20%5B5.87%2C%20%27%D0%9F%D0%B5%D1%82%D1%80%D0%BE%D0%B7%D0%B0%D0%B2%D0%BE%D0%B4%D1%81%D0%BA%27%5D%0A%20%20%20%20%20%20%20%20%20%20%20%20%20%20%20%20%20%3C/div%3E%60%2C%0A%20%20%20%20%20%20%20%20%20%20%20%20%20%20%20%20%7B%22sticky%22%3A%20true%7D%0A%20%20%20%20%20%20%20%20%20%20%20%20%29%3B%0A%20%20%20%20%20%20%20%20%0A%20%20%20%20%0A%20%20%20%20%20%20%20%20%20%20%20%20var%20marker_cad7bd61aade422684c5f0b2bf2a9f90%20%3D%20L.marker%28%0A%20%20%20%20%20%20%20%20%20%20%20%20%20%20%20%20%5B53.0199838%2C%20158.6471356%5D%2C%0A%20%20%20%20%20%20%20%20%20%20%20%20%20%20%20%20%7B%7D%0A%20%20%20%20%20%20%20%20%20%20%20%20%29.addTo%28marker_cluster_b2ca28b7d69345e788ae876337201d94%29%3B%0A%20%20%20%20%20%20%20%20%0A%20%20%20%20%0A%20%20%20%20%20%20%20%20%20%20%20%20marker_cad7bd61aade422684c5f0b2bf2a9f90.bindTooltip%28%0A%20%20%20%20%20%20%20%20%20%20%20%20%20%20%20%20%60%3Cdiv%3E%0A%20%20%20%20%20%20%20%20%20%20%20%20%20%20%20%20%20%20%20%20%20%5B1.0%2C%20%27%D0%9F%D0%B5%D1%82%D1%80%D0%BE%D0%BF%D0%B0%D0%B2%D0%BB%D0%BE%D0%B2%D1%81%D0%BA-%D0%9A%D0%B0%D0%BC%D1%87%D0%B0%D1%82%D1%81%D0%BA%D0%B8%D0%B9%27%5D%0A%20%20%20%20%20%20%20%20%20%20%20%20%20%20%20%20%20%3C/div%3E%60%2C%0A%20%20%20%20%20%20%20%20%20%20%20%20%20%20%20%20%7B%22sticky%22%3A%20true%7D%0A%20%20%20%20%20%20%20%20%20%20%20%20%29%3B%0A%20%20%20%20%20%20%20%20%0A%20%20%20%20%0A%20%20%20%20%20%20%20%20%20%20%20%20var%20marker_812c76cc0f7848cc9b0c4bedd58bf229%20%3D%20L.marker%28%0A%20%20%20%20%20%20%20%20%20%20%20%20%20%20%20%20%5B57.817398%2C%2028.334368%5D%2C%0A%20%20%20%20%20%20%20%20%20%20%20%20%20%20%20%20%7B%7D%0A%20%20%20%20%20%20%20%20%20%20%20%20%29.addTo%28marker_cluster_b2ca28b7d69345e788ae876337201d94%29%3B%0A%20%20%20%20%20%20%20%20%0A%20%20%20%20%0A%20%20%20%20%20%20%20%20%20%20%20%20marker_812c76cc0f7848cc9b0c4bedd58bf229.bindTooltip%28%0A%20%20%20%20%20%20%20%20%20%20%20%20%20%20%20%20%60%3Cdiv%3E%0A%20%20%20%20%20%20%20%20%20%20%20%20%20%20%20%20%20%20%20%20%20%5B1.55%2C%20%27%D0%9F%D1%81%D0%BA%D0%BE%D0%B2%27%5D%0A%20%20%20%20%20%20%20%20%20%20%20%20%20%20%20%20%20%3C/div%3E%60%2C%0A%20%20%20%20%20%20%20%20%20%20%20%20%20%20%20%20%7B%22sticky%22%3A%20true%7D%0A%20%20%20%20%20%20%20%20%20%20%20%20%29%3B%0A%20%20%20%20%20%20%20%20%0A%20%20%20%20%0A%20%20%20%20%20%20%20%20%20%20%20%20var%20marker_c16035530afb42c0a046a6601d3e6fc4%20%3D%20L.marker%28%0A%20%20%20%20%20%20%20%20%20%20%20%20%20%20%20%20%5B47.2213858%2C%2039.7114196%5D%2C%0A%20%20%20%20%20%20%20%20%20%20%20%20%20%20%20%20%7B%7D%0A%20%20%20%20%20%20%20%20%20%20%20%20%29.addTo%28marker_cluster_b2ca28b7d69345e788ae876337201d94%29%3B%0A%20%20%20%20%20%20%20%20%0A%20%20%20%20%0A%20%20%20%20%20%20%20%20%20%20%20%20marker_c16035530afb42c0a046a6601d3e6fc4.bindTooltip%28%0A%20%20%20%20%20%20%20%20%20%20%20%20%20%20%20%20%60%3Cdiv%3E%0A%20%20%20%20%20%20%20%20%20%20%20%20%20%20%20%20%20%20%20%20%20%5B10.19%2C%20%27%D0%A0%D0%BE%D1%81%D1%82%D0%BE%D0%B2-%D0%BD%D0%B0-%D0%94%D0%BE%D0%BD%D1%83%27%5D%0A%20%20%20%20%20%20%20%20%20%20%20%20%20%20%20%20%20%3C/div%3E%60%2C%0A%20%20%20%20%20%20%20%20%20%20%20%20%20%20%20%20%7B%22sticky%22%3A%20true%7D%0A%20%20%20%20%20%20%20%20%20%20%20%20%29%3B%0A%20%20%20%20%20%20%20%20%0A%20%20%20%20%0A%20%20%20%20%20%20%20%20%20%20%20%20var%20marker_05668a534e1445d1978004230c484b31%20%3D%20L.marker%28%0A%20%20%20%20%20%20%20%20%20%20%20%20%20%20%20%20%5B66.5375387%2C%2066.6157469%5D%2C%0A%20%20%20%20%20%20%20%20%20%20%20%20%20%20%20%20%7B%7D%0A%20%20%20%20%20%20%20%20%20%20%20%20%29.addTo%28marker_cluster_b2ca28b7d69345e788ae876337201d94%29%3B%0A%20%20%20%20%20%20%20%20%0A%20%20%20%20%0A%20%20%20%20%20%20%20%20%20%20%20%20marker_05668a534e1445d1978004230c484b31.bindTooltip%28%0A%20%20%20%20%20%20%20%20%20%20%20%20%20%20%20%20%60%3Cdiv%3E%0A%20%20%20%20%20%20%20%20%20%20%20%20%20%20%20%20%20%20%20%20%20%5B2.0%2C%20%27%D0%A1%D0%B0%D0%BB%D0%B5%D1%85%D0%B0%D1%80%D0%B4%27%5D%0A%20%20%20%20%20%20%20%20%20%20%20%20%20%20%20%20%20%3C/div%3E%60%2C%0A%20%20%20%20%20%20%20%20%20%20%20%20%20%20%20%20%7B%22sticky%22%3A%20true%7D%0A%20%20%20%20%20%20%20%20%20%20%20%20%29%3B%0A%20%20%20%20%20%20%20%20%0A%20%20%20%20%0A%20%20%20%20%20%20%20%20%20%20%20%20var%20marker_ee6aced0e4f646fcb6236dc19f1f9f94%20%3D%20L.marker%28%0A%20%20%20%20%20%20%20%20%20%20%20%20%20%20%20%20%5B53.198627%2C%2050.113987%5D%2C%0A%20%20%20%20%20%20%20%20%20%20%20%20%20%20%20%20%7B%7D%0A%20%20%20%20%20%20%20%20%20%20%20%20%29.addTo%28marker_cluster_b2ca28b7d69345e788ae876337201d94%29%3B%0A%20%20%20%20%20%20%20%20%0A%20%20%20%20%0A%20%20%20%20%20%20%20%20%20%20%20%20marker_ee6aced0e4f646fcb6236dc19f1f9f94.bindTooltip%28%0A%20%20%20%20%20%20%20%20%20%20%20%20%20%20%20%20%60%3Cdiv%3E%0A%20%20%20%20%20%20%20%20%20%20%20%20%20%20%20%20%20%20%20%20%20%5B3.0%2C%20%27%D0%A1%D0%B0%D0%BC%D0%B0%D1%80%D0%B0%27%5D%0A%20%20%20%20%20%20%20%20%20%20%20%20%20%20%20%20%20%3C/div%3E%60%2C%0A%20%20%20%20%20%20%20%20%20%20%20%20%20%20%20%20%7B%22sticky%22%3A%20true%7D%0A%20%20%20%20%20%20%20%20%20%20%20%20%29%3B%0A%20%20%20%20%20%20%20%20%0A%20%20%20%20%0A%20%20%20%20%20%20%20%20%20%20%20%20var%20marker_1b8179e1211045a3a0abcaacf89355a8%20%3D%20L.marker%28%0A%20%20%20%20%20%20%20%20%20%20%20%20%20%20%20%20%5B59.917857350000006%2C%2030.380619357025516%5D%2C%0A%20%20%20%20%20%20%20%20%20%20%20%20%20%20%20%20%7B%7D%0A%20%20%20%20%20%20%20%20%20%20%20%20%29.addTo%28marker_cluster_b2ca28b7d69345e788ae876337201d94%29%3B%0A%20%20%20%20%20%20%20%20%0A%20%20%20%20%0A%20%20%20%20%20%20%20%20%20%20%20%20marker_1b8179e1211045a3a0abcaacf89355a8.bindTooltip%28%0A%20%20%20%20%20%20%20%20%20%20%20%20%20%20%20%20%60%3Cdiv%3E%0A%20%20%20%20%20%20%20%20%20%20%20%20%20%20%20%20%20%20%20%20%20%5B31.16%2C%20%27%D0%A1%D0%B0%D0%BD%D0%BA%D1%82-%D0%9F%D0%B5%D1%82%D0%B5%D1%80%D0%B1%D1%83%D1%80%D0%B3%27%5D%0A%20%20%20%20%20%20%20%20%20%20%20%20%20%20%20%20%20%3C/div%3E%60%2C%0A%20%20%20%20%20%20%20%20%20%20%20%20%20%20%20%20%7B%22sticky%22%3A%20true%7D%0A%20%20%20%20%20%20%20%20%20%20%20%20%29%3B%0A%20%20%20%20%20%20%20%20%0A%20%20%20%20%0A%20%20%20%20%20%20%20%20%20%20%20%20var%20marker_4f5e06ea29b74b21bdbc7c235b7e33a4%20%3D%20L.marker%28%0A%20%20%20%20%20%20%20%20%20%20%20%20%20%20%20%20%5B54.18671%2C%2045.18383%5D%2C%0A%20%20%20%20%20%20%20%20%20%20%20%20%20%20%20%20%7B%7D%0A%20%20%20%20%20%20%20%20%20%20%20%20%29.addTo%28marker_cluster_b2ca28b7d69345e788ae876337201d94%29%3B%0A%20%20%20%20%20%20%20%20%0A%20%20%20%20%0A%20%20%20%20%20%20%20%20%20%20%20%20marker_4f5e06ea29b74b21bdbc7c235b7e33a4.bindTooltip%28%0A%20%20%20%20%20%20%20%20%20%20%20%20%20%20%20%20%60%3Cdiv%3E%0A%20%20%20%20%20%20%20%20%20%20%20%20%20%20%20%20%20%20%20%20%20%5B2.0%2C%20%27%D0%A1%D0%B0%D1%80%D0%B0%D0%BD%D1%81%D0%BA%27%5D%0A%20%20%20%20%20%20%20%20%20%20%20%20%20%20%20%20%20%3C/div%3E%60%2C%0A%20%20%20%20%20%20%20%20%20%20%20%20%20%20%20%20%7B%22sticky%22%3A%20true%7D%0A%20%20%20%20%20%20%20%20%20%20%20%20%29%3B%0A%20%20%20%20%20%20%20%20%0A%20%20%20%20%0A%20%20%20%20%20%20%20%20%20%20%20%20var%20marker_c8dd9770d1c24d6ebc9e724ac414fe62%20%3D%20L.marker%28%0A%20%20%20%20%20%20%20%20%20%20%20%20%20%20%20%20%5B51.53952715%2C%2046.03338615081432%5D%2C%0A%20%20%20%20%20%20%20%20%20%20%20%20%20%20%20%20%7B%7D%0A%20%20%20%20%20%20%20%20%20%20%20%20%29.addTo%28marker_cluster_b2ca28b7d69345e788ae876337201d94%29%3B%0A%20%20%20%20%20%20%20%20%0A%20%20%20%20%0A%20%20%20%20%20%20%20%20%20%20%20%20marker_c8dd9770d1c24d6ebc9e724ac414fe62.bindTooltip%28%0A%20%20%20%20%20%20%20%20%20%20%20%20%20%20%20%20%60%3Cdiv%3E%0A%20%20%20%20%20%20%20%20%20%20%20%20%20%20%20%20%20%20%20%20%20%5B4.0%2C%20%27%D0%A1%D0%B0%D1%80%D0%B0%D1%82%D0%BE%D0%B2%27%5D%0A%20%20%20%20%20%20%20%20%20%20%20%20%20%20%20%20%20%3C/div%3E%60%2C%0A%20%20%20%20%20%20%20%20%20%20%20%20%20%20%20%20%7B%22sticky%22%3A%20true%7D%0A%20%20%20%20%20%20%20%20%20%20%20%20%29%3B%0A%20%20%20%20%20%20%20%20%0A%20%20%20%20%0A%20%20%20%20%20%20%20%20%20%20%20%20var%20marker_e95aae8c84074e82959c2c3a79c9d6e9%20%3D%20L.marker%28%0A%20%20%20%20%20%20%20%20%20%20%20%20%20%20%20%20%5B61.362099%2C%2063.57354%5D%2C%0A%20%20%20%20%20%20%20%20%20%20%20%20%20%20%20%20%7B%7D%0A%20%20%20%20%20%20%20%20%20%20%20%20%29.addTo%28marker_cluster_b2ca28b7d69345e788ae876337201d94%29%3B%0A%20%20%20%20%20%20%20%20%0A%20%20%20%20%0A%20%20%20%20%20%20%20%20%20%20%20%20marker_e95aae8c84074e82959c2c3a79c9d6e9.bindTooltip%28%0A%20%20%20%20%20%20%20%20%20%20%20%20%20%20%20%20%60%3Cdiv%3E%0A%20%20%20%20%20%20%20%20%20%20%20%20%20%20%20%20%20%20%20%20%20%5B9.0%2C%20%27%D0%A1%D0%BE%D0%B2%D0%B5%D1%82%D1%81%D0%BA%D0%B8%D0%B9%27%5D%0A%20%20%20%20%20%20%20%20%20%20%20%20%20%20%20%20%20%3C/div%3E%60%2C%0A%20%20%20%20%20%20%20%20%20%20%20%20%20%20%20%20%7B%22sticky%22%3A%20true%7D%0A%20%20%20%20%20%20%20%20%20%20%20%20%29%3B%0A%20%20%20%20%20%20%20%20%0A%20%20%20%20%0A%20%20%20%20%20%20%20%20%20%20%20%20var%20marker_1ef5435a78184b81ae80455353348ca3%20%3D%20L.marker%28%0A%20%20%20%20%20%20%20%20%20%20%20%20%20%20%20%20%5B43.71292235%2C%2039.58489885474357%5D%2C%0A%20%20%20%20%20%20%20%20%20%20%20%20%20%20%20%20%7B%7D%0A%20%20%20%20%20%20%20%20%20%20%20%20%29.addTo%28marker_cluster_b2ca28b7d69345e788ae876337201d94%29%3B%0A%20%20%20%20%20%20%20%20%0A%20%20%20%20%0A%20%20%20%20%20%20%20%20%20%20%20%20marker_1ef5435a78184b81ae80455353348ca3.bindTooltip%28%0A%20%20%20%20%20%20%20%20%20%20%20%20%20%20%20%20%60%3Cdiv%3E%0A%20%20%20%20%20%20%20%20%20%20%20%20%20%20%20%20%20%20%20%20%20%5B9.61%2C%20%27%D0%A1%D0%BE%D1%87%D0%B8%27%5D%0A%20%20%20%20%20%20%20%20%20%20%20%20%20%20%20%20%20%3C/div%3E%60%2C%0A%20%20%20%20%20%20%20%20%20%20%20%20%20%20%20%20%7B%22sticky%22%3A%20true%7D%0A%20%20%20%20%20%20%20%20%20%20%20%20%29%3B%0A%20%20%20%20%20%20%20%20%0A%20%20%20%20%0A%20%20%20%20%20%20%20%20%20%20%20%20var%20marker_7da475776f164bcea0df5a59a9aed1be%20%3D%20L.marker%28%0A%20%20%20%20%20%20%20%20%20%20%20%20%20%20%20%20%5B44.941379850000004%2C%2043.66309345141463%5D%2C%0A%20%20%20%20%20%20%20%20%20%20%20%20%20%20%20%20%7B%7D%0A%20%20%20%20%20%20%20%20%20%20%20%20%29.addTo%28marker_cluster_b2ca28b7d69345e788ae876337201d94%29%3B%0A%20%20%20%20%20%20%20%20%0A%20%20%20%20%0A%20%20%20%20%20%20%20%20%20%20%20%20marker_7da475776f164bcea0df5a59a9aed1be.bindTooltip%28%0A%20%20%20%20%20%20%20%20%20%20%20%20%20%20%20%20%60%3Cdiv%3E%0A%20%20%20%20%20%20%20%20%20%20%20%20%20%20%20%20%20%20%20%20%20%5B2.0%2C%20%27%D0%A1%D1%82%D0%B0%D0%B2%D1%80%D0%BE%D0%BF%D0%BE%D0%BB%D1%8C%27%5D%0A%20%20%20%20%20%20%20%20%20%20%20%20%20%20%20%20%20%3C/div%3E%60%2C%0A%20%20%20%20%20%20%20%20%20%20%20%20%20%20%20%20%7B%22sticky%22%3A%20true%7D%0A%20%20%20%20%20%20%20%20%20%20%20%20%29%3B%0A%20%20%20%20%20%20%20%20%0A%20%20%20%20%0A%20%20%20%20%20%20%20%20%20%20%20%20var%20marker_f8623d1337544187a5403b09d39c7bd6%20%3D%20L.marker%28%0A%20%20%20%20%20%20%20%20%20%20%20%20%20%20%20%20%5B60.732758%2C%2077.600807%5D%2C%0A%20%20%20%20%20%20%20%20%20%20%20%20%20%20%20%20%7B%7D%0A%20%20%20%20%20%20%20%20%20%20%20%20%29.addTo%28marker_cluster_b2ca28b7d69345e788ae876337201d94%29%3B%0A%20%20%20%20%20%20%20%20%0A%20%20%20%20%0A%20%20%20%20%20%20%20%20%20%20%20%20marker_f8623d1337544187a5403b09d39c7bd6.bindTooltip%28%0A%20%20%20%20%20%20%20%20%20%20%20%20%20%20%20%20%60%3Cdiv%3E%0A%20%20%20%20%20%20%20%20%20%20%20%20%20%20%20%20%20%20%20%20%20%5B1.0%2C%20%27%D0%A1%D1%82%D1%80%D0%B5%D0%B6%D0%B5%D0%B2%D0%BE%D0%B9%27%5D%0A%20%20%20%20%20%20%20%20%20%20%20%20%20%20%20%20%20%3C/div%3E%60%2C%0A%20%20%20%20%20%20%20%20%20%20%20%20%20%20%20%20%7B%22sticky%22%3A%20true%7D%0A%20%20%20%20%20%20%20%20%20%20%20%20%29%3B%0A%20%20%20%20%20%20%20%20%0A%20%20%20%20%0A%20%20%20%20%20%20%20%20%20%20%20%20var%20marker_4b8728f839b340bba354d0c35d99cc8e%20%3D%20L.marker%28%0A%20%20%20%20%20%20%20%20%20%20%20%20%20%20%20%20%5B61.254032%2C%2073.3964%5D%2C%0A%20%20%20%20%20%20%20%20%20%20%20%20%20%20%20%20%7B%7D%0A%20%20%20%20%20%20%20%20%20%20%20%20%29.addTo%28marker_cluster_b2ca28b7d69345e788ae876337201d94%29%3B%0A%20%20%20%20%20%20%20%20%0A%20%20%20%20%0A%20%20%20%20%20%20%20%20%20%20%20%20marker_4b8728f839b340bba354d0c35d99cc8e.bindTooltip%28%0A%20%20%20%20%20%20%20%20%20%20%20%20%20%20%20%20%60%3Cdiv%3E%0A%20%20%20%20%20%20%20%20%20%20%20%20%20%20%20%20%20%20%20%20%20%5B8.74%2C%20%27%D0%A1%D1%83%D1%80%D0%B3%D1%83%D1%82%27%5D%0A%20%20%20%20%20%20%20%20%20%20%20%20%20%20%20%20%20%3C/div%3E%60%2C%0A%20%20%20%20%20%20%20%20%20%20%20%20%20%20%20%20%7B%22sticky%22%3A%20true%7D%0A%20%20%20%20%20%20%20%20%20%20%20%20%29%3B%0A%20%20%20%20%20%20%20%20%0A%20%20%20%20%0A%20%20%20%20%20%20%20%20%20%20%20%20var%20marker_af792c6db616493f92acfa683baf4332%20%3D%20L.marker%28%0A%20%20%20%20%20%20%20%20%20%20%20%20%20%20%20%20%5B61.6685237%2C%2050.8352024%5D%2C%0A%20%20%20%20%20%20%20%20%20%20%20%20%20%20%20%20%7B%7D%0A%20%20%20%20%20%20%20%20%20%20%20%20%29.addTo%28marker_cluster_b2ca28b7d69345e788ae876337201d94%29%3B%0A%20%20%20%20%20%20%20%20%0A%20%20%20%20%0A%20%20%20%20%20%20%20%20%20%20%20%20marker_af792c6db616493f92acfa683baf4332.bindTooltip%28%0A%20%20%20%20%20%20%20%20%20%20%20%20%20%20%20%20%60%3Cdiv%3E%0A%20%20%20%20%20%20%20%20%20%20%20%20%20%20%20%20%20%20%20%20%20%5B4.13%2C%20%27%D0%A1%D1%8B%D0%BA%D1%82%D1%8B%D0%B2%D0%BA%D0%B0%D1%80%27%5D%0A%20%20%20%20%20%20%20%20%20%20%20%20%20%20%20%20%20%3C/div%3E%60%2C%0A%20%20%20%20%20%20%20%20%20%20%20%20%20%20%20%20%7B%22sticky%22%3A%20true%7D%0A%20%20%20%20%20%20%20%20%20%20%20%20%29%3B%0A%20%20%20%20%20%20%20%20%0A%20%20%20%20%0A%20%20%20%20%20%20%20%20%20%20%20%20var%20marker_52c51b50624a4d879a3ee1b3eaf4ab8c%20%3D%20L.marker%28%0A%20%20%20%20%20%20%20%20%20%20%20%20%20%20%20%20%5B52.72879%2C%2041.45536%5D%2C%0A%20%20%20%20%20%20%20%20%20%20%20%20%20%20%20%20%7B%7D%0A%20%20%20%20%20%20%20%20%20%20%20%20%29.addTo%28marker_cluster_b2ca28b7d69345e788ae876337201d94%29%3B%0A%20%20%20%20%20%20%20%20%0A%20%20%20%20%0A%20%20%20%20%20%20%20%20%20%20%20%20marker_52c51b50624a4d879a3ee1b3eaf4ab8c.bindTooltip%28%0A%20%20%20%20%20%20%20%20%20%20%20%20%20%20%20%20%60%3Cdiv%3E%0A%20%20%20%20%20%20%20%20%20%20%20%20%20%20%20%20%20%20%20%20%20%5B4.0%2C%20%27%D0%A2%D0%B0%D0%BC%D0%B1%D0%BE%D0%B2%27%5D%0A%20%20%20%20%20%20%20%20%20%20%20%20%20%20%20%20%20%3C/div%3E%60%2C%0A%20%20%20%20%20%20%20%20%20%20%20%20%20%20%20%20%7B%22sticky%22%3A%20true%7D%0A%20%20%20%20%20%20%20%20%20%20%20%20%29%3B%0A%20%20%20%20%20%20%20%20%0A%20%20%20%20%0A%20%20%20%20%20%20%20%20%20%20%20%20var%20marker_f5fdba4038f744a3abeb9497200ecb72%20%3D%20L.marker%28%0A%20%20%20%20%20%20%20%20%20%20%20%20%20%20%20%20%5B58.6124279%2C%2082.0475315%5D%2C%0A%20%20%20%20%20%20%20%20%20%20%20%20%20%20%20%20%7B%7D%0A%20%20%20%20%20%20%20%20%20%20%20%20%29.addTo%28marker_cluster_b2ca28b7d69345e788ae876337201d94%29%3B%0A%20%20%20%20%20%20%20%20%0A%20%20%20%20%0A%20%20%20%20%20%20%20%20%20%20%20%20marker_f5fdba4038f744a3abeb9497200ecb72.bindTooltip%28%0A%20%20%20%20%20%20%20%20%20%20%20%20%20%20%20%20%60%3Cdiv%3E%0A%20%20%20%20%20%20%20%20%20%20%20%20%20%20%20%20%20%20%20%20%20%5B4.19%2C%20%27%D0%A2%D0%BE%D0%BC%D1%81%D0%BA%27%5D%0A%20%20%20%20%20%20%20%20%20%20%20%20%20%20%20%20%20%3C/div%3E%60%2C%0A%20%20%20%20%20%20%20%20%20%20%20%20%20%20%20%20%7B%22sticky%22%3A%20true%7D%0A%20%20%20%20%20%20%20%20%20%20%20%20%29%3B%0A%20%20%20%20%20%20%20%20%0A%20%20%20%20%0A%20%20%20%20%20%20%20%20%20%20%20%20var%20marker_599cfeb352024f99b011fb8c42f77217%20%3D%20L.marker%28%0A%20%20%20%20%20%20%20%20%20%20%20%20%20%20%20%20%5B57.153534%2C%2065.542274%5D%2C%0A%20%20%20%20%20%20%20%20%20%20%20%20%20%20%20%20%7B%7D%0A%20%20%20%20%20%20%20%20%20%20%20%20%29.addTo%28marker_cluster_b2ca28b7d69345e788ae876337201d94%29%3B%0A%20%20%20%20%20%20%20%20%0A%20%20%20%20%0A%20%20%20%20%20%20%20%20%20%20%20%20marker_599cfeb352024f99b011fb8c42f77217.bindTooltip%28%0A%20%20%20%20%20%20%20%20%20%20%20%20%20%20%20%20%60%3Cdiv%3E%0A%20%20%20%20%20%20%20%20%20%20%20%20%20%20%20%20%20%20%20%20%20%5B6.97%2C%20%27%D0%A2%D1%8E%D0%BC%D0%B5%D0%BD%D1%8C%27%5D%0A%20%20%20%20%20%20%20%20%20%20%20%20%20%20%20%20%20%3C/div%3E%60%2C%0A%20%20%20%20%20%20%20%20%20%20%20%20%20%20%20%20%7B%22sticky%22%3A%20true%7D%0A%20%20%20%20%20%20%20%20%20%20%20%20%29%3B%0A%20%20%20%20%20%20%20%20%0A%20%20%20%20%0A%20%20%20%20%20%20%20%20%20%20%20%20var%20marker_d344c1f53a26410ba40a9cd6be0feb37%20%3D%20L.marker%28%0A%20%20%20%20%20%20%20%20%20%20%20%20%20%20%20%20%5B66.411768%2C%20112.2517294%5D%2C%0A%20%20%20%20%20%20%20%20%20%20%20%20%20%20%20%20%7B%7D%0A%20%20%20%20%20%20%20%20%20%20%20%20%29.addTo%28marker_cluster_b2ca28b7d69345e788ae876337201d94%29%3B%0A%20%20%20%20%20%20%20%20%0A%20%20%20%20%0A%20%20%20%20%20%20%20%20%20%20%20%20marker_d344c1f53a26410ba40a9cd6be0feb37.bindTooltip%28%0A%20%20%20%20%20%20%20%20%20%20%20%20%20%20%20%20%60%3Cdiv%3E%0A%20%20%20%20%20%20%20%20%20%20%20%20%20%20%20%20%20%20%20%20%20%5B3.0%2C%20%27%D0%A3%D0%B4%D0%B0%D1%87%D0%BD%D1%8B%D0%B9%27%5D%0A%20%20%20%20%20%20%20%20%20%20%20%20%20%20%20%20%20%3C/div%3E%60%2C%0A%20%20%20%20%20%20%20%20%20%20%20%20%20%20%20%20%7B%22sticky%22%3A%20true%7D%0A%20%20%20%20%20%20%20%20%20%20%20%20%29%3B%0A%20%20%20%20%20%20%20%20%0A%20%20%20%20%0A%20%20%20%20%20%20%20%20%20%20%20%20var%20marker_f2fcd08e3d50430d9af84e64156b692b%20%3D%20L.marker%28%0A%20%20%20%20%20%20%20%20%20%20%20%20%20%20%20%20%5B51.8357841%2C%20107.5839105%5D%2C%0A%20%20%20%20%20%20%20%20%20%20%20%20%20%20%20%20%7B%7D%0A%20%20%20%20%20%20%20%20%20%20%20%20%29.addTo%28marker_cluster_b2ca28b7d69345e788ae876337201d94%29%3B%0A%20%20%20%20%20%20%20%20%0A%20%20%20%20%0A%20%20%20%20%20%20%20%20%20%20%20%20marker_f2fcd08e3d50430d9af84e64156b692b.bindTooltip%28%0A%20%20%20%20%20%20%20%20%20%20%20%20%20%20%20%20%60%3Cdiv%3E%0A%20%20%20%20%20%20%20%20%20%20%20%20%20%20%20%20%20%20%20%20%20%5B1.61%2C%20%27%D0%A3%D0%BB%D0%B0%D0%BD-%D0%A3%D0%B4%D1%8D%27%5D%0A%20%20%20%20%20%20%20%20%20%20%20%20%20%20%20%20%20%3C/div%3E%60%2C%0A%20%20%20%20%20%20%20%20%20%20%20%20%20%20%20%20%7B%22sticky%22%3A%20true%7D%0A%20%20%20%20%20%20%20%20%20%20%20%20%29%3B%0A%20%20%20%20%20%20%20%20%0A%20%20%20%20%0A%20%20%20%20%20%20%20%20%20%20%20%20var%20marker_ea92176a5f9245a2839fdb7d78c67fb6%20%3D%20L.marker%28%0A%20%20%20%20%20%20%20%20%20%20%20%20%20%20%20%20%5B54.1463177%2C%2047.2324921%5D%2C%0A%20%20%20%20%20%20%20%20%20%20%20%20%20%20%20%20%7B%7D%0A%20%20%20%20%20%20%20%20%20%20%20%20%29.addTo%28marker_cluster_b2ca28b7d69345e788ae876337201d94%29%3B%0A%20%20%20%20%20%20%20%20%0A%20%20%20%20%0A%20%20%20%20%20%20%20%20%20%20%20%20marker_ea92176a5f9245a2839fdb7d78c67fb6.bindTooltip%28%0A%20%20%20%20%20%20%20%20%20%20%20%20%20%20%20%20%60%3Cdiv%3E%0A%20%20%20%20%20%20%20%20%20%20%20%20%20%20%20%20%20%20%20%20%20%5B9.58%2C%20%27%D0%A3%D0%BB%D1%8C%D1%8F%D0%BD%D0%BE%D0%B2%D1%81%D0%BA%27%5D%0A%20%20%20%20%20%20%20%20%20%20%20%20%20%20%20%20%20%3C/div%3E%60%2C%0A%20%20%20%20%20%20%20%20%20%20%20%20%20%20%20%20%7B%22sticky%22%3A%20true%7D%0A%20%20%20%20%20%20%20%20%20%20%20%20%29%3B%0A%20%20%20%20%20%20%20%20%0A%20%20%20%20%0A%20%20%20%20%20%20%20%20%20%20%20%20var%20marker_6595f76e2ed34f73800bc9b15951fe7e%20%3D%20L.marker%28%0A%20%20%20%20%20%20%20%20%20%20%20%20%20%20%20%20%5B60.12912%2C%2064.803627%5D%2C%0A%20%20%20%20%20%20%20%20%20%20%20%20%20%20%20%20%7B%7D%0A%20%20%20%20%20%20%20%20%20%20%20%20%29.addTo%28marker_cluster_b2ca28b7d69345e788ae876337201d94%29%3B%0A%20%20%20%20%20%20%20%20%0A%20%20%20%20%0A%20%20%20%20%20%20%20%20%20%20%20%20marker_6595f76e2ed34f73800bc9b15951fe7e.bindTooltip%28%0A%20%20%20%20%20%20%20%20%20%20%20%20%20%20%20%20%60%3Cdiv%3E%0A%20%20%20%20%20%20%20%20%20%20%20%20%20%20%20%20%20%20%20%20%20%5B2.0%2C%20%27%D0%A3%D1%80%D0%B0%D0%B9%27%5D%0A%20%20%20%20%20%20%20%20%20%20%20%20%20%20%20%20%20%3C/div%3E%60%2C%0A%20%20%20%20%20%20%20%20%20%20%20%20%20%20%20%20%7B%22sticky%22%3A%20true%7D%0A%20%20%20%20%20%20%20%20%20%20%20%20%29%3B%0A%20%20%20%20%20%20%20%20%0A%20%20%20%20%0A%20%20%20%20%20%20%20%20%20%20%20%20var%20marker_8e43abf47cf34f9782d0958d1c20049d%20%3D%20L.marker%28%0A%20%20%20%20%20%20%20%20%20%20%20%20%20%20%20%20%5B65.995731%2C%2057.5571267%5D%2C%0A%20%20%20%20%20%20%20%20%20%20%20%20%20%20%20%20%7B%7D%0A%20%20%20%20%20%20%20%20%20%20%20%20%29.addTo%28marker_cluster_b2ca28b7d69345e788ae876337201d94%29%3B%0A%20%20%20%20%20%20%20%20%0A%20%20%20%20%0A%20%20%20%20%20%20%20%20%20%20%20%20marker_8e43abf47cf34f9782d0958d1c20049d.bindTooltip%28%0A%20%20%20%20%20%20%20%20%20%20%20%20%20%20%20%20%60%3Cdiv%3E%0A%20%20%20%20%20%20%20%20%20%20%20%20%20%20%20%20%20%20%20%20%20%5B1.0%2C%20%27%D0%A3%D1%81%D0%B8%D0%BD%D1%81%D0%BA%27%5D%0A%20%20%20%20%20%20%20%20%20%20%20%20%20%20%20%20%20%3C/div%3E%60%2C%0A%20%20%20%20%20%20%20%20%20%20%20%20%20%20%20%20%7B%22sticky%22%3A%20true%7D%0A%20%20%20%20%20%20%20%20%20%20%20%20%29%3B%0A%20%20%20%20%20%20%20%20%0A%20%20%20%20%0A%20%20%20%20%20%20%20%20%20%20%20%20var%20marker_15ffa90a062b43a28be5eb259d7deb08%20%3D%20L.marker%28%0A%20%20%20%20%20%20%20%20%20%20%20%20%20%20%20%20%5B57.959473%2C%20102.734192%5D%2C%0A%20%20%20%20%20%20%20%20%20%20%20%20%20%20%20%20%7B%7D%0A%20%20%20%20%20%20%20%20%20%20%20%20%29.addTo%28marker_cluster_b2ca28b7d69345e788ae876337201d94%29%3B%0A%20%20%20%20%20%20%20%20%0A%20%20%20%20%0A%20%20%20%20%20%20%20%20%20%20%20%20marker_15ffa90a062b43a28be5eb259d7deb08.bindTooltip%28%0A%20%20%20%20%20%20%20%20%20%20%20%20%20%20%20%20%60%3Cdiv%3E%0A%20%20%20%20%20%20%20%20%20%20%20%20%20%20%20%20%20%20%20%20%20%5B2.87%2C%20%27%D0%A3%D1%81%D1%82%D1%8C-%D0%98%D0%BB%D0%B8%D0%BC%D1%81%D0%BA%27%5D%0A%20%20%20%20%20%20%20%20%20%20%20%20%20%20%20%20%20%3C/div%3E%60%2C%0A%20%20%20%20%20%20%20%20%20%20%20%20%20%20%20%20%7B%22sticky%22%3A%20true%7D%0A%20%20%20%20%20%20%20%20%20%20%20%20%29%3B%0A%20%20%20%20%20%20%20%20%0A%20%20%20%20%0A%20%20%20%20%20%20%20%20%20%20%20%20var%20marker_fffd8dc8c48d40e8bef1699abae977bc%20%3D%20L.marker%28%0A%20%20%20%20%20%20%20%20%20%20%20%20%20%20%20%20%5B56.780561%2C%20105.7489287%5D%2C%0A%20%20%20%20%20%20%20%20%20%20%20%20%20%20%20%20%7B%7D%0A%20%20%20%20%20%20%20%20%20%20%20%20%29.addTo%28marker_cluster_b2ca28b7d69345e788ae876337201d94%29%3B%0A%20%20%20%20%20%20%20%20%0A%20%20%20%20%0A%20%20%20%20%20%20%20%20%20%20%20%20marker_fffd8dc8c48d40e8bef1699abae977bc.bindTooltip%28%0A%20%20%20%20%20%20%20%20%20%20%20%20%20%20%20%20%60%3Cdiv%3E%0A%20%20%20%20%20%20%20%20%20%20%20%20%20%20%20%20%20%20%20%20%20%5B1.0%2C%20%27%D0%A3%D1%81%D1%82%D1%8C-%D0%9A%D1%83%D1%82%27%5D%0A%20%20%20%20%20%20%20%20%20%20%20%20%20%20%20%20%20%3C/div%3E%60%2C%0A%20%20%20%20%20%20%20%20%20%20%20%20%20%20%20%20%7B%22sticky%22%3A%20true%7D%0A%20%20%20%20%20%20%20%20%20%20%20%20%29%3B%0A%20%20%20%20%20%20%20%20%0A%20%20%20%20%0A%20%20%20%20%20%20%20%20%20%20%20%20var%20marker_adf5d521cc914c29844c250bd2f7eb84%20%3D%20L.marker%28%0A%20%20%20%20%20%20%20%20%20%20%20%20%20%20%20%20%5B63.5624585%2C%2053.684243%5D%2C%0A%20%20%20%20%20%20%20%20%20%20%20%20%20%20%20%20%7B%7D%0A%20%20%20%20%20%20%20%20%20%20%20%20%29.addTo%28marker_cluster_b2ca28b7d69345e788ae876337201d94%29%3B%0A%20%20%20%20%20%20%20%20%0A%20%20%20%20%0A%20%20%20%20%20%20%20%20%20%20%20%20marker_adf5d521cc914c29844c250bd2f7eb84.bindTooltip%28%0A%20%20%20%20%20%20%20%20%20%20%20%20%20%20%20%20%60%3Cdiv%3E%0A%20%20%20%20%20%20%20%20%20%20%20%20%20%20%20%20%20%20%20%20%20%5B3.0%2C%20%27%D0%A3%D1%85%D1%82%D0%B0%27%5D%0A%20%20%20%20%20%20%20%20%20%20%20%20%20%20%20%20%20%3C/div%3E%60%2C%0A%20%20%20%20%20%20%20%20%20%20%20%20%20%20%20%20%7B%22sticky%22%3A%20true%7D%0A%20%20%20%20%20%20%20%20%20%20%20%20%29%3B%0A%20%20%20%20%20%20%20%20%0A%20%20%20%20%0A%20%20%20%20%20%20%20%20%20%20%20%20var%20marker_bcac0312c43f4036adc913d86fd5d081%20%3D%20L.marker%28%0A%20%20%20%20%20%20%20%20%20%20%20%20%20%20%20%20%5B51.6312684%2C%20136.121524%5D%2C%0A%20%20%20%20%20%20%20%20%20%20%20%20%20%20%20%20%7B%7D%0A%20%20%20%20%20%20%20%20%20%20%20%20%29.addTo%28marker_cluster_b2ca28b7d69345e788ae876337201d94%29%3B%0A%20%20%20%20%20%20%20%20%0A%20%20%20%20%0A%20%20%20%20%20%20%20%20%20%20%20%20marker_bcac0312c43f4036adc913d86fd5d081.bindTooltip%28%0A%20%20%20%20%20%20%20%20%20%20%20%20%20%20%20%20%60%3Cdiv%3E%0A%20%20%20%20%20%20%20%20%20%20%20%20%20%20%20%20%20%20%20%20%20%5B6.55%2C%20%27%D0%A5%D0%B0%D0%B1%D0%B0%D1%80%D0%BE%D0%B2%D1%81%D0%BA%27%5D%0A%20%20%20%20%20%20%20%20%20%20%20%20%20%20%20%20%20%3C/div%3E%60%2C%0A%20%20%20%20%20%20%20%20%20%20%20%20%20%20%20%20%7B%22sticky%22%3A%20true%7D%0A%20%20%20%20%20%20%20%20%20%20%20%20%29%3B%0A%20%20%20%20%20%20%20%20%0A%20%20%20%20%0A%20%20%20%20%20%20%20%20%20%20%20%20var%20marker_c98b31f4c55b4958b0750516bb174a1b%20%3D%20L.marker%28%0A%20%20%20%20%20%20%20%20%20%20%20%20%20%20%20%20%5B61.0034448%2C%2069.0190006%5D%2C%0A%20%20%20%20%20%20%20%20%20%20%20%20%20%20%20%20%7B%7D%0A%20%20%20%20%20%20%20%20%20%20%20%20%29.addTo%28marker_cluster_b2ca28b7d69345e788ae876337201d94%29%3B%0A%20%20%20%20%20%20%20%20%0A%20%20%20%20%0A%20%20%20%20%20%20%20%20%20%20%20%20marker_c98b31f4c55b4958b0750516bb174a1b.bindTooltip%28%0A%20%20%20%20%20%20%20%20%20%20%20%20%20%20%20%20%60%3Cdiv%3E%0A%20%20%20%20%20%20%20%20%20%20%20%20%20%20%20%20%20%20%20%20%20%5B8.42%2C%20%27%D0%A5%D0%B0%D0%BD%D1%82%D1%8B-%D0%9C%D0%B0%D0%BD%D1%81%D0%B8%D0%B9%D1%81%D0%BA%27%5D%0A%20%20%20%20%20%20%20%20%20%20%20%20%20%20%20%20%20%3C/div%3E%60%2C%0A%20%20%20%20%20%20%20%20%20%20%20%20%20%20%20%20%7B%22sticky%22%3A%20true%7D%0A%20%20%20%20%20%20%20%20%20%20%20%20%29%3B%0A%20%20%20%20%20%20%20%20%0A%20%20%20%20%0A%20%20%20%20%20%20%20%20%20%20%20%20var%20marker_c3fa5a23514749b38299a9e6be7b6d6a%20%3D%20L.marker%28%0A%20%20%20%20%20%20%20%20%20%20%20%20%20%20%20%20%5B56.1307195%2C%2047.2449597%5D%2C%0A%20%20%20%20%20%20%20%20%20%20%20%20%20%20%20%20%7B%7D%0A%20%20%20%20%20%20%20%20%20%20%20%20%29.addTo%28marker_cluster_b2ca28b7d69345e788ae876337201d94%29%3B%0A%20%20%20%20%20%20%20%20%0A%20%20%20%20%0A%20%20%20%20%20%20%20%20%20%20%20%20marker_c3fa5a23514749b38299a9e6be7b6d6a.bindTooltip%28%0A%20%20%20%20%20%20%20%20%20%20%20%20%20%20%20%20%60%3Cdiv%3E%0A%20%20%20%20%20%20%20%20%20%20%20%20%20%20%20%20%20%20%20%20%20%5B5.0%2C%20%27%D0%A7%D0%B5%D0%B1%D0%BE%D0%BA%D1%81%D0%B0%D1%80%D1%8B%27%5D%0A%20%20%20%20%20%20%20%20%20%20%20%20%20%20%20%20%20%3C/div%3E%60%2C%0A%20%20%20%20%20%20%20%20%20%20%20%20%20%20%20%20%7B%22sticky%22%3A%20true%7D%0A%20%20%20%20%20%20%20%20%20%20%20%20%29%3B%0A%20%20%20%20%20%20%20%20%0A%20%20%20%20%0A%20%20%20%20%20%20%20%20%20%20%20%20var%20marker_5f376b4a9ddd46f1b21e1a0c94e7f437%20%3D%20L.marker%28%0A%20%20%20%20%20%20%20%20%20%20%20%20%20%20%20%20%5B55.1598408%2C%2061.4025547%5D%2C%0A%20%20%20%20%20%20%20%20%20%20%20%20%20%20%20%20%7B%7D%0A%20%20%20%20%20%20%20%20%20%20%20%20%29.addTo%28marker_cluster_b2ca28b7d69345e788ae876337201d94%29%3B%0A%20%20%20%20%20%20%20%20%0A%20%20%20%20%0A%20%20%20%20%20%20%20%20%20%20%20%20marker_5f376b4a9ddd46f1b21e1a0c94e7f437.bindTooltip%28%0A%20%20%20%20%20%20%20%20%20%20%20%20%20%20%20%20%60%3Cdiv%3E%0A%20%20%20%20%20%20%20%20%20%20%20%20%20%20%20%20%20%20%20%20%20%5B6.71%2C%20%27%D0%A7%D0%B5%D0%BB%D1%8F%D0%B1%D0%B8%D0%BD%D1%81%D0%BA%27%5D%0A%20%20%20%20%20%20%20%20%20%20%20%20%20%20%20%20%20%3C/div%3E%60%2C%0A%20%20%20%20%20%20%20%20%20%20%20%20%20%20%20%20%7B%22sticky%22%3A%20true%7D%0A%20%20%20%20%20%20%20%20%20%20%20%20%29%3B%0A%20%20%20%20%20%20%20%20%0A%20%20%20%20%0A%20%20%20%20%20%20%20%20%20%20%20%20var%20marker_e67e84a50a994fe3bb489cde46835304%20%3D%20L.marker%28%0A%20%20%20%20%20%20%20%20%20%20%20%20%20%20%20%20%5B59.128696%2C%2037.916389%5D%2C%0A%20%20%20%20%20%20%20%20%20%20%20%20%20%20%20%20%7B%7D%0A%20%20%20%20%20%20%20%20%20%20%20%20%29.addTo%28marker_cluster_b2ca28b7d69345e788ae876337201d94%29%3B%0A%20%20%20%20%20%20%20%20%0A%20%20%20%20%0A%20%20%20%20%20%20%20%20%20%20%20%20marker_e67e84a50a994fe3bb489cde46835304.bindTooltip%28%0A%20%20%20%20%20%20%20%20%20%20%20%20%20%20%20%20%60%3Cdiv%3E%0A%20%20%20%20%20%20%20%20%20%20%20%20%20%20%20%20%20%20%20%20%20%5B2.16%2C%20%27%D0%A7%D0%B5%D1%80%D0%B5%D0%BF%D0%BE%D0%B2%D0%B5%D1%86%27%5D%0A%20%20%20%20%20%20%20%20%20%20%20%20%20%20%20%20%20%3C/div%3E%60%2C%0A%20%20%20%20%20%20%20%20%20%20%20%20%20%20%20%20%7B%22sticky%22%3A%20true%7D%0A%20%20%20%20%20%20%20%20%20%20%20%20%29%3B%0A%20%20%20%20%20%20%20%20%0A%20%20%20%20%0A%20%20%20%20%20%20%20%20%20%20%20%20var%20marker_79f5d618d65c42cc943843221851eaf9%20%3D%20L.marker%28%0A%20%20%20%20%20%20%20%20%20%20%20%20%20%20%20%20%5B52.033409%2C%20113.500893%5D%2C%0A%20%20%20%20%20%20%20%20%20%20%20%20%20%20%20%20%7B%7D%0A%20%20%20%20%20%20%20%20%20%20%20%20%29.addTo%28marker_cluster_b2ca28b7d69345e788ae876337201d94%29%3B%0A%20%20%20%20%20%20%20%20%0A%20%20%20%20%0A%20%20%20%20%20%20%20%20%20%20%20%20marker_79f5d618d65c42cc943843221851eaf9.bindTooltip%28%0A%20%20%20%20%20%20%20%20%20%20%20%20%20%20%20%20%60%3Cdiv%3E%0A%20%20%20%20%20%20%20%20%20%20%20%20%20%20%20%20%20%20%20%20%20%5B1.58%2C%20%27%D0%A7%D0%B8%D1%82%D0%B0%27%5D%0A%20%20%20%20%20%20%20%20%20%20%20%20%20%20%20%20%20%3C/div%3E%60%2C%0A%20%20%20%20%20%20%20%20%20%20%20%20%20%20%20%20%7B%22sticky%22%3A%20true%7D%0A%20%20%20%20%20%20%20%20%20%20%20%20%29%3B%0A%20%20%20%20%20%20%20%20%0A%20%20%20%20%0A%20%20%20%20%20%20%20%20%20%20%20%20var%20marker_4fdd2dce330346a88f993af97cf8727a%20%3D%20L.marker%28%0A%20%20%20%20%20%20%20%20%20%20%20%20%20%20%20%20%5B46.306999%2C%2044.270187%5D%2C%0A%20%20%20%20%20%20%20%20%20%20%20%20%20%20%20%20%7B%7D%0A%20%20%20%20%20%20%20%20%20%20%20%20%29.addTo%28marker_cluster_b2ca28b7d69345e788ae876337201d94%29%3B%0A%20%20%20%20%20%20%20%20%0A%20%20%20%20%0A%20%20%20%20%20%20%20%20%20%20%20%20marker_4fdd2dce330346a88f993af97cf8727a.bindTooltip%28%0A%20%20%20%20%20%20%20%20%20%20%20%20%20%20%20%20%60%3Cdiv%3E%0A%20%20%20%20%20%20%20%20%20%20%20%20%20%20%20%20%20%20%20%20%20%5B4.87%2C%20%27%D0%AD%D0%BB%D0%B8%D1%81%D1%82%D0%B0%27%5D%0A%20%20%20%20%20%20%20%20%20%20%20%20%20%20%20%20%20%3C/div%3E%60%2C%0A%20%20%20%20%20%20%20%20%20%20%20%20%20%20%20%20%7B%22sticky%22%3A%20true%7D%0A%20%20%20%20%20%20%20%20%20%20%20%20%29%3B%0A%20%20%20%20%20%20%20%20%0A%20%20%20%20%0A%20%20%20%20%20%20%20%20%20%20%20%20var%20marker_a721e8d98c1c4831a802d6a4a7c9dc0c%20%3D%20L.marker%28%0A%20%20%20%20%20%20%20%20%20%20%20%20%20%20%20%20%5B46.9574273%2C%20142.727438%5D%2C%0A%20%20%20%20%20%20%20%20%20%20%20%20%20%20%20%20%7B%7D%0A%20%20%20%20%20%20%20%20%20%20%20%20%29.addTo%28marker_cluster_b2ca28b7d69345e788ae876337201d94%29%3B%0A%20%20%20%20%20%20%20%20%0A%20%20%20%20%0A%20%20%20%20%20%20%20%20%20%20%20%20marker_a721e8d98c1c4831a802d6a4a7c9dc0c.bindTooltip%28%0A%20%20%20%20%20%20%20%20%20%20%20%20%20%20%20%20%60%3Cdiv%3E%0A%20%20%20%20%20%20%20%20%20%20%20%20%20%20%20%20%20%20%20%20%20%5B4.29%2C%20%27%D0%AE%D0%B6%D0%BD%D0%BE-%D0%A1%D0%B0%D1%85%D0%B0%D0%BB%D0%B8%D0%BD%D1%81%D0%BA%27%5D%0A%20%20%20%20%20%20%20%20%20%20%20%20%20%20%20%20%20%3C/div%3E%60%2C%0A%20%20%20%20%20%20%20%20%20%20%20%20%20%20%20%20%7B%22sticky%22%3A%20true%7D%0A%20%20%20%20%20%20%20%20%20%20%20%20%29%3B%0A%20%20%20%20%20%20%20%20%0A%20%20%20%20%0A%20%20%20%20%20%20%20%20%20%20%20%20var%20marker_16c4d66dc29c4991a595cb00f53d3391%20%3D%20L.marker%28%0A%20%20%20%20%20%20%20%20%20%20%20%20%20%20%20%20%5B62.027287%2C%20129.732086%5D%2C%0A%20%20%20%20%20%20%20%20%20%20%20%20%20%20%20%20%7B%7D%0A%20%20%20%20%20%20%20%20%20%20%20%20%29.addTo%28marker_cluster_b2ca28b7d69345e788ae876337201d94%29%3B%0A%20%20%20%20%20%20%20%20%0A%20%20%20%20%0A%20%20%20%20%20%20%20%20%20%20%20%20marker_16c4d66dc29c4991a595cb00f53d3391.bindTooltip%28%0A%20%20%20%20%20%20%20%20%20%20%20%20%20%20%20%20%60%3Cdiv%3E%0A%20%20%20%20%20%20%20%20%20%20%20%20%20%20%20%20%20%20%20%20%20%5B2.74%2C%20%27%D0%AF%D0%BA%D1%83%D1%82%D1%81%D0%BA%27%5D%0A%20%20%20%20%20%20%20%20%20%20%20%20%20%20%20%20%20%3C/div%3E%60%2C%0A%20%20%20%20%20%20%20%20%20%20%20%20%20%20%20%20%7B%22sticky%22%3A%20true%7D%0A%20%20%20%20%20%20%20%20%20%20%20%20%29%3B%0A%20%20%20%20%20%20%20%20%0A%20%20%20%20%0A%20%20%20%20%20%20%20%20%20%20%20%20var%20marker_300fd809451d4d869f4e67bdeb71b68d%20%3D%20L.marker%28%0A%20%20%20%20%20%20%20%20%20%20%20%20%20%20%20%20%5B57.6263877%2C%2039.8933705%5D%2C%0A%20%20%20%20%20%20%20%20%20%20%20%20%20%20%20%20%7B%7D%0A%20%20%20%20%20%20%20%20%20%20%20%20%29.addTo%28marker_cluster_b2ca28b7d69345e788ae876337201d94%29%3B%0A%20%20%20%20%20%20%20%20%0A%20%20%20%20%0A%20%20%20%20%20%20%20%20%20%20%20%20marker_300fd809451d4d869f4e67bdeb71b68d.bindTooltip%28%0A%20%20%20%20%20%20%20%20%20%20%20%20%20%20%20%20%60%3Cdiv%3E%0A%20%20%20%20%20%20%20%20%20%20%20%20%20%20%20%20%20%20%20%20%20%5B1.32%2C%20%27%D0%AF%D1%80%D0%BE%D1%81%D0%BB%D0%B0%D0%B2%D0%BB%D1%8C%27%5D%0A%20%20%20%20%20%20%20%20%20%20%20%20%20%20%20%20%20%3C/div%3E%60%2C%0A%20%20%20%20%20%20%20%20%20%20%20%20%20%20%20%20%7B%22sticky%22%3A%20true%7D%0A%20%20%20%20%20%20%20%20%20%20%20%20%29%3B%0A%20%20%20%20%20%20%20%20%0A%3C/script%3E onload=\"this.contentDocument.open();this.contentDocument.write(    decodeURIComponent(this.getAttribute('data-html')));this.contentDocument.close();\" allowfullscreen webkitallowfullscreen mozallowfullscreen></iframe></div></div>"
            ],
            "text/plain": [
              "<folium.folium.Map at 0x7fc85c440250>"
            ]
          },
          "execution_count": 28,
          "metadata": {},
          "output_type": "execute_result"
        }
      ]
    },
    {
      "cell_type": "markdown",
      "metadata": {
        "id": "H86H0nd_r6qQ"
      },
      "source": [
        "Наиболее загруженные округа - Центральный округ, Южный, Уральский, Сибирский центральный округ\n",
        "\n",
        "Рекомендуется добавить дополнительно точку вылета - это позволит проаназировать наиболее загруженные направления, и с учетом анализа использумых бортов - можно сделать выводы о необходимости или ее отсутствия для переброса дополнительных более вместительных бортов на то или иное направление"
      ]
    },
    {
      "cell_type": "markdown",
      "metadata": {
        "id": "Byz9CN0fr6qQ"
      },
      "source": [
        "<a href=\"#footer\">К содержанию</a>\n",
        "<footer id=\"footer\"></footer>\n",
        "\n",
        "---"
      ]
    },
    {
      "cell_type": "markdown",
      "metadata": {
        "id": "jLukwrUEr6qQ"
      },
      "source": [
        "## Вывод"
      ]
    },
    {
      "cell_type": "markdown",
      "metadata": {
        "id": "E71AmJkVr6qQ"
      },
      "source": [
        "1. Из [БД](https://colab.research.google.com/drive/1osBgCMLtOMNYpirrVkX_hSZhVLjdsAuJ) извлекли корректные данные - типы данных не требуют преобразования, пропусков нет  \n",
        "2. Лидирующие позиции по перевозкам занимают самолеты моделей **Cessna 208 Caravan, Bombardier CRJ-200, Sukhoi SuperJet-100**.\n",
        "3. **Москва и Санкт-Петербург** - самые загруженные направления для авиаперевозок, тем более в период фестивалей. При этом также стоит отметить, что в совокупности - наиболее загруженные **Центральный округ, Южный, Уральский, Сибирский центральный округ**\n",
        "\n",
        "\n",
        "Также рекомендую провести исследования:\n",
        "- по количеству бортов в различных регионах;  \n",
        "- добавить в анализ точки вылета и прилета - что позволит проанализировать наиболее загруженные направления авиаперевозок, а не только города-гавани;  \n",
        "- добавить в анализ дополнительную выборку вне времени проведения фестивалей, для проверки статистических гипотез о равенстве двух совокупностей"
      ]
    }
  ]
}