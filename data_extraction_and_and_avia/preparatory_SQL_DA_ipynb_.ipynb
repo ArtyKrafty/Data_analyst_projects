{
  "nbformat": 4,
  "nbformat_minor": 0,
  "metadata": {
    "colab": {
      "name": "preparatory_SQL_DA.ipynb\"",
      "provenance": [],
      "collapsed_sections": [
        "9pwV9vZD4yMk"
      ]
    },
    "kernelspec": {
      "name": "python3",
      "display_name": "Python 3"
    },
    "language_info": {
      "name": "python"
    }
  },
  "cells": [
    {
      "cell_type": "markdown",
      "metadata": {
        "id": "uAk-tihW146c"
      },
      "source": [
        "#Parser   "
      ]
    },
    {
      "cell_type": "markdown",
      "metadata": {
        "id": "J7GJPxXN2Az1"
      },
      "source": [
        "```\n",
        "import requests\n",
        "import pandas as pd\n",
        "from bs4 import BeautifulSoup\n",
        "\n",
        "\n",
        "url = 'https://code.s3.yandex.net/learning-materials/data-analyst/festival_news/index.html'\n",
        "req = requests.get(url)\n",
        "soup = BeautifulSoup(req.text, 'lxml') \n",
        "table = soup.find('table', attrs={'id': 'best_festivals'})\n",
        "heading_table = []\n",
        "for row in table.find_all('th'):\n",
        "        heading_table.append(row.text)\n",
        "content=[]\n",
        "for row in table.find_all('tr'): \n",
        "    if not row.find_all('th'): \n",
        "            content.append([element.text for element in row.find_all('td')])\n",
        "festivals = pd.DataFrame(content, columns=heading_table)\n",
        "print(festivals)\n",
        "\n",
        "\n",
        "```"
      ]
    },
    {
      "cell_type": "markdown",
      "metadata": {
        "id": "9pwV9vZD4yMk"
      },
      "source": [
        "#Работа с базой  \n",
        "\n",
        "\n",
        "Менеджер авиаперевозчика готовит исследование. Он хочет выявить связь между числом полётов, типом самолётов и календарём музыкальных фестивалей. Помогите ему получить необходимые данные.  \n",
        "\n",
        "Описание данных  \n",
        "\n",
        "\n",
        "\n",
        "\n",
        "**Таблица airports — информация об аэропортах:**  \n",
        "\n",
        "\n",
        "- `airport_code` — трёхбуквенный код аэропорта  \n",
        "- `airport_name` — название аэропорта  \n",
        "- `city` — город  \n",
        "- `timezone` — временная зона  \n",
        "\n",
        "\n",
        "**Таблица aircrafts — информация о самолётах:**  \n",
        "\n",
        "\n",
        "- `aircraft_code` — код модели самолёта  \n",
        "- `model` — модель самолёта  \n",
        "- `range` — дальность полёта  \n",
        "\n",
        "\n",
        "**Таблица tickets — информация о билетах:**   \n",
        "\n",
        "\n",
        "- `ticket_no` — уникальный номер билета  \n",
        "- `passenger_id` — персональный идентификатор пассажира  \n",
        "- `passenger_name` — имя и фамилия пассажира  \n",
        "\n",
        "\n",
        "**Таблица flights — информация о рейсах**   \n",
        "\n",
        "\n",
        "- `flight_id` — уникальный идентификатор рейса  \n",
        "- `departure_airport` — аэропорт вылета  \n",
        "- `departure_time` — дата и время вылета  \n",
        "- `arrival_airport` — аэропорт прилёта  \n",
        "- `arrival_time` — дата и время прилёта  \n",
        "- `aircraft_code` — id самолёта  \n",
        "\n",
        "\n",
        "**Таблица ticket_flights — стыковая таблица «рейсы-билеты»**  \n",
        "\n",
        "- `ticket_no` — номер билета  \n",
        "- `flight_id` — идентификатор рейса  \n",
        "- `Таблица festivals` — информация о фестивалях  \n",
        "- `festival_id` — уникальный номер фестиваля   \n",
        "- `festival_date` — дата проведения фестиваля  \n",
        "- `festival_city` — город проведения фестиваля  \n",
        "- `festival_name` — название фестиваля  \n"
      ]
    },
    {
      "cell_type": "markdown",
      "metadata": {
        "id": "_llOaqi_5wKd"
      },
      "source": [
        "# Схема таблиц\n",
        "\n",
        "![](https://i.ibb.co/z74gkxK/PK-FK-weather-1-1585141477.jpg)"
      ]
    },
    {
      "cell_type": "markdown",
      "metadata": {
        "id": "tWxVe_1L40kW"
      },
      "source": [
        "### 1 запрос\n"
      ]
    },
    {
      "cell_type": "markdown",
      "metadata": {
        "id": "WO1Yc_uh41to"
      },
      "source": [
        "Изучите таблицу `airports` и выведите список городов (`city`), в которых есть аэропорты."
      ]
    },
    {
      "cell_type": "markdown",
      "metadata": {
        "id": "Gand4tDW47QL"
      },
      "source": [
        "```\n",
        "SELECT DISTINCT t.city\n",
        "FROM   airports t \n",
        "```"
      ]
    },
    {
      "cell_type": "markdown",
      "metadata": {
        "id": "J8nRDnr05M-P"
      },
      "source": [
        "### 2 запрос\n"
      ]
    },
    {
      "cell_type": "markdown",
      "metadata": {
        "id": "ZTY1Jkd95M7O"
      },
      "source": [
        "\n",
        "Изучите таблицу `flights` и подсчитайте количество вылетов (`flight_id`) из каждого аэропорта вылета (`departure_airport`). Назовите переменную cnt_flights и выведите её вместе со столбцом `departure_airport` — сначала `departure_airport`, потом `cnt_flights`. Результат отсортируйте в порядке убывания количества вылетов."
      ]
    },
    {
      "cell_type": "markdown",
      "metadata": {
        "id": "S9qHM9RF5M4b"
      },
      "source": [
        "```\n",
        "SELECT t.departure_airport,\n",
        "       Count(flight_id) AS cnt_flights\n",
        "FROM   flights t\n",
        "GROUP  BY t.departure_airport\n",
        "ORDER  BY Count(flight_id) DESC \n",
        "\n",
        "```"
      ]
    },
    {
      "cell_type": "markdown",
      "metadata": {
        "id": "mri54L69XVsc"
      },
      "source": [
        "### 3 запрос\n"
      ]
    },
    {
      "cell_type": "markdown",
      "metadata": {
        "id": "0_NWaaH562c3"
      },
      "source": [
        "\n",
        "Найдите количество рейсов на каждой модели самолёта с вылетом в сентябре 2018 года. Назовите получившееся поле `flights_amount` и выведите его. Также напечатайте на экране поле model. Столбцы в таблице должны быть выведены в следующем порядке"
      ]
    },
    {
      "cell_type": "markdown",
      "metadata": {
        "id": "_bz9cQYQVcdn"
      },
      "source": [
        "<font face=\"Courier New\" size=\"2\">\n",
        "<font color = \"royalblue\">SELECT</font>&nbsp;<font color = \"cyan\">a</font><font color = \"silver\">.</font><font color = \"cyan\">model</font>&nbsp;&nbsp;<font color = \"royalblue\">AS</font>&nbsp;<font color = \"cyan\">model</font><font color = \"silver\">,</font>\n",
        "<br/>&nbsp;&nbsp;&nbsp;&nbsp;&nbsp;&nbsp;&nbsp;<font color = \"#FF0080\"><b>Count</b></font><font color = \"cyan\">(</font><font color = \"silver\">*</font><font color = \"cyan\">)</font>&nbsp;<font color = \"royalblue\">AS</font>&nbsp;<font color = \"cyan\">flights_amount</font>\n",
        "<br/><font color = \"royalblue\">FROM</font>&nbsp;&nbsp;&nbsp;<font color = \"cyan\">flights</font>&nbsp;<font color = \"cyan\">f</font>\n",
        "<br/>&nbsp;&nbsp;&nbsp;&nbsp;&nbsp;&nbsp;&nbsp;<font color = \"cyan\">inner</font>&nbsp;<font color = \"cyan\">join</font>&nbsp;<font color = \"cyan\">aircrafts</font>&nbsp;<font color = \"cyan\">a</font>\n",
        "<br/>&nbsp;&nbsp;&nbsp;&nbsp;&nbsp;&nbsp;&nbsp;&nbsp;&nbsp;&nbsp;&nbsp;&nbsp;&nbsp;&nbsp;&nbsp;<font color = \"royalblue\">ON</font>&nbsp;<font color = \"cyan\">a</font><font color = \"silver\">.</font><font color = \"cyan\">aircraft_code</font>&nbsp;<font color = \"silver\">=</font>&nbsp;<font color = \"cyan\">f</font><font color = \"silver\">.</font><font color = \"cyan\">aircraft_code</font>\n",
        "<br/><font color = \"royalblue\">WHERE</font>&nbsp;&nbsp;<font color = \"#FF0080\"><b>Cast</b></font><font color = \"cyan\">(</font><font color = \"cyan\">f</font><font color = \"silver\">.</font><font color = \"cyan\">departure_time</font>&nbsp;<font color = \"royalblue\">AS</font>&nbsp;<font color = \"black\"><i>DATE</i></font><font color = \"cyan\">)</font>&nbsp;<font color = \"royalblue\">BETWEEN</font>&nbsp;<font color = \"green\">'2018-09-01'</font>&nbsp;<font color = \"royalblue\">AND</font>&nbsp;<font color = \"green\">'2018-09-30'</font>\n",
        "<br/><font color = \"royalblue\">GROUP</font>&nbsp;&nbsp;<font color = \"royalblue\">BY</font>&nbsp;<font color = \"cyan\">a</font><font color = \"silver\">.</font><font color = \"cyan\">model</font>&nbsp;\n",
        "</font>\n"
      ]
    },
    {
      "cell_type": "markdown",
      "metadata": {
        "id": "JBZZl-aeXPPM"
      },
      "source": [
        "### 4 запрос\n"
      ]
    },
    {
      "cell_type": "markdown",
      "metadata": {
        "id": "nDSZPCL-65Xa"
      },
      "source": [
        "\n",
        "Посчитайте отправленные в сентябре рейсы самолётов следующих моделей:  \n",
        "\n",
        "\n",
        "Boeing,  \n",
        "Airbus,  \n",
        "другие (“other”). "
      ]
    },
    {
      "cell_type": "markdown",
      "metadata": {
        "id": "OU5rZlUzXR6f"
      },
      "source": [
        "<font face=\"Courier New\" size=\"2\">\n",
        "<font color = \"royalblue\">WITH</font>&nbsp;<font color = \"cyan\">SUBQ</font>\n",
        "<br/>&nbsp;&nbsp;&nbsp;&nbsp;&nbsp;<font color = \"royalblue\">AS</font>&nbsp;<font color = \"cyan\">(</font><font color = \"royalblue\">SELECT</font>&nbsp;<font color = \"cyan\">a</font><font color = \"silver\">.</font><font color = \"cyan\">AIRCRAFT_CODE</font><font color = \"silver\">,</font>\n",
        "<br/>&nbsp;&nbsp;&nbsp;&nbsp;&nbsp;&nbsp;&nbsp;&nbsp;&nbsp;&nbsp;&nbsp;&nbsp;&nbsp;&nbsp;&nbsp;&nbsp;<font color = \"royalblue\">CASE</font>\n",
        "<br/>&nbsp;&nbsp;&nbsp;&nbsp;&nbsp;&nbsp;&nbsp;&nbsp;&nbsp;&nbsp;&nbsp;&nbsp;&nbsp;&nbsp;&nbsp;&nbsp;&nbsp;&nbsp;<font color = \"royalblue\">WHEN</font>&nbsp;<font color = \"cyan\">(</font>&nbsp;<font color = \"cyan\">a</font><font color = \"silver\">.</font><font color = \"cyan\">MODEL</font>&nbsp;<font color = \"royalblue\">LIKE</font>&nbsp;<font color = \"green\">'Boeing%'</font>&nbsp;<font color = \"cyan\">)</font>&nbsp;<font color = \"royalblue\">THEN</font>&nbsp;<font color = \"green\">'Boeing'</font>\n",
        "<br/>&nbsp;&nbsp;&nbsp;&nbsp;&nbsp;&nbsp;&nbsp;&nbsp;&nbsp;&nbsp;&nbsp;&nbsp;&nbsp;&nbsp;&nbsp;&nbsp;&nbsp;&nbsp;<font color = \"royalblue\">WHEN</font>&nbsp;<font color = \"cyan\">(</font>&nbsp;<font color = \"cyan\">a</font><font color = \"silver\">.</font><font color = \"cyan\">MODEL</font>&nbsp;<font color = \"royalblue\">LIKE</font>&nbsp;<font color = \"green\">'Airbus%'</font>&nbsp;<font color = \"cyan\">)</font>&nbsp;<font color = \"royalblue\">THEN</font>&nbsp;<font color = \"green\">'Airbus'</font>\n",
        "<br/>&nbsp;&nbsp;&nbsp;&nbsp;&nbsp;&nbsp;&nbsp;&nbsp;&nbsp;&nbsp;&nbsp;&nbsp;&nbsp;&nbsp;&nbsp;&nbsp;&nbsp;&nbsp;<font color = \"royalblue\">ELSE</font>&nbsp;<font color = \"green\">'other'</font>\n",
        "<br/>&nbsp;&nbsp;&nbsp;&nbsp;&nbsp;&nbsp;&nbsp;&nbsp;&nbsp;&nbsp;&nbsp;&nbsp;&nbsp;&nbsp;&nbsp;&nbsp;<font color = \"royalblue\">END</font>&nbsp;<font color = \"royalblue\">AS</font>&nbsp;<font color = \"cyan\">model</font>\n",
        "<br/>&nbsp;&nbsp;&nbsp;&nbsp;&nbsp;&nbsp;&nbsp;&nbsp;&nbsp;<font color = \"royalblue\">FROM</font>&nbsp;&nbsp;&nbsp;<font color = \"cyan\">aircrafts</font>&nbsp;<font color = \"cyan\">a</font><font color = \"cyan\">)</font>\n",
        "<br/><font color = \"royalblue\">SELECT</font>&nbsp;<font color = \"cyan\">a</font><font color = \"silver\">.</font><font color = \"cyan\">MODEL</font><font color = \"silver\">,</font>\n",
        "<br/>&nbsp;&nbsp;&nbsp;&nbsp;&nbsp;&nbsp;&nbsp;<font color = \"#FF0080\"><b>COUNT</b></font><font color = \"cyan\">(</font><font color = \"silver\">*</font><font color = \"cyan\">)</font>\n",
        "<br/><font color = \"royalblue\">FROM</font>&nbsp;&nbsp;&nbsp;<font color = \"cyan\">flights</font>&nbsp;<font color = \"cyan\">f</font>\n",
        "<br/>&nbsp;&nbsp;&nbsp;&nbsp;&nbsp;&nbsp;&nbsp;<font color = \"cyan\">JOIN</font>&nbsp;<font color = \"cyan\">SUBQ</font>&nbsp;<font color = \"cyan\">a</font>\n",
        "<br/>&nbsp;&nbsp;&nbsp;&nbsp;&nbsp;&nbsp;&nbsp;&nbsp;&nbsp;<font color = \"royalblue\">ON</font>&nbsp;<font color = \"cyan\">a</font><font color = \"silver\">.</font><font color = \"cyan\">AIRCRAFT_CODE</font>&nbsp;<font color = \"silver\">=</font>&nbsp;<font color = \"cyan\">f</font><font color = \"silver\">.</font><font color = \"cyan\">AIRCRAFT_CODE</font>\n",
        "<br/><font color = \"royalblue\">WHERE</font>&nbsp;&nbsp;<font color = \"cyan\">f</font><font color = \"silver\">.</font><font color = \"cyan\">DEPARTURE_TIME</font>&nbsp;<font color = \"silver\">::</font>&nbsp;<font color = \"royalblue\">DATE</font>&nbsp;<font color = \"royalblue\">BETWEEN</font>&nbsp;<font color = \"green\">'2018-09-01'</font>&nbsp;<font color = \"royalblue\">AND</font>&nbsp;<font color = \"green\">'2018-09-30'</font>\n",
        "<br/><font color = \"royalblue\">GROUP</font>&nbsp;&nbsp;<font color = \"royalblue\">BY</font>&nbsp;<font color = \"cyan\">a</font><font color = \"silver\">.</font><font color = \"cyan\">MODEL</font>&nbsp;\n",
        "</font>\n"
      ]
    },
    {
      "cell_type": "markdown",
      "metadata": {
        "id": "MMixrn1oXf_p"
      },
      "source": [
        "### 5 запрос\n",
        "\n"
      ]
    },
    {
      "cell_type": "markdown",
      "metadata": {
        "id": "PZyRPTVx6790"
      },
      "source": [
        "\n",
        "Посчитайте среднее количество прибывающих рейсов в день для каждого города за август 2018 года. Назовите получившееся поле `average_flights`, вместе с ним выведите столбец `city`."
      ]
    },
    {
      "cell_type": "markdown",
      "metadata": {
        "id": "MP8q8AmZXhXS"
      },
      "source": [
        "<font face=\"Courier New\" size=\"2\">\n",
        "<font color = \"royalblue\">WITH</font>&nbsp;<font color = \"cyan\">FLIGHTS_08</font>\n",
        "<br/>&nbsp;&nbsp;&nbsp;&nbsp;&nbsp;<font color = \"royalblue\">AS</font>&nbsp;<font color = \"cyan\">(</font><font color = \"royalblue\">SELECT</font>&nbsp;<font color = \"cyan\">a</font><font color = \"silver\">.</font><font color = \"cyan\">CITY</font>&nbsp;&nbsp;&nbsp;&nbsp;&nbsp;&nbsp;&nbsp;&nbsp;&nbsp;&nbsp;&nbsp;&nbsp;&nbsp;&nbsp;&nbsp;&nbsp;&nbsp;&nbsp;&nbsp;&nbsp;&nbsp;&nbsp;&nbsp;&nbsp;&nbsp;&nbsp;&nbsp;&nbsp;&nbsp;&nbsp;&nbsp;&nbsp;&nbsp;&nbsp;&nbsp;<font color = \"royalblue\">AS</font>&nbsp;<font color = \"cyan\">city</font><font color = \"silver\">,</font>\n",
        "<br/>&nbsp;&nbsp;&nbsp;&nbsp;&nbsp;&nbsp;&nbsp;&nbsp;&nbsp;&nbsp;&nbsp;&nbsp;&nbsp;&nbsp;&nbsp;&nbsp;<font color = \"#FF0080\"><b>COUNT</b></font><font color = \"cyan\">(</font><font color = \"cyan\">f</font><font color = \"silver\">.</font><font color = \"cyan\">FLIGHT_ID</font><font color = \"cyan\">)</font>&nbsp;&nbsp;&nbsp;&nbsp;&nbsp;&nbsp;&nbsp;&nbsp;&nbsp;&nbsp;&nbsp;&nbsp;&nbsp;&nbsp;&nbsp;&nbsp;&nbsp;&nbsp;&nbsp;&nbsp;&nbsp;&nbsp;&nbsp;<font color = \"royalblue\">AS</font>&nbsp;<font color = \"cyan\">num_flights</font><font color = \"silver\">,</font>\n",
        "<br/>&nbsp;&nbsp;&nbsp;&nbsp;&nbsp;&nbsp;&nbsp;&nbsp;&nbsp;&nbsp;&nbsp;&nbsp;&nbsp;&nbsp;&nbsp;&nbsp;<font color = \"#FF0080\"><b>EXTRACT</b></font><font color = \"cyan\">(</font><font color = \"cyan\">DAY</font>&nbsp;<font color = \"royalblue\">FROM</font>&nbsp;<font color = \"cyan\">f</font><font color = \"silver\">.</font><font color = \"cyan\">ARRIVAL_TIME</font>&nbsp;<font color = \"silver\">::</font>&nbsp;<font color = \"royalblue\">DATE</font><font color = \"cyan\">)</font>&nbsp;<font color = \"royalblue\">AS</font>&nbsp;<font color = \"cyan\">day_flight</font>\n",
        "<br/>&nbsp;&nbsp;&nbsp;&nbsp;&nbsp;&nbsp;&nbsp;&nbsp;&nbsp;<font color = \"royalblue\">FROM</font>&nbsp;&nbsp;&nbsp;<font color = \"cyan\">flights</font>&nbsp;<font color = \"cyan\">f</font>\n",
        "<br/>&nbsp;&nbsp;&nbsp;&nbsp;&nbsp;&nbsp;&nbsp;&nbsp;&nbsp;&nbsp;&nbsp;&nbsp;&nbsp;&nbsp;&nbsp;&nbsp;<font color = \"cyan\">JOIN</font>&nbsp;<font color = \"cyan\">airports</font>&nbsp;<font color = \"cyan\">a</font>\n",
        "<br/>&nbsp;&nbsp;&nbsp;&nbsp;&nbsp;&nbsp;&nbsp;&nbsp;&nbsp;&nbsp;&nbsp;&nbsp;&nbsp;&nbsp;&nbsp;&nbsp;&nbsp;&nbsp;<font color = \"royalblue\">ON</font>&nbsp;<font color = \"cyan\">a</font><font color = \"silver\">.</font><font color = \"cyan\">AIRPORT_CODE</font>&nbsp;<font color = \"silver\">=</font>&nbsp;<font color = \"cyan\">f</font><font color = \"silver\">.</font><font color = \"cyan\">ARRIVAL_AIRPORT</font>\n",
        "<br/>&nbsp;&nbsp;&nbsp;&nbsp;&nbsp;&nbsp;&nbsp;&nbsp;&nbsp;<font color = \"royalblue\">WHERE</font>&nbsp;&nbsp;<font color = \"cyan\">f</font><font color = \"silver\">.</font><font color = \"cyan\">ARRIVAL_TIME</font>&nbsp;<font color = \"silver\">::</font>&nbsp;<font color = \"royalblue\">DATE</font>&nbsp;<font color = \"silver\">&lt;</font>&nbsp;<font color = \"green\">'2018-09-01'</font>\n",
        "<br/>&nbsp;&nbsp;&nbsp;&nbsp;&nbsp;&nbsp;&nbsp;&nbsp;&nbsp;&nbsp;&nbsp;&nbsp;&nbsp;&nbsp;&nbsp;&nbsp;<font color = \"royalblue\">AND</font>&nbsp;<font color = \"cyan\">f</font><font color = \"silver\">.</font><font color = \"cyan\">ARRIVAL_TIME</font>&nbsp;<font color = \"silver\">::</font>&nbsp;<font color = \"royalblue\">DATE</font>&nbsp;<font color = \"silver\">&gt;=</font>&nbsp;<font color = \"green\">'2018-08-01'</font>\n",
        "<br/>&nbsp;&nbsp;&nbsp;&nbsp;&nbsp;&nbsp;&nbsp;&nbsp;&nbsp;<font color = \"royalblue\">GROUP</font>&nbsp;&nbsp;<font color = \"royalblue\">BY</font>&nbsp;<font color = \"cyan\">a</font><font color = \"silver\">.</font><font color = \"cyan\">CITY</font><font color = \"silver\">,</font>\n",
        "<br/>&nbsp;&nbsp;&nbsp;&nbsp;&nbsp;&nbsp;&nbsp;&nbsp;&nbsp;&nbsp;&nbsp;&nbsp;&nbsp;&nbsp;&nbsp;&nbsp;&nbsp;&nbsp;&nbsp;<font color = \"cyan\">DAY_FLIGHT</font><font color = \"cyan\">)</font>\n",
        "<br/><font color = \"royalblue\">SELECT</font>&nbsp;<font color = \"royalblue\">DISTINCT</font>&nbsp;<font color = \"cyan\">t</font><font color = \"silver\">.</font><font color = \"cyan\">CITY</font><font color = \"silver\">,</font>\n",
        "<br/>&nbsp;&nbsp;&nbsp;&nbsp;&nbsp;&nbsp;&nbsp;&nbsp;&nbsp;&nbsp;&nbsp;&nbsp;&nbsp;&nbsp;&nbsp;&nbsp;<font color = \"#FF0080\"><b>AVG</b></font>&nbsp;<font color = \"cyan\">(</font><font color = \"cyan\">t</font><font color = \"silver\">.</font><font color = \"cyan\">NUM_FLIGHTS</font><font color = \"cyan\">)</font>&nbsp;<font color = \"royalblue\">AS</font>&nbsp;<font color = \"cyan\">average_flights</font>\n",
        "<br/><font color = \"royalblue\">FROM</font>&nbsp;&nbsp;&nbsp;<font color = \"cyan\">FLIGHTS_08</font>&nbsp;<font color = \"cyan\">t</font>\n",
        "<br/><font color = \"royalblue\">GROUP</font>&nbsp;&nbsp;<font color = \"royalblue\">BY</font>&nbsp;<font color = \"cyan\">t</font><font color = \"silver\">.</font><font color = \"cyan\">CITY</font>&nbsp;\n",
        "</font>\n"
      ]
    },
    {
      "cell_type": "markdown",
      "metadata": {
        "id": "yp9qc4TqXhUe"
      },
      "source": [
        "### 6 запрос\n"
      ]
    },
    {
      "cell_type": "markdown",
      "metadata": {
        "id": "YVgEnuN46-Oz"
      },
      "source": [
        "Установите фестивали, которые проходили **с 23 июля по 30 сентября 2018 года в Москве**, и номер недели, в которую они проходили. Выведите название фестиваля `festival_name` и номер недели `festival_week`."
      ]
    },
    {
      "cell_type": "markdown",
      "metadata": {
        "id": "OqhiCypAXhRW"
      },
      "source": [
        "<font face=\"Courier New\" size=\"2\">\n",
        "<font color = \"royalblue\">SELECT</font>&nbsp;<font color = \"cyan\">f</font><font color = \"silver\">.</font><font color = \"cyan\">FESTIVAL_NAME</font>&nbsp;&nbsp;&nbsp;&nbsp;&nbsp;&nbsp;&nbsp;&nbsp;&nbsp;&nbsp;&nbsp;&nbsp;&nbsp;&nbsp;&nbsp;&nbsp;&nbsp;&nbsp;&nbsp;&nbsp;<font color = \"royalblue\">AS</font>&nbsp;<font color = \"cyan\">festival_name</font><font color = \"silver\">,</font>\n",
        "<br/>&nbsp;&nbsp;&nbsp;&nbsp;&nbsp;&nbsp;&nbsp;<font color = \"#FF0080\"><b>EXTRACT</b></font><font color = \"cyan\">(</font><font color = \"cyan\">WEEK</font>&nbsp;<font color = \"royalblue\">FROM</font>&nbsp;<font color = \"cyan\">f</font><font color = \"silver\">.</font><font color = \"cyan\">FESTIVAL_DATE</font><font color = \"cyan\">)</font>&nbsp;<font color = \"royalblue\">AS</font>&nbsp;<font color = \"cyan\">festival_week</font>\n",
        "<br/><font color = \"royalblue\">FROM</font>&nbsp;&nbsp;&nbsp;<font color = \"cyan\">festivals</font>&nbsp;<font color = \"cyan\">f</font>\n",
        "<br/><font color = \"royalblue\">WHERE</font>&nbsp;&nbsp;<font color = \"cyan\">f</font><font color = \"silver\">.</font><font color = \"cyan\">FESTIVAL_CITY</font>&nbsp;<font color = \"royalblue\">LIKE</font>&nbsp;<font color = \"green\">'%Москва%'</font>\n",
        "<br/>&nbsp;&nbsp;&nbsp;&nbsp;&nbsp;&nbsp;&nbsp;<font color = \"royalblue\">AND</font>&nbsp;<font color = \"cyan\">f</font><font color = \"silver\">.</font><font color = \"cyan\">FESTIVAL_DATE</font>&nbsp;<font color = \"silver\">&lt;</font>&nbsp;<font color = \"green\">'2018-09-30'</font>\n",
        "<br/>&nbsp;&nbsp;&nbsp;&nbsp;&nbsp;&nbsp;&nbsp;<font color = \"royalblue\">AND</font>&nbsp;<font color = \"cyan\">f</font><font color = \"silver\">.</font><font color = \"cyan\">FESTIVAL_DATE</font>&nbsp;<font color = \"silver\">&gt;</font>&nbsp;<font color = \"green\">'2018-07-23'</font>&nbsp;\n",
        "</font>\n"
      ]
    },
    {
      "cell_type": "markdown",
      "metadata": {
        "id": "p3paIBQkXrvq"
      },
      "source": [
        "### 7 запрос\n"
      ]
    },
    {
      "cell_type": "markdown",
      "metadata": {
        "id": "hYhV4oYf7A6N"
      },
      "source": [
        "\n",
        "Для каждой недели с 23 июля по 30 сентября 2018 года посчитайте билеты, которые купили на рейсы в Москву (номер недели `week_number` и количество билетов `ticket_amount`). "
      ]
    },
    {
      "cell_type": "markdown",
      "metadata": {
        "id": "k9paXswRVbMy"
      },
      "source": [
        "<font face=\"Courier New\" size=\"2\">\n",
        "<font color = \"royalblue\">WITH</font>&nbsp;<font color = \"cyan\">TICKETS_AMOUNT</font>\n",
        "<br/>&nbsp;&nbsp;&nbsp;&nbsp;&nbsp;<font color = \"royalblue\">AS</font>&nbsp;<font color = \"cyan\">(</font><font color = \"royalblue\">SELECT</font>&nbsp;<font color = \"#FF0080\"><b>EXTRACT</b></font>&nbsp;<font color = \"cyan\">(</font><font color = \"cyan\">WEEK</font>&nbsp;<font color = \"royalblue\">FROM</font>&nbsp;<font color = \"fuchsia\"><i>Cast</i></font><font color = \"cyan\">(</font><font color = \"cyan\">f</font><font color = \"silver\">.</font><font color = \"cyan\">ARRIVAL_TIME</font>&nbsp;<font color = \"royalblue\">AS</font>&nbsp;<font color = \"black\"><i>DATE</i></font><font color = \"cyan\">)</font><font color = \"cyan\">)</font>&nbsp;<font color = \"royalblue\">AS</font>&nbsp;<font color = \"cyan\">week_number</font><font color = \"silver\">,</font>\n",
        "<br/>&nbsp;&nbsp;&nbsp;&nbsp;&nbsp;&nbsp;&nbsp;&nbsp;&nbsp;&nbsp;&nbsp;&nbsp;&nbsp;&nbsp;&nbsp;&nbsp;<font color = \"fuchsia\"><i>Count</i></font>&nbsp;<font color = \"cyan\">(</font><font color = \"cyan\">tf</font><font color = \"silver\">.</font><font color = \"cyan\">TICKET_NO</font><font color = \"cyan\">)</font>&nbsp;&nbsp;&nbsp;&nbsp;&nbsp;&nbsp;&nbsp;&nbsp;&nbsp;&nbsp;&nbsp;&nbsp;&nbsp;&nbsp;&nbsp;&nbsp;&nbsp;&nbsp;&nbsp;&nbsp;&nbsp;&nbsp;&nbsp;&nbsp;&nbsp;&nbsp;&nbsp;&nbsp;&nbsp;<font color = \"royalblue\">AS</font>\n",
        "<br/>&nbsp;&nbsp;&nbsp;&nbsp;&nbsp;&nbsp;&nbsp;&nbsp;&nbsp;&nbsp;&nbsp;&nbsp;&nbsp;&nbsp;&nbsp;&nbsp;<font color = \"cyan\">ticket_amount</font>\n",
        "<br/>&nbsp;&nbsp;&nbsp;&nbsp;&nbsp;&nbsp;&nbsp;&nbsp;&nbsp;<font color = \"royalblue\">FROM</font>&nbsp;&nbsp;&nbsp;<font color = \"cyan\">flights</font>&nbsp;<font color = \"cyan\">f</font>\n",
        "<br/>&nbsp;&nbsp;&nbsp;&nbsp;&nbsp;&nbsp;&nbsp;&nbsp;&nbsp;&nbsp;&nbsp;&nbsp;&nbsp;&nbsp;&nbsp;&nbsp;<font color = \"royalblue\">JOIN</font>&nbsp;<font color = \"cyan\">airports</font>&nbsp;<font color = \"cyan\">a</font>\n",
        "<br/>&nbsp;&nbsp;&nbsp;&nbsp;&nbsp;&nbsp;&nbsp;&nbsp;&nbsp;&nbsp;&nbsp;&nbsp;&nbsp;&nbsp;&nbsp;&nbsp;&nbsp;&nbsp;<font color = \"royalblue\">ON</font>&nbsp;<font color = \"cyan\">a</font><font color = \"silver\">.</font><font color = \"cyan\">AIRPORT_CODE</font>&nbsp;<font color = \"silver\">=</font>&nbsp;<font color = \"cyan\">f</font><font color = \"silver\">.</font><font color = \"cyan\">ARRIVAL_AIRPORT</font>\n",
        "<br/>&nbsp;&nbsp;&nbsp;&nbsp;&nbsp;&nbsp;&nbsp;&nbsp;&nbsp;&nbsp;&nbsp;&nbsp;&nbsp;&nbsp;&nbsp;&nbsp;<font color = \"royalblue\">JOIN</font>&nbsp;<font color = \"cyan\">ticket_flights</font>&nbsp;<font color = \"cyan\">tf</font>\n",
        "<br/>&nbsp;&nbsp;&nbsp;&nbsp;&nbsp;&nbsp;&nbsp;&nbsp;&nbsp;&nbsp;&nbsp;&nbsp;&nbsp;&nbsp;&nbsp;&nbsp;&nbsp;&nbsp;<font color = \"royalblue\">ON</font>&nbsp;<font color = \"cyan\">tf</font><font color = \"silver\">.</font><font color = \"cyan\">FLIGHT_ID</font>&nbsp;<font color = \"silver\">=</font>&nbsp;<font color = \"cyan\">f</font><font color = \"silver\">.</font><font color = \"cyan\">FLIGHT_ID</font>\n",
        "<br/>&nbsp;&nbsp;&nbsp;&nbsp;&nbsp;&nbsp;&nbsp;&nbsp;&nbsp;<font color = \"royalblue\">WHERE</font>&nbsp;&nbsp;<font color = \"cyan\">a</font><font color = \"silver\">.</font><font color = \"cyan\">CITY</font>&nbsp;<font color = \"silver\">=</font>&nbsp;<font color = \"green\">'Москва'</font>\n",
        "<br/>&nbsp;&nbsp;&nbsp;&nbsp;&nbsp;&nbsp;&nbsp;&nbsp;&nbsp;&nbsp;&nbsp;&nbsp;&nbsp;&nbsp;&nbsp;&nbsp;<font color = \"royalblue\">AND</font>&nbsp;<font color = \"fuchsia\"><i>Cast</i></font><font color = \"cyan\">(</font><font color = \"cyan\">f</font><font color = \"silver\">.</font><font color = \"cyan\">ARRIVAL_TIME</font>&nbsp;<font color = \"royalblue\">AS</font>&nbsp;<font color = \"black\"><i>DATE</i></font><font color = \"cyan\">)</font>&nbsp;<font color = \"royalblue\">BETWEEN</font>\n",
        "<br/>&nbsp;&nbsp;&nbsp;&nbsp;&nbsp;&nbsp;&nbsp;&nbsp;&nbsp;&nbsp;&nbsp;&nbsp;&nbsp;&nbsp;&nbsp;&nbsp;&nbsp;&nbsp;&nbsp;&nbsp;<font color = \"green\">'2018-07-23'</font>&nbsp;<font color = \"royalblue\">AND</font>&nbsp;<font color = \"green\">'2018-09-30'</font>\n",
        "<br/>&nbsp;&nbsp;&nbsp;&nbsp;&nbsp;&nbsp;&nbsp;&nbsp;&nbsp;<font color = \"royalblue\">GROUP</font>&nbsp;&nbsp;<font color = \"royalblue\">BY</font>&nbsp;<font color = \"cyan\">WEEK_NUMBER</font><font color = \"cyan\">)</font><font color = \"silver\">,</font>\n",
        "<br/>&nbsp;&nbsp;&nbsp;&nbsp;&nbsp;<font color = \"cyan\">FESTIVAL_TICKETS</font>\n",
        "<br/>&nbsp;&nbsp;&nbsp;&nbsp;&nbsp;<font color = \"royalblue\">AS</font>&nbsp;<font color = \"cyan\">(</font><font color = \"royalblue\">SELECT</font>&nbsp;<font color = \"cyan\">f</font><font color = \"silver\">.</font><font color = \"cyan\">FESTIVAL_NAME</font>&nbsp;&nbsp;&nbsp;&nbsp;&nbsp;&nbsp;&nbsp;&nbsp;&nbsp;&nbsp;&nbsp;&nbsp;&nbsp;&nbsp;&nbsp;&nbsp;&nbsp;&nbsp;&nbsp;&nbsp;<font color = \"royalblue\">AS</font>&nbsp;<font color = \"cyan\">festival_name</font><font color = \"silver\">,</font>\n",
        "<br/>&nbsp;&nbsp;&nbsp;&nbsp;&nbsp;&nbsp;&nbsp;&nbsp;&nbsp;&nbsp;&nbsp;&nbsp;&nbsp;&nbsp;&nbsp;&nbsp;<font color = \"#FF0080\"><b>EXTRACT</b></font><font color = \"cyan\">(</font><font color = \"cyan\">WEEK</font>&nbsp;<font color = \"royalblue\">FROM</font>&nbsp;<font color = \"cyan\">f</font><font color = \"silver\">.</font><font color = \"cyan\">FESTIVAL_DATE</font><font color = \"cyan\">)</font>&nbsp;<font color = \"royalblue\">AS</font>&nbsp;<font color = \"cyan\">festival_week</font>\n",
        "<br/>&nbsp;&nbsp;&nbsp;&nbsp;&nbsp;&nbsp;&nbsp;&nbsp;&nbsp;<font color = \"royalblue\">FROM</font>&nbsp;&nbsp;&nbsp;<font color = \"cyan\">festivals</font>&nbsp;<font color = \"cyan\">f</font>\n",
        "<br/>&nbsp;&nbsp;&nbsp;&nbsp;&nbsp;&nbsp;&nbsp;&nbsp;&nbsp;<font color = \"royalblue\">WHERE</font>&nbsp;&nbsp;<font color = \"cyan\">f</font><font color = \"silver\">.</font><font color = \"cyan\">FESTIVAL_CITY</font>&nbsp;<font color = \"royalblue\">LIKE</font>&nbsp;<font color = \"green\">'%Москва%'</font>\n",
        "<br/>&nbsp;&nbsp;&nbsp;&nbsp;&nbsp;&nbsp;&nbsp;&nbsp;&nbsp;&nbsp;&nbsp;&nbsp;&nbsp;&nbsp;&nbsp;&nbsp;<font color = \"royalblue\">AND</font>&nbsp;<font color = \"fuchsia\"><i>Cast</i></font><font color = \"cyan\">(</font><font color = \"cyan\">f</font><font color = \"silver\">.</font><font color = \"cyan\">FESTIVAL_DATE</font>&nbsp;<font color = \"royalblue\">AS</font>&nbsp;<font color = \"black\"><i>DATE</i></font><font color = \"cyan\">)</font>&nbsp;<font color = \"royalblue\">BETWEEN</font>\n",
        "<br/>&nbsp;&nbsp;&nbsp;&nbsp;&nbsp;&nbsp;&nbsp;&nbsp;&nbsp;&nbsp;&nbsp;&nbsp;&nbsp;&nbsp;&nbsp;&nbsp;&nbsp;&nbsp;&nbsp;&nbsp;<font color = \"green\">'2018-07-23'</font>&nbsp;<font color = \"royalblue\">AND</font>&nbsp;<font color = \"green\">'2018-09-30'</font><font color = \"cyan\">)</font>\n",
        "<br/><font color = \"royalblue\">SELECT</font>&nbsp;<font color = \"cyan\">ta</font><font color = \"silver\">.</font><font color = \"cyan\">WEEK_NUMBER</font><font color = \"silver\">,</font>\n",
        "<br/>&nbsp;&nbsp;&nbsp;&nbsp;&nbsp;&nbsp;&nbsp;<font color = \"cyan\">ta</font><font color = \"silver\">.</font><font color = \"cyan\">TICKET_AMOUNT</font><font color = \"silver\">,</font>\n",
        "<br/>&nbsp;&nbsp;&nbsp;&nbsp;&nbsp;&nbsp;&nbsp;<font color = \"cyan\">ft</font><font color = \"silver\">.</font><font color = \"cyan\">FESTIVAL_WEEK</font><font color = \"silver\">,</font>\n",
        "<br/>&nbsp;&nbsp;&nbsp;&nbsp;&nbsp;&nbsp;&nbsp;<font color = \"cyan\">ft</font><font color = \"silver\">.</font><font color = \"cyan\">FESTIVAL_NAME</font>\n",
        "<br/><font color = \"royalblue\">FROM</font>&nbsp;&nbsp;&nbsp;<font color = \"cyan\">TICKETS_AMOUNT</font>&nbsp;<font color = \"cyan\">ta</font>\n",
        "<br/>&nbsp;&nbsp;&nbsp;&nbsp;&nbsp;&nbsp;&nbsp;<font color = \"royalblue\">LEFT</font>&nbsp;<font color = \"royalblue\">JOIN</font>&nbsp;<font color = \"cyan\">FESTIVAL_TICKETS</font>&nbsp;<font color = \"cyan\">ft</font>\n",
        "<br/>&nbsp;&nbsp;&nbsp;&nbsp;&nbsp;&nbsp;&nbsp;&nbsp;&nbsp;&nbsp;&nbsp;&nbsp;&nbsp;&nbsp;<font color = \"royalblue\">ON</font>&nbsp;<font color = \"cyan\">ta</font><font color = \"silver\">.</font><font color = \"cyan\">WEEK_NUMBER</font>&nbsp;<font color = \"silver\">=</font>&nbsp;<font color = \"cyan\">ft</font><font color = \"silver\">.</font><font color = \"cyan\">FESTIVAL_WEEK</font>&nbsp;\n",
        "</font>\n"
      ]
    }
  ]
}