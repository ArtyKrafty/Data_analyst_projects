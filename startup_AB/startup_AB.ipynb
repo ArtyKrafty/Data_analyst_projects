{
  "nbformat": 4,
  "nbformat_minor": 0,
  "metadata": {
    "ExecuteTimeLog": [
      {
        "duration": 1073,
        "start_time": "2021-11-16T16:22:11.162Z"
      },
      {
        "duration": 2,
        "start_time": "2021-11-16T16:22:12.237Z"
      },
      {
        "duration": 4,
        "start_time": "2021-11-16T16:22:12.243Z"
      },
      {
        "duration": 6,
        "start_time": "2021-11-16T16:22:12.249Z"
      },
      {
        "duration": 232,
        "start_time": "2021-11-16T16:22:12.257Z"
      },
      {
        "duration": 589,
        "start_time": "2021-11-16T16:22:12.490Z"
      },
      {
        "duration": 114,
        "start_time": "2021-11-16T16:22:13.082Z"
      },
      {
        "duration": 51,
        "start_time": "2021-11-16T16:22:13.198Z"
      },
      {
        "duration": 8,
        "start_time": "2021-11-16T16:22:13.251Z"
      },
      {
        "duration": 19,
        "start_time": "2021-11-16T16:22:13.261Z"
      },
      {
        "duration": 63,
        "start_time": "2021-11-16T16:22:13.282Z"
      },
      {
        "duration": 115,
        "start_time": "2021-11-16T16:22:13.347Z"
      },
      {
        "duration": 184,
        "start_time": "2021-11-16T16:22:13.464Z"
      },
      {
        "duration": 8,
        "start_time": "2021-11-16T16:22:13.650Z"
      },
      {
        "duration": 767,
        "start_time": "2021-11-16T16:22:13.660Z"
      },
      {
        "duration": 13,
        "start_time": "2021-11-16T16:22:14.429Z"
      },
      {
        "duration": 46,
        "start_time": "2021-11-16T16:22:14.443Z"
      },
      {
        "duration": 32,
        "start_time": "2021-11-16T16:22:14.491Z"
      },
      {
        "duration": 342,
        "start_time": "2021-11-16T16:22:14.525Z"
      },
      {
        "duration": 320,
        "start_time": "2021-11-16T16:22:14.869Z"
      },
      {
        "duration": 11,
        "start_time": "2021-11-16T16:22:15.191Z"
      },
      {
        "duration": 8,
        "start_time": "2021-11-16T16:22:15.205Z"
      },
      {
        "duration": 18,
        "start_time": "2021-11-16T16:22:15.215Z"
      },
      {
        "duration": 24,
        "start_time": "2021-11-16T16:22:15.235Z"
      },
      {
        "duration": 44,
        "start_time": "2021-11-16T16:22:15.261Z"
      },
      {
        "duration": 354,
        "start_time": "2021-11-16T16:22:15.306Z"
      },
      {
        "duration": -82,
        "start_time": "2021-11-16T16:22:15.744Z"
      },
      {
        "duration": -105,
        "start_time": "2021-11-16T16:22:15.768Z"
      },
      {
        "duration": -115,
        "start_time": "2021-11-16T16:22:15.779Z"
      },
      {
        "duration": -128,
        "start_time": "2021-11-16T16:22:15.793Z"
      },
      {
        "duration": -131,
        "start_time": "2021-11-16T16:22:15.796Z"
      },
      {
        "duration": -143,
        "start_time": "2021-11-16T16:22:15.809Z"
      },
      {
        "duration": -148,
        "start_time": "2021-11-16T16:22:15.815Z"
      },
      {
        "duration": -158,
        "start_time": "2021-11-16T16:22:15.826Z"
      },
      {
        "duration": -160,
        "start_time": "2021-11-16T16:22:15.829Z"
      },
      {
        "duration": -165,
        "start_time": "2021-11-16T16:22:15.835Z"
      },
      {
        "duration": -180,
        "start_time": "2021-11-16T16:22:15.851Z"
      },
      {
        "duration": -190,
        "start_time": "2021-11-16T16:22:15.862Z"
      },
      {
        "duration": -195,
        "start_time": "2021-11-16T16:22:15.867Z"
      },
      {
        "duration": -203,
        "start_time": "2021-11-16T16:22:15.876Z"
      },
      {
        "duration": -206,
        "start_time": "2021-11-16T16:22:15.880Z"
      },
      {
        "duration": -209,
        "start_time": "2021-11-16T16:22:15.884Z"
      },
      {
        "duration": -217,
        "start_time": "2021-11-16T16:22:15.893Z"
      },
      {
        "duration": -219,
        "start_time": "2021-11-16T16:22:15.896Z"
      },
      {
        "duration": -222,
        "start_time": "2021-11-16T16:22:15.900Z"
      },
      {
        "duration": -231,
        "start_time": "2021-11-16T16:22:15.909Z"
      },
      {
        "duration": -233,
        "start_time": "2021-11-16T16:22:15.913Z"
      },
      {
        "duration": -237,
        "start_time": "2021-11-16T16:22:15.918Z"
      },
      {
        "duration": -245,
        "start_time": "2021-11-16T16:22:15.927Z"
      },
      {
        "duration": -247,
        "start_time": "2021-11-16T16:22:15.930Z"
      },
      {
        "duration": -257,
        "start_time": "2021-11-16T16:22:15.941Z"
      },
      {
        "duration": -260,
        "start_time": "2021-11-16T16:22:15.945Z"
      },
      {
        "duration": -261,
        "start_time": "2021-11-16T16:22:15.947Z"
      },
      {
        "duration": -264,
        "start_time": "2021-11-16T16:22:15.951Z"
      },
      {
        "duration": -268,
        "start_time": "2021-11-16T16:22:15.955Z"
      },
      {
        "duration": -270,
        "start_time": "2021-11-16T16:22:15.958Z"
      },
      {
        "duration": -271,
        "start_time": "2021-11-16T16:22:15.960Z"
      },
      {
        "duration": -272,
        "start_time": "2021-11-16T16:22:15.962Z"
      },
      {
        "duration": -275,
        "start_time": "2021-11-16T16:22:15.966Z"
      },
      {
        "duration": -277,
        "start_time": "2021-11-16T16:22:15.969Z"
      },
      {
        "duration": -279,
        "start_time": "2021-11-16T16:22:15.972Z"
      },
      {
        "duration": -281,
        "start_time": "2021-11-16T16:22:15.975Z"
      },
      {
        "duration": -284,
        "start_time": "2021-11-16T16:22:15.978Z"
      },
      {
        "duration": 263,
        "start_time": "2021-11-16T16:23:09.266Z"
      },
      {
        "duration": 30,
        "start_time": "2021-11-16T16:23:18.637Z"
      },
      {
        "duration": 1104,
        "start_time": "2021-11-16T16:26:06.210Z"
      },
      {
        "duration": 3,
        "start_time": "2021-11-16T16:26:07.316Z"
      },
      {
        "duration": 5,
        "start_time": "2021-11-16T16:26:07.322Z"
      },
      {
        "duration": 5,
        "start_time": "2021-11-16T16:26:07.328Z"
      },
      {
        "duration": 239,
        "start_time": "2021-11-16T16:26:07.334Z"
      },
      {
        "duration": 632,
        "start_time": "2021-11-16T16:26:07.574Z"
      },
      {
        "duration": 134,
        "start_time": "2021-11-16T16:26:08.209Z"
      },
      {
        "duration": 66,
        "start_time": "2021-11-16T16:26:08.345Z"
      },
      {
        "duration": 9,
        "start_time": "2021-11-16T16:26:08.413Z"
      },
      {
        "duration": 10,
        "start_time": "2021-11-16T16:26:08.423Z"
      },
      {
        "duration": 76,
        "start_time": "2021-11-16T16:26:08.434Z"
      },
      {
        "duration": 129,
        "start_time": "2021-11-16T16:26:08.512Z"
      },
      {
        "duration": 200,
        "start_time": "2021-11-16T16:26:08.642Z"
      },
      {
        "duration": 10,
        "start_time": "2021-11-16T16:26:08.843Z"
      },
      {
        "duration": 1015,
        "start_time": "2021-11-16T16:26:08.854Z"
      },
      {
        "duration": 18,
        "start_time": "2021-11-16T16:26:09.870Z"
      },
      {
        "duration": 33,
        "start_time": "2021-11-16T16:26:09.889Z"
      },
      {
        "duration": 32,
        "start_time": "2021-11-16T16:26:09.924Z"
      },
      {
        "duration": 376,
        "start_time": "2021-11-16T16:26:09.958Z"
      },
      {
        "duration": 353,
        "start_time": "2021-11-16T16:26:10.335Z"
      },
      {
        "duration": 15,
        "start_time": "2021-11-16T16:26:10.690Z"
      },
      {
        "duration": 9,
        "start_time": "2021-11-16T16:26:10.708Z"
      },
      {
        "duration": 13,
        "start_time": "2021-11-16T16:26:10.719Z"
      },
      {
        "duration": 24,
        "start_time": "2021-11-16T16:26:10.733Z"
      },
      {
        "duration": 61,
        "start_time": "2021-11-16T16:26:10.758Z"
      },
      {
        "duration": 30,
        "start_time": "2021-11-16T16:26:10.821Z"
      },
      {
        "duration": 574,
        "start_time": "2021-11-16T16:26:10.852Z"
      },
      {
        "duration": 377,
        "start_time": "2021-11-16T16:26:11.428Z"
      },
      {
        "duration": -83,
        "start_time": "2021-11-16T16:26:11.889Z"
      },
      {
        "duration": -85,
        "start_time": "2021-11-16T16:26:11.892Z"
      },
      {
        "duration": -91,
        "start_time": "2021-11-16T16:26:11.900Z"
      },
      {
        "duration": -95,
        "start_time": "2021-11-16T16:26:11.905Z"
      },
      {
        "duration": -98,
        "start_time": "2021-11-16T16:26:11.908Z"
      },
      {
        "duration": -100,
        "start_time": "2021-11-16T16:26:11.911Z"
      },
      {
        "duration": -101,
        "start_time": "2021-11-16T16:26:11.913Z"
      },
      {
        "duration": -103,
        "start_time": "2021-11-16T16:26:11.916Z"
      },
      {
        "duration": -105,
        "start_time": "2021-11-16T16:26:11.919Z"
      },
      {
        "duration": -105,
        "start_time": "2021-11-16T16:26:11.921Z"
      },
      {
        "duration": -108,
        "start_time": "2021-11-16T16:26:11.924Z"
      },
      {
        "duration": -109,
        "start_time": "2021-11-16T16:26:11.926Z"
      },
      {
        "duration": -110,
        "start_time": "2021-11-16T16:26:11.928Z"
      },
      {
        "duration": -112,
        "start_time": "2021-11-16T16:26:11.931Z"
      },
      {
        "duration": -113,
        "start_time": "2021-11-16T16:26:11.933Z"
      },
      {
        "duration": -115,
        "start_time": "2021-11-16T16:26:11.936Z"
      },
      {
        "duration": -116,
        "start_time": "2021-11-16T16:26:11.938Z"
      },
      {
        "duration": -125,
        "start_time": "2021-11-16T16:26:11.948Z"
      },
      {
        "duration": -126,
        "start_time": "2021-11-16T16:26:11.950Z"
      },
      {
        "duration": -129,
        "start_time": "2021-11-16T16:26:11.954Z"
      },
      {
        "duration": -131,
        "start_time": "2021-11-16T16:26:11.957Z"
      },
      {
        "duration": -132,
        "start_time": "2021-11-16T16:26:11.959Z"
      },
      {
        "duration": -133,
        "start_time": "2021-11-16T16:26:11.961Z"
      },
      {
        "duration": -134,
        "start_time": "2021-11-16T16:26:11.963Z"
      },
      {
        "duration": -136,
        "start_time": "2021-11-16T16:26:11.966Z"
      },
      {
        "duration": -138,
        "start_time": "2021-11-16T16:26:11.969Z"
      },
      {
        "duration": -140,
        "start_time": "2021-11-16T16:26:11.972Z"
      },
      {
        "duration": -142,
        "start_time": "2021-11-16T16:26:11.974Z"
      },
      {
        "duration": -144,
        "start_time": "2021-11-16T16:26:11.977Z"
      },
      {
        "duration": -146,
        "start_time": "2021-11-16T16:26:11.980Z"
      },
      {
        "duration": -148,
        "start_time": "2021-11-16T16:26:11.983Z"
      },
      {
        "duration": -150,
        "start_time": "2021-11-16T16:26:11.986Z"
      },
      {
        "duration": -151,
        "start_time": "2021-11-16T16:26:11.988Z"
      },
      {
        "duration": -153,
        "start_time": "2021-11-16T16:26:11.991Z"
      },
      {
        "duration": -154,
        "start_time": "2021-11-16T16:26:11.993Z"
      },
      {
        "duration": 294,
        "start_time": "2021-11-16T16:27:28.375Z"
      },
      {
        "duration": 297,
        "start_time": "2021-11-16T16:27:37.608Z"
      },
      {
        "duration": 293,
        "start_time": "2021-11-16T16:27:49.185Z"
      },
      {
        "duration": 298,
        "start_time": "2021-11-16T16:28:22.190Z"
      },
      {
        "duration": 39,
        "start_time": "2021-11-16T16:28:30.291Z"
      },
      {
        "duration": 39,
        "start_time": "2021-11-16T16:28:37.526Z"
      },
      {
        "duration": 283,
        "start_time": "2021-11-16T16:28:51.312Z"
      },
      {
        "duration": 302,
        "start_time": "2021-11-16T16:28:58.633Z"
      },
      {
        "duration": 48,
        "start_time": "2021-11-16T16:29:06.272Z"
      },
      {
        "duration": 45,
        "start_time": "2021-11-16T16:29:29.513Z"
      },
      {
        "duration": 318,
        "start_time": "2021-11-16T16:29:46.480Z"
      },
      {
        "duration": 46,
        "start_time": "2021-11-16T16:29:54.149Z"
      },
      {
        "duration": 47,
        "start_time": "2021-11-16T16:30:04.869Z"
      },
      {
        "duration": 47,
        "start_time": "2021-11-16T16:30:08.734Z"
      },
      {
        "duration": 48,
        "start_time": "2021-11-16T16:30:16.610Z"
      },
      {
        "duration": 1048,
        "start_time": "2021-11-16T16:30:23.047Z"
      },
      {
        "duration": 3,
        "start_time": "2021-11-16T16:30:24.097Z"
      },
      {
        "duration": 14,
        "start_time": "2021-11-16T16:30:24.101Z"
      },
      {
        "duration": 13,
        "start_time": "2021-11-16T16:30:24.117Z"
      },
      {
        "duration": 237,
        "start_time": "2021-11-16T16:30:24.131Z"
      },
      {
        "duration": 607,
        "start_time": "2021-11-16T16:30:24.370Z"
      },
      {
        "duration": 115,
        "start_time": "2021-11-16T16:30:24.979Z"
      },
      {
        "duration": 54,
        "start_time": "2021-11-16T16:30:25.097Z"
      },
      {
        "duration": 10,
        "start_time": "2021-11-16T16:30:25.154Z"
      },
      {
        "duration": 27,
        "start_time": "2021-11-16T16:30:25.165Z"
      },
      {
        "duration": 68,
        "start_time": "2021-11-16T16:30:25.193Z"
      },
      {
        "duration": 124,
        "start_time": "2021-11-16T16:30:25.263Z"
      },
      {
        "duration": 214,
        "start_time": "2021-11-16T16:30:25.389Z"
      },
      {
        "duration": 10,
        "start_time": "2021-11-16T16:30:25.605Z"
      },
      {
        "duration": 989,
        "start_time": "2021-11-16T16:30:25.617Z"
      },
      {
        "duration": 21,
        "start_time": "2021-11-16T16:30:26.608Z"
      },
      {
        "duration": 92,
        "start_time": "2021-11-16T16:30:26.630Z"
      },
      {
        "duration": 92,
        "start_time": "2021-11-16T16:30:26.724Z"
      },
      {
        "duration": 341,
        "start_time": "2021-11-16T16:30:26.818Z"
      },
      {
        "duration": 344,
        "start_time": "2021-11-16T16:30:27.161Z"
      },
      {
        "duration": 12,
        "start_time": "2021-11-16T16:30:27.506Z"
      },
      {
        "duration": 9,
        "start_time": "2021-11-16T16:30:27.519Z"
      },
      {
        "duration": 13,
        "start_time": "2021-11-16T16:30:27.532Z"
      },
      {
        "duration": 51,
        "start_time": "2021-11-16T16:30:27.547Z"
      },
      {
        "duration": 30,
        "start_time": "2021-11-16T16:30:27.600Z"
      },
      {
        "duration": 31,
        "start_time": "2021-11-16T16:30:27.632Z"
      },
      {
        "duration": 551,
        "start_time": "2021-11-16T16:30:27.665Z"
      },
      {
        "duration": 59,
        "start_time": "2021-11-16T16:30:28.218Z"
      },
      {
        "duration": 160,
        "start_time": "2021-11-16T16:30:28.279Z"
      },
      {
        "duration": 4,
        "start_time": "2021-11-16T16:30:28.441Z"
      },
      {
        "duration": 10,
        "start_time": "2021-11-16T16:30:28.447Z"
      },
      {
        "duration": 4,
        "start_time": "2021-11-16T16:30:28.458Z"
      },
      {
        "duration": 77,
        "start_time": "2021-11-16T16:30:28.464Z"
      },
      {
        "duration": 19,
        "start_time": "2021-11-16T16:30:28.543Z"
      },
      {
        "duration": 31,
        "start_time": "2021-11-16T16:30:28.564Z"
      },
      {
        "duration": 372,
        "start_time": "2021-11-16T16:30:28.597Z"
      },
      {
        "duration": -69,
        "start_time": "2021-11-16T16:30:29.040Z"
      },
      {
        "duration": -71,
        "start_time": "2021-11-16T16:30:29.043Z"
      },
      {
        "duration": -83,
        "start_time": "2021-11-16T16:30:29.056Z"
      },
      {
        "duration": -87,
        "start_time": "2021-11-16T16:30:29.061Z"
      },
      {
        "duration": -89,
        "start_time": "2021-11-16T16:30:29.064Z"
      },
      {
        "duration": -90,
        "start_time": "2021-11-16T16:30:29.066Z"
      },
      {
        "duration": -91,
        "start_time": "2021-11-16T16:30:29.068Z"
      },
      {
        "duration": -93,
        "start_time": "2021-11-16T16:30:29.071Z"
      },
      {
        "duration": -98,
        "start_time": "2021-11-16T16:30:29.077Z"
      },
      {
        "duration": -99,
        "start_time": "2021-11-16T16:30:29.079Z"
      },
      {
        "duration": -102,
        "start_time": "2021-11-16T16:30:29.083Z"
      },
      {
        "duration": -103,
        "start_time": "2021-11-16T16:30:29.085Z"
      },
      {
        "duration": -105,
        "start_time": "2021-11-16T16:30:29.088Z"
      },
      {
        "duration": -106,
        "start_time": "2021-11-16T16:30:29.090Z"
      },
      {
        "duration": -109,
        "start_time": "2021-11-16T16:30:29.094Z"
      },
      {
        "duration": -110,
        "start_time": "2021-11-16T16:30:29.096Z"
      },
      {
        "duration": -111,
        "start_time": "2021-11-16T16:30:29.098Z"
      },
      {
        "duration": -112,
        "start_time": "2021-11-16T16:30:29.100Z"
      },
      {
        "duration": -121,
        "start_time": "2021-11-16T16:30:29.111Z"
      },
      {
        "duration": -124,
        "start_time": "2021-11-16T16:30:29.115Z"
      },
      {
        "duration": -124,
        "start_time": "2021-11-16T16:30:29.117Z"
      },
      {
        "duration": -125,
        "start_time": "2021-11-16T16:30:29.119Z"
      },
      {
        "duration": -127,
        "start_time": "2021-11-16T16:30:29.122Z"
      },
      {
        "duration": -128,
        "start_time": "2021-11-16T16:30:29.124Z"
      },
      {
        "duration": -130,
        "start_time": "2021-11-16T16:30:29.128Z"
      },
      {
        "duration": -131,
        "start_time": "2021-11-16T16:30:29.130Z"
      },
      {
        "duration": -133,
        "start_time": "2021-11-16T16:30:29.134Z"
      },
      {
        "duration": 30,
        "start_time": "2021-11-16T16:30:46.713Z"
      },
      {
        "duration": 1040,
        "start_time": "2021-11-16T16:30:54.031Z"
      },
      {
        "duration": 3,
        "start_time": "2021-11-16T16:30:55.073Z"
      },
      {
        "duration": 8,
        "start_time": "2021-11-16T16:30:55.080Z"
      },
      {
        "duration": 7,
        "start_time": "2021-11-16T16:30:55.090Z"
      },
      {
        "duration": 238,
        "start_time": "2021-11-16T16:30:55.099Z"
      },
      {
        "duration": 615,
        "start_time": "2021-11-16T16:30:55.339Z"
      },
      {
        "duration": 168,
        "start_time": "2021-11-16T16:30:55.957Z"
      },
      {
        "duration": 108,
        "start_time": "2021-11-16T16:30:56.126Z"
      },
      {
        "duration": 9,
        "start_time": "2021-11-16T16:30:56.287Z"
      },
      {
        "duration": 10,
        "start_time": "2021-11-16T16:30:56.298Z"
      },
      {
        "duration": 106,
        "start_time": "2021-11-16T16:30:56.309Z"
      },
      {
        "duration": 127,
        "start_time": "2021-11-16T16:30:56.417Z"
      },
      {
        "duration": 184,
        "start_time": "2021-11-16T16:30:56.545Z"
      },
      {
        "duration": 10,
        "start_time": "2021-11-16T16:30:56.730Z"
      },
      {
        "duration": 754,
        "start_time": "2021-11-16T16:30:56.741Z"
      },
      {
        "duration": 12,
        "start_time": "2021-11-16T16:30:57.497Z"
      },
      {
        "duration": 33,
        "start_time": "2021-11-16T16:30:57.511Z"
      },
      {
        "duration": 58,
        "start_time": "2021-11-16T16:30:57.546Z"
      },
      {
        "duration": 336,
        "start_time": "2021-11-16T16:30:57.606Z"
      },
      {
        "duration": 310,
        "start_time": "2021-11-16T16:30:57.944Z"
      },
      {
        "duration": 11,
        "start_time": "2021-11-16T16:30:58.256Z"
      },
      {
        "duration": 17,
        "start_time": "2021-11-16T16:30:58.271Z"
      },
      {
        "duration": 13,
        "start_time": "2021-11-16T16:30:58.290Z"
      },
      {
        "duration": 24,
        "start_time": "2021-11-16T16:30:58.304Z"
      },
      {
        "duration": 29,
        "start_time": "2021-11-16T16:30:58.329Z"
      },
      {
        "duration": 53,
        "start_time": "2021-11-16T16:30:58.360Z"
      },
      {
        "duration": 564,
        "start_time": "2021-11-16T16:30:58.415Z"
      },
      {
        "duration": 51,
        "start_time": "2021-11-16T16:30:58.981Z"
      },
      {
        "duration": 137,
        "start_time": "2021-11-16T16:30:59.033Z"
      },
      {
        "duration": 4,
        "start_time": "2021-11-16T16:30:59.171Z"
      },
      {
        "duration": 6,
        "start_time": "2021-11-16T16:30:59.188Z"
      },
      {
        "duration": 4,
        "start_time": "2021-11-16T16:30:59.195Z"
      },
      {
        "duration": 54,
        "start_time": "2021-11-16T16:30:59.201Z"
      },
      {
        "duration": 41,
        "start_time": "2021-11-16T16:30:59.257Z"
      },
      {
        "duration": 15,
        "start_time": "2021-11-16T16:30:59.299Z"
      },
      {
        "duration": 34,
        "start_time": "2021-11-16T16:30:59.316Z"
      },
      {
        "duration": 392,
        "start_time": "2021-11-16T16:30:59.351Z"
      },
      {
        "duration": -85,
        "start_time": "2021-11-16T16:30:59.830Z"
      },
      {
        "duration": -87,
        "start_time": "2021-11-16T16:30:59.833Z"
      },
      {
        "duration": -90,
        "start_time": "2021-11-16T16:30:59.836Z"
      },
      {
        "duration": -91,
        "start_time": "2021-11-16T16:30:59.838Z"
      },
      {
        "duration": -94,
        "start_time": "2021-11-16T16:30:59.842Z"
      },
      {
        "duration": -96,
        "start_time": "2021-11-16T16:30:59.844Z"
      },
      {
        "duration": -98,
        "start_time": "2021-11-16T16:30:59.847Z"
      },
      {
        "duration": -99,
        "start_time": "2021-11-16T16:30:59.849Z"
      },
      {
        "duration": -100,
        "start_time": "2021-11-16T16:30:59.851Z"
      },
      {
        "duration": -102,
        "start_time": "2021-11-16T16:30:59.853Z"
      },
      {
        "duration": -105,
        "start_time": "2021-11-16T16:30:59.857Z"
      },
      {
        "duration": -106,
        "start_time": "2021-11-16T16:30:59.859Z"
      },
      {
        "duration": -107,
        "start_time": "2021-11-16T16:30:59.861Z"
      },
      {
        "duration": -109,
        "start_time": "2021-11-16T16:30:59.863Z"
      },
      {
        "duration": -110,
        "start_time": "2021-11-16T16:30:59.865Z"
      },
      {
        "duration": -111,
        "start_time": "2021-11-16T16:30:59.867Z"
      },
      {
        "duration": -112,
        "start_time": "2021-11-16T16:30:59.869Z"
      },
      {
        "duration": -114,
        "start_time": "2021-11-16T16:30:59.871Z"
      },
      {
        "duration": -116,
        "start_time": "2021-11-16T16:30:59.874Z"
      },
      {
        "duration": -116,
        "start_time": "2021-11-16T16:30:59.875Z"
      },
      {
        "duration": -119,
        "start_time": "2021-11-16T16:30:59.878Z"
      },
      {
        "duration": -119,
        "start_time": "2021-11-16T16:30:59.879Z"
      },
      {
        "duration": -121,
        "start_time": "2021-11-16T16:30:59.882Z"
      },
      {
        "duration": -122,
        "start_time": "2021-11-16T16:30:59.884Z"
      },
      {
        "duration": -124,
        "start_time": "2021-11-16T16:30:59.886Z"
      },
      {
        "duration": -125,
        "start_time": "2021-11-16T16:30:59.888Z"
      },
      {
        "duration": 41,
        "start_time": "2021-11-16T16:32:39.819Z"
      },
      {
        "duration": 6,
        "start_time": "2021-11-16T16:32:41.857Z"
      },
      {
        "duration": 304,
        "start_time": "2021-11-16T16:32:49.355Z"
      },
      {
        "duration": 324,
        "start_time": "2021-11-16T16:33:07.196Z"
      },
      {
        "duration": 41,
        "start_time": "2021-11-16T16:33:26.281Z"
      },
      {
        "duration": 6,
        "start_time": "2021-11-16T16:33:28.198Z"
      },
      {
        "duration": 211,
        "start_time": "2021-11-16T16:33:32.886Z"
      },
      {
        "duration": 9,
        "start_time": "2021-11-16T16:33:36.980Z"
      },
      {
        "duration": 7,
        "start_time": "2021-11-16T16:33:46.176Z"
      },
      {
        "duration": 3,
        "start_time": "2021-11-16T16:33:49.757Z"
      },
      {
        "duration": 3,
        "start_time": "2021-11-16T16:33:49.976Z"
      },
      {
        "duration": 29,
        "start_time": "2021-11-16T16:33:53.321Z"
      },
      {
        "duration": 9,
        "start_time": "2021-11-16T16:33:53.574Z"
      },
      {
        "duration": 29,
        "start_time": "2021-11-16T16:33:53.878Z"
      },
      {
        "duration": 93,
        "start_time": "2021-11-16T16:33:54.937Z"
      },
      {
        "duration": 35,
        "start_time": "2021-11-16T16:33:55.427Z"
      },
      {
        "duration": 3,
        "start_time": "2021-11-16T16:33:56.520Z"
      },
      {
        "duration": 5,
        "start_time": "2021-11-16T16:33:56.726Z"
      },
      {
        "duration": 65,
        "start_time": "2021-11-16T16:33:57.705Z"
      },
      {
        "duration": 3,
        "start_time": "2021-11-16T16:33:58.013Z"
      },
      {
        "duration": 6,
        "start_time": "2021-11-16T16:33:58.484Z"
      },
      {
        "duration": 10,
        "start_time": "2021-11-16T16:33:58.829Z"
      },
      {
        "duration": 2,
        "start_time": "2021-11-16T16:33:59.150Z"
      },
      {
        "duration": 160,
        "start_time": "2021-11-16T16:33:59.312Z"
      },
      {
        "duration": 171,
        "start_time": "2021-11-16T16:34:00.285Z"
      },
      {
        "duration": 161,
        "start_time": "2021-11-16T16:34:00.957Z"
      },
      {
        "duration": 8129,
        "start_time": "2021-11-16T16:34:02.045Z"
      },
      {
        "duration": 3,
        "start_time": "2021-11-16T16:34:16.549Z"
      },
      {
        "duration": 1032,
        "start_time": "2021-11-16T16:34:24.381Z"
      },
      {
        "duration": 4,
        "start_time": "2021-11-16T16:34:25.414Z"
      },
      {
        "duration": 7,
        "start_time": "2021-11-16T16:34:25.420Z"
      },
      {
        "duration": 12,
        "start_time": "2021-11-16T16:34:25.428Z"
      },
      {
        "duration": 260,
        "start_time": "2021-11-16T16:34:25.442Z"
      },
      {
        "duration": 599,
        "start_time": "2021-11-16T16:34:25.704Z"
      },
      {
        "duration": 117,
        "start_time": "2021-11-16T16:34:26.304Z"
      },
      {
        "duration": 51,
        "start_time": "2021-11-16T16:34:26.424Z"
      },
      {
        "duration": 17,
        "start_time": "2021-11-16T16:34:26.476Z"
      },
      {
        "duration": 6,
        "start_time": "2021-11-16T16:34:26.495Z"
      },
      {
        "duration": 57,
        "start_time": "2021-11-16T16:34:26.503Z"
      },
      {
        "duration": 126,
        "start_time": "2021-11-16T16:34:26.562Z"
      },
      {
        "duration": 182,
        "start_time": "2021-11-16T16:34:26.689Z"
      },
      {
        "duration": 9,
        "start_time": "2021-11-16T16:34:26.873Z"
      },
      {
        "duration": 772,
        "start_time": "2021-11-16T16:34:26.888Z"
      },
      {
        "duration": 13,
        "start_time": "2021-11-16T16:34:27.662Z"
      },
      {
        "duration": 38,
        "start_time": "2021-11-16T16:34:27.676Z"
      },
      {
        "duration": 31,
        "start_time": "2021-11-16T16:34:27.716Z"
      },
      {
        "duration": 330,
        "start_time": "2021-11-16T16:34:27.748Z"
      },
      {
        "duration": 308,
        "start_time": "2021-11-16T16:34:28.087Z"
      },
      {
        "duration": 11,
        "start_time": "2021-11-16T16:34:28.396Z"
      },
      {
        "duration": 9,
        "start_time": "2021-11-16T16:34:28.409Z"
      },
      {
        "duration": 14,
        "start_time": "2021-11-16T16:34:28.421Z"
      },
      {
        "duration": 23,
        "start_time": "2021-11-16T16:34:28.437Z"
      },
      {
        "duration": 52,
        "start_time": "2021-11-16T16:34:28.462Z"
      },
      {
        "duration": 28,
        "start_time": "2021-11-16T16:34:28.516Z"
      },
      {
        "duration": 507,
        "start_time": "2021-11-16T16:34:28.545Z"
      },
      {
        "duration": 55,
        "start_time": "2021-11-16T16:34:29.053Z"
      },
      {
        "duration": 134,
        "start_time": "2021-11-16T16:34:29.110Z"
      },
      {
        "duration": 4,
        "start_time": "2021-11-16T16:34:29.245Z"
      },
      {
        "duration": 6,
        "start_time": "2021-11-16T16:34:29.250Z"
      },
      {
        "duration": 6,
        "start_time": "2021-11-16T16:34:29.257Z"
      },
      {
        "duration": 64,
        "start_time": "2021-11-16T16:34:29.264Z"
      },
      {
        "duration": 18,
        "start_time": "2021-11-16T16:34:29.329Z"
      },
      {
        "duration": 15,
        "start_time": "2021-11-16T16:34:29.348Z"
      },
      {
        "duration": 45,
        "start_time": "2021-11-16T16:34:29.364Z"
      },
      {
        "duration": 40,
        "start_time": "2021-11-16T16:34:29.411Z"
      },
      {
        "duration": 6,
        "start_time": "2021-11-16T16:34:29.453Z"
      },
      {
        "duration": 228,
        "start_time": "2021-11-16T16:34:29.461Z"
      },
      {
        "duration": 9,
        "start_time": "2021-11-16T16:34:29.691Z"
      },
      {
        "duration": 8,
        "start_time": "2021-11-16T16:34:29.702Z"
      },
      {
        "duration": 7,
        "start_time": "2021-11-16T16:34:29.711Z"
      },
      {
        "duration": 5,
        "start_time": "2021-11-16T16:34:29.719Z"
      },
      {
        "duration": 31,
        "start_time": "2021-11-16T16:34:29.726Z"
      },
      {
        "duration": 35,
        "start_time": "2021-11-16T16:34:29.759Z"
      },
      {
        "duration": 109,
        "start_time": "2021-11-16T16:34:29.796Z"
      },
      {
        "duration": 23,
        "start_time": "2021-11-16T16:34:29.907Z"
      },
      {
        "duration": 30,
        "start_time": "2021-11-16T16:34:29.932Z"
      },
      {
        "duration": 24,
        "start_time": "2021-11-16T16:34:29.964Z"
      },
      {
        "duration": 3,
        "start_time": "2021-11-16T16:34:29.990Z"
      },
      {
        "duration": 68,
        "start_time": "2021-11-16T16:34:29.995Z"
      },
      {
        "duration": 3,
        "start_time": "2021-11-16T16:34:30.065Z"
      },
      {
        "duration": 24,
        "start_time": "2021-11-16T16:34:30.069Z"
      },
      {
        "duration": 16,
        "start_time": "2021-11-16T16:34:30.094Z"
      },
      {
        "duration": 29,
        "start_time": "2021-11-16T16:34:30.112Z"
      },
      {
        "duration": 190,
        "start_time": "2021-11-16T16:34:30.143Z"
      },
      {
        "duration": 180,
        "start_time": "2021-11-16T16:34:30.334Z"
      },
      {
        "duration": 183,
        "start_time": "2021-11-16T16:34:30.516Z"
      },
      {
        "duration": 15941,
        "start_time": "2021-11-16T16:34:30.701Z"
      },
      {
        "duration": 2,
        "start_time": "2021-11-16T16:34:46.644Z"
      },
      {
        "duration": 5093,
        "start_time": "2021-11-16T16:34:46.648Z"
      },
      {
        "duration": 3887,
        "start_time": "2021-11-16T16:34:51.743Z"
      },
      {
        "duration": 3481,
        "start_time": "2021-11-16T16:34:55.632Z"
      },
      {
        "duration": 1554,
        "start_time": "2021-11-16T19:37:32.766Z"
      },
      {
        "duration": 5,
        "start_time": "2021-11-16T19:37:34.322Z"
      },
      {
        "duration": 7,
        "start_time": "2021-11-16T19:37:34.329Z"
      },
      {
        "duration": 21,
        "start_time": "2021-11-16T19:37:34.339Z"
      },
      {
        "duration": 477,
        "start_time": "2021-11-16T19:37:34.362Z"
      },
      {
        "duration": 950,
        "start_time": "2021-11-16T19:37:34.841Z"
      },
      {
        "duration": 159,
        "start_time": "2021-11-16T19:37:35.794Z"
      },
      {
        "duration": 80,
        "start_time": "2021-11-16T19:37:35.957Z"
      },
      {
        "duration": 27,
        "start_time": "2021-11-16T19:37:36.041Z"
      },
      {
        "duration": 12,
        "start_time": "2021-11-16T19:37:36.070Z"
      },
      {
        "duration": 116,
        "start_time": "2021-11-16T19:37:36.085Z"
      },
      {
        "duration": 200,
        "start_time": "2021-11-16T19:37:36.204Z"
      },
      {
        "duration": 298,
        "start_time": "2021-11-16T19:37:36.407Z"
      },
      {
        "duration": 15,
        "start_time": "2021-11-16T19:37:36.708Z"
      },
      {
        "duration": 1341,
        "start_time": "2021-11-16T19:37:36.726Z"
      },
      {
        "duration": 18,
        "start_time": "2021-11-16T19:37:38.069Z"
      },
      {
        "duration": 39,
        "start_time": "2021-11-16T19:37:38.090Z"
      },
      {
        "duration": 70,
        "start_time": "2021-11-16T19:37:38.131Z"
      },
      {
        "duration": 642,
        "start_time": "2021-11-16T19:37:38.204Z"
      },
      {
        "duration": 581,
        "start_time": "2021-11-16T19:37:38.849Z"
      },
      {
        "duration": 33,
        "start_time": "2021-11-16T19:37:39.433Z"
      },
      {
        "duration": 18,
        "start_time": "2021-11-16T19:37:39.469Z"
      },
      {
        "duration": 20,
        "start_time": "2021-11-16T19:37:39.496Z"
      },
      {
        "duration": 72,
        "start_time": "2021-11-16T19:37:39.520Z"
      },
      {
        "duration": 69,
        "start_time": "2021-11-16T19:37:39.595Z"
      },
      {
        "duration": 45,
        "start_time": "2021-11-16T19:37:39.667Z"
      },
      {
        "duration": 84214,
        "start_time": "2021-11-16T19:37:39.715Z"
      },
      {
        "duration": 77,
        "start_time": "2021-11-16T19:39:03.932Z"
      },
      {
        "duration": 224,
        "start_time": "2021-11-16T19:39:04.011Z"
      },
      {
        "duration": 4,
        "start_time": "2021-11-16T19:39:04.238Z"
      },
      {
        "duration": 18,
        "start_time": "2021-11-16T19:39:04.244Z"
      },
      {
        "duration": 5,
        "start_time": "2021-11-16T19:39:04.264Z"
      },
      {
        "duration": 126,
        "start_time": "2021-11-16T19:39:04.272Z"
      },
      {
        "duration": 41,
        "start_time": "2021-11-16T19:39:04.401Z"
      },
      {
        "duration": 33,
        "start_time": "2021-11-16T19:39:04.444Z"
      },
      {
        "duration": 67,
        "start_time": "2021-11-16T19:39:04.480Z"
      },
      {
        "duration": 87,
        "start_time": "2021-11-16T19:39:04.558Z"
      },
      {
        "duration": 12,
        "start_time": "2021-11-16T19:39:04.649Z"
      },
      {
        "duration": 703,
        "start_time": "2021-11-16T19:39:04.663Z"
      },
      {
        "duration": 17,
        "start_time": "2021-11-16T19:39:05.369Z"
      },
      {
        "duration": 70,
        "start_time": "2021-11-16T19:39:05.389Z"
      },
      {
        "duration": 4,
        "start_time": "2021-11-16T19:39:05.462Z"
      },
      {
        "duration": 19,
        "start_time": "2021-11-16T19:39:05.468Z"
      },
      {
        "duration": 83,
        "start_time": "2021-11-16T19:39:05.489Z"
      },
      {
        "duration": 15,
        "start_time": "2021-11-16T19:39:05.575Z"
      },
      {
        "duration": 146,
        "start_time": "2021-11-16T19:39:05.592Z"
      },
      {
        "duration": 48,
        "start_time": "2021-11-16T19:39:05.740Z"
      },
      {
        "duration": 49,
        "start_time": "2021-11-16T19:39:05.790Z"
      },
      {
        "duration": 5,
        "start_time": "2021-11-16T19:39:05.859Z"
      },
      {
        "duration": 11,
        "start_time": "2021-11-16T19:39:05.867Z"
      },
      {
        "duration": 135,
        "start_time": "2021-11-16T19:39:05.881Z"
      },
      {
        "duration": 6,
        "start_time": "2021-11-16T19:39:06.023Z"
      },
      {
        "duration": 28,
        "start_time": "2021-11-16T19:39:06.032Z"
      },
      {
        "duration": 18,
        "start_time": "2021-11-16T19:39:06.062Z"
      },
      {
        "duration": 13,
        "start_time": "2021-11-16T19:39:06.082Z"
      },
      {
        "duration": 287,
        "start_time": "2021-11-16T19:39:06.097Z"
      },
      {
        "duration": 329,
        "start_time": "2021-11-16T19:39:06.387Z"
      },
      {
        "duration": 285,
        "start_time": "2021-11-16T19:39:06.719Z"
      },
      {
        "duration": 1476,
        "start_time": "2021-11-16T19:48:05.744Z"
      },
      {
        "duration": 5,
        "start_time": "2021-11-16T19:48:07.222Z"
      },
      {
        "duration": 6,
        "start_time": "2021-11-16T19:48:07.230Z"
      },
      {
        "duration": 21,
        "start_time": "2021-11-16T19:48:07.240Z"
      },
      {
        "duration": 675,
        "start_time": "2021-11-16T19:48:07.264Z"
      },
      {
        "duration": 943,
        "start_time": "2021-11-16T19:48:07.942Z"
      },
      {
        "duration": 197,
        "start_time": "2021-11-16T19:48:08.888Z"
      },
      {
        "duration": 122,
        "start_time": "2021-11-16T19:48:09.089Z"
      },
      {
        "duration": 15,
        "start_time": "2021-11-16T19:48:09.214Z"
      },
      {
        "duration": 29,
        "start_time": "2021-11-16T19:48:09.237Z"
      },
      {
        "duration": 142,
        "start_time": "2021-11-16T19:48:09.269Z"
      },
      {
        "duration": 260,
        "start_time": "2021-11-16T19:48:09.415Z"
      },
      {
        "duration": 380,
        "start_time": "2021-11-16T19:48:09.679Z"
      },
      {
        "duration": 19,
        "start_time": "2021-11-16T19:48:10.062Z"
      },
      {
        "duration": 2314,
        "start_time": "2021-11-16T19:48:10.084Z"
      },
      {
        "duration": 27,
        "start_time": "2021-11-16T19:48:12.401Z"
      },
      {
        "duration": 72,
        "start_time": "2021-11-16T19:48:12.431Z"
      },
      {
        "duration": 90,
        "start_time": "2021-11-16T19:48:12.506Z"
      },
      {
        "duration": 829,
        "start_time": "2021-11-16T19:48:12.600Z"
      },
      {
        "duration": 699,
        "start_time": "2021-11-16T19:48:13.432Z"
      },
      {
        "duration": 28,
        "start_time": "2021-11-16T19:48:14.136Z"
      },
      {
        "duration": 17,
        "start_time": "2021-11-16T19:48:14.167Z"
      },
      {
        "duration": 46,
        "start_time": "2021-11-16T19:48:14.193Z"
      },
      {
        "duration": 52,
        "start_time": "2021-11-16T19:48:14.259Z"
      },
      {
        "duration": 71,
        "start_time": "2021-11-16T19:48:14.314Z"
      },
      {
        "duration": 78,
        "start_time": "2021-11-16T19:48:14.388Z"
      },
      {
        "duration": 98693,
        "start_time": "2021-11-16T19:48:14.469Z"
      },
      {
        "duration": 143,
        "start_time": "2021-11-16T19:49:53.165Z"
      },
      {
        "duration": 242,
        "start_time": "2021-11-16T19:49:53.310Z"
      },
      {
        "duration": 7,
        "start_time": "2021-11-16T19:49:53.554Z"
      },
      {
        "duration": 19,
        "start_time": "2021-11-16T19:49:53.563Z"
      },
      {
        "duration": 9,
        "start_time": "2021-11-16T19:49:53.585Z"
      },
      {
        "duration": 97,
        "start_time": "2021-11-16T19:49:53.597Z"
      },
      {
        "duration": 30,
        "start_time": "2021-11-16T19:49:53.696Z"
      },
      {
        "duration": 44,
        "start_time": "2021-11-16T19:49:53.729Z"
      },
      {
        "duration": 49,
        "start_time": "2021-11-16T19:49:53.776Z"
      },
      {
        "duration": 81,
        "start_time": "2021-11-16T19:49:53.828Z"
      },
      {
        "duration": 9,
        "start_time": "2021-11-16T19:49:53.912Z"
      },
      {
        "duration": 413,
        "start_time": "2021-11-16T19:49:53.924Z"
      },
      {
        "duration": 26,
        "start_time": "2021-11-16T19:49:54.339Z"
      },
      {
        "duration": 15,
        "start_time": "2021-11-16T19:49:54.367Z"
      },
      {
        "duration": 10,
        "start_time": "2021-11-16T19:49:54.385Z"
      },
      {
        "duration": 12,
        "start_time": "2021-11-16T19:49:54.398Z"
      },
      {
        "duration": 75,
        "start_time": "2021-11-16T19:49:54.413Z"
      },
      {
        "duration": 19,
        "start_time": "2021-11-16T19:49:54.491Z"
      },
      {
        "duration": 171,
        "start_time": "2021-11-16T19:49:54.513Z"
      },
      {
        "duration": 40,
        "start_time": "2021-11-16T19:49:54.686Z"
      },
      {
        "duration": 81,
        "start_time": "2021-11-16T19:49:54.729Z"
      },
      {
        "duration": 5,
        "start_time": "2021-11-16T19:49:54.813Z"
      },
      {
        "duration": 16,
        "start_time": "2021-11-16T19:49:54.820Z"
      },
      {
        "duration": 104,
        "start_time": "2021-11-16T19:49:54.839Z"
      },
      {
        "duration": 15,
        "start_time": "2021-11-16T19:49:54.946Z"
      },
      {
        "duration": 14,
        "start_time": "2021-11-16T19:49:54.964Z"
      },
      {
        "duration": 23,
        "start_time": "2021-11-16T19:49:54.981Z"
      },
      {
        "duration": 19,
        "start_time": "2021-11-16T19:49:55.006Z"
      },
      {
        "duration": 297,
        "start_time": "2021-11-16T19:49:55.027Z"
      },
      {
        "duration": 273,
        "start_time": "2021-11-16T19:49:55.327Z"
      },
      {
        "duration": 276,
        "start_time": "2021-11-16T19:49:55.602Z"
      },
      {
        "duration": 859379,
        "start_time": "2021-11-16T19:49:55.881Z"
      },
      {
        "duration": -39,
        "start_time": "2021-11-16T20:04:15.302Z"
      },
      {
        "duration": -44,
        "start_time": "2021-11-16T20:04:15.308Z"
      },
      {
        "duration": -50,
        "start_time": "2021-11-16T20:04:15.316Z"
      },
      {
        "duration": -54,
        "start_time": "2021-11-16T20:04:15.321Z"
      },
      {
        "duration": -57,
        "start_time": "2021-11-16T20:04:15.326Z"
      },
      {
        "duration": -59,
        "start_time": "2021-11-16T20:04:15.330Z"
      },
      {
        "duration": 22,
        "start_time": "2021-11-16T20:04:28.379Z"
      },
      {
        "duration": 4,
        "start_time": "2021-11-16T20:04:30.121Z"
      },
      {
        "duration": 291,
        "start_time": "2021-11-16T20:04:30.784Z"
      },
      {
        "duration": 5,
        "start_time": "2021-11-16T20:07:17.313Z"
      },
      {
        "duration": 973,
        "start_time": "2021-11-16T20:08:52.167Z"
      },
      {
        "duration": 18036,
        "start_time": "2021-11-16T20:09:01.584Z"
      },
      {
        "duration": -111,
        "start_time": "2021-11-16T20:09:19.734Z"
      },
      {
        "duration": 1459,
        "start_time": "2021-11-17T07:59:40.544Z"
      },
      {
        "duration": 4,
        "start_time": "2021-11-17T07:59:42.006Z"
      },
      {
        "duration": 16,
        "start_time": "2021-11-17T07:59:42.013Z"
      },
      {
        "duration": 3,
        "start_time": "2021-11-17T07:59:42.301Z"
      },
      {
        "duration": 4,
        "start_time": "2021-11-17T07:59:42.694Z"
      },
      {
        "duration": 5,
        "start_time": "2021-11-17T07:59:43.338Z"
      },
      {
        "duration": 830,
        "start_time": "2021-11-17T07:59:46.135Z"
      },
      {
        "duration": 164,
        "start_time": "2021-11-17T07:59:46.969Z"
      },
      {
        "duration": 80,
        "start_time": "2021-11-17T07:59:48.291Z"
      },
      {
        "duration": 12,
        "start_time": "2021-11-17T07:59:52.715Z"
      },
      {
        "duration": 12,
        "start_time": "2021-11-17T07:59:53.063Z"
      },
      {
        "duration": 110,
        "start_time": "2021-11-17T07:59:54.140Z"
      },
      {
        "duration": 213,
        "start_time": "2021-11-17T07:59:57.619Z"
      },
      {
        "duration": 297,
        "start_time": "2021-11-17T08:00:01.079Z"
      },
      {
        "duration": 17,
        "start_time": "2021-11-17T08:00:04.879Z"
      },
      {
        "duration": 1364,
        "start_time": "2021-11-17T08:00:08.613Z"
      },
      {
        "duration": 21,
        "start_time": "2021-11-17T08:05:38.251Z"
      },
      {
        "duration": 44,
        "start_time": "2021-11-17T08:06:03.343Z"
      },
      {
        "duration": 4,
        "start_time": "2021-11-17T08:06:27.001Z"
      },
      {
        "duration": 5,
        "start_time": "2021-11-17T08:06:27.253Z"
      },
      {
        "duration": 1160,
        "start_time": "2021-11-17T08:06:43.541Z"
      },
      {
        "duration": 779,
        "start_time": "2021-11-17T08:07:16.776Z"
      },
      {
        "duration": 4,
        "start_time": "2021-11-17T08:07:26.291Z"
      },
      {
        "duration": 547,
        "start_time": "2021-11-17T08:07:34.925Z"
      },
      {
        "duration": 41,
        "start_time": "2021-11-17T08:08:48.773Z"
      },
      {
        "duration": 64,
        "start_time": "2021-11-17T08:09:16.778Z"
      },
      {
        "duration": 60,
        "start_time": "2021-11-17T08:09:49.056Z"
      },
      {
        "duration": 63,
        "start_time": "2021-11-17T08:10:03.886Z"
      },
      {
        "duration": 26,
        "start_time": "2021-11-17T08:10:42.370Z"
      },
      {
        "duration": 34,
        "start_time": "2021-11-17T08:10:57.330Z"
      },
      {
        "duration": 395,
        "start_time": "2021-11-17T08:11:13.488Z"
      },
      {
        "duration": 513,
        "start_time": "2021-11-17T08:11:18.830Z"
      },
      {
        "duration": 406,
        "start_time": "2021-11-17T08:12:07.417Z"
      },
      {
        "duration": 473,
        "start_time": "2021-11-17T08:12:32.517Z"
      },
      {
        "duration": 540,
        "start_time": "2021-11-17T08:12:41.951Z"
      },
      {
        "duration": 7,
        "start_time": "2021-11-17T08:13:03.692Z"
      },
      {
        "duration": 10,
        "start_time": "2021-11-17T08:13:16.857Z"
      },
      {
        "duration": 13,
        "start_time": "2021-11-17T08:13:32.300Z"
      },
      {
        "duration": 10,
        "start_time": "2021-11-17T08:13:40.684Z"
      },
      {
        "duration": 13,
        "start_time": "2021-11-17T08:13:47.284Z"
      },
      {
        "duration": 14,
        "start_time": "2021-11-17T08:13:59.628Z"
      },
      {
        "duration": 417,
        "start_time": "2021-11-17T08:16:23.945Z"
      },
      {
        "duration": 463,
        "start_time": "2021-11-17T08:17:18.777Z"
      },
      {
        "duration": 447,
        "start_time": "2021-11-17T08:17:26.495Z"
      },
      {
        "duration": 438,
        "start_time": "2021-11-17T08:17:31.648Z"
      },
      {
        "duration": 436,
        "start_time": "2021-11-17T08:17:43.002Z"
      },
      {
        "duration": 423,
        "start_time": "2021-11-17T08:18:21.874Z"
      },
      {
        "duration": 532,
        "start_time": "2021-11-17T08:18:26.380Z"
      },
      {
        "duration": 574,
        "start_time": "2021-11-17T08:18:30.833Z"
      },
      {
        "duration": 803,
        "start_time": "2021-11-17T08:21:40.863Z"
      },
      {
        "duration": 553,
        "start_time": "2021-11-17T08:21:45.085Z"
      },
      {
        "duration": 57,
        "start_time": "2021-11-17T08:22:40.124Z"
      },
      {
        "duration": 619,
        "start_time": "2021-11-17T08:22:40.871Z"
      },
      {
        "duration": 1301,
        "start_time": "2021-11-17T08:23:26.181Z"
      },
      {
        "duration": 942,
        "start_time": "2021-11-17T08:23:32.733Z"
      },
      {
        "duration": 1353,
        "start_time": "2021-11-17T08:24:15.835Z"
      },
      {
        "duration": 840,
        "start_time": "2021-11-17T08:24:22.789Z"
      },
      {
        "duration": 1140,
        "start_time": "2021-11-17T08:24:27.546Z"
      },
      {
        "duration": 8,
        "start_time": "2021-11-17T08:27:23.949Z"
      },
      {
        "duration": 12,
        "start_time": "2021-11-17T08:28:23.924Z"
      },
      {
        "duration": 106,
        "start_time": "2021-11-17T08:28:27.858Z"
      },
      {
        "duration": 40,
        "start_time": "2021-11-17T08:28:31.174Z"
      },
      {
        "duration": 40,
        "start_time": "2021-11-17T08:28:49.496Z"
      },
      {
        "duration": 42,
        "start_time": "2021-11-17T08:29:09.654Z"
      },
      {
        "duration": 3339,
        "start_time": "2021-11-17T08:29:18.213Z"
      },
      {
        "duration": 7,
        "start_time": "2021-11-17T08:29:26.280Z"
      },
      {
        "duration": 28,
        "start_time": "2021-11-17T08:29:36.255Z"
      },
      {
        "duration": 5,
        "start_time": "2021-11-17T08:29:36.901Z"
      },
      {
        "duration": 35,
        "start_time": "2021-11-17T08:30:01.942Z"
      },
      {
        "duration": 5,
        "start_time": "2021-11-17T08:30:05.202Z"
      },
      {
        "duration": 36,
        "start_time": "2021-11-17T08:30:12.698Z"
      },
      {
        "duration": 5,
        "start_time": "2021-11-17T08:30:13.074Z"
      },
      {
        "duration": 993,
        "start_time": "2021-11-17T08:30:27.055Z"
      },
      {
        "duration": 1443,
        "start_time": "2021-11-17T08:30:34.044Z"
      },
      {
        "duration": 1349,
        "start_time": "2021-11-17T08:31:02.865Z"
      },
      {
        "duration": 1315,
        "start_time": "2021-11-17T08:31:34.307Z"
      },
      {
        "duration": 1506,
        "start_time": "2021-11-17T08:31:41.571Z"
      },
      {
        "duration": 1337,
        "start_time": "2021-11-17T08:31:48.054Z"
      },
      {
        "duration": 34,
        "start_time": "2021-11-17T08:32:36.930Z"
      },
      {
        "duration": 1315,
        "start_time": "2021-11-17T08:33:00.818Z"
      },
      {
        "duration": 35,
        "start_time": "2021-11-17T08:33:19.177Z"
      },
      {
        "duration": 35,
        "start_time": "2021-11-17T08:33:19.476Z"
      },
      {
        "duration": 1499,
        "start_time": "2021-11-17T08:33:27.454Z"
      },
      {
        "duration": 397,
        "start_time": "2021-11-17T08:33:41.738Z"
      },
      {
        "duration": 433,
        "start_time": "2021-11-17T08:33:41.704Z"
      },
      {
        "duration": 39,
        "start_time": "2021-11-17T08:33:48.397Z"
      },
      {
        "duration": 1341,
        "start_time": "2021-11-17T08:33:49.054Z"
      },
      {
        "duration": 1357,
        "start_time": "2021-11-17T08:33:54.950Z"
      },
      {
        "duration": 36,
        "start_time": "2021-11-17T08:34:04.258Z"
      },
      {
        "duration": 1422,
        "start_time": "2021-11-17T08:34:04.477Z"
      },
      {
        "duration": 1340,
        "start_time": "2021-11-17T08:34:38.680Z"
      },
      {
        "duration": 1330,
        "start_time": "2021-11-17T08:34:42.706Z"
      },
      {
        "duration": 1464,
        "start_time": "2021-11-17T08:34:46.280Z"
      },
      {
        "duration": 1386,
        "start_time": "2021-11-17T08:34:52.984Z"
      },
      {
        "duration": 1316,
        "start_time": "2021-11-17T08:35:01.401Z"
      },
      {
        "duration": 6,
        "start_time": "2021-11-17T08:36:02.443Z"
      },
      {
        "duration": 1295,
        "start_time": "2021-11-17T08:36:53.300Z"
      },
      {
        "duration": 1394,
        "start_time": "2021-11-17T08:37:03.401Z"
      },
      {
        "duration": 1181,
        "start_time": "2021-11-17T08:37:18.250Z"
      },
      {
        "duration": 599,
        "start_time": "2021-11-17T08:38:13.622Z"
      },
      {
        "duration": 1378,
        "start_time": "2021-11-17T08:38:20.490Z"
      },
      {
        "duration": 1639,
        "start_time": "2021-11-17T08:38:29.178Z"
      },
      {
        "duration": 1614,
        "start_time": "2021-11-17T08:38:35.827Z"
      },
      {
        "duration": 1178,
        "start_time": "2021-11-17T08:38:43.503Z"
      },
      {
        "duration": 10314,
        "start_time": "2021-11-17T08:38:49.032Z"
      },
      {
        "duration": 1401,
        "start_time": "2021-11-17T08:39:03.577Z"
      },
      {
        "duration": 1446,
        "start_time": "2021-11-17T08:39:12.960Z"
      },
      {
        "duration": 7,
        "start_time": "2021-11-17T08:39:32.154Z"
      },
      {
        "duration": 1322,
        "start_time": "2021-11-17T08:40:25.295Z"
      },
      {
        "duration": 1629,
        "start_time": "2021-11-17T08:41:15.268Z"
      },
      {
        "duration": 772,
        "start_time": "2021-11-17T08:41:36.123Z"
      },
      {
        "duration": 1499,
        "start_time": "2021-11-17T08:41:54.975Z"
      },
      {
        "duration": 1379,
        "start_time": "2021-11-17T08:42:02.666Z"
      },
      {
        "duration": 1364,
        "start_time": "2021-11-17T08:42:10.206Z"
      },
      {
        "duration": 1508,
        "start_time": "2021-11-17T08:42:21.973Z"
      },
      {
        "duration": 1429,
        "start_time": "2021-11-17T08:42:29.377Z"
      },
      {
        "duration": 891,
        "start_time": "2021-11-17T08:43:51.311Z"
      },
      {
        "duration": 883,
        "start_time": "2021-11-17T08:43:55.777Z"
      },
      {
        "duration": 773,
        "start_time": "2021-11-17T08:44:01.644Z"
      },
      {
        "duration": 1113,
        "start_time": "2021-11-17T08:44:57.201Z"
      },
      {
        "duration": 1504,
        "start_time": "2021-11-17T08:45:32.466Z"
      },
      {
        "duration": 1337,
        "start_time": "2021-11-17T08:45:42.435Z"
      },
      {
        "duration": 1620,
        "start_time": "2021-11-17T08:45:53.812Z"
      },
      {
        "duration": 1790,
        "start_time": "2021-11-17T08:45:57.836Z"
      },
      {
        "duration": 1345,
        "start_time": "2021-11-17T08:46:14.609Z"
      },
      {
        "duration": 1352,
        "start_time": "2021-11-17T08:46:20.494Z"
      },
      {
        "duration": 1459,
        "start_time": "2021-11-17T08:46:27.414Z"
      },
      {
        "duration": 1396,
        "start_time": "2021-11-17T08:46:32.872Z"
      },
      {
        "duration": 1343,
        "start_time": "2021-11-17T08:46:46.041Z"
      },
      {
        "duration": 1536,
        "start_time": "2021-11-17T08:46:56.198Z"
      },
      {
        "duration": 1375,
        "start_time": "2021-11-17T08:47:02.362Z"
      },
      {
        "duration": 1349,
        "start_time": "2021-11-17T08:47:26.169Z"
      },
      {
        "duration": 1516,
        "start_time": "2021-11-17T08:47:31.064Z"
      },
      {
        "duration": 1878,
        "start_time": "2021-11-17T08:47:34.553Z"
      },
      {
        "duration": 2059,
        "start_time": "2021-11-17T08:47:53.520Z"
      },
      {
        "duration": 1924,
        "start_time": "2021-11-17T08:48:01.761Z"
      },
      {
        "duration": 2090,
        "start_time": "2021-11-17T08:48:19.939Z"
      },
      {
        "duration": 1869,
        "start_time": "2021-11-17T08:48:30.452Z"
      },
      {
        "duration": 17,
        "start_time": "2021-11-17T08:51:20.481Z"
      },
      {
        "duration": 15,
        "start_time": "2021-11-17T08:51:22.987Z"
      },
      {
        "duration": 20,
        "start_time": "2021-11-17T08:52:11.333Z"
      },
      {
        "duration": 1023,
        "start_time": "2021-11-17T08:53:36.610Z"
      },
      {
        "duration": 980,
        "start_time": "2021-11-17T08:54:16.772Z"
      },
      {
        "duration": 100,
        "start_time": "2021-11-17T08:58:39.642Z"
      },
      {
        "duration": 19,
        "start_time": "2021-11-17T08:58:51.874Z"
      },
      {
        "duration": 22,
        "start_time": "2021-11-17T08:59:03.401Z"
      },
      {
        "duration": 19,
        "start_time": "2021-11-17T08:59:49.137Z"
      },
      {
        "duration": 29,
        "start_time": "2021-11-17T09:00:31.030Z"
      },
      {
        "duration": 24,
        "start_time": "2021-11-17T09:00:34.402Z"
      },
      {
        "duration": 19,
        "start_time": "2021-11-17T09:00:48.357Z"
      },
      {
        "duration": 18,
        "start_time": "2021-11-17T09:01:01.481Z"
      },
      {
        "duration": 44,
        "start_time": "2021-11-17T09:02:04.962Z"
      },
      {
        "duration": 56,
        "start_time": "2021-11-17T09:02:05.797Z"
      },
      {
        "duration": 244,
        "start_time": "2021-11-17T09:02:06.518Z"
      },
      {
        "duration": 2360,
        "start_time": "2021-11-17T09:02:50.125Z"
      },
      {
        "duration": 112,
        "start_time": "2021-11-17T09:03:07.195Z"
      },
      {
        "duration": 216,
        "start_time": "2021-11-17T09:04:04.963Z"
      },
      {
        "duration": 6,
        "start_time": "2021-11-17T09:04:05.292Z"
      },
      {
        "duration": 9,
        "start_time": "2021-11-17T09:04:23.823Z"
      },
      {
        "duration": 6,
        "start_time": "2021-11-17T09:04:24.247Z"
      },
      {
        "duration": 76,
        "start_time": "2021-11-17T09:05:27.251Z"
      },
      {
        "duration": 308,
        "start_time": "2021-11-17T09:05:36.096Z"
      },
      {
        "duration": 73,
        "start_time": "2021-11-17T09:05:42.677Z"
      },
      {
        "duration": 216,
        "start_time": "2021-11-17T09:05:48.244Z"
      },
      {
        "duration": 7,
        "start_time": "2021-11-17T09:05:48.681Z"
      },
      {
        "duration": 468,
        "start_time": "2021-11-17T09:09:26.381Z"
      },
      {
        "duration": 355,
        "start_time": "2021-11-17T09:10:42.938Z"
      },
      {
        "duration": 72,
        "start_time": "2021-11-17T09:10:50.126Z"
      },
      {
        "duration": 12,
        "start_time": "2021-11-17T09:10:55.165Z"
      },
      {
        "duration": 72,
        "start_time": "2021-11-17T09:11:12.282Z"
      },
      {
        "duration": 12,
        "start_time": "2021-11-17T09:11:12.753Z"
      },
      {
        "duration": 423,
        "start_time": "2021-11-17T09:12:19.866Z"
      },
      {
        "duration": 466,
        "start_time": "2021-11-17T09:12:19.827Z"
      },
      {
        "duration": 501,
        "start_time": "2021-11-17T09:12:33.310Z"
      },
      {
        "duration": 374,
        "start_time": "2021-11-17T09:12:39.619Z"
      },
      {
        "duration": 338,
        "start_time": "2021-11-17T09:14:06.665Z"
      },
      {
        "duration": 10,
        "start_time": "2021-11-17T09:14:44.576Z"
      },
      {
        "duration": 7,
        "start_time": "2021-11-17T09:14:54.479Z"
      },
      {
        "duration": 8,
        "start_time": "2021-11-17T09:15:00.281Z"
      },
      {
        "duration": 420,
        "start_time": "2021-11-17T09:15:08.776Z"
      },
      {
        "duration": 643,
        "start_time": "2021-11-17T09:15:23.025Z"
      },
      {
        "duration": 10,
        "start_time": "2021-11-17T09:15:32.464Z"
      },
      {
        "duration": 494,
        "start_time": "2021-11-17T09:15:32.945Z"
      },
      {
        "duration": 361,
        "start_time": "2021-11-17T09:16:10.034Z"
      },
      {
        "duration": 8117,
        "start_time": "2021-11-17T09:16:17.371Z"
      },
      {
        "duration": 74,
        "start_time": "2021-11-17T09:16:36.906Z"
      },
      {
        "duration": 11,
        "start_time": "2021-11-17T09:16:39.691Z"
      },
      {
        "duration": 9,
        "start_time": "2021-11-17T09:17:02.226Z"
      },
      {
        "duration": 63,
        "start_time": "2021-11-17T09:17:02.528Z"
      },
      {
        "duration": 12,
        "start_time": "2021-11-17T09:17:02.877Z"
      },
      {
        "duration": 88,
        "start_time": "2021-11-17T09:17:49.934Z"
      },
      {
        "duration": 13,
        "start_time": "2021-11-17T09:17:50.541Z"
      },
      {
        "duration": 337,
        "start_time": "2021-11-17T09:18:02.470Z"
      },
      {
        "duration": 476,
        "start_time": "2021-11-17T09:18:02.334Z"
      },
      {
        "duration": 92,
        "start_time": "2021-11-17T09:18:12.872Z"
      },
      {
        "duration": 10,
        "start_time": "2021-11-17T09:18:14.017Z"
      },
      {
        "duration": 77,
        "start_time": "2021-11-17T09:18:18.678Z"
      },
      {
        "duration": 9,
        "start_time": "2021-11-17T09:18:18.933Z"
      },
      {
        "duration": 110,
        "start_time": "2021-11-17T09:19:27.285Z"
      },
      {
        "duration": 18,
        "start_time": "2021-11-17T09:19:35.948Z"
      },
      {
        "duration": 998,
        "start_time": "2021-11-17T09:21:27.951Z"
      },
      {
        "duration": 3,
        "start_time": "2021-11-17T09:21:56.409Z"
      },
      {
        "duration": 238,
        "start_time": "2021-11-17T09:22:08.411Z"
      },
      {
        "duration": 6,
        "start_time": "2021-11-17T09:22:09.260Z"
      },
      {
        "duration": 8,
        "start_time": "2021-11-17T09:22:13.852Z"
      },
      {
        "duration": 5,
        "start_time": "2021-11-17T09:22:14.189Z"
      },
      {
        "duration": 136,
        "start_time": "2021-11-17T09:22:17.014Z"
      },
      {
        "duration": 29,
        "start_time": "2021-11-17T09:22:24.497Z"
      },
      {
        "duration": 24,
        "start_time": "2021-11-17T09:22:24.846Z"
      },
      {
        "duration": 49,
        "start_time": "2021-11-17T09:22:25.626Z"
      },
      {
        "duration": 29,
        "start_time": "2021-11-17T09:22:47.497Z"
      },
      {
        "duration": 25,
        "start_time": "2021-11-17T09:22:47.845Z"
      },
      {
        "duration": 44,
        "start_time": "2021-11-17T09:22:48.244Z"
      },
      {
        "duration": 4,
        "start_time": "2021-11-17T09:23:40.356Z"
      },
      {
        "duration": 9,
        "start_time": "2021-11-17T09:23:40.876Z"
      },
      {
        "duration": 9959,
        "start_time": "2021-11-17T09:23:46.129Z"
      },
      {
        "duration": 417,
        "start_time": "2021-11-17T09:24:17.362Z"
      },
      {
        "duration": 357,
        "start_time": "2021-11-17T09:24:50.542Z"
      },
      {
        "duration": 5,
        "start_time": "2021-11-17T09:24:57.734Z"
      },
      {
        "duration": 9,
        "start_time": "2021-11-17T09:25:00.038Z"
      },
      {
        "duration": 6,
        "start_time": "2021-11-17T09:25:04.161Z"
      },
      {
        "duration": 10,
        "start_time": "2021-11-17T09:25:04.387Z"
      },
      {
        "duration": 408,
        "start_time": "2021-11-17T09:25:12.440Z"
      },
      {
        "duration": 185,
        "start_time": "2021-11-17T09:27:00.594Z"
      },
      {
        "duration": 348,
        "start_time": "2021-11-17T09:27:24.580Z"
      },
      {
        "duration": 190,
        "start_time": "2021-11-17T09:27:30.515Z"
      },
      {
        "duration": 187,
        "start_time": "2021-11-17T09:28:20.701Z"
      },
      {
        "duration": 180,
        "start_time": "2021-11-17T09:29:12.369Z"
      },
      {
        "duration": 387,
        "start_time": "2021-11-17T09:29:25.943Z"
      },
      {
        "duration": 174,
        "start_time": "2021-11-17T09:29:33.744Z"
      },
      {
        "duration": 179,
        "start_time": "2021-11-17T09:29:41.948Z"
      },
      {
        "duration": 179,
        "start_time": "2021-11-17T09:29:51.515Z"
      },
      {
        "duration": 299,
        "start_time": "2021-11-17T09:30:12.266Z"
      },
      {
        "duration": 384,
        "start_time": "2021-11-17T09:30:54.342Z"
      },
      {
        "duration": 174,
        "start_time": "2021-11-17T09:31:16.025Z"
      },
      {
        "duration": 171,
        "start_time": "2021-11-17T09:31:26.751Z"
      },
      {
        "duration": 176,
        "start_time": "2021-11-17T09:31:43.968Z"
      },
      {
        "duration": 182,
        "start_time": "2021-11-17T09:32:06.203Z"
      },
      {
        "duration": 376,
        "start_time": "2021-11-17T09:32:14.050Z"
      },
      {
        "duration": 181,
        "start_time": "2021-11-17T09:32:20.466Z"
      },
      {
        "duration": 177,
        "start_time": "2021-11-17T09:33:09.620Z"
      },
      {
        "duration": 177,
        "start_time": "2021-11-17T09:33:20.045Z"
      },
      {
        "duration": 356,
        "start_time": "2021-11-17T09:33:27.746Z"
      },
      {
        "duration": 173,
        "start_time": "2021-11-17T09:33:43.104Z"
      },
      {
        "duration": 7878,
        "start_time": "2021-11-17T09:35:17.034Z"
      },
      {
        "duration": 479,
        "start_time": "2021-11-17T09:35:24.436Z"
      },
      {
        "duration": 14,
        "start_time": "2021-11-17T09:35:35.378Z"
      },
      {
        "duration": 12,
        "start_time": "2021-11-17T09:35:37.432Z"
      },
      {
        "duration": 17,
        "start_time": "2021-11-17T09:39:55.793Z"
      },
      {
        "duration": 11,
        "start_time": "2021-11-17T09:39:56.177Z"
      },
      {
        "duration": 12,
        "start_time": "2021-11-17T09:40:33.592Z"
      },
      {
        "duration": 12,
        "start_time": "2021-11-17T09:40:34.156Z"
      },
      {
        "duration": 13,
        "start_time": "2021-11-17T09:40:50.393Z"
      },
      {
        "duration": 11,
        "start_time": "2021-11-17T09:40:50.914Z"
      },
      {
        "duration": 12,
        "start_time": "2021-11-17T09:41:00.570Z"
      },
      {
        "duration": 17,
        "start_time": "2021-11-17T09:41:00.954Z"
      },
      {
        "duration": 13,
        "start_time": "2021-11-17T09:43:07.948Z"
      },
      {
        "duration": 11,
        "start_time": "2021-11-17T09:43:08.193Z"
      },
      {
        "duration": 7509,
        "start_time": "2021-11-17T09:45:12.168Z"
      },
      {
        "duration": 495,
        "start_time": "2021-11-17T09:45:19.185Z"
      },
      {
        "duration": 4,
        "start_time": "2021-11-17T09:45:21.097Z"
      },
      {
        "duration": 5,
        "start_time": "2021-11-17T09:45:21.983Z"
      },
      {
        "duration": 4,
        "start_time": "2021-11-17T09:45:35.695Z"
      },
      {
        "duration": 5,
        "start_time": "2021-11-17T09:45:35.989Z"
      },
      {
        "duration": 5,
        "start_time": "2021-11-17T09:45:45.026Z"
      },
      {
        "duration": 43,
        "start_time": "2021-11-17T09:56:10.122Z"
      },
      {
        "duration": 15,
        "start_time": "2021-11-17T09:56:10.606Z"
      },
      {
        "duration": 42,
        "start_time": "2021-11-17T09:57:19.915Z"
      },
      {
        "duration": 15,
        "start_time": "2021-11-17T09:57:20.213Z"
      },
      {
        "duration": 45,
        "start_time": "2021-11-17T09:57:20.683Z"
      },
      {
        "duration": 39,
        "start_time": "2021-11-17T09:57:22.003Z"
      },
      {
        "duration": 50,
        "start_time": "2021-11-17T09:57:22.547Z"
      },
      {
        "duration": 5,
        "start_time": "2021-11-17T09:57:25.302Z"
      },
      {
        "duration": 6,
        "start_time": "2021-11-17T09:57:25.708Z"
      },
      {
        "duration": 96,
        "start_time": "2021-11-17T09:57:36.218Z"
      },
      {
        "duration": 6,
        "start_time": "2021-11-17T09:57:36.729Z"
      },
      {
        "duration": 8,
        "start_time": "2021-11-17T09:57:45.198Z"
      },
      {
        "duration": 48,
        "start_time": "2021-11-17T10:06:28.750Z"
      },
      {
        "duration": 15,
        "start_time": "2021-11-17T10:06:29.165Z"
      },
      {
        "duration": 44,
        "start_time": "2021-11-17T10:06:30.322Z"
      },
      {
        "duration": 39,
        "start_time": "2021-11-17T10:06:31.360Z"
      },
      {
        "duration": 52,
        "start_time": "2021-11-17T10:06:32.476Z"
      },
      {
        "duration": 4,
        "start_time": "2021-11-17T10:06:49.754Z"
      },
      {
        "duration": 5,
        "start_time": "2021-11-17T10:06:50.455Z"
      },
      {
        "duration": 282,
        "start_time": "2021-11-17T10:07:27.935Z"
      },
      {
        "duration": 96,
        "start_time": "2021-11-17T10:07:48.696Z"
      },
      {
        "duration": 4,
        "start_time": "2021-11-17T10:08:21.213Z"
      },
      {
        "duration": 5,
        "start_time": "2021-11-17T10:08:26.184Z"
      },
      {
        "duration": 37,
        "start_time": "2021-11-17T10:09:09.154Z"
      },
      {
        "duration": 8,
        "start_time": "2021-11-17T10:09:14.570Z"
      },
      {
        "duration": 42,
        "start_time": "2021-11-17T10:09:37.472Z"
      },
      {
        "duration": 12,
        "start_time": "2021-11-17T10:09:39.532Z"
      },
      {
        "duration": 439,
        "start_time": "2021-11-17T10:09:53.254Z"
      },
      {
        "duration": 9,
        "start_time": "2021-11-17T10:09:53.736Z"
      },
      {
        "duration": 38,
        "start_time": "2021-11-17T10:09:57.858Z"
      },
      {
        "duration": 8,
        "start_time": "2021-11-17T10:09:58.154Z"
      },
      {
        "duration": 39,
        "start_time": "2021-11-17T10:10:56.989Z"
      },
      {
        "duration": 9,
        "start_time": "2021-11-17T10:10:57.474Z"
      },
      {
        "duration": 11,
        "start_time": "2021-11-17T10:11:24.072Z"
      },
      {
        "duration": 5,
        "start_time": "2021-11-17T10:11:24.413Z"
      },
      {
        "duration": 83,
        "start_time": "2021-11-17T10:11:25.332Z"
      },
      {
        "duration": 29,
        "start_time": "2021-11-17T10:11:26.450Z"
      },
      {
        "duration": 24,
        "start_time": "2021-11-17T10:11:27.379Z"
      },
      {
        "duration": 46,
        "start_time": "2021-11-17T10:11:28.153Z"
      },
      {
        "duration": 70,
        "start_time": "2021-11-17T10:11:36.867Z"
      },
      {
        "duration": 104,
        "start_time": "2021-11-17T10:12:09.623Z"
      },
      {
        "duration": 7,
        "start_time": "2021-11-17T10:12:09.971Z"
      },
      {
        "duration": 9,
        "start_time": "2021-11-17T10:12:10.414Z"
      },
      {
        "duration": 181,
        "start_time": "2021-11-17T10:12:13.531Z"
      },
      {
        "duration": 7660,
        "start_time": "2021-11-17T10:13:05.553Z"
      },
      {
        "duration": 398,
        "start_time": "2021-11-17T10:13:22.779Z"
      },
      {
        "duration": 60,
        "start_time": "2021-11-17T10:15:23.006Z"
      },
      {
        "duration": 14,
        "start_time": "2021-11-17T10:15:23.236Z"
      },
      {
        "duration": 68,
        "start_time": "2021-11-17T10:15:33.691Z"
      },
      {
        "duration": 5,
        "start_time": "2021-11-17T10:15:34.015Z"
      },
      {
        "duration": 9,
        "start_time": "2021-11-17T10:15:34.312Z"
      },
      {
        "duration": 108,
        "start_time": "2021-11-17T10:16:06.828Z"
      },
      {
        "duration": 298,
        "start_time": "2021-11-17T10:16:07.195Z"
      },
      {
        "duration": 10,
        "start_time": "2021-11-17T10:16:07.563Z"
      },
      {
        "duration": 110,
        "start_time": "2021-11-17T10:16:17.420Z"
      },
      {
        "duration": 10,
        "start_time": "2021-11-17T10:16:17.716Z"
      },
      {
        "duration": 187,
        "start_time": "2021-11-17T10:16:20.231Z"
      },
      {
        "duration": 399,
        "start_time": "2021-11-17T10:16:39.373Z"
      },
      {
        "duration": 14,
        "start_time": "2021-11-17T10:17:38.764Z"
      },
      {
        "duration": 41,
        "start_time": "2021-11-17T10:17:39.593Z"
      },
      {
        "duration": 15,
        "start_time": "2021-11-17T10:17:52.734Z"
      },
      {
        "duration": 41,
        "start_time": "2021-11-17T10:17:53.050Z"
      },
      {
        "duration": 39,
        "start_time": "2021-11-17T10:17:54.127Z"
      },
      {
        "duration": 48,
        "start_time": "2021-11-17T10:17:54.880Z"
      },
      {
        "duration": 4,
        "start_time": "2021-11-17T10:17:57.549Z"
      },
      {
        "duration": 3,
        "start_time": "2021-11-17T10:17:59.413Z"
      },
      {
        "duration": 5,
        "start_time": "2021-11-17T10:18:00.089Z"
      },
      {
        "duration": 37,
        "start_time": "2021-11-17T10:18:04.093Z"
      },
      {
        "duration": 9,
        "start_time": "2021-11-17T10:18:04.523Z"
      },
      {
        "duration": 104,
        "start_time": "2021-11-17T10:18:16.294Z"
      },
      {
        "duration": 9,
        "start_time": "2021-11-17T10:18:17.099Z"
      },
      {
        "duration": 191,
        "start_time": "2021-11-17T10:18:18.385Z"
      },
      {
        "duration": 13,
        "start_time": "2021-11-17T10:18:26.170Z"
      },
      {
        "duration": 11,
        "start_time": "2021-11-17T10:18:26.598Z"
      },
      {
        "duration": 15,
        "start_time": "2021-11-17T10:19:00.141Z"
      },
      {
        "duration": 45,
        "start_time": "2021-11-17T10:19:01.285Z"
      },
      {
        "duration": 15,
        "start_time": "2021-11-17T10:19:24.543Z"
      },
      {
        "duration": 64,
        "start_time": "2021-11-17T10:20:48.348Z"
      },
      {
        "duration": 44,
        "start_time": "2021-11-17T10:20:48.758Z"
      },
      {
        "duration": 69,
        "start_time": "2021-11-17T10:20:55.899Z"
      },
      {
        "duration": 11,
        "start_time": "2021-11-17T10:20:56.885Z"
      },
      {
        "duration": 74,
        "start_time": "2021-11-17T10:21:44.922Z"
      },
      {
        "duration": 11,
        "start_time": "2021-11-17T10:21:45.223Z"
      },
      {
        "duration": 390,
        "start_time": "2021-11-17T10:21:46.228Z"
      },
      {
        "duration": 412,
        "start_time": "2021-11-17T10:22:15.253Z"
      },
      {
        "duration": 6,
        "start_time": "2021-11-17T10:22:34.410Z"
      },
      {
        "duration": 4,
        "start_time": "2021-11-17T10:22:34.644Z"
      },
      {
        "duration": 6,
        "start_time": "2021-11-17T10:22:34.923Z"
      },
      {
        "duration": 15,
        "start_time": "2021-11-17T10:22:36.747Z"
      },
      {
        "duration": 38,
        "start_time": "2021-11-17T10:22:37.843Z"
      },
      {
        "duration": 12,
        "start_time": "2021-11-17T10:22:38.427Z"
      },
      {
        "duration": 44,
        "start_time": "2021-11-17T10:22:55.794Z"
      },
      {
        "duration": 74,
        "start_time": "2021-11-17T10:22:56.908Z"
      },
      {
        "duration": 11,
        "start_time": "2021-11-17T10:22:57.561Z"
      },
      {
        "duration": 29,
        "start_time": "2021-11-17T10:23:27.657Z"
      },
      {
        "duration": 413,
        "start_time": "2021-11-17T10:23:28.230Z"
      },
      {
        "duration": 520,
        "start_time": "2021-11-17T10:23:28.125Z"
      },
      {
        "duration": 28,
        "start_time": "2021-11-17T10:23:39.728Z"
      },
      {
        "duration": 368,
        "start_time": "2021-11-17T10:23:40.895Z"
      },
      {
        "duration": 66,
        "start_time": "2021-11-17T10:23:48.792Z"
      },
      {
        "duration": 18,
        "start_time": "2021-11-17T10:23:49.081Z"
      },
      {
        "duration": 218,
        "start_time": "2021-11-17T10:23:49.628Z"
      },
      {
        "duration": 5,
        "start_time": "2021-11-17T10:23:49.849Z"
      },
      {
        "duration": 9,
        "start_time": "2021-11-17T10:23:50.365Z"
      },
      {
        "duration": 6,
        "start_time": "2021-11-17T10:23:50.829Z"
      },
      {
        "duration": 90,
        "start_time": "2021-11-17T10:23:51.912Z"
      },
      {
        "duration": 29,
        "start_time": "2021-11-17T10:23:53.289Z"
      },
      {
        "duration": 357,
        "start_time": "2021-11-17T10:23:54.657Z"
      },
      {
        "duration": 57,
        "start_time": "2021-11-17T10:24:17.557Z"
      },
      {
        "duration": 44,
        "start_time": "2021-11-17T10:24:18.631Z"
      },
      {
        "duration": 72,
        "start_time": "2021-11-17T10:24:24.839Z"
      },
      {
        "duration": 11,
        "start_time": "2021-11-17T10:24:25.781Z"
      },
      {
        "duration": 74,
        "start_time": "2021-11-17T10:24:56.769Z"
      },
      {
        "duration": 12,
        "start_time": "2021-11-17T10:24:57.318Z"
      },
      {
        "duration": 16,
        "start_time": "2021-11-17T10:27:01.012Z"
      },
      {
        "duration": 7,
        "start_time": "2021-11-17T10:27:08.501Z"
      },
      {
        "duration": 11,
        "start_time": "2021-11-17T10:27:15.894Z"
      },
      {
        "duration": 11,
        "start_time": "2021-11-17T10:27:22.623Z"
      },
      {
        "duration": 11,
        "start_time": "2021-11-17T10:27:43.458Z"
      },
      {
        "duration": 7,
        "start_time": "2021-11-17T10:27:57.835Z"
      },
      {
        "duration": 7,
        "start_time": "2021-11-17T10:28:03.025Z"
      },
      {
        "duration": 15,
        "start_time": "2021-11-17T10:28:23.841Z"
      },
      {
        "duration": 21,
        "start_time": "2021-11-17T10:28:27.476Z"
      },
      {
        "duration": 12,
        "start_time": "2021-11-17T10:30:40.509Z"
      },
      {
        "duration": 187,
        "start_time": "2021-11-17T10:30:41.192Z"
      },
      {
        "duration": 13,
        "start_time": "2021-11-17T10:30:47.540Z"
      },
      {
        "duration": 11,
        "start_time": "2021-11-17T10:30:47.777Z"
      },
      {
        "duration": 5,
        "start_time": "2021-11-17T10:30:49.162Z"
      },
      {
        "duration": 5,
        "start_time": "2021-11-17T10:30:49.478Z"
      },
      {
        "duration": 15,
        "start_time": "2021-11-17T10:30:51.733Z"
      },
      {
        "duration": 41,
        "start_time": "2021-11-17T10:30:52.140Z"
      },
      {
        "duration": 41,
        "start_time": "2021-11-17T10:30:52.870Z"
      },
      {
        "duration": 51,
        "start_time": "2021-11-17T10:30:54.137Z"
      },
      {
        "duration": 6,
        "start_time": "2021-11-17T10:31:20.287Z"
      },
      {
        "duration": 4,
        "start_time": "2021-11-17T10:31:20.561Z"
      },
      {
        "duration": 6,
        "start_time": "2021-11-17T10:31:20.837Z"
      },
      {
        "duration": 14,
        "start_time": "2021-11-17T10:31:21.639Z"
      },
      {
        "duration": 39,
        "start_time": "2021-11-17T10:31:22.037Z"
      },
      {
        "duration": 9,
        "start_time": "2021-11-17T10:31:22.293Z"
      },
      {
        "duration": 8,
        "start_time": "2021-11-17T10:32:37.050Z"
      },
      {
        "duration": 8,
        "start_time": "2021-11-17T10:32:39.788Z"
      },
      {
        "duration": 4455,
        "start_time": "2021-11-17T10:33:02.458Z"
      },
      {
        "duration": 8,
        "start_time": "2021-11-17T10:33:12.307Z"
      },
      {
        "duration": 4569,
        "start_time": "2021-11-17T10:33:16.059Z"
      },
      {
        "duration": 8,
        "start_time": "2021-11-17T10:33:23.279Z"
      },
      {
        "duration": 53,
        "start_time": "2021-11-17T10:33:33.034Z"
      },
      {
        "duration": 5,
        "start_time": "2021-11-17T10:33:34.211Z"
      },
      {
        "duration": 49,
        "start_time": "2021-11-17T10:33:50.246Z"
      },
      {
        "duration": 5,
        "start_time": "2021-11-17T10:33:50.589Z"
      },
      {
        "duration": 7,
        "start_time": "2021-11-17T10:33:52.563Z"
      },
      {
        "duration": 298,
        "start_time": "2021-11-17T10:39:34.342Z"
      },
      {
        "duration": 6,
        "start_time": "2021-11-17T10:39:38.560Z"
      },
      {
        "duration": 6,
        "start_time": "2021-11-17T10:40:07.077Z"
      },
      {
        "duration": 4,
        "start_time": "2021-11-17T10:40:38.554Z"
      },
      {
        "duration": 6,
        "start_time": "2021-11-17T10:40:42.797Z"
      },
      {
        "duration": 3,
        "start_time": "2021-11-17T10:40:57.565Z"
      },
      {
        "duration": 291,
        "start_time": "2021-11-17T10:41:10.186Z"
      },
      {
        "duration": 5,
        "start_time": "2021-11-17T10:41:24.130Z"
      },
      {
        "duration": 16,
        "start_time": "2021-11-17T10:42:00.349Z"
      },
      {
        "duration": 4,
        "start_time": "2021-11-17T10:42:02.542Z"
      },
      {
        "duration": 136,
        "start_time": "2021-11-17T10:42:03.319Z"
      },
      {
        "duration": 178,
        "start_time": "2021-11-17T10:42:43.890Z"
      },
      {
        "duration": 197,
        "start_time": "2021-11-17T10:42:59.513Z"
      },
      {
        "duration": 442,
        "start_time": "2021-11-17T10:43:05.701Z"
      },
      {
        "duration": 5,
        "start_time": "2021-11-17T10:43:33.819Z"
      },
      {
        "duration": 5,
        "start_time": "2021-11-17T10:43:34.005Z"
      },
      {
        "duration": 535,
        "start_time": "2021-11-17T10:43:46.693Z"
      },
      {
        "duration": 521,
        "start_time": "2021-11-17T10:44:03.129Z"
      },
      {
        "duration": 212,
        "start_time": "2021-11-17T10:44:14.747Z"
      },
      {
        "duration": 177,
        "start_time": "2021-11-17T10:44:55.948Z"
      },
      {
        "duration": 15,
        "start_time": "2021-11-17T10:45:14.498Z"
      },
      {
        "duration": 3,
        "start_time": "2021-11-17T10:45:20.322Z"
      },
      {
        "duration": 199,
        "start_time": "2021-11-17T10:45:20.669Z"
      },
      {
        "duration": 10,
        "start_time": "2021-11-17T10:47:49.180Z"
      },
      {
        "duration": 9,
        "start_time": "2021-11-17T10:47:54.741Z"
      },
      {
        "duration": 9,
        "start_time": "2021-11-17T10:48:01.806Z"
      },
      {
        "duration": 14,
        "start_time": "2021-11-17T10:48:40.609Z"
      },
      {
        "duration": 4,
        "start_time": "2021-11-17T10:48:43.897Z"
      },
      {
        "duration": 191,
        "start_time": "2021-11-17T10:48:44.339Z"
      },
      {
        "duration": 168,
        "start_time": "2021-11-17T10:48:48.483Z"
      },
      {
        "duration": 186,
        "start_time": "2021-11-17T10:49:22.106Z"
      },
      {
        "duration": 190,
        "start_time": "2021-11-17T10:50:04.172Z"
      },
      {
        "duration": 182,
        "start_time": "2021-11-17T10:50:48.090Z"
      },
      {
        "duration": 106,
        "start_time": "2021-11-17T10:51:08.407Z"
      },
      {
        "duration": 5,
        "start_time": "2021-11-17T10:51:34.834Z"
      },
      {
        "duration": 3,
        "start_time": "2021-11-17T10:51:42.771Z"
      },
      {
        "duration": 174,
        "start_time": "2021-11-17T10:51:43.227Z"
      },
      {
        "duration": 191,
        "start_time": "2021-11-17T10:51:45.006Z"
      },
      {
        "duration": 188,
        "start_time": "2021-11-17T10:51:47.545Z"
      },
      {
        "duration": 181,
        "start_time": "2021-11-17T10:51:51.593Z"
      },
      {
        "duration": 4,
        "start_time": "2021-11-17T10:51:56.118Z"
      },
      {
        "duration": 653,
        "start_time": "2021-11-17T10:52:42.973Z"
      },
      {
        "duration": 670,
        "start_time": "2021-11-17T10:52:50.733Z"
      },
      {
        "duration": 14,
        "start_time": "2021-11-17T10:53:44.807Z"
      },
      {
        "duration": 187,
        "start_time": "2021-11-17T10:53:50.207Z"
      },
      {
        "duration": 171,
        "start_time": "2021-11-17T10:53:56.608Z"
      },
      {
        "duration": 186,
        "start_time": "2021-11-17T10:54:08.805Z"
      },
      {
        "duration": 187,
        "start_time": "2021-11-17T10:54:29.488Z"
      },
      {
        "duration": 222,
        "start_time": "2021-11-17T10:56:00.921Z"
      },
      {
        "duration": 1999,
        "start_time": "2021-11-17T10:57:37.987Z"
      },
      {
        "duration": 4,
        "start_time": "2021-11-17T10:57:39.989Z"
      },
      {
        "duration": 29,
        "start_time": "2021-11-17T10:57:39.997Z"
      },
      {
        "duration": 21,
        "start_time": "2021-11-17T10:57:40.028Z"
      },
      {
        "duration": 438,
        "start_time": "2021-11-17T10:57:40.051Z"
      },
      {
        "duration": 855,
        "start_time": "2021-11-17T10:57:40.491Z"
      },
      {
        "duration": 166,
        "start_time": "2021-11-17T10:57:41.349Z"
      },
      {
        "duration": 81,
        "start_time": "2021-11-17T10:57:41.518Z"
      },
      {
        "duration": 11,
        "start_time": "2021-11-17T10:57:41.602Z"
      },
      {
        "duration": 22,
        "start_time": "2021-11-17T10:57:41.630Z"
      },
      {
        "duration": 110,
        "start_time": "2021-11-17T10:57:41.655Z"
      },
      {
        "duration": 207,
        "start_time": "2021-11-17T10:57:41.767Z"
      },
      {
        "duration": 300,
        "start_time": "2021-11-17T10:57:41.977Z"
      },
      {
        "duration": 18,
        "start_time": "2021-11-17T10:57:42.279Z"
      },
      {
        "duration": 1383,
        "start_time": "2021-11-17T10:57:42.300Z"
      },
      {
        "duration": 18,
        "start_time": "2021-11-17T10:57:43.686Z"
      },
      {
        "duration": 57,
        "start_time": "2021-11-17T10:57:43.707Z"
      },
      {
        "duration": 14,
        "start_time": "2021-11-17T10:57:43.766Z"
      },
      {
        "duration": 500,
        "start_time": "2021-11-17T10:57:43.782Z"
      },
      {
        "duration": 61,
        "start_time": "2021-11-17T10:57:44.284Z"
      },
      {
        "duration": 605,
        "start_time": "2021-11-17T10:57:44.347Z"
      },
      {
        "duration": 960,
        "start_time": "2021-11-17T10:57:44.954Z"
      },
      {
        "duration": 2041,
        "start_time": "2021-11-17T10:57:45.929Z"
      },
      {
        "duration": 18,
        "start_time": "2021-11-17T10:57:47.974Z"
      },
      {
        "duration": 34,
        "start_time": "2021-11-17T10:57:47.994Z"
      },
      {
        "duration": 951,
        "start_time": "2021-11-17T10:57:48.031Z"
      },
      {
        "duration": 18,
        "start_time": "2021-11-17T10:57:48.984Z"
      },
      {
        "duration": 63,
        "start_time": "2021-11-17T10:57:49.005Z"
      },
      {
        "duration": 61,
        "start_time": "2021-11-17T10:57:49.070Z"
      },
      {
        "duration": 44,
        "start_time": "2021-11-17T10:57:49.134Z"
      },
      {
        "duration": 696,
        "start_time": "2021-11-17T10:57:49.181Z"
      },
      {
        "duration": 83,
        "start_time": "2021-11-17T10:57:49.879Z"
      },
      {
        "duration": 19,
        "start_time": "2021-11-17T10:57:49.965Z"
      },
      {
        "duration": 237,
        "start_time": "2021-11-17T10:57:49.987Z"
      },
      {
        "duration": 5,
        "start_time": "2021-11-17T10:57:50.230Z"
      },
      {
        "duration": 12,
        "start_time": "2021-11-17T10:57:50.237Z"
      },
      {
        "duration": 5,
        "start_time": "2021-11-17T10:57:50.251Z"
      },
      {
        "duration": 104,
        "start_time": "2021-11-17T10:57:50.258Z"
      },
      {
        "duration": 28,
        "start_time": "2021-11-17T10:57:50.365Z"
      },
      {
        "duration": 80,
        "start_time": "2021-11-17T10:57:50.395Z"
      },
      {
        "duration": 53,
        "start_time": "2021-11-17T10:57:50.477Z"
      },
      {
        "duration": 83,
        "start_time": "2021-11-17T10:57:50.533Z"
      },
      {
        "duration": 473,
        "start_time": "2021-11-17T10:57:50.630Z"
      },
      {
        "duration": 469,
        "start_time": "2021-11-17T10:57:50.637Z"
      },
      {
        "duration": 466,
        "start_time": "2021-11-17T10:57:50.641Z"
      },
      {
        "duration": 465,
        "start_time": "2021-11-17T10:57:50.644Z"
      },
      {
        "duration": 462,
        "start_time": "2021-11-17T10:57:50.648Z"
      },
      {
        "duration": 460,
        "start_time": "2021-11-17T10:57:50.652Z"
      },
      {
        "duration": 458,
        "start_time": "2021-11-17T10:57:50.655Z"
      },
      {
        "duration": 455,
        "start_time": "2021-11-17T10:57:50.660Z"
      },
      {
        "duration": 448,
        "start_time": "2021-11-17T10:57:50.668Z"
      },
      {
        "duration": 444,
        "start_time": "2021-11-17T10:57:50.673Z"
      },
      {
        "duration": 442,
        "start_time": "2021-11-17T10:57:50.677Z"
      },
      {
        "duration": 439,
        "start_time": "2021-11-17T10:57:50.681Z"
      },
      {
        "duration": 434,
        "start_time": "2021-11-17T10:57:50.687Z"
      },
      {
        "duration": 432,
        "start_time": "2021-11-17T10:57:50.691Z"
      },
      {
        "duration": 429,
        "start_time": "2021-11-17T10:57:50.695Z"
      },
      {
        "duration": 427,
        "start_time": "2021-11-17T10:57:50.698Z"
      },
      {
        "duration": 422,
        "start_time": "2021-11-17T10:57:50.705Z"
      },
      {
        "duration": 420,
        "start_time": "2021-11-17T10:57:50.708Z"
      },
      {
        "duration": 419,
        "start_time": "2021-11-17T10:57:50.711Z"
      },
      {
        "duration": 417,
        "start_time": "2021-11-17T10:57:50.714Z"
      },
      {
        "duration": 413,
        "start_time": "2021-11-17T10:57:50.720Z"
      },
      {
        "duration": 410,
        "start_time": "2021-11-17T10:57:50.724Z"
      },
      {
        "duration": 408,
        "start_time": "2021-11-17T10:57:50.728Z"
      },
      {
        "duration": 406,
        "start_time": "2021-11-17T10:57:50.731Z"
      },
      {
        "duration": 402,
        "start_time": "2021-11-17T10:57:50.737Z"
      },
      {
        "duration": 399,
        "start_time": "2021-11-17T10:57:50.741Z"
      },
      {
        "duration": 397,
        "start_time": "2021-11-17T10:57:50.744Z"
      },
      {
        "duration": 397,
        "start_time": "2021-11-17T10:57:50.746Z"
      },
      {
        "duration": 392,
        "start_time": "2021-11-17T10:57:50.752Z"
      },
      {
        "duration": 10,
        "start_time": "2021-11-17T11:00:10.735Z"
      },
      {
        "duration": 4,
        "start_time": "2021-11-17T11:00:17.444Z"
      },
      {
        "duration": 1106,
        "start_time": "2021-11-17T11:00:20.625Z"
      },
      {
        "duration": 15,
        "start_time": "2021-11-17T11:00:26.947Z"
      },
      {
        "duration": 11,
        "start_time": "2021-11-17T11:00:27.241Z"
      },
      {
        "duration": 2190,
        "start_time": "2021-11-17T11:00:44.486Z"
      },
      {
        "duration": 4,
        "start_time": "2021-11-17T11:00:46.679Z"
      },
      {
        "duration": 30,
        "start_time": "2021-11-17T11:00:46.686Z"
      },
      {
        "duration": 21,
        "start_time": "2021-11-17T11:00:46.719Z"
      },
      {
        "duration": 438,
        "start_time": "2021-11-17T11:00:46.742Z"
      },
      {
        "duration": 858,
        "start_time": "2021-11-17T11:00:47.183Z"
      },
      {
        "duration": 168,
        "start_time": "2021-11-17T11:00:48.044Z"
      },
      {
        "duration": 84,
        "start_time": "2021-11-17T11:00:48.215Z"
      },
      {
        "duration": 35,
        "start_time": "2021-11-17T11:00:48.302Z"
      },
      {
        "duration": 32,
        "start_time": "2021-11-17T11:00:48.339Z"
      },
      {
        "duration": 121,
        "start_time": "2021-11-17T11:00:48.373Z"
      },
      {
        "duration": 378,
        "start_time": "2021-11-17T11:00:48.496Z"
      },
      {
        "duration": 490,
        "start_time": "2021-11-17T11:00:48.876Z"
      },
      {
        "duration": 15,
        "start_time": "2021-11-17T11:00:49.369Z"
      },
      {
        "duration": 1610,
        "start_time": "2021-11-17T11:00:49.386Z"
      },
      {
        "duration": 30,
        "start_time": "2021-11-17T11:00:50.999Z"
      },
      {
        "duration": 44,
        "start_time": "2021-11-17T11:00:51.032Z"
      },
      {
        "duration": 13,
        "start_time": "2021-11-17T11:00:51.078Z"
      },
      {
        "duration": 623,
        "start_time": "2021-11-17T11:00:51.093Z"
      },
      {
        "duration": 52,
        "start_time": "2021-11-17T11:00:51.719Z"
      },
      {
        "duration": 650,
        "start_time": "2021-11-17T11:00:51.774Z"
      },
      {
        "duration": 974,
        "start_time": "2021-11-17T11:00:52.429Z"
      },
      {
        "duration": 2074,
        "start_time": "2021-11-17T11:00:53.409Z"
      },
      {
        "duration": 18,
        "start_time": "2021-11-17T11:00:55.486Z"
      },
      {
        "duration": 30,
        "start_time": "2021-11-17T11:00:55.506Z"
      },
      {
        "duration": 985,
        "start_time": "2021-11-17T11:00:55.539Z"
      },
      {
        "duration": 18,
        "start_time": "2021-11-17T11:00:56.526Z"
      },
      {
        "duration": 64,
        "start_time": "2021-11-17T11:00:56.547Z"
      },
      {
        "duration": 49,
        "start_time": "2021-11-17T11:00:56.613Z"
      },
      {
        "duration": 47,
        "start_time": "2021-11-17T11:00:56.664Z"
      },
      {
        "duration": 673,
        "start_time": "2021-11-17T11:00:56.729Z"
      },
      {
        "duration": 83,
        "start_time": "2021-11-17T11:00:57.405Z"
      },
      {
        "duration": 19,
        "start_time": "2021-11-17T11:00:57.490Z"
      },
      {
        "duration": 233,
        "start_time": "2021-11-17T11:00:57.512Z"
      },
      {
        "duration": 5,
        "start_time": "2021-11-17T11:00:57.748Z"
      },
      {
        "duration": 11,
        "start_time": "2021-11-17T11:00:57.756Z"
      },
      {
        "duration": 5,
        "start_time": "2021-11-17T11:00:57.770Z"
      },
      {
        "duration": 116,
        "start_time": "2021-11-17T11:00:57.778Z"
      },
      {
        "duration": 40,
        "start_time": "2021-11-17T11:00:57.896Z"
      },
      {
        "duration": 58,
        "start_time": "2021-11-17T11:00:57.938Z"
      },
      {
        "duration": 61,
        "start_time": "2021-11-17T11:00:57.999Z"
      },
      {
        "duration": 87,
        "start_time": "2021-11-17T11:00:58.062Z"
      },
      {
        "duration": 8,
        "start_time": "2021-11-17T11:00:58.151Z"
      },
      {
        "duration": 6,
        "start_time": "2021-11-17T11:00:58.162Z"
      },
      {
        "duration": 921,
        "start_time": "2021-11-17T11:00:58.170Z"
      },
      {
        "duration": 42,
        "start_time": "2021-11-17T11:00:59.093Z"
      },
      {
        "duration": 22,
        "start_time": "2021-11-17T11:00:59.137Z"
      },
      {
        "duration": 5,
        "start_time": "2021-11-17T11:00:59.161Z"
      },
      {
        "duration": 6,
        "start_time": "2021-11-17T11:00:59.169Z"
      },
      {
        "duration": 63,
        "start_time": "2021-11-17T11:00:59.178Z"
      },
      {
        "duration": 93,
        "start_time": "2021-11-17T11:00:59.244Z"
      },
      {
        "duration": 37,
        "start_time": "2021-11-17T11:00:59.340Z"
      },
      {
        "duration": 102,
        "start_time": "2021-11-17T11:00:59.379Z"
      },
      {
        "duration": 4,
        "start_time": "2021-11-17T11:00:59.484Z"
      },
      {
        "duration": 8,
        "start_time": "2021-11-17T11:00:59.490Z"
      },
      {
        "duration": 41,
        "start_time": "2021-11-17T11:00:59.501Z"
      },
      {
        "duration": 47,
        "start_time": "2021-11-17T11:00:59.544Z"
      },
      {
        "duration": 8,
        "start_time": "2021-11-17T11:00:59.594Z"
      },
      {
        "duration": 70,
        "start_time": "2021-11-17T11:00:59.604Z"
      },
      {
        "duration": 5,
        "start_time": "2021-11-17T11:00:59.676Z"
      },
      {
        "duration": 10,
        "start_time": "2021-11-17T11:00:59.683Z"
      },
      {
        "duration": 42,
        "start_time": "2021-11-17T11:00:59.695Z"
      },
      {
        "duration": 14,
        "start_time": "2021-11-17T11:00:59.739Z"
      },
      {
        "duration": 201,
        "start_time": "2021-11-17T11:00:59.755Z"
      },
      {
        "duration": 206,
        "start_time": "2021-11-17T11:00:59.958Z"
      },
      {
        "duration": 202,
        "start_time": "2021-11-17T11:01:00.166Z"
      },
      {
        "duration": 232,
        "start_time": "2021-11-17T11:01:00.370Z"
      },
      {
        "duration": 4,
        "start_time": "2021-11-17T11:01:00.609Z"
      },
      {
        "duration": 211,
        "start_time": "2021-11-17T11:01:00.630Z"
      },
      {
        "duration": 214,
        "start_time": "2021-11-17T11:01:00.844Z"
      },
      {
        "duration": 217,
        "start_time": "2021-11-17T11:01:01.061Z"
      },
      {
        "duration": 259,
        "start_time": "2021-11-17T11:01:01.280Z"
      },
      {
        "duration": 1945,
        "start_time": "2021-11-17T11:10:15.877Z"
      },
      {
        "duration": 4,
        "start_time": "2021-11-17T11:10:17.825Z"
      },
      {
        "duration": 13,
        "start_time": "2021-11-17T11:10:17.832Z"
      },
      {
        "duration": 8,
        "start_time": "2021-11-17T11:10:17.849Z"
      },
      {
        "duration": 423,
        "start_time": "2021-11-17T11:10:17.859Z"
      },
      {
        "duration": 948,
        "start_time": "2021-11-17T11:10:18.285Z"
      },
      {
        "duration": 167,
        "start_time": "2021-11-17T11:10:19.236Z"
      },
      {
        "duration": 84,
        "start_time": "2021-11-17T11:10:19.407Z"
      },
      {
        "duration": 12,
        "start_time": "2021-11-17T11:10:19.494Z"
      },
      {
        "duration": 14,
        "start_time": "2021-11-17T11:10:19.528Z"
      },
      {
        "duration": 111,
        "start_time": "2021-11-17T11:10:19.545Z"
      },
      {
        "duration": 193,
        "start_time": "2021-11-17T11:10:19.659Z"
      },
      {
        "duration": 317,
        "start_time": "2021-11-17T11:10:19.854Z"
      },
      {
        "duration": 17,
        "start_time": "2021-11-17T11:10:20.173Z"
      },
      {
        "duration": 1536,
        "start_time": "2021-11-17T11:10:20.193Z"
      },
      {
        "duration": 18,
        "start_time": "2021-11-17T11:10:21.731Z"
      },
      {
        "duration": 44,
        "start_time": "2021-11-17T11:10:21.752Z"
      },
      {
        "duration": 39,
        "start_time": "2021-11-17T11:10:21.798Z"
      },
      {
        "duration": 494,
        "start_time": "2021-11-17T11:10:21.839Z"
      },
      {
        "duration": 47,
        "start_time": "2021-11-17T11:10:22.336Z"
      },
      {
        "duration": 666,
        "start_time": "2021-11-17T11:10:22.386Z"
      },
      {
        "duration": 987,
        "start_time": "2021-11-17T11:10:23.055Z"
      },
      {
        "duration": 2135,
        "start_time": "2021-11-17T11:10:24.048Z"
      },
      {
        "duration": 18,
        "start_time": "2021-11-17T11:10:26.187Z"
      },
      {
        "duration": 29,
        "start_time": "2021-11-17T11:10:26.207Z"
      },
      {
        "duration": 968,
        "start_time": "2021-11-17T11:10:26.239Z"
      },
      {
        "duration": 22,
        "start_time": "2021-11-17T11:10:27.209Z"
      },
      {
        "duration": 39,
        "start_time": "2021-11-17T11:10:27.234Z"
      },
      {
        "duration": 67,
        "start_time": "2021-11-17T11:10:27.275Z"
      },
      {
        "duration": 44,
        "start_time": "2021-11-17T11:10:27.344Z"
      },
      {
        "duration": 693,
        "start_time": "2021-11-17T11:10:27.390Z"
      },
      {
        "duration": 78,
        "start_time": "2021-11-17T11:10:28.085Z"
      },
      {
        "duration": 19,
        "start_time": "2021-11-17T11:10:28.165Z"
      },
      {
        "duration": 231,
        "start_time": "2021-11-17T11:10:28.186Z"
      },
      {
        "duration": 13,
        "start_time": "2021-11-17T11:10:28.419Z"
      },
      {
        "duration": 13,
        "start_time": "2021-11-17T11:10:28.434Z"
      },
      {
        "duration": 9,
        "start_time": "2021-11-17T11:10:28.449Z"
      },
      {
        "duration": 98,
        "start_time": "2021-11-17T11:10:28.460Z"
      },
      {
        "duration": 28,
        "start_time": "2021-11-17T11:10:28.561Z"
      },
      {
        "duration": 78,
        "start_time": "2021-11-17T11:10:28.592Z"
      },
      {
        "duration": 56,
        "start_time": "2021-11-17T11:10:28.673Z"
      },
      {
        "duration": 75,
        "start_time": "2021-11-17T11:10:28.731Z"
      },
      {
        "duration": 22,
        "start_time": "2021-11-17T11:10:28.808Z"
      },
      {
        "duration": 14,
        "start_time": "2021-11-17T11:10:28.832Z"
      },
      {
        "duration": 894,
        "start_time": "2021-11-17T11:10:28.848Z"
      },
      {
        "duration": 15,
        "start_time": "2021-11-17T11:10:29.744Z"
      },
      {
        "duration": 70,
        "start_time": "2021-11-17T11:10:29.761Z"
      },
      {
        "duration": 5,
        "start_time": "2021-11-17T11:10:29.834Z"
      },
      {
        "duration": 9,
        "start_time": "2021-11-17T11:10:29.842Z"
      },
      {
        "duration": 22,
        "start_time": "2021-11-17T11:10:29.854Z"
      },
      {
        "duration": 114,
        "start_time": "2021-11-17T11:10:29.930Z"
      },
      {
        "duration": 103,
        "start_time": "2021-11-17T11:10:30.047Z"
      },
      {
        "duration": 92,
        "start_time": "2021-11-17T11:10:30.153Z"
      },
      {
        "duration": 5,
        "start_time": "2021-11-17T11:10:30.248Z"
      },
      {
        "duration": 17,
        "start_time": "2021-11-17T11:10:30.256Z"
      },
      {
        "duration": 26,
        "start_time": "2021-11-17T11:10:30.276Z"
      },
      {
        "duration": 72,
        "start_time": "2021-11-17T11:10:30.305Z"
      },
      {
        "duration": 10,
        "start_time": "2021-11-17T11:10:30.380Z"
      },
      {
        "duration": 67,
        "start_time": "2021-11-17T11:10:30.393Z"
      },
      {
        "duration": 6,
        "start_time": "2021-11-17T11:10:30.462Z"
      },
      {
        "duration": 19,
        "start_time": "2021-11-17T11:10:30.471Z"
      },
      {
        "duration": 36,
        "start_time": "2021-11-17T11:10:30.493Z"
      },
      {
        "duration": 22,
        "start_time": "2021-11-17T11:10:30.531Z"
      },
      {
        "duration": 211,
        "start_time": "2021-11-17T11:10:30.555Z"
      },
      {
        "duration": 209,
        "start_time": "2021-11-17T11:10:30.768Z"
      },
      {
        "duration": 206,
        "start_time": "2021-11-17T11:10:30.979Z"
      },
      {
        "duration": 241,
        "start_time": "2021-11-17T11:10:31.188Z"
      },
      {
        "duration": 4,
        "start_time": "2021-11-17T11:10:31.436Z"
      },
      {
        "duration": 220,
        "start_time": "2021-11-17T11:10:31.443Z"
      },
      {
        "duration": 214,
        "start_time": "2021-11-17T11:10:31.666Z"
      },
      {
        "duration": 318,
        "start_time": "2021-11-17T11:10:31.883Z"
      },
      {
        "duration": 247,
        "start_time": "2021-11-17T11:10:32.204Z"
      },
      {
        "duration": 1942,
        "start_time": "2021-11-17T11:41:03.462Z"
      },
      {
        "duration": 5,
        "start_time": "2021-11-17T11:41:05.406Z"
      },
      {
        "duration": 14,
        "start_time": "2021-11-17T11:41:05.414Z"
      },
      {
        "duration": 12,
        "start_time": "2021-11-17T11:41:05.430Z"
      },
      {
        "duration": 416,
        "start_time": "2021-11-17T11:41:05.445Z"
      },
      {
        "duration": 848,
        "start_time": "2021-11-17T11:41:05.864Z"
      },
      {
        "duration": 164,
        "start_time": "2021-11-17T11:41:06.715Z"
      },
      {
        "duration": 88,
        "start_time": "2021-11-17T11:41:06.883Z"
      },
      {
        "duration": 12,
        "start_time": "2021-11-17T11:41:06.974Z"
      },
      {
        "duration": 12,
        "start_time": "2021-11-17T11:41:06.988Z"
      },
      {
        "duration": 88,
        "start_time": "2021-11-17T11:41:07.030Z"
      },
      {
        "duration": 190,
        "start_time": "2021-11-17T11:41:07.129Z"
      },
      {
        "duration": 307,
        "start_time": "2021-11-17T11:41:07.322Z"
      },
      {
        "duration": 15,
        "start_time": "2021-11-17T11:41:07.631Z"
      },
      {
        "duration": 1351,
        "start_time": "2021-11-17T11:41:07.648Z"
      },
      {
        "duration": 28,
        "start_time": "2021-11-17T11:41:09.001Z"
      },
      {
        "duration": 43,
        "start_time": "2021-11-17T11:41:09.032Z"
      },
      {
        "duration": 13,
        "start_time": "2021-11-17T11:41:09.077Z"
      },
      {
        "duration": 492,
        "start_time": "2021-11-17T11:41:09.093Z"
      },
      {
        "duration": 61,
        "start_time": "2021-11-17T11:41:09.587Z"
      },
      {
        "duration": 625,
        "start_time": "2021-11-17T11:41:09.650Z"
      },
      {
        "duration": 945,
        "start_time": "2021-11-17T11:41:10.277Z"
      },
      {
        "duration": 2008,
        "start_time": "2021-11-17T11:41:11.228Z"
      },
      {
        "duration": 18,
        "start_time": "2021-11-17T11:41:13.239Z"
      },
      {
        "duration": 15,
        "start_time": "2021-11-17T11:41:13.260Z"
      },
      {
        "duration": 999,
        "start_time": "2021-11-17T11:41:13.277Z"
      },
      {
        "duration": 19,
        "start_time": "2021-11-17T11:41:14.279Z"
      },
      {
        "duration": 62,
        "start_time": "2021-11-17T11:41:14.300Z"
      },
      {
        "duration": 45,
        "start_time": "2021-11-17T11:41:14.365Z"
      },
      {
        "duration": 46,
        "start_time": "2021-11-17T11:41:14.429Z"
      },
      {
        "duration": 725,
        "start_time": "2021-11-17T11:41:14.478Z"
      },
      {
        "duration": 81,
        "start_time": "2021-11-17T11:41:15.206Z"
      },
      {
        "duration": 19,
        "start_time": "2021-11-17T11:41:15.289Z"
      },
      {
        "duration": 236,
        "start_time": "2021-11-17T11:41:15.310Z"
      },
      {
        "duration": 5,
        "start_time": "2021-11-17T11:41:15.548Z"
      },
      {
        "duration": 14,
        "start_time": "2021-11-17T11:41:15.555Z"
      },
      {
        "duration": 7,
        "start_time": "2021-11-17T11:41:15.571Z"
      },
      {
        "duration": 107,
        "start_time": "2021-11-17T11:41:15.580Z"
      },
      {
        "duration": 40,
        "start_time": "2021-11-17T11:41:15.689Z"
      },
      {
        "duration": 58,
        "start_time": "2021-11-17T11:41:15.731Z"
      },
      {
        "duration": 57,
        "start_time": "2021-11-17T11:41:15.792Z"
      },
      {
        "duration": 94,
        "start_time": "2021-11-17T11:41:15.852Z"
      },
      {
        "duration": 9,
        "start_time": "2021-11-17T11:41:15.949Z"
      },
      {
        "duration": 9,
        "start_time": "2021-11-17T11:41:15.960Z"
      },
      {
        "duration": 920,
        "start_time": "2021-11-17T11:41:15.971Z"
      },
      {
        "duration": 40,
        "start_time": "2021-11-17T11:41:16.893Z"
      },
      {
        "duration": 16,
        "start_time": "2021-11-17T11:41:16.936Z"
      },
      {
        "duration": 5,
        "start_time": "2021-11-17T11:41:16.954Z"
      },
      {
        "duration": 13,
        "start_time": "2021-11-17T11:41:16.961Z"
      },
      {
        "duration": 65,
        "start_time": "2021-11-17T11:41:16.977Z"
      },
      {
        "duration": 99,
        "start_time": "2021-11-17T11:41:17.044Z"
      },
      {
        "duration": 90,
        "start_time": "2021-11-17T11:41:17.146Z"
      },
      {
        "duration": 51,
        "start_time": "2021-11-17T11:41:17.239Z"
      },
      {
        "duration": 4,
        "start_time": "2021-11-17T11:41:17.293Z"
      },
      {
        "duration": 8,
        "start_time": "2021-11-17T11:41:17.299Z"
      },
      {
        "duration": 20,
        "start_time": "2021-11-17T11:41:17.330Z"
      },
      {
        "duration": 81,
        "start_time": "2021-11-17T11:41:17.353Z"
      },
      {
        "duration": 11,
        "start_time": "2021-11-17T11:41:17.436Z"
      },
      {
        "duration": 51,
        "start_time": "2021-11-17T11:41:17.450Z"
      },
      {
        "duration": 26,
        "start_time": "2021-11-17T11:41:17.504Z"
      },
      {
        "duration": 12,
        "start_time": "2021-11-17T11:41:17.532Z"
      },
      {
        "duration": 15,
        "start_time": "2021-11-17T11:41:17.546Z"
      },
      {
        "duration": 15,
        "start_time": "2021-11-17T11:41:17.564Z"
      },
      {
        "duration": 214,
        "start_time": "2021-11-17T11:41:17.582Z"
      },
      {
        "duration": 202,
        "start_time": "2021-11-17T11:41:17.799Z"
      },
      {
        "duration": 211,
        "start_time": "2021-11-17T11:41:18.004Z"
      },
      {
        "duration": 234,
        "start_time": "2021-11-17T11:41:18.217Z"
      },
      {
        "duration": 4,
        "start_time": "2021-11-17T11:41:18.458Z"
      },
      {
        "duration": 214,
        "start_time": "2021-11-17T11:41:18.465Z"
      },
      {
        "duration": 197,
        "start_time": "2021-11-17T11:41:18.682Z"
      },
      {
        "duration": 208,
        "start_time": "2021-11-17T11:41:18.881Z"
      },
      {
        "duration": 237,
        "start_time": "2021-11-17T11:41:19.092Z"
      },
      {
        "duration": 97,
        "start_time": "2021-11-17T11:51:14.706Z"
      },
      {
        "duration": 57,
        "start_time": "2021-11-17T12:10:50.722Z"
      },
      {
        "duration": 5,
        "start_time": "2021-11-17T12:10:52.351Z"
      },
      {
        "duration": 6,
        "start_time": "2021-11-17T12:10:56.760Z"
      },
      {
        "duration": 616,
        "start_time": "2021-11-17T12:14:04.251Z"
      },
      {
        "duration": 36,
        "start_time": "2021-11-17T12:14:08.642Z"
      },
      {
        "duration": 6,
        "start_time": "2021-11-17T12:14:25.442Z"
      },
      {
        "duration": 8,
        "start_time": "2021-11-17T12:14:30.478Z"
      },
      {
        "duration": 293,
        "start_time": "2021-11-17T12:15:16.201Z"
      },
      {
        "duration": 8,
        "start_time": "2021-11-17T12:15:23.793Z"
      },
      {
        "duration": 30,
        "start_time": "2021-11-17T12:15:43.725Z"
      },
      {
        "duration": 34,
        "start_time": "2021-11-17T12:16:37.934Z"
      },
      {
        "duration": 6,
        "start_time": "2021-11-17T12:16:37.971Z"
      },
      {
        "duration": 10,
        "start_time": "2021-11-17T12:16:37.980Z"
      },
      {
        "duration": 27,
        "start_time": "2021-11-17T12:16:38.312Z"
      },
      {
        "duration": 5,
        "start_time": "2021-11-17T12:16:40.360Z"
      },
      {
        "duration": 8,
        "start_time": "2021-11-17T12:16:45.585Z"
      },
      {
        "duration": 6,
        "start_time": "2021-11-17T12:17:57.522Z"
      },
      {
        "duration": 9,
        "start_time": "2021-11-17T12:18:02.008Z"
      },
      {
        "duration": 30,
        "start_time": "2021-11-17T12:21:17.413Z"
      },
      {
        "duration": 6,
        "start_time": "2021-11-17T12:21:17.812Z"
      },
      {
        "duration": 6,
        "start_time": "2021-11-17T12:21:18.158Z"
      },
      {
        "duration": 26,
        "start_time": "2021-11-17T12:21:18.514Z"
      },
      {
        "duration": 7,
        "start_time": "2021-11-17T12:21:19.057Z"
      },
      {
        "duration": 9,
        "start_time": "2021-11-17T12:21:22.877Z"
      },
      {
        "duration": 26,
        "start_time": "2021-11-17T12:25:24.913Z"
      },
      {
        "duration": 34,
        "start_time": "2021-11-17T12:25:30.213Z"
      },
      {
        "duration": 39,
        "start_time": "2021-11-17T12:27:12.526Z"
      },
      {
        "duration": 33,
        "start_time": "2021-11-17T12:27:29.995Z"
      },
      {
        "duration": 26,
        "start_time": "2021-11-17T12:28:02.128Z"
      },
      {
        "duration": 25,
        "start_time": "2021-11-17T12:28:11.044Z"
      },
      {
        "duration": 32,
        "start_time": "2021-11-17T12:28:48.184Z"
      },
      {
        "duration": 111,
        "start_time": "2021-11-17T12:29:26.929Z"
      },
      {
        "duration": 87,
        "start_time": "2021-11-17T12:30:04.932Z"
      },
      {
        "duration": 87,
        "start_time": "2021-11-17T12:30:29.352Z"
      },
      {
        "duration": 29,
        "start_time": "2021-11-17T12:30:57.706Z"
      },
      {
        "duration": 16,
        "start_time": "2021-11-17T12:31:50.608Z"
      },
      {
        "duration": 201,
        "start_time": "2021-11-17T12:31:55.576Z"
      },
      {
        "duration": 2256,
        "start_time": "2021-11-17T12:33:11.152Z"
      },
      {
        "duration": 6,
        "start_time": "2021-11-17T12:33:13.411Z"
      },
      {
        "duration": 11,
        "start_time": "2021-11-17T12:33:13.420Z"
      },
      {
        "duration": 5,
        "start_time": "2021-11-17T12:33:13.435Z"
      },
      {
        "duration": 448,
        "start_time": "2021-11-17T12:33:13.443Z"
      },
      {
        "duration": 849,
        "start_time": "2021-11-17T12:33:13.894Z"
      },
      {
        "duration": 166,
        "start_time": "2021-11-17T12:33:14.746Z"
      },
      {
        "duration": 87,
        "start_time": "2021-11-17T12:33:14.916Z"
      },
      {
        "duration": 29,
        "start_time": "2021-11-17T12:33:15.006Z"
      },
      {
        "duration": 16,
        "start_time": "2021-11-17T12:33:15.037Z"
      },
      {
        "duration": 115,
        "start_time": "2021-11-17T12:33:15.055Z"
      },
      {
        "duration": 201,
        "start_time": "2021-11-17T12:33:15.173Z"
      },
      {
        "duration": 301,
        "start_time": "2021-11-17T12:33:15.376Z"
      },
      {
        "duration": 15,
        "start_time": "2021-11-17T12:33:15.679Z"
      },
      {
        "duration": 1364,
        "start_time": "2021-11-17T12:33:15.696Z"
      },
      {
        "duration": 18,
        "start_time": "2021-11-17T12:33:17.062Z"
      },
      {
        "duration": 99,
        "start_time": "2021-11-17T12:33:17.082Z"
      },
      {
        "duration": 21,
        "start_time": "2021-11-17T12:33:17.183Z"
      },
      {
        "duration": 494,
        "start_time": "2021-11-17T12:33:17.207Z"
      },
      {
        "duration": 58,
        "start_time": "2021-11-17T12:33:17.704Z"
      },
      {
        "duration": 737,
        "start_time": "2021-11-17T12:33:17.765Z"
      },
      {
        "duration": 967,
        "start_time": "2021-11-17T12:33:18.504Z"
      },
      {
        "duration": 2543,
        "start_time": "2021-11-17T12:33:19.477Z"
      },
      {
        "duration": 17,
        "start_time": "2021-11-17T12:33:22.031Z"
      },
      {
        "duration": 15,
        "start_time": "2021-11-17T12:33:22.050Z"
      },
      {
        "duration": 1086,
        "start_time": "2021-11-17T12:33:22.067Z"
      },
      {
        "duration": 19,
        "start_time": "2021-11-17T12:33:23.155Z"
      },
      {
        "duration": 59,
        "start_time": "2021-11-17T12:33:23.177Z"
      },
      {
        "duration": 44,
        "start_time": "2021-11-17T12:33:23.239Z"
      },
      {
        "duration": 64,
        "start_time": "2021-11-17T12:33:23.286Z"
      },
      {
        "duration": 677,
        "start_time": "2021-11-17T12:33:23.353Z"
      },
      {
        "duration": 76,
        "start_time": "2021-11-17T12:33:24.033Z"
      },
      {
        "duration": 35,
        "start_time": "2021-11-17T12:33:24.111Z"
      },
      {
        "duration": 234,
        "start_time": "2021-11-17T12:33:24.149Z"
      },
      {
        "duration": 5,
        "start_time": "2021-11-17T12:33:24.385Z"
      },
      {
        "duration": 21,
        "start_time": "2021-11-17T12:33:24.393Z"
      },
      {
        "duration": 21,
        "start_time": "2021-11-17T12:33:24.417Z"
      },
      {
        "duration": 82,
        "start_time": "2021-11-17T12:33:24.440Z"
      },
      {
        "duration": 27,
        "start_time": "2021-11-17T12:33:24.530Z"
      },
      {
        "duration": 73,
        "start_time": "2021-11-17T12:33:24.560Z"
      },
      {
        "duration": 45,
        "start_time": "2021-11-17T12:33:24.636Z"
      },
      {
        "duration": 100,
        "start_time": "2021-11-17T12:33:24.684Z"
      },
      {
        "duration": 9,
        "start_time": "2021-11-17T12:33:24.787Z"
      },
      {
        "duration": 11,
        "start_time": "2021-11-17T12:33:24.798Z"
      },
      {
        "duration": 1047,
        "start_time": "2021-11-17T12:33:24.811Z"
      },
      {
        "duration": 13,
        "start_time": "2021-11-17T12:33:25.861Z"
      },
      {
        "duration": 60,
        "start_time": "2021-11-17T12:33:25.877Z"
      },
      {
        "duration": 18,
        "start_time": "2021-11-17T12:33:25.939Z"
      },
      {
        "duration": 16,
        "start_time": "2021-11-17T12:33:25.960Z"
      },
      {
        "duration": 63,
        "start_time": "2021-11-17T12:33:25.978Z"
      },
      {
        "duration": 90,
        "start_time": "2021-11-17T12:33:26.043Z"
      },
      {
        "duration": 42,
        "start_time": "2021-11-17T12:33:26.135Z"
      },
      {
        "duration": 84,
        "start_time": "2021-11-17T12:33:26.180Z"
      },
      {
        "duration": 5,
        "start_time": "2021-11-17T12:33:26.267Z"
      },
      {
        "duration": 18,
        "start_time": "2021-11-17T12:33:26.274Z"
      },
      {
        "duration": 24,
        "start_time": "2021-11-17T12:33:26.295Z"
      },
      {
        "duration": 42,
        "start_time": "2021-11-17T12:33:26.329Z"
      },
      {
        "duration": 9,
        "start_time": "2021-11-17T12:33:26.373Z"
      },
      {
        "duration": 81,
        "start_time": "2021-11-17T12:33:26.384Z"
      },
      {
        "duration": 5,
        "start_time": "2021-11-17T12:33:26.467Z"
      },
      {
        "duration": 13,
        "start_time": "2021-11-17T12:33:26.475Z"
      },
      {
        "duration": 16,
        "start_time": "2021-11-17T12:33:26.490Z"
      },
      {
        "duration": 6,
        "start_time": "2021-11-17T12:33:26.530Z"
      },
      {
        "duration": 198,
        "start_time": "2021-11-17T12:33:26.538Z"
      },
      {
        "duration": 219,
        "start_time": "2021-11-17T12:33:26.739Z"
      },
      {
        "duration": 200,
        "start_time": "2021-11-17T12:33:26.961Z"
      },
      {
        "duration": 216,
        "start_time": "2021-11-17T12:33:27.163Z"
      },
      {
        "duration": 4,
        "start_time": "2021-11-17T12:33:27.386Z"
      },
      {
        "duration": 209,
        "start_time": "2021-11-17T12:33:27.392Z"
      },
      {
        "duration": 206,
        "start_time": "2021-11-17T12:33:27.603Z"
      },
      {
        "duration": 207,
        "start_time": "2021-11-17T12:33:27.811Z"
      },
      {
        "duration": 224,
        "start_time": "2021-11-17T12:33:28.020Z"
      },
      {
        "duration": 1894,
        "start_time": "2021-11-17T12:46:56.277Z"
      },
      {
        "duration": 4,
        "start_time": "2021-11-17T12:46:58.173Z"
      },
      {
        "duration": 10,
        "start_time": "2021-11-17T12:46:58.180Z"
      },
      {
        "duration": 8,
        "start_time": "2021-11-17T12:46:58.193Z"
      },
      {
        "duration": 420,
        "start_time": "2021-11-17T12:46:58.204Z"
      },
      {
        "duration": 965,
        "start_time": "2021-11-17T12:46:58.630Z"
      },
      {
        "duration": 166,
        "start_time": "2021-11-17T12:46:59.598Z"
      },
      {
        "duration": 96,
        "start_time": "2021-11-17T12:46:59.768Z"
      },
      {
        "duration": 13,
        "start_time": "2021-11-17T12:46:59.868Z"
      },
      {
        "duration": 12,
        "start_time": "2021-11-17T12:46:59.884Z"
      },
      {
        "duration": 145,
        "start_time": "2021-11-17T12:46:59.899Z"
      },
      {
        "duration": 411,
        "start_time": "2021-11-17T12:47:00.046Z"
      },
      {
        "duration": 470,
        "start_time": "2021-11-17T12:47:00.459Z"
      },
      {
        "duration": 16,
        "start_time": "2021-11-17T12:47:00.931Z"
      },
      {
        "duration": 1383,
        "start_time": "2021-11-17T12:47:00.950Z"
      },
      {
        "duration": 18,
        "start_time": "2021-11-17T12:47:02.336Z"
      },
      {
        "duration": 49,
        "start_time": "2021-11-17T12:47:02.356Z"
      },
      {
        "duration": 25,
        "start_time": "2021-11-17T12:47:02.408Z"
      },
      {
        "duration": 484,
        "start_time": "2021-11-17T12:47:02.436Z"
      },
      {
        "duration": 53,
        "start_time": "2021-11-17T12:47:02.923Z"
      },
      {
        "duration": 619,
        "start_time": "2021-11-17T12:47:02.979Z"
      },
      {
        "duration": 932,
        "start_time": "2021-11-17T12:47:03.601Z"
      },
      {
        "duration": 1990,
        "start_time": "2021-11-17T12:47:04.539Z"
      },
      {
        "duration": 18,
        "start_time": "2021-11-17T12:47:06.533Z"
      },
      {
        "duration": 15,
        "start_time": "2021-11-17T12:47:06.554Z"
      },
      {
        "duration": 988,
        "start_time": "2021-11-17T12:47:06.572Z"
      },
      {
        "duration": 18,
        "start_time": "2021-11-17T12:47:07.562Z"
      },
      {
        "duration": 64,
        "start_time": "2021-11-17T12:47:07.582Z"
      },
      {
        "duration": 42,
        "start_time": "2021-11-17T12:47:07.649Z"
      },
      {
        "duration": 69,
        "start_time": "2021-11-17T12:47:07.693Z"
      },
      {
        "duration": 706,
        "start_time": "2021-11-17T12:47:07.764Z"
      },
      {
        "duration": 89,
        "start_time": "2021-11-17T12:47:08.473Z"
      },
      {
        "duration": 20,
        "start_time": "2021-11-17T12:47:08.564Z"
      },
      {
        "duration": 236,
        "start_time": "2021-11-17T12:47:08.587Z"
      },
      {
        "duration": 6,
        "start_time": "2021-11-17T12:47:08.825Z"
      },
      {
        "duration": 13,
        "start_time": "2021-11-17T12:47:08.834Z"
      },
      {
        "duration": 4,
        "start_time": "2021-11-17T12:47:08.850Z"
      },
      {
        "duration": 103,
        "start_time": "2021-11-17T12:47:08.857Z"
      },
      {
        "duration": 29,
        "start_time": "2021-11-17T12:47:08.963Z"
      },
      {
        "duration": 87,
        "start_time": "2021-11-17T12:47:08.994Z"
      },
      {
        "duration": 61,
        "start_time": "2021-11-17T12:47:09.084Z"
      },
      {
        "duration": 85,
        "start_time": "2021-11-17T12:47:09.147Z"
      },
      {
        "duration": 8,
        "start_time": "2021-11-17T12:47:09.234Z"
      },
      {
        "duration": 7,
        "start_time": "2021-11-17T12:47:09.245Z"
      },
      {
        "duration": 1077,
        "start_time": "2021-11-17T12:47:09.255Z"
      },
      {
        "duration": 21,
        "start_time": "2021-11-17T12:47:10.335Z"
      },
      {
        "duration": 72,
        "start_time": "2021-11-17T12:47:10.359Z"
      },
      {
        "duration": 8,
        "start_time": "2021-11-17T12:47:10.434Z"
      },
      {
        "duration": 7,
        "start_time": "2021-11-17T12:47:10.445Z"
      },
      {
        "duration": 17,
        "start_time": "2021-11-17T12:47:10.454Z"
      },
      {
        "duration": 99,
        "start_time": "2021-11-17T12:47:10.473Z"
      },
      {
        "duration": 91,
        "start_time": "2021-11-17T12:47:10.575Z"
      },
      {
        "duration": 93,
        "start_time": "2021-11-17T12:47:10.669Z"
      },
      {
        "duration": 5,
        "start_time": "2021-11-17T12:47:10.765Z"
      },
      {
        "duration": 19,
        "start_time": "2021-11-17T12:47:10.773Z"
      },
      {
        "duration": 36,
        "start_time": "2021-11-17T12:47:10.795Z"
      },
      {
        "duration": 52,
        "start_time": "2021-11-17T12:47:10.833Z"
      },
      {
        "duration": 8,
        "start_time": "2021-11-17T12:47:10.888Z"
      },
      {
        "duration": 78,
        "start_time": "2021-11-17T12:47:10.898Z"
      },
      {
        "duration": 6,
        "start_time": "2021-11-17T12:47:10.978Z"
      },
      {
        "duration": 15,
        "start_time": "2021-11-17T12:47:10.987Z"
      },
      {
        "duration": 32,
        "start_time": "2021-11-17T12:47:11.005Z"
      },
      {
        "duration": 22,
        "start_time": "2021-11-17T12:47:11.039Z"
      },
      {
        "duration": 194,
        "start_time": "2021-11-17T12:47:11.063Z"
      },
      {
        "duration": 221,
        "start_time": "2021-11-17T12:47:11.259Z"
      },
      {
        "duration": 215,
        "start_time": "2021-11-17T12:47:11.483Z"
      },
      {
        "duration": 238,
        "start_time": "2021-11-17T12:47:11.701Z"
      },
      {
        "duration": 4,
        "start_time": "2021-11-17T12:47:11.947Z"
      },
      {
        "duration": 227,
        "start_time": "2021-11-17T12:47:11.954Z"
      },
      {
        "duration": 233,
        "start_time": "2021-11-17T12:47:12.184Z"
      },
      {
        "duration": 218,
        "start_time": "2021-11-17T12:47:12.428Z"
      },
      {
        "duration": 233,
        "start_time": "2021-11-17T12:47:12.648Z"
      },
      {
        "duration": 2340,
        "start_time": "2021-11-17T12:49:43.161Z"
      },
      {
        "duration": 4,
        "start_time": "2021-11-17T12:49:45.504Z"
      },
      {
        "duration": 7,
        "start_time": "2021-11-17T12:49:45.511Z"
      },
      {
        "duration": 8,
        "start_time": "2021-11-17T12:49:45.520Z"
      },
      {
        "duration": 552,
        "start_time": "2021-11-17T12:49:45.531Z"
      },
      {
        "duration": 877,
        "start_time": "2021-11-17T12:49:46.086Z"
      },
      {
        "duration": 204,
        "start_time": "2021-11-17T12:49:46.966Z"
      },
      {
        "duration": 162,
        "start_time": "2021-11-17T12:49:47.173Z"
      },
      {
        "duration": 12,
        "start_time": "2021-11-17T12:49:47.339Z"
      },
      {
        "duration": 12,
        "start_time": "2021-11-17T12:49:47.353Z"
      },
      {
        "duration": 262,
        "start_time": "2021-11-17T12:49:47.368Z"
      },
      {
        "duration": 413,
        "start_time": "2021-11-17T12:49:47.633Z"
      },
      {
        "duration": 348,
        "start_time": "2021-11-17T12:49:48.048Z"
      },
      {
        "duration": 16,
        "start_time": "2021-11-17T12:49:48.398Z"
      },
      {
        "duration": 1493,
        "start_time": "2021-11-17T12:49:48.416Z"
      },
      {
        "duration": 22,
        "start_time": "2021-11-17T12:49:49.911Z"
      },
      {
        "duration": 46,
        "start_time": "2021-11-17T12:49:49.935Z"
      },
      {
        "duration": 13,
        "start_time": "2021-11-17T12:49:49.983Z"
      },
      {
        "duration": 509,
        "start_time": "2021-11-17T12:49:49.998Z"
      },
      {
        "duration": 61,
        "start_time": "2021-11-17T12:49:50.510Z"
      },
      {
        "duration": 643,
        "start_time": "2021-11-17T12:49:50.574Z"
      },
      {
        "duration": 925,
        "start_time": "2021-11-17T12:49:51.228Z"
      },
      {
        "duration": 2001,
        "start_time": "2021-11-17T12:49:52.159Z"
      },
      {
        "duration": 20,
        "start_time": "2021-11-17T12:49:54.163Z"
      },
      {
        "duration": 15,
        "start_time": "2021-11-17T12:49:54.186Z"
      },
      {
        "duration": 993,
        "start_time": "2021-11-17T12:49:54.204Z"
      },
      {
        "duration": 28,
        "start_time": "2021-11-17T12:49:55.201Z"
      },
      {
        "duration": 46,
        "start_time": "2021-11-17T12:49:55.232Z"
      },
      {
        "duration": 78,
        "start_time": "2021-11-17T12:49:55.281Z"
      },
      {
        "duration": 46,
        "start_time": "2021-11-17T12:49:55.362Z"
      },
      {
        "duration": 743,
        "start_time": "2021-11-17T12:49:55.411Z"
      },
      {
        "duration": 86,
        "start_time": "2021-11-17T12:49:56.158Z"
      },
      {
        "duration": 22,
        "start_time": "2021-11-17T12:49:56.247Z"
      },
      {
        "duration": 267,
        "start_time": "2021-11-17T12:49:56.272Z"
      },
      {
        "duration": 7,
        "start_time": "2021-11-17T12:49:56.541Z"
      },
      {
        "duration": 13,
        "start_time": "2021-11-17T12:49:56.551Z"
      },
      {
        "duration": 6,
        "start_time": "2021-11-17T12:49:56.567Z"
      },
      {
        "duration": 132,
        "start_time": "2021-11-17T12:49:56.577Z"
      },
      {
        "duration": 46,
        "start_time": "2021-11-17T12:49:56.712Z"
      },
      {
        "duration": 85,
        "start_time": "2021-11-17T12:49:56.761Z"
      },
      {
        "duration": 65,
        "start_time": "2021-11-17T12:49:56.849Z"
      },
      {
        "duration": 80,
        "start_time": "2021-11-17T12:49:56.929Z"
      },
      {
        "duration": 21,
        "start_time": "2021-11-17T12:49:57.012Z"
      },
      {
        "duration": 6,
        "start_time": "2021-11-17T12:49:57.036Z"
      },
      {
        "duration": 955,
        "start_time": "2021-11-17T12:49:57.044Z"
      },
      {
        "duration": 42,
        "start_time": "2021-11-17T12:49:58.002Z"
      },
      {
        "duration": 28,
        "start_time": "2021-11-17T12:49:58.048Z"
      },
      {
        "duration": 5,
        "start_time": "2021-11-17T12:49:58.131Z"
      },
      {
        "duration": 13,
        "start_time": "2021-11-17T12:49:58.139Z"
      },
      {
        "duration": 92,
        "start_time": "2021-11-17T12:49:58.155Z"
      },
      {
        "duration": 101,
        "start_time": "2021-11-17T12:49:58.250Z"
      },
      {
        "duration": 52,
        "start_time": "2021-11-17T12:49:58.354Z"
      },
      {
        "duration": 88,
        "start_time": "2021-11-17T12:49:58.410Z"
      },
      {
        "duration": 6,
        "start_time": "2021-11-17T12:49:58.501Z"
      },
      {
        "duration": 7,
        "start_time": "2021-11-17T12:49:58.531Z"
      },
      {
        "duration": 32,
        "start_time": "2021-11-17T12:49:58.541Z"
      },
      {
        "duration": 80,
        "start_time": "2021-11-17T12:49:58.577Z"
      },
      {
        "duration": 12,
        "start_time": "2021-11-17T12:49:58.661Z"
      },
      {
        "duration": 109,
        "start_time": "2021-11-17T12:49:58.677Z"
      },
      {
        "duration": 6,
        "start_time": "2021-11-17T12:49:58.790Z"
      },
      {
        "duration": 30,
        "start_time": "2021-11-17T12:49:58.799Z"
      },
      {
        "duration": 24,
        "start_time": "2021-11-17T12:49:58.833Z"
      },
      {
        "duration": 25,
        "start_time": "2021-11-17T12:49:58.860Z"
      },
      {
        "duration": 332,
        "start_time": "2021-11-17T12:49:58.888Z"
      },
      {
        "duration": 321,
        "start_time": "2021-11-17T12:49:59.230Z"
      },
      {
        "duration": 214,
        "start_time": "2021-11-17T12:49:59.553Z"
      },
      {
        "duration": 234,
        "start_time": "2021-11-17T12:49:59.769Z"
      },
      {
        "duration": 19,
        "start_time": "2021-11-17T12:50:00.012Z"
      },
      {
        "duration": 320,
        "start_time": "2021-11-17T12:50:00.034Z"
      },
      {
        "duration": 348,
        "start_time": "2021-11-17T12:50:00.357Z"
      },
      {
        "duration": 236,
        "start_time": "2021-11-17T12:50:00.708Z"
      },
      {
        "duration": 226,
        "start_time": "2021-11-17T12:50:00.947Z"
      },
      {
        "duration": 1681,
        "start_time": "2021-11-17T18:58:49.565Z"
      },
      {
        "duration": 3,
        "start_time": "2021-11-17T18:58:51.248Z"
      },
      {
        "duration": 10,
        "start_time": "2021-11-17T18:58:51.253Z"
      },
      {
        "duration": 9,
        "start_time": "2021-11-17T18:58:51.264Z"
      },
      {
        "duration": 282,
        "start_time": "2021-11-17T18:58:51.275Z"
      },
      {
        "duration": 643,
        "start_time": "2021-11-17T18:58:51.559Z"
      },
      {
        "duration": 125,
        "start_time": "2021-11-17T18:58:52.204Z"
      },
      {
        "duration": 66,
        "start_time": "2021-11-17T18:58:52.332Z"
      },
      {
        "duration": 10,
        "start_time": "2021-11-17T18:58:52.400Z"
      },
      {
        "duration": 9,
        "start_time": "2021-11-17T18:58:52.411Z"
      },
      {
        "duration": 82,
        "start_time": "2021-11-17T18:58:52.421Z"
      },
      {
        "duration": 138,
        "start_time": "2021-11-17T18:58:52.505Z"
      },
      {
        "duration": 203,
        "start_time": "2021-11-17T18:58:52.644Z"
      },
      {
        "duration": 10,
        "start_time": "2021-11-17T18:58:52.848Z"
      },
      {
        "duration": 852,
        "start_time": "2021-11-17T18:58:52.861Z"
      },
      {
        "duration": 15,
        "start_time": "2021-11-17T18:58:53.714Z"
      },
      {
        "duration": 35,
        "start_time": "2021-11-17T18:58:53.730Z"
      },
      {
        "duration": 32,
        "start_time": "2021-11-17T18:58:53.766Z"
      },
      {
        "duration": 307,
        "start_time": "2021-11-17T18:58:53.800Z"
      },
      {
        "duration": 36,
        "start_time": "2021-11-17T18:58:54.108Z"
      },
      {
        "duration": 428,
        "start_time": "2021-11-17T18:58:54.145Z"
      },
      {
        "duration": 653,
        "start_time": "2021-11-17T18:58:54.574Z"
      },
      {
        "duration": 1467,
        "start_time": "2021-11-17T18:58:55.231Z"
      },
      {
        "duration": 12,
        "start_time": "2021-11-17T18:58:56.701Z"
      },
      {
        "duration": 10,
        "start_time": "2021-11-17T18:58:56.715Z"
      },
      {
        "duration": 620,
        "start_time": "2021-11-17T18:58:56.726Z"
      },
      {
        "duration": 15,
        "start_time": "2021-11-17T18:58:57.348Z"
      },
      {
        "duration": 43,
        "start_time": "2021-11-17T18:58:57.365Z"
      },
      {
        "duration": 33,
        "start_time": "2021-11-17T18:58:57.409Z"
      },
      {
        "duration": 49,
        "start_time": "2021-11-17T18:58:57.443Z"
      },
      {
        "duration": 1131,
        "start_time": "2021-11-17T18:58:57.494Z"
      },
      {
        "duration": 56,
        "start_time": "2021-11-17T18:58:58.627Z"
      },
      {
        "duration": 13,
        "start_time": "2021-11-17T18:58:58.691Z"
      },
      {
        "duration": 160,
        "start_time": "2021-11-17T18:58:58.705Z"
      },
      {
        "duration": 3,
        "start_time": "2021-11-17T18:58:58.868Z"
      },
      {
        "duration": 18,
        "start_time": "2021-11-17T18:58:58.873Z"
      },
      {
        "duration": 3,
        "start_time": "2021-11-17T18:58:58.893Z"
      },
      {
        "duration": 61,
        "start_time": "2021-11-17T18:58:58.898Z"
      },
      {
        "duration": 38,
        "start_time": "2021-11-17T18:58:58.962Z"
      },
      {
        "duration": 44,
        "start_time": "2021-11-17T18:58:59.002Z"
      },
      {
        "duration": 49,
        "start_time": "2021-11-17T18:58:59.048Z"
      },
      {
        "duration": 62,
        "start_time": "2021-11-17T18:58:59.099Z"
      },
      {
        "duration": 8,
        "start_time": "2021-11-17T18:58:59.162Z"
      },
      {
        "duration": 4,
        "start_time": "2021-11-17T18:58:59.192Z"
      },
      {
        "duration": 670,
        "start_time": "2021-11-17T18:58:59.197Z"
      },
      {
        "duration": 27,
        "start_time": "2021-11-17T18:58:59.869Z"
      },
      {
        "duration": 11,
        "start_time": "2021-11-17T18:58:59.898Z"
      },
      {
        "duration": 6,
        "start_time": "2021-11-17T18:58:59.911Z"
      },
      {
        "duration": 7,
        "start_time": "2021-11-17T18:58:59.919Z"
      },
      {
        "duration": 12,
        "start_time": "2021-11-17T18:58:59.927Z"
      },
      {
        "duration": 37,
        "start_time": "2021-11-17T18:58:59.992Z"
      },
      {
        "duration": 80,
        "start_time": "2021-11-17T18:59:00.031Z"
      },
      {
        "duration": 38,
        "start_time": "2021-11-17T18:59:00.113Z"
      },
      {
        "duration": 3,
        "start_time": "2021-11-17T18:59:00.153Z"
      },
      {
        "duration": 35,
        "start_time": "2021-11-17T18:59:00.158Z"
      },
      {
        "duration": 13,
        "start_time": "2021-11-17T18:59:00.195Z"
      },
      {
        "duration": 38,
        "start_time": "2021-11-17T18:59:00.210Z"
      },
      {
        "duration": 6,
        "start_time": "2021-11-17T18:59:00.250Z"
      },
      {
        "duration": 68,
        "start_time": "2021-11-17T18:59:00.257Z"
      },
      {
        "duration": 3,
        "start_time": "2021-11-17T18:59:00.326Z"
      },
      {
        "duration": 10,
        "start_time": "2021-11-17T18:59:00.331Z"
      },
      {
        "duration": 9,
        "start_time": "2021-11-17T18:59:00.343Z"
      },
      {
        "duration": 25,
        "start_time": "2021-11-17T18:59:00.354Z"
      },
      {
        "duration": 143,
        "start_time": "2021-11-17T18:59:00.381Z"
      },
      {
        "duration": 151,
        "start_time": "2021-11-17T18:59:00.526Z"
      },
      {
        "duration": 166,
        "start_time": "2021-11-17T18:59:00.679Z"
      },
      {
        "duration": 176,
        "start_time": "2021-11-17T18:59:00.847Z"
      },
      {
        "duration": 3,
        "start_time": "2021-11-17T18:59:01.029Z"
      },
      {
        "duration": 178,
        "start_time": "2021-11-17T18:59:01.034Z"
      },
      {
        "duration": 161,
        "start_time": "2021-11-17T18:59:01.215Z"
      },
      {
        "duration": 162,
        "start_time": "2021-11-17T18:59:01.378Z"
      },
      {
        "duration": 171,
        "start_time": "2021-11-17T18:59:01.542Z"
      },
      {
        "duration": 58,
        "start_time": "2021-11-17T19:03:36.854Z"
      },
      {
        "duration": 66,
        "start_time": "2021-11-17T19:03:42.543Z"
      },
      {
        "duration": 56,
        "start_time": "2021-11-17T19:07:06.723Z"
      }
    ],
    "colab": {
      "name": "startup_AB.ipynb",
      "provenance": [],
      "collapsed_sections": [
        "pQ53iNhtU3E3"
      ],
      "toc_visible": true
    },
    "kernelspec": {
      "display_name": "Python 3",
      "language": "python",
      "name": "python3"
    },
    "language_info": {
      "codemirror_mode": {
        "name": "ipython",
        "version": 3
      },
      "file_extension": ".py",
      "mimetype": "text/x-python",
      "name": "python",
      "nbconvert_exporter": "python",
      "pygments_lexer": "ipython3",
      "version": "3.7.8"
    },
    "toc": {
      "base_numbering": 1,
      "nav_menu": {},
      "number_sections": true,
      "sideBar": true,
      "skip_h1_title": true,
      "title_cell": "Содержание",
      "title_sidebar": "Contents",
      "toc_cell": true,
      "toc_position": {
        "height": "calc(100% - 180px)",
        "left": "10px",
        "top": "150px",
        "width": "366.391px"
      },
      "toc_section_display": true,
      "toc_window_display": false
    }
  },
  "cells": [
    {
      "cell_type": "markdown",
      "metadata": {
        "id": "7R6gZBb7TJXX"
      },
      "source": [
        "<footer id=\"footer\"></footer>"
      ]
    },
    {
      "cell_type": "markdown",
      "metadata": {
        "id": "M0ewSzJPTLSA"
      },
      "source": [
        "<h1 align=\"center\"><b>Исследование поведения пользователя мобильного приложения</b></h1>\n",
        "<p align=\"center\"><img src=\"https://i.ibb.co/7Xcnj8Z/ccbae7e460086c81959bf632728909a9.png\" alt=\"ccbae7e460086c81959bf632728909a9\" border=\"0\"></p>\n"
      ]
    },
    {
      "cell_type": "markdown",
      "metadata": {
        "id": "6LKAlhbPTQ_f"
      },
      "source": [
        "# Контекст  \n",
        "\n"
      ]
    },
    {
      "cell_type": "markdown",
      "metadata": {
        "id": "tDjN9am7TWeZ"
      },
      "source": [
        "Стартапу, который продаёт продукты питания, необходимо разобраться, как ведут себя пользователи мобильного приложения.  \n",
        "\n",
        "\n",
        "- необходимо изучить воронку продаж и узнайте, как пользователи доходят до покупки. Сколько пользователей доходит до покупки, а сколько — «застревает» на предыдущих шагах? На каких именно?  \n",
        "\n",
        "\n",
        "-  исследовать результаты **A/A/B-эксперимента**. Дизайнеры захотели поменять шрифты во всём приложении, а менеджеры испугались, что пользователям будет непривычно. Договорились принять решение по результатам **A/A/B-теста**. Пользователей разбили на 3 группы: 2 контрольные со старыми шрифтами и одну экспериментальную — с новыми. Необходимо выяснить , какой шрифт лучше.  \n",
        "\n",
        "\n"
      ]
    },
    {
      "cell_type": "markdown",
      "metadata": {
        "id": "0qZX3nk_TNLG"
      },
      "source": [
        "---\n",
        "    \n",
        " <font size=\"1\"> \n",
        "Создание двух групп A вместо одной имеет определённые преимущества. Если две контрольные группы окажутся равны, вы можете быть уверены в точности проведенного тестирования. Если же между значениями A и A будут существенные различия, это поможет обнаружить факторы, которые привели к искажению результатов. Сравнение контрольных групп также помогает понять, сколько времени и данных потребуется для дальнейших тестов. </font>\n",
        "\n",
        "\n"
      ]
    },
    {
      "cell_type": "markdown",
      "metadata": {
        "id": "46DItBF7UjyW"
      },
      "source": [
        "<a href=\"#footer\">К содержанию</a>\n",
        "<footer id=\"footer\"></footer>\n"
      ]
    },
    {
      "cell_type": "markdown",
      "metadata": {
        "id": "KsrP4K3kUWd3"
      },
      "source": [
        "## Загрузка данных и первичный осмотр"
      ]
    },
    {
      "cell_type": "markdown",
      "metadata": {
        "id": "tZmIIqgBWBjt"
      },
      "source": [
        "<a id='data'></a>"
      ]
    },
    {
      "cell_type": "markdown",
      "metadata": {
        "id": "4CcDQINcUY3w"
      },
      "source": [
        "Каждая запись в логе — это действие пользователя, или событие.  \n",
        "\n",
        "\n",
        "`EventName` — название события;  \n",
        "`DeviceIDHash` — уникальный идентификатор пользователя;  \n",
        "`EventTimestamp` — время события;  \n",
        "`ExpId` — номер эксперимента: `246` и `247` — контрольные группы, а `248` — экспериментальная.  "
      ]
    },
    {
      "cell_type": "markdown",
      "metadata": {
        "id": "6tJNe74YTO6W"
      },
      "source": [
        "<a href=\"#footer\">К содержанию</a>\n",
        "<footer id=\"footer\"></footer>\n"
      ]
    },
    {
      "cell_type": "markdown",
      "metadata": {
        "id": "Wj5BbwnmUlAA"
      },
      "source": [
        "### Импорт библиотек"
      ]
    },
    {
      "cell_type": "code",
      "metadata": {
        "id": "Qpfx9vgbTB_B"
      },
      "source": [
        "import pandas as pd\n",
        "import numpy as np\n",
        "import matplotlib.pyplot as plt\n",
        "from matplotlib import font_manager as fm\n",
        "import seaborn as sns\n",
        "import pylab\n",
        "import datetime\n",
        "from scipy import stats as st\n",
        "from plotly import graph_objects as go\n",
        "import warnings\n",
        "import math as mth\n",
        "from statsmodels.stats.proportion import proportions_ztest\n",
        "sns.set_style('darkgrid')\n",
        "warnings.filterwarnings(\"ignore\")\n",
        "pd.set_option('chained_assignment', None)\n",
        "np.random.seed(42)\n"
      ],
      "execution_count": null,
      "outputs": []
    },
    {
      "cell_type": "code",
      "metadata": {
        "id": "peyo5kfGVQKA"
      },
      "source": [
        "def get_info(data):\n",
        "    display(data.head())\n",
        "    display(data.describe().T)\n",
        "    print('----')\n",
        "    print('Информация о пропусках и типах данных')\n",
        "    print('----')\n",
        "    print()\n",
        "    data.info()\n",
        "    print('----')\n",
        "    print()"
      ],
      "execution_count": null,
      "outputs": []
    },
    {
      "cell_type": "code",
      "metadata": {
        "id": "Kcu1Jg73jSo2"
      },
      "source": [
        "def au_plot(data, metric):\n",
        "    plt.figure(figsize=(15,5))\n",
        "    data['uid'].plot(title=f'Уникальных пользователей по {metric}')\n",
        "    plt.xlabel('Дата')\n",
        "    plt.ylabel(metric)\n",
        "    plt.show()"
      ],
      "execution_count": null,
      "outputs": []
    },
    {
      "cell_type": "code",
      "metadata": {
        "id": "EuLg4Lz64hwC"
      },
      "source": [
        "def drop_column(data, columns):\n",
        "    data_new = data.drop(columns, axis=1)\n",
        "    return data_new"
      ],
      "execution_count": null,
      "outputs": []
    },
    {
      "cell_type": "code",
      "metadata": {
        "colab": {
          "base_uri": "https://localhost:8080/",
          "height": 68
        },
        "id": "GDOYc1rYVUnB",
        "outputId": "586a6020-bfde-43a5-8065-fd222a2607e2"
      },
      "source": [
        "current_palette = sns.color_palette('mako', 40)\n",
        "sns.palplot(current_palette)"
      ],
      "execution_count": null,
      "outputs": [
        {
          "output_type": "display_data",
          "data": {
            "image/png": "[encoded data removed]",
            "text/plain": [
              "<Figure size 2880x72 with 1 Axes>"
            ]
          },
          "metadata": {
            "needs_background": "light"
          }
        }
      ]
    },
    {
      "cell_type": "markdown",
      "metadata": {
        "id": "Eedchre9U051"
      },
      "source": [
        "<a href=\"#footer\">К содержанию</a>\n",
        "<footer id=\"footer\"></footer>\n"
      ]
    },
    {
      "cell_type": "markdown",
      "metadata": {
        "id": "pQ53iNhtU3E3"
      },
      "source": [
        "### Загрузка данных и предварительная обработка"
      ]
    },
    {
      "cell_type": "code",
      "metadata": {
        "id": "Z3Ku-jpUUzye"
      },
      "source": [
        "%%capture\n",
        "!gdown --id 12CSJElh9-4VHDO5zZXguWzpSe6tjpU80"
      ],
      "execution_count": null,
      "outputs": []
    },
    {
      "cell_type": "code",
      "metadata": {
        "id": "cKw9Q-U6VYyM"
      },
      "source": [
        "try:\n",
        "    path = '/content/logs_exp.csv'\n",
        "    df = pd.read_csv(path, sep='\\t')\n",
        "except:\n",
        "    path = '/datasets/logs_exp.csv'\n",
        "    df = pd.read_csv(path, sep='\\t')"
      ],
      "execution_count": null,
      "outputs": []
    },
    {
      "cell_type": "code",
      "metadata": {
        "colab": {
          "base_uri": "https://localhost:8080/"
        },
        "id": "2bB0UQxXVJEv",
        "outputId": "29995df0-3c64-485d-d8dd-ca1a72765c5b"
      },
      "source": [
        "get_info(df)"
      ],
      "execution_count": null,
      "outputs": [
        {
          "output_type": "display_data",
          "data": {
            "text/html": [
              "<div>\n",
              "<style scoped>\n",
              "    .dataframe tbody tr th:only-of-type {\n",
              "        vertical-align: middle;\n",
              "    }\n",
              "\n",
              "    .dataframe tbody tr th {\n",
              "        vertical-align: top;\n",
              "    }\n",
              "\n",
              "    .dataframe thead th {\n",
              "        text-align: right;\n",
              "    }\n",
              "</style>\n",
              "<table border=\"1\" class=\"dataframe\">\n",
              "  <thead>\n",
              "    <tr style=\"text-align: right;\">\n",
              "      <th></th>\n",
              "      <th>EventName</th>\n",
              "      <th>DeviceIDHash</th>\n",
              "      <th>EventTimestamp</th>\n",
              "      <th>ExpId</th>\n",
              "    </tr>\n",
              "  </thead>\n",
              "  <tbody>\n",
              "    <tr>\n",
              "      <th>0</th>\n",
              "      <td>MainScreenAppear</td>\n",
              "      <td>4575588528974610257</td>\n",
              "      <td>1564029816</td>\n",
              "      <td>246</td>\n",
              "    </tr>\n",
              "    <tr>\n",
              "      <th>1</th>\n",
              "      <td>MainScreenAppear</td>\n",
              "      <td>7416695313311560658</td>\n",
              "      <td>1564053102</td>\n",
              "      <td>246</td>\n",
              "    </tr>\n",
              "    <tr>\n",
              "      <th>2</th>\n",
              "      <td>PaymentScreenSuccessful</td>\n",
              "      <td>3518123091307005509</td>\n",
              "      <td>1564054127</td>\n",
              "      <td>248</td>\n",
              "    </tr>\n",
              "    <tr>\n",
              "      <th>3</th>\n",
              "      <td>CartScreenAppear</td>\n",
              "      <td>3518123091307005509</td>\n",
              "      <td>1564054127</td>\n",
              "      <td>248</td>\n",
              "    </tr>\n",
              "    <tr>\n",
              "      <th>4</th>\n",
              "      <td>PaymentScreenSuccessful</td>\n",
              "      <td>6217807653094995999</td>\n",
              "      <td>1564055322</td>\n",
              "      <td>248</td>\n",
              "    </tr>\n",
              "  </tbody>\n",
              "</table>\n",
              "</div>"
            ],
            "text/plain": [
              "                 EventName         DeviceIDHash  EventTimestamp  ExpId\n",
              "0         MainScreenAppear  4575588528974610257      1564029816    246\n",
              "1         MainScreenAppear  7416695313311560658      1564053102    246\n",
              "2  PaymentScreenSuccessful  3518123091307005509      1564054127    248\n",
              "3         CartScreenAppear  3518123091307005509      1564054127    248\n",
              "4  PaymentScreenSuccessful  6217807653094995999      1564055322    248"
            ]
          },
          "metadata": {}
        },
        {
          "output_type": "display_data",
          "data": {
            "text/html": [
              "<div>\n",
              "<style scoped>\n",
              "    .dataframe tbody tr th:only-of-type {\n",
              "        vertical-align: middle;\n",
              "    }\n",
              "\n",
              "    .dataframe tbody tr th {\n",
              "        vertical-align: top;\n",
              "    }\n",
              "\n",
              "    .dataframe thead th {\n",
              "        text-align: right;\n",
              "    }\n",
              "</style>\n",
              "<table border=\"1\" class=\"dataframe\">\n",
              "  <thead>\n",
              "    <tr style=\"text-align: right;\">\n",
              "      <th></th>\n",
              "      <th>count</th>\n",
              "      <th>mean</th>\n",
              "      <th>std</th>\n",
              "      <th>min</th>\n",
              "      <th>25%</th>\n",
              "      <th>50%</th>\n",
              "      <th>75%</th>\n",
              "      <th>max</th>\n",
              "    </tr>\n",
              "  </thead>\n",
              "  <tbody>\n",
              "    <tr>\n",
              "      <th>DeviceIDHash</th>\n",
              "      <td>244126.0</td>\n",
              "      <td>4.627568e+18</td>\n",
              "      <td>2.642425e+18</td>\n",
              "      <td>6.888747e+15</td>\n",
              "      <td>2.372212e+18</td>\n",
              "      <td>4.623192e+18</td>\n",
              "      <td>6.932517e+18</td>\n",
              "      <td>9.222603e+18</td>\n",
              "    </tr>\n",
              "    <tr>\n",
              "      <th>EventTimestamp</th>\n",
              "      <td>244126.0</td>\n",
              "      <td>1.564914e+09</td>\n",
              "      <td>1.771343e+05</td>\n",
              "      <td>1.564030e+09</td>\n",
              "      <td>1.564757e+09</td>\n",
              "      <td>1.564919e+09</td>\n",
              "      <td>1.565075e+09</td>\n",
              "      <td>1.565213e+09</td>\n",
              "    </tr>\n",
              "    <tr>\n",
              "      <th>ExpId</th>\n",
              "      <td>244126.0</td>\n",
              "      <td>2.470223e+02</td>\n",
              "      <td>8.244339e-01</td>\n",
              "      <td>2.460000e+02</td>\n",
              "      <td>2.460000e+02</td>\n",
              "      <td>2.470000e+02</td>\n",
              "      <td>2.480000e+02</td>\n",
              "      <td>2.480000e+02</td>\n",
              "    </tr>\n",
              "  </tbody>\n",
              "</table>\n",
              "</div>"
            ],
            "text/plain": [
              "                   count          mean  ...           75%           max\n",
              "DeviceIDHash    244126.0  4.627568e+18  ...  6.932517e+18  9.222603e+18\n",
              "EventTimestamp  244126.0  1.564914e+09  ...  1.565075e+09  1.565213e+09\n",
              "ExpId           244126.0  2.470223e+02  ...  2.480000e+02  2.480000e+02\n",
              "\n",
              "[3 rows x 8 columns]"
            ]
          },
          "metadata": {}
        },
        {
          "output_type": "stream",
          "name": "stdout",
          "text": [
            "----\n",
            "Информация о пропусках и типах данных\n",
            "----\n",
            "\n",
            "<class 'pandas.core.frame.DataFrame'>\n",
            "RangeIndex: 244126 entries, 0 to 244125\n",
            "Data columns (total 4 columns):\n",
            " #   Column          Non-Null Count   Dtype \n",
            "---  ------          --------------   ----- \n",
            " 0   EventName       244126 non-null  object\n",
            " 1   DeviceIDHash    244126 non-null  int64 \n",
            " 2   EventTimestamp  244126 non-null  int64 \n",
            " 3   ExpId           244126 non-null  int64 \n",
            "dtypes: int64(3), object(1)\n",
            "memory usage: 7.5+ MB\n",
            "----\n",
            "\n"
          ]
        }
      ]
    },
    {
      "cell_type": "markdown",
      "metadata": {
        "id": "OTwCWkcbV6Fm"
      },
      "source": [
        "Данные загружены, пропусков нет, как упоминалось [выше](#data), артибутивный состав:  \n",
        "\n",
        "\n",
        "\n",
        "`EventName` — название события;  \n",
        "`DeviceIDHash` — уникальный идентификатор пользователя;  \n",
        "`EventTimestamp` — время события;  \n",
        "`ExpId` — номер эксперимента: `246` и `247` — контрольные группы, а `248` — экспериментальная.  \n",
        "\n",
        "\n",
        "Пропусков нет. `EventTimestamp` приведем к `datetime` для удобства работы. Также переимнуем названия признаков\n"
      ]
    },
    {
      "cell_type": "markdown",
      "metadata": {
        "id": "BNbH8DShW04N"
      },
      "source": [
        "Удалять столбец не будем, создадим новый - `event_date`"
      ]
    },
    {
      "cell_type": "code",
      "metadata": {
        "id": "iezmiZuPVkBE"
      },
      "source": [
        "df.columns= ['event_name', 'uid', 'event_timestamp', 'exp_id']\n",
        "df['event_date'] = pd.to_datetime(df['event_timestamp'], unit='s')"
      ],
      "execution_count": null,
      "outputs": []
    },
    {
      "cell_type": "code",
      "metadata": {
        "colab": {
          "base_uri": "https://localhost:8080/"
        },
        "id": "WgqZLLjaXNgk",
        "outputId": "7f7016b5-fbfd-4e55-b54e-54cd968d5b9e"
      },
      "source": [
        "df.head()"
      ],
      "execution_count": null,
      "outputs": [
        {
          "output_type": "execute_result",
          "data": {
            "text/html": [
              "<div>\n",
              "<style scoped>\n",
              "    .dataframe tbody tr th:only-of-type {\n",
              "        vertical-align: middle;\n",
              "    }\n",
              "\n",
              "    .dataframe tbody tr th {\n",
              "        vertical-align: top;\n",
              "    }\n",
              "\n",
              "    .dataframe thead th {\n",
              "        text-align: right;\n",
              "    }\n",
              "</style>\n",
              "<table border=\"1\" class=\"dataframe\">\n",
              "  <thead>\n",
              "    <tr style=\"text-align: right;\">\n",
              "      <th></th>\n",
              "      <th>event_name</th>\n",
              "      <th>uid</th>\n",
              "      <th>event_timestamp</th>\n",
              "      <th>exp_id</th>\n",
              "      <th>event_date</th>\n",
              "    </tr>\n",
              "  </thead>\n",
              "  <tbody>\n",
              "    <tr>\n",
              "      <th>0</th>\n",
              "      <td>MainScreenAppear</td>\n",
              "      <td>4575588528974610257</td>\n",
              "      <td>1564029816</td>\n",
              "      <td>246</td>\n",
              "      <td>2019-07-25 04:43:36</td>\n",
              "    </tr>\n",
              "    <tr>\n",
              "      <th>1</th>\n",
              "      <td>MainScreenAppear</td>\n",
              "      <td>7416695313311560658</td>\n",
              "      <td>1564053102</td>\n",
              "      <td>246</td>\n",
              "      <td>2019-07-25 11:11:42</td>\n",
              "    </tr>\n",
              "    <tr>\n",
              "      <th>2</th>\n",
              "      <td>PaymentScreenSuccessful</td>\n",
              "      <td>3518123091307005509</td>\n",
              "      <td>1564054127</td>\n",
              "      <td>248</td>\n",
              "      <td>2019-07-25 11:28:47</td>\n",
              "    </tr>\n",
              "    <tr>\n",
              "      <th>3</th>\n",
              "      <td>CartScreenAppear</td>\n",
              "      <td>3518123091307005509</td>\n",
              "      <td>1564054127</td>\n",
              "      <td>248</td>\n",
              "      <td>2019-07-25 11:28:47</td>\n",
              "    </tr>\n",
              "    <tr>\n",
              "      <th>4</th>\n",
              "      <td>PaymentScreenSuccessful</td>\n",
              "      <td>6217807653094995999</td>\n",
              "      <td>1564055322</td>\n",
              "      <td>248</td>\n",
              "      <td>2019-07-25 11:48:42</td>\n",
              "    </tr>\n",
              "  </tbody>\n",
              "</table>\n",
              "</div>"
            ],
            "text/plain": [
              "                event_name                  uid  ...  exp_id          event_date\n",
              "0         MainScreenAppear  4575588528974610257  ...     246 2019-07-25 04:43:36\n",
              "1         MainScreenAppear  7416695313311560658  ...     246 2019-07-25 11:11:42\n",
              "2  PaymentScreenSuccessful  3518123091307005509  ...     248 2019-07-25 11:28:47\n",
              "3         CartScreenAppear  3518123091307005509  ...     248 2019-07-25 11:28:47\n",
              "4  PaymentScreenSuccessful  6217807653094995999  ...     248 2019-07-25 11:48:42\n",
              "\n",
              "[5 rows x 5 columns]"
            ]
          },
          "metadata": {},
          "execution_count": 10
        }
      ]
    },
    {
      "cell_type": "code",
      "metadata": {
        "colab": {
          "base_uri": "https://localhost:8080/"
        },
        "id": "rqmmJ9ldXOXV",
        "outputId": "4dcceab4-396d-45da-e010-2cd075f52d1f"
      },
      "source": [
        "print(f'Количество дубликатов: {df.duplicated().sum()}')"
      ],
      "execution_count": null,
      "outputs": [
        {
          "output_type": "stream",
          "name": "stdout",
          "text": [
            "Количество дубликатов: 413\n"
          ]
        }
      ]
    },
    {
      "cell_type": "markdown",
      "metadata": {
        "id": "rUhaCT-gXly-"
      },
      "source": [
        "Удалим дублирующиеся записи. Данных достаточно для анализа. Необходимо уточнить причину появления дубликатов"
      ]
    },
    {
      "cell_type": "code",
      "metadata": {
        "id": "HupA9FxEXefE"
      },
      "source": [
        "logs = df.drop_duplicates().copy()\n",
        "assert logs.duplicated().sum() == 0, 'Дубликаты не удалены'"
      ],
      "execution_count": null,
      "outputs": []
    },
    {
      "cell_type": "code",
      "metadata": {
        "id": "73inUa0TY_Sv"
      },
      "source": [
        "logs = (logs.assign(\n",
        "                \n",
        "                session_date = lambda x: x['event_date'].dt.date.astype('datetime64[D]'),\n",
        "                session_week  = lambda x: x['event_date'].dt.week,\n",
        "                session_month = lambda x: x['event_date'].dt.month,\n",
        "                session_year = lambda x: x['event_date'].dt.year\n",
        "                \n",
        "                )\n",
        ")"
      ],
      "execution_count": null,
      "outputs": []
    },
    {
      "cell_type": "code",
      "metadata": {
        "colab": {
          "base_uri": "https://localhost:8080/"
        },
        "id": "g_3Jiy0xZNDD",
        "outputId": "713c2930-cebd-4517-bd67-256b1034a2b1"
      },
      "source": [
        "logs.head()"
      ],
      "execution_count": null,
      "outputs": [
        {
          "output_type": "execute_result",
          "data": {
            "text/html": [
              "<div>\n",
              "<style scoped>\n",
              "    .dataframe tbody tr th:only-of-type {\n",
              "        vertical-align: middle;\n",
              "    }\n",
              "\n",
              "    .dataframe tbody tr th {\n",
              "        vertical-align: top;\n",
              "    }\n",
              "\n",
              "    .dataframe thead th {\n",
              "        text-align: right;\n",
              "    }\n",
              "</style>\n",
              "<table border=\"1\" class=\"dataframe\">\n",
              "  <thead>\n",
              "    <tr style=\"text-align: right;\">\n",
              "      <th></th>\n",
              "      <th>event_name</th>\n",
              "      <th>uid</th>\n",
              "      <th>event_timestamp</th>\n",
              "      <th>exp_id</th>\n",
              "      <th>event_date</th>\n",
              "      <th>session_date</th>\n",
              "      <th>session_week</th>\n",
              "      <th>session_month</th>\n",
              "      <th>session_year</th>\n",
              "    </tr>\n",
              "  </thead>\n",
              "  <tbody>\n",
              "    <tr>\n",
              "      <th>0</th>\n",
              "      <td>MainScreenAppear</td>\n",
              "      <td>4575588528974610257</td>\n",
              "      <td>1564029816</td>\n",
              "      <td>246</td>\n",
              "      <td>2019-07-25 04:43:36</td>\n",
              "      <td>2019-07-25</td>\n",
              "      <td>30</td>\n",
              "      <td>7</td>\n",
              "      <td>2019</td>\n",
              "    </tr>\n",
              "    <tr>\n",
              "      <th>1</th>\n",
              "      <td>MainScreenAppear</td>\n",
              "      <td>7416695313311560658</td>\n",
              "      <td>1564053102</td>\n",
              "      <td>246</td>\n",
              "      <td>2019-07-25 11:11:42</td>\n",
              "      <td>2019-07-25</td>\n",
              "      <td>30</td>\n",
              "      <td>7</td>\n",
              "      <td>2019</td>\n",
              "    </tr>\n",
              "    <tr>\n",
              "      <th>2</th>\n",
              "      <td>PaymentScreenSuccessful</td>\n",
              "      <td>3518123091307005509</td>\n",
              "      <td>1564054127</td>\n",
              "      <td>248</td>\n",
              "      <td>2019-07-25 11:28:47</td>\n",
              "      <td>2019-07-25</td>\n",
              "      <td>30</td>\n",
              "      <td>7</td>\n",
              "      <td>2019</td>\n",
              "    </tr>\n",
              "    <tr>\n",
              "      <th>3</th>\n",
              "      <td>CartScreenAppear</td>\n",
              "      <td>3518123091307005509</td>\n",
              "      <td>1564054127</td>\n",
              "      <td>248</td>\n",
              "      <td>2019-07-25 11:28:47</td>\n",
              "      <td>2019-07-25</td>\n",
              "      <td>30</td>\n",
              "      <td>7</td>\n",
              "      <td>2019</td>\n",
              "    </tr>\n",
              "    <tr>\n",
              "      <th>4</th>\n",
              "      <td>PaymentScreenSuccessful</td>\n",
              "      <td>6217807653094995999</td>\n",
              "      <td>1564055322</td>\n",
              "      <td>248</td>\n",
              "      <td>2019-07-25 11:48:42</td>\n",
              "      <td>2019-07-25</td>\n",
              "      <td>30</td>\n",
              "      <td>7</td>\n",
              "      <td>2019</td>\n",
              "    </tr>\n",
              "  </tbody>\n",
              "</table>\n",
              "</div>"
            ],
            "text/plain": [
              "                event_name                  uid  ...  session_month  session_year\n",
              "0         MainScreenAppear  4575588528974610257  ...              7          2019\n",
              "1         MainScreenAppear  7416695313311560658  ...              7          2019\n",
              "2  PaymentScreenSuccessful  3518123091307005509  ...              7          2019\n",
              "3         CartScreenAppear  3518123091307005509  ...              7          2019\n",
              "4  PaymentScreenSuccessful  6217807653094995999  ...              7          2019\n",
              "\n",
              "[5 rows x 9 columns]"
            ]
          },
          "metadata": {},
          "execution_count": 14
        }
      ]
    },
    {
      "cell_type": "code",
      "metadata": {
        "colab": {
          "base_uri": "https://localhost:8080/"
        },
        "id": "3y1OlbRTZVxA",
        "outputId": "972ad377-b15b-47f1-f9e8-d96d1784904c"
      },
      "source": [
        "delta = (max(logs['session_date']) - min(logs['session_date'])) / np.timedelta64(1, 'D')\n",
        "\n",
        "print(f'Предоставлены данные за период в {delta + 1} дней')"
      ],
      "execution_count": null,
      "outputs": [
        {
          "output_type": "stream",
          "name": "stdout",
          "text": [
            "Предоставлены данные за период в 14.0 дней\n"
          ]
        }
      ]
    },
    {
      "cell_type": "markdown",
      "metadata": {
        "id": "dACsDqKqYEmq"
      },
      "source": [
        "### Выводы  \n",
        "\n",
        "\n",
        "Данные загружегны. Для удобства заменили названия признаков. Создали признак `event_date` - для удобства работы, типы данных `datetime`. Избавились от дубликатов, добавили также дополнительные столбцы для `даты сессии`, `недели`, `месяца` и `года`. В работе данные за 14 дней"
      ]
    },
    {
      "cell_type": "markdown",
      "metadata": {
        "id": "LCKk1j9MY1WJ"
      },
      "source": [
        "<a href=\"#footer\">К содержанию</a>\n",
        "<footer id=\"footer\"></footer>\n"
      ]
    },
    {
      "cell_type": "markdown",
      "metadata": {
        "id": "57SpjJ69dzbj"
      },
      "source": [
        "## Исследование данных"
      ]
    },
    {
      "cell_type": "markdown",
      "metadata": {
        "id": "8E1uMMk4eCF-"
      },
      "source": [
        "Исследуем наши данные и попробуем ответить на следующие вопросы :  \n",
        "\n",
        "- Сколько всего событий в логе?  \n",
        "- Сколько всего пользователей в логе?  \n",
        "- Сколько в среднем событий приходится на пользователя?  "
      ]
    },
    {
      "cell_type": "code",
      "metadata": {
        "colab": {
          "base_uri": "https://localhost:8080/"
        },
        "id": "1tlm_o_PX6HJ",
        "outputId": "348d25fa-10bf-4e9e-962d-753613b30f6d"
      },
      "source": [
        "events = logs['event_name'].count()\n",
        "users = logs['uid'].nunique()\n",
        "print(f'В логе данных информация о {events} событиях и '\n",
        "      f'содержит {users} уникальных пользователей')"
      ],
      "execution_count": null,
      "outputs": [
        {
          "output_type": "stream",
          "name": "stdout",
          "text": [
            "В логе данных информация о 243713 событиях и содержит 7551 уникальных пользователей\n"
          ]
        }
      ]
    },
    {
      "cell_type": "code",
      "metadata": {
        "colab": {
          "base_uri": "https://localhost:8080/"
        },
        "id": "NlhEi8Mkd656",
        "outputId": "aeb0a33b-58f2-4e3e-a78a-7b2130cef93e"
      },
      "source": [
        "users_events = logs.groupby('uid')['event_name'].count()\n",
        "\n",
        "mean_for_uid = round(users_events.mean(), 0)\n",
        "med_for_uid = round(users_events.median(), 0)\n",
        "mod_for_uid = round(users_events.mode()[0], 0)\n",
        "print(f'В среднем, на каждого пользователя приходится {mean_for_uid} событий')\n",
        "print(f'Медиана события на каждого пользователя - {med_for_uid} событий')\n",
        "print(f'Мода для количества событий на каждого пользователя - {mod_for_uid} событий')"
      ],
      "execution_count": null,
      "outputs": [
        {
          "output_type": "stream",
          "name": "stdout",
          "text": [
            "В среднем, на каждого пользователя приходится 32.0 событий\n",
            "Медиана события на каждого пользователя - 20.0 событий\n",
            "Мода для количества событий на каждого пользователя - 5 событий\n"
          ]
        }
      ]
    },
    {
      "cell_type": "code",
      "metadata": {
        "colab": {
          "base_uri": "https://localhost:8080/",
          "height": 294
        },
        "id": "NqTmszhuXUVx",
        "outputId": "1eec2a3f-5ddb-4f42-9898-b65fadf34eae"
      },
      "source": [
        "users_events.describe().to_frame('Значение')"
      ],
      "execution_count": null,
      "outputs": [
        {
          "output_type": "execute_result",
          "data": {
            "text/html": [
              "<div>\n",
              "<style scoped>\n",
              "    .dataframe tbody tr th:only-of-type {\n",
              "        vertical-align: middle;\n",
              "    }\n",
              "\n",
              "    .dataframe tbody tr th {\n",
              "        vertical-align: top;\n",
              "    }\n",
              "\n",
              "    .dataframe thead th {\n",
              "        text-align: right;\n",
              "    }\n",
              "</style>\n",
              "<table border=\"1\" class=\"dataframe\">\n",
              "  <thead>\n",
              "    <tr style=\"text-align: right;\">\n",
              "      <th></th>\n",
              "      <th>Значение</th>\n",
              "    </tr>\n",
              "  </thead>\n",
              "  <tbody>\n",
              "    <tr>\n",
              "      <th>count</th>\n",
              "      <td>7551.000000</td>\n",
              "    </tr>\n",
              "    <tr>\n",
              "      <th>mean</th>\n",
              "      <td>32.275593</td>\n",
              "    </tr>\n",
              "    <tr>\n",
              "      <th>std</th>\n",
              "      <td>65.154219</td>\n",
              "    </tr>\n",
              "    <tr>\n",
              "      <th>min</th>\n",
              "      <td>1.000000</td>\n",
              "    </tr>\n",
              "    <tr>\n",
              "      <th>25%</th>\n",
              "      <td>9.000000</td>\n",
              "    </tr>\n",
              "    <tr>\n",
              "      <th>50%</th>\n",
              "      <td>20.000000</td>\n",
              "    </tr>\n",
              "    <tr>\n",
              "      <th>75%</th>\n",
              "      <td>37.000000</td>\n",
              "    </tr>\n",
              "    <tr>\n",
              "      <th>max</th>\n",
              "      <td>2307.000000</td>\n",
              "    </tr>\n",
              "  </tbody>\n",
              "</table>\n",
              "</div>"
            ],
            "text/plain": [
              "          Значение\n",
              "count  7551.000000\n",
              "mean     32.275593\n",
              "std      65.154219\n",
              "min       1.000000\n",
              "25%       9.000000\n",
              "50%      20.000000\n",
              "75%      37.000000\n",
              "max    2307.000000"
            ]
          },
          "metadata": {},
          "execution_count": 18
        }
      ]
    },
    {
      "cell_type": "markdown",
      "metadata": {
        "id": "kchlZfBmXUVx"
      },
      "source": [
        "Среднее больше медианы, у данных будет перекос направо с длинным хвостом - есть выбросы. Посмотрим коробчатую диаграмму для значений событий на пользователя"
      ]
    },
    {
      "cell_type": "code",
      "metadata": {
        "colab": {
          "base_uri": "https://localhost:8080/",
          "height": 350
        },
        "id": "hXj6NYAqXUVy",
        "outputId": "8d73c273-79f9-482b-c6e3-76ed2bb21e2d"
      },
      "source": [
        "plt.figure(figsize=(15, 5))\n",
        "sns.boxplot(users_events)\n",
        "plt.title('Разброс значения количества событий на одного пользователя')\n",
        "plt.xlim(-10, 150)\n",
        "plt.xlabel('Количество событий')\n",
        "plt.show()"
      ],
      "execution_count": null,
      "outputs": [
        {
          "output_type": "display_data",
          "data": {
            "image/png": "[encoded data removed]",
            "text/plain": [
              "<Figure size 1080x360 with 1 Axes>"
            ]
          },
          "metadata": {
            "needs_background": "light"
          }
        }
      ]
    },
    {
      "cell_type": "markdown",
      "metadata": {
        "id": "1BEhxm6cXUVy"
      },
      "source": [
        "**Наши заключения подтверждаются:** значения количества событий на пользователя имеют ассиметричное распределение с длинным хвостом. В дальнейшем мы будем смотреть данные в разрезе количества пользователей на событие, а не количество событий на ползователя"
      ]
    },
    {
      "cell_type": "code",
      "metadata": {
        "colab": {
          "base_uri": "https://localhost:8080/"
        },
        "id": "uSPTNfV4d638",
        "outputId": "eb184005-7c83-4aac-8ccf-2e06014cc20f"
      },
      "source": [
        "dau = logs.groupby('session_date').agg({'uid': 'nunique'})\n",
        "print(f'Среднее DAU составляет  -  {int(dau.mean())} уникальных пользователей в день;')"
      ],
      "execution_count": null,
      "outputs": [
        {
          "output_type": "stream",
          "name": "stdout",
          "text": [
            "Среднее DAU составляет  -  1944 уникальных пользователей в день;\n"
          ]
        }
      ]
    },
    {
      "cell_type": "code",
      "metadata": {
        "colab": {
          "base_uri": "https://localhost:8080/",
          "height": 373
        },
        "id": "FKjEDug0jUHE",
        "outputId": "45ebb701-82b0-4f73-9b45-5003690b3290"
      },
      "source": [
        "au_plot(dau, 'DAU')"
      ],
      "execution_count": null,
      "outputs": [
        {
          "output_type": "display_data",
          "data": {
            "image/png": "[encoded data removed]",
            "text/plain": [
              "<Figure size 1080x360 with 1 Axes>"
            ]
          },
          "metadata": {
            "needs_background": "light"
          }
        }
      ]
    },
    {
      "cell_type": "markdown",
      "metadata": {
        "id": "6TILYkRxjc1w"
      },
      "source": [
        "Технически в логи новых дней по некоторым пользователям могут «доезжать» события из прошлого — это может «перекашивать данные». Посмотрим на гистрограмму по датам. Довольно странный рост - у нас не было информации об открытии магазина"
      ]
    },
    {
      "cell_type": "code",
      "metadata": {
        "colab": {
          "base_uri": "https://localhost:8080/",
          "height": 385
        },
        "id": "hQew_WRgj5tX",
        "outputId": "70538dd1-f624-45e5-b4ad-d9854a363ade"
      },
      "source": [
        "plt.figure(figsize=(15, 5))\n",
        "\n",
        "logs['event_date'].hist(bins=150, ec='black', alpha=.71)\n",
        "plt.title('Распределение событий')\n",
        "plt.xlabel('Запись времени события')\n",
        "plt.ylabel('Количество событий')\n",
        "plt.xticks(rotation=42)\n",
        "plt.show()"
      ],
      "execution_count": null,
      "outputs": [
        {
          "output_type": "display_data",
          "data": {
            "image/png": "[encoded data removed]",
            "text/plain": [
              "<Figure size 1080x360 with 1 Axes>"
            ]
          },
          "metadata": {
            "needs_background": "light"
          }
        }
      ]
    },
    {
      "cell_type": "markdown",
      "metadata": {
        "id": "VnleMil8XUVz"
      },
      "source": [
        "Мы видим некоторый рост, который начинается между 31 июля 2019 года и 01 августа 2019 года. Посмотрим данный промежуток более подробно"
      ]
    },
    {
      "cell_type": "code",
      "metadata": {
        "colab": {
          "base_uri": "https://localhost:8080/",
          "height": 376
        },
        "id": "NBXG7SoyXUVz",
        "outputId": "fc259dc7-9f25-4212-baf8-00af157e8fa2"
      },
      "source": [
        "min_date = logs.loc[logs['event_date'] >= '2019-07-31']['event_date'].min()\n",
        "max_date = logs.loc[logs['event_date'] >= '2019-08-02']['event_date'].min()\n",
        "\n",
        "plt.figure(figsize=(15, 5))\n",
        "\n",
        "ax = logs['event_date'].hist(bins=500, ec='black', alpha=.71)\n",
        "plt.title('Распределение событий. Фокус на 31.07 - 01.08')\n",
        "plt.xlabel('Запись времени события')\n",
        "plt.ylabel('Количество событий')\n",
        "plt.xticks(rotation=42)\n",
        "plt.xlim(left=min_date, right=max_date)\n",
        "\n",
        "plt.vlines(x=datetime.datetime(2019, 7, 31, 21, 0), ymin=0, ymax=3000, linestyle='--')\n",
        "plt.text(datetime.datetime(2019, 7, 31, 20, 0), 150, '2019-07-31 21:00', rotation=90, va='center')\n",
        "plt.ylim(top=600)\n",
        "plt.show()"
      ],
      "execution_count": null,
      "outputs": [
        {
          "output_type": "display_data",
          "data": {
            "image/png": "[encoded data removed]",
            "text/plain": [
              "<Figure size 1080x360 with 1 Axes>"
            ]
          },
          "metadata": {
            "needs_background": "light"
          }
        }
      ]
    },
    {
      "cell_type": "markdown",
      "metadata": {
        "id": "yHgS_rrdlTw5"
      },
      "source": [
        "Мы наблюдаем всплеск в `21:00 31.07.2019` года - это похоже на начало теста - начали поступать данные. Хвост похож на хвост остальны дневных гистограмм. Для того, чтобы не искажать анализ, уберем данные за июль до `21:00`"
      ]
    },
    {
      "cell_type": "code",
      "metadata": {
        "id": "emTCQ17llaRw"
      },
      "source": [
        "logs_quer = logs.loc[logs['event_date'] >= '2019-07-31 21:00:00']"
      ],
      "execution_count": null,
      "outputs": []
    },
    {
      "cell_type": "code",
      "metadata": {
        "colab": {
          "base_uri": "https://localhost:8080/",
          "height": 202
        },
        "id": "MMDQe1omljwT",
        "outputId": "19629b07-3504-49e6-8eca-ca1bd936785a"
      },
      "source": [
        "logs_quer.head()"
      ],
      "execution_count": null,
      "outputs": [
        {
          "output_type": "execute_result",
          "data": {
            "text/html": [
              "<div>\n",
              "<style scoped>\n",
              "    .dataframe tbody tr th:only-of-type {\n",
              "        vertical-align: middle;\n",
              "    }\n",
              "\n",
              "    .dataframe tbody tr th {\n",
              "        vertical-align: top;\n",
              "    }\n",
              "\n",
              "    .dataframe thead th {\n",
              "        text-align: right;\n",
              "    }\n",
              "</style>\n",
              "<table border=\"1\" class=\"dataframe\">\n",
              "  <thead>\n",
              "    <tr style=\"text-align: right;\">\n",
              "      <th></th>\n",
              "      <th>event_name</th>\n",
              "      <th>uid</th>\n",
              "      <th>event_timestamp</th>\n",
              "      <th>exp_id</th>\n",
              "      <th>event_date</th>\n",
              "      <th>session_date</th>\n",
              "      <th>session_week</th>\n",
              "      <th>session_month</th>\n",
              "      <th>session_year</th>\n",
              "    </tr>\n",
              "  </thead>\n",
              "  <tbody>\n",
              "    <tr>\n",
              "      <th>1990</th>\n",
              "      <td>MainScreenAppear</td>\n",
              "      <td>7701922487875823903</td>\n",
              "      <td>1564606857</td>\n",
              "      <td>247</td>\n",
              "      <td>2019-07-31 21:00:57</td>\n",
              "      <td>2019-07-31</td>\n",
              "      <td>31</td>\n",
              "      <td>7</td>\n",
              "      <td>2019</td>\n",
              "    </tr>\n",
              "    <tr>\n",
              "      <th>1991</th>\n",
              "      <td>MainScreenAppear</td>\n",
              "      <td>2539077412200498909</td>\n",
              "      <td>1564606905</td>\n",
              "      <td>247</td>\n",
              "      <td>2019-07-31 21:01:45</td>\n",
              "      <td>2019-07-31</td>\n",
              "      <td>31</td>\n",
              "      <td>7</td>\n",
              "      <td>2019</td>\n",
              "    </tr>\n",
              "    <tr>\n",
              "      <th>1992</th>\n",
              "      <td>OffersScreenAppear</td>\n",
              "      <td>3286987355161301427</td>\n",
              "      <td>1564606941</td>\n",
              "      <td>248</td>\n",
              "      <td>2019-07-31 21:02:21</td>\n",
              "      <td>2019-07-31</td>\n",
              "      <td>31</td>\n",
              "      <td>7</td>\n",
              "      <td>2019</td>\n",
              "    </tr>\n",
              "    <tr>\n",
              "      <th>1993</th>\n",
              "      <td>OffersScreenAppear</td>\n",
              "      <td>3187166762535343300</td>\n",
              "      <td>1564606943</td>\n",
              "      <td>247</td>\n",
              "      <td>2019-07-31 21:02:23</td>\n",
              "      <td>2019-07-31</td>\n",
              "      <td>31</td>\n",
              "      <td>7</td>\n",
              "      <td>2019</td>\n",
              "    </tr>\n",
              "    <tr>\n",
              "      <th>1994</th>\n",
              "      <td>MainScreenAppear</td>\n",
              "      <td>1118952406011435924</td>\n",
              "      <td>1564607005</td>\n",
              "      <td>248</td>\n",
              "      <td>2019-07-31 21:03:25</td>\n",
              "      <td>2019-07-31</td>\n",
              "      <td>31</td>\n",
              "      <td>7</td>\n",
              "      <td>2019</td>\n",
              "    </tr>\n",
              "  </tbody>\n",
              "</table>\n",
              "</div>"
            ],
            "text/plain": [
              "              event_name                  uid  ...  session_month  session_year\n",
              "1990    MainScreenAppear  7701922487875823903  ...              7          2019\n",
              "1991    MainScreenAppear  2539077412200498909  ...              7          2019\n",
              "1992  OffersScreenAppear  3286987355161301427  ...              7          2019\n",
              "1993  OffersScreenAppear  3187166762535343300  ...              7          2019\n",
              "1994    MainScreenAppear  1118952406011435924  ...              7          2019\n",
              "\n",
              "[5 rows x 9 columns]"
            ]
          },
          "metadata": {},
          "execution_count": 25
        }
      ]
    },
    {
      "cell_type": "markdown",
      "metadata": {
        "id": "GHyksHeVXUV0"
      },
      "source": [
        "Таким образом, получили новый сет данных с пользователями начиная с 21 часа 31 июля 2019 года. Посмотрим снова на гистограмму:"
      ]
    },
    {
      "cell_type": "code",
      "metadata": {
        "colab": {
          "base_uri": "https://localhost:8080/",
          "height": 385
        },
        "id": "qRPa9X57XUV0",
        "outputId": "c95ad074-ae4b-45e5-e788-540aa58dec10"
      },
      "source": [
        "plt.figure(figsize=(15, 5))\n",
        "\n",
        "logs_quer['event_date'].hist(bins=150, ec='black', alpha=.71)\n",
        "plt.title('Распределение событий после очистки от событий до 31.07.21 21:00')\n",
        "plt.xlabel('Запись времени события')\n",
        "plt.ylabel('Количество событий')\n",
        "plt.xticks(rotation=42)\n",
        "plt.show()"
      ],
      "execution_count": null,
      "outputs": [
        {
          "output_type": "display_data",
          "data": {
            "image/png": "[encoded data removed]",
            "text/plain": [
              "<Figure size 1080x360 with 1 Axes>"
            ]
          },
          "metadata": {
            "needs_background": "light"
          }
        }
      ]
    },
    {
      "cell_type": "markdown",
      "metadata": {
        "id": "mGhGfbwEXUV0"
      },
      "source": [
        "Получили ожидаемый результат, но нам необходимо проверить, что с нашими пользователями и событиями в логе, по сравнению с первыми выводами:"
      ]
    },
    {
      "cell_type": "code",
      "metadata": {
        "colab": {
          "base_uri": "https://localhost:8080/"
        },
        "id": "AG3jt-Z-lzrZ",
        "outputId": "b1c7f7b3-5ab2-46e3-b631-d8e448394002"
      },
      "source": [
        "events_q = logs_quer['event_name'].count()\n",
        "users_q = logs_quer['uid'].nunique()\n",
        "print(f'В логе данных информации о событиях стало {events_q} событий (ранее - {events}) и '\n",
        "      f'содержится {users_q} уникальных пользователей вместо {users} ')\n",
        "\n",
        "print(f'Удалили информацию о {events-events_q} ({1 - events_q/events:.2%}) событиях'\n",
        "      f' и {users-users_q} ({1 - users_q/users:.2%}) пользователях')"
      ],
      "execution_count": null,
      "outputs": [
        {
          "output_type": "stream",
          "name": "stdout",
          "text": [
            "В логе данных информации о событиях стало 241724 событий (ранее - 243713) и содержится 7538 уникальных пользователей вместо 7551 \n",
            "Удалили информацию о 1989 (0.82%) событиях и 13 (0.17%) пользователях\n"
          ]
        }
      ]
    },
    {
      "cell_type": "markdown",
      "metadata": {
        "id": "SefdILSumNIP"
      },
      "source": [
        "Мы не потеряли много данных. Решение корректное"
      ]
    },
    {
      "cell_type": "code",
      "metadata": {
        "colab": {
          "base_uri": "https://localhost:8080/"
        },
        "id": "1LgRCogjd6yf",
        "outputId": "2977e57b-9c0c-480c-d6e4-960833509f3c"
      },
      "source": [
        "sessions_by_day = int(logs_quer.groupby(['session_date']).agg({'uid':['count']}).mean())\n",
        "print(f'Среднее количество сессий в день составляет: {sessions_by_day}')"
      ],
      "execution_count": null,
      "outputs": [
        {
          "output_type": "stream",
          "name": "stdout",
          "text": [
            "Среднее количество сессий в день составляет: 30215\n"
          ]
        }
      ]
    },
    {
      "cell_type": "markdown",
      "metadata": {
        "id": "qBUR7g5-jGK_"
      },
      "source": [
        "Достаточно внушительный показатель. Посчитаем среднее количество сессия в день на пользователя"
      ]
    },
    {
      "cell_type": "code",
      "metadata": {
        "colab": {
          "base_uri": "https://localhost:8080/"
        },
        "id": "T0lPCLQ8d6vr",
        "outputId": "60a97bbd-38fa-49a3-90e6-5a22ce275bc6"
      },
      "source": [
        "sess_per_user = logs_quer.groupby(['session_date', 'uid']).agg({'event_date': 'count'})\n",
        "sess_per_user = sess_per_user.groupby('session_date').agg({'event_date': 'mean'})\n",
        "cnt = round(sess_per_user['event_date'].mean(), 2)\n",
        "print(f'Среднее количество сессий в день на пользователя: {cnt}')"
      ],
      "execution_count": null,
      "outputs": [
        {
          "output_type": "stream",
          "name": "stdout",
          "text": [
            "Среднее количество сессий в день на пользователя: 8.85\n"
          ]
        }
      ]
    },
    {
      "cell_type": "code",
      "metadata": {
        "colab": {
          "base_uri": "https://localhost:8080/",
          "height": 141
        },
        "id": "7TwIFbwXnnwc",
        "outputId": "a610c5dc-f346-4e86-b5cb-28ad383a8773"
      },
      "source": [
        "logs_quer.groupby(['exp_id'], as_index=False)['uid'].nunique().assign(\n",
        "    user_sum = lambda x: x['uid'].sum(),\n",
        "    pct = lambda x: round(x['uid'] / x['user_sum'] * 100, 2)\n",
        "\n",
        ")"
      ],
      "execution_count": null,
      "outputs": [
        {
          "output_type": "execute_result",
          "data": {
            "text/html": [
              "<div>\n",
              "<style scoped>\n",
              "    .dataframe tbody tr th:only-of-type {\n",
              "        vertical-align: middle;\n",
              "    }\n",
              "\n",
              "    .dataframe tbody tr th {\n",
              "        vertical-align: top;\n",
              "    }\n",
              "\n",
              "    .dataframe thead th {\n",
              "        text-align: right;\n",
              "    }\n",
              "</style>\n",
              "<table border=\"1\" class=\"dataframe\">\n",
              "  <thead>\n",
              "    <tr style=\"text-align: right;\">\n",
              "      <th></th>\n",
              "      <th>exp_id</th>\n",
              "      <th>uid</th>\n",
              "      <th>user_sum</th>\n",
              "      <th>pct</th>\n",
              "    </tr>\n",
              "  </thead>\n",
              "  <tbody>\n",
              "    <tr>\n",
              "      <th>0</th>\n",
              "      <td>246</td>\n",
              "      <td>2484</td>\n",
              "      <td>7538</td>\n",
              "      <td>32.95</td>\n",
              "    </tr>\n",
              "    <tr>\n",
              "      <th>1</th>\n",
              "      <td>247</td>\n",
              "      <td>2517</td>\n",
              "      <td>7538</td>\n",
              "      <td>33.39</td>\n",
              "    </tr>\n",
              "    <tr>\n",
              "      <th>2</th>\n",
              "      <td>248</td>\n",
              "      <td>2537</td>\n",
              "      <td>7538</td>\n",
              "      <td>33.66</td>\n",
              "    </tr>\n",
              "  </tbody>\n",
              "</table>\n",
              "</div>"
            ],
            "text/plain": [
              "   exp_id   uid  user_sum    pct\n",
              "0     246  2484      7538  32.95\n",
              "1     247  2517      7538  33.39\n",
              "2     248  2537      7538  33.66"
            ]
          },
          "metadata": {},
          "execution_count": 31
        }
      ]
    },
    {
      "cell_type": "markdown",
      "metadata": {
        "id": "UBFWacUroSDT"
      },
      "source": [
        "В группах содержится примерно одинаковое количество уникальных пользователей. В данных представителии всех трех групп"
      ]
    },
    {
      "cell_type": "markdown",
      "metadata": {
        "id": "_-_euz_PolWx"
      },
      "source": [
        "### Выводы  \n",
        "\n",
        "\n",
        "В процессе исследования выявили аномалию. Удалили информацию о 1989 (0.82%) событиях и 13 (0.17%) пользователях. При этом процентное соотношение представителей групп - примерно равно. Нам необходимо проанализировать воронку событий, дальше приступим к исследованию наших групп\n"
      ]
    },
    {
      "cell_type": "markdown",
      "metadata": {
        "id": "CU5hlSS0d4CJ"
      },
      "source": [
        "<a href=\"#footer\">К содержанию</a>\n",
        "<footer id=\"footer\"></footer>\n"
      ]
    },
    {
      "cell_type": "markdown",
      "metadata": {
        "id": "DXVoSWSRpH2c"
      },
      "source": [
        "## Изучение воронки событий"
      ]
    },
    {
      "cell_type": "markdown",
      "metadata": {
        "id": "aZFIGGCzqnhk"
      },
      "source": [
        "Посмотрим, какие события есть в логах и как часто они встречаются"
      ]
    },
    {
      "cell_type": "code",
      "metadata": {
        "colab": {
          "base_uri": "https://localhost:8080/",
          "height": 218
        },
        "id": "MrnLyORSd4Qa",
        "outputId": "6ec2763d-87bc-4afc-bba5-4a72344b07c5"
      },
      "source": [
        "(logs_quer\n",
        " .groupby('event_name', as_index=False)['uid']\n",
        " .count()\n",
        " .rename(columns={'uid':'cnt'})\n",
        " .sort_values(by='cnt', ascending=False)\n",
        " .style.set_caption('Событие и количетво в логе')\n",
        " .set_precision(2)\n",
        " .background_gradient(low=0)\n",
        " \n",
        " )\n",
        " "
      ],
      "execution_count": null,
      "outputs": [
        {
          "output_type": "execute_result",
          "data": {
            "text/html": [
              "<style  type=\"text/css\" >\n",
              "#T_4329600c_47dd_11ec_a02b_0242ac1c0002row0_col1{\n",
              "            background-color:  #023858;\n",
              "            color:  #f1f1f1;\n",
              "        }#T_4329600c_47dd_11ec_a02b_0242ac1c0002row1_col1{\n",
              "            background-color:  #a1bbda;\n",
              "            color:  #000000;\n",
              "        }#T_4329600c_47dd_11ec_a02b_0242ac1c0002row2_col1{\n",
              "            background-color:  #adc1dd;\n",
              "            color:  #000000;\n",
              "        }#T_4329600c_47dd_11ec_a02b_0242ac1c0002row3_col1{\n",
              "            background-color:  #c5cce3;\n",
              "            color:  #000000;\n",
              "        }#T_4329600c_47dd_11ec_a02b_0242ac1c0002row4_col1{\n",
              "            background-color:  #fff7fb;\n",
              "            color:  #000000;\n",
              "        }</style><table id=\"T_4329600c_47dd_11ec_a02b_0242ac1c0002\" class=\"dataframe\"><caption>Событие и количетво в логе</caption><thead>    <tr>        <th class=\"blank level0\" ></th>        <th class=\"col_heading level0 col0\" >event_name</th>        <th class=\"col_heading level0 col1\" >cnt</th>    </tr></thead><tbody>\n",
              "                <tr>\n",
              "                        <th id=\"T_4329600c_47dd_11ec_a02b_0242ac1c0002level0_row0\" class=\"row_heading level0 row0\" >1</th>\n",
              "                        <td id=\"T_4329600c_47dd_11ec_a02b_0242ac1c0002row0_col0\" class=\"data row0 col0\" >MainScreenAppear</td>\n",
              "                        <td id=\"T_4329600c_47dd_11ec_a02b_0242ac1c0002row0_col1\" class=\"data row0 col1\" >117889</td>\n",
              "            </tr>\n",
              "            <tr>\n",
              "                        <th id=\"T_4329600c_47dd_11ec_a02b_0242ac1c0002level0_row1\" class=\"row_heading level0 row1\" >2</th>\n",
              "                        <td id=\"T_4329600c_47dd_11ec_a02b_0242ac1c0002row1_col0\" class=\"data row1 col0\" >OffersScreenAppear</td>\n",
              "                        <td id=\"T_4329600c_47dd_11ec_a02b_0242ac1c0002row1_col1\" class=\"data row1 col1\" >46531</td>\n",
              "            </tr>\n",
              "            <tr>\n",
              "                        <th id=\"T_4329600c_47dd_11ec_a02b_0242ac1c0002level0_row2\" class=\"row_heading level0 row2\" >0</th>\n",
              "                        <td id=\"T_4329600c_47dd_11ec_a02b_0242ac1c0002row2_col0\" class=\"data row2 col0\" >CartScreenAppear</td>\n",
              "                        <td id=\"T_4329600c_47dd_11ec_a02b_0242ac1c0002row2_col1\" class=\"data row2 col1\" >42343</td>\n",
              "            </tr>\n",
              "            <tr>\n",
              "                        <th id=\"T_4329600c_47dd_11ec_a02b_0242ac1c0002level0_row3\" class=\"row_heading level0 row3\" >3</th>\n",
              "                        <td id=\"T_4329600c_47dd_11ec_a02b_0242ac1c0002row3_col0\" class=\"data row3 col0\" >PaymentScreenSuccessful</td>\n",
              "                        <td id=\"T_4329600c_47dd_11ec_a02b_0242ac1c0002row3_col1\" class=\"data row3 col1\" >33951</td>\n",
              "            </tr>\n",
              "            <tr>\n",
              "                        <th id=\"T_4329600c_47dd_11ec_a02b_0242ac1c0002level0_row4\" class=\"row_heading level0 row4\" >4</th>\n",
              "                        <td id=\"T_4329600c_47dd_11ec_a02b_0242ac1c0002row4_col0\" class=\"data row4 col0\" >Tutorial</td>\n",
              "                        <td id=\"T_4329600c_47dd_11ec_a02b_0242ac1c0002row4_col1\" class=\"data row4 col1\" >1010</td>\n",
              "            </tr>\n",
              "    </tbody></table>"
            ],
            "text/plain": [
              "<pandas.io.formats.style.Styler at 0x7f84e65723d0>"
            ]
          },
          "metadata": {},
          "execution_count": 32
        }
      ]
    },
    {
      "cell_type": "markdown",
      "metadata": {
        "id": "Ki1kUZPIrFmt"
      },
      "source": [
        "В логе представлено пять различных событий.\n",
        "\n",
        "`MainScreenAppear` - событие, связанное с появлением пользователя на главном экране  \n",
        "`OffersScreenAppear` - событие, связанное с появлениемкакого-либо предложения  \n",
        "`CartScreenAppear` - посещение корзины  \n",
        "`PaymentScreenSuccessful` - оплата товара  \n",
        "`Tutorial` - прохождение обучения  - неизвестно, является ли туториал обязательным или нет. Стоит ли вообще включать его в воронку - необходимо также обдумать этот вопрос."
      ]
    },
    {
      "cell_type": "markdown",
      "metadata": {
        "id": "XPXK_rlXtCTL"
      },
      "source": [
        "Посмотрим по уникальным пользователямю Также добавим пользователей на начало, то есть перед событием `MainScreenAppear`"
      ]
    },
    {
      "cell_type": "code",
      "metadata": {
        "id": "T1ZMbInLXUV2"
      },
      "source": [
        "init_users = pd.Series({\n",
        "            'event_name': 'Total',\n",
        "            'uid_cnt': logs_quer['uid'].nunique()})\n",
        "\n",
        "\n",
        "unique_users = (logs_quer.groupby('event_name')['uid']\n",
        "                .nunique()\n",
        "                .reset_index()\n",
        "                .rename(columns={'uid':'uid_cnt'})\n",
        "                .append(init_users, ignore_index=True)\n",
        "                .sort_values(by='uid_cnt', ascending=False)\n",
        "                .reset_index(drop=True)\n",
        "\n",
        "               )"
      ],
      "execution_count": null,
      "outputs": []
    },
    {
      "cell_type": "code",
      "metadata": {
        "colab": {
          "base_uri": "https://localhost:8080/",
          "height": 248
        },
        "id": "tKld2X2qXUV2",
        "outputId": "129a5c21-1e0f-4ac2-c720-ad848c67768d"
      },
      "source": [
        "(unique_users.style.set_caption('Событие и количество пользователей')\n",
        "                   .set_precision(2)\n",
        "                   .background_gradient(low=0)\n",
        ")"
      ],
      "execution_count": null,
      "outputs": [
        {
          "output_type": "execute_result",
          "data": {
            "text/html": [
              "<style  type=\"text/css\" >\n",
              "#T_4393fdfe_47dd_11ec_a02b_0242ac1c0002row0_col1{\n",
              "            background-color:  #023858;\n",
              "            color:  #f1f1f1;\n",
              "        }#T_4393fdfe_47dd_11ec_a02b_0242ac1c0002row1_col1{\n",
              "            background-color:  #023c5f;\n",
              "            color:  #f1f1f1;\n",
              "        }#T_4393fdfe_47dd_11ec_a02b_0242ac1c0002row2_col1{\n",
              "            background-color:  #569dc8;\n",
              "            color:  #000000;\n",
              "        }#T_4393fdfe_47dd_11ec_a02b_0242ac1c0002row3_col1{\n",
              "            background-color:  #8fb4d6;\n",
              "            color:  #000000;\n",
              "        }#T_4393fdfe_47dd_11ec_a02b_0242ac1c0002row4_col1{\n",
              "            background-color:  #9ab8d8;\n",
              "            color:  #000000;\n",
              "        }#T_4393fdfe_47dd_11ec_a02b_0242ac1c0002row5_col1{\n",
              "            background-color:  #fff7fb;\n",
              "            color:  #000000;\n",
              "        }</style><table id=\"T_4393fdfe_47dd_11ec_a02b_0242ac1c0002\" class=\"dataframe\"><caption>Событие и количество пользователей</caption><thead>    <tr>        <th class=\"blank level0\" ></th>        <th class=\"col_heading level0 col0\" >event_name</th>        <th class=\"col_heading level0 col1\" >uid_cnt</th>    </tr></thead><tbody>\n",
              "                <tr>\n",
              "                        <th id=\"T_4393fdfe_47dd_11ec_a02b_0242ac1c0002level0_row0\" class=\"row_heading level0 row0\" >0</th>\n",
              "                        <td id=\"T_4393fdfe_47dd_11ec_a02b_0242ac1c0002row0_col0\" class=\"data row0 col0\" >Total</td>\n",
              "                        <td id=\"T_4393fdfe_47dd_11ec_a02b_0242ac1c0002row0_col1\" class=\"data row0 col1\" >7538</td>\n",
              "            </tr>\n",
              "            <tr>\n",
              "                        <th id=\"T_4393fdfe_47dd_11ec_a02b_0242ac1c0002level0_row1\" class=\"row_heading level0 row1\" >1</th>\n",
              "                        <td id=\"T_4393fdfe_47dd_11ec_a02b_0242ac1c0002row1_col0\" class=\"data row1 col0\" >MainScreenAppear</td>\n",
              "                        <td id=\"T_4393fdfe_47dd_11ec_a02b_0242ac1c0002row1_col1\" class=\"data row1 col1\" >7423</td>\n",
              "            </tr>\n",
              "            <tr>\n",
              "                        <th id=\"T_4393fdfe_47dd_11ec_a02b_0242ac1c0002level0_row2\" class=\"row_heading level0 row2\" >2</th>\n",
              "                        <td id=\"T_4393fdfe_47dd_11ec_a02b_0242ac1c0002row2_col0\" class=\"data row2 col0\" >OffersScreenAppear</td>\n",
              "                        <td id=\"T_4393fdfe_47dd_11ec_a02b_0242ac1c0002row2_col1\" class=\"data row2 col1\" >4597</td>\n",
              "            </tr>\n",
              "            <tr>\n",
              "                        <th id=\"T_4393fdfe_47dd_11ec_a02b_0242ac1c0002level0_row3\" class=\"row_heading level0 row3\" >3</th>\n",
              "                        <td id=\"T_4393fdfe_47dd_11ec_a02b_0242ac1c0002row3_col0\" class=\"data row3 col0\" >CartScreenAppear</td>\n",
              "                        <td id=\"T_4393fdfe_47dd_11ec_a02b_0242ac1c0002row3_col1\" class=\"data row3 col1\" >3736</td>\n",
              "            </tr>\n",
              "            <tr>\n",
              "                        <th id=\"T_4393fdfe_47dd_11ec_a02b_0242ac1c0002level0_row4\" class=\"row_heading level0 row4\" >4</th>\n",
              "                        <td id=\"T_4393fdfe_47dd_11ec_a02b_0242ac1c0002row4_col0\" class=\"data row4 col0\" >PaymentScreenSuccessful</td>\n",
              "                        <td id=\"T_4393fdfe_47dd_11ec_a02b_0242ac1c0002row4_col1\" class=\"data row4 col1\" >3540</td>\n",
              "            </tr>\n",
              "            <tr>\n",
              "                        <th id=\"T_4393fdfe_47dd_11ec_a02b_0242ac1c0002level0_row5\" class=\"row_heading level0 row5\" >5</th>\n",
              "                        <td id=\"T_4393fdfe_47dd_11ec_a02b_0242ac1c0002row5_col0\" class=\"data row5 col0\" >Tutorial</td>\n",
              "                        <td id=\"T_4393fdfe_47dd_11ec_a02b_0242ac1c0002row5_col1\" class=\"data row5 col1\" >843</td>\n",
              "            </tr>\n",
              "    </tbody></table>"
            ],
            "text/plain": [
              "<pandas.io.formats.style.Styler at 0x7f84e45e4410>"
            ]
          },
          "metadata": {},
          "execution_count": 34
        }
      ]
    },
    {
      "cell_type": "code",
      "metadata": {
        "id": "uEGrRU8BtGaR"
      },
      "source": [
        "uid_event_cnt = logs_quer.groupby('uid')['event_name'].nunique().reset_index().rename(columns={'event_name':'event_cnt'})\n",
        "uid_all_events = uid_event_cnt.loc[uid_event_cnt['event_cnt'] > 4]['uid'].count()"
      ],
      "execution_count": null,
      "outputs": []
    },
    {
      "cell_type": "code",
      "metadata": {
        "colab": {
          "base_uri": "https://localhost:8080/"
        },
        "id": "fO94_uPtuF-H",
        "outputId": "3cbf7ac3-6595-4ec0-8c1f-026d68acebfe"
      },
      "source": [
        "print(f'Количество пользователей, совершавших все события {uid_all_events} человек')\n",
        "print(f'Доля таких пользователей {round(uid_all_events * 100.0 / uid_event_cnt.shape[0], 2)} %')"
      ],
      "execution_count": null,
      "outputs": [
        {
          "output_type": "stream",
          "name": "stdout",
          "text": [
            "Количество пользователей, совершавших все события 469 человек\n",
            "Доля таких пользователей 6.22 %\n"
          ]
        }
      ]
    },
    {
      "cell_type": "code",
      "metadata": {
        "id": "k7UWfwpPYK3V"
      },
      "source": [
        "user_single_event = (\n",
        "    uid_event_cnt[uid_event_cnt['event_cnt'] == 1]['uid'].count() \n",
        "    / len(logs['uid'].unique()))"
      ],
      "execution_count": null,
      "outputs": []
    },
    {
      "cell_type": "code",
      "metadata": {
        "colab": {
          "base_uri": "https://localhost:8080/"
        },
        "id": "TxsVh8st_D9N",
        "outputId": "3fb61cb8-8825-4b1e-ba90-f3d779697d94"
      },
      "source": [
        "print(f'Доля пользователей, совершивших только одно действие {round(user_single_event * 100, 2)} %')"
      ],
      "execution_count": null,
      "outputs": [
        {
          "output_type": "stream",
          "name": "stdout",
          "text": [
            "Доля пользователей, совершивших только одно действие 35.98 %\n"
          ]
        }
      ]
    },
    {
      "cell_type": "markdown",
      "metadata": {
        "id": "be9QrFazA1XU"
      },
      "source": [
        "Достаточно много. Посмотрим пользователей по событиям и откинем тех, у кого в записи отсутствует главный экран"
      ]
    },
    {
      "cell_type": "code",
      "metadata": {
        "colab": {
          "base_uri": "https://localhost:8080/"
        },
        "id": "WtCqvJVXEjjB",
        "outputId": "f05a5f5e-dd7c-489a-8943-6361adebfac7"
      },
      "source": [
        "event = ['OffersScreenAppear', 'CartScreenAppear', 'PaymentScreenSuccessful']\n",
        "for event in event:\n",
        "    step = uid_event_cnt[uid_event_cnt['event_cnt'] == 1]['uid']\n",
        "    single_offers = logs_quer.loc[(logs_quer['uid'].isin(step))\n",
        "          & (logs_quer['event_name'] == event)]\n",
        "    print(event, single_offers.shape[0])"
      ],
      "execution_count": null,
      "outputs": [
        {
          "output_type": "stream",
          "name": "stdout",
          "text": [
            "OffersScreenAppear 29\n",
            "CartScreenAppear 0\n",
            "PaymentScreenSuccessful 0\n"
          ]
        }
      ]
    },
    {
      "cell_type": "markdown",
      "metadata": {
        "id": "DP9-1oH8uix_"
      },
      "source": [
        "Для рассчета воронки, не будем использовать `Tutorial`.   \n",
        "\n",
        "Но перед этим, стоит удалить пользователей, у которых единственное действие - `OffersScreenAppear`. Предполагаю, что данное событие, может произойти только после посещения главного экрана. Удалим эти события и проверим снова количество групп"
      ]
    },
    {
      "cell_type": "code",
      "metadata": {
        "id": "1HofjTPWEmmx"
      },
      "source": [
        "step = uid_event_cnt[uid_event_cnt['event_cnt'] == 1]['uid']\n",
        "single_offers = logs_quer.loc[(logs_quer['uid'].isin(step))\n",
        "        & (logs_quer['event_name'] == 'OffersScreenAppear')]"
      ],
      "execution_count": null,
      "outputs": []
    },
    {
      "cell_type": "markdown",
      "metadata": {
        "id": "u9ideXVgXUV3"
      },
      "source": [
        "Удалим лишних пользователей, также уберем `Tutorial`"
      ]
    },
    {
      "cell_type": "code",
      "metadata": {
        "id": "rKKdPbiFCi57"
      },
      "source": [
        "logs_fin = logs_quer.loc[~logs_quer['uid'].isin(single_offers['uid'])]\n",
        "logs_fin = logs_fin.loc[logs_fin['event_name'] != 'Tutorial']"
      ],
      "execution_count": null,
      "outputs": []
    },
    {
      "cell_type": "code",
      "metadata": {
        "colab": {
          "base_uri": "https://localhost:8080/",
          "height": 141
        },
        "id": "NQgX6WxpC1Nn",
        "outputId": "a25483fe-6c66-4659-a74b-df632eb25a1e"
      },
      "source": [
        "logs_fin.groupby(['exp_id'], as_index=False)['uid'].nunique().assign(\n",
        "    user_sum = lambda x: x['uid'].sum(),\n",
        "    pct = lambda x: round(x['uid'] / x['user_sum'] * 100, 2)\n",
        "\n",
        ")"
      ],
      "execution_count": null,
      "outputs": [
        {
          "output_type": "execute_result",
          "data": {
            "text/html": [
              "<div>\n",
              "<style scoped>\n",
              "    .dataframe tbody tr th:only-of-type {\n",
              "        vertical-align: middle;\n",
              "    }\n",
              "\n",
              "    .dataframe tbody tr th {\n",
              "        vertical-align: top;\n",
              "    }\n",
              "\n",
              "    .dataframe thead th {\n",
              "        text-align: right;\n",
              "    }\n",
              "</style>\n",
              "<table border=\"1\" class=\"dataframe\">\n",
              "  <thead>\n",
              "    <tr style=\"text-align: right;\">\n",
              "      <th></th>\n",
              "      <th>exp_id</th>\n",
              "      <th>uid</th>\n",
              "      <th>user_sum</th>\n",
              "      <th>pct</th>\n",
              "    </tr>\n",
              "  </thead>\n",
              "  <tbody>\n",
              "    <tr>\n",
              "      <th>0</th>\n",
              "      <td>246</td>\n",
              "      <td>2480</td>\n",
              "      <td>7523</td>\n",
              "      <td>32.97</td>\n",
              "    </tr>\n",
              "    <tr>\n",
              "      <th>1</th>\n",
              "      <td>247</td>\n",
              "      <td>2511</td>\n",
              "      <td>7523</td>\n",
              "      <td>33.38</td>\n",
              "    </tr>\n",
              "    <tr>\n",
              "      <th>2</th>\n",
              "      <td>248</td>\n",
              "      <td>2532</td>\n",
              "      <td>7523</td>\n",
              "      <td>33.66</td>\n",
              "    </tr>\n",
              "  </tbody>\n",
              "</table>\n",
              "</div>"
            ],
            "text/plain": [
              "   exp_id   uid  user_sum    pct\n",
              "0     246  2480      7523  32.97\n",
              "1     247  2511      7523  33.38\n",
              "2     248  2532      7523  33.66"
            ]
          },
          "metadata": {},
          "execution_count": 43
        }
      ]
    },
    {
      "cell_type": "markdown",
      "metadata": {
        "id": "Hg0BJzI1C4QS"
      },
      "source": [
        "Группы сильно не исказили. Можем смотреть воронку"
      ]
    },
    {
      "cell_type": "code",
      "metadata": {
        "id": "rCMkcNt2XUV4"
      },
      "source": [
        "aab_logs = logs_fin.copy()\n",
        "\n",
        "init_users = pd.Series({\n",
        "            'event_name': 'Total',\n",
        "            'uid_cnt': aab_logs['uid'].nunique()})\n",
        "\n",
        "\n",
        "unique_users = (aab_logs.groupby('event_name')['uid']\n",
        "                .nunique()\n",
        "                .reset_index()\n",
        "                .rename(columns={'uid':'uid_cnt'})\n",
        "                .append(init_users, ignore_index=True)\n",
        "                .sort_values(by='uid_cnt', ascending=False)\n",
        "                .reset_index(drop=True)\n",
        "\n",
        "               )"
      ],
      "execution_count": null,
      "outputs": []
    },
    {
      "cell_type": "markdown",
      "metadata": {
        "id": "GhkI-G81XUV5"
      },
      "source": [
        "Стоит отметить, что при группировке по событиям, мы получили 4 дополнительных пользователя уникальных, при этом в случае группировки по группам - общая сумма пользователей `7523` против `7527`. необходимо будет провести проверку, не попали ли одинаковые пользователи в разные группы"
      ]
    },
    {
      "cell_type": "code",
      "metadata": {
        "colab": {
          "base_uri": "https://localhost:8080/",
          "height": 202
        },
        "id": "CFA9D9TQXUV5",
        "outputId": "d2fef46b-7810-47e1-8fe1-9d100b5ab134"
      },
      "source": [
        "unique_users"
      ],
      "execution_count": null,
      "outputs": [
        {
          "output_type": "execute_result",
          "data": {
            "text/html": [
              "<div>\n",
              "<style scoped>\n",
              "    .dataframe tbody tr th:only-of-type {\n",
              "        vertical-align: middle;\n",
              "    }\n",
              "\n",
              "    .dataframe tbody tr th {\n",
              "        vertical-align: top;\n",
              "    }\n",
              "\n",
              "    .dataframe thead th {\n",
              "        text-align: right;\n",
              "    }\n",
              "</style>\n",
              "<table border=\"1\" class=\"dataframe\">\n",
              "  <thead>\n",
              "    <tr style=\"text-align: right;\">\n",
              "      <th></th>\n",
              "      <th>event_name</th>\n",
              "      <th>uid_cnt</th>\n",
              "    </tr>\n",
              "  </thead>\n",
              "  <tbody>\n",
              "    <tr>\n",
              "      <th>0</th>\n",
              "      <td>Total</td>\n",
              "      <td>7523</td>\n",
              "    </tr>\n",
              "    <tr>\n",
              "      <th>1</th>\n",
              "      <td>MainScreenAppear</td>\n",
              "      <td>7423</td>\n",
              "    </tr>\n",
              "    <tr>\n",
              "      <th>2</th>\n",
              "      <td>OffersScreenAppear</td>\n",
              "      <td>4586</td>\n",
              "    </tr>\n",
              "    <tr>\n",
              "      <th>3</th>\n",
              "      <td>CartScreenAppear</td>\n",
              "      <td>3736</td>\n",
              "    </tr>\n",
              "    <tr>\n",
              "      <th>4</th>\n",
              "      <td>PaymentScreenSuccessful</td>\n",
              "      <td>3540</td>\n",
              "    </tr>\n",
              "  </tbody>\n",
              "</table>\n",
              "</div>"
            ],
            "text/plain": [
              "                event_name  uid_cnt\n",
              "0                    Total     7523\n",
              "1         MainScreenAppear     7423\n",
              "2       OffersScreenAppear     4586\n",
              "3         CartScreenAppear     3736\n",
              "4  PaymentScreenSuccessful     3540"
            ]
          },
          "metadata": {},
          "execution_count": 45
        }
      ]
    },
    {
      "cell_type": "code",
      "metadata": {
        "id": "CMpIgUApvIN9"
      },
      "source": [
        "funnel = unique_users.copy()"
      ],
      "execution_count": null,
      "outputs": []
    },
    {
      "cell_type": "markdown",
      "metadata": {
        "id": "bBU_ulzT1hzZ"
      },
      "source": [
        "Изобразим нашу воронку с помощью средств `plt`, чтобы не было проблем с окружением"
      ]
    },
    {
      "cell_type": "code",
      "metadata": {
        "id": "Y9WikXZq0ZMO"
      },
      "source": [
        "fig = go.Figure(go.Funnel(\n",
        "                y = funnel['event_name'],\n",
        "                x = funnel['uid_cnt'],\n",
        "                textinfo = \"value+percent previous+percent initial\",\n",
        "                marker = {\"color\": [\"deepskyblue\", \"royalblue\", \"darkcyan\", \"cadetblue\", \"silver\"]})\n",
        "                     \n",
        ")\n",
        "fig.show()"
      ],
      "execution_count": null,
      "outputs": []
    },
    {
      "cell_type": "markdown",
      "metadata": {
        "id": "Vi1Wh2N-ZMqT"
      },
      "source": [
        "![image.png](data:image/png;base64,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)"
      ]
    },
    {
      "cell_type": "code",
      "metadata": {
        "id": "6SyVj260wNPz"
      },
      "source": [
        "funnel = funnel.assign(\n",
        "    \n",
        "    lag = lambda x: x['uid_cnt'].shift().replace(np.nan, x['uid_cnt'].max()),\n",
        "    pct = lambda x: round(x['uid_cnt'] * 100 / x['lag'], 2),\n",
        "    diff = lambda x: round(abs(x['uid_cnt'].diff() * 100 / x['lag'])).replace(np.nan, 0)\n",
        "    \n",
        "    ).pipe(drop_column, 'lag')\n"
      ],
      "execution_count": null,
      "outputs": []
    },
    {
      "cell_type": "code",
      "metadata": {
        "colab": {
          "base_uri": "https://localhost:8080/",
          "height": 202
        },
        "id": "XwdqsQAJ3UOi",
        "outputId": "a5cffdd9-f11e-42f9-90c0-5b71debc21fc"
      },
      "source": [
        "funnel"
      ],
      "execution_count": null,
      "outputs": [
        {
          "output_type": "execute_result",
          "data": {
            "text/html": [
              "<div>\n",
              "<style scoped>\n",
              "    .dataframe tbody tr th:only-of-type {\n",
              "        vertical-align: middle;\n",
              "    }\n",
              "\n",
              "    .dataframe tbody tr th {\n",
              "        vertical-align: top;\n",
              "    }\n",
              "\n",
              "    .dataframe thead th {\n",
              "        text-align: right;\n",
              "    }\n",
              "</style>\n",
              "<table border=\"1\" class=\"dataframe\">\n",
              "  <thead>\n",
              "    <tr style=\"text-align: right;\">\n",
              "      <th></th>\n",
              "      <th>event_name</th>\n",
              "      <th>uid_cnt</th>\n",
              "      <th>pct</th>\n",
              "      <th>diff</th>\n",
              "    </tr>\n",
              "  </thead>\n",
              "  <tbody>\n",
              "    <tr>\n",
              "      <th>0</th>\n",
              "      <td>Total</td>\n",
              "      <td>7523</td>\n",
              "      <td>100.00</td>\n",
              "      <td>0.0</td>\n",
              "    </tr>\n",
              "    <tr>\n",
              "      <th>1</th>\n",
              "      <td>MainScreenAppear</td>\n",
              "      <td>7423</td>\n",
              "      <td>98.67</td>\n",
              "      <td>1.0</td>\n",
              "    </tr>\n",
              "    <tr>\n",
              "      <th>2</th>\n",
              "      <td>OffersScreenAppear</td>\n",
              "      <td>4586</td>\n",
              "      <td>61.78</td>\n",
              "      <td>38.0</td>\n",
              "    </tr>\n",
              "    <tr>\n",
              "      <th>3</th>\n",
              "      <td>CartScreenAppear</td>\n",
              "      <td>3736</td>\n",
              "      <td>81.47</td>\n",
              "      <td>19.0</td>\n",
              "    </tr>\n",
              "    <tr>\n",
              "      <th>4</th>\n",
              "      <td>PaymentScreenSuccessful</td>\n",
              "      <td>3540</td>\n",
              "      <td>94.75</td>\n",
              "      <td>5.0</td>\n",
              "    </tr>\n",
              "  </tbody>\n",
              "</table>\n",
              "</div>"
            ],
            "text/plain": [
              "                event_name  uid_cnt     pct  diff\n",
              "0                    Total     7523  100.00   0.0\n",
              "1         MainScreenAppear     7423   98.67   1.0\n",
              "2       OffersScreenAppear     4586   61.78  38.0\n",
              "3         CartScreenAppear     3736   81.47  19.0\n",
              "4  PaymentScreenSuccessful     3540   94.75   5.0"
            ]
          },
          "metadata": {},
          "execution_count": 50
        }
      ]
    },
    {
      "cell_type": "markdown",
      "metadata": {
        "id": "zUWWMiu85G0r"
      },
      "source": [
        "Больше всего пользователей уходит после главного экрана - `38%`. \n",
        "\n",
        "`19%` мы теряем на этапе перехода от предложения до корзины. `5%` теряем на оплате"
      ]
    },
    {
      "cell_type": "code",
      "metadata": {
        "id": "eQ74Z5N86yXF"
      },
      "source": [
        "pct_all = (funnel['uid_cnt'].iloc[4] / funnel['uid_cnt'].iloc[0])"
      ],
      "execution_count": null,
      "outputs": []
    },
    {
      "cell_type": "code",
      "metadata": {
        "colab": {
          "base_uri": "https://localhost:8080/"
        },
        "id": "8FLhfXhg8kXr",
        "scrolled": true,
        "outputId": "6cb8e234-9e64-49ef-c266-bf57be5bc638"
      },
      "source": [
        "print('Доля пользователей, оплативших товар {:.0%}'.format(pct_all))"
      ],
      "execution_count": null,
      "outputs": [
        {
          "output_type": "stream",
          "name": "stdout",
          "text": [
            "Доля пользователей, оплативших товар 47%\n"
          ]
        }
      ]
    },
    {
      "cell_type": "markdown",
      "metadata": {
        "id": "2RuieVk29-FW"
      },
      "source": [
        "### Выводы  \n",
        "\n",
        "\n",
        "В логе представлено пять различных событий.\n",
        "\n",
        "`MainScreenAppear` - событие, связанное с появлением пользователя на главном экране  \n",
        "`OffersScreenAppear` - событие, связанное с появлениемкакого-либо предложения  \n",
        "`CartScreenAppear` - посещение корзины  \n",
        "`PaymentScreenSuccessful` - оплата товара  \n",
        "`Tutorial` - прохождение обучения\n",
        "\n",
        "Количество пользователей, совершавших все события 469 человек\n",
        "Доля таких пользователей 6.22 %\n",
        "\n",
        "\n",
        "Доля пользователей, оплативших товар 47%\n",
        "\n",
        "Было принято решение удалить 29 пользователей, у которых значилось только событие `OffersScreenAppear`\n",
        "\n",
        "\n",
        "Можем переходить неспоредственно к анализу результатов теста\n"
      ]
    },
    {
      "cell_type": "markdown",
      "metadata": {
        "id": "fljt77_u6dJs"
      },
      "source": [
        "<a href=\"#footer\">К содержанию</a>\n",
        "<footer id=\"footer\"></footer>\n"
      ]
    },
    {
      "cell_type": "markdown",
      "metadata": {
        "id": "YxQnIT6id3tr"
      },
      "source": [
        "## Исследование результата эксперимента"
      ]
    },
    {
      "cell_type": "markdown",
      "metadata": {
        "id": "EoJudHZPxKVX"
      },
      "source": [
        "Посмотрим на наши группы. Обучение `Tutorial` мы уже убрали"
      ]
    },
    {
      "cell_type": "code",
      "metadata": {
        "colab": {
          "base_uri": "https://localhost:8080/",
          "height": 202
        },
        "id": "25KnWdEaJMGu",
        "outputId": "b80633a5-eef1-46cc-ccd2-01ae82d92d72"
      },
      "source": [
        "aab_logs.head()"
      ],
      "execution_count": null,
      "outputs": [
        {
          "output_type": "execute_result",
          "data": {
            "text/html": [
              "<div>\n",
              "<style scoped>\n",
              "    .dataframe tbody tr th:only-of-type {\n",
              "        vertical-align: middle;\n",
              "    }\n",
              "\n",
              "    .dataframe tbody tr th {\n",
              "        vertical-align: top;\n",
              "    }\n",
              "\n",
              "    .dataframe thead th {\n",
              "        text-align: right;\n",
              "    }\n",
              "</style>\n",
              "<table border=\"1\" class=\"dataframe\">\n",
              "  <thead>\n",
              "    <tr style=\"text-align: right;\">\n",
              "      <th></th>\n",
              "      <th>event_name</th>\n",
              "      <th>uid</th>\n",
              "      <th>event_timestamp</th>\n",
              "      <th>exp_id</th>\n",
              "      <th>event_date</th>\n",
              "      <th>session_date</th>\n",
              "      <th>session_week</th>\n",
              "      <th>session_month</th>\n",
              "      <th>session_year</th>\n",
              "    </tr>\n",
              "  </thead>\n",
              "  <tbody>\n",
              "    <tr>\n",
              "      <th>1990</th>\n",
              "      <td>MainScreenAppear</td>\n",
              "      <td>7701922487875823903</td>\n",
              "      <td>1564606857</td>\n",
              "      <td>247</td>\n",
              "      <td>2019-07-31 21:00:57</td>\n",
              "      <td>2019-07-31</td>\n",
              "      <td>31</td>\n",
              "      <td>7</td>\n",
              "      <td>2019</td>\n",
              "    </tr>\n",
              "    <tr>\n",
              "      <th>1991</th>\n",
              "      <td>MainScreenAppear</td>\n",
              "      <td>2539077412200498909</td>\n",
              "      <td>1564606905</td>\n",
              "      <td>247</td>\n",
              "      <td>2019-07-31 21:01:45</td>\n",
              "      <td>2019-07-31</td>\n",
              "      <td>31</td>\n",
              "      <td>7</td>\n",
              "      <td>2019</td>\n",
              "    </tr>\n",
              "    <tr>\n",
              "      <th>1992</th>\n",
              "      <td>OffersScreenAppear</td>\n",
              "      <td>3286987355161301427</td>\n",
              "      <td>1564606941</td>\n",
              "      <td>248</td>\n",
              "      <td>2019-07-31 21:02:21</td>\n",
              "      <td>2019-07-31</td>\n",
              "      <td>31</td>\n",
              "      <td>7</td>\n",
              "      <td>2019</td>\n",
              "    </tr>\n",
              "    <tr>\n",
              "      <th>1993</th>\n",
              "      <td>OffersScreenAppear</td>\n",
              "      <td>3187166762535343300</td>\n",
              "      <td>1564606943</td>\n",
              "      <td>247</td>\n",
              "      <td>2019-07-31 21:02:23</td>\n",
              "      <td>2019-07-31</td>\n",
              "      <td>31</td>\n",
              "      <td>7</td>\n",
              "      <td>2019</td>\n",
              "    </tr>\n",
              "    <tr>\n",
              "      <th>1994</th>\n",
              "      <td>MainScreenAppear</td>\n",
              "      <td>1118952406011435924</td>\n",
              "      <td>1564607005</td>\n",
              "      <td>248</td>\n",
              "      <td>2019-07-31 21:03:25</td>\n",
              "      <td>2019-07-31</td>\n",
              "      <td>31</td>\n",
              "      <td>7</td>\n",
              "      <td>2019</td>\n",
              "    </tr>\n",
              "  </tbody>\n",
              "</table>\n",
              "</div>"
            ],
            "text/plain": [
              "              event_name                  uid  ...  session_month  session_year\n",
              "1990    MainScreenAppear  7701922487875823903  ...              7          2019\n",
              "1991    MainScreenAppear  2539077412200498909  ...              7          2019\n",
              "1992  OffersScreenAppear  3286987355161301427  ...              7          2019\n",
              "1993  OffersScreenAppear  3187166762535343300  ...              7          2019\n",
              "1994    MainScreenAppear  1118952406011435924  ...              7          2019\n",
              "\n",
              "[5 rows x 9 columns]"
            ]
          },
          "metadata": {},
          "execution_count": 53
        }
      ]
    },
    {
      "cell_type": "code",
      "metadata": {
        "id": "F2nah15a3Xnb"
      },
      "source": [
        "groups = aab_logs.groupby(['exp_id'], as_index=False).agg({'uid':'nunique'}).assign(\n",
        "    user_sum = lambda x: x['uid'].sum(),\n",
        "    pct = lambda x: round(x['uid'] / x['user_sum'] * 100, 2)\n",
        "\n",
        ").pipe(drop_column, 'user_sum')"
      ],
      "execution_count": null,
      "outputs": []
    },
    {
      "cell_type": "markdown",
      "metadata": {
        "id": "vx0e_uq03Bub"
      },
      "source": [
        "Расхождения незначительные, но перед тем, как приступать к анализу проведенного `А/В-теста`, проверим, не попали ли одни и теже пользователи в разные группы - таких пользователей будем исключать, чтобы не искажать результаты теста. "
      ]
    },
    {
      "cell_type": "code",
      "metadata": {
        "colab": {
          "base_uri": "https://localhost:8080/"
        },
        "id": "sV4tS5V4xJj8",
        "outputId": "245eb89d-c1cf-451f-f528-fe7eefd51020"
      },
      "source": [
        "visitors_a1_cnt = aab_logs.query('exp_id == 246')['uid'].shape[0]\n",
        "visitors_a2_cnt = aab_logs.query('exp_id == 247')['uid'].shape[0]\n",
        "visitors_b_cnt = aab_logs.query('exp_id == 248')['uid'].shape[0]\n",
        "\n",
        "print(f'Визитов по группе А1 {visitors_a1_cnt}')\n",
        "print(f'Визитов по группе А2 {visitors_a2_cnt}')\n",
        "print(f'Визитов по группе В {visitors_b_cnt}')"
      ],
      "execution_count": null,
      "outputs": [
        {
          "output_type": "stream",
          "name": "stdout",
          "text": [
            "Визитов по группе А1 79233\n",
            "Визитов по группе А2 76935\n",
            "Визитов по группе В 84517\n"
          ]
        }
      ]
    },
    {
      "cell_type": "code",
      "metadata": {
        "colab": {
          "base_uri": "https://localhost:8080/"
        },
        "id": "9_B9YobRxy97",
        "outputId": "80e70585-0df6-47e9-f18d-d114959c3e6c"
      },
      "source": [
        "visitors_unique_A1 = aab_logs[aab_logs['exp_id']==246]['uid']\n",
        "visitors_unique_A2 = aab_logs[aab_logs['exp_id']==247]['uid']\n",
        "visitors_unique_B = aab_logs[aab_logs['exp_id']==248]['uid']\n",
        "\n",
        "\n",
        "step_1 = (aab_logs['uid'].isin(visitors_unique_A1))\n",
        "step_2 = (aab_logs['uid'].isin(visitors_unique_A2))\n",
        "step_3 = (aab_logs['uid'].isin(visitors_unique_B))\n",
        "\n",
        "visitors_A_A_B = (aab_logs\n",
        "                    .loc[(step_1 & step_2)\n",
        "                     | (step_1 & step_3)\n",
        "                     | (step_2 & step_3)\n",
        "                     | (step_1 & step_3 & step_2),'uid'].unique()\n",
        "                    )\n",
        "print(f'Количество пользователей, попавших в несколько групп: {len(visitors_A_A_B)}')"
      ],
      "execution_count": null,
      "outputs": [
        {
          "output_type": "stream",
          "name": "stdout",
          "text": [
            "Количество пользователей, попавших в несколько групп: 0\n"
          ]
        }
      ]
    },
    {
      "cell_type": "markdown",
      "metadata": {
        "id": "SkWM5gieXUV8"
      },
      "source": [
        "Пользователей, попавших в одинаковые группы не обнаружено"
      ]
    },
    {
      "cell_type": "markdown",
      "metadata": {
        "id": "3jyQ7TURXUV8"
      },
      "source": [
        "<a href=\"#footer\">К содержанию</a>\n",
        "<footer id=\"footer\"></footer>\n"
      ]
    },
    {
      "cell_type": "markdown",
      "metadata": {
        "id": "v5lLZ3i-p2JU"
      },
      "source": [
        "### A/A проверка"
      ]
    },
    {
      "cell_type": "markdown",
      "metadata": {
        "id": "dOPNUx8Ezuxh"
      },
      "source": [
        "С данными все хорошо. Для начала займемся двумя `А/А` группами - `246` и `247`. Выберем самое популярное событие и посчитаем число пользователей, совершивших это событие в каждой из контрольных групп. Посчитаем долю пользователей, совершивших это событие и проверим, будет ли отличие между группами статистически достоверным. "
      ]
    },
    {
      "cell_type": "markdown",
      "metadata": {
        "id": "vLNHqT-fXUV8"
      },
      "source": [
        "Получим список событий"
      ]
    },
    {
      "cell_type": "code",
      "metadata": {
        "id": "6Zrj77fYXlYw"
      },
      "source": [
        "event_list = funnel['event_name'].unique().tolist()"
      ],
      "execution_count": null,
      "outputs": []
    },
    {
      "cell_type": "code",
      "metadata": {
        "colab": {
          "base_uri": "https://localhost:8080/"
        },
        "id": "59snaPHDXUV8",
        "outputId": "c797a37a-e03b-4bcf-dd6c-358e22539349"
      },
      "source": [
        "event_list"
      ],
      "execution_count": null,
      "outputs": [
        {
          "output_type": "execute_result",
          "data": {
            "text/plain": [
              "['Total',\n",
              " 'MainScreenAppear',\n",
              " 'OffersScreenAppear',\n",
              " 'CartScreenAppear',\n",
              " 'PaymentScreenSuccessful']"
            ]
          },
          "metadata": {},
          "execution_count": 58
        }
      ]
    },
    {
      "cell_type": "markdown",
      "metadata": {
        "id": "xROC5faIXUV9"
      },
      "source": [
        "Сформируем сводную таблицу по нашим группам"
      ]
    },
    {
      "cell_type": "code",
      "metadata": {
        "colab": {
          "base_uri": "https://localhost:8080/",
          "height": 202
        },
        "id": "mx2bemeFXUV9",
        "outputId": "b77b63d3-af2e-4f2d-bf3d-035780542595"
      },
      "source": [
        "aab_logs.head()"
      ],
      "execution_count": null,
      "outputs": [
        {
          "output_type": "execute_result",
          "data": {
            "text/html": [
              "<div>\n",
              "<style scoped>\n",
              "    .dataframe tbody tr th:only-of-type {\n",
              "        vertical-align: middle;\n",
              "    }\n",
              "\n",
              "    .dataframe tbody tr th {\n",
              "        vertical-align: top;\n",
              "    }\n",
              "\n",
              "    .dataframe thead th {\n",
              "        text-align: right;\n",
              "    }\n",
              "</style>\n",
              "<table border=\"1\" class=\"dataframe\">\n",
              "  <thead>\n",
              "    <tr style=\"text-align: right;\">\n",
              "      <th></th>\n",
              "      <th>event_name</th>\n",
              "      <th>uid</th>\n",
              "      <th>event_timestamp</th>\n",
              "      <th>exp_id</th>\n",
              "      <th>event_date</th>\n",
              "      <th>session_date</th>\n",
              "      <th>session_week</th>\n",
              "      <th>session_month</th>\n",
              "      <th>session_year</th>\n",
              "    </tr>\n",
              "  </thead>\n",
              "  <tbody>\n",
              "    <tr>\n",
              "      <th>1990</th>\n",
              "      <td>MainScreenAppear</td>\n",
              "      <td>7701922487875823903</td>\n",
              "      <td>1564606857</td>\n",
              "      <td>247</td>\n",
              "      <td>2019-07-31 21:00:57</td>\n",
              "      <td>2019-07-31</td>\n",
              "      <td>31</td>\n",
              "      <td>7</td>\n",
              "      <td>2019</td>\n",
              "    </tr>\n",
              "    <tr>\n",
              "      <th>1991</th>\n",
              "      <td>MainScreenAppear</td>\n",
              "      <td>2539077412200498909</td>\n",
              "      <td>1564606905</td>\n",
              "      <td>247</td>\n",
              "      <td>2019-07-31 21:01:45</td>\n",
              "      <td>2019-07-31</td>\n",
              "      <td>31</td>\n",
              "      <td>7</td>\n",
              "      <td>2019</td>\n",
              "    </tr>\n",
              "    <tr>\n",
              "      <th>1992</th>\n",
              "      <td>OffersScreenAppear</td>\n",
              "      <td>3286987355161301427</td>\n",
              "      <td>1564606941</td>\n",
              "      <td>248</td>\n",
              "      <td>2019-07-31 21:02:21</td>\n",
              "      <td>2019-07-31</td>\n",
              "      <td>31</td>\n",
              "      <td>7</td>\n",
              "      <td>2019</td>\n",
              "    </tr>\n",
              "    <tr>\n",
              "      <th>1993</th>\n",
              "      <td>OffersScreenAppear</td>\n",
              "      <td>3187166762535343300</td>\n",
              "      <td>1564606943</td>\n",
              "      <td>247</td>\n",
              "      <td>2019-07-31 21:02:23</td>\n",
              "      <td>2019-07-31</td>\n",
              "      <td>31</td>\n",
              "      <td>7</td>\n",
              "      <td>2019</td>\n",
              "    </tr>\n",
              "    <tr>\n",
              "      <th>1994</th>\n",
              "      <td>MainScreenAppear</td>\n",
              "      <td>1118952406011435924</td>\n",
              "      <td>1564607005</td>\n",
              "      <td>248</td>\n",
              "      <td>2019-07-31 21:03:25</td>\n",
              "      <td>2019-07-31</td>\n",
              "      <td>31</td>\n",
              "      <td>7</td>\n",
              "      <td>2019</td>\n",
              "    </tr>\n",
              "  </tbody>\n",
              "</table>\n",
              "</div>"
            ],
            "text/plain": [
              "              event_name                  uid  ...  session_month  session_year\n",
              "1990    MainScreenAppear  7701922487875823903  ...              7          2019\n",
              "1991    MainScreenAppear  2539077412200498909  ...              7          2019\n",
              "1992  OffersScreenAppear  3286987355161301427  ...              7          2019\n",
              "1993  OffersScreenAppear  3187166762535343300  ...              7          2019\n",
              "1994    MainScreenAppear  1118952406011435924  ...              7          2019\n",
              "\n",
              "[5 rows x 9 columns]"
            ]
          },
          "metadata": {},
          "execution_count": 59
        }
      ]
    },
    {
      "cell_type": "code",
      "metadata": {
        "id": "rVTcJs04XUV9"
      },
      "source": [
        "groups = aab_logs.groupby(['exp_id'])['uid'].nunique().reset_index().assign(\n",
        "    user_sum = lambda x: x['uid'].sum()\n",
        ")"
      ],
      "execution_count": null,
      "outputs": []
    },
    {
      "cell_type": "code",
      "metadata": {
        "colab": {
          "base_uri": "https://localhost:8080/",
          "height": 141
        },
        "id": "UYfGS7DuXUV9",
        "outputId": "30337012-b04d-4f70-9673-d3dae510e0af"
      },
      "source": [
        "groups"
      ],
      "execution_count": null,
      "outputs": [
        {
          "output_type": "execute_result",
          "data": {
            "text/html": [
              "<div>\n",
              "<style scoped>\n",
              "    .dataframe tbody tr th:only-of-type {\n",
              "        vertical-align: middle;\n",
              "    }\n",
              "\n",
              "    .dataframe tbody tr th {\n",
              "        vertical-align: top;\n",
              "    }\n",
              "\n",
              "    .dataframe thead th {\n",
              "        text-align: right;\n",
              "    }\n",
              "</style>\n",
              "<table border=\"1\" class=\"dataframe\">\n",
              "  <thead>\n",
              "    <tr style=\"text-align: right;\">\n",
              "      <th></th>\n",
              "      <th>exp_id</th>\n",
              "      <th>uid</th>\n",
              "      <th>user_sum</th>\n",
              "    </tr>\n",
              "  </thead>\n",
              "  <tbody>\n",
              "    <tr>\n",
              "      <th>0</th>\n",
              "      <td>246</td>\n",
              "      <td>2480</td>\n",
              "      <td>7523</td>\n",
              "    </tr>\n",
              "    <tr>\n",
              "      <th>1</th>\n",
              "      <td>247</td>\n",
              "      <td>2511</td>\n",
              "      <td>7523</td>\n",
              "    </tr>\n",
              "    <tr>\n",
              "      <th>2</th>\n",
              "      <td>248</td>\n",
              "      <td>2532</td>\n",
              "      <td>7523</td>\n",
              "    </tr>\n",
              "  </tbody>\n",
              "</table>\n",
              "</div>"
            ],
            "text/plain": [
              "   exp_id   uid  user_sum\n",
              "0     246  2480      7523\n",
              "1     247  2511      7523\n",
              "2     248  2532      7523"
            ]
          },
          "metadata": {},
          "execution_count": 61
        }
      ]
    },
    {
      "cell_type": "markdown",
      "metadata": {
        "id": "kNBNNkOYe2Vc"
      },
      "source": [
        "Возьмем событие `MainScreenAppear` и проверим гипотезу о равенстве двух долей."
      ]
    },
    {
      "cell_type": "markdown",
      "metadata": {
        "id": "xBsIg7gofIMv"
      },
      "source": [
        "`H0 гипотеза`: статистически значимых различий конверсии в `MainScreenAppear` от общего числа пользователей между группами нет  \n",
        "`H1 гипотеза`: статистически значимые различия конверсии в `MainScreenAppear` от общего числа пользователей обнаружены между группами"
      ]
    },
    {
      "cell_type": "markdown",
      "metadata": {
        "id": "yv22apBKfe8-"
      },
      "source": [
        "Сформируем образцы для контрольных групп 246 и 247 - количество уникальных пользователей"
      ]
    },
    {
      "cell_type": "code",
      "metadata": {
        "id": "XWZJ_YVIVMBa"
      },
      "source": [
        "success_246 = (aab_logs.loc[(aab_logs['event_name'] == 'MainScreenAppear') & (aab_logs['exp_id'] == 246)])['uid'].nunique()\n",
        "success_247 = (aab_logs.loc[(aab_logs['event_name'] == 'MainScreenAppear') & (aab_logs['exp_id'] == 247)])['uid'].nunique()\n",
        "trials_246 = groups.loc[groups['exp_id'] == 246]['uid'][0]\n",
        "trials_247 = groups.loc[groups['exp_id'] == 247]['uid'][1]"
      ],
      "execution_count": null,
      "outputs": []
    },
    {
      "cell_type": "code",
      "metadata": {
        "colab": {
          "base_uri": "https://localhost:8080/"
        },
        "id": "Mc3DVrlJkzbw",
        "outputId": "61d5c132-1f2f-481b-940e-aa063ebafcca"
      },
      "source": [
        "print('Доля пользователей, совершивших действие для группы 246 - {:.2%}'.format(success_246/trials_246))\n",
        "print('Доля пользователей, совершивших действие для группы 247 - {:.2%}'.format(success_247/trials_247))"
      ],
      "execution_count": null,
      "outputs": [
        {
          "output_type": "stream",
          "name": "stdout",
          "text": [
            "Доля пользователей, совершивших действие для группы 246 - 98.79%\n",
            "Доля пользователей, совершивших действие для группы 247 - 98.73%\n"
          ]
        }
      ]
    },
    {
      "cell_type": "markdown",
      "metadata": {
        "id": "jIBfAdgOfmTm"
      },
      "source": [
        "Проверим наши гипотезы с помощью `z-test`. Альфу обозначим как `.05, после всех сравнений, введем поправку Бонферрони` и проведем исследование еще раз"
      ]
    },
    {
      "cell_type": "code",
      "metadata": {
        "colab": {
          "base_uri": "https://localhost:8080/"
        },
        "id": "BfFVP3Gscaqt",
        "outputId": "33419411-008b-4182-ca7b-ce602a2f1a14"
      },
      "source": [
        "alpha = .05\n",
        "\n",
        "success = np.array([success_246, success_247])\n",
        "trials = np.array([trials_246, trials_247])\n",
        "stat, pval = proportions_ztest(success, trials, alternative='two-sided')\n",
        "\n",
        "if pval < alpha:\n",
        "    print(f\"{round(pval, 2)}. Отвергаем Н0\")\n",
        "else:\n",
        "    print(f\"{round(pval, 2)}. Не отвергаем Н0. События могут носить случайный характер\")"
      ],
      "execution_count": null,
      "outputs": [
        {
          "output_type": "stream",
          "name": "stdout",
          "text": [
            "0.84. Не отвергаем Н0. События могут носить случайный характер\n"
          ]
        }
      ]
    },
    {
      "cell_type": "markdown",
      "metadata": {
        "id": "hClSB9p6koqG"
      },
      "source": [
        "Для удобства, добавим функцию и проведем проверки других событий"
      ]
    },
    {
      "cell_type": "code",
      "metadata": {
        "id": "NfdIj9Xkig5I"
      },
      "source": [
        "def make_z_test(group_1, group_2, event, previous_event, alpha, concat=False, bonferroni=None):\n",
        "    inv_map = {v: k for k, v in dict(groups['exp_id']).items()}\n",
        "    \n",
        "    print('\\nГипотезы:')\n",
        "\n",
        "    print(f'H0 гипотеза: статистически значимых различий конверсии в {event}' \n",
        "          ' от общего числа пользователей между группами нет')\n",
        "    print(f'H1 гипотеза: статистически значимых различий конверсии в {event}'\n",
        "          ' от общего числа пользователей обнаружены между группами')\n",
        "\n",
        "    if concat:\n",
        "\n",
        "        group_3 = 247\n",
        "        step = (aab_logs['event_name'] == event)\n",
        "        success_1 = (aab_logs.loc[(step & (aab_logs['exp_id'] == group_1)) \n",
        "                                  | (step & (aab_logs['exp_id'] == group_3))]['uid'].nunique()\n",
        "                    )\n",
        "        success_2 = (aab_logs.loc[(aab_logs['event_name'] == event) & (aab_logs['exp_id'] == group_2)])['uid'].nunique()\n",
        "\n",
        "        trials_1 = groups.loc[(groups['exp_id'] == group_1) | (groups['exp_id'] == group_3)]['uid'].sum()\n",
        "        trials_2 = groups.loc[groups['exp_id'] == group_2]['uid'][inv_map[group_2]]\n",
        "\n",
        "        print(f'\\nДоля пользователей, совершивших переход на экран {event} с экрана {previous_event}'\n",
        "              f' для группы {group_1} и {group_3} - {success_1/trials_1:.2%}')\n",
        "        print(f'Доля пользователей, совершивших переход на экран {event} с экрана {previous_event}'\n",
        "            f' для группы {group_2} - {success_2/trials_2:.2%}')\n",
        "\n",
        "    else:\n",
        "\n",
        "        success_1 = (aab_logs.loc[(aab_logs['event_name'] == event) & (aab_logs['exp_id'] == group_1)])['uid'].nunique()\n",
        "        success_2 = (aab_logs.loc[(aab_logs['event_name'] == event) & (aab_logs['exp_id'] == group_2)])['uid'].nunique()\n",
        "        trials_1 = groups.loc[groups['exp_id'] == group_1]['uid'][inv_map[group_1]]\n",
        "        trials_2 = groups.loc[groups['exp_id'] == group_2]['uid'][inv_map[group_2]]\n",
        "        print(f'\\nДоля пользователей, совершивших переход на экран {event} с экрана {previous_event}'\n",
        "              f' для группы {group_1} - {success_1/trials_1:.2%}')\n",
        "        print(f'Доля пользователей, совершивших переход на экран {event} с экрана {previous_event}'\n",
        "              f' для группы {group_2} - {success_2/trials_2:.2%}')\n",
        "  \n",
        "    diff = ((success_2 / trials_2) / (success_1 / trials_1) - 1)\n",
        "    success = np.array([success_1, success_2])\n",
        "    trials = np.array([trials_1, trials_2])\n",
        "    stat, pval = proportions_ztest(success, trials, alternative='two-sided')\n",
        "\n",
        "    if bonferroni is not None:\n",
        "        bonferroni_alpha = alpha / bonferroni\n",
        "        alpha = bonferroni_alpha\n",
        "    else:\n",
        "        alpha = alpha\n",
        "\n",
        "    if pval < alpha:\n",
        "        print(f\"\\npvalue {pval}. \\n\\nОтвергаем Н0. \\n\\nПри alpha {alpha}\")\n",
        "    else:\n",
        "        print(f\"\\npvalue {pval}. \\n\\nНе отвергаем Н0. \\n\\nСобытия могут носить случайный характер. При alpha {alpha}\")\n",
        "    print(f'Относительное различие групп {diff:.2%}')"
      ],
      "execution_count": null,
      "outputs": []
    },
    {
      "cell_type": "markdown",
      "metadata": {
        "id": "8QvyUjxMo6Mu"
      },
      "source": [
        "Проведем тесты в рамках конверсии на тот или иной экран от общего числа пользователей:"
      ]
    },
    {
      "cell_type": "code",
      "metadata": {
        "id": "Mz2iwhXuwyeL"
      },
      "source": [
        "counter = 0"
      ],
      "execution_count": null,
      "outputs": []
    },
    {
      "cell_type": "code",
      "metadata": {
        "colab": {
          "base_uri": "https://localhost:8080/"
        },
        "id": "xS8GwkpUm4yw",
        "outputId": "fc540fca-ede0-4dde-e262-395ca061343e"
      },
      "source": [
        "for idx, event in enumerate(event_list):\n",
        "    if event == 'Total':\n",
        "        continue\n",
        "    else:\n",
        "        print(f'\\nТест № {idx} для события: {event}')\n",
        "        prev = event_list[idx - 1]\n",
        "        make_z_test(246, 247, event, prev, alpha=.05)\n",
        "        counter += 1"
      ],
      "execution_count": null,
      "outputs": [
        {
          "output_type": "stream",
          "name": "stdout",
          "text": [
            "\n",
            "Тест № 1 для события: MainScreenAppear\n",
            "\n",
            "Гипотезы:\n",
            "H0 гипотеза: статистически значимых различий конверсии в MainScreenAppear от общего числа пользователей между группами нет\n",
            "H1 гипотеза: статистически значимых различий конверсии в MainScreenAppear от общего числа пользователей обнаружены между группами\n",
            "\n",
            "Доля пользователей, совершивших переход на экран MainScreenAppear с экрана Total для группы 246 - 98.79%\n",
            "Доля пользователей, совершивших переход на экран MainScreenAppear с экрана Total для группы 247 - 98.73%\n",
            "\n",
            "pvalue 0.8364915785175109. \n",
            "\n",
            "Не отвергаем Н0. \n",
            "\n",
            "События могут носить случайный характер. При alpha 0.05\n",
            "Относительное различие групп -0.07%\n",
            "\n",
            "Тест № 2 для события: OffersScreenAppear\n",
            "\n",
            "Гипотезы:\n",
            "H0 гипотеза: статистически значимых различий конверсии в OffersScreenAppear от общего числа пользователей между группами нет\n",
            "H1 гипотеза: статистически значимых различий конверсии в OffersScreenAppear от общего числа пользователей обнаружены между группами\n",
            "\n",
            "Доля пользователей, совершивших переход на экран OffersScreenAppear с экрана MainScreenAppear для группы 246 - 62.06%\n",
            "Доля пользователей, совершивших переход на экран OffersScreenAppear с экрана MainScreenAppear для группы 247 - 60.49%\n",
            "\n",
            "pvalue 0.25717807800662296. \n",
            "\n",
            "Не отвергаем Н0. \n",
            "\n",
            "События могут носить случайный характер. При alpha 0.05\n",
            "Относительное различие групп -2.52%\n",
            "\n",
            "Тест № 3 для события: CartScreenAppear\n",
            "\n",
            "Гипотезы:\n",
            "H0 гипотеза: статистически значимых различий конверсии в CartScreenAppear от общего числа пользователей между группами нет\n",
            "H1 гипотеза: статистически значимых различий конверсии в CartScreenAppear от общего числа пользователей обнаружены между группами\n",
            "\n",
            "Доля пользователей, совершивших переход на экран CartScreenAppear с экрана OffersScreenAppear для группы 246 - 51.05%\n",
            "Доля пользователей, совершивших переход на экран CartScreenAppear с экрана OffersScreenAppear для группы 247 - 49.34%\n",
            "\n",
            "pvalue 0.22825453880129298. \n",
            "\n",
            "Не отвергаем Н0. \n",
            "\n",
            "События могут носить случайный характер. При alpha 0.05\n",
            "Относительное различие групп -3.34%\n",
            "\n",
            "Тест № 4 для события: PaymentScreenSuccessful\n",
            "\n",
            "Гипотезы:\n",
            "H0 гипотеза: статистически значимых различий конверсии в PaymentScreenSuccessful от общего числа пользователей между группами нет\n",
            "H1 гипотеза: статистически значимых различий конверсии в PaymentScreenSuccessful от общего числа пользователей обнаружены между группами\n",
            "\n",
            "Доля пользователей, совершивших переход на экран PaymentScreenSuccessful с экрана CartScreenAppear для группы 246 - 48.39%\n",
            "Доля пользователей, совершивших переход на экран PaymentScreenSuccessful с экрана CartScreenAppear для группы 247 - 46.12%\n",
            "\n",
            "pvalue 0.10825095472518283. \n",
            "\n",
            "Не отвергаем Н0. \n",
            "\n",
            "События могут носить случайный характер. При alpha 0.05\n",
            "Относительное различие групп -4.69%\n"
          ]
        }
      ]
    },
    {
      "cell_type": "markdown",
      "metadata": {
        "id": "CbHVcVz5pTy2"
      },
      "source": [
        "При показателе `alpha=.05` мы не обнаружили статистически значимых различий между двумя контрольными группами. Разбиение сработало корректно. Проведем все исследования. Затем учтем количество сравнений в поправке Бонферрони"
      ]
    },
    {
      "cell_type": "markdown",
      "metadata": {
        "id": "TR8jdNjgXUV_"
      },
      "source": [
        "<a href=\"#footer\">К содержанию</a>\n",
        "<footer id=\"footer\"></footer>\n"
      ]
    },
    {
      "cell_type": "markdown",
      "metadata": {
        "id": "lt3IPDfqp6Mg"
      },
      "source": [
        "### A/B проверка. "
      ]
    },
    {
      "cell_type": "markdown",
      "metadata": {
        "id": "yQ0U9tZGqCrn"
      },
      "source": [
        "#### Группы 246/248"
      ]
    },
    {
      "cell_type": "markdown",
      "metadata": {
        "id": "4KUKTF8pqE-q"
      },
      "source": [
        "Провдем аналогичную проверку, для контрольной 246 группы и тестовой группы 248. И аналогично для 247/248"
      ]
    },
    {
      "cell_type": "code",
      "metadata": {
        "colab": {
          "base_uri": "https://localhost:8080/"
        },
        "id": "X6nthmPUkWTw",
        "outputId": "c4f07f15-3334-4371-e3ff-312e09fa7f73"
      },
      "source": [
        "for idx, event in enumerate(event_list):\n",
        "    if event == 'Total':\n",
        "        continue\n",
        "    else:\n",
        "        print(f'\\nТест № {idx} для события: {event}')\n",
        "        prev = event_list[idx - 1]\n",
        "        make_z_test(246, 248, event, prev, alpha=.05)\n",
        "        counter += 1"
      ],
      "execution_count": null,
      "outputs": [
        {
          "output_type": "stream",
          "name": "stdout",
          "text": [
            "\n",
            "Тест № 1 для события: MainScreenAppear\n",
            "\n",
            "Гипотезы:\n",
            "H0 гипотеза: статистически значимых различий конверсии в MainScreenAppear от общего числа пользователей между группами нет\n",
            "H1 гипотеза: статистически значимых различий конверсии в MainScreenAppear от общего числа пользователей обнаружены между группами\n",
            "\n",
            "Доля пользователей, совершивших переход на экран MainScreenAppear с экрана Total для группы 246 - 98.79%\n",
            "Доля пользователей, совершивших переход на экран MainScreenAppear с экрана Total для группы 248 - 98.50%\n",
            "\n",
            "pvalue 0.37309135448254493. \n",
            "\n",
            "Не отвергаем Н0. \n",
            "\n",
            "События могут носить случайный характер. При alpha 0.05\n",
            "Относительное различие групп -0.29%\n",
            "\n",
            "Тест № 2 для события: OffersScreenAppear\n",
            "\n",
            "Гипотезы:\n",
            "H0 гипотеза: статистически значимых различий конверсии в OffersScreenAppear от общего числа пользователей между группами нет\n",
            "H1 гипотеза: статистически значимых различий конверсии в OffersScreenAppear от общего числа пользователей обнаружены между группами\n",
            "\n",
            "Доля пользователей, совершивших переход на экран OffersScreenAppear с экрана MainScreenAppear для группы 246 - 62.06%\n",
            "Доля пользователей, совершивших переход на экран OffersScreenAppear с экрана MainScreenAppear для группы 248 - 60.35%\n",
            "\n",
            "pvalue 0.21450919953846204. \n",
            "\n",
            "Не отвергаем Н0. \n",
            "\n",
            "События могут носить случайный характер. При alpha 0.05\n",
            "Относительное различие групп -2.75%\n",
            "\n",
            "Тест № 3 для события: CartScreenAppear\n",
            "\n",
            "Гипотезы:\n",
            "H0 гипотеза: статистически значимых различий конверсии в CartScreenAppear от общего числа пользователей между группами нет\n",
            "H1 гипотеза: статистически значимых различий конверсии в CartScreenAppear от общего числа пользователей обнаружены между группами\n",
            "\n",
            "Доля пользователей, совершивших переход на экран CartScreenAppear с экрана OffersScreenAppear для группы 246 - 51.05%\n",
            "Доля пользователей, совершивших переход на экран CartScreenAppear с экрана OffersScreenAppear для группы 248 - 48.62%\n",
            "\n",
            "pvalue 0.08529807568134204. \n",
            "\n",
            "Не отвергаем Н0. \n",
            "\n",
            "События могут носить случайный характер. При alpha 0.05\n",
            "Относительное различие групп -4.76%\n",
            "\n",
            "Тест № 4 для события: PaymentScreenSuccessful\n",
            "\n",
            "Гипотезы:\n",
            "H0 гипотеза: статистически значимых различий конверсии в PaymentScreenSuccessful от общего числа пользователей между группами нет\n",
            "H1 гипотеза: статистически значимых различий конверсии в PaymentScreenSuccessful от общего числа пользователей обнаружены между группами\n",
            "\n",
            "Доля пользователей, совершивших переход на экран PaymentScreenSuccessful с экрана CartScreenAppear для группы 246 - 48.39%\n",
            "Доля пользователей, совершивших переход на экран PaymentScreenSuccessful с экрана CartScreenAppear для группы 248 - 46.68%\n",
            "\n",
            "pvalue 0.22696354166658805. \n",
            "\n",
            "Не отвергаем Н0. \n",
            "\n",
            "События могут носить случайный характер. При alpha 0.05\n",
            "Относительное различие групп -3.52%\n"
          ]
        }
      ]
    },
    {
      "cell_type": "markdown",
      "metadata": {
        "id": "4zfXSCM4gYgw"
      },
      "source": [
        "Не отвергли нулевую гипотзу.  Статистически важных различий не выявлено"
      ]
    },
    {
      "cell_type": "markdown",
      "metadata": {
        "id": "e0bCxiiQXUWA"
      },
      "source": [
        "<a href=\"#footer\">К содержанию</a>\n",
        "<footer id=\"footer\"></footer>\n"
      ]
    },
    {
      "cell_type": "markdown",
      "metadata": {
        "id": "0TSvgafbqSri"
      },
      "source": [
        "#### Группы 247/248"
      ]
    },
    {
      "cell_type": "markdown",
      "metadata": {
        "id": "4ByjNacDqVuF"
      },
      "source": [
        "Провдем проверку, для контрольной 247 группы и тестовой группы 248"
      ]
    },
    {
      "cell_type": "code",
      "metadata": {
        "colab": {
          "base_uri": "https://localhost:8080/"
        },
        "id": "TSPC_OCAqRHh",
        "outputId": "da9a7fb3-6a17-4f60-aca4-4e9c882181d1"
      },
      "source": [
        "for idx, event in enumerate(event_list):\n",
        "    if event == 'Total':\n",
        "        continue\n",
        "    else:\n",
        "        print(f'\\nТест № {idx} для события: {event}')\n",
        "        prev = event_list[idx - 1]\n",
        "        make_z_test(247, 248, event, prev, alpha=.05)\n",
        "        counter += 1"
      ],
      "execution_count": null,
      "outputs": [
        {
          "output_type": "stream",
          "name": "stdout",
          "text": [
            "\n",
            "Тест № 1 для события: MainScreenAppear\n",
            "\n",
            "Гипотезы:\n",
            "H0 гипотеза: статистически значимых различий конверсии в MainScreenAppear от общего числа пользователей между группами нет\n",
            "H1 гипотеза: статистически значимых различий конверсии в MainScreenAppear от общего числа пользователей обнаружены между группами\n",
            "\n",
            "Доля пользователей, совершивших переход на экран MainScreenAppear с экрана Total для группы 247 - 98.73%\n",
            "Доля пользователей, совершивших переход на экран MainScreenAppear с экрана Total для группы 248 - 98.50%\n",
            "\n",
            "pvalue 0.49202711407845534. \n",
            "\n",
            "Не отвергаем Н0. \n",
            "\n",
            "События могут носить случайный характер. При alpha 0.05\n",
            "Относительное различие групп -0.23%\n",
            "\n",
            "Тест № 2 для события: OffersScreenAppear\n",
            "\n",
            "Гипотезы:\n",
            "H0 гипотеза: статистически значимых различий конверсии в OffersScreenAppear от общего числа пользователей между группами нет\n",
            "H1 гипотеза: статистически значимых различий конверсии в OffersScreenAppear от общего числа пользователей обнаружены между группами\n",
            "\n",
            "Доля пользователей, совершивших переход на экран OffersScreenAppear с экрана MainScreenAppear для группы 247 - 60.49%\n",
            "Доля пользователей, совершивших переход на экран OffersScreenAppear с экрана MainScreenAppear для группы 248 - 60.35%\n",
            "\n",
            "pvalue 0.9154176149470227. \n",
            "\n",
            "Не отвергаем Н0. \n",
            "\n",
            "События могут носить случайный характер. При alpha 0.05\n",
            "Относительное различие групп -0.24%\n",
            "\n",
            "Тест № 3 для события: CartScreenAppear\n",
            "\n",
            "Гипотезы:\n",
            "H0 гипотеза: статистически значимых различий конверсии в CartScreenAppear от общего числа пользователей между группами нет\n",
            "H1 гипотеза: статистически значимых различий конверсии в CartScreenAppear от общего числа пользователей обнаружены между группами\n",
            "\n",
            "Доля пользователей, совершивших переход на экран CartScreenAppear с экрана OffersScreenAppear для группы 247 - 49.34%\n",
            "Доля пользователей, совершивших переход на экран CartScreenAppear с экрана OffersScreenAppear для группы 248 - 48.62%\n",
            "\n",
            "pvalue 0.6064862731696631. \n",
            "\n",
            "Не отвергаем Н0. \n",
            "\n",
            "События могут носить случайный характер. При alpha 0.05\n",
            "Относительное различие групп -1.47%\n",
            "\n",
            "Тест № 4 для события: PaymentScreenSuccessful\n",
            "\n",
            "Гипотезы:\n",
            "H0 гипотеза: статистически значимых различий конверсии в PaymentScreenSuccessful от общего числа пользователей между группами нет\n",
            "H1 гипотеза: статистически значимых различий конверсии в PaymentScreenSuccessful от общего числа пользователей обнаружены между группами\n",
            "\n",
            "Доля пользователей, совершивших переход на экран PaymentScreenSuccessful с экрана CartScreenAppear для группы 247 - 46.12%\n",
            "Доля пользователей, совершивших переход на экран PaymentScreenSuccessful с экрана CartScreenAppear для группы 248 - 46.68%\n",
            "\n",
            "pvalue 0.6872867566366612. \n",
            "\n",
            "Не отвергаем Н0. \n",
            "\n",
            "События могут носить случайный характер. При alpha 0.05\n",
            "Относительное различие групп 1.23%\n"
          ]
        }
      ]
    },
    {
      "cell_type": "markdown",
      "metadata": {
        "id": "ciNjrqgjgfKC"
      },
      "source": [
        "Не отвергли нулевые гипотезы.  Статистически важных различий не выявлено"
      ]
    },
    {
      "cell_type": "markdown",
      "metadata": {
        "id": "nz_mKq1XXUWA"
      },
      "source": [
        "<a href=\"#footer\">К содержанию</a>\n",
        "<footer id=\"footer\"></footer>\n"
      ]
    },
    {
      "cell_type": "markdown",
      "metadata": {
        "id": "h9Ul4zAxu7W4"
      },
      "source": [
        "### A/A/B тестирование"
      ]
    },
    {
      "cell_type": "markdown",
      "metadata": {
        "id": "JL6aBX4ivFif"
      },
      "source": [
        "Объединим АА группы в одну. Проведем тесты при альфа .05"
      ]
    },
    {
      "cell_type": "code",
      "metadata": {
        "colab": {
          "base_uri": "https://localhost:8080/"
        },
        "id": "rXaFHLbzunr5",
        "scrolled": false,
        "outputId": "3ff58ce2-49bb-44f1-a520-bc8b8b06f3f0"
      },
      "source": [
        "for idx, event in enumerate(event_list):\n",
        "    if event == 'Total':\n",
        "        continue\n",
        "    else:\n",
        "        print(f'\\nТест № {idx} для события: {event}')\n",
        "        prev = event_list[idx - 1]\n",
        "        make_z_test(246, 248, event, prev, alpha=.05, concat=True)\n",
        "        counter += 1"
      ],
      "execution_count": null,
      "outputs": [
        {
          "output_type": "stream",
          "name": "stdout",
          "text": [
            "\n",
            "Тест № 1 для события: MainScreenAppear\n",
            "\n",
            "Гипотезы:\n",
            "H0 гипотеза: статистически значимых различий конверсии в MainScreenAppear от общего числа пользователей между группами нет\n",
            "H1 гипотеза: статистически значимых различий конверсии в MainScreenAppear от общего числа пользователей обнаружены между группами\n",
            "\n",
            "Доля пользователей, совершивших переход на экран MainScreenAppear с экрана Total для группы 246 и 247 - 98.76%\n",
            "Доля пользователей, совершивших переход на экран MainScreenAppear с экрана Total для группы 248 - 98.50%\n",
            "\n",
            "pvalue 0.3548099811698696. \n",
            "\n",
            "Не отвергаем Н0. \n",
            "\n",
            "События могут носить случайный характер. При alpha 0.05\n",
            "Относительное различие групп -0.26%\n",
            "\n",
            "Тест № 2 для события: OffersScreenAppear\n",
            "\n",
            "Гипотезы:\n",
            "H0 гипотеза: статистически значимых различий конверсии в OffersScreenAppear от общего числа пользователей между группами нет\n",
            "H1 гипотеза: статистически значимых различий конверсии в OffersScreenAppear от общего числа пользователей обнаружены между группами\n",
            "\n",
            "Доля пользователей, совершивших переход на экран OffersScreenAppear с экрана MainScreenAppear для группы 246 и 247 - 61.27%\n",
            "Доля пользователей, совершивших переход на экран OffersScreenAppear с экрана MainScreenAppear для группы 248 - 60.35%\n",
            "\n",
            "pvalue 0.43820516384513386. \n",
            "\n",
            "Не отвергаем Н0. \n",
            "\n",
            "События могут носить случайный характер. При alpha 0.05\n",
            "Относительное различие групп -1.51%\n",
            "\n",
            "Тест № 3 для события: CartScreenAppear\n",
            "\n",
            "Гипотезы:\n",
            "H0 гипотеза: статистически значимых различий конверсии в CartScreenAppear от общего числа пользователей между группами нет\n",
            "H1 гипотеза: статистически значимых различий конверсии в CartScreenAppear от общего числа пользователей обнаружены между группами\n",
            "\n",
            "Доля пользователей, совершивших переход на экран CartScreenAppear с экрана OffersScreenAppear для группы 246 и 247 - 50.19%\n",
            "Доля пользователей, совершивших переход на экран CartScreenAppear с экрана OffersScreenAppear для группы 248 - 48.62%\n",
            "\n",
            "pvalue 0.19734753652758608. \n",
            "\n",
            "Не отвергаем Н0. \n",
            "\n",
            "События могут носить случайный характер. При alpha 0.05\n",
            "Относительное различие групп -3.13%\n",
            "\n",
            "Тест № 4 для события: PaymentScreenSuccessful\n",
            "\n",
            "Гипотезы:\n",
            "H0 гипотеза: статистически значимых различий конверсии в PaymentScreenSuccessful от общего числа пользователей между группами нет\n",
            "H1 гипотеза: статистически значимых различий конверсии в PaymentScreenSuccessful от общего числа пользователей обнаружены между группами\n",
            "\n",
            "Доля пользователей, совершивших переход на экран PaymentScreenSuccessful с экрана CartScreenAppear для группы 246 и 247 - 47.25%\n",
            "Доля пользователей, совершивших переход на экран PaymentScreenSuccessful с экрана CartScreenAppear для группы 248 - 46.68%\n",
            "\n",
            "pvalue 0.6441163457427619. \n",
            "\n",
            "Не отвергаем Н0. \n",
            "\n",
            "События могут носить случайный характер. При alpha 0.05\n",
            "Относительное различие групп -1.19%\n"
          ]
        }
      ]
    },
    {
      "cell_type": "markdown",
      "metadata": {
        "id": "sLBdT0S-XUWB"
      },
      "source": [
        "Даже с объединенной группой А мы не отвергаем нулевую гипотезу"
      ]
    },
    {
      "cell_type": "markdown",
      "metadata": {
        "id": "P1wMbtbybzak"
      },
      "source": [
        "<a href=\"#footer\">К содержанию</a>\n",
        "<footer id=\"footer\"></footer>\n"
      ]
    },
    {
      "cell_type": "markdown",
      "metadata": {
        "id": "kuxzWq_Q5na3"
      },
      "source": [
        "### Тестирование с поправкой Бонферрони"
      ]
    },
    {
      "cell_type": "markdown",
      "metadata": {
        "id": "rbRmf-LC5_k9"
      },
      "source": [
        "Мы множественное сравнение, нам необходимо провести испытания с поправкой Бонферрони. Проведем испытания снова"
      ]
    },
    {
      "cell_type": "code",
      "metadata": {
        "colab": {
          "base_uri": "https://localhost:8080/"
        },
        "id": "R2locHfmdTbz",
        "outputId": "4788bbb5-113d-4793-d378-6fb6171f0410"
      },
      "source": [
        "print(f'Количество проведенных сравнение: {counter}')"
      ],
      "execution_count": null,
      "outputs": [
        {
          "output_type": "stream",
          "name": "stdout",
          "text": [
            "Количество проведенных сравнение: 16\n"
          ]
        }
      ]
    },
    {
      "cell_type": "markdown",
      "metadata": {
        "id": "nMCdg6Jy5rxI"
      },
      "source": [
        "#### Группы 246/248"
      ]
    },
    {
      "cell_type": "markdown",
      "metadata": {
        "id": "DbmeY0tMgJ6D"
      },
      "source": [
        "Повторно проверим группы 246 и 248"
      ]
    },
    {
      "cell_type": "code",
      "metadata": {
        "colab": {
          "base_uri": "https://localhost:8080/"
        },
        "id": "utXzXb8iXUWC",
        "outputId": "87f14299-62a4-4eaf-89a5-6f122f8228af"
      },
      "source": [
        "for idx, event in enumerate(event_list):\n",
        "    if event == 'Total':\n",
        "        continue\n",
        "    else:\n",
        "        print(f'\\nТест № {idx} для события: {event}')\n",
        "        prev = event_list[idx - 1]\n",
        "        make_z_test(246, 248, event, prev, alpha=.05, bonferroni=counter)"
      ],
      "execution_count": null,
      "outputs": [
        {
          "output_type": "stream",
          "name": "stdout",
          "text": [
            "\n",
            "Тест № 1 для события: MainScreenAppear\n",
            "\n",
            "Гипотезы:\n",
            "H0 гипотеза: статистически значимых различий конверсии в MainScreenAppear от общего числа пользователей между группами нет\n",
            "H1 гипотеза: статистически значимых различий конверсии в MainScreenAppear от общего числа пользователей обнаружены между группами\n",
            "\n",
            "Доля пользователей, совершивших переход на экран MainScreenAppear с экрана Total для группы 246 - 98.79%\n",
            "Доля пользователей, совершивших переход на экран MainScreenAppear с экрана Total для группы 248 - 98.50%\n",
            "\n",
            "pvalue 0.37309135448254493. \n",
            "\n",
            "Не отвергаем Н0. \n",
            "\n",
            "События могут носить случайный характер. При alpha 0.003125\n",
            "Относительное различие групп -0.29%\n",
            "\n",
            "Тест № 2 для события: OffersScreenAppear\n",
            "\n",
            "Гипотезы:\n",
            "H0 гипотеза: статистически значимых различий конверсии в OffersScreenAppear от общего числа пользователей между группами нет\n",
            "H1 гипотеза: статистически значимых различий конверсии в OffersScreenAppear от общего числа пользователей обнаружены между группами\n",
            "\n",
            "Доля пользователей, совершивших переход на экран OffersScreenAppear с экрана MainScreenAppear для группы 246 - 62.06%\n",
            "Доля пользователей, совершивших переход на экран OffersScreenAppear с экрана MainScreenAppear для группы 248 - 60.35%\n",
            "\n",
            "pvalue 0.21450919953846204. \n",
            "\n",
            "Не отвергаем Н0. \n",
            "\n",
            "События могут носить случайный характер. При alpha 0.003125\n",
            "Относительное различие групп -2.75%\n",
            "\n",
            "Тест № 3 для события: CartScreenAppear\n",
            "\n",
            "Гипотезы:\n",
            "H0 гипотеза: статистически значимых различий конверсии в CartScreenAppear от общего числа пользователей между группами нет\n",
            "H1 гипотеза: статистически значимых различий конверсии в CartScreenAppear от общего числа пользователей обнаружены между группами\n",
            "\n",
            "Доля пользователей, совершивших переход на экран CartScreenAppear с экрана OffersScreenAppear для группы 246 - 51.05%\n",
            "Доля пользователей, совершивших переход на экран CartScreenAppear с экрана OffersScreenAppear для группы 248 - 48.62%\n",
            "\n",
            "pvalue 0.08529807568134204. \n",
            "\n",
            "Не отвергаем Н0. \n",
            "\n",
            "События могут носить случайный характер. При alpha 0.003125\n",
            "Относительное различие групп -4.76%\n",
            "\n",
            "Тест № 4 для события: PaymentScreenSuccessful\n",
            "\n",
            "Гипотезы:\n",
            "H0 гипотеза: статистически значимых различий конверсии в PaymentScreenSuccessful от общего числа пользователей между группами нет\n",
            "H1 гипотеза: статистически значимых различий конверсии в PaymentScreenSuccessful от общего числа пользователей обнаружены между группами\n",
            "\n",
            "Доля пользователей, совершивших переход на экран PaymentScreenSuccessful с экрана CartScreenAppear для группы 246 - 48.39%\n",
            "Доля пользователей, совершивших переход на экран PaymentScreenSuccessful с экрана CartScreenAppear для группы 248 - 46.68%\n",
            "\n",
            "pvalue 0.22696354166658805. \n",
            "\n",
            "Не отвергаем Н0. \n",
            "\n",
            "События могут носить случайный характер. При alpha 0.003125\n",
            "Относительное различие групп -3.52%\n"
          ]
        }
      ]
    },
    {
      "cell_type": "markdown",
      "metadata": {
        "id": "4k1WCH-2gN1U"
      },
      "source": [
        "Также не смогли отвергнуть нулевую гипотезу"
      ]
    },
    {
      "cell_type": "markdown",
      "metadata": {
        "id": "aHgctlgTXUWD"
      },
      "source": [
        "<a href=\"#footer\">К содержанию</a>\n",
        "<footer id=\"footer\"></footer>\n"
      ]
    },
    {
      "cell_type": "markdown",
      "metadata": {
        "id": "HJSv2-gY5vpH"
      },
      "source": [
        "#### Группы 247/248"
      ]
    },
    {
      "cell_type": "markdown",
      "metadata": {
        "id": "CU-bePbMgRag"
      },
      "source": [
        "Аналогично сделаем для групп 247 и 248"
      ]
    },
    {
      "cell_type": "code",
      "metadata": {
        "colab": {
          "base_uri": "https://localhost:8080/"
        },
        "id": "6WqmCica5FTC",
        "outputId": "07fac099-58a3-45aa-9f7f-35ada1b2daed"
      },
      "source": [
        "for idx, event in enumerate(event_list):\n",
        "    if event == 'Total':\n",
        "        continue\n",
        "    else:\n",
        "        print(f'\\nТест № {idx} для события: {event}')\n",
        "        prev = event_list[idx - 1]\n",
        "        make_z_test(247, 248, event, prev, alpha=.05, bonferroni=counter)"
      ],
      "execution_count": null,
      "outputs": [
        {
          "output_type": "stream",
          "name": "stdout",
          "text": [
            "\n",
            "Тест № 1 для события: MainScreenAppear\n",
            "\n",
            "Гипотезы:\n",
            "H0 гипотеза: статистически значимых различий конверсии в MainScreenAppear от общего числа пользователей между группами нет\n",
            "H1 гипотеза: статистически значимых различий конверсии в MainScreenAppear от общего числа пользователей обнаружены между группами\n",
            "\n",
            "Доля пользователей, совершивших переход на экран MainScreenAppear с экрана Total для группы 247 - 98.73%\n",
            "Доля пользователей, совершивших переход на экран MainScreenAppear с экрана Total для группы 248 - 98.50%\n",
            "\n",
            "pvalue 0.49202711407845534. \n",
            "\n",
            "Не отвергаем Н0. \n",
            "\n",
            "События могут носить случайный характер. При alpha 0.003125\n",
            "Относительное различие групп -0.23%\n",
            "\n",
            "Тест № 2 для события: OffersScreenAppear\n",
            "\n",
            "Гипотезы:\n",
            "H0 гипотеза: статистически значимых различий конверсии в OffersScreenAppear от общего числа пользователей между группами нет\n",
            "H1 гипотеза: статистически значимых различий конверсии в OffersScreenAppear от общего числа пользователей обнаружены между группами\n",
            "\n",
            "Доля пользователей, совершивших переход на экран OffersScreenAppear с экрана MainScreenAppear для группы 247 - 60.49%\n",
            "Доля пользователей, совершивших переход на экран OffersScreenAppear с экрана MainScreenAppear для группы 248 - 60.35%\n",
            "\n",
            "pvalue 0.9154176149470227. \n",
            "\n",
            "Не отвергаем Н0. \n",
            "\n",
            "События могут носить случайный характер. При alpha 0.003125\n",
            "Относительное различие групп -0.24%\n",
            "\n",
            "Тест № 3 для события: CartScreenAppear\n",
            "\n",
            "Гипотезы:\n",
            "H0 гипотеза: статистически значимых различий конверсии в CartScreenAppear от общего числа пользователей между группами нет\n",
            "H1 гипотеза: статистически значимых различий конверсии в CartScreenAppear от общего числа пользователей обнаружены между группами\n",
            "\n",
            "Доля пользователей, совершивших переход на экран CartScreenAppear с экрана OffersScreenAppear для группы 247 - 49.34%\n",
            "Доля пользователей, совершивших переход на экран CartScreenAppear с экрана OffersScreenAppear для группы 248 - 48.62%\n",
            "\n",
            "pvalue 0.6064862731696631. \n",
            "\n",
            "Не отвергаем Н0. \n",
            "\n",
            "События могут носить случайный характер. При alpha 0.003125\n",
            "Относительное различие групп -1.47%\n",
            "\n",
            "Тест № 4 для события: PaymentScreenSuccessful\n",
            "\n",
            "Гипотезы:\n",
            "H0 гипотеза: статистически значимых различий конверсии в PaymentScreenSuccessful от общего числа пользователей между группами нет\n",
            "H1 гипотеза: статистически значимых различий конверсии в PaymentScreenSuccessful от общего числа пользователей обнаружены между группами\n",
            "\n",
            "Доля пользователей, совершивших переход на экран PaymentScreenSuccessful с экрана CartScreenAppear для группы 247 - 46.12%\n",
            "Доля пользователей, совершивших переход на экран PaymentScreenSuccessful с экрана CartScreenAppear для группы 248 - 46.68%\n",
            "\n",
            "pvalue 0.6872867566366612. \n",
            "\n",
            "Не отвергаем Н0. \n",
            "\n",
            "События могут носить случайный характер. При alpha 0.003125\n",
            "Относительное различие групп 1.23%\n"
          ]
        }
      ]
    },
    {
      "cell_type": "markdown",
      "metadata": {
        "id": "U6ZlYWdjhpDl"
      },
      "source": [
        "С поправкой мы не отвергли нулевую гипотезу"
      ]
    },
    {
      "cell_type": "markdown",
      "metadata": {
        "id": "UXsLO-KHXUWD"
      },
      "source": [
        "<a href=\"#footer\">К содержанию</a>\n",
        "<footer id=\"footer\"></footer>\n"
      ]
    },
    {
      "cell_type": "markdown",
      "metadata": {
        "id": "Nbru4fy2541O"
      },
      "source": [
        "#### Группы 246/247"
      ]
    },
    {
      "cell_type": "code",
      "metadata": {
        "colab": {
          "base_uri": "https://localhost:8080/"
        },
        "id": "Omeg90Zh5y_l",
        "outputId": "df33d309-ad32-4227-ea52-63fee8fc6086"
      },
      "source": [
        "for idx, event in enumerate(event_list):\n",
        "    if event == 'Total':\n",
        "        continue\n",
        "    else:\n",
        "        print(f'\\nТест № {idx} для события: {event}')\n",
        "        prev = event_list[idx - 1]\n",
        "        make_z_test(246, 247, event, prev, alpha=.05, bonferroni=counter)"
      ],
      "execution_count": null,
      "outputs": [
        {
          "output_type": "stream",
          "name": "stdout",
          "text": [
            "\n",
            "Тест № 1 для события: MainScreenAppear\n",
            "\n",
            "Гипотезы:\n",
            "H0 гипотеза: статистически значимых различий конверсии в MainScreenAppear от общего числа пользователей между группами нет\n",
            "H1 гипотеза: статистически значимых различий конверсии в MainScreenAppear от общего числа пользователей обнаружены между группами\n",
            "\n",
            "Доля пользователей, совершивших переход на экран MainScreenAppear с экрана Total для группы 246 - 98.79%\n",
            "Доля пользователей, совершивших переход на экран MainScreenAppear с экрана Total для группы 247 - 98.73%\n",
            "\n",
            "pvalue 0.8364915785175109. \n",
            "\n",
            "Не отвергаем Н0. \n",
            "\n",
            "События могут носить случайный характер. При alpha 0.003125\n",
            "Относительное различие групп -0.07%\n",
            "\n",
            "Тест № 2 для события: OffersScreenAppear\n",
            "\n",
            "Гипотезы:\n",
            "H0 гипотеза: статистически значимых различий конверсии в OffersScreenAppear от общего числа пользователей между группами нет\n",
            "H1 гипотеза: статистически значимых различий конверсии в OffersScreenAppear от общего числа пользователей обнаружены между группами\n",
            "\n",
            "Доля пользователей, совершивших переход на экран OffersScreenAppear с экрана MainScreenAppear для группы 246 - 62.06%\n",
            "Доля пользователей, совершивших переход на экран OffersScreenAppear с экрана MainScreenAppear для группы 247 - 60.49%\n",
            "\n",
            "pvalue 0.25717807800662296. \n",
            "\n",
            "Не отвергаем Н0. \n",
            "\n",
            "События могут носить случайный характер. При alpha 0.003125\n",
            "Относительное различие групп -2.52%\n",
            "\n",
            "Тест № 3 для события: CartScreenAppear\n",
            "\n",
            "Гипотезы:\n",
            "H0 гипотеза: статистически значимых различий конверсии в CartScreenAppear от общего числа пользователей между группами нет\n",
            "H1 гипотеза: статистически значимых различий конверсии в CartScreenAppear от общего числа пользователей обнаружены между группами\n",
            "\n",
            "Доля пользователей, совершивших переход на экран CartScreenAppear с экрана OffersScreenAppear для группы 246 - 51.05%\n",
            "Доля пользователей, совершивших переход на экран CartScreenAppear с экрана OffersScreenAppear для группы 247 - 49.34%\n",
            "\n",
            "pvalue 0.22825453880129298. \n",
            "\n",
            "Не отвергаем Н0. \n",
            "\n",
            "События могут носить случайный характер. При alpha 0.003125\n",
            "Относительное различие групп -3.34%\n",
            "\n",
            "Тест № 4 для события: PaymentScreenSuccessful\n",
            "\n",
            "Гипотезы:\n",
            "H0 гипотеза: статистически значимых различий конверсии в PaymentScreenSuccessful от общего числа пользователей между группами нет\n",
            "H1 гипотеза: статистически значимых различий конверсии в PaymentScreenSuccessful от общего числа пользователей обнаружены между группами\n",
            "\n",
            "Доля пользователей, совершивших переход на экран PaymentScreenSuccessful с экрана CartScreenAppear для группы 246 - 48.39%\n",
            "Доля пользователей, совершивших переход на экран PaymentScreenSuccessful с экрана CartScreenAppear для группы 247 - 46.12%\n",
            "\n",
            "pvalue 0.10825095472518283. \n",
            "\n",
            "Не отвергаем Н0. \n",
            "\n",
            "События могут носить случайный характер. При alpha 0.003125\n",
            "Относительное различие групп -4.69%\n"
          ]
        }
      ]
    },
    {
      "cell_type": "markdown",
      "metadata": {
        "id": "Gh2FhRGbiB2w"
      },
      "source": [
        "Здесь аналогично - не смогли отвергнуть нулевую гипотезу"
      ]
    },
    {
      "cell_type": "markdown",
      "metadata": {
        "id": "g92L9qI1XUWE"
      },
      "source": [
        "<a href=\"#footer\">К содержанию</a>\n",
        "<footer id=\"footer\"></footer>\n"
      ]
    },
    {
      "cell_type": "markdown",
      "metadata": {
        "id": "ZDQdlgqVXUWE"
      },
      "source": [
        "### A/A/B тестирование с поправкой Бонферрони"
      ]
    },
    {
      "cell_type": "code",
      "metadata": {
        "colab": {
          "base_uri": "https://localhost:8080/"
        },
        "id": "o8J6VttqXUWE",
        "outputId": "e64ea181-6e28-4a7f-ee25-b05477d5e836"
      },
      "source": [
        "for idx, event in enumerate(event_list):\n",
        "    if event == 'Total':\n",
        "        continue\n",
        "    else:\n",
        "        print(f'\\nТест № {idx} для события: {event}')\n",
        "        prev = event_list[idx - 1]\n",
        "        make_z_test(246, 248, event, prev, alpha=.05, concat=True, bonferroni=counter)"
      ],
      "execution_count": null,
      "outputs": [
        {
          "output_type": "stream",
          "name": "stdout",
          "text": [
            "\n",
            "Тест № 1 для события: MainScreenAppear\n",
            "\n",
            "Гипотезы:\n",
            "H0 гипотеза: статистически значимых различий конверсии в MainScreenAppear от общего числа пользователей между группами нет\n",
            "H1 гипотеза: статистически значимых различий конверсии в MainScreenAppear от общего числа пользователей обнаружены между группами\n",
            "\n",
            "Доля пользователей, совершивших переход на экран MainScreenAppear с экрана Total для группы 246 и 247 - 98.76%\n",
            "Доля пользователей, совершивших переход на экран MainScreenAppear с экрана Total для группы 248 - 98.50%\n",
            "\n",
            "pvalue 0.3548099811698696. \n",
            "\n",
            "Не отвергаем Н0. \n",
            "\n",
            "События могут носить случайный характер. При alpha 0.003125\n",
            "Относительное различие групп -0.26%\n",
            "\n",
            "Тест № 2 для события: OffersScreenAppear\n",
            "\n",
            "Гипотезы:\n",
            "H0 гипотеза: статистически значимых различий конверсии в OffersScreenAppear от общего числа пользователей между группами нет\n",
            "H1 гипотеза: статистически значимых различий конверсии в OffersScreenAppear от общего числа пользователей обнаружены между группами\n",
            "\n",
            "Доля пользователей, совершивших переход на экран OffersScreenAppear с экрана MainScreenAppear для группы 246 и 247 - 61.27%\n",
            "Доля пользователей, совершивших переход на экран OffersScreenAppear с экрана MainScreenAppear для группы 248 - 60.35%\n",
            "\n",
            "pvalue 0.43820516384513386. \n",
            "\n",
            "Не отвергаем Н0. \n",
            "\n",
            "События могут носить случайный характер. При alpha 0.003125\n",
            "Относительное различие групп -1.51%\n",
            "\n",
            "Тест № 3 для события: CartScreenAppear\n",
            "\n",
            "Гипотезы:\n",
            "H0 гипотеза: статистически значимых различий конверсии в CartScreenAppear от общего числа пользователей между группами нет\n",
            "H1 гипотеза: статистически значимых различий конверсии в CartScreenAppear от общего числа пользователей обнаружены между группами\n",
            "\n",
            "Доля пользователей, совершивших переход на экран CartScreenAppear с экрана OffersScreenAppear для группы 246 и 247 - 50.19%\n",
            "Доля пользователей, совершивших переход на экран CartScreenAppear с экрана OffersScreenAppear для группы 248 - 48.62%\n",
            "\n",
            "pvalue 0.19734753652758608. \n",
            "\n",
            "Не отвергаем Н0. \n",
            "\n",
            "События могут носить случайный характер. При alpha 0.003125\n",
            "Относительное различие групп -3.13%\n",
            "\n",
            "Тест № 4 для события: PaymentScreenSuccessful\n",
            "\n",
            "Гипотезы:\n",
            "H0 гипотеза: статистически значимых различий конверсии в PaymentScreenSuccessful от общего числа пользователей между группами нет\n",
            "H1 гипотеза: статистически значимых различий конверсии в PaymentScreenSuccessful от общего числа пользователей обнаружены между группами\n",
            "\n",
            "Доля пользователей, совершивших переход на экран PaymentScreenSuccessful с экрана CartScreenAppear для группы 246 и 247 - 47.25%\n",
            "Доля пользователей, совершивших переход на экран PaymentScreenSuccessful с экрана CartScreenAppear для группы 248 - 46.68%\n",
            "\n",
            "pvalue 0.6441163457427619. \n",
            "\n",
            "Не отвергаем Н0. \n",
            "\n",
            "События могут носить случайный характер. При alpha 0.003125\n",
            "Относительное различие групп -1.19%\n"
          ]
        }
      ]
    },
    {
      "cell_type": "markdown",
      "metadata": {
        "id": "gZX2abnAXUWE"
      },
      "source": [
        "Аналогично, с объединенной группой А и поправкой - мы не отвергаем нулевую гипотезу"
      ]
    },
    {
      "cell_type": "markdown",
      "metadata": {
        "id": "al8WneN2XUWE"
      },
      "source": [
        "<a href=\"#footer\">К содержанию</a>\n",
        "<footer id=\"footer\"></footer>\n"
      ]
    },
    {
      "cell_type": "markdown",
      "metadata": {
        "id": "wII_E3GkfwWm"
      },
      "source": [
        "### Выводы  \n",
        "\n",
        "В общей сложности мы провели 16 сравнений: `12` на базовые группы 246, 247 и 248, а также `4` сравнение на объединенную группу 246 и 247 против 248.   \n",
        "\n",
        "\n",
        "По итогам сравнения групп, статистически значимых различий, свидетельствующих нам о важности изменения шрифта в приложении - не выявлено"
      ]
    },
    {
      "cell_type": "markdown",
      "metadata": {
        "id": "QwrQ1sNff1IO"
      },
      "source": [
        "<a href=\"#footer\">К содержанию</a>\n",
        "<footer id=\"footer\"></footer>\n"
      ]
    },
    {
      "cell_type": "markdown",
      "metadata": {
        "id": "zaX9ZgSEiOmY"
      },
      "source": [
        "## Вывод  \n",
        "\n"
      ]
    },
    {
      "cell_type": "markdown",
      "metadata": {
        "id": "_fzkeX9liSgs"
      },
      "source": [
        "Стартапу, который продаёт продукты питания, необходимо было разобраться, как ведут себя пользователи мобильного приложения. Нами быа изучена воронка продаж и найдем путь пользователя до оплаты"
      ]
    },
    {
      "cell_type": "markdown",
      "metadata": {
        "id": "FpZ4iWpMie5B"
      },
      "source": [
        "![image.png](data:image/png;base64,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)"
      ]
    },
    {
      "cell_type": "markdown",
      "metadata": {
        "id": "p1Ua2DB_iqmG"
      },
      "source": [
        "Больше всего пользователей уходит после главного экрана - 38%.  \n",
        "19% мы теряем на этапе перехода от предложения до корзины. 5% теряем на оплате\n",
        "\n",
        "Также, по результатам исследования результатов A/A/B теста - статистически важных различий не выявлено. Таким образом, изменение шрифта в мобильном приложении не оказывает влияние на пользователя, как итог - он не лучше и не хуже старого образца шрифта. Таким образом, изменение шрифта не является необходимым. Можно остановить тест"
      ]
    },
    {
      "cell_type": "markdown",
      "metadata": {
        "id": "-SEkKIh3i_xi"
      },
      "source": [
        "<a href=\"#footer\">К содержанию</a>\n",
        "<footer id=\"footer\"></footer>\n"
      ]
    }
  ]
}