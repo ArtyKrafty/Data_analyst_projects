{
  "nbformat": 4,
  "nbformat_minor": 0,
  "metadata": {
    "ExecuteTimeLog": [
      {
        "duration": 1547,
        "start_time": "2021-10-19T14:21:56.132Z"
      },
      {
        "duration": 1799,
        "start_time": "2021-10-19T14:21:57.681Z"
      },
      {
        "duration": 122,
        "start_time": "2021-10-19T14:21:59.483Z"
      },
      {
        "duration": 6,
        "start_time": "2021-10-19T14:21:59.609Z"
      },
      {
        "duration": 872,
        "start_time": "2021-10-19T14:21:59.617Z"
      },
      {
        "duration": 76,
        "start_time": "2021-10-19T14:22:00.492Z"
      },
      {
        "duration": 7,
        "start_time": "2021-10-19T14:22:00.571Z"
      },
      {
        "duration": 77,
        "start_time": "2021-10-19T14:22:00.581Z"
      },
      {
        "duration": 6,
        "start_time": "2021-10-19T14:22:00.663Z"
      },
      {
        "duration": 25,
        "start_time": "2021-10-19T14:22:00.672Z"
      },
      {
        "duration": 23,
        "start_time": "2021-10-19T14:22:00.699Z"
      },
      {
        "duration": 52,
        "start_time": "2021-10-19T14:22:00.725Z"
      },
      {
        "duration": 670,
        "start_time": "2021-10-19T14:22:00.780Z"
      },
      {
        "duration": 6,
        "start_time": "2021-10-19T14:22:01.457Z"
      },
      {
        "duration": 47,
        "start_time": "2021-10-19T14:22:01.466Z"
      },
      {
        "duration": 45,
        "start_time": "2021-10-19T14:22:01.516Z"
      },
      {
        "duration": 592,
        "start_time": "2021-10-19T14:22:01.565Z"
      },
      {
        "duration": 7,
        "start_time": "2021-10-19T14:22:02.161Z"
      },
      {
        "duration": 5,
        "start_time": "2021-10-19T14:22:02.172Z"
      },
      {
        "duration": 21,
        "start_time": "2021-10-19T14:22:02.180Z"
      },
      {
        "duration": 56,
        "start_time": "2021-10-19T14:22:02.204Z"
      },
      {
        "duration": 14,
        "start_time": "2021-10-19T14:22:02.263Z"
      },
      {
        "duration": 23,
        "start_time": "2021-10-19T14:22:02.280Z"
      },
      {
        "duration": 17,
        "start_time": "2021-10-19T14:22:02.306Z"
      },
      {
        "duration": 38,
        "start_time": "2021-10-19T14:22:02.325Z"
      },
      {
        "duration": 14,
        "start_time": "2021-10-19T14:22:02.366Z"
      },
      {
        "duration": 9,
        "start_time": "2021-10-19T14:22:02.389Z"
      },
      {
        "duration": 390,
        "start_time": "2021-10-19T14:22:02.403Z"
      },
      {
        "duration": 11,
        "start_time": "2021-10-19T14:22:02.796Z"
      },
      {
        "duration": 311,
        "start_time": "2021-10-19T14:22:02.810Z"
      },
      {
        "duration": 12,
        "start_time": "2021-10-19T14:22:03.124Z"
      },
      {
        "duration": 9,
        "start_time": "2021-10-19T14:22:03.139Z"
      },
      {
        "duration": 17,
        "start_time": "2021-10-19T14:22:03.151Z"
      },
      {
        "duration": 6,
        "start_time": "2021-10-19T14:22:03.171Z"
      },
      {
        "duration": 590,
        "start_time": "2021-10-19T14:22:03.179Z"
      },
      {
        "duration": 766,
        "start_time": "2021-10-19T14:22:03.772Z"
      },
      {
        "duration": 857,
        "start_time": "2021-10-19T14:22:04.540Z"
      },
      {
        "duration": 752,
        "start_time": "2021-10-19T14:22:05.400Z"
      },
      {
        "duration": 722,
        "start_time": "2021-10-19T14:22:06.170Z"
      },
      {
        "duration": 13,
        "start_time": "2021-10-19T14:22:06.895Z"
      },
      {
        "duration": 194,
        "start_time": "2021-10-19T14:22:06.911Z"
      },
      {
        "duration": 553,
        "start_time": "2021-10-19T14:22:07.108Z"
      },
      {
        "duration": 649,
        "start_time": "2021-10-19T14:22:07.664Z"
      },
      {
        "duration": 7,
        "start_time": "2021-10-19T14:22:08.315Z"
      },
      {
        "duration": 13,
        "start_time": "2021-10-19T14:22:08.324Z"
      },
      {
        "duration": 1004,
        "start_time": "2021-10-19T14:22:08.357Z"
      },
      {
        "duration": 712,
        "start_time": "2021-10-19T14:22:09.364Z"
      },
      {
        "duration": 5,
        "start_time": "2021-10-19T14:22:10.078Z"
      },
      {
        "duration": 5,
        "start_time": "2021-10-19T14:22:10.087Z"
      },
      {
        "duration": 140,
        "start_time": "2021-10-19T14:22:10.095Z"
      },
      {
        "duration": 122,
        "start_time": "2021-10-19T14:22:10.238Z"
      },
      {
        "duration": 17,
        "start_time": "2021-10-19T14:22:10.363Z"
      },
      {
        "duration": 182,
        "start_time": "2021-10-19T14:22:10.384Z"
      },
      {
        "duration": 136,
        "start_time": "2021-10-19T14:22:10.569Z"
      },
      {
        "duration": 69,
        "start_time": "2021-10-19T14:22:10.707Z"
      },
      {
        "duration": 3,
        "start_time": "2021-10-19T14:22:10.779Z"
      },
      {
        "duration": 236,
        "start_time": "2021-10-19T14:22:10.785Z"
      },
      {
        "duration": 10,
        "start_time": "2021-10-19T14:22:11.023Z"
      },
      {
        "duration": 24,
        "start_time": "2021-10-19T14:22:11.035Z"
      },
      {
        "duration": 3,
        "start_time": "2021-10-19T14:22:11.062Z"
      },
      {
        "duration": 19,
        "start_time": "2021-10-19T14:22:11.067Z"
      },
      {
        "duration": 5,
        "start_time": "2021-10-19T14:22:11.089Z"
      },
      {
        "duration": 8,
        "start_time": "2021-10-19T14:22:11.097Z"
      },
      {
        "duration": 61,
        "start_time": "2021-10-19T14:22:11.108Z"
      },
      {
        "duration": 15,
        "start_time": "2021-10-19T14:22:11.172Z"
      },
      {
        "duration": 11,
        "start_time": "2021-10-19T14:22:11.190Z"
      },
      {
        "duration": 3,
        "start_time": "2021-10-19T14:22:11.204Z"
      },
      {
        "duration": 61,
        "start_time": "2021-10-19T14:22:11.210Z"
      },
      {
        "duration": 4,
        "start_time": "2021-10-19T14:22:11.274Z"
      },
      {
        "duration": 7,
        "start_time": "2021-10-19T14:22:11.281Z"
      },
      {
        "duration": 14,
        "start_time": "2021-10-19T14:22:11.291Z"
      },
      {
        "duration": 917,
        "start_time": "2021-10-19T14:22:11.308Z"
      },
      {
        "duration": 1012,
        "start_time": "2021-10-19T14:22:12.228Z"
      },
      {
        "duration": 1422,
        "start_time": "2021-10-19T14:30:05.995Z"
      },
      {
        "duration": 1748,
        "start_time": "2021-10-19T14:30:07.420Z"
      },
      {
        "duration": 113,
        "start_time": "2021-10-19T14:30:09.172Z"
      },
      {
        "duration": 6,
        "start_time": "2021-10-19T14:30:09.288Z"
      },
      {
        "duration": 775,
        "start_time": "2021-10-19T14:30:09.297Z"
      },
      {
        "duration": 43,
        "start_time": "2021-10-19T14:30:10.075Z"
      },
      {
        "duration": 40,
        "start_time": "2021-10-19T14:30:10.121Z"
      },
      {
        "duration": 45,
        "start_time": "2021-10-19T14:30:10.166Z"
      },
      {
        "duration": 7,
        "start_time": "2021-10-19T14:30:10.215Z"
      },
      {
        "duration": 42,
        "start_time": "2021-10-19T14:30:10.225Z"
      },
      {
        "duration": 14,
        "start_time": "2021-10-19T14:30:10.269Z"
      },
      {
        "duration": 27,
        "start_time": "2021-10-19T14:30:10.285Z"
      },
      {
        "duration": 638,
        "start_time": "2021-10-19T14:30:10.314Z"
      },
      {
        "duration": 6,
        "start_time": "2021-10-19T14:30:10.958Z"
      },
      {
        "duration": 10,
        "start_time": "2021-10-19T14:30:10.966Z"
      },
      {
        "duration": 27,
        "start_time": "2021-10-19T14:30:10.978Z"
      },
      {
        "duration": 692,
        "start_time": "2021-10-19T14:30:11.007Z"
      },
      {
        "duration": 60,
        "start_time": "2021-10-19T14:30:11.701Z"
      },
      {
        "duration": 9,
        "start_time": "2021-10-19T14:30:11.763Z"
      },
      {
        "duration": 26,
        "start_time": "2021-10-19T14:30:11.775Z"
      },
      {
        "duration": 69,
        "start_time": "2021-10-19T14:30:11.804Z"
      },
      {
        "duration": 13,
        "start_time": "2021-10-19T14:30:11.875Z"
      },
      {
        "duration": 76,
        "start_time": "2021-10-19T14:30:11.895Z"
      },
      {
        "duration": 12,
        "start_time": "2021-10-19T14:30:11.976Z"
      },
      {
        "duration": 6,
        "start_time": "2021-10-19T14:30:11.991Z"
      },
      {
        "duration": 62,
        "start_time": "2021-10-19T14:30:12.000Z"
      },
      {
        "duration": 11,
        "start_time": "2021-10-19T14:30:12.065Z"
      },
      {
        "duration": 567,
        "start_time": "2021-10-19T14:30:12.079Z"
      },
      {
        "duration": 16,
        "start_time": "2021-10-19T14:30:12.648Z"
      },
      {
        "duration": 295,
        "start_time": "2021-10-19T14:30:12.667Z"
      },
      {
        "duration": 14,
        "start_time": "2021-10-19T14:30:12.965Z"
      },
      {
        "duration": 10,
        "start_time": "2021-10-19T14:30:12.981Z"
      },
      {
        "duration": 15,
        "start_time": "2021-10-19T14:30:12.993Z"
      },
      {
        "duration": 4,
        "start_time": "2021-10-19T14:30:13.010Z"
      },
      {
        "duration": 642,
        "start_time": "2021-10-19T14:30:13.016Z"
      },
      {
        "duration": 635,
        "start_time": "2021-10-19T14:30:13.661Z"
      },
      {
        "duration": 772,
        "start_time": "2021-10-19T14:30:14.298Z"
      },
      {
        "duration": 551,
        "start_time": "2021-10-19T14:30:15.072Z"
      },
      {
        "duration": 839,
        "start_time": "2021-10-19T14:30:15.626Z"
      },
      {
        "duration": 13,
        "start_time": "2021-10-19T14:30:16.467Z"
      },
      {
        "duration": 256,
        "start_time": "2021-10-19T14:30:16.483Z"
      },
      {
        "duration": 584,
        "start_time": "2021-10-19T14:30:16.741Z"
      },
      {
        "duration": 669,
        "start_time": "2021-10-19T14:30:17.327Z"
      },
      {
        "duration": 6,
        "start_time": "2021-10-19T14:30:17.998Z"
      },
      {
        "duration": 15,
        "start_time": "2021-10-19T14:30:18.006Z"
      },
      {
        "duration": 1378,
        "start_time": "2021-10-19T14:30:18.023Z"
      },
      {
        "duration": 768,
        "start_time": "2021-10-19T14:30:19.404Z"
      },
      {
        "duration": 8,
        "start_time": "2021-10-19T14:30:20.175Z"
      },
      {
        "duration": 22,
        "start_time": "2021-10-19T14:30:20.186Z"
      },
      {
        "duration": 121,
        "start_time": "2021-10-19T14:30:20.211Z"
      },
      {
        "duration": 122,
        "start_time": "2021-10-19T14:30:20.335Z"
      },
      {
        "duration": 14,
        "start_time": "2021-10-19T14:30:20.460Z"
      },
      {
        "duration": 143,
        "start_time": "2021-10-19T14:30:20.477Z"
      },
      {
        "duration": 146,
        "start_time": "2021-10-19T14:30:20.623Z"
      },
      {
        "duration": 49,
        "start_time": "2021-10-19T14:30:20.771Z"
      },
      {
        "duration": 4,
        "start_time": "2021-10-19T14:30:20.822Z"
      },
      {
        "duration": 236,
        "start_time": "2021-10-19T14:30:20.828Z"
      },
      {
        "duration": 9,
        "start_time": "2021-10-19T14:30:21.067Z"
      },
      {
        "duration": 18,
        "start_time": "2021-10-19T14:30:21.078Z"
      },
      {
        "duration": 7,
        "start_time": "2021-10-19T14:30:21.098Z"
      },
      {
        "duration": 18,
        "start_time": "2021-10-19T14:30:21.107Z"
      },
      {
        "duration": 5,
        "start_time": "2021-10-19T14:30:21.158Z"
      },
      {
        "duration": 6,
        "start_time": "2021-10-19T14:30:21.166Z"
      },
      {
        "duration": 20,
        "start_time": "2021-10-19T14:30:21.175Z"
      },
      {
        "duration": 13,
        "start_time": "2021-10-19T14:30:21.197Z"
      },
      {
        "duration": 52,
        "start_time": "2021-10-19T14:30:21.212Z"
      },
      {
        "duration": 4,
        "start_time": "2021-10-19T14:30:21.267Z"
      },
      {
        "duration": 25,
        "start_time": "2021-10-19T14:30:21.278Z"
      },
      {
        "duration": 4,
        "start_time": "2021-10-19T14:30:21.306Z"
      },
      {
        "duration": 46,
        "start_time": "2021-10-19T14:30:21.313Z"
      },
      {
        "duration": 15,
        "start_time": "2021-10-19T14:30:21.362Z"
      },
      {
        "duration": 653,
        "start_time": "2021-10-19T14:30:21.380Z"
      },
      {
        "duration": 748,
        "start_time": "2021-10-19T14:30:22.035Z"
      },
      {
        "duration": 1559,
        "start_time": "2021-10-19T14:35:39.170Z"
      },
      {
        "duration": 1796,
        "start_time": "2021-10-19T14:35:40.732Z"
      },
      {
        "duration": 126,
        "start_time": "2021-10-19T14:35:42.532Z"
      },
      {
        "duration": 7,
        "start_time": "2021-10-19T14:35:42.661Z"
      },
      {
        "duration": 780,
        "start_time": "2021-10-19T14:35:42.671Z"
      },
      {
        "duration": 43,
        "start_time": "2021-10-19T14:35:43.459Z"
      },
      {
        "duration": 7,
        "start_time": "2021-10-19T14:35:43.505Z"
      },
      {
        "duration": 71,
        "start_time": "2021-10-19T14:35:43.515Z"
      },
      {
        "duration": 6,
        "start_time": "2021-10-19T14:35:43.589Z"
      },
      {
        "duration": 17,
        "start_time": "2021-10-19T14:35:43.597Z"
      },
      {
        "duration": 54,
        "start_time": "2021-10-19T14:35:43.617Z"
      },
      {
        "duration": 26,
        "start_time": "2021-10-19T14:35:43.673Z"
      },
      {
        "duration": 634,
        "start_time": "2021-10-19T14:35:43.701Z"
      },
      {
        "duration": 6,
        "start_time": "2021-10-19T14:35:44.337Z"
      },
      {
        "duration": 23,
        "start_time": "2021-10-19T14:35:44.345Z"
      },
      {
        "duration": 27,
        "start_time": "2021-10-19T14:35:44.371Z"
      },
      {
        "duration": 573,
        "start_time": "2021-10-19T14:35:44.401Z"
      },
      {
        "duration": 6,
        "start_time": "2021-10-19T14:35:44.977Z"
      },
      {
        "duration": 16,
        "start_time": "2021-10-19T14:35:44.985Z"
      },
      {
        "duration": 32,
        "start_time": "2021-10-19T14:35:45.003Z"
      },
      {
        "duration": 24,
        "start_time": "2021-10-19T14:35:45.037Z"
      },
      {
        "duration": 11,
        "start_time": "2021-10-19T14:35:45.063Z"
      },
      {
        "duration": 19,
        "start_time": "2021-10-19T14:35:45.080Z"
      },
      {
        "duration": 11,
        "start_time": "2021-10-19T14:35:45.103Z"
      },
      {
        "duration": 43,
        "start_time": "2021-10-19T14:35:45.117Z"
      },
      {
        "duration": 13,
        "start_time": "2021-10-19T14:35:45.162Z"
      },
      {
        "duration": 9,
        "start_time": "2021-10-19T14:35:45.178Z"
      },
      {
        "duration": 378,
        "start_time": "2021-10-19T14:35:45.190Z"
      },
      {
        "duration": 12,
        "start_time": "2021-10-19T14:35:45.570Z"
      },
      {
        "duration": 264,
        "start_time": "2021-10-19T14:35:45.584Z"
      },
      {
        "duration": 10,
        "start_time": "2021-10-19T14:35:45.851Z"
      },
      {
        "duration": 10,
        "start_time": "2021-10-19T14:35:45.863Z"
      },
      {
        "duration": 14,
        "start_time": "2021-10-19T14:35:45.876Z"
      },
      {
        "duration": 7,
        "start_time": "2021-10-19T14:35:45.892Z"
      },
      {
        "duration": 580,
        "start_time": "2021-10-19T14:35:45.901Z"
      },
      {
        "duration": 645,
        "start_time": "2021-10-19T14:35:46.483Z"
      },
      {
        "duration": 714,
        "start_time": "2021-10-19T14:35:47.130Z"
      },
      {
        "duration": 532,
        "start_time": "2021-10-19T14:35:47.846Z"
      },
      {
        "duration": 615,
        "start_time": "2021-10-19T14:35:48.381Z"
      },
      {
        "duration": 11,
        "start_time": "2021-10-19T14:35:48.999Z"
      },
      {
        "duration": 198,
        "start_time": "2021-10-19T14:35:49.013Z"
      },
      {
        "duration": 560,
        "start_time": "2021-10-19T14:35:49.213Z"
      },
      {
        "duration": 617,
        "start_time": "2021-10-19T14:35:49.776Z"
      },
      {
        "duration": 6,
        "start_time": "2021-10-19T14:35:50.395Z"
      },
      {
        "duration": 7,
        "start_time": "2021-10-19T14:35:50.404Z"
      },
      {
        "duration": 1005,
        "start_time": "2021-10-19T14:35:50.413Z"
      },
      {
        "duration": 716,
        "start_time": "2021-10-19T14:35:51.420Z"
      },
      {
        "duration": 19,
        "start_time": "2021-10-19T14:35:52.139Z"
      },
      {
        "duration": 5,
        "start_time": "2021-10-19T14:35:52.160Z"
      },
      {
        "duration": 128,
        "start_time": "2021-10-19T14:35:52.169Z"
      },
      {
        "duration": 112,
        "start_time": "2021-10-19T14:35:52.300Z"
      },
      {
        "duration": 13,
        "start_time": "2021-10-19T14:35:52.414Z"
      },
      {
        "duration": 154,
        "start_time": "2021-10-19T14:35:52.429Z"
      },
      {
        "duration": 132,
        "start_time": "2021-10-19T14:35:52.586Z"
      },
      {
        "duration": 58,
        "start_time": "2021-10-19T14:35:52.721Z"
      },
      {
        "duration": 4,
        "start_time": "2021-10-19T14:35:52.781Z"
      },
      {
        "duration": 209,
        "start_time": "2021-10-19T14:35:52.787Z"
      },
      {
        "duration": 8,
        "start_time": "2021-10-19T14:35:52.998Z"
      },
      {
        "duration": 19,
        "start_time": "2021-10-19T14:35:53.009Z"
      },
      {
        "duration": 3,
        "start_time": "2021-10-19T14:35:53.031Z"
      },
      {
        "duration": 36,
        "start_time": "2021-10-19T14:35:53.036Z"
      },
      {
        "duration": 3,
        "start_time": "2021-10-19T14:35:53.075Z"
      },
      {
        "duration": 7,
        "start_time": "2021-10-19T14:35:53.080Z"
      },
      {
        "duration": 13,
        "start_time": "2021-10-19T14:35:53.089Z"
      },
      {
        "duration": 14,
        "start_time": "2021-10-19T14:35:53.105Z"
      },
      {
        "duration": 12,
        "start_time": "2021-10-19T14:35:53.158Z"
      },
      {
        "duration": 20,
        "start_time": "2021-10-19T14:35:53.173Z"
      },
      {
        "duration": 21,
        "start_time": "2021-10-19T14:35:53.201Z"
      },
      {
        "duration": 12,
        "start_time": "2021-10-19T14:35:53.225Z"
      },
      {
        "duration": 27,
        "start_time": "2021-10-19T14:35:53.239Z"
      },
      {
        "duration": 22,
        "start_time": "2021-10-19T14:35:53.268Z"
      },
      {
        "duration": 674,
        "start_time": "2021-10-19T14:35:53.292Z"
      },
      {
        "duration": 722,
        "start_time": "2021-10-19T14:35:53.968Z"
      },
      {
        "duration": 1549,
        "start_time": "2021-10-19T17:17:07.438Z"
      },
      {
        "duration": 1911,
        "start_time": "2021-10-19T17:17:08.990Z"
      },
      {
        "duration": 71,
        "start_time": "2021-10-19T17:17:10.905Z"
      },
      {
        "duration": 4,
        "start_time": "2021-10-19T17:17:10.979Z"
      },
      {
        "duration": 843,
        "start_time": "2021-10-19T17:17:10.986Z"
      },
      {
        "duration": 74,
        "start_time": "2021-10-19T17:17:11.832Z"
      },
      {
        "duration": 7,
        "start_time": "2021-10-19T17:17:11.908Z"
      },
      {
        "duration": 44,
        "start_time": "2021-10-19T17:17:11.920Z"
      },
      {
        "duration": 37,
        "start_time": "2021-10-19T17:17:11.968Z"
      },
      {
        "duration": 25,
        "start_time": "2021-10-19T17:17:12.008Z"
      },
      {
        "duration": 15,
        "start_time": "2021-10-19T17:17:12.036Z"
      },
      {
        "duration": 64,
        "start_time": "2021-10-19T17:17:12.054Z"
      },
      {
        "duration": 941,
        "start_time": "2021-10-19T17:17:12.121Z"
      },
      {
        "duration": 8,
        "start_time": "2021-10-19T17:17:13.065Z"
      },
      {
        "duration": 29,
        "start_time": "2021-10-19T17:17:13.076Z"
      },
      {
        "duration": 49,
        "start_time": "2021-10-19T17:17:13.108Z"
      },
      {
        "duration": 883,
        "start_time": "2021-10-19T17:17:13.160Z"
      },
      {
        "duration": 8,
        "start_time": "2021-10-19T17:17:14.047Z"
      },
      {
        "duration": 17,
        "start_time": "2021-10-19T17:17:14.058Z"
      },
      {
        "duration": 34,
        "start_time": "2021-10-19T17:17:14.077Z"
      },
      {
        "duration": 31,
        "start_time": "2021-10-19T17:17:14.114Z"
      },
      {
        "duration": 20,
        "start_time": "2021-10-19T17:17:14.147Z"
      },
      {
        "duration": 31,
        "start_time": "2021-10-19T17:17:14.173Z"
      },
      {
        "duration": 24,
        "start_time": "2021-10-19T17:17:14.210Z"
      },
      {
        "duration": 33,
        "start_time": "2021-10-19T17:17:14.238Z"
      },
      {
        "duration": 25,
        "start_time": "2021-10-19T17:17:14.273Z"
      },
      {
        "duration": 23,
        "start_time": "2021-10-19T17:17:14.300Z"
      },
      {
        "duration": 357,
        "start_time": "2021-10-19T17:17:14.325Z"
      },
      {
        "duration": 19,
        "start_time": "2021-10-19T17:17:14.685Z"
      },
      {
        "duration": 275,
        "start_time": "2021-10-19T17:17:14.707Z"
      },
      {
        "duration": 32,
        "start_time": "2021-10-19T17:17:14.985Z"
      },
      {
        "duration": 37,
        "start_time": "2021-10-19T17:17:15.019Z"
      },
      {
        "duration": 39,
        "start_time": "2021-10-19T17:17:15.059Z"
      },
      {
        "duration": 23,
        "start_time": "2021-10-19T17:17:15.101Z"
      },
      {
        "duration": 896,
        "start_time": "2021-10-19T17:17:15.127Z"
      },
      {
        "duration": 996,
        "start_time": "2021-10-19T17:17:16.026Z"
      },
      {
        "duration": 985,
        "start_time": "2021-10-19T17:17:17.025Z"
      },
      {
        "duration": 923,
        "start_time": "2021-10-19T17:17:18.014Z"
      },
      {
        "duration": 943,
        "start_time": "2021-10-19T17:17:18.941Z"
      },
      {
        "duration": 21,
        "start_time": "2021-10-19T17:17:19.887Z"
      },
      {
        "duration": 312,
        "start_time": "2021-10-19T17:17:19.911Z"
      },
      {
        "duration": 665,
        "start_time": "2021-10-19T17:17:20.226Z"
      },
      {
        "duration": 651,
        "start_time": "2021-10-19T17:17:20.901Z"
      },
      {
        "duration": 7,
        "start_time": "2021-10-19T17:17:21.555Z"
      },
      {
        "duration": 16,
        "start_time": "2021-10-19T17:17:21.564Z"
      },
      {
        "duration": 1004,
        "start_time": "2021-10-19T17:17:21.582Z"
      },
      {
        "duration": 812,
        "start_time": "2021-10-19T17:17:22.588Z"
      },
      {
        "duration": 5,
        "start_time": "2021-10-19T17:17:23.403Z"
      },
      {
        "duration": 10,
        "start_time": "2021-10-19T17:17:23.411Z"
      },
      {
        "duration": 127,
        "start_time": "2021-10-19T17:17:23.423Z"
      },
      {
        "duration": 115,
        "start_time": "2021-10-19T17:17:23.552Z"
      },
      {
        "duration": 11,
        "start_time": "2021-10-19T17:17:23.670Z"
      },
      {
        "duration": 146,
        "start_time": "2021-10-19T17:17:23.702Z"
      },
      {
        "duration": 155,
        "start_time": "2021-10-19T17:17:23.851Z"
      },
      {
        "duration": 57,
        "start_time": "2021-10-19T17:17:24.009Z"
      },
      {
        "duration": 4,
        "start_time": "2021-10-19T17:17:24.068Z"
      },
      {
        "duration": 212,
        "start_time": "2021-10-19T17:17:24.101Z"
      },
      {
        "duration": 9,
        "start_time": "2021-10-19T17:17:24.315Z"
      },
      {
        "duration": 16,
        "start_time": "2021-10-19T17:17:24.327Z"
      },
      {
        "duration": 4,
        "start_time": "2021-10-19T17:17:24.346Z"
      },
      {
        "duration": 56,
        "start_time": "2021-10-19T17:17:24.353Z"
      },
      {
        "duration": 4,
        "start_time": "2021-10-19T17:17:24.412Z"
      },
      {
        "duration": 5,
        "start_time": "2021-10-19T17:17:24.419Z"
      },
      {
        "duration": 12,
        "start_time": "2021-10-19T17:17:24.427Z"
      },
      {
        "duration": 12,
        "start_time": "2021-10-19T17:17:24.442Z"
      },
      {
        "duration": 51,
        "start_time": "2021-10-19T17:17:24.456Z"
      },
      {
        "duration": 4,
        "start_time": "2021-10-19T17:17:24.509Z"
      },
      {
        "duration": 22,
        "start_time": "2021-10-19T17:17:24.520Z"
      },
      {
        "duration": 4,
        "start_time": "2021-10-19T17:17:24.545Z"
      },
      {
        "duration": 10,
        "start_time": "2021-10-19T17:17:24.551Z"
      },
      {
        "duration": 12,
        "start_time": "2021-10-19T17:17:24.601Z"
      },
      {
        "duration": 961,
        "start_time": "2021-10-19T17:17:24.616Z"
      },
      {
        "duration": 841,
        "start_time": "2021-10-19T17:17:25.580Z"
      },
      {
        "duration": 116,
        "start_time": "2021-10-19T17:18:19.530Z"
      },
      {
        "duration": 957,
        "start_time": "2021-10-19T17:41:45.189Z"
      },
      {
        "duration": 6,
        "start_time": "2021-10-19T17:45:13.137Z"
      },
      {
        "duration": 121,
        "start_time": "2021-10-19T17:47:33.634Z"
      },
      {
        "duration": 120,
        "start_time": "2021-10-19T17:49:04.560Z"
      },
      {
        "duration": 1502,
        "start_time": "2021-10-20T08:26:05.426Z"
      },
      {
        "duration": 1656,
        "start_time": "2021-10-20T08:26:06.931Z"
      },
      {
        "duration": 77,
        "start_time": "2021-10-20T08:26:08.591Z"
      },
      {
        "duration": 5,
        "start_time": "2021-10-20T08:26:08.671Z"
      },
      {
        "duration": 851,
        "start_time": "2021-10-20T08:26:10.047Z"
      },
      {
        "duration": 47,
        "start_time": "2021-10-20T08:26:11.441Z"
      },
      {
        "duration": 9,
        "start_time": "2021-10-20T08:26:11.806Z"
      },
      {
        "duration": 34,
        "start_time": "2021-10-20T08:26:12.523Z"
      },
      {
        "duration": 6,
        "start_time": "2021-10-20T08:26:12.880Z"
      },
      {
        "duration": 12,
        "start_time": "2021-10-20T08:26:15.248Z"
      },
      {
        "duration": 13,
        "start_time": "2021-10-20T08:26:15.425Z"
      },
      {
        "duration": 25,
        "start_time": "2021-10-20T08:26:15.604Z"
      },
      {
        "duration": 629,
        "start_time": "2021-10-20T08:26:15.998Z"
      },
      {
        "duration": 6,
        "start_time": "2021-10-20T08:26:16.630Z"
      },
      {
        "duration": 8,
        "start_time": "2021-10-20T08:26:18.267Z"
      },
      {
        "duration": 25,
        "start_time": "2021-10-20T08:26:18.708Z"
      },
      {
        "duration": 581,
        "start_time": "2021-10-20T08:26:20.084Z"
      },
      {
        "duration": 6,
        "start_time": "2021-10-20T08:26:20.688Z"
      },
      {
        "duration": 3,
        "start_time": "2021-10-20T08:26:21.687Z"
      },
      {
        "duration": 16,
        "start_time": "2021-10-20T08:26:22.138Z"
      },
      {
        "duration": 11,
        "start_time": "2021-10-20T08:26:25.700Z"
      },
      {
        "duration": 11,
        "start_time": "2021-10-20T08:26:26.019Z"
      },
      {
        "duration": 19,
        "start_time": "2021-10-20T08:26:26.707Z"
      },
      {
        "duration": 14,
        "start_time": "2021-10-20T08:26:28.364Z"
      },
      {
        "duration": 6,
        "start_time": "2021-10-20T08:26:29.104Z"
      },
      {
        "duration": 12,
        "start_time": "2021-10-20T08:26:29.521Z"
      },
      {
        "duration": 12,
        "start_time": "2021-10-20T08:26:32.284Z"
      },
      {
        "duration": 362,
        "start_time": "2021-10-20T08:26:33.124Z"
      },
      {
        "duration": 12,
        "start_time": "2021-10-20T08:26:33.798Z"
      },
      {
        "duration": 440,
        "start_time": "2021-10-20T08:26:34.759Z"
      },
      {
        "duration": 16,
        "start_time": "2021-10-20T08:26:35.207Z"
      },
      {
        "duration": 10,
        "start_time": "2021-10-20T08:26:36.159Z"
      },
      {
        "duration": 12,
        "start_time": "2021-10-20T08:26:36.551Z"
      },
      {
        "duration": 5,
        "start_time": "2021-10-20T08:26:37.165Z"
      },
      {
        "duration": 1031,
        "start_time": "2021-10-20T08:26:38.394Z"
      },
      {
        "duration": 908,
        "start_time": "2021-10-20T08:26:56.700Z"
      },
      {
        "duration": 874,
        "start_time": "2021-10-20T08:27:54.192Z"
      },
      {
        "duration": 829,
        "start_time": "2021-10-20T08:28:16.348Z"
      },
      {
        "duration": 904,
        "start_time": "2021-10-20T08:28:31.535Z"
      },
      {
        "duration": 856,
        "start_time": "2021-10-20T08:28:43.313Z"
      },
      {
        "duration": 581,
        "start_time": "2021-10-20T08:29:36.666Z"
      },
      {
        "duration": 644,
        "start_time": "2021-10-20T08:29:59.331Z"
      },
      {
        "duration": 551,
        "start_time": "2021-10-20T08:30:25.597Z"
      },
      {
        "duration": 580,
        "start_time": "2021-10-20T08:30:47.985Z"
      },
      {
        "duration": 737,
        "start_time": "2021-10-20T08:31:25.627Z"
      },
      {
        "duration": 671,
        "start_time": "2021-10-20T08:31:44.607Z"
      },
      {
        "duration": 654,
        "start_time": "2021-10-20T08:32:22.093Z"
      },
      {
        "duration": 696,
        "start_time": "2021-10-20T08:32:40.961Z"
      },
      {
        "duration": 535,
        "start_time": "2021-10-20T08:32:57.153Z"
      },
      {
        "duration": 557,
        "start_time": "2021-10-20T08:33:29.628Z"
      },
      {
        "duration": 669,
        "start_time": "2021-10-20T08:38:44.318Z"
      },
      {
        "duration": 677,
        "start_time": "2021-10-20T08:39:14.470Z"
      },
      {
        "duration": 14,
        "start_time": "2021-10-20T08:43:53.238Z"
      },
      {
        "duration": 202,
        "start_time": "2021-10-20T08:43:53.448Z"
      },
      {
        "duration": 549,
        "start_time": "2021-10-20T08:43:54.367Z"
      },
      {
        "duration": 621,
        "start_time": "2021-10-20T08:43:55.095Z"
      },
      {
        "duration": 1448,
        "start_time": "2021-10-20T08:44:52.636Z"
      },
      {
        "duration": 1461,
        "start_time": "2021-10-20T08:45:03.234Z"
      },
      {
        "duration": 1223,
        "start_time": "2021-10-20T08:45:13.956Z"
      },
      {
        "duration": 1573,
        "start_time": "2021-10-20T08:45:23.758Z"
      },
      {
        "duration": 6,
        "start_time": "2021-10-20T08:48:19.366Z"
      },
      {
        "duration": 5,
        "start_time": "2021-10-20T08:48:19.675Z"
      },
      {
        "duration": 6,
        "start_time": "2021-10-20T08:48:32.872Z"
      },
      {
        "duration": 5,
        "start_time": "2021-10-20T08:48:33.172Z"
      },
      {
        "duration": 1568,
        "start_time": "2021-10-20T08:49:08.827Z"
      },
      {
        "duration": 1576,
        "start_time": "2021-10-20T08:49:46.055Z"
      },
      {
        "duration": 1607,
        "start_time": "2021-10-20T08:50:06.757Z"
      },
      {
        "duration": 1093,
        "start_time": "2021-10-20T08:50:19.971Z"
      },
      {
        "duration": 721,
        "start_time": "2021-10-20T08:50:23.707Z"
      },
      {
        "duration": 1685,
        "start_time": "2021-10-20T08:53:47.769Z"
      },
      {
        "duration": 5,
        "start_time": "2021-10-20T08:54:00.356Z"
      },
      {
        "duration": 4,
        "start_time": "2021-10-20T08:54:00.638Z"
      },
      {
        "duration": 99,
        "start_time": "2021-10-20T08:54:10.618Z"
      },
      {
        "duration": 103,
        "start_time": "2021-10-20T08:54:10.920Z"
      },
      {
        "duration": 11,
        "start_time": "2021-10-20T08:54:11.442Z"
      },
      {
        "duration": 126,
        "start_time": "2021-10-20T08:54:11.800Z"
      },
      {
        "duration": 135,
        "start_time": "2021-10-20T08:54:12.357Z"
      },
      {
        "duration": 58,
        "start_time": "2021-10-20T08:54:13.111Z"
      },
      {
        "duration": 4,
        "start_time": "2021-10-20T08:54:17.916Z"
      },
      {
        "duration": 209,
        "start_time": "2021-10-20T08:54:19.407Z"
      },
      {
        "duration": 9,
        "start_time": "2021-10-20T08:54:22.341Z"
      },
      {
        "duration": 283,
        "start_time": "2021-10-20T08:54:42.192Z"
      },
      {
        "duration": 10,
        "start_time": "2021-10-20T08:54:49.468Z"
      },
      {
        "duration": 1062,
        "start_time": "2021-10-20T08:55:30.131Z"
      },
      {
        "duration": 702,
        "start_time": "2021-10-20T08:55:58.878Z"
      },
      {
        "duration": 1671,
        "start_time": "2021-10-20T08:56:36.293Z"
      },
      {
        "duration": 5,
        "start_time": "2021-10-20T08:57:36.591Z"
      },
      {
        "duration": 4,
        "start_time": "2021-10-20T08:57:38.901Z"
      },
      {
        "duration": 16,
        "start_time": "2021-10-20T08:58:00.235Z"
      },
      {
        "duration": 4,
        "start_time": "2021-10-20T08:58:06.072Z"
      },
      {
        "duration": 16,
        "start_time": "2021-10-20T08:58:22.230Z"
      },
      {
        "duration": 15,
        "start_time": "2021-10-20T08:58:27.917Z"
      },
      {
        "duration": 308,
        "start_time": "2021-10-20T08:59:09.476Z"
      },
      {
        "duration": 7,
        "start_time": "2021-10-20T08:59:33.233Z"
      },
      {
        "duration": 5,
        "start_time": "2021-10-20T08:59:34.726Z"
      },
      {
        "duration": 7,
        "start_time": "2021-10-20T08:59:39.473Z"
      },
      {
        "duration": 5,
        "start_time": "2021-10-20T08:59:39.723Z"
      },
      {
        "duration": 5,
        "start_time": "2021-10-20T08:59:50.462Z"
      },
      {
        "duration": 15,
        "start_time": "2021-10-20T08:59:57.702Z"
      },
      {
        "duration": 13,
        "start_time": "2021-10-20T09:00:01.134Z"
      },
      {
        "duration": 11,
        "start_time": "2021-10-20T09:00:16.836Z"
      },
      {
        "duration": 3,
        "start_time": "2021-10-20T09:00:21.867Z"
      },
      {
        "duration": 25,
        "start_time": "2021-10-20T09:00:52.436Z"
      },
      {
        "duration": 4,
        "start_time": "2021-10-20T09:01:20.428Z"
      },
      {
        "duration": 323,
        "start_time": "2021-10-20T09:01:22.661Z"
      },
      {
        "duration": 1519,
        "start_time": "2021-10-20T09:02:03.015Z"
      },
      {
        "duration": 1705,
        "start_time": "2021-10-20T09:02:04.537Z"
      },
      {
        "duration": 84,
        "start_time": "2021-10-20T09:02:06.246Z"
      },
      {
        "duration": 5,
        "start_time": "2021-10-20T09:02:06.334Z"
      },
      {
        "duration": 754,
        "start_time": "2021-10-20T09:02:06.342Z"
      },
      {
        "duration": 77,
        "start_time": "2021-10-20T09:02:07.099Z"
      },
      {
        "duration": 9,
        "start_time": "2021-10-20T09:02:07.179Z"
      },
      {
        "duration": 70,
        "start_time": "2021-10-20T09:02:07.192Z"
      },
      {
        "duration": 6,
        "start_time": "2021-10-20T09:02:07.265Z"
      },
      {
        "duration": 18,
        "start_time": "2021-10-20T09:02:07.273Z"
      },
      {
        "duration": 14,
        "start_time": "2021-10-20T09:02:07.294Z"
      },
      {
        "duration": 55,
        "start_time": "2021-10-20T09:02:07.310Z"
      },
      {
        "duration": 644,
        "start_time": "2021-10-20T09:02:07.368Z"
      },
      {
        "duration": 7,
        "start_time": "2021-10-20T09:02:08.015Z"
      },
      {
        "duration": 13,
        "start_time": "2021-10-20T09:02:08.025Z"
      },
      {
        "duration": 27,
        "start_time": "2021-10-20T09:02:08.063Z"
      },
      {
        "duration": 635,
        "start_time": "2021-10-20T09:02:08.093Z"
      },
      {
        "duration": 6,
        "start_time": "2021-10-20T09:02:08.730Z"
      },
      {
        "duration": 23,
        "start_time": "2021-10-20T09:02:08.739Z"
      },
      {
        "duration": 18,
        "start_time": "2021-10-20T09:02:08.765Z"
      },
      {
        "duration": 12,
        "start_time": "2021-10-20T09:02:08.786Z"
      },
      {
        "duration": 30,
        "start_time": "2021-10-20T09:02:08.800Z"
      },
      {
        "duration": 43,
        "start_time": "2021-10-20T09:02:08.837Z"
      },
      {
        "duration": 12,
        "start_time": "2021-10-20T09:02:08.887Z"
      },
      {
        "duration": 7,
        "start_time": "2021-10-20T09:02:08.902Z"
      },
      {
        "duration": 51,
        "start_time": "2021-10-20T09:02:08.911Z"
      },
      {
        "duration": 8,
        "start_time": "2021-10-20T09:02:08.965Z"
      },
      {
        "duration": 364,
        "start_time": "2021-10-20T09:02:08.976Z"
      },
      {
        "duration": 21,
        "start_time": "2021-10-20T09:02:09.342Z"
      },
      {
        "duration": 285,
        "start_time": "2021-10-20T09:02:09.365Z"
      },
      {
        "duration": 10,
        "start_time": "2021-10-20T09:02:09.661Z"
      },
      {
        "duration": 10,
        "start_time": "2021-10-20T09:02:09.674Z"
      },
      {
        "duration": 17,
        "start_time": "2021-10-20T09:02:09.686Z"
      },
      {
        "duration": 5,
        "start_time": "2021-10-20T09:02:09.706Z"
      },
      {
        "duration": 632,
        "start_time": "2021-10-20T09:02:09.714Z"
      },
      {
        "duration": 678,
        "start_time": "2021-10-20T09:02:10.348Z"
      },
      {
        "duration": 739,
        "start_time": "2021-10-20T09:02:11.028Z"
      },
      {
        "duration": 577,
        "start_time": "2021-10-20T09:02:11.769Z"
      },
      {
        "duration": 1102,
        "start_time": "2021-10-20T09:02:12.348Z"
      },
      {
        "duration": 203,
        "start_time": "2021-10-20T09:02:13.250Z"
      },
      {
        "duration": 199,
        "start_time": "2021-10-20T09:02:13.255Z"
      },
      {
        "duration": 195,
        "start_time": "2021-10-20T09:02:13.260Z"
      },
      {
        "duration": 192,
        "start_time": "2021-10-20T09:02:13.264Z"
      },
      {
        "duration": 192,
        "start_time": "2021-10-20T09:02:13.270Z"
      },
      {
        "duration": 191,
        "start_time": "2021-10-20T09:02:13.274Z"
      },
      {
        "duration": 189,
        "start_time": "2021-10-20T09:02:13.278Z"
      },
      {
        "duration": 186,
        "start_time": "2021-10-20T09:02:13.282Z"
      },
      {
        "duration": 183,
        "start_time": "2021-10-20T09:02:13.286Z"
      },
      {
        "duration": 180,
        "start_time": "2021-10-20T09:02:13.290Z"
      },
      {
        "duration": 178,
        "start_time": "2021-10-20T09:02:13.294Z"
      },
      {
        "duration": 175,
        "start_time": "2021-10-20T09:02:13.298Z"
      },
      {
        "duration": 173,
        "start_time": "2021-10-20T09:02:13.302Z"
      },
      {
        "duration": 167,
        "start_time": "2021-10-20T09:02:13.309Z"
      },
      {
        "duration": 163,
        "start_time": "2021-10-20T09:02:13.314Z"
      },
      {
        "duration": 162,
        "start_time": "2021-10-20T09:02:13.317Z"
      },
      {
        "duration": 151,
        "start_time": "2021-10-20T09:02:13.329Z"
      },
      {
        "duration": 148,
        "start_time": "2021-10-20T09:02:13.333Z"
      },
      {
        "duration": 144,
        "start_time": "2021-10-20T09:02:13.339Z"
      },
      {
        "duration": 140,
        "start_time": "2021-10-20T09:02:13.344Z"
      },
      {
        "duration": 136,
        "start_time": "2021-10-20T09:02:13.349Z"
      },
      {
        "duration": 133,
        "start_time": "2021-10-20T09:02:13.354Z"
      },
      {
        "duration": 124,
        "start_time": "2021-10-20T09:02:13.364Z"
      },
      {
        "duration": 120,
        "start_time": "2021-10-20T09:02:13.369Z"
      },
      {
        "duration": 115,
        "start_time": "2021-10-20T09:02:13.375Z"
      },
      {
        "duration": 112,
        "start_time": "2021-10-20T09:02:13.380Z"
      },
      {
        "duration": 107,
        "start_time": "2021-10-20T09:02:13.386Z"
      },
      {
        "duration": 102,
        "start_time": "2021-10-20T09:02:13.392Z"
      },
      {
        "duration": 97,
        "start_time": "2021-10-20T09:02:13.399Z"
      },
      {
        "duration": 93,
        "start_time": "2021-10-20T09:02:13.404Z"
      },
      {
        "duration": 89,
        "start_time": "2021-10-20T09:02:13.410Z"
      },
      {
        "duration": 81,
        "start_time": "2021-10-20T09:02:13.419Z"
      },
      {
        "duration": 138,
        "start_time": "2021-10-20T09:02:13.424Z"
      },
      {
        "duration": 135,
        "start_time": "2021-10-20T09:02:13.429Z"
      },
      {
        "duration": 1500,
        "start_time": "2021-10-20T09:05:44.136Z"
      },
      {
        "duration": 2074,
        "start_time": "2021-10-20T09:05:45.638Z"
      },
      {
        "duration": 67,
        "start_time": "2021-10-20T09:05:47.715Z"
      },
      {
        "duration": 4,
        "start_time": "2021-10-20T09:05:47.785Z"
      },
      {
        "duration": 1198,
        "start_time": "2021-10-20T09:05:47.792Z"
      },
      {
        "duration": 80,
        "start_time": "2021-10-20T09:05:48.993Z"
      },
      {
        "duration": 7,
        "start_time": "2021-10-20T09:05:49.076Z"
      },
      {
        "duration": 34,
        "start_time": "2021-10-20T09:05:49.087Z"
      },
      {
        "duration": 6,
        "start_time": "2021-10-20T09:05:49.162Z"
      },
      {
        "duration": 32,
        "start_time": "2021-10-20T09:05:49.171Z"
      },
      {
        "duration": 14,
        "start_time": "2021-10-20T09:05:49.206Z"
      },
      {
        "duration": 45,
        "start_time": "2021-10-20T09:05:49.223Z"
      },
      {
        "duration": 645,
        "start_time": "2021-10-20T09:05:49.270Z"
      },
      {
        "duration": 6,
        "start_time": "2021-10-20T09:05:49.917Z"
      },
      {
        "duration": 10,
        "start_time": "2021-10-20T09:05:49.925Z"
      },
      {
        "duration": 39,
        "start_time": "2021-10-20T09:05:49.937Z"
      },
      {
        "duration": 650,
        "start_time": "2021-10-20T09:05:49.979Z"
      },
      {
        "duration": 5,
        "start_time": "2021-10-20T09:05:50.632Z"
      },
      {
        "duration": 22,
        "start_time": "2021-10-20T09:05:50.639Z"
      },
      {
        "duration": 16,
        "start_time": "2021-10-20T09:05:50.664Z"
      },
      {
        "duration": 17,
        "start_time": "2021-10-20T09:05:50.683Z"
      },
      {
        "duration": 11,
        "start_time": "2021-10-20T09:05:50.703Z"
      },
      {
        "duration": 52,
        "start_time": "2021-10-20T09:05:50.720Z"
      },
      {
        "duration": 26,
        "start_time": "2021-10-20T09:05:50.778Z"
      },
      {
        "duration": 6,
        "start_time": "2021-10-20T09:05:50.807Z"
      },
      {
        "duration": 20,
        "start_time": "2021-10-20T09:05:50.815Z"
      },
      {
        "duration": 11,
        "start_time": "2021-10-20T09:05:50.862Z"
      },
      {
        "duration": 434,
        "start_time": "2021-10-20T09:05:50.877Z"
      },
      {
        "duration": 13,
        "start_time": "2021-10-20T09:05:51.314Z"
      },
      {
        "duration": 372,
        "start_time": "2021-10-20T09:05:51.330Z"
      },
      {
        "duration": 11,
        "start_time": "2021-10-20T09:05:51.705Z"
      },
      {
        "duration": 12,
        "start_time": "2021-10-20T09:05:51.719Z"
      },
      {
        "duration": 41,
        "start_time": "2021-10-20T09:05:51.734Z"
      },
      {
        "duration": 5,
        "start_time": "2021-10-20T09:05:51.778Z"
      },
      {
        "duration": 720,
        "start_time": "2021-10-20T09:05:51.785Z"
      },
      {
        "duration": 947,
        "start_time": "2021-10-20T09:05:52.507Z"
      },
      {
        "duration": 754,
        "start_time": "2021-10-20T09:05:53.461Z"
      },
      {
        "duration": 561,
        "start_time": "2021-10-20T09:05:54.218Z"
      },
      {
        "duration": 1105,
        "start_time": "2021-10-20T09:05:54.781Z"
      },
      {
        "duration": 200,
        "start_time": "2021-10-20T09:05:55.690Z"
      },
      {
        "duration": 197,
        "start_time": "2021-10-20T09:05:55.695Z"
      },
      {
        "duration": 194,
        "start_time": "2021-10-20T09:05:55.700Z"
      },
      {
        "duration": 192,
        "start_time": "2021-10-20T09:05:55.704Z"
      },
      {
        "duration": 191,
        "start_time": "2021-10-20T09:05:55.707Z"
      },
      {
        "duration": 187,
        "start_time": "2021-10-20T09:05:55.713Z"
      },
      {
        "duration": 184,
        "start_time": "2021-10-20T09:05:55.718Z"
      },
      {
        "duration": 181,
        "start_time": "2021-10-20T09:05:55.723Z"
      },
      {
        "duration": 179,
        "start_time": "2021-10-20T09:05:55.727Z"
      },
      {
        "duration": 175,
        "start_time": "2021-10-20T09:05:55.733Z"
      },
      {
        "duration": 167,
        "start_time": "2021-10-20T09:05:55.744Z"
      },
      {
        "duration": 164,
        "start_time": "2021-10-20T09:05:55.749Z"
      },
      {
        "duration": 162,
        "start_time": "2021-10-20T09:05:55.753Z"
      },
      {
        "duration": 203,
        "start_time": "2021-10-20T09:05:55.757Z"
      },
      {
        "duration": 201,
        "start_time": "2021-10-20T09:05:55.762Z"
      },
      {
        "duration": 200,
        "start_time": "2021-10-20T09:05:55.766Z"
      },
      {
        "duration": 192,
        "start_time": "2021-10-20T09:05:55.776Z"
      },
      {
        "duration": 190,
        "start_time": "2021-10-20T09:05:55.781Z"
      },
      {
        "duration": 188,
        "start_time": "2021-10-20T09:05:55.785Z"
      },
      {
        "duration": 186,
        "start_time": "2021-10-20T09:05:55.790Z"
      },
      {
        "duration": 184,
        "start_time": "2021-10-20T09:05:55.794Z"
      },
      {
        "duration": 182,
        "start_time": "2021-10-20T09:05:55.799Z"
      },
      {
        "duration": 92,
        "start_time": "2021-10-20T09:05:55.891Z"
      },
      {
        "duration": -29,
        "start_time": "2021-10-20T09:05:56.014Z"
      },
      {
        "duration": -31,
        "start_time": "2021-10-20T09:05:56.019Z"
      },
      {
        "duration": -34,
        "start_time": "2021-10-20T09:05:56.024Z"
      },
      {
        "duration": -36,
        "start_time": "2021-10-20T09:05:56.028Z"
      },
      {
        "duration": -38,
        "start_time": "2021-10-20T09:05:56.033Z"
      },
      {
        "duration": -39,
        "start_time": "2021-10-20T09:05:56.036Z"
      },
      {
        "duration": -40,
        "start_time": "2021-10-20T09:05:56.040Z"
      },
      {
        "duration": -42,
        "start_time": "2021-10-20T09:05:56.044Z"
      },
      {
        "duration": 16,
        "start_time": "2021-10-20T09:05:56.047Z"
      },
      {
        "duration": 14,
        "start_time": "2021-10-20T09:05:56.051Z"
      },
      {
        "duration": 13,
        "start_time": "2021-10-20T09:05:56.054Z"
      },
      {
        "duration": 10,
        "start_time": "2021-10-20T09:09:59.399Z"
      },
      {
        "duration": 25,
        "start_time": "2021-10-20T09:10:00.295Z"
      },
      {
        "duration": 10,
        "start_time": "2021-10-20T09:10:09.908Z"
      },
      {
        "duration": 22,
        "start_time": "2021-10-20T09:10:10.242Z"
      },
      {
        "duration": 282,
        "start_time": "2021-10-20T09:10:28.156Z"
      },
      {
        "duration": 26,
        "start_time": "2021-10-20T09:10:35.537Z"
      },
      {
        "duration": 25,
        "start_time": "2021-10-20T09:10:38.739Z"
      },
      {
        "duration": 4,
        "start_time": "2021-10-20T09:11:55.946Z"
      },
      {
        "duration": 39,
        "start_time": "2021-10-20T09:11:56.268Z"
      },
      {
        "duration": 4,
        "start_time": "2021-10-20T09:12:01.542Z"
      },
      {
        "duration": 24,
        "start_time": "2021-10-20T09:12:02.137Z"
      },
      {
        "duration": 1594,
        "start_time": "2021-10-20T09:12:19.075Z"
      },
      {
        "duration": 1748,
        "start_time": "2021-10-20T09:12:20.671Z"
      },
      {
        "duration": 59,
        "start_time": "2021-10-20T09:12:22.422Z"
      },
      {
        "duration": 4,
        "start_time": "2021-10-20T09:12:22.484Z"
      },
      {
        "duration": 763,
        "start_time": "2021-10-20T09:12:22.491Z"
      },
      {
        "duration": 47,
        "start_time": "2021-10-20T09:12:23.263Z"
      },
      {
        "duration": 7,
        "start_time": "2021-10-20T09:12:23.313Z"
      },
      {
        "duration": 71,
        "start_time": "2021-10-20T09:12:23.324Z"
      },
      {
        "duration": 6,
        "start_time": "2021-10-20T09:12:23.398Z"
      },
      {
        "duration": 21,
        "start_time": "2021-10-20T09:12:23.407Z"
      },
      {
        "duration": 14,
        "start_time": "2021-10-20T09:12:23.462Z"
      },
      {
        "duration": 26,
        "start_time": "2021-10-20T09:12:23.478Z"
      },
      {
        "duration": 1010,
        "start_time": "2021-10-20T09:12:23.506Z"
      },
      {
        "duration": 6,
        "start_time": "2021-10-20T09:12:24.518Z"
      },
      {
        "duration": 6,
        "start_time": "2021-10-20T09:12:24.562Z"
      },
      {
        "duration": 28,
        "start_time": "2021-10-20T09:12:24.571Z"
      },
      {
        "duration": 602,
        "start_time": "2021-10-20T09:12:24.602Z"
      },
      {
        "duration": 7,
        "start_time": "2021-10-20T09:12:25.206Z"
      },
      {
        "duration": 9,
        "start_time": "2021-10-20T09:12:25.216Z"
      },
      {
        "duration": 42,
        "start_time": "2021-10-20T09:12:25.228Z"
      },
      {
        "duration": 13,
        "start_time": "2021-10-20T09:12:25.273Z"
      },
      {
        "duration": 13,
        "start_time": "2021-10-20T09:12:25.288Z"
      },
      {
        "duration": 23,
        "start_time": "2021-10-20T09:12:25.307Z"
      },
      {
        "duration": 13,
        "start_time": "2021-10-20T09:12:25.363Z"
      },
      {
        "duration": 13,
        "start_time": "2021-10-20T09:12:25.378Z"
      },
      {
        "duration": 17,
        "start_time": "2021-10-20T09:12:25.393Z"
      },
      {
        "duration": 10,
        "start_time": "2021-10-20T09:12:25.413Z"
      },
      {
        "duration": 397,
        "start_time": "2021-10-20T09:12:25.426Z"
      },
      {
        "duration": 11,
        "start_time": "2021-10-20T09:12:25.826Z"
      },
      {
        "duration": 284,
        "start_time": "2021-10-20T09:12:25.840Z"
      },
      {
        "duration": 30,
        "start_time": "2021-10-20T09:12:26.126Z"
      },
      {
        "duration": 10,
        "start_time": "2021-10-20T09:12:26.159Z"
      },
      {
        "duration": 16,
        "start_time": "2021-10-20T09:12:26.171Z"
      },
      {
        "duration": 4,
        "start_time": "2021-10-20T09:12:26.189Z"
      },
      {
        "duration": 610,
        "start_time": "2021-10-20T09:12:26.196Z"
      },
      {
        "duration": 665,
        "start_time": "2021-10-20T09:12:26.808Z"
      },
      {
        "duration": 808,
        "start_time": "2021-10-20T09:12:27.475Z"
      },
      {
        "duration": 589,
        "start_time": "2021-10-20T09:12:28.285Z"
      },
      {
        "duration": 1086,
        "start_time": "2021-10-20T09:12:28.876Z"
      },
      {
        "duration": 190,
        "start_time": "2021-10-20T09:12:29.775Z"
      },
      {
        "duration": 187,
        "start_time": "2021-10-20T09:12:29.779Z"
      },
      {
        "duration": 185,
        "start_time": "2021-10-20T09:12:29.783Z"
      },
      {
        "duration": 183,
        "start_time": "2021-10-20T09:12:29.786Z"
      },
      {
        "duration": 180,
        "start_time": "2021-10-20T09:12:29.791Z"
      },
      {
        "duration": 177,
        "start_time": "2021-10-20T09:12:29.795Z"
      },
      {
        "duration": 175,
        "start_time": "2021-10-20T09:12:29.799Z"
      },
      {
        "duration": 173,
        "start_time": "2021-10-20T09:12:29.802Z"
      },
      {
        "duration": 170,
        "start_time": "2021-10-20T09:12:29.806Z"
      },
      {
        "duration": 168,
        "start_time": "2021-10-20T09:12:29.810Z"
      },
      {
        "duration": 166,
        "start_time": "2021-10-20T09:12:29.813Z"
      },
      {
        "duration": 164,
        "start_time": "2021-10-20T09:12:29.817Z"
      },
      {
        "duration": 161,
        "start_time": "2021-10-20T09:12:29.821Z"
      },
      {
        "duration": 159,
        "start_time": "2021-10-20T09:12:29.825Z"
      },
      {
        "duration": 155,
        "start_time": "2021-10-20T09:12:29.830Z"
      },
      {
        "duration": 153,
        "start_time": "2021-10-20T09:12:29.834Z"
      },
      {
        "duration": 150,
        "start_time": "2021-10-20T09:12:29.838Z"
      },
      {
        "duration": 142,
        "start_time": "2021-10-20T09:12:29.849Z"
      },
      {
        "duration": 139,
        "start_time": "2021-10-20T09:12:29.853Z"
      },
      {
        "duration": 136,
        "start_time": "2021-10-20T09:12:29.858Z"
      },
      {
        "duration": 133,
        "start_time": "2021-10-20T09:12:29.862Z"
      },
      {
        "duration": 130,
        "start_time": "2021-10-20T09:12:29.866Z"
      },
      {
        "duration": 127,
        "start_time": "2021-10-20T09:12:29.870Z"
      },
      {
        "duration": 125,
        "start_time": "2021-10-20T09:12:29.874Z"
      },
      {
        "duration": 122,
        "start_time": "2021-10-20T09:12:29.878Z"
      },
      {
        "duration": 119,
        "start_time": "2021-10-20T09:12:29.882Z"
      },
      {
        "duration": 116,
        "start_time": "2021-10-20T09:12:29.886Z"
      },
      {
        "duration": 113,
        "start_time": "2021-10-20T09:12:29.890Z"
      },
      {
        "duration": 167,
        "start_time": "2021-10-20T09:12:29.894Z"
      },
      {
        "duration": 166,
        "start_time": "2021-10-20T09:12:29.897Z"
      },
      {
        "duration": 164,
        "start_time": "2021-10-20T09:12:29.901Z"
      },
      {
        "duration": 161,
        "start_time": "2021-10-20T09:12:29.905Z"
      },
      {
        "duration": 160,
        "start_time": "2021-10-20T09:12:29.908Z"
      },
      {
        "duration": 158,
        "start_time": "2021-10-20T09:12:29.912Z"
      },
      {
        "duration": 26,
        "start_time": "2021-10-20T09:12:45.696Z"
      },
      {
        "duration": 1556,
        "start_time": "2021-10-20T09:13:00.081Z"
      },
      {
        "duration": 1729,
        "start_time": "2021-10-20T09:13:01.639Z"
      },
      {
        "duration": 60,
        "start_time": "2021-10-20T09:13:03.371Z"
      },
      {
        "duration": 5,
        "start_time": "2021-10-20T09:13:03.433Z"
      },
      {
        "duration": 927,
        "start_time": "2021-10-20T09:13:03.440Z"
      },
      {
        "duration": 95,
        "start_time": "2021-10-20T09:13:04.370Z"
      },
      {
        "duration": 7,
        "start_time": "2021-10-20T09:13:04.467Z"
      },
      {
        "duration": 96,
        "start_time": "2021-10-20T09:13:04.478Z"
      },
      {
        "duration": 7,
        "start_time": "2021-10-20T09:13:04.577Z"
      },
      {
        "duration": 18,
        "start_time": "2021-10-20T09:13:04.586Z"
      },
      {
        "duration": 59,
        "start_time": "2021-10-20T09:13:04.606Z"
      },
      {
        "duration": 33,
        "start_time": "2021-10-20T09:13:04.668Z"
      },
      {
        "duration": 752,
        "start_time": "2021-10-20T09:13:04.703Z"
      },
      {
        "duration": 5,
        "start_time": "2021-10-20T09:13:05.463Z"
      },
      {
        "duration": 9,
        "start_time": "2021-10-20T09:13:05.471Z"
      },
      {
        "duration": 26,
        "start_time": "2021-10-20T09:13:05.483Z"
      },
      {
        "duration": 639,
        "start_time": "2021-10-20T09:13:05.512Z"
      },
      {
        "duration": 10,
        "start_time": "2021-10-20T09:13:06.154Z"
      },
      {
        "duration": 14,
        "start_time": "2021-10-20T09:13:06.166Z"
      },
      {
        "duration": 22,
        "start_time": "2021-10-20T09:13:06.183Z"
      },
      {
        "duration": 17,
        "start_time": "2021-10-20T09:13:06.209Z"
      },
      {
        "duration": 38,
        "start_time": "2021-10-20T09:13:06.230Z"
      },
      {
        "duration": 32,
        "start_time": "2021-10-20T09:13:06.279Z"
      },
      {
        "duration": 13,
        "start_time": "2021-10-20T09:13:06.316Z"
      },
      {
        "duration": 38,
        "start_time": "2021-10-20T09:13:06.331Z"
      },
      {
        "duration": 18,
        "start_time": "2021-10-20T09:13:06.372Z"
      },
      {
        "duration": 9,
        "start_time": "2021-10-20T09:13:06.393Z"
      },
      {
        "duration": 375,
        "start_time": "2021-10-20T09:13:06.405Z"
      },
      {
        "duration": 12,
        "start_time": "2021-10-20T09:13:06.782Z"
      },
      {
        "duration": 299,
        "start_time": "2021-10-20T09:13:06.797Z"
      },
      {
        "duration": 13,
        "start_time": "2021-10-20T09:13:07.099Z"
      },
      {
        "duration": 10,
        "start_time": "2021-10-20T09:13:07.115Z"
      },
      {
        "duration": 40,
        "start_time": "2021-10-20T09:13:07.128Z"
      },
      {
        "duration": 17,
        "start_time": "2021-10-20T09:13:07.171Z"
      },
      {
        "duration": 643,
        "start_time": "2021-10-20T09:13:07.190Z"
      },
      {
        "duration": 679,
        "start_time": "2021-10-20T09:13:07.836Z"
      },
      {
        "duration": 1049,
        "start_time": "2021-10-20T09:13:08.517Z"
      },
      {
        "duration": 659,
        "start_time": "2021-10-20T09:13:09.569Z"
      },
      {
        "duration": 1322,
        "start_time": "2021-10-20T09:13:10.230Z"
      },
      {
        "duration": 208,
        "start_time": "2021-10-20T09:13:11.354Z"
      },
      {
        "duration": 199,
        "start_time": "2021-10-20T09:13:11.365Z"
      },
      {
        "duration": 196,
        "start_time": "2021-10-20T09:13:11.370Z"
      },
      {
        "duration": 195,
        "start_time": "2021-10-20T09:13:11.373Z"
      },
      {
        "duration": 192,
        "start_time": "2021-10-20T09:13:11.377Z"
      },
      {
        "duration": 189,
        "start_time": "2021-10-20T09:13:11.382Z"
      },
      {
        "duration": 188,
        "start_time": "2021-10-20T09:13:11.385Z"
      },
      {
        "duration": 186,
        "start_time": "2021-10-20T09:13:11.389Z"
      },
      {
        "duration": 185,
        "start_time": "2021-10-20T09:13:11.392Z"
      },
      {
        "duration": 182,
        "start_time": "2021-10-20T09:13:11.396Z"
      },
      {
        "duration": 178,
        "start_time": "2021-10-20T09:13:11.402Z"
      },
      {
        "duration": 175,
        "start_time": "2021-10-20T09:13:11.407Z"
      },
      {
        "duration": 171,
        "start_time": "2021-10-20T09:13:11.413Z"
      },
      {
        "duration": 159,
        "start_time": "2021-10-20T09:13:11.428Z"
      },
      {
        "duration": 146,
        "start_time": "2021-10-20T09:13:11.442Z"
      },
      {
        "duration": 141,
        "start_time": "2021-10-20T09:13:11.449Z"
      },
      {
        "duration": 130,
        "start_time": "2021-10-20T09:13:11.462Z"
      },
      {
        "duration": 117,
        "start_time": "2021-10-20T09:13:11.477Z"
      },
      {
        "duration": 113,
        "start_time": "2021-10-20T09:13:11.483Z"
      },
      {
        "duration": 103,
        "start_time": "2021-10-20T09:13:11.494Z"
      },
      {
        "duration": 90,
        "start_time": "2021-10-20T09:13:11.509Z"
      },
      {
        "duration": 81,
        "start_time": "2021-10-20T09:13:11.520Z"
      },
      {
        "duration": 52,
        "start_time": "2021-10-20T09:13:11.551Z"
      },
      {
        "duration": 97,
        "start_time": "2021-10-20T09:13:11.565Z"
      },
      {
        "duration": 82,
        "start_time": "2021-10-20T09:13:11.582Z"
      },
      {
        "duration": 76,
        "start_time": "2021-10-20T09:13:11.589Z"
      },
      {
        "duration": 70,
        "start_time": "2021-10-20T09:13:11.596Z"
      },
      {
        "duration": 61,
        "start_time": "2021-10-20T09:13:11.607Z"
      },
      {
        "duration": 56,
        "start_time": "2021-10-20T09:13:11.613Z"
      },
      {
        "duration": 54,
        "start_time": "2021-10-20T09:13:11.617Z"
      },
      {
        "duration": 52,
        "start_time": "2021-10-20T09:13:11.621Z"
      },
      {
        "duration": 48,
        "start_time": "2021-10-20T09:13:11.626Z"
      },
      {
        "duration": 37,
        "start_time": "2021-10-20T09:13:11.639Z"
      },
      {
        "duration": 35,
        "start_time": "2021-10-20T09:13:11.643Z"
      },
      {
        "duration": 679,
        "start_time": "2021-10-20T09:14:21.004Z"
      },
      {
        "duration": 12,
        "start_time": "2021-10-20T09:14:26.407Z"
      },
      {
        "duration": 188,
        "start_time": "2021-10-20T09:14:27.052Z"
      },
      {
        "duration": 1684,
        "start_time": "2021-10-20T09:14:28.400Z"
      },
      {
        "duration": 6,
        "start_time": "2021-10-20T09:14:35.916Z"
      },
      {
        "duration": 4,
        "start_time": "2021-10-20T09:14:36.173Z"
      },
      {
        "duration": 1053,
        "start_time": "2021-10-20T09:14:39.251Z"
      },
      {
        "duration": 753,
        "start_time": "2021-10-20T09:14:43.058Z"
      },
      {
        "duration": 6,
        "start_time": "2021-10-20T09:14:50.912Z"
      },
      {
        "duration": 5,
        "start_time": "2021-10-20T09:14:51.230Z"
      },
      {
        "duration": 99,
        "start_time": "2021-10-20T09:15:26.793Z"
      },
      {
        "duration": 100,
        "start_time": "2021-10-20T09:15:27.588Z"
      },
      {
        "duration": 13,
        "start_time": "2021-10-20T09:15:28.181Z"
      },
      {
        "duration": 123,
        "start_time": "2021-10-20T09:15:28.620Z"
      },
      {
        "duration": 129,
        "start_time": "2021-10-20T09:15:29.244Z"
      },
      {
        "duration": 49,
        "start_time": "2021-10-20T09:15:30.268Z"
      },
      {
        "duration": 4,
        "start_time": "2021-10-20T09:15:32.497Z"
      },
      {
        "duration": 197,
        "start_time": "2021-10-20T09:15:33.952Z"
      },
      {
        "duration": 9,
        "start_time": "2021-10-20T09:15:35.359Z"
      },
      {
        "duration": 14,
        "start_time": "2021-10-20T09:15:39.671Z"
      },
      {
        "duration": 6,
        "start_time": "2021-10-20T09:15:48.129Z"
      },
      {
        "duration": 3,
        "start_time": "2021-10-20T09:15:48.452Z"
      },
      {
        "duration": 17,
        "start_time": "2021-10-20T09:15:53.687Z"
      },
      {
        "duration": 4,
        "start_time": "2021-10-20T09:15:56.273Z"
      },
      {
        "duration": 5,
        "start_time": "2021-10-20T09:16:13.838Z"
      },
      {
        "duration": 12,
        "start_time": "2021-10-20T09:16:14.562Z"
      },
      {
        "duration": 12,
        "start_time": "2021-10-20T09:16:17.583Z"
      },
      {
        "duration": 11,
        "start_time": "2021-10-20T09:16:19.680Z"
      },
      {
        "duration": 4,
        "start_time": "2021-10-20T09:16:19.973Z"
      },
      {
        "duration": 24,
        "start_time": "2021-10-20T09:16:34.030Z"
      },
      {
        "duration": 5,
        "start_time": "2021-10-20T09:17:02.761Z"
      },
      {
        "duration": 6,
        "start_time": "2021-10-20T09:17:04.095Z"
      },
      {
        "duration": 12,
        "start_time": "2021-10-20T09:17:04.893Z"
      },
      {
        "duration": 817,
        "start_time": "2021-10-20T09:18:17.445Z"
      },
      {
        "duration": 763,
        "start_time": "2021-10-20T09:18:24.358Z"
      },
      {
        "duration": 665,
        "start_time": "2021-10-20T09:18:28.017Z"
      },
      {
        "duration": 1186,
        "start_time": "2021-10-20T18:56:08.340Z"
      },
      {
        "duration": 1283,
        "start_time": "2021-10-20T18:56:09.528Z"
      },
      {
        "duration": 71,
        "start_time": "2021-10-20T18:56:10.813Z"
      },
      {
        "duration": 3,
        "start_time": "2021-10-20T18:56:10.886Z"
      },
      {
        "duration": 628,
        "start_time": "2021-10-20T18:56:10.891Z"
      },
      {
        "duration": 28,
        "start_time": "2021-10-20T18:56:11.521Z"
      },
      {
        "duration": 25,
        "start_time": "2021-10-20T18:56:11.551Z"
      },
      {
        "duration": 22,
        "start_time": "2021-10-20T18:56:11.580Z"
      },
      {
        "duration": 4,
        "start_time": "2021-10-20T18:56:11.605Z"
      },
      {
        "duration": 10,
        "start_time": "2021-10-20T18:56:11.611Z"
      },
      {
        "duration": 9,
        "start_time": "2021-10-20T18:56:11.623Z"
      },
      {
        "duration": 50,
        "start_time": "2021-10-20T18:56:11.634Z"
      },
      {
        "duration": 376,
        "start_time": "2021-10-20T18:56:11.686Z"
      },
      {
        "duration": 13,
        "start_time": "2021-10-20T18:56:12.064Z"
      },
      {
        "duration": 17,
        "start_time": "2021-10-20T18:56:12.078Z"
      },
      {
        "duration": 16,
        "start_time": "2021-10-20T18:56:12.097Z"
      },
      {
        "duration": 342,
        "start_time": "2021-10-20T18:56:12.115Z"
      },
      {
        "duration": 4,
        "start_time": "2021-10-20T18:56:12.466Z"
      },
      {
        "duration": 3,
        "start_time": "2021-10-20T18:56:12.477Z"
      },
      {
        "duration": 12,
        "start_time": "2021-10-20T18:56:12.482Z"
      },
      {
        "duration": 8,
        "start_time": "2021-10-20T18:56:12.495Z"
      },
      {
        "duration": 8,
        "start_time": "2021-10-20T18:56:12.504Z"
      },
      {
        "duration": 12,
        "start_time": "2021-10-20T18:56:12.516Z"
      },
      {
        "duration": 9,
        "start_time": "2021-10-20T18:56:12.531Z"
      },
      {
        "duration": 5,
        "start_time": "2021-10-20T18:56:12.576Z"
      },
      {
        "duration": 11,
        "start_time": "2021-10-20T18:56:12.582Z"
      },
      {
        "duration": 8,
        "start_time": "2021-10-20T18:56:12.595Z"
      },
      {
        "duration": 221,
        "start_time": "2021-10-20T18:56:12.605Z"
      },
      {
        "duration": 9,
        "start_time": "2021-10-20T18:56:12.827Z"
      },
      {
        "duration": 165,
        "start_time": "2021-10-20T18:56:12.837Z"
      },
      {
        "duration": 8,
        "start_time": "2021-10-20T18:56:13.003Z"
      },
      {
        "duration": 10,
        "start_time": "2021-10-20T18:56:13.013Z"
      },
      {
        "duration": 11,
        "start_time": "2021-10-20T18:56:13.024Z"
      },
      {
        "duration": 5,
        "start_time": "2021-10-20T18:56:13.037Z"
      },
      {
        "duration": 346,
        "start_time": "2021-10-20T18:56:13.044Z"
      },
      {
        "duration": 399,
        "start_time": "2021-10-20T18:56:13.392Z"
      },
      {
        "duration": 483,
        "start_time": "2021-10-20T18:56:13.793Z"
      },
      {
        "duration": 319,
        "start_time": "2021-10-20T18:56:14.278Z"
      },
      {
        "duration": 452,
        "start_time": "2021-10-20T18:56:14.599Z"
      },
      {
        "duration": 8,
        "start_time": "2021-10-20T18:56:15.053Z"
      },
      {
        "duration": 148,
        "start_time": "2021-10-20T18:56:15.063Z"
      },
      {
        "duration": 1082,
        "start_time": "2021-10-20T18:56:15.212Z"
      },
      {
        "duration": 4,
        "start_time": "2021-10-20T18:56:16.296Z"
      },
      {
        "duration": 6,
        "start_time": "2021-10-20T18:56:16.302Z"
      },
      {
        "duration": 667,
        "start_time": "2021-10-20T18:56:16.309Z"
      },
      {
        "duration": 481,
        "start_time": "2021-10-20T18:56:16.978Z"
      },
      {
        "duration": 5,
        "start_time": "2021-10-20T18:56:17.460Z"
      },
      {
        "duration": 3,
        "start_time": "2021-10-20T18:56:17.476Z"
      },
      {
        "duration": 62,
        "start_time": "2021-10-20T18:56:17.481Z"
      },
      {
        "duration": 79,
        "start_time": "2021-10-20T18:56:17.544Z"
      },
      {
        "duration": 9,
        "start_time": "2021-10-20T18:56:17.625Z"
      },
      {
        "duration": 99,
        "start_time": "2021-10-20T18:56:17.636Z"
      },
      {
        "duration": 100,
        "start_time": "2021-10-20T18:56:17.737Z"
      },
      {
        "duration": 41,
        "start_time": "2021-10-20T18:56:17.839Z"
      },
      {
        "duration": 2,
        "start_time": "2021-10-20T18:56:17.882Z"
      },
      {
        "duration": 130,
        "start_time": "2021-10-20T18:56:17.886Z"
      },
      {
        "duration": 6,
        "start_time": "2021-10-20T18:56:18.018Z"
      },
      {
        "duration": 11,
        "start_time": "2021-10-20T18:56:18.025Z"
      },
      {
        "duration": 3,
        "start_time": "2021-10-20T18:56:18.038Z"
      },
      {
        "duration": 3,
        "start_time": "2021-10-20T18:56:18.042Z"
      },
      {
        "duration": 37,
        "start_time": "2021-10-20T18:56:18.047Z"
      },
      {
        "duration": 3,
        "start_time": "2021-10-20T18:56:18.086Z"
      },
      {
        "duration": 5,
        "start_time": "2021-10-20T18:56:18.091Z"
      },
      {
        "duration": 8,
        "start_time": "2021-10-20T18:56:18.098Z"
      },
      {
        "duration": 8,
        "start_time": "2021-10-20T18:56:18.108Z"
      },
      {
        "duration": 9,
        "start_time": "2021-10-20T18:56:18.118Z"
      },
      {
        "duration": 3,
        "start_time": "2021-10-20T18:56:18.129Z"
      },
      {
        "duration": 14,
        "start_time": "2021-10-20T18:56:18.179Z"
      },
      {
        "duration": 5,
        "start_time": "2021-10-20T18:56:18.195Z"
      },
      {
        "duration": 5,
        "start_time": "2021-10-20T18:56:18.202Z"
      },
      {
        "duration": 12,
        "start_time": "2021-10-20T18:56:18.209Z"
      },
      {
        "duration": 434,
        "start_time": "2021-10-20T18:56:18.223Z"
      },
      {
        "duration": 520,
        "start_time": "2021-10-20T18:56:18.658Z"
      },
      {
        "duration": 117,
        "start_time": "2021-10-20T19:19:43.295Z"
      },
      {
        "duration": 1286,
        "start_time": "2021-10-20T19:39:11.454Z"
      },
      {
        "duration": 1214,
        "start_time": "2021-10-20T19:39:12.742Z"
      },
      {
        "duration": 79,
        "start_time": "2021-10-20T19:39:13.959Z"
      },
      {
        "duration": 4,
        "start_time": "2021-10-20T19:39:14.041Z"
      },
      {
        "duration": 725,
        "start_time": "2021-10-20T19:39:14.047Z"
      },
      {
        "duration": 37,
        "start_time": "2021-10-20T19:39:14.776Z"
      },
      {
        "duration": 6,
        "start_time": "2021-10-20T19:39:14.815Z"
      },
      {
        "duration": 54,
        "start_time": "2021-10-20T19:39:14.825Z"
      },
      {
        "duration": 5,
        "start_time": "2021-10-20T19:39:14.881Z"
      },
      {
        "duration": 15,
        "start_time": "2021-10-20T19:39:14.888Z"
      },
      {
        "duration": 11,
        "start_time": "2021-10-20T19:39:14.905Z"
      },
      {
        "duration": 16,
        "start_time": "2021-10-20T19:39:14.917Z"
      },
      {
        "duration": 392,
        "start_time": "2021-10-20T19:39:14.935Z"
      },
      {
        "duration": 5,
        "start_time": "2021-10-20T19:39:15.329Z"
      },
      {
        "duration": 6,
        "start_time": "2021-10-20T19:39:15.336Z"
      },
      {
        "duration": 41,
        "start_time": "2021-10-20T19:39:15.344Z"
      },
      {
        "duration": 341,
        "start_time": "2021-10-20T19:39:15.387Z"
      },
      {
        "duration": 4,
        "start_time": "2021-10-20T19:39:15.729Z"
      },
      {
        "duration": 11,
        "start_time": "2021-10-20T19:39:15.735Z"
      },
      {
        "duration": 11,
        "start_time": "2021-10-20T19:39:15.748Z"
      },
      {
        "duration": 22,
        "start_time": "2021-10-20T19:39:15.761Z"
      },
      {
        "duration": 9,
        "start_time": "2021-10-20T19:39:15.784Z"
      },
      {
        "duration": 17,
        "start_time": "2021-10-20T19:39:15.797Z"
      },
      {
        "duration": 8,
        "start_time": "2021-10-20T19:39:15.817Z"
      },
      {
        "duration": 5,
        "start_time": "2021-10-20T19:39:15.827Z"
      },
      {
        "duration": 42,
        "start_time": "2021-10-20T19:39:15.834Z"
      },
      {
        "duration": 7,
        "start_time": "2021-10-20T19:39:15.878Z"
      },
      {
        "duration": 213,
        "start_time": "2021-10-20T19:39:15.886Z"
      },
      {
        "duration": 7,
        "start_time": "2021-10-20T19:39:16.100Z"
      },
      {
        "duration": 151,
        "start_time": "2021-10-20T19:39:16.109Z"
      },
      {
        "duration": 16,
        "start_time": "2021-10-20T19:39:16.262Z"
      },
      {
        "duration": 11,
        "start_time": "2021-10-20T19:39:16.280Z"
      },
      {
        "duration": 11,
        "start_time": "2021-10-20T19:39:16.293Z"
      },
      {
        "duration": 5,
        "start_time": "2021-10-20T19:39:16.305Z"
      },
      {
        "duration": 345,
        "start_time": "2021-10-20T19:39:16.312Z"
      },
      {
        "duration": 403,
        "start_time": "2021-10-20T19:39:16.659Z"
      },
      {
        "duration": 502,
        "start_time": "2021-10-20T19:39:17.064Z"
      },
      {
        "duration": 319,
        "start_time": "2021-10-20T19:39:17.567Z"
      },
      {
        "duration": 435,
        "start_time": "2021-10-20T19:39:17.887Z"
      },
      {
        "duration": 9,
        "start_time": "2021-10-20T19:39:18.324Z"
      },
      {
        "duration": 106,
        "start_time": "2021-10-20T19:39:18.335Z"
      },
      {
        "duration": 826,
        "start_time": "2021-10-20T19:39:18.442Z"
      },
      {
        "duration": 6,
        "start_time": "2021-10-20T19:39:19.270Z"
      },
      {
        "duration": 3,
        "start_time": "2021-10-20T19:39:19.278Z"
      },
      {
        "duration": 585,
        "start_time": "2021-10-20T19:39:19.283Z"
      },
      {
        "duration": 483,
        "start_time": "2021-10-20T19:39:19.869Z"
      },
      {
        "duration": 4,
        "start_time": "2021-10-20T19:39:20.354Z"
      },
      {
        "duration": 17,
        "start_time": "2021-10-20T19:39:20.359Z"
      },
      {
        "duration": 63,
        "start_time": "2021-10-20T19:39:20.378Z"
      },
      {
        "duration": 73,
        "start_time": "2021-10-20T19:39:20.442Z"
      },
      {
        "duration": 11,
        "start_time": "2021-10-20T19:39:20.516Z"
      },
      {
        "duration": 86,
        "start_time": "2021-10-20T19:39:20.529Z"
      },
      {
        "duration": 77,
        "start_time": "2021-10-20T19:39:20.617Z"
      },
      {
        "duration": 30,
        "start_time": "2021-10-20T19:39:20.695Z"
      },
      {
        "duration": 3,
        "start_time": "2021-10-20T19:39:20.726Z"
      },
      {
        "duration": 116,
        "start_time": "2021-10-20T19:39:20.730Z"
      },
      {
        "duration": 5,
        "start_time": "2021-10-20T19:39:20.848Z"
      },
      {
        "duration": 22,
        "start_time": "2021-10-20T19:39:20.855Z"
      },
      {
        "duration": 3,
        "start_time": "2021-10-20T19:39:20.879Z"
      },
      {
        "duration": 3,
        "start_time": "2021-10-20T19:39:20.884Z"
      },
      {
        "duration": 11,
        "start_time": "2021-10-20T19:39:20.889Z"
      },
      {
        "duration": 7,
        "start_time": "2021-10-20T19:39:20.901Z"
      },
      {
        "duration": 5,
        "start_time": "2021-10-20T19:39:20.909Z"
      },
      {
        "duration": 10,
        "start_time": "2021-10-20T19:39:20.916Z"
      },
      {
        "duration": 10,
        "start_time": "2021-10-20T19:39:20.927Z"
      },
      {
        "duration": 40,
        "start_time": "2021-10-20T19:39:20.938Z"
      },
      {
        "duration": 3,
        "start_time": "2021-10-20T19:39:20.979Z"
      },
      {
        "duration": 13,
        "start_time": "2021-10-20T19:39:20.986Z"
      },
      {
        "duration": 3,
        "start_time": "2021-10-20T19:39:21.001Z"
      },
      {
        "duration": 9,
        "start_time": "2021-10-20T19:39:21.005Z"
      },
      {
        "duration": 13,
        "start_time": "2021-10-20T19:39:21.015Z"
      },
      {
        "duration": 490,
        "start_time": "2021-10-20T19:39:21.030Z"
      },
      {
        "duration": 608,
        "start_time": "2021-10-20T19:39:21.522Z"
      },
      {
        "duration": 1546,
        "start_time": "2021-10-20T19:39:41.565Z"
      }
    ],
    "colab": {
      "name": "e_comm_AB.ipynb",
      "provenance": [],
      "collapsed_sections": [],
      "toc_visible": true
    },
    "kernelspec": {
      "display_name": "Python 3",
      "language": "python",
      "name": "python3"
    },
    "language_info": {
      "codemirror_mode": {
        "name": "ipython",
        "version": 3
      },
      "file_extension": ".py",
      "mimetype": "text/x-python",
      "name": "python",
      "nbconvert_exporter": "python",
      "pygments_lexer": "ipython3",
      "version": "3.7.8"
    },
    "toc": {
      "base_numbering": 1,
      "nav_menu": {},
      "number_sections": true,
      "sideBar": true,
      "skip_h1_title": true,
      "title_cell": "Содержание",
      "title_sidebar": "Содержание",
      "toc_cell": true,
      "toc_position": {
        "height": "calc(100% - 180px)",
        "left": "10px",
        "top": "150px",
        "width": "384px"
      },
      "toc_section_display": true,
      "toc_window_display": true
    }
  },
  "cells": [
    {
      "cell_type": "markdown",
      "metadata": {
        "id": "irszQLXZcp-S"
      },
      "source": [
        "<footer id=\"footer\"></footer>"
      ]
    },
    {
      "cell_type": "markdown",
      "metadata": {
        "id": "sfGYZvtD8-bO"
      },
      "source": [
        "# <center> Принятие решений в бизнесе на основе данных </center>"
      ]
    },
    {
      "cell_type": "markdown",
      "metadata": {
        "id": "pGSOggwYcDEK"
      },
      "source": [
        "<p align=\"center\"><img src='https://i.ibb.co/Hz0VFzn/ab-testirovanie.png'></p>\n"
      ]
    },
    {
      "cell_type": "markdown",
      "metadata": {
        "id": "S8MiWGK1ackv"
      },
      "source": [
        "Мы подготовили список гипотез для увеличения выручки интернет-магазина.   \n",
        "\n",
        "Нам необходимо приоритизировать гипотезы, запустить A/B-тест и проанализировать результаты."
      ]
    },
    {
      "cell_type": "markdown",
      "metadata": {
        "id": "ELRBWsGgcsgc"
      },
      "source": [
        "<a href=\"#footer\">К содержанию</a>\n",
        "<footer id=\"footer\"></footer>\n",
        "\n",
        "---"
      ]
    },
    {
      "cell_type": "markdown",
      "metadata": {
        "id": "2XjS0rpzAyhH"
      },
      "source": [
        "## Загрузка библиотек и данных"
      ]
    },
    {
      "cell_type": "code",
      "metadata": {
        "id": "VwWwjVA1bPsx"
      },
      "source": [
        "import pandas as pd\n",
        "import numpy as np\n",
        "import matplotlib.pyplot as plt\n",
        "import seaborn as sns\n",
        "import pylab\n",
        "from scipy import stats as st\n",
        "import warnings\n",
        "import math as mth\n",
        "\n",
        "sns.set_style('darkgrid')\n",
        "warnings.filterwarnings(\"ignore\")\n",
        "np.random.seed(42)"
      ],
      "execution_count": 1,
      "outputs": []
    },
    {
      "cell_type": "code",
      "metadata": {
        "id": "_NycdQ4caWGx"
      },
      "source": [
        "%%capture\n",
        "!gdown --id 1LbSv9y0ONn6Va3lgbnjk9Z-GBwum78Xn\n",
        "!unrar x -Y '/content/AB_proj.rar'"
      ],
      "execution_count": 2,
      "outputs": []
    },
    {
      "cell_type": "code",
      "metadata": {
        "colab": {
          "base_uri": "https://localhost:8080/"
        },
        "id": "4w0cjisAaiEk",
        "outputId": "1d8d2088-6182-4f01-a2b0-a3c1e7599bfe"
      },
      "source": [
        "try:\n",
        "    hypothesis = pd.read_csv('/content/hypothesis.csv')\n",
        "    orders = pd.read_csv('/content/orders.csv')\n",
        "    visitors = pd.read_csv('/content/visitors.csv')\n",
        "except:\n",
        "    hypothesis = pd.read_csv('/datasets/hypothesis.csv')\n",
        "    orders = pd.read_csv('/datasets/orders.csv')\n",
        "    visitors = pd.read_csv('/datasets/visitors.csv')\n",
        "finally:\n",
        "    print('Данные успешно загружены')"
      ],
      "execution_count": 3,
      "outputs": [
        {
          "output_type": "stream",
          "name": "stdout",
          "text": [
            "Данные успешно загружены\n"
          ]
        }
      ]
    },
    {
      "cell_type": "code",
      "metadata": {
        "id": "TCmV0qdcbp8N"
      },
      "source": [
        "def get_info(data):\n",
        "    display(data.head().style.set_caption('Общая информация по датасету'))\n",
        "    display(data.describe().T)\n",
        "    print('----')\n",
        "    print('Информация о пропусках и типах данных')\n",
        "    print('----')\n",
        "    print()\n",
        "    display(data.info())\n",
        "    print('----')\n",
        "    print()"
      ],
      "execution_count": 4,
      "outputs": []
    },
    {
      "cell_type": "markdown",
      "metadata": {
        "id": "IZ8Ly3EPA33k"
      },
      "source": [
        "<a href=\"#footer\">К содержанию</a>\n",
        "<footer id=\"footer\"></footer>\n",
        "\n",
        "---"
      ]
    },
    {
      "cell_type": "markdown",
      "metadata": {
        "id": "4Yh7OfxVA4wn"
      },
      "source": [
        "##  Осмотр данных первичный"
      ]
    },
    {
      "cell_type": "markdown",
      "metadata": {
        "id": "d4lEwcEkFSOz"
      },
      "source": [
        "Посмотрим на сеты, что находятся у нас в работе: проверим пропуски и типы данных"
      ]
    },
    {
      "cell_type": "markdown",
      "metadata": {
        "id": "ZQUXoASPBLbm"
      },
      "source": [
        "### Гипотезы"
      ]
    },
    {
      "cell_type": "markdown",
      "metadata": {
        "id": "IP-pVPc2FRtB"
      },
      "source": [
        "Изучим сет `hypothesis`"
      ]
    },
    {
      "cell_type": "code",
      "metadata": {
        "colab": {
          "base_uri": "https://localhost:8080/",
          "height": 658
        },
        "id": "i_FkyA4DBOXt",
        "outputId": "7f7ce7f2-3081-4dc7-8bab-af844183ac73"
      },
      "source": [
        "get_info(hypothesis)"
      ],
      "execution_count": 5,
      "outputs": [
        {
          "output_type": "display_data",
          "data": {
            "text/html": [
              "<style  type=\"text/css\" >\n",
              "</style><table id=\"T_b06d1c10_31fa_11ec_90b4_0242ac1c0002\" ><caption>Общая информация по датасету</caption><thead>    <tr>        <th class=\"blank level0\" ></th>        <th class=\"col_heading level0 col0\" >Hypothesis</th>        <th class=\"col_heading level0 col1\" >Reach</th>        <th class=\"col_heading level0 col2\" >Impact</th>        <th class=\"col_heading level0 col3\" >Confidence</th>        <th class=\"col_heading level0 col4\" >Efforts</th>    </tr></thead><tbody>\n",
              "                <tr>\n",
              "                        <th id=\"T_b06d1c10_31fa_11ec_90b4_0242ac1c0002level0_row0\" class=\"row_heading level0 row0\" >0</th>\n",
              "                        <td id=\"T_b06d1c10_31fa_11ec_90b4_0242ac1c0002row0_col0\" class=\"data row0 col0\" >Добавить два новых канала привлечения трафика, что позволит привлекать на 30% больше пользователей</td>\n",
              "                        <td id=\"T_b06d1c10_31fa_11ec_90b4_0242ac1c0002row0_col1\" class=\"data row0 col1\" >3</td>\n",
              "                        <td id=\"T_b06d1c10_31fa_11ec_90b4_0242ac1c0002row0_col2\" class=\"data row0 col2\" >10</td>\n",
              "                        <td id=\"T_b06d1c10_31fa_11ec_90b4_0242ac1c0002row0_col3\" class=\"data row0 col3\" >8</td>\n",
              "                        <td id=\"T_b06d1c10_31fa_11ec_90b4_0242ac1c0002row0_col4\" class=\"data row0 col4\" >6</td>\n",
              "            </tr>\n",
              "            <tr>\n",
              "                        <th id=\"T_b06d1c10_31fa_11ec_90b4_0242ac1c0002level0_row1\" class=\"row_heading level0 row1\" >1</th>\n",
              "                        <td id=\"T_b06d1c10_31fa_11ec_90b4_0242ac1c0002row1_col0\" class=\"data row1 col0\" >Запустить собственную службу доставки, что сократит срок доставки заказов</td>\n",
              "                        <td id=\"T_b06d1c10_31fa_11ec_90b4_0242ac1c0002row1_col1\" class=\"data row1 col1\" >2</td>\n",
              "                        <td id=\"T_b06d1c10_31fa_11ec_90b4_0242ac1c0002row1_col2\" class=\"data row1 col2\" >5</td>\n",
              "                        <td id=\"T_b06d1c10_31fa_11ec_90b4_0242ac1c0002row1_col3\" class=\"data row1 col3\" >4</td>\n",
              "                        <td id=\"T_b06d1c10_31fa_11ec_90b4_0242ac1c0002row1_col4\" class=\"data row1 col4\" >10</td>\n",
              "            </tr>\n",
              "            <tr>\n",
              "                        <th id=\"T_b06d1c10_31fa_11ec_90b4_0242ac1c0002level0_row2\" class=\"row_heading level0 row2\" >2</th>\n",
              "                        <td id=\"T_b06d1c10_31fa_11ec_90b4_0242ac1c0002row2_col0\" class=\"data row2 col0\" >Добавить блоки рекомендаций товаров на сайт интернет магазина, чтобы повысить конверсию и средний чек заказа</td>\n",
              "                        <td id=\"T_b06d1c10_31fa_11ec_90b4_0242ac1c0002row2_col1\" class=\"data row2 col1\" >8</td>\n",
              "                        <td id=\"T_b06d1c10_31fa_11ec_90b4_0242ac1c0002row2_col2\" class=\"data row2 col2\" >3</td>\n",
              "                        <td id=\"T_b06d1c10_31fa_11ec_90b4_0242ac1c0002row2_col3\" class=\"data row2 col3\" >7</td>\n",
              "                        <td id=\"T_b06d1c10_31fa_11ec_90b4_0242ac1c0002row2_col4\" class=\"data row2 col4\" >3</td>\n",
              "            </tr>\n",
              "            <tr>\n",
              "                        <th id=\"T_b06d1c10_31fa_11ec_90b4_0242ac1c0002level0_row3\" class=\"row_heading level0 row3\" >3</th>\n",
              "                        <td id=\"T_b06d1c10_31fa_11ec_90b4_0242ac1c0002row3_col0\" class=\"data row3 col0\" >Изменить структура категорий, что увеличит конверсию, т.к. пользователи быстрее найдут нужный товар</td>\n",
              "                        <td id=\"T_b06d1c10_31fa_11ec_90b4_0242ac1c0002row3_col1\" class=\"data row3 col1\" >8</td>\n",
              "                        <td id=\"T_b06d1c10_31fa_11ec_90b4_0242ac1c0002row3_col2\" class=\"data row3 col2\" >3</td>\n",
              "                        <td id=\"T_b06d1c10_31fa_11ec_90b4_0242ac1c0002row3_col3\" class=\"data row3 col3\" >3</td>\n",
              "                        <td id=\"T_b06d1c10_31fa_11ec_90b4_0242ac1c0002row3_col4\" class=\"data row3 col4\" >8</td>\n",
              "            </tr>\n",
              "            <tr>\n",
              "                        <th id=\"T_b06d1c10_31fa_11ec_90b4_0242ac1c0002level0_row4\" class=\"row_heading level0 row4\" >4</th>\n",
              "                        <td id=\"T_b06d1c10_31fa_11ec_90b4_0242ac1c0002row4_col0\" class=\"data row4 col0\" >Изменить цвет фона главной страницы, чтобы увеличить вовлеченность пользователей</td>\n",
              "                        <td id=\"T_b06d1c10_31fa_11ec_90b4_0242ac1c0002row4_col1\" class=\"data row4 col1\" >3</td>\n",
              "                        <td id=\"T_b06d1c10_31fa_11ec_90b4_0242ac1c0002row4_col2\" class=\"data row4 col2\" >1</td>\n",
              "                        <td id=\"T_b06d1c10_31fa_11ec_90b4_0242ac1c0002row4_col3\" class=\"data row4 col3\" >1</td>\n",
              "                        <td id=\"T_b06d1c10_31fa_11ec_90b4_0242ac1c0002row4_col4\" class=\"data row4 col4\" >1</td>\n",
              "            </tr>\n",
              "    </tbody></table>"
            ],
            "text/plain": [
              "<pandas.io.formats.style.Styler at 0x7f80a0b21110>"
            ]
          },
          "metadata": {}
        },
        {
          "output_type": "display_data",
          "data": {
            "text/html": [
              "<div>\n",
              "<style scoped>\n",
              "    .dataframe tbody tr th:only-of-type {\n",
              "        vertical-align: middle;\n",
              "    }\n",
              "\n",
              "    .dataframe tbody tr th {\n",
              "        vertical-align: top;\n",
              "    }\n",
              "\n",
              "    .dataframe thead th {\n",
              "        text-align: right;\n",
              "    }\n",
              "</style>\n",
              "<table border=\"1\" class=\"dataframe\">\n",
              "  <thead>\n",
              "    <tr style=\"text-align: right;\">\n",
              "      <th></th>\n",
              "      <th>count</th>\n",
              "      <th>mean</th>\n",
              "      <th>std</th>\n",
              "      <th>min</th>\n",
              "      <th>25%</th>\n",
              "      <th>50%</th>\n",
              "      <th>75%</th>\n",
              "      <th>max</th>\n",
              "    </tr>\n",
              "  </thead>\n",
              "  <tbody>\n",
              "    <tr>\n",
              "      <th>Reach</th>\n",
              "      <td>9.0</td>\n",
              "      <td>4.777778</td>\n",
              "      <td>3.153481</td>\n",
              "      <td>1.0</td>\n",
              "      <td>3.0</td>\n",
              "      <td>3.0</td>\n",
              "      <td>8.0</td>\n",
              "      <td>10.0</td>\n",
              "    </tr>\n",
              "    <tr>\n",
              "      <th>Impact</th>\n",
              "      <td>9.0</td>\n",
              "      <td>4.777778</td>\n",
              "      <td>3.192874</td>\n",
              "      <td>1.0</td>\n",
              "      <td>3.0</td>\n",
              "      <td>3.0</td>\n",
              "      <td>7.0</td>\n",
              "      <td>10.0</td>\n",
              "    </tr>\n",
              "    <tr>\n",
              "      <th>Confidence</th>\n",
              "      <td>9.0</td>\n",
              "      <td>5.555556</td>\n",
              "      <td>3.045944</td>\n",
              "      <td>1.0</td>\n",
              "      <td>3.0</td>\n",
              "      <td>7.0</td>\n",
              "      <td>8.0</td>\n",
              "      <td>9.0</td>\n",
              "    </tr>\n",
              "    <tr>\n",
              "      <th>Efforts</th>\n",
              "      <td>9.0</td>\n",
              "      <td>4.888889</td>\n",
              "      <td>2.803767</td>\n",
              "      <td>1.0</td>\n",
              "      <td>3.0</td>\n",
              "      <td>5.0</td>\n",
              "      <td>6.0</td>\n",
              "      <td>10.0</td>\n",
              "    </tr>\n",
              "  </tbody>\n",
              "</table>\n",
              "</div>"
            ],
            "text/plain": [
              "            count      mean       std  min  25%  50%  75%   max\n",
              "Reach         9.0  4.777778  3.153481  1.0  3.0  3.0  8.0  10.0\n",
              "Impact        9.0  4.777778  3.192874  1.0  3.0  3.0  7.0  10.0\n",
              "Confidence    9.0  5.555556  3.045944  1.0  3.0  7.0  8.0   9.0\n",
              "Efforts       9.0  4.888889  2.803767  1.0  3.0  5.0  6.0  10.0"
            ]
          },
          "metadata": {}
        },
        {
          "output_type": "stream",
          "name": "stdout",
          "text": [
            "----\n",
            "Информация о пропусках и типах данных\n",
            "----\n",
            "\n",
            "<class 'pandas.core.frame.DataFrame'>\n",
            "RangeIndex: 9 entries, 0 to 8\n",
            "Data columns (total 5 columns):\n",
            " #   Column      Non-Null Count  Dtype \n",
            "---  ------      --------------  ----- \n",
            " 0   Hypothesis  9 non-null      object\n",
            " 1   Reach       9 non-null      int64 \n",
            " 2   Impact      9 non-null      int64 \n",
            " 3   Confidence  9 non-null      int64 \n",
            " 4   Efforts     9 non-null      int64 \n",
            "dtypes: int64(4), object(1)\n",
            "memory usage: 488.0+ bytes\n"
          ]
        },
        {
          "output_type": "display_data",
          "data": {
            "text/plain": [
              "None"
            ]
          },
          "metadata": {}
        },
        {
          "output_type": "stream",
          "name": "stdout",
          "text": [
            "----\n",
            "\n"
          ]
        }
      ]
    },
    {
      "cell_type": "markdown",
      "metadata": {
        "id": "GREwB_yZB0Zy"
      },
      "source": [
        "Файл `hypothesis.csv` содержит следюущие признаки:  \n",
        "\n",
        "`Hypothesis` — краткое описание гипотезы;  \n",
        "`Reach` — охват пользователей по 10-балльной шкале;  \n",
        "`Impact` — влияние на пользователей по 10-балльной шкале;  \n",
        "`Confidence` — уверенность в гипотезе по 10-балльной шкале;  \n",
        "`Efforts` — затраты ресурсов на проверку гипотезы по 10-балльной шкале.   "
      ]
    },
    {
      "cell_type": "markdown",
      "metadata": {
        "id": "QEB_5e1TC0oG"
      },
      "source": [
        "Пропусков нет, тип данных устраивает, менять не требуется"
      ]
    },
    {
      "cell_type": "markdown",
      "metadata": {
        "id": "CK408VG2hSip"
      },
      "source": [
        "<a href=\"#footer\">К содержанию</a>\n",
        "<footer id=\"footer\"></footer>\n",
        "\n",
        "---"
      ]
    },
    {
      "cell_type": "markdown",
      "metadata": {
        "id": "Tt2J3_8_B0EO"
      },
      "source": [
        "### Заказы\n"
      ]
    },
    {
      "cell_type": "markdown",
      "metadata": {
        "id": "EYyyO6y8FkzX"
      },
      "source": [
        "Изучим сет `orders`"
      ]
    },
    {
      "cell_type": "code",
      "metadata": {
        "colab": {
          "base_uri": "https://localhost:8080/",
          "height": 610
        },
        "id": "aAWHFR4qB0BT",
        "outputId": "d8067e73-98bb-46f0-8828-f8c640130ac4"
      },
      "source": [
        "get_info(orders)"
      ],
      "execution_count": 6,
      "outputs": [
        {
          "output_type": "display_data",
          "data": {
            "text/html": [
              "<style  type=\"text/css\" >\n",
              "</style><table id=\"T_b07cbfee_31fa_11ec_90b4_0242ac1c0002\" ><caption>Общая информация по датасету</caption><thead>    <tr>        <th class=\"blank level0\" ></th>        <th class=\"col_heading level0 col0\" >transactionId</th>        <th class=\"col_heading level0 col1\" >visitorId</th>        <th class=\"col_heading level0 col2\" >date</th>        <th class=\"col_heading level0 col3\" >revenue</th>        <th class=\"col_heading level0 col4\" >group</th>    </tr></thead><tbody>\n",
              "                <tr>\n",
              "                        <th id=\"T_b07cbfee_31fa_11ec_90b4_0242ac1c0002level0_row0\" class=\"row_heading level0 row0\" >0</th>\n",
              "                        <td id=\"T_b07cbfee_31fa_11ec_90b4_0242ac1c0002row0_col0\" class=\"data row0 col0\" >3667963787</td>\n",
              "                        <td id=\"T_b07cbfee_31fa_11ec_90b4_0242ac1c0002row0_col1\" class=\"data row0 col1\" >3312258926</td>\n",
              "                        <td id=\"T_b07cbfee_31fa_11ec_90b4_0242ac1c0002row0_col2\" class=\"data row0 col2\" >2019-08-15</td>\n",
              "                        <td id=\"T_b07cbfee_31fa_11ec_90b4_0242ac1c0002row0_col3\" class=\"data row0 col3\" >1650</td>\n",
              "                        <td id=\"T_b07cbfee_31fa_11ec_90b4_0242ac1c0002row0_col4\" class=\"data row0 col4\" >B</td>\n",
              "            </tr>\n",
              "            <tr>\n",
              "                        <th id=\"T_b07cbfee_31fa_11ec_90b4_0242ac1c0002level0_row1\" class=\"row_heading level0 row1\" >1</th>\n",
              "                        <td id=\"T_b07cbfee_31fa_11ec_90b4_0242ac1c0002row1_col0\" class=\"data row1 col0\" >2804400009</td>\n",
              "                        <td id=\"T_b07cbfee_31fa_11ec_90b4_0242ac1c0002row1_col1\" class=\"data row1 col1\" >3642806036</td>\n",
              "                        <td id=\"T_b07cbfee_31fa_11ec_90b4_0242ac1c0002row1_col2\" class=\"data row1 col2\" >2019-08-15</td>\n",
              "                        <td id=\"T_b07cbfee_31fa_11ec_90b4_0242ac1c0002row1_col3\" class=\"data row1 col3\" >730</td>\n",
              "                        <td id=\"T_b07cbfee_31fa_11ec_90b4_0242ac1c0002row1_col4\" class=\"data row1 col4\" >B</td>\n",
              "            </tr>\n",
              "            <tr>\n",
              "                        <th id=\"T_b07cbfee_31fa_11ec_90b4_0242ac1c0002level0_row2\" class=\"row_heading level0 row2\" >2</th>\n",
              "                        <td id=\"T_b07cbfee_31fa_11ec_90b4_0242ac1c0002row2_col0\" class=\"data row2 col0\" >2961555356</td>\n",
              "                        <td id=\"T_b07cbfee_31fa_11ec_90b4_0242ac1c0002row2_col1\" class=\"data row2 col1\" >4069496402</td>\n",
              "                        <td id=\"T_b07cbfee_31fa_11ec_90b4_0242ac1c0002row2_col2\" class=\"data row2 col2\" >2019-08-15</td>\n",
              "                        <td id=\"T_b07cbfee_31fa_11ec_90b4_0242ac1c0002row2_col3\" class=\"data row2 col3\" >400</td>\n",
              "                        <td id=\"T_b07cbfee_31fa_11ec_90b4_0242ac1c0002row2_col4\" class=\"data row2 col4\" >A</td>\n",
              "            </tr>\n",
              "            <tr>\n",
              "                        <th id=\"T_b07cbfee_31fa_11ec_90b4_0242ac1c0002level0_row3\" class=\"row_heading level0 row3\" >3</th>\n",
              "                        <td id=\"T_b07cbfee_31fa_11ec_90b4_0242ac1c0002row3_col0\" class=\"data row3 col0\" >3797467345</td>\n",
              "                        <td id=\"T_b07cbfee_31fa_11ec_90b4_0242ac1c0002row3_col1\" class=\"data row3 col1\" >1196621759</td>\n",
              "                        <td id=\"T_b07cbfee_31fa_11ec_90b4_0242ac1c0002row3_col2\" class=\"data row3 col2\" >2019-08-15</td>\n",
              "                        <td id=\"T_b07cbfee_31fa_11ec_90b4_0242ac1c0002row3_col3\" class=\"data row3 col3\" >9759</td>\n",
              "                        <td id=\"T_b07cbfee_31fa_11ec_90b4_0242ac1c0002row3_col4\" class=\"data row3 col4\" >B</td>\n",
              "            </tr>\n",
              "            <tr>\n",
              "                        <th id=\"T_b07cbfee_31fa_11ec_90b4_0242ac1c0002level0_row4\" class=\"row_heading level0 row4\" >4</th>\n",
              "                        <td id=\"T_b07cbfee_31fa_11ec_90b4_0242ac1c0002row4_col0\" class=\"data row4 col0\" >2282983706</td>\n",
              "                        <td id=\"T_b07cbfee_31fa_11ec_90b4_0242ac1c0002row4_col1\" class=\"data row4 col1\" >2322279887</td>\n",
              "                        <td id=\"T_b07cbfee_31fa_11ec_90b4_0242ac1c0002row4_col2\" class=\"data row4 col2\" >2019-08-15</td>\n",
              "                        <td id=\"T_b07cbfee_31fa_11ec_90b4_0242ac1c0002row4_col3\" class=\"data row4 col3\" >2308</td>\n",
              "                        <td id=\"T_b07cbfee_31fa_11ec_90b4_0242ac1c0002row4_col4\" class=\"data row4 col4\" >B</td>\n",
              "            </tr>\n",
              "    </tbody></table>"
            ],
            "text/plain": [
              "<pandas.io.formats.style.Styler at 0x7f80a01a4f90>"
            ]
          },
          "metadata": {}
        },
        {
          "output_type": "display_data",
          "data": {
            "text/html": [
              "<div>\n",
              "<style scoped>\n",
              "    .dataframe tbody tr th:only-of-type {\n",
              "        vertical-align: middle;\n",
              "    }\n",
              "\n",
              "    .dataframe tbody tr th {\n",
              "        vertical-align: top;\n",
              "    }\n",
              "\n",
              "    .dataframe thead th {\n",
              "        text-align: right;\n",
              "    }\n",
              "</style>\n",
              "<table border=\"1\" class=\"dataframe\">\n",
              "  <thead>\n",
              "    <tr style=\"text-align: right;\">\n",
              "      <th></th>\n",
              "      <th>count</th>\n",
              "      <th>mean</th>\n",
              "      <th>std</th>\n",
              "      <th>min</th>\n",
              "      <th>25%</th>\n",
              "      <th>50%</th>\n",
              "      <th>75%</th>\n",
              "      <th>max</th>\n",
              "    </tr>\n",
              "  </thead>\n",
              "  <tbody>\n",
              "    <tr>\n",
              "      <th>transactionId</th>\n",
              "      <td>1197.0</td>\n",
              "      <td>2.155621e+09</td>\n",
              "      <td>1.229085e+09</td>\n",
              "      <td>1062393.0</td>\n",
              "      <td>1.166776e+09</td>\n",
              "      <td>2.145194e+09</td>\n",
              "      <td>3.237740e+09</td>\n",
              "      <td>4.293856e+09</td>\n",
              "    </tr>\n",
              "    <tr>\n",
              "      <th>visitorId</th>\n",
              "      <td>1197.0</td>\n",
              "      <td>2.165960e+09</td>\n",
              "      <td>1.236014e+09</td>\n",
              "      <td>5114589.0</td>\n",
              "      <td>1.111826e+09</td>\n",
              "      <td>2.217985e+09</td>\n",
              "      <td>3.177606e+09</td>\n",
              "      <td>4.283872e+09</td>\n",
              "    </tr>\n",
              "    <tr>\n",
              "      <th>revenue</th>\n",
              "      <td>1197.0</td>\n",
              "      <td>8.348006e+03</td>\n",
              "      <td>3.919113e+04</td>\n",
              "      <td>50.0</td>\n",
              "      <td>1.220000e+03</td>\n",
              "      <td>2.978000e+03</td>\n",
              "      <td>8.290000e+03</td>\n",
              "      <td>1.294500e+06</td>\n",
              "    </tr>\n",
              "  </tbody>\n",
              "</table>\n",
              "</div>"
            ],
            "text/plain": [
              "                count          mean  ...           75%           max\n",
              "transactionId  1197.0  2.155621e+09  ...  3.237740e+09  4.293856e+09\n",
              "visitorId      1197.0  2.165960e+09  ...  3.177606e+09  4.283872e+09\n",
              "revenue        1197.0  8.348006e+03  ...  8.290000e+03  1.294500e+06\n",
              "\n",
              "[3 rows x 8 columns]"
            ]
          },
          "metadata": {}
        },
        {
          "output_type": "stream",
          "name": "stdout",
          "text": [
            "----\n",
            "Информация о пропусках и типах данных\n",
            "----\n",
            "\n",
            "<class 'pandas.core.frame.DataFrame'>\n",
            "RangeIndex: 1197 entries, 0 to 1196\n",
            "Data columns (total 5 columns):\n",
            " #   Column         Non-Null Count  Dtype \n",
            "---  ------         --------------  ----- \n",
            " 0   transactionId  1197 non-null   int64 \n",
            " 1   visitorId      1197 non-null   int64 \n",
            " 2   date           1197 non-null   object\n",
            " 3   revenue        1197 non-null   int64 \n",
            " 4   group          1197 non-null   object\n",
            "dtypes: int64(3), object(2)\n",
            "memory usage: 46.9+ KB\n"
          ]
        },
        {
          "output_type": "display_data",
          "data": {
            "text/plain": [
              "None"
            ]
          },
          "metadata": {}
        },
        {
          "output_type": "stream",
          "name": "stdout",
          "text": [
            "----\n",
            "\n"
          ]
        }
      ]
    },
    {
      "cell_type": "markdown",
      "metadata": {
        "id": "KxYDQ_6nD0Qc"
      },
      "source": [
        "`transactionId` — идентификатор заказа;  \n",
        "`visitorId` — идентификатор пользователя, совершившего заказ;  \n",
        "`date` — дата, когда был совершён заказ;  \n",
        "`revenue` — выручка заказа;  \n",
        "`group` — группа A/B-теста, в которую попал заказ.  \n",
        "\n",
        "Пропусков нет, тип данных в признаке `date` необходимо для удоства перевести в datetime-формат"
      ]
    },
    {
      "cell_type": "code",
      "metadata": {
        "id": "_UfAZEh1JinQ"
      },
      "source": [
        "orders['date'] = pd.to_datetime(orders['date'], format='%Y-%m-%d')"
      ],
      "execution_count": 7,
      "outputs": []
    },
    {
      "cell_type": "markdown",
      "metadata": {
        "id": "B8f4ZbQ1hTp4"
      },
      "source": [
        "<a href=\"#footer\">К содержанию</a>\n",
        "<footer id=\"footer\"></footer>\n",
        "\n",
        "---"
      ]
    },
    {
      "cell_type": "markdown",
      "metadata": {
        "id": "FIWlaAIuFCCE"
      },
      "source": [
        "### Посетители\n",
        "\n"
      ]
    },
    {
      "cell_type": "markdown",
      "metadata": {
        "id": "AV_TV-kCF0Q5"
      },
      "source": [
        "Изучим сет `visitors`"
      ]
    },
    {
      "cell_type": "code",
      "metadata": {
        "colab": {
          "base_uri": "https://localhost:8080/",
          "height": 531
        },
        "id": "tJWb_XV2Bz-S",
        "outputId": "832a47ac-abd9-4f9d-8568-519ec320c24c"
      },
      "source": [
        "get_info(visitors)"
      ],
      "execution_count": 8,
      "outputs": [
        {
          "output_type": "display_data",
          "data": {
            "text/html": [
              "<style  type=\"text/css\" >\n",
              "</style><table id=\"T_b08ad0ca_31fa_11ec_90b4_0242ac1c0002\" ><caption>Общая информация по датасету</caption><thead>    <tr>        <th class=\"blank level0\" ></th>        <th class=\"col_heading level0 col0\" >date</th>        <th class=\"col_heading level0 col1\" >group</th>        <th class=\"col_heading level0 col2\" >visitors</th>    </tr></thead><tbody>\n",
              "                <tr>\n",
              "                        <th id=\"T_b08ad0ca_31fa_11ec_90b4_0242ac1c0002level0_row0\" class=\"row_heading level0 row0\" >0</th>\n",
              "                        <td id=\"T_b08ad0ca_31fa_11ec_90b4_0242ac1c0002row0_col0\" class=\"data row0 col0\" >2019-08-01</td>\n",
              "                        <td id=\"T_b08ad0ca_31fa_11ec_90b4_0242ac1c0002row0_col1\" class=\"data row0 col1\" >A</td>\n",
              "                        <td id=\"T_b08ad0ca_31fa_11ec_90b4_0242ac1c0002row0_col2\" class=\"data row0 col2\" >719</td>\n",
              "            </tr>\n",
              "            <tr>\n",
              "                        <th id=\"T_b08ad0ca_31fa_11ec_90b4_0242ac1c0002level0_row1\" class=\"row_heading level0 row1\" >1</th>\n",
              "                        <td id=\"T_b08ad0ca_31fa_11ec_90b4_0242ac1c0002row1_col0\" class=\"data row1 col0\" >2019-08-02</td>\n",
              "                        <td id=\"T_b08ad0ca_31fa_11ec_90b4_0242ac1c0002row1_col1\" class=\"data row1 col1\" >A</td>\n",
              "                        <td id=\"T_b08ad0ca_31fa_11ec_90b4_0242ac1c0002row1_col2\" class=\"data row1 col2\" >619</td>\n",
              "            </tr>\n",
              "            <tr>\n",
              "                        <th id=\"T_b08ad0ca_31fa_11ec_90b4_0242ac1c0002level0_row2\" class=\"row_heading level0 row2\" >2</th>\n",
              "                        <td id=\"T_b08ad0ca_31fa_11ec_90b4_0242ac1c0002row2_col0\" class=\"data row2 col0\" >2019-08-03</td>\n",
              "                        <td id=\"T_b08ad0ca_31fa_11ec_90b4_0242ac1c0002row2_col1\" class=\"data row2 col1\" >A</td>\n",
              "                        <td id=\"T_b08ad0ca_31fa_11ec_90b4_0242ac1c0002row2_col2\" class=\"data row2 col2\" >507</td>\n",
              "            </tr>\n",
              "            <tr>\n",
              "                        <th id=\"T_b08ad0ca_31fa_11ec_90b4_0242ac1c0002level0_row3\" class=\"row_heading level0 row3\" >3</th>\n",
              "                        <td id=\"T_b08ad0ca_31fa_11ec_90b4_0242ac1c0002row3_col0\" class=\"data row3 col0\" >2019-08-04</td>\n",
              "                        <td id=\"T_b08ad0ca_31fa_11ec_90b4_0242ac1c0002row3_col1\" class=\"data row3 col1\" >A</td>\n",
              "                        <td id=\"T_b08ad0ca_31fa_11ec_90b4_0242ac1c0002row3_col2\" class=\"data row3 col2\" >717</td>\n",
              "            </tr>\n",
              "            <tr>\n",
              "                        <th id=\"T_b08ad0ca_31fa_11ec_90b4_0242ac1c0002level0_row4\" class=\"row_heading level0 row4\" >4</th>\n",
              "                        <td id=\"T_b08ad0ca_31fa_11ec_90b4_0242ac1c0002row4_col0\" class=\"data row4 col0\" >2019-08-05</td>\n",
              "                        <td id=\"T_b08ad0ca_31fa_11ec_90b4_0242ac1c0002row4_col1\" class=\"data row4 col1\" >A</td>\n",
              "                        <td id=\"T_b08ad0ca_31fa_11ec_90b4_0242ac1c0002row4_col2\" class=\"data row4 col2\" >756</td>\n",
              "            </tr>\n",
              "    </tbody></table>"
            ],
            "text/plain": [
              "<pandas.io.formats.style.Styler at 0x7f80a0152310>"
            ]
          },
          "metadata": {}
        },
        {
          "output_type": "display_data",
          "data": {
            "text/html": [
              "<div>\n",
              "<style scoped>\n",
              "    .dataframe tbody tr th:only-of-type {\n",
              "        vertical-align: middle;\n",
              "    }\n",
              "\n",
              "    .dataframe tbody tr th {\n",
              "        vertical-align: top;\n",
              "    }\n",
              "\n",
              "    .dataframe thead th {\n",
              "        text-align: right;\n",
              "    }\n",
              "</style>\n",
              "<table border=\"1\" class=\"dataframe\">\n",
              "  <thead>\n",
              "    <tr style=\"text-align: right;\">\n",
              "      <th></th>\n",
              "      <th>count</th>\n",
              "      <th>mean</th>\n",
              "      <th>std</th>\n",
              "      <th>min</th>\n",
              "      <th>25%</th>\n",
              "      <th>50%</th>\n",
              "      <th>75%</th>\n",
              "      <th>max</th>\n",
              "    </tr>\n",
              "  </thead>\n",
              "  <tbody>\n",
              "    <tr>\n",
              "      <th>visitors</th>\n",
              "      <td>62.0</td>\n",
              "      <td>607.290323</td>\n",
              "      <td>114.40056</td>\n",
              "      <td>361.0</td>\n",
              "      <td>534.0</td>\n",
              "      <td>624.5</td>\n",
              "      <td>710.5</td>\n",
              "      <td>770.0</td>\n",
              "    </tr>\n",
              "  </tbody>\n",
              "</table>\n",
              "</div>"
            ],
            "text/plain": [
              "          count        mean        std    min    25%    50%    75%    max\n",
              "visitors   62.0  607.290323  114.40056  361.0  534.0  624.5  710.5  770.0"
            ]
          },
          "metadata": {}
        },
        {
          "output_type": "stream",
          "name": "stdout",
          "text": [
            "----\n",
            "Информация о пропусках и типах данных\n",
            "----\n",
            "\n",
            "<class 'pandas.core.frame.DataFrame'>\n",
            "RangeIndex: 62 entries, 0 to 61\n",
            "Data columns (total 3 columns):\n",
            " #   Column    Non-Null Count  Dtype \n",
            "---  ------    --------------  ----- \n",
            " 0   date      62 non-null     object\n",
            " 1   group     62 non-null     object\n",
            " 2   visitors  62 non-null     int64 \n",
            "dtypes: int64(1), object(2)\n",
            "memory usage: 1.6+ KB\n"
          ]
        },
        {
          "output_type": "display_data",
          "data": {
            "text/plain": [
              "None"
            ]
          },
          "metadata": {}
        },
        {
          "output_type": "stream",
          "name": "stdout",
          "text": [
            "----\n",
            "\n"
          ]
        }
      ]
    },
    {
      "cell_type": "markdown",
      "metadata": {
        "id": "5R4r5rfeFHvj"
      },
      "source": [
        "`date` — дата;  \n",
        "`group` — группа `A/B`-теста;  \n",
        "`visitors` — количество пользователей в указанную дату в указанной группе A/B-теста  \n",
        "\n",
        "\n",
        "Пропусков нет, тип данных в признаке `date` необходимо для удоства перевести в datetime-формат"
      ]
    },
    {
      "cell_type": "code",
      "metadata": {
        "id": "ju2VcQWqJpFx"
      },
      "source": [
        "visitors['date'] = pd.to_datetime(visitors['date'], format='%Y-%m-%d')"
      ],
      "execution_count": 9,
      "outputs": []
    },
    {
      "cell_type": "markdown",
      "metadata": {
        "id": "-4sXDRehhU3i"
      },
      "source": [
        "<a href=\"#footer\">К содержанию</a>\n",
        "<footer id=\"footer\"></footer>\n",
        "\n",
        "---"
      ]
    },
    {
      "cell_type": "markdown",
      "metadata": {
        "id": "jNU3M6zaI7sx"
      },
      "source": [
        "## Приоритизация гипотез"
      ]
    },
    {
      "cell_type": "markdown",
      "metadata": {
        "id": "WAkghZov9gFp"
      },
      "source": [
        " Чтобы максимизировать ожидаемое улучшение ключевых метрик бизнеса, сформулированные гипотезы приоритизируем."
      ]
    },
    {
      "cell_type": "markdown",
      "metadata": {
        "id": "OkoGmxiLJIN4"
      },
      "source": [
        "### ICE"
      ]
    },
    {
      "cell_type": "markdown",
      "metadata": {
        "id": "oHXDR8OL9nYn"
      },
      "source": [
        "ICE:  \n",
        "\n",
        " \n",
        "`Impact` — насколько сильно изменение повлияет на пользователей, их опыт и удовлетворение от продукта;  \n",
        "`Confidence` — насколько вы уверены, что это изменение повлияет на пользователей именно так;  \n",
        "`Efforts` — сколько стоит протестировать эту гипотезу.  "
      ]
    },
    {
      "cell_type": "markdown",
      "metadata": {
        "id": "lLKLpoMCNmZx"
      },
      "source": [
        "---\n",
        "    \n",
        " <font size=\"1\"> Примечание:  \n",
        "    Параметр `Impact` показывает, насколько сильно изменение повлияет на охваченных пользователей.  \n",
        "    Параметр `Confidence` показывает уверенность в оценках других параметров.   \n",
        "    Параметр `Efforts `показывает, насколько сложно проверить гипотезу. </font>\n",
        "\n"
      ]
    },
    {
      "cell_type": "code",
      "metadata": {
        "colab": {
          "base_uri": "https://localhost:8080/",
          "height": 204
        },
        "id": "ryIwqNQDL9OY",
        "outputId": "9f7f2839-2f9a-44d7-a35f-9169e36a0100"
      },
      "source": [
        "hypothesis.head()"
      ],
      "execution_count": 10,
      "outputs": [
        {
          "output_type": "execute_result",
          "data": {
            "text/html": [
              "<div>\n",
              "<style scoped>\n",
              "    .dataframe tbody tr th:only-of-type {\n",
              "        vertical-align: middle;\n",
              "    }\n",
              "\n",
              "    .dataframe tbody tr th {\n",
              "        vertical-align: top;\n",
              "    }\n",
              "\n",
              "    .dataframe thead th {\n",
              "        text-align: right;\n",
              "    }\n",
              "</style>\n",
              "<table border=\"1\" class=\"dataframe\">\n",
              "  <thead>\n",
              "    <tr style=\"text-align: right;\">\n",
              "      <th></th>\n",
              "      <th>Hypothesis</th>\n",
              "      <th>Reach</th>\n",
              "      <th>Impact</th>\n",
              "      <th>Confidence</th>\n",
              "      <th>Efforts</th>\n",
              "    </tr>\n",
              "  </thead>\n",
              "  <tbody>\n",
              "    <tr>\n",
              "      <th>0</th>\n",
              "      <td>Добавить два новых канала привлечения трафика,...</td>\n",
              "      <td>3</td>\n",
              "      <td>10</td>\n",
              "      <td>8</td>\n",
              "      <td>6</td>\n",
              "    </tr>\n",
              "    <tr>\n",
              "      <th>1</th>\n",
              "      <td>Запустить собственную службу доставки, что сок...</td>\n",
              "      <td>2</td>\n",
              "      <td>5</td>\n",
              "      <td>4</td>\n",
              "      <td>10</td>\n",
              "    </tr>\n",
              "    <tr>\n",
              "      <th>2</th>\n",
              "      <td>Добавить блоки рекомендаций товаров на сайт ин...</td>\n",
              "      <td>8</td>\n",
              "      <td>3</td>\n",
              "      <td>7</td>\n",
              "      <td>3</td>\n",
              "    </tr>\n",
              "    <tr>\n",
              "      <th>3</th>\n",
              "      <td>Изменить структура категорий, что увеличит кон...</td>\n",
              "      <td>8</td>\n",
              "      <td>3</td>\n",
              "      <td>3</td>\n",
              "      <td>8</td>\n",
              "    </tr>\n",
              "    <tr>\n",
              "      <th>4</th>\n",
              "      <td>Изменить цвет фона главной страницы, чтобы уве...</td>\n",
              "      <td>3</td>\n",
              "      <td>1</td>\n",
              "      <td>1</td>\n",
              "      <td>1</td>\n",
              "    </tr>\n",
              "  </tbody>\n",
              "</table>\n",
              "</div>"
            ],
            "text/plain": [
              "                                          Hypothesis  ...  Efforts\n",
              "0  Добавить два новых канала привлечения трафика,...  ...        6\n",
              "1  Запустить собственную службу доставки, что сок...  ...       10\n",
              "2  Добавить блоки рекомендаций товаров на сайт ин...  ...        3\n",
              "3  Изменить структура категорий, что увеличит кон...  ...        8\n",
              "4  Изменить цвет фона главной страницы, чтобы уве...  ...        1\n",
              "\n",
              "[5 rows x 5 columns]"
            ]
          },
          "metadata": {},
          "execution_count": 10
        }
      ]
    },
    {
      "cell_type": "code",
      "metadata": {
        "id": "gWyqtzW155Xo"
      },
      "source": [
        "hypothesis = (hypothesis.assign(\n",
        "                  ICE = lambda x: x['Impact'] * x['Confidence'] / x['Efforts']\n",
        "                  )\n",
        "\n",
        ")"
      ],
      "execution_count": 11,
      "outputs": []
    },
    {
      "cell_type": "code",
      "metadata": {
        "colab": {
          "base_uri": "https://localhost:8080/",
          "height": 246
        },
        "id": "u6Cu2TSjLtQY",
        "outputId": "6f21bc35-aa5b-43b2-83fb-6af9e85e1a04"
      },
      "source": [
        "(hypothesis[['Hypothesis', 'ICE']].sort_values(by='ICE', ascending=False).style.set_caption('ICE-score для гипотез')\n",
        ".set_precision(2)\n",
        ".background_gradient(low=0.42))"
      ],
      "execution_count": 12,
      "outputs": [
        {
          "output_type": "execute_result",
          "data": {
            "text/html": [
              "<style  type=\"text/css\" >\n",
              "#T_b0a3aa6e_31fa_11ec_90b4_0242ac1c0002row0_col1{\n",
              "            background-color:  #023858;\n",
              "            color:  #f1f1f1;\n",
              "        }#T_b0a3aa6e_31fa_11ec_90b4_0242ac1c0002row1_col1{\n",
              "            background-color:  #045b8f;\n",
              "            color:  #f1f1f1;\n",
              "        }#T_b0a3aa6e_31fa_11ec_90b4_0242ac1c0002row2_col1{\n",
              "            background-color:  #056dab;\n",
              "            color:  #f1f1f1;\n",
              "        }#T_b0a3aa6e_31fa_11ec_90b4_0242ac1c0002row3_col1{\n",
              "            background-color:  #3991c1;\n",
              "            color:  #000000;\n",
              "        }#T_b0a3aa6e_31fa_11ec_90b4_0242ac1c0002row4_col1{\n",
              "            background-color:  #509ac6;\n",
              "            color:  #000000;\n",
              "        }#T_b0a3aa6e_31fa_11ec_90b4_0242ac1c0002row5_col1{\n",
              "            background-color:  #b1c2de;\n",
              "            color:  #000000;\n",
              "        }#T_b0a3aa6e_31fa_11ec_90b4_0242ac1c0002row6_col1{\n",
              "            background-color:  #bcc7e1;\n",
              "            color:  #000000;\n",
              "        }#T_b0a3aa6e_31fa_11ec_90b4_0242ac1c0002row7_col1{\n",
              "            background-color:  #bfc9e1;\n",
              "            color:  #000000;\n",
              "        }#T_b0a3aa6e_31fa_11ec_90b4_0242ac1c0002row8_col1{\n",
              "            background-color:  #c1cae2;\n",
              "            color:  #000000;\n",
              "        }</style><table id=\"T_b0a3aa6e_31fa_11ec_90b4_0242ac1c0002\" ><caption>ICE-score для гипотез</caption><thead>    <tr>        <th class=\"blank level0\" ></th>        <th class=\"col_heading level0 col0\" >Hypothesis</th>        <th class=\"col_heading level0 col1\" >ICE</th>    </tr></thead><tbody>\n",
              "                <tr>\n",
              "                        <th id=\"T_b0a3aa6e_31fa_11ec_90b4_0242ac1c0002level0_row0\" class=\"row_heading level0 row0\" >8</th>\n",
              "                        <td id=\"T_b0a3aa6e_31fa_11ec_90b4_0242ac1c0002row0_col0\" class=\"data row0 col0\" >Запустить акцию, дающую скидку на товар в день рождения</td>\n",
              "                        <td id=\"T_b0a3aa6e_31fa_11ec_90b4_0242ac1c0002row0_col1\" class=\"data row0 col1\" >16.20</td>\n",
              "            </tr>\n",
              "            <tr>\n",
              "                        <th id=\"T_b0a3aa6e_31fa_11ec_90b4_0242ac1c0002level0_row1\" class=\"row_heading level0 row1\" >0</th>\n",
              "                        <td id=\"T_b0a3aa6e_31fa_11ec_90b4_0242ac1c0002row1_col0\" class=\"data row1 col0\" >Добавить два новых канала привлечения трафика, что позволит привлекать на 30% больше пользователей</td>\n",
              "                        <td id=\"T_b0a3aa6e_31fa_11ec_90b4_0242ac1c0002row1_col1\" class=\"data row1 col1\" >13.33</td>\n",
              "            </tr>\n",
              "            <tr>\n",
              "                        <th id=\"T_b0a3aa6e_31fa_11ec_90b4_0242ac1c0002level0_row2\" class=\"row_heading level0 row2\" >7</th>\n",
              "                        <td id=\"T_b0a3aa6e_31fa_11ec_90b4_0242ac1c0002row2_col0\" class=\"data row2 col0\" >Добавить форму подписки на все основные страницы, чтобы собрать базу клиентов для email-рассылок</td>\n",
              "                        <td id=\"T_b0a3aa6e_31fa_11ec_90b4_0242ac1c0002row2_col1\" class=\"data row2 col1\" >11.20</td>\n",
              "            </tr>\n",
              "            <tr>\n",
              "                        <th id=\"T_b0a3aa6e_31fa_11ec_90b4_0242ac1c0002level0_row3\" class=\"row_heading level0 row3\" >6</th>\n",
              "                        <td id=\"T_b0a3aa6e_31fa_11ec_90b4_0242ac1c0002row3_col0\" class=\"data row3 col0\" >Показать на главной странице баннеры с актуальными акциями и распродажами, чтобы увеличить конверсию</td>\n",
              "                        <td id=\"T_b0a3aa6e_31fa_11ec_90b4_0242ac1c0002row3_col1\" class=\"data row3 col1\" >8.00</td>\n",
              "            </tr>\n",
              "            <tr>\n",
              "                        <th id=\"T_b0a3aa6e_31fa_11ec_90b4_0242ac1c0002level0_row4\" class=\"row_heading level0 row4\" >2</th>\n",
              "                        <td id=\"T_b0a3aa6e_31fa_11ec_90b4_0242ac1c0002row4_col0\" class=\"data row4 col0\" >Добавить блоки рекомендаций товаров на сайт интернет магазина, чтобы повысить конверсию и средний чек заказа</td>\n",
              "                        <td id=\"T_b0a3aa6e_31fa_11ec_90b4_0242ac1c0002row4_col1\" class=\"data row4 col1\" >7.00</td>\n",
              "            </tr>\n",
              "            <tr>\n",
              "                        <th id=\"T_b0a3aa6e_31fa_11ec_90b4_0242ac1c0002level0_row5\" class=\"row_heading level0 row5\" >1</th>\n",
              "                        <td id=\"T_b0a3aa6e_31fa_11ec_90b4_0242ac1c0002row5_col0\" class=\"data row5 col0\" >Запустить собственную службу доставки, что сократит срок доставки заказов</td>\n",
              "                        <td id=\"T_b0a3aa6e_31fa_11ec_90b4_0242ac1c0002row5_col1\" class=\"data row5 col1\" >2.00</td>\n",
              "            </tr>\n",
              "            <tr>\n",
              "                        <th id=\"T_b0a3aa6e_31fa_11ec_90b4_0242ac1c0002level0_row6\" class=\"row_heading level0 row6\" >5</th>\n",
              "                        <td id=\"T_b0a3aa6e_31fa_11ec_90b4_0242ac1c0002row6_col0\" class=\"data row6 col0\" >Добавить страницу отзывов клиентов о магазине, что позволит увеличить количество заказов</td>\n",
              "                        <td id=\"T_b0a3aa6e_31fa_11ec_90b4_0242ac1c0002row6_col1\" class=\"data row6 col1\" >1.33</td>\n",
              "            </tr>\n",
              "            <tr>\n",
              "                        <th id=\"T_b0a3aa6e_31fa_11ec_90b4_0242ac1c0002level0_row7\" class=\"row_heading level0 row7\" >3</th>\n",
              "                        <td id=\"T_b0a3aa6e_31fa_11ec_90b4_0242ac1c0002row7_col0\" class=\"data row7 col0\" >Изменить структура категорий, что увеличит конверсию, т.к. пользователи быстрее найдут нужный товар</td>\n",
              "                        <td id=\"T_b0a3aa6e_31fa_11ec_90b4_0242ac1c0002row7_col1\" class=\"data row7 col1\" >1.12</td>\n",
              "            </tr>\n",
              "            <tr>\n",
              "                        <th id=\"T_b0a3aa6e_31fa_11ec_90b4_0242ac1c0002level0_row8\" class=\"row_heading level0 row8\" >4</th>\n",
              "                        <td id=\"T_b0a3aa6e_31fa_11ec_90b4_0242ac1c0002row8_col0\" class=\"data row8 col0\" >Изменить цвет фона главной страницы, чтобы увеличить вовлеченность пользователей</td>\n",
              "                        <td id=\"T_b0a3aa6e_31fa_11ec_90b4_0242ac1c0002row8_col1\" class=\"data row8 col1\" >1.00</td>\n",
              "            </tr>\n",
              "    </tbody></table>"
            ],
            "text/plain": [
              "<pandas.io.formats.style.Styler at 0x7f809fc30650>"
            ]
          },
          "metadata": {},
          "execution_count": 12
        }
      ]
    },
    {
      "cell_type": "markdown",
      "metadata": {
        "id": "FVBAh6HS8-bV"
      },
      "source": [
        "Для удобства отобразим результаты на графике"
      ]
    },
    {
      "cell_type": "code",
      "metadata": {
        "colab": {
          "base_uri": "https://localhost:8080/",
          "height": 295
        },
        "id": "k4UlGGLhWJp2",
        "outputId": "a4ced3ae-555c-4a9f-8130-d8ff06212bda"
      },
      "source": [
        "ax = (hypothesis[['Hypothesis', 'ICE']]\n",
        "      .set_index('Hypothesis')\n",
        "      .sort_values('ICE', ascending=True)\n",
        "      .plot(kind='barh')\n",
        ")\n",
        "ax.set_xlabel('Приоритет ICE-score')\n",
        "ax.set_ylabel('Гипотеза')\n",
        "ax.set_title('ICE')\n",
        "plt.show()"
      ],
      "execution_count": 13,
      "outputs": [
        {
          "output_type": "display_data",
          "data": {
            "image/png": "[encoded data removed]",
            "text/plain": [
              "<Figure size 432x288 with 1 Axes>"
            ]
          },
          "metadata": {
            "needs_background": "light"
          }
        }
      ]
    },
    {
      "cell_type": "code",
      "metadata": {
        "colab": {
          "base_uri": "https://localhost:8080/"
        },
        "id": "WzQ_bf9fPagG",
        "outputId": "c3c24b1a-7a58-4bfa-ddc6-b96c091b898a"
      },
      "source": [
        "idx_ice = list(np.argpartition(hypothesis['ICE'], -3)[-3:])\n",
        "print(f'Согласно ICE-score наиболее приоритетные гипотезы с индексами {idx_ice}')"
      ],
      "execution_count": 14,
      "outputs": [
        {
          "output_type": "stream",
          "name": "stdout",
          "text": [
            "Согласно ICE-score наиболее приоритетные гипотезы с индексами [7, 0, 8]\n"
          ]
        }
      ]
    },
    {
      "cell_type": "markdown",
      "metadata": {
        "id": "Tx97IGYxhWgR"
      },
      "source": [
        "<a href=\"#footer\">К содержанию</a>\n",
        "<footer id=\"footer\"></footer>\n",
        "\n",
        "---"
      ]
    },
    {
      "cell_type": "markdown",
      "metadata": {
        "id": "ZhngrxRNNJhp"
      },
      "source": [
        "### RICE"
      ]
    },
    {
      "cell_type": "markdown",
      "metadata": {
        "id": "fGispi_fNNT-"
      },
      "source": [
        "Фреймворк RICE состоит из четырёх компонент:  \n",
        "`Reach` — скольких пользователей затронет изменение, которое вы хотите внести;  \n",
        "`Impact` — насколько сильно изменение повлияет на пользователей, их опыт и  удовлетворение от продукта;  \n",
        "`Confidence` — насколько вы уверены, что это изменение повлияет на пользователей именно так;  \n",
        "`Efforts` — сколько стоит протестировать эту гипотезу. "
      ]
    },
    {
      "cell_type": "code",
      "metadata": {
        "id": "rXHr3OrfMKzY"
      },
      "source": [
        "hypothesis = (hypothesis.assign(\n",
        "                  RICE = lambda x: x['Reach'] * x['Impact'] * x['Confidence'] / x['Efforts']\n",
        "                  )\n",
        "\n",
        ")"
      ],
      "execution_count": 15,
      "outputs": []
    },
    {
      "cell_type": "code",
      "metadata": {
        "colab": {
          "base_uri": "https://localhost:8080/",
          "height": 246
        },
        "id": "CAqnNXDFNYiO",
        "outputId": "63527c6b-ca4e-4c7d-94f4-a670f7e4b40b"
      },
      "source": [
        "(hypothesis[['Hypothesis', 'RICE']].round(3).sort_values(by='RICE', ascending=False).style.set_caption('RICE-score для гипотез')\n",
        ".set_precision(3)\n",
        ".background_gradient(low=0.42))"
      ],
      "execution_count": 16,
      "outputs": [
        {
          "output_type": "execute_result",
          "data": {
            "text/html": [
              "<style  type=\"text/css\" >\n",
              "#T_b0ee3d4a_31fa_11ec_90b4_0242ac1c0002row0_col1{\n",
              "            background-color:  #023858;\n",
              "            color:  #f1f1f1;\n",
              "        }#T_b0ee3d4a_31fa_11ec_90b4_0242ac1c0002row1_col1{\n",
              "            background-color:  #308cbe;\n",
              "            color:  #000000;\n",
              "        }#T_b0ee3d4a_31fa_11ec_90b4_0242ac1c0002row2_col1,#T_b0ee3d4a_31fa_11ec_90b4_0242ac1c0002row3_col1{\n",
              "            background-color:  #63a2cb;\n",
              "            color:  #000000;\n",
              "        }#T_b0ee3d4a_31fa_11ec_90b4_0242ac1c0002row4_col1{\n",
              "            background-color:  #a4bcda;\n",
              "            color:  #000000;\n",
              "        }#T_b0ee3d4a_31fa_11ec_90b4_0242ac1c0002row5_col1{\n",
              "            background-color:  #b4c4df;\n",
              "            color:  #000000;\n",
              "        }#T_b0ee3d4a_31fa_11ec_90b4_0242ac1c0002row6_col1,#T_b0ee3d4a_31fa_11ec_90b4_0242ac1c0002row7_col1{\n",
              "            background-color:  #bfc9e1;\n",
              "            color:  #000000;\n",
              "        }#T_b0ee3d4a_31fa_11ec_90b4_0242ac1c0002row8_col1{\n",
              "            background-color:  #c1cae2;\n",
              "            color:  #000000;\n",
              "        }</style><table id=\"T_b0ee3d4a_31fa_11ec_90b4_0242ac1c0002\" ><caption>RICE-score для гипотез</caption><thead>    <tr>        <th class=\"blank level0\" ></th>        <th class=\"col_heading level0 col0\" >Hypothesis</th>        <th class=\"col_heading level0 col1\" >RICE</th>    </tr></thead><tbody>\n",
              "                <tr>\n",
              "                        <th id=\"T_b0ee3d4a_31fa_11ec_90b4_0242ac1c0002level0_row0\" class=\"row_heading level0 row0\" >7</th>\n",
              "                        <td id=\"T_b0ee3d4a_31fa_11ec_90b4_0242ac1c0002row0_col0\" class=\"data row0 col0\" >Добавить форму подписки на все основные страницы, чтобы собрать базу клиентов для email-рассылок</td>\n",
              "                        <td id=\"T_b0ee3d4a_31fa_11ec_90b4_0242ac1c0002row0_col1\" class=\"data row0 col1\" >112.000</td>\n",
              "            </tr>\n",
              "            <tr>\n",
              "                        <th id=\"T_b0ee3d4a_31fa_11ec_90b4_0242ac1c0002level0_row1\" class=\"row_heading level0 row1\" >2</th>\n",
              "                        <td id=\"T_b0ee3d4a_31fa_11ec_90b4_0242ac1c0002row1_col0\" class=\"data row1 col0\" >Добавить блоки рекомендаций товаров на сайт интернет магазина, чтобы повысить конверсию и средний чек заказа</td>\n",
              "                        <td id=\"T_b0ee3d4a_31fa_11ec_90b4_0242ac1c0002row1_col1\" class=\"data row1 col1\" >56.000</td>\n",
              "            </tr>\n",
              "            <tr>\n",
              "                        <th id=\"T_b0ee3d4a_31fa_11ec_90b4_0242ac1c0002level0_row2\" class=\"row_heading level0 row2\" >0</th>\n",
              "                        <td id=\"T_b0ee3d4a_31fa_11ec_90b4_0242ac1c0002row2_col0\" class=\"data row2 col0\" >Добавить два новых канала привлечения трафика, что позволит привлекать на 30% больше пользователей</td>\n",
              "                        <td id=\"T_b0ee3d4a_31fa_11ec_90b4_0242ac1c0002row2_col1\" class=\"data row2 col1\" >40.000</td>\n",
              "            </tr>\n",
              "            <tr>\n",
              "                        <th id=\"T_b0ee3d4a_31fa_11ec_90b4_0242ac1c0002level0_row3\" class=\"row_heading level0 row3\" >6</th>\n",
              "                        <td id=\"T_b0ee3d4a_31fa_11ec_90b4_0242ac1c0002row3_col0\" class=\"data row3 col0\" >Показать на главной странице баннеры с актуальными акциями и распродажами, чтобы увеличить конверсию</td>\n",
              "                        <td id=\"T_b0ee3d4a_31fa_11ec_90b4_0242ac1c0002row3_col1\" class=\"data row3 col1\" >40.000</td>\n",
              "            </tr>\n",
              "            <tr>\n",
              "                        <th id=\"T_b0ee3d4a_31fa_11ec_90b4_0242ac1c0002level0_row4\" class=\"row_heading level0 row4\" >8</th>\n",
              "                        <td id=\"T_b0ee3d4a_31fa_11ec_90b4_0242ac1c0002row4_col0\" class=\"data row4 col0\" >Запустить акцию, дающую скидку на товар в день рождения</td>\n",
              "                        <td id=\"T_b0ee3d4a_31fa_11ec_90b4_0242ac1c0002row4_col1\" class=\"data row4 col1\" >16.200</td>\n",
              "            </tr>\n",
              "            <tr>\n",
              "                        <th id=\"T_b0ee3d4a_31fa_11ec_90b4_0242ac1c0002level0_row5\" class=\"row_heading level0 row5\" >3</th>\n",
              "                        <td id=\"T_b0ee3d4a_31fa_11ec_90b4_0242ac1c0002row5_col0\" class=\"data row5 col0\" >Изменить структура категорий, что увеличит конверсию, т.к. пользователи быстрее найдут нужный товар</td>\n",
              "                        <td id=\"T_b0ee3d4a_31fa_11ec_90b4_0242ac1c0002row5_col1\" class=\"data row5 col1\" >9.000</td>\n",
              "            </tr>\n",
              "            <tr>\n",
              "                        <th id=\"T_b0ee3d4a_31fa_11ec_90b4_0242ac1c0002level0_row6\" class=\"row_heading level0 row6\" >1</th>\n",
              "                        <td id=\"T_b0ee3d4a_31fa_11ec_90b4_0242ac1c0002row6_col0\" class=\"data row6 col0\" >Запустить собственную службу доставки, что сократит срок доставки заказов</td>\n",
              "                        <td id=\"T_b0ee3d4a_31fa_11ec_90b4_0242ac1c0002row6_col1\" class=\"data row6 col1\" >4.000</td>\n",
              "            </tr>\n",
              "            <tr>\n",
              "                        <th id=\"T_b0ee3d4a_31fa_11ec_90b4_0242ac1c0002level0_row7\" class=\"row_heading level0 row7\" >5</th>\n",
              "                        <td id=\"T_b0ee3d4a_31fa_11ec_90b4_0242ac1c0002row7_col0\" class=\"data row7 col0\" >Добавить страницу отзывов клиентов о магазине, что позволит увеличить количество заказов</td>\n",
              "                        <td id=\"T_b0ee3d4a_31fa_11ec_90b4_0242ac1c0002row7_col1\" class=\"data row7 col1\" >4.000</td>\n",
              "            </tr>\n",
              "            <tr>\n",
              "                        <th id=\"T_b0ee3d4a_31fa_11ec_90b4_0242ac1c0002level0_row8\" class=\"row_heading level0 row8\" >4</th>\n",
              "                        <td id=\"T_b0ee3d4a_31fa_11ec_90b4_0242ac1c0002row8_col0\" class=\"data row8 col0\" >Изменить цвет фона главной страницы, чтобы увеличить вовлеченность пользователей</td>\n",
              "                        <td id=\"T_b0ee3d4a_31fa_11ec_90b4_0242ac1c0002row8_col1\" class=\"data row8 col1\" >3.000</td>\n",
              "            </tr>\n",
              "    </tbody></table>"
            ],
            "text/plain": [
              "<pandas.io.formats.style.Styler at 0x7f80a01b4d90>"
            ]
          },
          "metadata": {},
          "execution_count": 16
        }
      ]
    },
    {
      "cell_type": "markdown",
      "metadata": {
        "id": "MtH_Rw8g8-bW"
      },
      "source": [
        "Для удобства отобразим результаты на графике"
      ]
    },
    {
      "cell_type": "code",
      "metadata": {
        "colab": {
          "base_uri": "https://localhost:8080/",
          "height": 295
        },
        "id": "OKzDVLxVWcIX",
        "outputId": "21aefead-beb2-4981-b6f5-92e8536be7dc"
      },
      "source": [
        "ax = (hypothesis[['Hypothesis', 'RICE']]\n",
        "      .set_index('Hypothesis')\n",
        "      .sort_values('RICE', ascending=True)\n",
        "      .plot(kind='barh')\n",
        ")\n",
        "ax.set_xlabel('Приоритет RICE-score')\n",
        "ax.set_ylabel('Гипотеза')\n",
        "ax.set_title('RICE')\n",
        "plt.show()"
      ],
      "execution_count": 17,
      "outputs": [
        {
          "output_type": "display_data",
          "data": {
            "image/png": "[encoded data removed]",
            "text/plain": [
              "<Figure size 432x288 with 1 Axes>"
            ]
          },
          "metadata": {
            "needs_background": "light"
          }
        }
      ]
    },
    {
      "cell_type": "code",
      "metadata": {
        "colab": {
          "base_uri": "https://localhost:8080/"
        },
        "id": "JsrXaL1QQlbF",
        "outputId": "fcfbfa6e-31c5-4a96-89a0-3db059065edf"
      },
      "source": [
        "idx_rice = list(np.argpartition(hypothesis['RICE'], -3)[-3:])\n",
        "print(f'Согласно RICE-score наиболее приоритетные гипотезы с индексами {idx_rice}')"
      ],
      "execution_count": 18,
      "outputs": [
        {
          "output_type": "stream",
          "name": "stdout",
          "text": [
            "Согласно RICE-score наиболее приоритетные гипотезы с индексами [0, 7, 2]\n"
          ]
        }
      ]
    },
    {
      "cell_type": "markdown",
      "metadata": {
        "id": "XPrRIyW3Wigy"
      },
      "source": [
        "Выделим только те гипотезы, которые попали в топ 3 по `ICE-score` и `RICE-score`"
      ]
    },
    {
      "cell_type": "code",
      "metadata": {
        "id": "0gZGel2PQ2sx"
      },
      "source": [
        "idx = list(set(idx_rice).union(set(idx_ice)))"
      ],
      "execution_count": 19,
      "outputs": []
    },
    {
      "cell_type": "code",
      "metadata": {
        "colab": {
          "base_uri": "https://localhost:8080/",
          "height": 173
        },
        "id": "WKneYUCFNbj_",
        "outputId": "4c68087d-7f4b-425b-c1c5-4432c886c4de"
      },
      "source": [
        "(hypothesis.iloc[idx]\n",
        " .sort_values(by='ICE', ascending=False)\n",
        " )"
      ],
      "execution_count": 20,
      "outputs": [
        {
          "output_type": "execute_result",
          "data": {
            "text/html": [
              "<div>\n",
              "<style scoped>\n",
              "    .dataframe tbody tr th:only-of-type {\n",
              "        vertical-align: middle;\n",
              "    }\n",
              "\n",
              "    .dataframe tbody tr th {\n",
              "        vertical-align: top;\n",
              "    }\n",
              "\n",
              "    .dataframe thead th {\n",
              "        text-align: right;\n",
              "    }\n",
              "</style>\n",
              "<table border=\"1\" class=\"dataframe\">\n",
              "  <thead>\n",
              "    <tr style=\"text-align: right;\">\n",
              "      <th></th>\n",
              "      <th>Hypothesis</th>\n",
              "      <th>Reach</th>\n",
              "      <th>Impact</th>\n",
              "      <th>Confidence</th>\n",
              "      <th>Efforts</th>\n",
              "      <th>ICE</th>\n",
              "      <th>RICE</th>\n",
              "    </tr>\n",
              "  </thead>\n",
              "  <tbody>\n",
              "    <tr>\n",
              "      <th>8</th>\n",
              "      <td>Запустить акцию, дающую скидку на товар в день...</td>\n",
              "      <td>1</td>\n",
              "      <td>9</td>\n",
              "      <td>9</td>\n",
              "      <td>5</td>\n",
              "      <td>16.200000</td>\n",
              "      <td>16.2</td>\n",
              "    </tr>\n",
              "    <tr>\n",
              "      <th>0</th>\n",
              "      <td>Добавить два новых канала привлечения трафика,...</td>\n",
              "      <td>3</td>\n",
              "      <td>10</td>\n",
              "      <td>8</td>\n",
              "      <td>6</td>\n",
              "      <td>13.333333</td>\n",
              "      <td>40.0</td>\n",
              "    </tr>\n",
              "    <tr>\n",
              "      <th>7</th>\n",
              "      <td>Добавить форму подписки на все основные страни...</td>\n",
              "      <td>10</td>\n",
              "      <td>7</td>\n",
              "      <td>8</td>\n",
              "      <td>5</td>\n",
              "      <td>11.200000</td>\n",
              "      <td>112.0</td>\n",
              "    </tr>\n",
              "    <tr>\n",
              "      <th>2</th>\n",
              "      <td>Добавить блоки рекомендаций товаров на сайт ин...</td>\n",
              "      <td>8</td>\n",
              "      <td>3</td>\n",
              "      <td>7</td>\n",
              "      <td>3</td>\n",
              "      <td>7.000000</td>\n",
              "      <td>56.0</td>\n",
              "    </tr>\n",
              "  </tbody>\n",
              "</table>\n",
              "</div>"
            ],
            "text/plain": [
              "                                          Hypothesis  Reach  ...        ICE   RICE\n",
              "8  Запустить акцию, дающую скидку на товар в день...      1  ...  16.200000   16.2\n",
              "0  Добавить два новых канала привлечения трафика,...      3  ...  13.333333   40.0\n",
              "7  Добавить форму подписки на все основные страни...     10  ...  11.200000  112.0\n",
              "2  Добавить блоки рекомендаций товаров на сайт ин...      8  ...   7.000000   56.0\n",
              "\n",
              "[4 rows x 7 columns]"
            ]
          },
          "metadata": {},
          "execution_count": 20
        }
      ]
    },
    {
      "cell_type": "markdown",
      "metadata": {
        "id": "568Qojo08-bW"
      },
      "source": [
        "### Выводы"
      ]
    },
    {
      "cell_type": "markdown",
      "metadata": {
        "id": "osva-1huSBqS"
      },
      "source": [
        "Мы видим, что согласно `RICE-score` лидирует 7ая гипотеза. Это связано с тем, что у нее самый высокий охват. Например, согласно `ICE-score` лидировала гипотеза 8, но при этом у нее охват - всего 1, следовательно, если проводить приоритизацию по `RICE` - данная гипотеза не изменит своего положения, в то время как гипотеза 7, по `ICE` - была на втором месте, но в следствие того, что ее Reach составляет 10 - она переместилась на первое место  \n",
        "\n",
        "\n",
        "Согласно `ICE-score` наиболее приоритетные гипотезы с индексами 8, 0, 7  \n",
        "Согласно `RICE-score` наиболее приоритетные гипотезы с индексами 7, 2, 0\n"
      ]
    },
    {
      "cell_type": "markdown",
      "metadata": {
        "id": "ymPsw_a7hX6v"
      },
      "source": [
        "<a href=\"#footer\">К содержанию</a>\n",
        "<footer id=\"footer\"></footer>\n",
        "\n",
        "---"
      ]
    },
    {
      "cell_type": "markdown",
      "metadata": {
        "id": "EKrxjn0pTHTx"
      },
      "source": [
        "## Анализ A/B-теста"
      ]
    },
    {
      "cell_type": "markdown",
      "metadata": {
        "id": "iCeGfk_WYwdc"
      },
      "source": [
        "Для удобства выведем таблицы `orders` и `visitors`"
      ]
    },
    {
      "cell_type": "code",
      "metadata": {
        "colab": {
          "base_uri": "https://localhost:8080/",
          "height": 204
        },
        "id": "Y_RyFXycW4Gg",
        "outputId": "0db0d8f8-ccfc-478b-aff7-1e89981c2cf7"
      },
      "source": [
        "orders.head()"
      ],
      "execution_count": 21,
      "outputs": [
        {
          "output_type": "execute_result",
          "data": {
            "text/html": [
              "<div>\n",
              "<style scoped>\n",
              "    .dataframe tbody tr th:only-of-type {\n",
              "        vertical-align: middle;\n",
              "    }\n",
              "\n",
              "    .dataframe tbody tr th {\n",
              "        vertical-align: top;\n",
              "    }\n",
              "\n",
              "    .dataframe thead th {\n",
              "        text-align: right;\n",
              "    }\n",
              "</style>\n",
              "<table border=\"1\" class=\"dataframe\">\n",
              "  <thead>\n",
              "    <tr style=\"text-align: right;\">\n",
              "      <th></th>\n",
              "      <th>transactionId</th>\n",
              "      <th>visitorId</th>\n",
              "      <th>date</th>\n",
              "      <th>revenue</th>\n",
              "      <th>group</th>\n",
              "    </tr>\n",
              "  </thead>\n",
              "  <tbody>\n",
              "    <tr>\n",
              "      <th>0</th>\n",
              "      <td>3667963787</td>\n",
              "      <td>3312258926</td>\n",
              "      <td>2019-08-15</td>\n",
              "      <td>1650</td>\n",
              "      <td>B</td>\n",
              "    </tr>\n",
              "    <tr>\n",
              "      <th>1</th>\n",
              "      <td>2804400009</td>\n",
              "      <td>3642806036</td>\n",
              "      <td>2019-08-15</td>\n",
              "      <td>730</td>\n",
              "      <td>B</td>\n",
              "    </tr>\n",
              "    <tr>\n",
              "      <th>2</th>\n",
              "      <td>2961555356</td>\n",
              "      <td>4069496402</td>\n",
              "      <td>2019-08-15</td>\n",
              "      <td>400</td>\n",
              "      <td>A</td>\n",
              "    </tr>\n",
              "    <tr>\n",
              "      <th>3</th>\n",
              "      <td>3797467345</td>\n",
              "      <td>1196621759</td>\n",
              "      <td>2019-08-15</td>\n",
              "      <td>9759</td>\n",
              "      <td>B</td>\n",
              "    </tr>\n",
              "    <tr>\n",
              "      <th>4</th>\n",
              "      <td>2282983706</td>\n",
              "      <td>2322279887</td>\n",
              "      <td>2019-08-15</td>\n",
              "      <td>2308</td>\n",
              "      <td>B</td>\n",
              "    </tr>\n",
              "  </tbody>\n",
              "</table>\n",
              "</div>"
            ],
            "text/plain": [
              "   transactionId   visitorId       date  revenue group\n",
              "0     3667963787  3312258926 2019-08-15     1650     B\n",
              "1     2804400009  3642806036 2019-08-15      730     B\n",
              "2     2961555356  4069496402 2019-08-15      400     A\n",
              "3     3797467345  1196621759 2019-08-15     9759     B\n",
              "4     2282983706  2322279887 2019-08-15     2308     B"
            ]
          },
          "metadata": {},
          "execution_count": 21
        }
      ]
    },
    {
      "cell_type": "code",
      "metadata": {
        "colab": {
          "base_uri": "https://localhost:8080/",
          "height": 204
        },
        "id": "qTYFZLkIW1HQ",
        "outputId": "d670566c-990b-441d-c9e8-8d018371fad1"
      },
      "source": [
        "visitors.head()"
      ],
      "execution_count": 22,
      "outputs": [
        {
          "output_type": "execute_result",
          "data": {
            "text/html": [
              "<div>\n",
              "<style scoped>\n",
              "    .dataframe tbody tr th:only-of-type {\n",
              "        vertical-align: middle;\n",
              "    }\n",
              "\n",
              "    .dataframe tbody tr th {\n",
              "        vertical-align: top;\n",
              "    }\n",
              "\n",
              "    .dataframe thead th {\n",
              "        text-align: right;\n",
              "    }\n",
              "</style>\n",
              "<table border=\"1\" class=\"dataframe\">\n",
              "  <thead>\n",
              "    <tr style=\"text-align: right;\">\n",
              "      <th></th>\n",
              "      <th>date</th>\n",
              "      <th>group</th>\n",
              "      <th>visitors</th>\n",
              "    </tr>\n",
              "  </thead>\n",
              "  <tbody>\n",
              "    <tr>\n",
              "      <th>0</th>\n",
              "      <td>2019-08-01</td>\n",
              "      <td>A</td>\n",
              "      <td>719</td>\n",
              "    </tr>\n",
              "    <tr>\n",
              "      <th>1</th>\n",
              "      <td>2019-08-02</td>\n",
              "      <td>A</td>\n",
              "      <td>619</td>\n",
              "    </tr>\n",
              "    <tr>\n",
              "      <th>2</th>\n",
              "      <td>2019-08-03</td>\n",
              "      <td>A</td>\n",
              "      <td>507</td>\n",
              "    </tr>\n",
              "    <tr>\n",
              "      <th>3</th>\n",
              "      <td>2019-08-04</td>\n",
              "      <td>A</td>\n",
              "      <td>717</td>\n",
              "    </tr>\n",
              "    <tr>\n",
              "      <th>4</th>\n",
              "      <td>2019-08-05</td>\n",
              "      <td>A</td>\n",
              "      <td>756</td>\n",
              "    </tr>\n",
              "  </tbody>\n",
              "</table>\n",
              "</div>"
            ],
            "text/plain": [
              "        date group  visitors\n",
              "0 2019-08-01     A       719\n",
              "1 2019-08-02     A       619\n",
              "2 2019-08-03     A       507\n",
              "3 2019-08-04     A       717\n",
              "4 2019-08-05     A       756"
            ]
          },
          "metadata": {},
          "execution_count": 22
        }
      ]
    },
    {
      "cell_type": "markdown",
      "metadata": {
        "id": "4-tf0B_oY2iV"
      },
      "source": [
        "Перед тем, как приступать к анализу проведенного `А/В`-теста, проверим, не попали ли одни и теже пользователи в разные группы - таких пользователей будем исключать, чтобы не искажать результаты теста"
      ]
    },
    {
      "cell_type": "code",
      "metadata": {
        "colab": {
          "base_uri": "https://localhost:8080/"
        },
        "id": "sanYhgAoZOwU",
        "outputId": "7181e445-f912-46c3-bb1a-5172241e43e7"
      },
      "source": [
        "visitors_a_cnt = visitors.query('group == \"A\"')['visitors'].sum()\n",
        "visitors_b_cnt = visitors.query('group == \"B\"')['visitors'].sum()\n",
        "orders_a_cnt = orders.query('group == \"A\"').shape[0]\n",
        "orders_b_cnt = orders.query('group == \"B\"').shape[0]\n",
        "\n",
        "\n",
        "print(f'Визитов по группе А {visitors_a_cnt}')\n",
        "print(f'Визитов по группе В {visitors_b_cnt}')\n",
        "print(f'Заказов по группе А {orders_a_cnt}')\n",
        "print(f'Заказов по группе В {orders_b_cnt}')"
      ],
      "execution_count": 23,
      "outputs": [
        {
          "output_type": "stream",
          "name": "stdout",
          "text": [
            "Визитов по группе А 18736\n",
            "Визитов по группе В 18916\n",
            "Заказов по группе А 557\n",
            "Заказов по группе В 640\n"
          ]
        }
      ]
    },
    {
      "cell_type": "code",
      "metadata": {
        "colab": {
          "base_uri": "https://localhost:8080/"
        },
        "id": "tQBEh6MiXFI1",
        "outputId": "58f912dd-531b-48bd-c3e0-50bf29336c9c"
      },
      "source": [
        "visitors_uniqe_A = orders[orders['group']=='A']['visitorId']\n",
        "visitors_unique_B = orders[orders['group']=='B']['visitorId']\n",
        "visitors_A_B = (orders\n",
        "               .loc[orders['visitorId']\n",
        "                    .isin(visitors_uniqe_A) & orders['visitorId']\n",
        "                    .isin(visitors_unique_B),'visitorId'].unique()\n",
        "                    )\n",
        "print(f'Количество пользователей, попавших в обе группы: {len(visitors_A_B)}')"
      ],
      "execution_count": 24,
      "outputs": [
        {
          "output_type": "stream",
          "name": "stdout",
          "text": [
            "Количество пользователей, попавших в обе группы: 58\n"
          ]
        }
      ]
    },
    {
      "cell_type": "markdown",
      "metadata": {
        "id": "mrj1LA_HapBx"
      },
      "source": [
        "Необходимо убрать этих пользователей из дальнейшего анализа, чтобы не искажать результаты"
      ]
    },
    {
      "cell_type": "code",
      "metadata": {
        "id": "GZJISDwgXhIq"
      },
      "source": [
        "orders = orders.loc[~orders['visitorId'].isin(visitors_A_B)]"
      ],
      "execution_count": 25,
      "outputs": []
    },
    {
      "cell_type": "code",
      "metadata": {
        "colab": {
          "base_uri": "https://localhost:8080/",
          "height": 204
        },
        "id": "doMUPPudXiIO",
        "outputId": "5c8cdd5f-0246-4a85-a938-366d1b6acc18"
      },
      "source": [
        "orders.head()"
      ],
      "execution_count": 26,
      "outputs": [
        {
          "output_type": "execute_result",
          "data": {
            "text/html": [
              "<div>\n",
              "<style scoped>\n",
              "    .dataframe tbody tr th:only-of-type {\n",
              "        vertical-align: middle;\n",
              "    }\n",
              "\n",
              "    .dataframe tbody tr th {\n",
              "        vertical-align: top;\n",
              "    }\n",
              "\n",
              "    .dataframe thead th {\n",
              "        text-align: right;\n",
              "    }\n",
              "</style>\n",
              "<table border=\"1\" class=\"dataframe\">\n",
              "  <thead>\n",
              "    <tr style=\"text-align: right;\">\n",
              "      <th></th>\n",
              "      <th>transactionId</th>\n",
              "      <th>visitorId</th>\n",
              "      <th>date</th>\n",
              "      <th>revenue</th>\n",
              "      <th>group</th>\n",
              "    </tr>\n",
              "  </thead>\n",
              "  <tbody>\n",
              "    <tr>\n",
              "      <th>0</th>\n",
              "      <td>3667963787</td>\n",
              "      <td>3312258926</td>\n",
              "      <td>2019-08-15</td>\n",
              "      <td>1650</td>\n",
              "      <td>B</td>\n",
              "    </tr>\n",
              "    <tr>\n",
              "      <th>1</th>\n",
              "      <td>2804400009</td>\n",
              "      <td>3642806036</td>\n",
              "      <td>2019-08-15</td>\n",
              "      <td>730</td>\n",
              "      <td>B</td>\n",
              "    </tr>\n",
              "    <tr>\n",
              "      <th>3</th>\n",
              "      <td>3797467345</td>\n",
              "      <td>1196621759</td>\n",
              "      <td>2019-08-15</td>\n",
              "      <td>9759</td>\n",
              "      <td>B</td>\n",
              "    </tr>\n",
              "    <tr>\n",
              "      <th>4</th>\n",
              "      <td>2282983706</td>\n",
              "      <td>2322279887</td>\n",
              "      <td>2019-08-15</td>\n",
              "      <td>2308</td>\n",
              "      <td>B</td>\n",
              "    </tr>\n",
              "    <tr>\n",
              "      <th>5</th>\n",
              "      <td>182168103</td>\n",
              "      <td>935554773</td>\n",
              "      <td>2019-08-15</td>\n",
              "      <td>2210</td>\n",
              "      <td>B</td>\n",
              "    </tr>\n",
              "  </tbody>\n",
              "</table>\n",
              "</div>"
            ],
            "text/plain": [
              "   transactionId   visitorId       date  revenue group\n",
              "0     3667963787  3312258926 2019-08-15     1650     B\n",
              "1     2804400009  3642806036 2019-08-15      730     B\n",
              "3     3797467345  1196621759 2019-08-15     9759     B\n",
              "4     2282983706  2322279887 2019-08-15     2308     B\n",
              "5      182168103   935554773 2019-08-15     2210     B"
            ]
          },
          "metadata": {},
          "execution_count": 26
        }
      ]
    },
    {
      "cell_type": "markdown",
      "metadata": {
        "id": "NTJnVHJ0hZad"
      },
      "source": [
        "<a href=\"#footer\">К содержанию</a>\n",
        "<footer id=\"footer\"></footer>\n",
        "\n",
        "---"
      ]
    },
    {
      "cell_type": "markdown",
      "metadata": {
        "id": "l_R4gOuebO3X"
      },
      "source": [
        "### График кумулятивной выручки по группам"
      ]
    },
    {
      "cell_type": "markdown",
      "metadata": {
        "id": "OLx9nsEKcu4h"
      },
      "source": [
        "Чтобы исключить проблему подсматривания, анализируем графики метрик  \n",
        "Создадим массив уникальных пар значений дат и групп теста:"
      ]
    },
    {
      "cell_type": "code",
      "metadata": {
        "id": "mQgfson7cBEx"
      },
      "source": [
        "dates_groups = orders[['date', 'group']].drop_duplicates()"
      ],
      "execution_count": 27,
      "outputs": []
    },
    {
      "cell_type": "markdown",
      "metadata": {
        "id": "pp6kxtoHb0R2"
      },
      "source": [
        "Соберём агрегированные кумулятивные по дням данные о заказах:"
      ]
    },
    {
      "cell_type": "code",
      "metadata": {
        "id": "RR1LmIW1Xl9_"
      },
      "source": [
        "orders_aggregated = dates_groups.apply(\n",
        "    lambda x: orders[\n",
        "        np.logical_and(\n",
        "            orders['date'] <= x['date'], orders['group'] == x['group']\n",
        "        )\n",
        "    ].agg(\n",
        "        {\n",
        "            'date': 'max',\n",
        "            'group': 'max',\n",
        "            'transactionId': pd.Series.nunique,\n",
        "            'visitorId': pd.Series.nunique,\n",
        "            'revenue': 'sum',\n",
        "        }\n",
        "    ),\n",
        "    axis=1,\n",
        ").sort_values(by=['date', 'group'])"
      ],
      "execution_count": 28,
      "outputs": []
    },
    {
      "cell_type": "code",
      "metadata": {
        "colab": {
          "base_uri": "https://localhost:8080/",
          "height": 204
        },
        "id": "AB7TpCzEbZl4",
        "outputId": "d3e41672-f14f-43d1-80c4-77d95d5c44f5"
      },
      "source": [
        "orders_aggregated.head()"
      ],
      "execution_count": 29,
      "outputs": [
        {
          "output_type": "execute_result",
          "data": {
            "text/html": [
              "<div>\n",
              "<style scoped>\n",
              "    .dataframe tbody tr th:only-of-type {\n",
              "        vertical-align: middle;\n",
              "    }\n",
              "\n",
              "    .dataframe tbody tr th {\n",
              "        vertical-align: top;\n",
              "    }\n",
              "\n",
              "    .dataframe thead th {\n",
              "        text-align: right;\n",
              "    }\n",
              "</style>\n",
              "<table border=\"1\" class=\"dataframe\">\n",
              "  <thead>\n",
              "    <tr style=\"text-align: right;\">\n",
              "      <th></th>\n",
              "      <th>date</th>\n",
              "      <th>group</th>\n",
              "      <th>transactionId</th>\n",
              "      <th>visitorId</th>\n",
              "      <th>revenue</th>\n",
              "    </tr>\n",
              "  </thead>\n",
              "  <tbody>\n",
              "    <tr>\n",
              "      <th>55</th>\n",
              "      <td>2019-08-01</td>\n",
              "      <td>A</td>\n",
              "      <td>23</td>\n",
              "      <td>19</td>\n",
              "      <td>142779</td>\n",
              "    </tr>\n",
              "    <tr>\n",
              "      <th>66</th>\n",
              "      <td>2019-08-01</td>\n",
              "      <td>B</td>\n",
              "      <td>17</td>\n",
              "      <td>17</td>\n",
              "      <td>59758</td>\n",
              "    </tr>\n",
              "    <tr>\n",
              "      <th>175</th>\n",
              "      <td>2019-08-02</td>\n",
              "      <td>A</td>\n",
              "      <td>42</td>\n",
              "      <td>36</td>\n",
              "      <td>234381</td>\n",
              "    </tr>\n",
              "    <tr>\n",
              "      <th>173</th>\n",
              "      <td>2019-08-02</td>\n",
              "      <td>B</td>\n",
              "      <td>40</td>\n",
              "      <td>39</td>\n",
              "      <td>221801</td>\n",
              "    </tr>\n",
              "    <tr>\n",
              "      <th>291</th>\n",
              "      <td>2019-08-03</td>\n",
              "      <td>A</td>\n",
              "      <td>66</td>\n",
              "      <td>60</td>\n",
              "      <td>346854</td>\n",
              "    </tr>\n",
              "  </tbody>\n",
              "</table>\n",
              "</div>"
            ],
            "text/plain": [
              "          date group  transactionId  visitorId  revenue\n",
              "55  2019-08-01     A             23         19   142779\n",
              "66  2019-08-01     B             17         17    59758\n",
              "175 2019-08-02     A             42         36   234381\n",
              "173 2019-08-02     B             40         39   221801\n",
              "291 2019-08-03     A             66         60   346854"
            ]
          },
          "metadata": {},
          "execution_count": 29
        }
      ]
    },
    {
      "cell_type": "markdown",
      "metadata": {
        "id": "BSHNSEMmccM1"
      },
      "source": [
        "Аналогично получим агрегированные кумулятивные по дням данные о посетителях:"
      ]
    },
    {
      "cell_type": "code",
      "metadata": {
        "id": "qSy80j1mbo31"
      },
      "source": [
        "visitors_aggregated = dates_groups.apply(\n",
        "    lambda x: visitors[\n",
        "        np.logical_and(\n",
        "            visitors['date'] <= x['date'], visitors['group'] == x['group']\n",
        "        )\n",
        "    ].agg({'date': 'max', 'group': 'max', 'visitors': 'sum'}),\n",
        "    axis=1,\n",
        ").sort_values(by=['date', 'group'])"
      ],
      "execution_count": 30,
      "outputs": []
    },
    {
      "cell_type": "code",
      "metadata": {
        "colab": {
          "base_uri": "https://localhost:8080/",
          "height": 204
        },
        "id": "ecu8gBplcY9C",
        "outputId": "946190d5-aa78-4267-f0a9-377646428601"
      },
      "source": [
        "visitors_aggregated.head()"
      ],
      "execution_count": 31,
      "outputs": [
        {
          "output_type": "execute_result",
          "data": {
            "text/html": [
              "<div>\n",
              "<style scoped>\n",
              "    .dataframe tbody tr th:only-of-type {\n",
              "        vertical-align: middle;\n",
              "    }\n",
              "\n",
              "    .dataframe tbody tr th {\n",
              "        vertical-align: top;\n",
              "    }\n",
              "\n",
              "    .dataframe thead th {\n",
              "        text-align: right;\n",
              "    }\n",
              "</style>\n",
              "<table border=\"1\" class=\"dataframe\">\n",
              "  <thead>\n",
              "    <tr style=\"text-align: right;\">\n",
              "      <th></th>\n",
              "      <th>date</th>\n",
              "      <th>group</th>\n",
              "      <th>visitors</th>\n",
              "    </tr>\n",
              "  </thead>\n",
              "  <tbody>\n",
              "    <tr>\n",
              "      <th>55</th>\n",
              "      <td>2019-08-01</td>\n",
              "      <td>A</td>\n",
              "      <td>719</td>\n",
              "    </tr>\n",
              "    <tr>\n",
              "      <th>66</th>\n",
              "      <td>2019-08-01</td>\n",
              "      <td>B</td>\n",
              "      <td>713</td>\n",
              "    </tr>\n",
              "    <tr>\n",
              "      <th>175</th>\n",
              "      <td>2019-08-02</td>\n",
              "      <td>A</td>\n",
              "      <td>1338</td>\n",
              "    </tr>\n",
              "    <tr>\n",
              "      <th>173</th>\n",
              "      <td>2019-08-02</td>\n",
              "      <td>B</td>\n",
              "      <td>1294</td>\n",
              "    </tr>\n",
              "    <tr>\n",
              "      <th>291</th>\n",
              "      <td>2019-08-03</td>\n",
              "      <td>A</td>\n",
              "      <td>1845</td>\n",
              "    </tr>\n",
              "  </tbody>\n",
              "</table>\n",
              "</div>"
            ],
            "text/plain": [
              "          date group  visitors\n",
              "55  2019-08-01     A       719\n",
              "66  2019-08-01     B       713\n",
              "175 2019-08-02     A      1338\n",
              "173 2019-08-02     B      1294\n",
              "291 2019-08-03     A      1845"
            ]
          },
          "metadata": {},
          "execution_count": 31
        }
      ]
    },
    {
      "cell_type": "markdown",
      "metadata": {
        "id": "umWBB_wac7FO"
      },
      "source": [
        "Объединим обе таблицы в одну и получим таблицу с куммулятивными значениями:"
      ]
    },
    {
      "cell_type": "code",
      "metadata": {
        "id": "32r0UAEpca5m"
      },
      "source": [
        "cumulative_data = orders_aggregated.merge(\n",
        "    visitors_aggregated, left_on=['date', 'group'], right_on=['date', 'group']\n",
        ")"
      ],
      "execution_count": 32,
      "outputs": []
    },
    {
      "cell_type": "code",
      "metadata": {
        "colab": {
          "base_uri": "https://localhost:8080/",
          "height": 204
        },
        "id": "9eg1u5XJdA6a",
        "outputId": "509b8aee-20be-45c6-88d7-56dd83e5e350"
      },
      "source": [
        "cumulative_data.head()"
      ],
      "execution_count": 33,
      "outputs": [
        {
          "output_type": "execute_result",
          "data": {
            "text/html": [
              "<div>\n",
              "<style scoped>\n",
              "    .dataframe tbody tr th:only-of-type {\n",
              "        vertical-align: middle;\n",
              "    }\n",
              "\n",
              "    .dataframe tbody tr th {\n",
              "        vertical-align: top;\n",
              "    }\n",
              "\n",
              "    .dataframe thead th {\n",
              "        text-align: right;\n",
              "    }\n",
              "</style>\n",
              "<table border=\"1\" class=\"dataframe\">\n",
              "  <thead>\n",
              "    <tr style=\"text-align: right;\">\n",
              "      <th></th>\n",
              "      <th>date</th>\n",
              "      <th>group</th>\n",
              "      <th>transactionId</th>\n",
              "      <th>visitorId</th>\n",
              "      <th>revenue</th>\n",
              "      <th>visitors</th>\n",
              "    </tr>\n",
              "  </thead>\n",
              "  <tbody>\n",
              "    <tr>\n",
              "      <th>0</th>\n",
              "      <td>2019-08-01</td>\n",
              "      <td>A</td>\n",
              "      <td>23</td>\n",
              "      <td>19</td>\n",
              "      <td>142779</td>\n",
              "      <td>719</td>\n",
              "    </tr>\n",
              "    <tr>\n",
              "      <th>1</th>\n",
              "      <td>2019-08-01</td>\n",
              "      <td>B</td>\n",
              "      <td>17</td>\n",
              "      <td>17</td>\n",
              "      <td>59758</td>\n",
              "      <td>713</td>\n",
              "    </tr>\n",
              "    <tr>\n",
              "      <th>2</th>\n",
              "      <td>2019-08-02</td>\n",
              "      <td>A</td>\n",
              "      <td>42</td>\n",
              "      <td>36</td>\n",
              "      <td>234381</td>\n",
              "      <td>1338</td>\n",
              "    </tr>\n",
              "    <tr>\n",
              "      <th>3</th>\n",
              "      <td>2019-08-02</td>\n",
              "      <td>B</td>\n",
              "      <td>40</td>\n",
              "      <td>39</td>\n",
              "      <td>221801</td>\n",
              "      <td>1294</td>\n",
              "    </tr>\n",
              "    <tr>\n",
              "      <th>4</th>\n",
              "      <td>2019-08-03</td>\n",
              "      <td>A</td>\n",
              "      <td>66</td>\n",
              "      <td>60</td>\n",
              "      <td>346854</td>\n",
              "      <td>1845</td>\n",
              "    </tr>\n",
              "  </tbody>\n",
              "</table>\n",
              "</div>"
            ],
            "text/plain": [
              "        date group  transactionId  visitorId  revenue  visitors\n",
              "0 2019-08-01     A             23         19   142779       719\n",
              "1 2019-08-01     B             17         17    59758       713\n",
              "2 2019-08-02     A             42         36   234381      1338\n",
              "3 2019-08-02     B             40         39   221801      1294\n",
              "4 2019-08-03     A             66         60   346854      1845"
            ]
          },
          "metadata": {},
          "execution_count": 33
        }
      ]
    },
    {
      "cell_type": "code",
      "metadata": {
        "id": "TeZV0mYrdCWh"
      },
      "source": [
        "cumulative_data.columns = [\n",
        "    'date',\n",
        "    'group',\n",
        "    'orders',\n",
        "    'buyers',\n",
        "    'revenue',\n",
        "    'visitors',\n",
        "]"
      ],
      "execution_count": 34,
      "outputs": []
    },
    {
      "cell_type": "code",
      "metadata": {
        "colab": {
          "base_uri": "https://localhost:8080/",
          "height": 386
        },
        "id": "4YhGqmiQdM-y",
        "outputId": "77c297f9-ee9f-44e0-b649-4b6676ad1fa6"
      },
      "source": [
        "cumulative_revenue_A = cumulative_data[cumulative_data['group']=='A'][['date','revenue', 'orders']]\n",
        "cumulative_revenue_B = cumulative_data[cumulative_data['group']=='B'][['date','revenue', 'orders']]\n",
        "plt.figure(figsize=(15, 5))\n",
        "\n",
        "plt.plot(cumulative_revenue_A['date'], cumulative_revenue_A['revenue'], label='A')\n",
        "plt.plot(cumulative_revenue_B['date'], cumulative_revenue_B['revenue'], label='B')\n",
        "\n",
        "\n",
        "plt.xticks(rotation=42)\n",
        "plt.title('Кумулятивная выручка по группам А и В')\n",
        "plt.xlabel('Дата наблюдения')\n",
        "plt.ylabel('Кумулятивная выручка')\n",
        "\n",
        "plt.legend()\n",
        "plt.show()"
      ],
      "execution_count": 35,
      "outputs": [
        {
          "output_type": "display_data",
          "data": {
            "image/png": "[encoded data removed]",
            "text/plain": [
              "<Figure size 1080x360 with 1 Axes>"
            ]
          },
          "metadata": {
            "needs_background": "light"
          }
        }
      ]
    },
    {
      "cell_type": "markdown",
      "metadata": {
        "id": "tEbgFRyHdzvI"
      },
      "source": [
        "Выручка почти равномерно увеличивается в течение всего теста. \n",
        "Однако графики выручки группы В резко растет после `18.08.2019`. Это может сигнализировать о всплесках числа заказов, либо о появлении очень дорогих заказов в выборке"
      ]
    },
    {
      "cell_type": "markdown",
      "metadata": {
        "id": "OX11fzyahbGX"
      },
      "source": [
        "<a href=\"#footer\">К содержанию</a>\n",
        "<footer id=\"footer\"></footer>\n",
        "\n",
        "---"
      ]
    },
    {
      "cell_type": "markdown",
      "metadata": {
        "id": "k1dV-JdCeF-x"
      },
      "source": [
        "### График кумулятивного среднего чека по группам"
      ]
    },
    {
      "cell_type": "markdown",
      "metadata": {
        "id": "NxWoq2m-eMs7"
      },
      "source": [
        "Построим график среднего чека по группам:  разделим кумулятивную выручку на кумулятивное число заказов. Таблицы уже подготовлены выше"
      ]
    },
    {
      "cell_type": "code",
      "metadata": {
        "colab": {
          "base_uri": "https://localhost:8080/",
          "height": 386
        },
        "id": "4bu3RuOGdaRq",
        "outputId": "5ee7a52a-0fb6-4236-a581-24b6cadb1466"
      },
      "source": [
        "plt.figure(figsize=(15, 5))\n",
        "plt.plot(cumulative_revenue_A['date'], cumulative_revenue_A['revenue']/cumulative_revenue_A['orders'], label='A')\n",
        "plt.plot(cumulative_revenue_B['date'], cumulative_revenue_B['revenue']/cumulative_revenue_B['orders'], label='B')\n",
        "plt.xticks(rotation=42)\n",
        "plt.title('График среднего чека по группам А и В')\n",
        "plt.xlabel('Дата наблюдения')\n",
        "plt.ylabel('Размер среднего чека')\n",
        "plt.legend()\n",
        "plt.show()"
      ],
      "execution_count": 36,
      "outputs": [
        {
          "output_type": "display_data",
          "data": {
            "image/png": "[encoded data removed]",
            "text/plain": [
              "<Figure size 1080x360 with 1 Axes>"
            ]
          },
          "metadata": {
            "needs_background": "light"
          }
        }
      ]
    },
    {
      "cell_type": "markdown",
      "metadata": {
        "id": "0AQYhbfehG1v"
      },
      "source": [
        "Аналогично наблюдаем резкий скачок у группы В - вероятнее всего у нас есть дорогая покупка - будем анализировать в дальнейшем. Принимать решение по данной метрике рано"
      ]
    },
    {
      "cell_type": "markdown",
      "metadata": {
        "id": "pxkA7ONehb33"
      },
      "source": [
        "<a href=\"#footer\">К содержанию</a>\n",
        "<footer id=\"footer\"></footer>\n",
        "\n",
        "---"
      ]
    },
    {
      "cell_type": "markdown",
      "metadata": {
        "id": "jqSb-NdLhupN"
      },
      "source": [
        "### График относительного изменения кумулятивного среднего чека группы B к группе A"
      ]
    },
    {
      "cell_type": "markdown",
      "metadata": {
        "id": "SXm1_gZ_x-re"
      },
      "source": [
        "<a id='graf_check'></a>"
      ]
    },
    {
      "cell_type": "markdown",
      "metadata": {
        "id": "Q34Zt9A8h5IT"
      },
      "source": [
        "Построим график относительного различия для среднего чека. Добавим горизонтальную ось методом `axhline()` "
      ]
    },
    {
      "cell_type": "code",
      "metadata": {
        "colab": {
          "base_uri": "https://localhost:8080/",
          "height": 386
        },
        "id": "Iwmcr6DNePR-",
        "outputId": "6ccbca7e-e87f-4fee-ca3c-31e85f18e6e5"
      },
      "source": [
        "merged_cumulative_revenue = (cumulative_revenue_A\n",
        "                           .merge(cumulative_revenue_B, \n",
        "                                  left_on='date'\n",
        "                                  , right_on='date'\n",
        "                                  , how='left'\n",
        "                                  , suffixes=['A', 'B'])\n",
        "                           )\n",
        "rel_cumulative = ((merged_cumulative_revenue['revenueB']/merged_cumulative_revenue['ordersB'])\n",
        "                  /(merged_cumulative_revenue['revenueA']/merged_cumulative_revenue['ordersA'])-1)\n",
        "\n",
        "plt.figure(figsize=(15, 5))\n",
        "plt.plot(merged_cumulative_revenue['date'], rel_cumulative)\n",
        "plt.axhline(y=0, color='black', linestyle='--')\n",
        "plt.xlabel('Дата наблюдения')\n",
        "plt.ylabel('Относительное изменение кумулятивного среднего')\n",
        "plt.xticks(rotation=42)\n",
        "plt.title('График относительного изменения кумулятивного среднего чека группы B к группе A')\n",
        "plt.show()"
      ],
      "execution_count": 37,
      "outputs": [
        {
          "output_type": "display_data",
          "data": {
            "image/png": "[encoded data removed]",
            "text/plain": [
              "<Figure size 1080x360 with 1 Axes>"
            ]
          },
          "metadata": {
            "needs_background": "light"
          }
        }
      ]
    },
    {
      "cell_type": "markdown",
      "metadata": {
        "id": "k_JCYZM2i2aM"
      },
      "source": [
        "В нескольких точках график различия между сегментами резко «скачет». Подтверждается наше предположения о выбросах и крупных заказах"
      ]
    },
    {
      "cell_type": "markdown",
      "metadata": {
        "id": "oA9baN_2i86G"
      },
      "source": [
        "<a href=\"#footer\">К содержанию</a>\n",
        "<footer id=\"footer\"></footer>\n",
        "\n",
        "---"
      ]
    },
    {
      "cell_type": "markdown",
      "metadata": {
        "id": "8ClHBI6zjDs9"
      },
      "source": [
        "### График кумулятивной конверсии по группам"
      ]
    },
    {
      "cell_type": "markdown",
      "metadata": {
        "id": "gq2vxftLjJ2Z"
      },
      "source": [
        "Аналогично проанализируем график кумулятивной конверсии"
      ]
    },
    {
      "cell_type": "code",
      "metadata": {
        "colab": {
          "base_uri": "https://localhost:8080/",
          "height": 386
        },
        "id": "HMtBelznicvQ",
        "outputId": "7537f9b7-cc96-4bf7-bddf-03eaf38c8337"
      },
      "source": [
        "cumulative_data['conversion'] = cumulative_data['orders']/cumulative_data['visitors']\n",
        "cumulative_data_A = cumulative_data[cumulative_data['group']=='A']\n",
        "cumulative_data_B = cumulative_data[cumulative_data['group']=='B']\n",
        "\n",
        "plt.figure(figsize=(15, 5))\n",
        "plt.plot(cumulative_data_A['date'], cumulative_data_A['conversion'], label='A')\n",
        "plt.plot(cumulative_data_B['date'], cumulative_data_B['conversion'], label='B')\n",
        "plt.legend()\n",
        "\n",
        "min_ = cumulative_data_A['date'].min()\n",
        "max_ = cumulative_data_A['date'].max()\n",
        "\n",
        "plt.xlabel('Дата наблюдения')\n",
        "plt.ylabel('Кумулятивная конверсия')\n",
        "\n",
        "plt.axis([min_, max_, 0.015, 0.04])\n",
        "plt.xticks(rotation=42)\n",
        "plt.title('График кумулятивной конверсии по группам')\n",
        "plt.show()"
      ],
      "execution_count": 38,
      "outputs": [
        {
          "output_type": "display_data",
          "data": {
            "image/png": "[encoded data removed]",
            "text/plain": [
              "<Figure size 1080x360 with 1 Axes>"
            ]
          },
          "metadata": {
            "needs_background": "light"
          }
        }
      ]
    },
    {
      "cell_type": "markdown",
      "metadata": {
        "id": "tPHI118Fk9I6"
      },
      "source": [
        "Получили симметричный график. Группы колебались около одного значения, но затем конверсия группы В вырвалась вперёд и зафиксировалась, а конверсия группы А просела и также зафиксировалась."
      ]
    },
    {
      "cell_type": "markdown",
      "metadata": {
        "id": "c_Q5Cjt1nB5q"
      },
      "source": [
        "<a href=\"#footer\">К содержанию</a>\n",
        "<footer id=\"footer\"></footer>\n",
        "\n",
        "---"
      ]
    },
    {
      "cell_type": "markdown",
      "metadata": {
        "id": "QQKGNi4AlH7O"
      },
      "source": [
        "## График относительного изменения кумулятивной конверсии группы B к группе A"
      ]
    },
    {
      "cell_type": "markdown",
      "metadata": {
        "id": "nYOjDitBx64h"
      },
      "source": [
        "<a id='graf'></a>"
      ]
    },
    {
      "cell_type": "markdown",
      "metadata": {
        "id": "nszSfo-MlL3G"
      },
      "source": [
        "Построим график относительного различия кумулятивных конверсий:"
      ]
    },
    {
      "cell_type": "code",
      "metadata": {
        "colab": {
          "base_uri": "https://localhost:8080/",
          "height": 386
        },
        "id": "OALpMZsMkaoT",
        "outputId": "d7f360d5-98b8-4d00-b2e5-b55a8dd4b753"
      },
      "source": [
        "merged_cumulative_conversions = (cumulative_data_A[['date','conversion']]\n",
        "                               .merge(cumulative_data_B[['date','conversion']]\n",
        "                                      , left_on='date'\n",
        "                                      , right_on='date'\n",
        "                                      , how='left'\n",
        "                                      , suffixes=['A', 'B'])\n",
        "                               )\n",
        "\n",
        "cumm_convesrion = merged_cumulative_conversions['conversionB']/merged_cumulative_conversions['conversionA']-1\n",
        "plt.figure(figsize=(15, 5))\n",
        "plt.plot(merged_cumulative_conversions['date'], \n",
        "         cumm_convesrion , \n",
        "         label=\"Относительный прирост конверсии группы B относительно группы A\")\n",
        "plt.legend()\n",
        "\n",
        "plt.axhline(y=0, color='black', linestyle='--')\n",
        "plt.axhline(y=0.16, color='grey', linestyle='--')\n",
        "plt.axis([min_, max_, -0.6, 0.6])\n",
        "plt.xticks(rotation=42)\n",
        "\n",
        "plt.xlabel('Дата наблюдения')\n",
        "plt.ylabel('Относительное изменение кумулятивной конверсии')\n",
        "\n",
        "plt.title('График относительного изменения кумулятивной конверсии группы B к группе A')\n",
        "plt.show()"
      ],
      "execution_count": 39,
      "outputs": [
        {
          "output_type": "display_data",
          "data": {
            "image/png": "[encoded data removed]",
            "text/plain": [
              "<Figure size 1080x360 with 1 Axes>"
            ]
          },
          "metadata": {
            "needs_background": "light"
          }
        }
      ]
    },
    {
      "cell_type": "markdown",
      "metadata": {
        "id": "I8BQMIhvmtHw"
      },
      "source": [
        "Группа В начала лидировать с начала теста и затем зафиксировалась около прироста примерно в 16% относительно группы А"
      ]
    },
    {
      "cell_type": "markdown",
      "metadata": {
        "id": "ousoPhxQm45L"
      },
      "source": [
        "В целом отношение конверсии ещё не установилось. Необходимо проанализивароть аномалии и выбросы"
      ]
    },
    {
      "cell_type": "markdown",
      "metadata": {
        "id": "2TrCG0i6nC3L"
      },
      "source": [
        "<a href=\"#footer\">К содержанию</a>\n",
        "<footer id=\"footer\"></footer>\n",
        "\n",
        "---"
      ]
    },
    {
      "cell_type": "markdown",
      "metadata": {
        "id": "jusd6_xHrGPk"
      },
      "source": [
        "## Анализ выбросов и всплесков: крайние значения данных"
      ]
    },
    {
      "cell_type": "markdown",
      "metadata": {
        "id": "A5trnj_gnFwh"
      },
      "source": [
        "### Точечный график количества заказов по пользователям. 95ый и 99ый перцентили"
      ]
    },
    {
      "cell_type": "markdown",
      "metadata": {
        "id": "Xs3aLeRjnqb8"
      },
      "source": [
        "Подсчитаем количество заказов по пользователям и посмотрим на результат"
      ]
    },
    {
      "cell_type": "code",
      "metadata": {
        "colab": {
          "base_uri": "https://localhost:8080/",
          "height": 204
        },
        "id": "UrHomBjrp67k",
        "outputId": "ab58d581-6af9-4dc4-fe3d-102eeb9d7509"
      },
      "source": [
        "orders.head()"
      ],
      "execution_count": 40,
      "outputs": [
        {
          "output_type": "execute_result",
          "data": {
            "text/html": [
              "<div>\n",
              "<style scoped>\n",
              "    .dataframe tbody tr th:only-of-type {\n",
              "        vertical-align: middle;\n",
              "    }\n",
              "\n",
              "    .dataframe tbody tr th {\n",
              "        vertical-align: top;\n",
              "    }\n",
              "\n",
              "    .dataframe thead th {\n",
              "        text-align: right;\n",
              "    }\n",
              "</style>\n",
              "<table border=\"1\" class=\"dataframe\">\n",
              "  <thead>\n",
              "    <tr style=\"text-align: right;\">\n",
              "      <th></th>\n",
              "      <th>transactionId</th>\n",
              "      <th>visitorId</th>\n",
              "      <th>date</th>\n",
              "      <th>revenue</th>\n",
              "      <th>group</th>\n",
              "    </tr>\n",
              "  </thead>\n",
              "  <tbody>\n",
              "    <tr>\n",
              "      <th>0</th>\n",
              "      <td>3667963787</td>\n",
              "      <td>3312258926</td>\n",
              "      <td>2019-08-15</td>\n",
              "      <td>1650</td>\n",
              "      <td>B</td>\n",
              "    </tr>\n",
              "    <tr>\n",
              "      <th>1</th>\n",
              "      <td>2804400009</td>\n",
              "      <td>3642806036</td>\n",
              "      <td>2019-08-15</td>\n",
              "      <td>730</td>\n",
              "      <td>B</td>\n",
              "    </tr>\n",
              "    <tr>\n",
              "      <th>3</th>\n",
              "      <td>3797467345</td>\n",
              "      <td>1196621759</td>\n",
              "      <td>2019-08-15</td>\n",
              "      <td>9759</td>\n",
              "      <td>B</td>\n",
              "    </tr>\n",
              "    <tr>\n",
              "      <th>4</th>\n",
              "      <td>2282983706</td>\n",
              "      <td>2322279887</td>\n",
              "      <td>2019-08-15</td>\n",
              "      <td>2308</td>\n",
              "      <td>B</td>\n",
              "    </tr>\n",
              "    <tr>\n",
              "      <th>5</th>\n",
              "      <td>182168103</td>\n",
              "      <td>935554773</td>\n",
              "      <td>2019-08-15</td>\n",
              "      <td>2210</td>\n",
              "      <td>B</td>\n",
              "    </tr>\n",
              "  </tbody>\n",
              "</table>\n",
              "</div>"
            ],
            "text/plain": [
              "   transactionId   visitorId       date  revenue group\n",
              "0     3667963787  3312258926 2019-08-15     1650     B\n",
              "1     2804400009  3642806036 2019-08-15      730     B\n",
              "3     3797467345  1196621759 2019-08-15     9759     B\n",
              "4     2282983706  2322279887 2019-08-15     2308     B\n",
              "5      182168103   935554773 2019-08-15     2210     B"
            ]
          },
          "metadata": {},
          "execution_count": 40
        }
      ]
    },
    {
      "cell_type": "code",
      "metadata": {
        "colab": {
          "base_uri": "https://localhost:8080/",
          "height": 359
        },
        "id": "iR4DMhKHp1xb",
        "outputId": "4e770957-3038-4e02-869f-f196509b242e"
      },
      "source": [
        "orders_by_users = (\n",
        "    orders.drop(['group', 'revenue', 'date'], axis=1)\n",
        "    .groupby('visitorId', as_index=False)\n",
        "    .agg({'transactionId': pd.Series.nunique})\n",
        ")\n",
        "\n",
        "orders_by_users.columns = ['userId', 'orders']\n",
        "\n",
        "display(orders_by_users.sort_values(by='orders', ascending=False).head(10)) "
      ],
      "execution_count": 41,
      "outputs": [
        {
          "output_type": "display_data",
          "data": {
            "text/html": [
              "<div>\n",
              "<style scoped>\n",
              "    .dataframe tbody tr th:only-of-type {\n",
              "        vertical-align: middle;\n",
              "    }\n",
              "\n",
              "    .dataframe tbody tr th {\n",
              "        vertical-align: top;\n",
              "    }\n",
              "\n",
              "    .dataframe thead th {\n",
              "        text-align: right;\n",
              "    }\n",
              "</style>\n",
              "<table border=\"1\" class=\"dataframe\">\n",
              "  <thead>\n",
              "    <tr style=\"text-align: right;\">\n",
              "      <th></th>\n",
              "      <th>userId</th>\n",
              "      <th>orders</th>\n",
              "    </tr>\n",
              "  </thead>\n",
              "  <tbody>\n",
              "    <tr>\n",
              "      <th>908</th>\n",
              "      <td>3967698036</td>\n",
              "      <td>3</td>\n",
              "    </tr>\n",
              "    <tr>\n",
              "      <th>55</th>\n",
              "      <td>249864742</td>\n",
              "      <td>3</td>\n",
              "    </tr>\n",
              "    <tr>\n",
              "      <th>478</th>\n",
              "      <td>2108163459</td>\n",
              "      <td>3</td>\n",
              "    </tr>\n",
              "    <tr>\n",
              "      <th>687</th>\n",
              "      <td>2988190573</td>\n",
              "      <td>3</td>\n",
              "    </tr>\n",
              "    <tr>\n",
              "      <th>890</th>\n",
              "      <td>3908431265</td>\n",
              "      <td>3</td>\n",
              "    </tr>\n",
              "    <tr>\n",
              "      <th>138</th>\n",
              "      <td>611059232</td>\n",
              "      <td>3</td>\n",
              "    </tr>\n",
              "    <tr>\n",
              "      <th>632</th>\n",
              "      <td>2742574263</td>\n",
              "      <td>3</td>\n",
              "    </tr>\n",
              "    <tr>\n",
              "      <th>157</th>\n",
              "      <td>678354126</td>\n",
              "      <td>2</td>\n",
              "    </tr>\n",
              "    <tr>\n",
              "      <th>323</th>\n",
              "      <td>1404560065</td>\n",
              "      <td>2</td>\n",
              "    </tr>\n",
              "    <tr>\n",
              "      <th>452</th>\n",
              "      <td>1985475298</td>\n",
              "      <td>2</td>\n",
              "    </tr>\n",
              "  </tbody>\n",
              "</table>\n",
              "</div>"
            ],
            "text/plain": [
              "         userId  orders\n",
              "908  3967698036       3\n",
              "55    249864742       3\n",
              "478  2108163459       3\n",
              "687  2988190573       3\n",
              "890  3908431265       3\n",
              "138   611059232       3\n",
              "632  2742574263       3\n",
              "157   678354126       2\n",
              "323  1404560065       2\n",
              "452  1985475298       2"
            ]
          },
          "metadata": {}
        }
      ]
    },
    {
      "cell_type": "markdown",
      "metadata": {
        "id": "30SKNoenqKnJ"
      },
      "source": [
        "Построим гистрограмму распределения количества заказов на одного пользователя и точечную диаграмму числа заказов на одного пользователя:"
      ]
    },
    {
      "cell_type": "code",
      "metadata": {
        "colab": {
          "base_uri": "https://localhost:8080/",
          "height": 716
        },
        "id": "CV-9F8iCqLox",
        "outputId": "85d46146-dd9d-4bc1-8a07-5ca3648aa05a"
      },
      "source": [
        "plt.figure(figsize=(15, 15))\n",
        "plt.subplot(311)\n",
        "plt.hist(orders_by_users['orders'], ec='black', alpha=.7) \n",
        "plt.title('Гистрограмма распределения количества заказов на одного пользователя')\n",
        "plt.ylabel('Количество пользователей')\n",
        "plt.xlabel('Количество заказов')\n",
        "\n",
        "plt.subplot(312)\n",
        "x_values = pd.Series(range(0,len(orders_by_users)))\n",
        "\n",
        "sns.scatterplot(x=x_values, y='orders', \n",
        "                     data=orders_by_users, alpha=.7)\n",
        "plt.title('Точечный график количества заказов по пользователям')\n",
        "plt.ylabel('Количество заказов')\n",
        "plt.xlabel('Количество пользователей')\n",
        "plt.tight_layout()"
      ],
      "execution_count": 42,
      "outputs": [
        {
          "output_type": "display_data",
          "data": {
            "image/png": "[encoded data removed]",
            "text/plain": [
              "<Figure size 1080x1080 with 2 Axes>"
            ]
          },
          "metadata": {
            "needs_background": "light"
          }
        }
      ]
    },
    {
      "cell_type": "markdown",
      "metadata": {
        "id": "lzJ9CUJkqZVL"
      },
      "source": [
        "В основном пользователи делают 1 заказ, есть те, кто делают сразу 2 или, редко, 3. Посчитаем выборочные перцентили количества заказов на одного пользователя:"
      ]
    },
    {
      "cell_type": "code",
      "metadata": {
        "colab": {
          "base_uri": "https://localhost:8080/"
        },
        "id": "dFWtf4fpoAsk",
        "outputId": "4223c5de-9819-4455-a7ce-130bf055beeb"
      },
      "source": [
        "perc_ord = np.percentile(orders_by_users['orders'], [95, 99])\n",
        "print(perc_ord) "
      ],
      "execution_count": 43,
      "outputs": [
        {
          "output_type": "stream",
          "name": "stdout",
          "text": [
            "[1. 2.]\n"
          ]
        }
      ]
    },
    {
      "cell_type": "code",
      "metadata": {
        "colab": {
          "base_uri": "https://localhost:8080/"
        },
        "id": "kZWQfrt_wRHZ",
        "outputId": "fdb8d2d1-efe1-492a-a814-ef73a91db161"
      },
      "source": [
        "print(f'Не более 5% офрормляли более чем {perc_ord[0]} заказ, не более 1% - заказывали более {perc_ord[1]} раз')"
      ],
      "execution_count": 44,
      "outputs": [
        {
          "output_type": "stream",
          "name": "stdout",
          "text": [
            "Не более 5% офрормляли более чем 1.0 заказ, не более 1% - заказывали более 2.0 раз\n"
          ]
        }
      ]
    },
    {
      "cell_type": "markdown",
      "metadata": {
        "id": "xHCtChYErdU3"
      },
      "source": [
        "\n",
        "Разумно выбрать 1 или 2 заказа на одного пользователя за нижнюю границу числа заказов, и отсеять аномальных пользователей по ней. Удалим тех пользователей, что заказали 3 раза и более"
      ]
    },
    {
      "cell_type": "markdown",
      "metadata": {
        "id": "uPb0RwTFsP26"
      },
      "source": [
        "<a href=\"#footer\">К содержанию</a>\n",
        "<footer id=\"footer\"></footer>\n",
        "\n",
        "---"
      ]
    },
    {
      "cell_type": "markdown",
      "metadata": {
        "id": "65kRGYQ_sFPR"
      },
      "source": [
        "### Точечный график стоимостей заказов. 95ый и 99ый перцентили"
      ]
    },
    {
      "cell_type": "markdown",
      "metadata": {
        "id": "Xyo18kvqsdgI"
      },
      "source": [
        "Изучим гистограмму распределения стоимостей заказов:"
      ]
    },
    {
      "cell_type": "code",
      "metadata": {
        "colab": {
          "base_uri": "https://localhost:8080/",
          "height": 350
        },
        "id": "BDnjPUusraO2",
        "outputId": "2e1f1226-7924-49de-9656-61b1b11f3bcf"
      },
      "source": [
        "plt.figure(figsize=(15, 5))\n",
        "plt.hist(orders['revenue'], bins=100, ec='black', alpha=.84) \n",
        "plt.title('Гистрограмма распределения стоимостей заказов')\n",
        "plt.ticklabel_format(style='plain')\n",
        "linestyle = ['--', '-.']\n",
        "percentile = [95, 99]\n",
        "color = ['black', 'grey']\n",
        "for perc, line, col in zip(percentile, linestyle, color):\n",
        "    plt.axvline(x=np.percentile(orders['revenue'], perc), \n",
        "              linestyle = line, \n",
        "              label=f'{perc}',\n",
        "              color = col\n",
        "              )\n",
        "plt.xlabel('Стоимость заказа')\n",
        "plt.ylabel('Количество пользователей')\n",
        "plt.legend()\n",
        "plt.show()"
      ],
      "execution_count": 45,
      "outputs": [
        {
          "output_type": "display_data",
          "data": {
            "image/png": "[encoded data removed]",
            "text/plain": [
              "<Figure size 1080x360 with 1 Axes>"
            ]
          },
          "metadata": {
            "needs_background": "light"
          }
        }
      ]
    },
    {
      "cell_type": "markdown",
      "metadata": {
        "id": "nvn7Iz6KveCv"
      },
      "source": [
        "Мы наблюдаем выбросы по стоимости заказа. Посмотрим на точечном графике:"
      ]
    },
    {
      "cell_type": "code",
      "metadata": {
        "colab": {
          "base_uri": "https://localhost:8080/",
          "height": 350
        },
        "id": "xB5CqX8RutkU",
        "outputId": "8e8b6919-f2c0-49c4-fc2b-98e0545e0517"
      },
      "source": [
        "x_values = pd.Series(range(0,len(orders)))\n",
        "plt.figure(figsize=(15, 5))\n",
        "sns.scatterplot(x=x_values, y='revenue', hue='group',\n",
        "                     data=orders, alpha=.7)\n",
        "plt.xlabel('Количество пользователей')\n",
        "plt.ylabel('Стоимость заказа')\n",
        "plt.title('Точечный график стоимостей заказов')\n",
        "plt.show()"
      ],
      "execution_count": 46,
      "outputs": [
        {
          "output_type": "display_data",
          "data": {
            "image/png": "[encoded data removed]",
            "text/plain": [
              "<Figure size 1080x360 with 1 Axes>"
            ]
          },
          "metadata": {
            "needs_background": "light"
          }
        }
      ]
    },
    {
      "cell_type": "markdown",
      "metadata": {
        "id": "S1RT7jr0vkOb"
      },
      "source": [
        "Как видим - в группе В есть очень дорогой чек, который смещает нам метрики"
      ]
    },
    {
      "cell_type": "code",
      "metadata": {
        "colab": {
          "base_uri": "https://localhost:8080/"
        },
        "id": "_W_jVOTZuthF",
        "outputId": "f1c5202c-36ec-42ea-981c-c067feb30f17"
      },
      "source": [
        "perc = np.percentile(orders['revenue'], [95, 99])\n",
        "print(perc) "
      ],
      "execution_count": 47,
      "outputs": [
        {
          "output_type": "stream",
          "name": "stdout",
          "text": [
            "[26785. 53904.]\n"
          ]
        }
      ]
    },
    {
      "cell_type": "code",
      "metadata": {
        "colab": {
          "base_uri": "https://localhost:8080/"
        },
        "id": "GZ2qJyBov_bD",
        "outputId": "add2a253-cb8a-4832-ed6c-d0bd5921f306"
      },
      "source": [
        "print(f'Не более 5% заказов дороже {perc[0]} рублей, не более 1% - дороже {perc[1]} рублей')"
      ],
      "execution_count": 48,
      "outputs": [
        {
          "output_type": "stream",
          "name": "stdout",
          "text": [
            "Не более 5% заказов дороже 26785.0 рублей, не более 1% - дороже 53904.0 рублей\n"
          ]
        }
      ]
    },
    {
      "cell_type": "markdown",
      "metadata": {
        "id": "3dbFtMZqwuaX"
      },
      "source": [
        "Будем считать аномальными пользователями тех, что попали в 99 перцентиль и выше"
      ]
    },
    {
      "cell_type": "markdown",
      "metadata": {
        "id": "b0rD68h6wjYb"
      },
      "source": [
        "<a href=\"#footer\">К содержанию</a>\n",
        "<footer id=\"footer\"></footer>\n",
        "\n",
        "---"
      ]
    },
    {
      "cell_type": "markdown",
      "metadata": {
        "id": "3TAy1T0Ew7Kw"
      },
      "source": [
        "## Статистическая значимость различий"
      ]
    },
    {
      "cell_type": "markdown",
      "metadata": {
        "id": "EFElhUm-BzAl"
      },
      "source": [
        "Мы оценили результаты A/B-теста визуально и выяснили, что в данных, скорее всего, есть выбросы, также мы их обнаружили и нашли границы для их определения."
      ]
    },
    {
      "cell_type": "markdown",
      "metadata": {
        "id": "X411ueVXDrwL"
      },
      "source": [
        "Для удобства составим сет данных, состоящий из:\n",
        "\n",
        "\n",
        "- `orders_per_date_A` — количество заказов в выбранную дату в группе A;  \n",
        "- `revenue_per_date_A` — суммарная выручка в выбранную дату в группе A;\n",
        "- `orders_per_date_B` — количество заказов в выбранную дату в группе B;\n",
        "- `revenue_per_date_A` — суммарная выручка в выбранную дату в группе B;\n",
        "- `orders_cummulative_A` — суммарное число заказов до выбранной даты включительно в группе A;\n",
        "- `revenue_cummulative_A` — суммарная выручка до выбранной даты включительно в группе A;\n",
        "- `orders_cummulative_B` — суммарное количество заказов до выбранной даты включительно в группе B;\n",
        "- `revenue_cummulative_B` — суммарная выручка до выбранной даты включительно в группе B;\n",
        "- `visitors_per_date_A` — количество пользователей в выбранную дату в группе A;\n",
        "- `visitors_per_date_B` — количество пользователей в выбранную дату в группе B;\n",
        "- `visitors_cummulative_A` — количество пользователей до выбранной даты включительно в группе A;\n",
        "- `visitors_cummulative_B` — количество пользователей до выбранной даты включительно в группе B."
      ]
    },
    {
      "cell_type": "code",
      "metadata": {
        "colab": {
          "base_uri": "https://localhost:8080/",
          "height": 204
        },
        "id": "0zRI2YPdCC1m",
        "outputId": "847f70bb-6448-4b24-d321-9f3c4af25aef"
      },
      "source": [
        "visitors_per_date_A = visitors[visitors['group'] == 'A'][['date', 'visitors']]\n",
        "visitors_per_date_A.columns = ['date', 'visitors_per_date_A']\n",
        "\n",
        "visitors_cummulative_A = visitors_per_date_A.apply(\n",
        "    lambda x: visitors_per_date_A[visitors_per_date_A['date'] <= x['date']].agg(\n",
        "        {'date': 'max', 'visitors_per_date_A': 'sum'}\n",
        "    ),\n",
        "    axis=1,\n",
        ")\n",
        "visitors_cummulative_A.columns = ['date', 'visitors_cummulative_A']\n",
        "\n",
        "visitors_cummulative_A.head()"
      ],
      "execution_count": 49,
      "outputs": [
        {
          "output_type": "execute_result",
          "data": {
            "text/html": [
              "<div>\n",
              "<style scoped>\n",
              "    .dataframe tbody tr th:only-of-type {\n",
              "        vertical-align: middle;\n",
              "    }\n",
              "\n",
              "    .dataframe tbody tr th {\n",
              "        vertical-align: top;\n",
              "    }\n",
              "\n",
              "    .dataframe thead th {\n",
              "        text-align: right;\n",
              "    }\n",
              "</style>\n",
              "<table border=\"1\" class=\"dataframe\">\n",
              "  <thead>\n",
              "    <tr style=\"text-align: right;\">\n",
              "      <th></th>\n",
              "      <th>date</th>\n",
              "      <th>visitors_cummulative_A</th>\n",
              "    </tr>\n",
              "  </thead>\n",
              "  <tbody>\n",
              "    <tr>\n",
              "      <th>0</th>\n",
              "      <td>2019-08-01</td>\n",
              "      <td>719</td>\n",
              "    </tr>\n",
              "    <tr>\n",
              "      <th>1</th>\n",
              "      <td>2019-08-02</td>\n",
              "      <td>1338</td>\n",
              "    </tr>\n",
              "    <tr>\n",
              "      <th>2</th>\n",
              "      <td>2019-08-03</td>\n",
              "      <td>1845</td>\n",
              "    </tr>\n",
              "    <tr>\n",
              "      <th>3</th>\n",
              "      <td>2019-08-04</td>\n",
              "      <td>2562</td>\n",
              "    </tr>\n",
              "    <tr>\n",
              "      <th>4</th>\n",
              "      <td>2019-08-05</td>\n",
              "      <td>3318</td>\n",
              "    </tr>\n",
              "  </tbody>\n",
              "</table>\n",
              "</div>"
            ],
            "text/plain": [
              "        date  visitors_cummulative_A\n",
              "0 2019-08-01                     719\n",
              "1 2019-08-02                    1338\n",
              "2 2019-08-03                    1845\n",
              "3 2019-08-04                    2562\n",
              "4 2019-08-05                    3318"
            ]
          },
          "metadata": {},
          "execution_count": 49
        }
      ]
    },
    {
      "cell_type": "code",
      "metadata": {
        "colab": {
          "base_uri": "https://localhost:8080/",
          "height": 204
        },
        "id": "zt5wYbj2CkVq",
        "outputId": "69bfb5c2-a693-4488-a699-c25ddb9a6a00"
      },
      "source": [
        "visitors_per_date_B = visitors[visitors['group'] == 'B'][['date', 'visitors']]\n",
        "visitors_per_date_B.columns = ['date', 'visitors_per_date_B']\n",
        "\n",
        "visitors_cummulative_B = visitors_per_date_B.apply(\n",
        "    lambda x: visitors_per_date_B[visitors_per_date_B['date'] <= x['date']].agg(\n",
        "        {'date': 'max', 'visitors_per_date_B': 'sum'}\n",
        "    ),\n",
        "    axis=1,\n",
        ")\n",
        "visitors_cummulative_B.columns = ['date', 'visitors_cummulative_B']\n",
        "\n",
        "visitors_cummulative_B.head()"
      ],
      "execution_count": 50,
      "outputs": [
        {
          "output_type": "execute_result",
          "data": {
            "text/html": [
              "<div>\n",
              "<style scoped>\n",
              "    .dataframe tbody tr th:only-of-type {\n",
              "        vertical-align: middle;\n",
              "    }\n",
              "\n",
              "    .dataframe tbody tr th {\n",
              "        vertical-align: top;\n",
              "    }\n",
              "\n",
              "    .dataframe thead th {\n",
              "        text-align: right;\n",
              "    }\n",
              "</style>\n",
              "<table border=\"1\" class=\"dataframe\">\n",
              "  <thead>\n",
              "    <tr style=\"text-align: right;\">\n",
              "      <th></th>\n",
              "      <th>date</th>\n",
              "      <th>visitors_cummulative_B</th>\n",
              "    </tr>\n",
              "  </thead>\n",
              "  <tbody>\n",
              "    <tr>\n",
              "      <th>31</th>\n",
              "      <td>2019-08-01</td>\n",
              "      <td>713</td>\n",
              "    </tr>\n",
              "    <tr>\n",
              "      <th>32</th>\n",
              "      <td>2019-08-02</td>\n",
              "      <td>1294</td>\n",
              "    </tr>\n",
              "    <tr>\n",
              "      <th>33</th>\n",
              "      <td>2019-08-03</td>\n",
              "      <td>1803</td>\n",
              "    </tr>\n",
              "    <tr>\n",
              "      <th>34</th>\n",
              "      <td>2019-08-04</td>\n",
              "      <td>2573</td>\n",
              "    </tr>\n",
              "    <tr>\n",
              "      <th>35</th>\n",
              "      <td>2019-08-05</td>\n",
              "      <td>3280</td>\n",
              "    </tr>\n",
              "  </tbody>\n",
              "</table>\n",
              "</div>"
            ],
            "text/plain": [
              "         date  visitors_cummulative_B\n",
              "31 2019-08-01                     713\n",
              "32 2019-08-02                    1294\n",
              "33 2019-08-03                    1803\n",
              "34 2019-08-04                    2573\n",
              "35 2019-08-05                    3280"
            ]
          },
          "metadata": {},
          "execution_count": 50
        }
      ]
    },
    {
      "cell_type": "code",
      "metadata": {
        "colab": {
          "base_uri": "https://localhost:8080/",
          "height": 204
        },
        "id": "pZXx5zizCvjS",
        "outputId": "7c342444-bb57-4b45-8f07-40a55e39da8f"
      },
      "source": [
        "orders.head()"
      ],
      "execution_count": 51,
      "outputs": [
        {
          "output_type": "execute_result",
          "data": {
            "text/html": [
              "<div>\n",
              "<style scoped>\n",
              "    .dataframe tbody tr th:only-of-type {\n",
              "        vertical-align: middle;\n",
              "    }\n",
              "\n",
              "    .dataframe tbody tr th {\n",
              "        vertical-align: top;\n",
              "    }\n",
              "\n",
              "    .dataframe thead th {\n",
              "        text-align: right;\n",
              "    }\n",
              "</style>\n",
              "<table border=\"1\" class=\"dataframe\">\n",
              "  <thead>\n",
              "    <tr style=\"text-align: right;\">\n",
              "      <th></th>\n",
              "      <th>transactionId</th>\n",
              "      <th>visitorId</th>\n",
              "      <th>date</th>\n",
              "      <th>revenue</th>\n",
              "      <th>group</th>\n",
              "    </tr>\n",
              "  </thead>\n",
              "  <tbody>\n",
              "    <tr>\n",
              "      <th>0</th>\n",
              "      <td>3667963787</td>\n",
              "      <td>3312258926</td>\n",
              "      <td>2019-08-15</td>\n",
              "      <td>1650</td>\n",
              "      <td>B</td>\n",
              "    </tr>\n",
              "    <tr>\n",
              "      <th>1</th>\n",
              "      <td>2804400009</td>\n",
              "      <td>3642806036</td>\n",
              "      <td>2019-08-15</td>\n",
              "      <td>730</td>\n",
              "      <td>B</td>\n",
              "    </tr>\n",
              "    <tr>\n",
              "      <th>3</th>\n",
              "      <td>3797467345</td>\n",
              "      <td>1196621759</td>\n",
              "      <td>2019-08-15</td>\n",
              "      <td>9759</td>\n",
              "      <td>B</td>\n",
              "    </tr>\n",
              "    <tr>\n",
              "      <th>4</th>\n",
              "      <td>2282983706</td>\n",
              "      <td>2322279887</td>\n",
              "      <td>2019-08-15</td>\n",
              "      <td>2308</td>\n",
              "      <td>B</td>\n",
              "    </tr>\n",
              "    <tr>\n",
              "      <th>5</th>\n",
              "      <td>182168103</td>\n",
              "      <td>935554773</td>\n",
              "      <td>2019-08-15</td>\n",
              "      <td>2210</td>\n",
              "      <td>B</td>\n",
              "    </tr>\n",
              "  </tbody>\n",
              "</table>\n",
              "</div>"
            ],
            "text/plain": [
              "   transactionId   visitorId       date  revenue group\n",
              "0     3667963787  3312258926 2019-08-15     1650     B\n",
              "1     2804400009  3642806036 2019-08-15      730     B\n",
              "3     3797467345  1196621759 2019-08-15     9759     B\n",
              "4     2282983706  2322279887 2019-08-15     2308     B\n",
              "5      182168103   935554773 2019-08-15     2210     B"
            ]
          },
          "metadata": {},
          "execution_count": 51
        }
      ]
    },
    {
      "cell_type": "code",
      "metadata": {
        "colab": {
          "base_uri": "https://localhost:8080/",
          "height": 204
        },
        "id": "mfsaf6isCqtW",
        "outputId": "d17c38f9-40de-4fa0-fc86-f1d4af3c617f"
      },
      "source": [
        "orders_per_date_A = (\n",
        "    orders[orders['group'] == 'A'][['date', 'transactionId', 'visitorId', 'revenue']]\n",
        "    .groupby('date', as_index=False)\n",
        "    .agg({'transactionId': pd.Series.nunique, 'revenue': 'sum'})\n",
        ")\n",
        "orders_per_date_A.columns = ['date', 'orders_per_date_A', 'revenue_per_date_A']\n",
        "\n",
        "orders_cummulative_A = orders_per_date_A.apply(\n",
        "    lambda x: orders_per_date_A[orders_per_date_A['date'] <= x['date']].agg(\n",
        "        {'date': 'max', 'orders_per_date_A': 'sum', 'revenue_per_date_A': 'sum'}\n",
        "    ),\n",
        "    axis=1,\n",
        ").sort_values(by=['date'])\n",
        "orders_cummulative_A.columns = [\n",
        "    'date',\n",
        "    'orders_cummulative_A',\n",
        "    'revenue_cummulative_A',\n",
        "]\n",
        "\n",
        "orders_cummulative_A.head()"
      ],
      "execution_count": 52,
      "outputs": [
        {
          "output_type": "execute_result",
          "data": {
            "text/html": [
              "<div>\n",
              "<style scoped>\n",
              "    .dataframe tbody tr th:only-of-type {\n",
              "        vertical-align: middle;\n",
              "    }\n",
              "\n",
              "    .dataframe tbody tr th {\n",
              "        vertical-align: top;\n",
              "    }\n",
              "\n",
              "    .dataframe thead th {\n",
              "        text-align: right;\n",
              "    }\n",
              "</style>\n",
              "<table border=\"1\" class=\"dataframe\">\n",
              "  <thead>\n",
              "    <tr style=\"text-align: right;\">\n",
              "      <th></th>\n",
              "      <th>date</th>\n",
              "      <th>orders_cummulative_A</th>\n",
              "      <th>revenue_cummulative_A</th>\n",
              "    </tr>\n",
              "  </thead>\n",
              "  <tbody>\n",
              "    <tr>\n",
              "      <th>0</th>\n",
              "      <td>2019-08-01</td>\n",
              "      <td>23</td>\n",
              "      <td>142779</td>\n",
              "    </tr>\n",
              "    <tr>\n",
              "      <th>1</th>\n",
              "      <td>2019-08-02</td>\n",
              "      <td>42</td>\n",
              "      <td>234381</td>\n",
              "    </tr>\n",
              "    <tr>\n",
              "      <th>2</th>\n",
              "      <td>2019-08-03</td>\n",
              "      <td>66</td>\n",
              "      <td>346854</td>\n",
              "    </tr>\n",
              "    <tr>\n",
              "      <th>3</th>\n",
              "      <td>2019-08-04</td>\n",
              "      <td>77</td>\n",
              "      <td>388030</td>\n",
              "    </tr>\n",
              "    <tr>\n",
              "      <th>4</th>\n",
              "      <td>2019-08-05</td>\n",
              "      <td>99</td>\n",
              "      <td>474413</td>\n",
              "    </tr>\n",
              "  </tbody>\n",
              "</table>\n",
              "</div>"
            ],
            "text/plain": [
              "        date  orders_cummulative_A  revenue_cummulative_A\n",
              "0 2019-08-01                    23                 142779\n",
              "1 2019-08-02                    42                 234381\n",
              "2 2019-08-03                    66                 346854\n",
              "3 2019-08-04                    77                 388030\n",
              "4 2019-08-05                    99                 474413"
            ]
          },
          "metadata": {},
          "execution_count": 52
        }
      ]
    },
    {
      "cell_type": "code",
      "metadata": {
        "colab": {
          "base_uri": "https://localhost:8080/",
          "height": 204
        },
        "id": "QEspt5wjC31b",
        "outputId": "683065ba-3801-47f1-91aa-e436f75a9b75"
      },
      "source": [
        "orders_per_date_B = (\n",
        "    orders[orders['group'] == 'B'][['date', 'transactionId', 'visitorId', 'revenue']]\n",
        "    .groupby('date', as_index=False)\n",
        "    .agg({'transactionId': pd.Series.nunique, 'revenue': 'sum'})\n",
        ")\n",
        "\n",
        "orders_per_date_B.columns = ['date', 'orders_per_date_B', 'revenue_per_date_B']\n",
        "\n",
        "orders_cummulative_B = orders_per_date_B.apply(\n",
        "    lambda x: orders_per_date_B[orders_per_date_B['date'] <= x['date']].agg(\n",
        "        {'date': 'max', 'orders_per_date_B': 'sum', 'revenue_per_date_B': 'sum'}\n",
        "    ),\n",
        "    axis=1,\n",
        ").sort_values(by=['date'])\n",
        "orders_cummulative_B.columns = [\n",
        "    'date',\n",
        "    'orders_cummulative_B',\n",
        "    'revenue_cummulative_B',\n",
        "]\n",
        "\n",
        "orders_cummulative_B.head()"
      ],
      "execution_count": 53,
      "outputs": [
        {
          "output_type": "execute_result",
          "data": {
            "text/html": [
              "<div>\n",
              "<style scoped>\n",
              "    .dataframe tbody tr th:only-of-type {\n",
              "        vertical-align: middle;\n",
              "    }\n",
              "\n",
              "    .dataframe tbody tr th {\n",
              "        vertical-align: top;\n",
              "    }\n",
              "\n",
              "    .dataframe thead th {\n",
              "        text-align: right;\n",
              "    }\n",
              "</style>\n",
              "<table border=\"1\" class=\"dataframe\">\n",
              "  <thead>\n",
              "    <tr style=\"text-align: right;\">\n",
              "      <th></th>\n",
              "      <th>date</th>\n",
              "      <th>orders_cummulative_B</th>\n",
              "      <th>revenue_cummulative_B</th>\n",
              "    </tr>\n",
              "  </thead>\n",
              "  <tbody>\n",
              "    <tr>\n",
              "      <th>0</th>\n",
              "      <td>2019-08-01</td>\n",
              "      <td>17</td>\n",
              "      <td>59758</td>\n",
              "    </tr>\n",
              "    <tr>\n",
              "      <th>1</th>\n",
              "      <td>2019-08-02</td>\n",
              "      <td>40</td>\n",
              "      <td>221801</td>\n",
              "    </tr>\n",
              "    <tr>\n",
              "      <th>2</th>\n",
              "      <td>2019-08-03</td>\n",
              "      <td>54</td>\n",
              "      <td>288850</td>\n",
              "    </tr>\n",
              "    <tr>\n",
              "      <th>3</th>\n",
              "      <td>2019-08-04</td>\n",
              "      <td>68</td>\n",
              "      <td>385740</td>\n",
              "    </tr>\n",
              "    <tr>\n",
              "      <th>4</th>\n",
              "      <td>2019-08-05</td>\n",
              "      <td>89</td>\n",
              "      <td>475648</td>\n",
              "    </tr>\n",
              "  </tbody>\n",
              "</table>\n",
              "</div>"
            ],
            "text/plain": [
              "        date  orders_cummulative_B  revenue_cummulative_B\n",
              "0 2019-08-01                    17                  59758\n",
              "1 2019-08-02                    40                 221801\n",
              "2 2019-08-03                    54                 288850\n",
              "3 2019-08-04                    68                 385740\n",
              "4 2019-08-05                    89                 475648"
            ]
          },
          "metadata": {},
          "execution_count": 53
        }
      ]
    },
    {
      "cell_type": "code",
      "metadata": {
        "colab": {
          "base_uri": "https://localhost:8080/",
          "height": 309
        },
        "id": "zmr0nIh1DmTr",
        "outputId": "505e94a1-547d-4047-d43f-8c16cf94e8a7"
      },
      "source": [
        "df = (\n",
        "    orders_per_date_A.merge(\n",
        "        orders_per_date_B, left_on='date', right_on='date', how='left'\n",
        "    )\n",
        "    .merge(orders_cummulative_A, left_on='date', right_on='date', how='left')\n",
        "    .merge(orders_cummulative_B, left_on='date', right_on='date', how='left')\n",
        "    .merge(visitors_per_date_A, left_on='date', right_on='date', how='left')\n",
        "    .merge(visitors_per_date_B, left_on='date', right_on='date', how='left')\n",
        "    .merge(visitors_cummulative_A, left_on='date', right_on='date', how='left')\n",
        "    .merge(visitors_cummulative_B, left_on='date', right_on='date', how='left')\n",
        ")\n",
        "\n",
        "df.head()"
      ],
      "execution_count": 54,
      "outputs": [
        {
          "output_type": "execute_result",
          "data": {
            "text/html": [
              "<div>\n",
              "<style scoped>\n",
              "    .dataframe tbody tr th:only-of-type {\n",
              "        vertical-align: middle;\n",
              "    }\n",
              "\n",
              "    .dataframe tbody tr th {\n",
              "        vertical-align: top;\n",
              "    }\n",
              "\n",
              "    .dataframe thead th {\n",
              "        text-align: right;\n",
              "    }\n",
              "</style>\n",
              "<table border=\"1\" class=\"dataframe\">\n",
              "  <thead>\n",
              "    <tr style=\"text-align: right;\">\n",
              "      <th></th>\n",
              "      <th>date</th>\n",
              "      <th>orders_per_date_A</th>\n",
              "      <th>revenue_per_date_A</th>\n",
              "      <th>orders_per_date_B</th>\n",
              "      <th>revenue_per_date_B</th>\n",
              "      <th>orders_cummulative_A</th>\n",
              "      <th>revenue_cummulative_A</th>\n",
              "      <th>orders_cummulative_B</th>\n",
              "      <th>revenue_cummulative_B</th>\n",
              "      <th>visitors_per_date_A</th>\n",
              "      <th>visitors_per_date_B</th>\n",
              "      <th>visitors_cummulative_A</th>\n",
              "      <th>visitors_cummulative_B</th>\n",
              "    </tr>\n",
              "  </thead>\n",
              "  <tbody>\n",
              "    <tr>\n",
              "      <th>0</th>\n",
              "      <td>2019-08-01</td>\n",
              "      <td>23</td>\n",
              "      <td>142779</td>\n",
              "      <td>17</td>\n",
              "      <td>59758</td>\n",
              "      <td>23</td>\n",
              "      <td>142779</td>\n",
              "      <td>17</td>\n",
              "      <td>59758</td>\n",
              "      <td>719</td>\n",
              "      <td>713</td>\n",
              "      <td>719</td>\n",
              "      <td>713</td>\n",
              "    </tr>\n",
              "    <tr>\n",
              "      <th>1</th>\n",
              "      <td>2019-08-02</td>\n",
              "      <td>19</td>\n",
              "      <td>91602</td>\n",
              "      <td>23</td>\n",
              "      <td>162043</td>\n",
              "      <td>42</td>\n",
              "      <td>234381</td>\n",
              "      <td>40</td>\n",
              "      <td>221801</td>\n",
              "      <td>619</td>\n",
              "      <td>581</td>\n",
              "      <td>1338</td>\n",
              "      <td>1294</td>\n",
              "    </tr>\n",
              "    <tr>\n",
              "      <th>2</th>\n",
              "      <td>2019-08-03</td>\n",
              "      <td>24</td>\n",
              "      <td>112473</td>\n",
              "      <td>14</td>\n",
              "      <td>67049</td>\n",
              "      <td>66</td>\n",
              "      <td>346854</td>\n",
              "      <td>54</td>\n",
              "      <td>288850</td>\n",
              "      <td>507</td>\n",
              "      <td>509</td>\n",
              "      <td>1845</td>\n",
              "      <td>1803</td>\n",
              "    </tr>\n",
              "    <tr>\n",
              "      <th>3</th>\n",
              "      <td>2019-08-04</td>\n",
              "      <td>11</td>\n",
              "      <td>41176</td>\n",
              "      <td>14</td>\n",
              "      <td>96890</td>\n",
              "      <td>77</td>\n",
              "      <td>388030</td>\n",
              "      <td>68</td>\n",
              "      <td>385740</td>\n",
              "      <td>717</td>\n",
              "      <td>770</td>\n",
              "      <td>2562</td>\n",
              "      <td>2573</td>\n",
              "    </tr>\n",
              "    <tr>\n",
              "      <th>4</th>\n",
              "      <td>2019-08-05</td>\n",
              "      <td>22</td>\n",
              "      <td>86383</td>\n",
              "      <td>21</td>\n",
              "      <td>89908</td>\n",
              "      <td>99</td>\n",
              "      <td>474413</td>\n",
              "      <td>89</td>\n",
              "      <td>475648</td>\n",
              "      <td>756</td>\n",
              "      <td>707</td>\n",
              "      <td>3318</td>\n",
              "      <td>3280</td>\n",
              "    </tr>\n",
              "  </tbody>\n",
              "</table>\n",
              "</div>"
            ],
            "text/plain": [
              "        date  orders_per_date_A  ...  visitors_cummulative_A  visitors_cummulative_B\n",
              "0 2019-08-01                 23  ...                     719                     713\n",
              "1 2019-08-02                 19  ...                    1338                    1294\n",
              "2 2019-08-03                 24  ...                    1845                    1803\n",
              "3 2019-08-04                 11  ...                    2562                    2573\n",
              "4 2019-08-05                 22  ...                    3318                    3280\n",
              "\n",
              "[5 rows x 13 columns]"
            ]
          },
          "metadata": {},
          "execution_count": 54
        }
      ]
    },
    {
      "cell_type": "markdown",
      "metadata": {
        "id": "ZOVg-NrC8-bf"
      },
      "source": [
        "Теперь можем непосредственно переходить к проверке статистических гипотез"
      ]
    },
    {
      "cell_type": "markdown",
      "metadata": {
        "id": "bpk6XD3TOjO2"
      },
      "source": [
        "<a href=\"#footer\">К содержанию</a>\n",
        "<footer id=\"footer\"></footer>\n",
        "\n",
        "---"
      ]
    },
    {
      "cell_type": "markdown",
      "metadata": {
        "id": "bB8XACkOBqhL"
      },
      "source": [
        "### Сырые данные"
      ]
    },
    {
      "cell_type": "markdown",
      "metadata": {
        "id": "RwZvc1BJsA3r"
      },
      "source": [
        "Создадим заготовки для удобства анализа после испытаний:"
      ]
    },
    {
      "cell_type": "code",
      "metadata": {
        "id": "w4E2_ioxsEra"
      },
      "source": [
        "p_val_list = []\n",
        "result_list = []\n",
        "rel_win_points = []\n",
        "test_name = []"
      ],
      "execution_count": 55,
      "outputs": []
    },
    {
      "cell_type": "markdown",
      "metadata": {
        "id": "geTpO9XUOYyZ"
      },
      "source": [
        "#### Конверсия"
      ]
    },
    {
      "cell_type": "markdown",
      "metadata": {
        "id": "DXZ5so75Bnpc"
      },
      "source": [
        "Посчитаем статистическую значимость различий в конверсии между группами по «сырым» данным — без удаления аномальных пользователей."
      ]
    },
    {
      "cell_type": "markdown",
      "metadata": {
        "id": "mmek7nVyEQeF"
      },
      "source": [
        "Создадим переменные `orders_by_users_A` и `orders_by_users_B` со столбцами `['visitorID', 'orders']`. В них для пользователей, которые заказывали хотя бы 1 раз, укажем число совершённых заказов."
      ]
    },
    {
      "cell_type": "code",
      "metadata": {
        "id": "niyUHkztsgA4"
      },
      "source": [
        "orders_by_users_A = (\n",
        "    orders[orders['group'] == 'A']\n",
        "    .groupby('visitorId', as_index=False)\n",
        "    .agg({'transactionId': pd.Series.nunique})\n",
        ")\n",
        "orders_by_users_A.columns = ['visitorId', 'orders']\n",
        "\n",
        "orders_by_users_B = (\n",
        "    orders[orders['group'] == 'B']\n",
        "    .groupby('visitorId', as_index=False)\n",
        "    .agg({'transactionId': pd.Series.nunique})\n",
        ")\n",
        "orders_by_users_B.columns = ['visitorId', 'orders'] "
      ],
      "execution_count": 56,
      "outputs": []
    },
    {
      "cell_type": "markdown",
      "metadata": {
        "id": "uBPmeTlSFCfn"
      },
      "source": [
        "Объявим переменные `sampleA` и `sampleB`, в которых пользователям из разных групп будет соответствовать количество заказов. Тем, кто ничего не заказал, будут соответствовать нули"
      ]
    },
    {
      "cell_type": "code",
      "metadata": {
        "id": "tgx_IHkbEzJf"
      },
      "source": [
        "sample_A = pd.concat(\n",
        "    [\n",
        "        orders_by_users_A['orders'],\n",
        "        pd.Series(\n",
        "            0,\n",
        "            index=np.arange(\n",
        "                df['visitors_per_date_A'].sum() - len(orders_by_users_A['orders'])\n",
        "            ),\n",
        "            name='orders',\n",
        "        ),\n",
        "    ],\n",
        "    axis=0,\n",
        ")\n",
        "\n",
        "sample_B = pd.concat(\n",
        "    [\n",
        "        orders_by_users_B['orders'],\n",
        "        pd.Series(\n",
        "            0,\n",
        "            index=np.arange(\n",
        "                df['visitors_per_date_B'].sum() - len(orders_by_users_B['orders'])\n",
        "            ),\n",
        "            name='orders',\n",
        "        ),\n",
        "    ],\n",
        "    axis=0,\n",
        ")\n"
      ],
      "execution_count": 57,
      "outputs": []
    },
    {
      "cell_type": "markdown",
      "metadata": {
        "id": "RiY4IL3rFUix"
      },
      "source": [
        "Теперь мы можем провести тест Манна-Уитни, порог обозначим как 5%:"
      ]
    },
    {
      "cell_type": "markdown",
      "metadata": {
        "id": "39qnU1TyNJsY"
      },
      "source": [
        "`H0 гипотеза`: статистически значимых различий в конверсии между группами нет  \n",
        "`H1 гипотеза`: статистически значимые различия в конверсии между группами есть"
      ]
    },
    {
      "cell_type": "code",
      "metadata": {
        "colab": {
          "base_uri": "https://localhost:8080/"
        },
        "id": "hxYBERglFRLE",
        "outputId": "a83992b8-4d7f-4fdd-c58b-fa266f88bee2"
      },
      "source": [
        "alpha = .05\n",
        "p_value = round(st.mannwhitneyu(sample_A, sample_B, alternative='two-sided')[1], 4)\n",
        "\n",
        "if p_value < alpha:\n",
        "    print(f'p-value {p_value} - Отвергаем Н0 гипотезу. Верна Н1 гипотеза')\n",
        "    result_list.append('Отвергаем Н0 гипотезу. Верна Н1 гипотеза')\n",
        "else:\n",
        "    print(f'p-value {p_value} - Не удалось отвергнуть Н0 гипотезу')\n",
        "    result_list.append('Не удалось отвергнуть Н0 гипотезу')\n",
        "\n",
        "mean_val = round(sample_B.mean() / sample_A.mean() - 1, 3) * 100\n",
        "print(f'Относительный выигрыш группы В - {mean_val} %')"
      ],
      "execution_count": 58,
      "outputs": [
        {
          "output_type": "stream",
          "name": "stdout",
          "text": [
            "p-value 0.011 - Отвергаем Н0 гипотезу. Верна Н1 гипотеза\n",
            "Относительный выигрыш группы В - 16.0 %\n"
          ]
        }
      ]
    },
    {
      "cell_type": "code",
      "metadata": {
        "id": "54XUy6wjsTuj"
      },
      "source": [
        "p_val_list.append(p_value)\n",
        "rel_win_points.append(mean_val)\n",
        "test_name.append('Сырые данные, конверсия')"
      ],
      "execution_count": 59,
      "outputs": []
    },
    {
      "cell_type": "markdown",
      "metadata": {
        "id": "Wp851d--OE1t"
      },
      "source": [
        "По «сырым» данным наблюдаем различия в конверсии групп A и B. Возможно это связано с выявленой аномалией - проведем проверку и по данным без аномалий"
      ]
    },
    {
      "cell_type": "markdown",
      "metadata": {
        "id": "p53ltAn-OkcA"
      },
      "source": [
        "<a href=\"#footer\">К содержанию</a>\n",
        "<footer id=\"footer\"></footer>\n",
        "\n",
        "---"
      ]
    },
    {
      "cell_type": "markdown",
      "metadata": {
        "id": "Baat_lhgObWw"
      },
      "source": [
        "#### Средний чек"
      ]
    },
    {
      "cell_type": "markdown",
      "metadata": {
        "id": "H-rXdMzaOdvH"
      },
      "source": [
        "Посмотрим статистическую значимость различий в среднем чеке заказа между группами по «сырым» данным"
      ]
    },
    {
      "cell_type": "markdown",
      "metadata": {
        "id": "ZWw8dH6KPh52"
      },
      "source": [
        "`H0 гипотеза`: статистически значимых различий в среднем чеке между сегментами нет   \n",
        "`H1 гипотеза`: статистически значимые различий в среднем чеке между сегментами есть "
      ]
    },
    {
      "cell_type": "code",
      "metadata": {
        "colab": {
          "base_uri": "https://localhost:8080/"
        },
        "id": "rNp4hVEmFZr-",
        "outputId": "4f14623e-4428-4569-d60e-7fe7f5ad3b2c"
      },
      "source": [
        "alpha = .05\n",
        "\n",
        "sample_A = orders[orders['group']=='A']['revenue']\n",
        "sample_B = orders[orders['group']=='B']['revenue']\n",
        "p_value = round(st.mannwhitneyu(sample_A, sample_B, alternative='two-sided')[1], 4)\n",
        "\n",
        "if p_value < alpha:\n",
        "    print(f'p-value {p_value} - Отвергаем Н0 гипотезу. Верна Н1 гипотеза')\n",
        "    result_list.append('Отвергаем Н0 гипотезу. Верна Н1 гипотеза')\n",
        "else:\n",
        "    print(f'p-value {p_value} - Не удалось отвергнуть Н0 гипотезу')\n",
        "    result_list.append('Не удалось отвергнуть Н0 гипотезу')\n",
        "\n",
        "mean_val = round(orders[orders['group']=='B']['revenue'].mean()/orders[orders['group']=='A']['revenue'].mean()-1, 3) * 100\n",
        "print(f'Относительный выигрыш группы В - {mean_val} %')"
      ],
      "execution_count": 60,
      "outputs": [
        {
          "output_type": "stream",
          "name": "stdout",
          "text": [
            "p-value 0.8295 - Не удалось отвергнуть Н0 гипотезу\n",
            "Относительный выигрыш группы В - 28.7 %\n"
          ]
        }
      ]
    },
    {
      "cell_type": "code",
      "metadata": {
        "id": "wNNGqao-tJtN"
      },
      "source": [
        "p_val_list.append(p_value)\n",
        "rel_win_points.append(mean_val)\n",
        "test_name.append('Сырые данные, средний чек')"
      ],
      "execution_count": 61,
      "outputs": []
    },
    {
      "cell_type": "markdown",
      "metadata": {
        "id": "PIAMC663PxQY"
      },
      "source": [
        "По «сырым» данным также наблюдаем различия в среднем чеке групп A и B. При этом группа В существенно превосходит группу А. Выводы делать не будем, пока не проведем исследований на очищенных от аномалий данных"
      ]
    },
    {
      "cell_type": "markdown",
      "metadata": {
        "id": "5obH6iw7QOVs"
      },
      "source": [
        "<a href=\"#footer\">К содержанию</a>\n",
        "<footer id=\"footer\"></footer>\n",
        "\n",
        "---"
      ]
    },
    {
      "cell_type": "markdown",
      "metadata": {
        "id": "OjivO0qyQRzt"
      },
      "source": [
        "### Очищенные данные"
      ]
    },
    {
      "cell_type": "code",
      "metadata": {
        "colab": {
          "base_uri": "https://localhost:8080/"
        },
        "id": "nu8PFFXuqBTB",
        "outputId": "c15344cc-b1ee-43c2-ade1-3711dd889022"
      },
      "source": [
        "print('Примем за аномальных пользователей тех, кто совершил больше'\n",
        "      f', чем {perc_ord[1]} заказа или совершил заказ дороже {perc[1]} рублей')"
      ],
      "execution_count": 62,
      "outputs": [
        {
          "output_type": "stream",
          "name": "stdout",
          "text": [
            "Примем за аномальных пользователей тех, кто совершил больше, чем 2.0 заказа или совершил заказ дороже 53904.0 рублей\n"
          ]
        }
      ]
    },
    {
      "cell_type": "markdown",
      "metadata": {
        "id": "uP7hbKgiSJHP"
      },
      "source": [
        "Узнаем, сколько всего аномальных пользователей"
      ]
    },
    {
      "cell_type": "code",
      "metadata": {
        "colab": {
          "base_uri": "https://localhost:8080/"
        },
        "id": "ZjYjpZd1Papl",
        "outputId": "577bfecf-a87d-45c0-b697-ccc84a5a21c5"
      },
      "source": [
        "users_with_many_orders = pd.concat(\n",
        "    [\n",
        "        orders_by_users_A[orders_by_users_A['orders'] >= perc_ord[1]]['visitorId'],\n",
        "        orders_by_users_B[orders_by_users_B['orders'] >= perc_ord[1]]['visitorId'],\n",
        "    ],\n",
        "    axis=0,\n",
        ")\n",
        "users_with_expensive_orders = orders[orders['revenue'] > perc[1]]['visitorId']\n",
        "abnormal_users = (\n",
        "    pd.concat([users_with_many_orders, users_with_expensive_orders], axis=0)\n",
        "    .drop_duplicates()\n",
        "    .sort_values()\n",
        ")\n",
        "\n",
        "print(f'Количество аномальных пользователей: {abnormal_users.shape[0]} человек')"
      ],
      "execution_count": 63,
      "outputs": [
        {
          "output_type": "stream",
          "name": "stdout",
          "text": [
            "Количество аномальных пользователей: 45 человек\n"
          ]
        }
      ]
    },
    {
      "cell_type": "markdown",
      "metadata": {
        "id": "XAzZGbkPSGrY"
      },
      "source": [
        "Узнаем, как их действия повлияли на результаты теста. Посчитаем статистическую значимость различий в конверсии между группами теста по очищенным данным. Сначала подготовим выборки количества заказов по пользователям по группам теста"
      ]
    },
    {
      "cell_type": "code",
      "metadata": {
        "id": "wWSXcYAqRoZv"
      },
      "source": [
        "sample_A_filtered = pd.concat(\n",
        "    [\n",
        "        orders_by_users_A[\n",
        "            np.logical_not(orders_by_users_A['visitorId'].isin(abnormal_users))\n",
        "        ]['orders'],\n",
        "        pd.Series(\n",
        "            0,\n",
        "            index=np.arange(\n",
        "                df['visitors_per_date_A'].sum() - len(orders_by_users_A['orders'])\n",
        "            ),\n",
        "            name='orders',\n",
        "        ),\n",
        "    ],\n",
        "    axis=0,\n",
        ")\n",
        "\n",
        "sample_B_filtered = pd.concat(\n",
        "    [\n",
        "        orders_by_users_B[\n",
        "            np.logical_not(orders_by_users_B['visitorId'].isin(abnormal_users))\n",
        "        ]['orders'],\n",
        "        pd.Series(\n",
        "            0,\n",
        "            index=np.arange(\n",
        "                df['visitors_per_date_B'].sum() - len(orders_by_users_B['orders'])\n",
        "            ),\n",
        "            name='orders',\n",
        "        ),\n",
        "    ],\n",
        "    axis=0,\n",
        ") "
      ],
      "execution_count": 64,
      "outputs": []
    },
    {
      "cell_type": "markdown",
      "metadata": {
        "id": "KShpakrtT0lu"
      },
      "source": [
        "Применим статистический критерий Манна-Уитни к полученным выборкам:"
      ]
    },
    {
      "cell_type": "markdown",
      "metadata": {
        "id": "pu5tbPDpYBDz"
      },
      "source": [
        "`H0 гипотеза`: статистически значимых различий в конверсии между группами нет  \n",
        "`H1 гипотеза`: статистически значимые различия в конверсии между группами есть"
      ]
    },
    {
      "cell_type": "code",
      "metadata": {
        "colab": {
          "base_uri": "https://localhost:8080/"
        },
        "id": "wSm45qhIYFdX",
        "outputId": "916aa641-eeb0-4f82-b74a-2c8ef3e1aaf3"
      },
      "source": [
        "alpha = .05\n",
        "p_value = round(st.mannwhitneyu(sample_A_filtered, sample_B_filtered, alternative='two-sided')[1], 5)\n",
        "\n",
        "if p_value < alpha:\n",
        "    print(f'p-value {p_value} - Отвергаем Н0 гипотезу. Верна Н1 гипотеза')\n",
        "    result_list.append('Отвергаем Н0 гипотезу. Верна Н1 гипотеза')\n",
        "else:\n",
        "    print(f'p-value {p_value} - Не удалось отвергнуть Н0 гипотезу')\n",
        "    result_list.append('Не удалось отвергнуть Н0 гипотезу')\n",
        "\n",
        "mean_val = round(sample_B_filtered.mean()/sample_A_filtered.mean()-1, 3) * 100\n",
        "print(f'Относительный выигрыш группы В - {mean_val} %')"
      ],
      "execution_count": 65,
      "outputs": [
        {
          "output_type": "stream",
          "name": "stdout",
          "text": [
            "p-value 0.0082 - Отвергаем Н0 гипотезу. Верна Н1 гипотеза\n",
            "Относительный выигрыш группы В - 18.8 %\n"
          ]
        }
      ]
    },
    {
      "cell_type": "code",
      "metadata": {
        "id": "jNgcq9lDtQsu"
      },
      "source": [
        "p_val_list.append(p_value)\n",
        "rel_win_points.append(mean_val)\n",
        "test_name.append('Очищенные данные, конверсия')"
      ],
      "execution_count": 66,
      "outputs": []
    },
    {
      "cell_type": "markdown",
      "metadata": {
        "id": "fK-G9R3QYWCn"
      },
      "source": [
        "Мы также отвергли нулевую гипотезу - при этом уменьшился относительный выигрыш группы В - ведь мы убрали аномалии"
      ]
    },
    {
      "cell_type": "markdown",
      "metadata": {
        "id": "AVEiuprBT3Yy"
      },
      "source": [
        "Посмотрим результаты по среднему чеку"
      ]
    },
    {
      "cell_type": "code",
      "metadata": {
        "colab": {
          "base_uri": "https://localhost:8080/"
        },
        "id": "Q-LyQYyOTZ4M",
        "outputId": "5c62285b-9b54-4e6b-f032-505280689188"
      },
      "source": [
        "pvalue = float(\n",
        "    '{0:.3f}'.format(\n",
        "        st.mannwhitneyu(\n",
        "            orders[\n",
        "                np.logical_and(\n",
        "                    orders['group'] == 'A',\n",
        "                    np.logical_not(orders['visitorId'].isin(abnormal_users)),\n",
        "                )\n",
        "            ]['revenue'],\n",
        "            orders[\n",
        "                np.logical_and(\n",
        "                    orders['group'] == 'B',\n",
        "                    np.logical_not(orders['visitorId'].isin(abnormal_users)),\n",
        "                )\n",
        "            ]['revenue'],\n",
        "        alternative='two-sided')[1]\n",
        "    )\n",
        ")\n",
        "\n",
        "if pvalue < alpha:\n",
        "    print(f'p-value {pvalue} - Отвергаем Н0 гипотезу. Верна Н1 гипотеза')\n",
        "    result_list.append('Отвергаем Н0 гипотезу. Верна Н1 гипотеза')\n",
        "else:\n",
        "    print(f'p-value {pvalue} - Не удалось отвергнуть Н0 гипотезу')\n",
        "    result_list.append('Не удалось отвергнуть Н0 гипотезу')\n",
        "\n",
        "\n",
        "mean_val = round(\n",
        "\n",
        "        orders[\n",
        "            np.logical_and(\n",
        "                orders['group'] == 'B',\n",
        "                np.logical_not(orders['visitorId'].isin(abnormal_users)),\n",
        "            )\n",
        "        ]['revenue'].mean()\n",
        "        / orders[\n",
        "            np.logical_and(\n",
        "                orders['group'] == 'A',\n",
        "                np.logical_not(orders['visitorId'].isin(abnormal_users)),\n",
        "            )\n",
        "        ]['revenue'].mean()\n",
        "        - 1, 4\n",
        "    ) * 100\n",
        "\n",
        "\n",
        "\n",
        "print(f'Относительный выигрыш группы В {mean_val}')"
      ],
      "execution_count": 67,
      "outputs": [
        {
          "output_type": "stream",
          "name": "stdout",
          "text": [
            "p-value 0.969 - Не удалось отвергнуть Н0 гипотезу\n",
            "Относительный выигрыш группы В 0.24\n"
          ]
        }
      ]
    },
    {
      "cell_type": "code",
      "metadata": {
        "id": "3etejwhPtZSO"
      },
      "source": [
        "p_val_list.append(pvalue)\n",
        "rel_win_points.append(mean_val)\n",
        "test_name.append('Очищенные данные, средний чек')"
      ],
      "execution_count": 68,
      "outputs": []
    },
    {
      "cell_type": "markdown",
      "metadata": {
        "id": "o4cNZ0JqwOOi"
      },
      "source": [
        "<a href=\"#footer\">К содержанию</a>\n",
        "<footer id=\"footer\"></footer>\n",
        "\n",
        "---"
      ]
    },
    {
      "cell_type": "markdown",
      "metadata": {
        "id": "h0Euo0bwvjM5"
      },
      "source": [
        "Соберем наши результаты в таблицу для удобства анализа:"
      ]
    },
    {
      "cell_type": "code",
      "metadata": {
        "id": "77HqFmaJtwzK"
      },
      "source": [
        "summary = pd.DataFrame({ \n",
        "    'Тест' : test_name , \n",
        "    'Относительный выигрыш, %' : rel_win_points ,\n",
        "    'P значение' : p_val_list , \n",
        "    'Результат' : result_list}\n",
        "    )\n"
      ],
      "execution_count": 69,
      "outputs": []
    },
    {
      "cell_type": "code",
      "metadata": {
        "colab": {
          "base_uri": "https://localhost:8080/",
          "height": 173
        },
        "id": "JypgyKd4ZZDp",
        "outputId": "e83e2c74-44b9-4e8b-9ece-419588decd3d"
      },
      "source": [
        "summary"
      ],
      "execution_count": 70,
      "outputs": [
        {
          "output_type": "execute_result",
          "data": {
            "text/html": [
              "<div>\n",
              "<style scoped>\n",
              "    .dataframe tbody tr th:only-of-type {\n",
              "        vertical-align: middle;\n",
              "    }\n",
              "\n",
              "    .dataframe tbody tr th {\n",
              "        vertical-align: top;\n",
              "    }\n",
              "\n",
              "    .dataframe thead th {\n",
              "        text-align: right;\n",
              "    }\n",
              "</style>\n",
              "<table border=\"1\" class=\"dataframe\">\n",
              "  <thead>\n",
              "    <tr style=\"text-align: right;\">\n",
              "      <th></th>\n",
              "      <th>Тест</th>\n",
              "      <th>Относительный выигрыш, %</th>\n",
              "      <th>P значение</th>\n",
              "      <th>Результат</th>\n",
              "    </tr>\n",
              "  </thead>\n",
              "  <tbody>\n",
              "    <tr>\n",
              "      <th>0</th>\n",
              "      <td>Сырые данные, конверсия</td>\n",
              "      <td>16.00</td>\n",
              "      <td>0.0110</td>\n",
              "      <td>Отвергаем Н0 гипотезу. Верна Н1 гипотеза</td>\n",
              "    </tr>\n",
              "    <tr>\n",
              "      <th>1</th>\n",
              "      <td>Сырые данные, средний чек</td>\n",
              "      <td>28.70</td>\n",
              "      <td>0.8295</td>\n",
              "      <td>Не удалось отвергнуть Н0 гипотезу</td>\n",
              "    </tr>\n",
              "    <tr>\n",
              "      <th>2</th>\n",
              "      <td>Очищенные данные, конверсия</td>\n",
              "      <td>18.80</td>\n",
              "      <td>0.0082</td>\n",
              "      <td>Отвергаем Н0 гипотезу. Верна Н1 гипотеза</td>\n",
              "    </tr>\n",
              "    <tr>\n",
              "      <th>3</th>\n",
              "      <td>Очищенные данные, средний чек</td>\n",
              "      <td>0.24</td>\n",
              "      <td>0.9690</td>\n",
              "      <td>Не удалось отвергнуть Н0 гипотезу</td>\n",
              "    </tr>\n",
              "  </tbody>\n",
              "</table>\n",
              "</div>"
            ],
            "text/plain": [
              "                            Тест  ...                                 Результат\n",
              "0        Сырые данные, конверсия  ...  Отвергаем Н0 гипотезу. Верна Н1 гипотеза\n",
              "1      Сырые данные, средний чек  ...         Не удалось отвергнуть Н0 гипотезу\n",
              "2    Очищенные данные, конверсия  ...  Отвергаем Н0 гипотезу. Верна Н1 гипотеза\n",
              "3  Очищенные данные, средний чек  ...         Не удалось отвергнуть Н0 гипотезу\n",
              "\n",
              "[4 rows x 4 columns]"
            ]
          },
          "metadata": {},
          "execution_count": 70
        }
      ]
    },
    {
      "cell_type": "markdown",
      "metadata": {
        "id": "Th5dKPSHvvV5"
      },
      "source": [
        "Мы видим, что убрав выбросы, мы повлияли на относительный выигрыш одной группы над другой, изменили p-value, но при этом на результаты итоговые - это не повлияло. Группа `В` - лидирует в тесте"
      ]
    },
    {
      "cell_type": "markdown",
      "metadata": {
        "id": "26bFFtIWwPJ2"
      },
      "source": [
        "<a href=\"#footer\">К содержанию</a>\n",
        "<footer id=\"footer\"></footer>\n",
        "\n",
        "---"
      ]
    },
    {
      "cell_type": "markdown",
      "metadata": {
        "id": "Zm7UqMrBwJ4a"
      },
      "source": [
        "## Выводы"
      ]
    },
    {
      "cell_type": "markdown",
      "metadata": {
        "id": "Fl9W5IiKwanb"
      },
      "source": [
        "Есть статистически значимое различие по конверсии между группами как по сырым данным, так и после фильтрации аномалий.\n",
        "\n",
        "Нет статистически значимого различие по величине среднего чека между группами как по сырым данным, так и после фильтрации аномалий.\n",
        "\n",
        "[График](#graf) различия конверсии между группами сообщает, что результаты группы B лучше группы A: имеют тенденцию к росту."
      ]
    },
    {
      "cell_type": "code",
      "metadata": {
        "colab": {
          "base_uri": "https://localhost:8080/",
          "height": 386
        },
        "id": "krC6uCj5wlSw",
        "outputId": "846bb37f-5a9e-45e0-e7ec-fc47477e98e5"
      },
      "source": [
        "merged_cumulative_conversions = (cumulative_data_A[['date','conversion']]\n",
        "                               .merge(cumulative_data_B[['date','conversion']]\n",
        "                                      , left_on='date'\n",
        "                                      , right_on='date'\n",
        "                                      , how='left'\n",
        "                                      , suffixes=['A', 'B'])\n",
        "                               )\n",
        "\n",
        "cumm_convesrion = merged_cumulative_conversions['conversionB']/merged_cumulative_conversions['conversionA']-1\n",
        "plt.figure(figsize=(15, 5))\n",
        "plt.plot(merged_cumulative_conversions['date'], \n",
        "         cumm_convesrion , \n",
        "         label=\"Относительный прирост конверсии группы B относительно группы A\")\n",
        "plt.legend()\n",
        "\n",
        "plt.axhline(y=0, color='black', linestyle='--')\n",
        "plt.axhline(y=0.16, color='grey', linestyle='--')\n",
        "plt.axis([min_, max_, -0.6, 0.6])\n",
        "plt.xticks(rotation=42)\n",
        "\n",
        "plt.xlabel('Дата наблюдения')\n",
        "plt.ylabel('Относительное изменение кумулятивной конверсии')\n",
        "\n",
        "plt.title('График относительного изменения кумулятивной конверсии группы B к группе A')\n",
        "plt.show()"
      ],
      "execution_count": 71,
      "outputs": [
        {
          "output_type": "display_data",
          "data": {
            "image/png": "[encoded data removed]",
            "text/plain": [
              "<Figure size 1080x360 with 1 Axes>"
            ]
          },
          "metadata": {
            "needs_background": "light"
          }
        }
      ]
    },
    {
      "cell_type": "markdown",
      "metadata": {
        "id": "pynP6babw9QK"
      },
      "source": [
        "[График](#graf_check) различия среднего чека колеблется. Были найдены аномалии и мы их убрали в ходе исследования - статистическую значимость считали как на сырых данных, так и на данных очищенных"
      ]
    },
    {
      "cell_type": "code",
      "metadata": {
        "colab": {
          "base_uri": "https://localhost:8080/",
          "height": 386
        },
        "id": "lyxhrd8dwz5F",
        "outputId": "ec2cf3ed-b721-4730-f3aa-1944bdd1bd60"
      },
      "source": [
        "merged_cumulative_revenue = (cumulative_revenue_A\n",
        "                           .merge(cumulative_revenue_B, \n",
        "                                  left_on='date'\n",
        "                                  , right_on='date'\n",
        "                                  , how='left'\n",
        "                                  , suffixes=['A', 'B'])\n",
        "                           )\n",
        "rel_cumulative = ((merged_cumulative_revenue['revenueB']/merged_cumulative_revenue['ordersB'])\n",
        "                  /(merged_cumulative_revenue['revenueA']/merged_cumulative_revenue['ordersA'])-1)\n",
        "\n",
        "plt.figure(figsize=(15, 5))\n",
        "plt.plot(merged_cumulative_revenue['date'], rel_cumulative)\n",
        "plt.axhline(y=0, color='black', linestyle='--')\n",
        "plt.xlabel('Дата наблюдения')\n",
        "plt.ylabel('Относительное изменение кумулятивного среднего')\n",
        "plt.xticks(rotation=42)\n",
        "plt.title('График относительного изменения кумулятивного среднего чека группы B к группе A')\n",
        "plt.show()"
      ],
      "execution_count": 72,
      "outputs": [
        {
          "output_type": "display_data",
          "data": {
            "image/png": "[encoded data removed]",
            "text/plain": [
              "<Figure size 1080x360 with 1 Axes>"
            ]
          },
          "metadata": {
            "needs_background": "light"
          }
        }
      ]
    },
    {
      "cell_type": "markdown",
      "metadata": {
        "id": "e66n_Z_HxJoM"
      },
      "source": [
        "Исходя из вышеназванных результатов, приходим к выводу, что тест можно остановить. Группа В лидирует перед группой А, статистическая значимость есть и доказана. Можем переходить к тестированию другой гипотезы.  \n",
        "\n",
        "\n",
        "**ОБРАТИТЬ ВНИМАНИЕ**. Одни и теже пользователи попали в группы А и В - необходимо провести проверку сегментации трафика"
      ]
    },
    {
      "cell_type": "markdown",
      "metadata": {
        "id": "Ae0v5537xgUr"
      },
      "source": [
        "<a href=\"#footer\">К содержанию</a>\n",
        "<footer id=\"footer\"></footer>\n",
        "\n",
        "---"
      ]
    }
  ]
}